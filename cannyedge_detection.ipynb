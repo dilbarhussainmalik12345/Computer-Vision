{
 "cells": [
  {
   "cell_type": "code",
   "execution_count": 1,
   "id": "acb08e9d",
   "metadata": {},
   "outputs": [],
   "source": [
    "import cv2 as cv \n",
    "import matplotlib.pyplot as plt \n",
    "import numpy as np\n",
    "import os "
   ]
  },
  {
   "cell_type": "code",
   "execution_count": 3,
   "id": "c55eb806",
   "metadata": {},
   "outputs": [
    {
     "ename": "error",
     "evalue": "OpenCV(4.8.0) D:\\a\\opencv-python\\opencv-python\\opencv\\modules\\highgui\\src\\window_w32.cpp:2561: error: (-27:Null pointer) NULL window: 'canny' in function 'cvGetTrackbarPos'\n",
     "output_type": "error",
     "traceback": [
      "\u001b[1;31m---------------------------------------------------------------------------\u001b[0m",
      "\u001b[1;31merror\u001b[0m                                     Traceback (most recent call last)",
      "Cell \u001b[1;32mIn[3], line 34\u001b[0m\n\u001b[0;32m     31\u001b[0m     cv\u001b[38;5;241m.\u001b[39mdestroyAllWindows()\n\u001b[0;32m     33\u001b[0m \u001b[38;5;28;01mif\u001b[39;00m \u001b[38;5;18m__name__\u001b[39m \u001b[38;5;241m==\u001b[39m \u001b[38;5;124m'\u001b[39m\u001b[38;5;124m__main__\u001b[39m\u001b[38;5;124m'\u001b[39m: \n\u001b[1;32m---> 34\u001b[0m     cannyEdge()\n",
      "Cell \u001b[1;32mIn[3], line 25\u001b[0m, in \u001b[0;36mcannyEdge\u001b[1;34m()\u001b[0m\n\u001b[0;32m     22\u001b[0m \u001b[38;5;28;01mif\u001b[39;00m cv\u001b[38;5;241m.\u001b[39mwaitKey(\u001b[38;5;241m1\u001b[39m) \u001b[38;5;241m==\u001b[39m \u001b[38;5;28mord\u001b[39m(\u001b[38;5;124m'\u001b[39m\u001b[38;5;124mq\u001b[39m\u001b[38;5;124m'\u001b[39m): \n\u001b[0;32m     23\u001b[0m     \u001b[38;5;28;01mbreak\u001b[39;00m\n\u001b[1;32m---> 25\u001b[0m minThres \u001b[38;5;241m=\u001b[39m cv\u001b[38;5;241m.\u001b[39mgetTrackbarPos(\u001b[38;5;124m'\u001b[39m\u001b[38;5;124mminThres\u001b[39m\u001b[38;5;124m'\u001b[39m,winname)\n\u001b[0;32m     26\u001b[0m maxThres \u001b[38;5;241m=\u001b[39m cv\u001b[38;5;241m.\u001b[39mgetTrackbarPos(\u001b[38;5;124m'\u001b[39m\u001b[38;5;124mmaxThres\u001b[39m\u001b[38;5;124m'\u001b[39m,winname)\n\u001b[0;32m     27\u001b[0m cannyEdge \u001b[38;5;241m=\u001b[39m cv\u001b[38;5;241m.\u001b[39mCanny(img,minThres,maxThres)\n",
      "\u001b[1;31merror\u001b[0m: OpenCV(4.8.0) D:\\a\\opencv-python\\opencv-python\\opencv\\modules\\highgui\\src\\window_w32.cpp:2561: error: (-27:Null pointer) NULL window: 'canny' in function 'cvGetTrackbarPos'\n"
     ]
    }
   ],
   "source": [
    "def callback(input): \n",
    "    pass \n",
    "\n",
    "def cannyEdge(): \n",
    "    root = os.getcwd() \n",
    "    imgPath = os.path.join(root,'C:\\\\Users\\\\Asad Computrs\\\\Downloads\\\\opencv-python-tutorials-main\\\\opencv-python-tutorials-main\\\\demoImages\\\\tesla.jpg')\n",
    "    img = cv.imread(imgPath)\n",
    "    img = cv.cvtColor(img,cv.COLOR_BGR2RGB)\n",
    "\n",
    "    height,width,_ = img.shape\n",
    "    scale = 1/5\n",
    "    heightScale = int(height*scale)\n",
    "    widthScale = int(width*scale)\n",
    "    img = cv.resize(img,(widthScale,heightScale),interpolation=cv.INTER_LINEAR)\n",
    "\n",
    "    winname = 'canny'\n",
    "    cv.namedWindow(winname)\n",
    "    cv.createTrackbar('minThres',winname,0,255,callback)\n",
    "    cv.createTrackbar('maxThres',winname,0,255,callback)\n",
    "\n",
    "    while True: \n",
    "        if cv.waitKey(1) == ord('q'): \n",
    "            break\n",
    "\n",
    "        minThres = cv.getTrackbarPos('minThres',winname)\n",
    "        maxThres = cv.getTrackbarPos('maxThres',winname)\n",
    "        cannyEdge = cv.Canny(img,minThres,maxThres)\n",
    "\n",
    "        cv.imshow(winname,cannyEdge)\n",
    "\n",
    "    cv.destroyAllWindows()\n",
    "\n",
    "if __name__ == '__main__': \n",
    "    cannyEdge() \n"
   ]
  },
  {
   "cell_type": "code",
   "execution_count": null,
   "id": "af0cdba9",
   "metadata": {},
   "outputs": [],
   "source": []
  }
 ],
 "metadata": {
  "kernelspec": {
   "display_name": "Python 3 (ipykernel)",
   "language": "python",
   "name": "python3"
  },
  "language_info": {
   "codemirror_mode": {
    "name": "ipython",
    "version": 3
   },
   "file_extension": ".py",
   "mimetype": "text/x-python",
   "name": "python",
   "nbconvert_exporter": "python",
   "pygments_lexer": "ipython3",
   "version": "3.11.3"
  }
 },
 "nbformat": 4,
 "nbformat_minor": 5
}
