{
  "nbformat": 4,
  "nbformat_minor": 0,
  "metadata": {
    "colab": {
      "provenance": [],
      "gpuType": "T4"
    },
    "kernelspec": {
      "name": "python3",
      "display_name": "Python 3"
    },
    "language_info": {
      "name": "python"
    },
    "accelerator": "GPU",
    "gpuClass": "standard"
  },
  "cells": [
    {
      "cell_type": "code",
      "execution_count": null,
      "metadata": {
        "colab": {
          "base_uri": "https://localhost:8080/"
        },
        "id": "R6pdTviMR4fl",
        "outputId": "7ec5716f-e1c3-4b73-f303-e8e54663bdb2"
      },
      "outputs": [
        {
          "output_type": "stream",
          "name": "stdout",
          "text": [
            "\t\t\tWelcome To Deep Learning Model using Keras\n"
          ]
        }
      ],
      "source": [
        "print(\"\\t\\t\\tWelcome To Deep Learning Model using Keras\")"
      ]
    },
    {
      "cell_type": "code",
      "source": [
        "import pandas as pd"
      ],
      "metadata": {
        "id": "F9rtGYLWSIkU"
      },
      "execution_count": null,
      "outputs": []
    },
    {
      "cell_type": "code",
      "source": [
        "data = pd.read_csv('/content/drive/MyDrive/python/Pima.csv')"
      ],
      "metadata": {
        "id": "8FMBOfv1SaI5"
      },
      "execution_count": null,
      "outputs": []
    },
    {
      "cell_type": "code",
      "source": [
        "x = data.drop(\"Outcome\", axis = 1)"
      ],
      "metadata": {
        "id": "0k3mXaLwTDQH"
      },
      "execution_count": null,
      "outputs": []
    },
    {
      "cell_type": "code",
      "source": [
        "y = data[\"Outcome\"]"
      ],
      "metadata": {
        "id": "Sfrwl9YnTNKG"
      },
      "execution_count": null,
      "outputs": []
    },
    {
      "cell_type": "code",
      "source": [
        "# Define a Model\n",
        "from keras.models import Sequential"
      ],
      "metadata": {
        "id": "4eb0VprzTVi9"
      },
      "execution_count": null,
      "outputs": []
    },
    {
      "cell_type": "code",
      "source": [
        "from keras.layers import Dense"
      ],
      "metadata": {
        "id": "R5ieVEtoTg5V"
      },
      "execution_count": null,
      "outputs": []
    },
    {
      "cell_type": "code",
      "source": [
        "model = Sequential()"
      ],
      "metadata": {
        "id": "6d4deDTKTmuW"
      },
      "execution_count": null,
      "outputs": []
    },
    {
      "cell_type": "code",
      "source": [
        "model.add(Dense(12, input_dim = 8, activation = \"relu\"))"
      ],
      "metadata": {
        "id": "DUytN04RTrtY"
      },
      "execution_count": null,
      "outputs": []
    },
    {
      "cell_type": "code",
      "source": [
        "model.add(Dense(1, activation = \"sigmoid\"))"
      ],
      "metadata": {
        "id": "jWXPn6yPT8mQ"
      },
      "execution_count": null,
      "outputs": []
    },
    {
      "cell_type": "code",
      "source": [
        "# Complie a Model\n",
        "model.compile(loss = \"binary_crossentropy\", optimizer = \"adam\", metrics = [\"accuracy\"])"
      ],
      "metadata": {
        "id": "T1rzvuAkUIz4"
      },
      "execution_count": null,
      "outputs": []
    },
    {
      "cell_type": "code",
      "source": [
        "# Training Model\n",
        "model.fit(x, y, epochs = 150, batch_size = 10)"
      ],
      "metadata": {
        "colab": {
          "base_uri": "https://localhost:8080/"
        },
        "id": "RXBNDRetVGB_",
        "outputId": "a8c2e16e-5643-4e04-b605-a07ab7199705"
      },
      "execution_count": null,
      "outputs": [
        {
          "output_type": "stream",
          "name": "stdout",
          "text": [
            "Epoch 1/150\n",
            "30/30 [==============================] - 6s 7ms/step - loss: 5.2279 - accuracy: 0.5117\n",
            "Epoch 2/150\n",
            "30/30 [==============================] - 0s 6ms/step - loss: 4.1924 - accuracy: 0.5184\n",
            "Epoch 3/150\n",
            "30/30 [==============================] - 0s 6ms/step - loss: 3.4196 - accuracy: 0.4883\n",
            "Epoch 4/150\n",
            "30/30 [==============================] - 0s 4ms/step - loss: 2.7481 - accuracy: 0.5351\n",
            "Epoch 5/150\n",
            "30/30 [==============================] - 0s 4ms/step - loss: 2.3149 - accuracy: 0.5117\n",
            "Epoch 6/150\n",
            "30/30 [==============================] - 0s 5ms/step - loss: 1.9523 - accuracy: 0.5251\n",
            "Epoch 7/150\n",
            "30/30 [==============================] - 0s 4ms/step - loss: 1.6696 - accuracy: 0.5418\n",
            "Epoch 8/150\n",
            "30/30 [==============================] - 0s 5ms/step - loss: 1.5288 - accuracy: 0.5819\n",
            "Epoch 9/150\n",
            "30/30 [==============================] - 0s 4ms/step - loss: 1.3950 - accuracy: 0.5652\n",
            "Epoch 10/150\n",
            "30/30 [==============================] - 0s 4ms/step - loss: 1.2200 - accuracy: 0.5819\n",
            "Epoch 11/150\n",
            "30/30 [==============================] - 0s 4ms/step - loss: 1.1534 - accuracy: 0.5853\n",
            "Epoch 12/150\n",
            "30/30 [==============================] - 0s 4ms/step - loss: 1.0512 - accuracy: 0.5518\n",
            "Epoch 13/150\n",
            "30/30 [==============================] - 0s 4ms/step - loss: 1.0019 - accuracy: 0.5853\n",
            "Epoch 14/150\n",
            "30/30 [==============================] - 0s 4ms/step - loss: 0.9176 - accuracy: 0.6054\n",
            "Epoch 15/150\n",
            "30/30 [==============================] - 0s 4ms/step - loss: 0.8476 - accuracy: 0.6154\n",
            "Epoch 16/150\n",
            "30/30 [==============================] - 0s 4ms/step - loss: 0.7939 - accuracy: 0.5953\n",
            "Epoch 17/150\n",
            "30/30 [==============================] - 0s 4ms/step - loss: 0.7754 - accuracy: 0.6087\n",
            "Epoch 18/150\n",
            "30/30 [==============================] - 0s 6ms/step - loss: 0.7532 - accuracy: 0.6187\n",
            "Epoch 19/150\n",
            "30/30 [==============================] - 0s 5ms/step - loss: 0.7287 - accuracy: 0.6120\n",
            "Epoch 20/150\n",
            "30/30 [==============================] - 0s 5ms/step - loss: 0.7036 - accuracy: 0.6288\n",
            "Epoch 21/150\n",
            "30/30 [==============================] - 0s 4ms/step - loss: 0.6871 - accuracy: 0.6555\n",
            "Epoch 22/150\n",
            "30/30 [==============================] - 0s 4ms/step - loss: 0.6906 - accuracy: 0.6388\n",
            "Epoch 23/150\n",
            "30/30 [==============================] - 0s 4ms/step - loss: 0.6770 - accuracy: 0.5987\n",
            "Epoch 24/150\n",
            "30/30 [==============================] - 0s 4ms/step - loss: 0.6784 - accuracy: 0.6589\n",
            "Epoch 25/150\n",
            "30/30 [==============================] - 0s 4ms/step - loss: 0.6799 - accuracy: 0.6254\n",
            "Epoch 26/150\n",
            "30/30 [==============================] - 0s 4ms/step - loss: 0.6480 - accuracy: 0.6756\n",
            "Epoch 27/150\n",
            "30/30 [==============================] - 0s 4ms/step - loss: 0.6656 - accuracy: 0.6522\n",
            "Epoch 28/150\n",
            "30/30 [==============================] - 0s 5ms/step - loss: 0.7500 - accuracy: 0.6288\n",
            "Epoch 29/150\n",
            "30/30 [==============================] - 0s 4ms/step - loss: 0.6599 - accuracy: 0.6388\n",
            "Epoch 30/150\n",
            "30/30 [==============================] - 0s 5ms/step - loss: 0.6343 - accuracy: 0.6622\n",
            "Epoch 31/150\n",
            "30/30 [==============================] - 0s 4ms/step - loss: 0.6370 - accuracy: 0.6923\n",
            "Epoch 32/150\n",
            "30/30 [==============================] - 0s 4ms/step - loss: 0.6922 - accuracy: 0.6455\n",
            "Epoch 33/150\n",
            "30/30 [==============================] - 0s 4ms/step - loss: 0.6959 - accuracy: 0.6254\n",
            "Epoch 34/150\n",
            "30/30 [==============================] - 0s 4ms/step - loss: 0.6244 - accuracy: 0.6789\n",
            "Epoch 35/150\n",
            "30/30 [==============================] - 0s 4ms/step - loss: 0.6311 - accuracy: 0.6589\n",
            "Epoch 36/150\n",
            "30/30 [==============================] - 0s 4ms/step - loss: 0.6456 - accuracy: 0.6388\n",
            "Epoch 37/150\n",
            "30/30 [==============================] - 0s 4ms/step - loss: 0.6571 - accuracy: 0.6488\n",
            "Epoch 38/150\n",
            "30/30 [==============================] - 0s 4ms/step - loss: 0.6356 - accuracy: 0.6957\n",
            "Epoch 39/150\n",
            "30/30 [==============================] - 0s 4ms/step - loss: 0.6243 - accuracy: 0.6923\n",
            "Epoch 40/150\n",
            "30/30 [==============================] - 0s 4ms/step - loss: 0.6538 - accuracy: 0.6689\n",
            "Epoch 41/150\n",
            "30/30 [==============================] - 0s 4ms/step - loss: 0.6596 - accuracy: 0.6622\n",
            "Epoch 42/150\n",
            "30/30 [==============================] - 0s 4ms/step - loss: 0.6865 - accuracy: 0.6355\n",
            "Epoch 43/150\n",
            "30/30 [==============================] - 0s 4ms/step - loss: 0.6173 - accuracy: 0.6856\n",
            "Epoch 44/150\n",
            "30/30 [==============================] - 0s 4ms/step - loss: 0.6324 - accuracy: 0.6656\n",
            "Epoch 45/150\n",
            "30/30 [==============================] - 0s 5ms/step - loss: 0.6335 - accuracy: 0.6589\n",
            "Epoch 46/150\n",
            "30/30 [==============================] - 0s 4ms/step - loss: 0.6384 - accuracy: 0.6622\n",
            "Epoch 47/150\n",
            "30/30 [==============================] - 0s 4ms/step - loss: 0.6948 - accuracy: 0.6522\n",
            "Epoch 48/150\n",
            "30/30 [==============================] - 0s 4ms/step - loss: 0.6190 - accuracy: 0.6522\n",
            "Epoch 49/150\n",
            "30/30 [==============================] - 0s 4ms/step - loss: 0.6403 - accuracy: 0.6656\n",
            "Epoch 50/150\n",
            "30/30 [==============================] - 0s 4ms/step - loss: 0.6142 - accuracy: 0.6789\n",
            "Epoch 51/150\n",
            "30/30 [==============================] - 0s 4ms/step - loss: 0.6111 - accuracy: 0.6856\n",
            "Epoch 52/150\n",
            "30/30 [==============================] - 0s 4ms/step - loss: 0.6169 - accuracy: 0.6957\n",
            "Epoch 53/150\n",
            "30/30 [==============================] - 0s 4ms/step - loss: 0.6374 - accuracy: 0.6555\n",
            "Epoch 54/150\n",
            "30/30 [==============================] - 0s 4ms/step - loss: 0.6061 - accuracy: 0.6689\n",
            "Epoch 55/150\n",
            "30/30 [==============================] - 0s 4ms/step - loss: 0.5975 - accuracy: 0.7023\n",
            "Epoch 56/150\n",
            "30/30 [==============================] - 0s 4ms/step - loss: 0.6252 - accuracy: 0.6789\n",
            "Epoch 57/150\n",
            "30/30 [==============================] - 0s 4ms/step - loss: 0.6122 - accuracy: 0.6856\n",
            "Epoch 58/150\n",
            "30/30 [==============================] - 0s 4ms/step - loss: 0.6136 - accuracy: 0.6890\n",
            "Epoch 59/150\n",
            "30/30 [==============================] - 0s 4ms/step - loss: 0.6056 - accuracy: 0.6722\n",
            "Epoch 60/150\n",
            "30/30 [==============================] - 0s 4ms/step - loss: 0.6828 - accuracy: 0.6589\n",
            "Epoch 61/150\n",
            "30/30 [==============================] - 0s 5ms/step - loss: 0.6144 - accuracy: 0.6756\n",
            "Epoch 62/150\n",
            "30/30 [==============================] - 0s 4ms/step - loss: 0.6241 - accuracy: 0.6789\n",
            "Epoch 63/150\n",
            "30/30 [==============================] - 0s 4ms/step - loss: 0.6316 - accuracy: 0.6856\n",
            "Epoch 64/150\n",
            "30/30 [==============================] - 0s 4ms/step - loss: 0.5968 - accuracy: 0.7023\n",
            "Epoch 65/150\n",
            "30/30 [==============================] - 0s 4ms/step - loss: 0.5924 - accuracy: 0.7023\n",
            "Epoch 66/150\n",
            "30/30 [==============================] - 0s 4ms/step - loss: 0.6334 - accuracy: 0.6622\n",
            "Epoch 67/150\n",
            "30/30 [==============================] - 0s 4ms/step - loss: 0.6429 - accuracy: 0.6589\n",
            "Epoch 68/150\n",
            "30/30 [==============================] - 0s 5ms/step - loss: 0.6415 - accuracy: 0.6823\n",
            "Epoch 69/150\n",
            "30/30 [==============================] - 0s 4ms/step - loss: 0.5973 - accuracy: 0.6823\n",
            "Epoch 70/150\n",
            "30/30 [==============================] - 0s 4ms/step - loss: 0.5984 - accuracy: 0.7090\n",
            "Epoch 71/150\n",
            "30/30 [==============================] - 0s 4ms/step - loss: 0.6172 - accuracy: 0.6890\n",
            "Epoch 72/150\n",
            "30/30 [==============================] - 0s 4ms/step - loss: 0.5972 - accuracy: 0.6789\n",
            "Epoch 73/150\n",
            "30/30 [==============================] - 0s 5ms/step - loss: 0.6160 - accuracy: 0.6756\n",
            "Epoch 74/150\n",
            "30/30 [==============================] - 0s 4ms/step - loss: 0.6116 - accuracy: 0.6656\n",
            "Epoch 75/150\n",
            "30/30 [==============================] - 0s 4ms/step - loss: 0.6436 - accuracy: 0.6756\n",
            "Epoch 76/150\n",
            "30/30 [==============================] - 0s 4ms/step - loss: 0.5888 - accuracy: 0.6957\n",
            "Epoch 77/150\n",
            "30/30 [==============================] - 0s 5ms/step - loss: 0.6447 - accuracy: 0.6856\n",
            "Epoch 78/150\n",
            "30/30 [==============================] - 0s 7ms/step - loss: 0.5938 - accuracy: 0.6856\n",
            "Epoch 79/150\n",
            "30/30 [==============================] - 0s 7ms/step - loss: 0.5819 - accuracy: 0.6823\n",
            "Epoch 80/150\n",
            "30/30 [==============================] - 0s 6ms/step - loss: 0.5749 - accuracy: 0.7224\n",
            "Epoch 81/150\n",
            "30/30 [==============================] - 0s 6ms/step - loss: 0.5881 - accuracy: 0.6957\n",
            "Epoch 82/150\n",
            "30/30 [==============================] - 0s 6ms/step - loss: 0.6278 - accuracy: 0.6455\n",
            "Epoch 83/150\n",
            "30/30 [==============================] - 0s 6ms/step - loss: 0.5847 - accuracy: 0.6923\n",
            "Epoch 84/150\n",
            "30/30 [==============================] - 0s 6ms/step - loss: 0.5661 - accuracy: 0.6990\n",
            "Epoch 85/150\n",
            "30/30 [==============================] - 0s 6ms/step - loss: 0.5768 - accuracy: 0.7057\n",
            "Epoch 86/150\n",
            "30/30 [==============================] - 0s 6ms/step - loss: 0.6148 - accuracy: 0.6890\n",
            "Epoch 87/150\n",
            "30/30 [==============================] - 0s 6ms/step - loss: 0.5880 - accuracy: 0.6789\n",
            "Epoch 88/150\n",
            "30/30 [==============================] - 0s 6ms/step - loss: 0.5798 - accuracy: 0.7090\n",
            "Epoch 89/150\n",
            "30/30 [==============================] - 0s 6ms/step - loss: 0.5734 - accuracy: 0.6890\n",
            "Epoch 90/150\n",
            "30/30 [==============================] - 0s 6ms/step - loss: 0.5914 - accuracy: 0.7023\n",
            "Epoch 91/150\n",
            "30/30 [==============================] - 0s 6ms/step - loss: 0.6075 - accuracy: 0.6823\n",
            "Epoch 92/150\n",
            "30/30 [==============================] - 0s 6ms/step - loss: 0.6194 - accuracy: 0.6722\n",
            "Epoch 93/150\n",
            "30/30 [==============================] - 0s 7ms/step - loss: 0.6268 - accuracy: 0.6856\n",
            "Epoch 94/150\n",
            "30/30 [==============================] - 0s 5ms/step - loss: 0.5647 - accuracy: 0.7090\n",
            "Epoch 95/150\n",
            "30/30 [==============================] - 0s 6ms/step - loss: 0.5835 - accuracy: 0.7023\n",
            "Epoch 96/150\n",
            "30/30 [==============================] - 0s 6ms/step - loss: 0.5897 - accuracy: 0.7124\n",
            "Epoch 97/150\n",
            "30/30 [==============================] - 0s 6ms/step - loss: 0.5939 - accuracy: 0.6689\n",
            "Epoch 98/150\n",
            "30/30 [==============================] - 0s 6ms/step - loss: 0.5697 - accuracy: 0.6890\n",
            "Epoch 99/150\n",
            "30/30 [==============================] - 0s 7ms/step - loss: 0.5946 - accuracy: 0.6622\n",
            "Epoch 100/150\n",
            "30/30 [==============================] - 0s 6ms/step - loss: 0.5693 - accuracy: 0.6957\n",
            "Epoch 101/150\n",
            "30/30 [==============================] - 0s 5ms/step - loss: 0.6190 - accuracy: 0.6957\n",
            "Epoch 102/150\n",
            "30/30 [==============================] - 0s 4ms/step - loss: 0.5929 - accuracy: 0.7191\n",
            "Epoch 103/150\n",
            "30/30 [==============================] - 0s 4ms/step - loss: 0.5625 - accuracy: 0.7090\n",
            "Epoch 104/150\n",
            "30/30 [==============================] - 0s 4ms/step - loss: 0.5731 - accuracy: 0.6923\n",
            "Epoch 105/150\n",
            "30/30 [==============================] - 0s 5ms/step - loss: 0.5758 - accuracy: 0.7124\n",
            "Epoch 106/150\n",
            "30/30 [==============================] - 0s 5ms/step - loss: 0.5889 - accuracy: 0.6890\n",
            "Epoch 107/150\n",
            "30/30 [==============================] - 0s 5ms/step - loss: 0.6658 - accuracy: 0.6823\n",
            "Epoch 108/150\n",
            "30/30 [==============================] - 0s 4ms/step - loss: 0.5674 - accuracy: 0.7191\n",
            "Epoch 109/150\n",
            "30/30 [==============================] - 0s 4ms/step - loss: 0.5803 - accuracy: 0.7224\n",
            "Epoch 110/150\n",
            "30/30 [==============================] - 0s 5ms/step - loss: 0.6219 - accuracy: 0.6890\n",
            "Epoch 111/150\n",
            "30/30 [==============================] - 0s 4ms/step - loss: 0.5648 - accuracy: 0.7157\n",
            "Epoch 112/150\n",
            "30/30 [==============================] - 0s 5ms/step - loss: 0.5969 - accuracy: 0.6789\n",
            "Epoch 113/150\n",
            "30/30 [==============================] - 0s 4ms/step - loss: 0.5633 - accuracy: 0.7057\n",
            "Epoch 114/150\n",
            "30/30 [==============================] - 0s 5ms/step - loss: 0.5731 - accuracy: 0.7157\n",
            "Epoch 115/150\n",
            "30/30 [==============================] - 0s 4ms/step - loss: 0.5720 - accuracy: 0.6923\n",
            "Epoch 116/150\n",
            "30/30 [==============================] - 0s 4ms/step - loss: 0.6089 - accuracy: 0.6656\n",
            "Epoch 117/150\n",
            "30/30 [==============================] - 0s 5ms/step - loss: 0.5886 - accuracy: 0.7157\n",
            "Epoch 118/150\n",
            "30/30 [==============================] - 0s 4ms/step - loss: 0.5596 - accuracy: 0.7023\n",
            "Epoch 119/150\n",
            "30/30 [==============================] - 0s 4ms/step - loss: 0.6138 - accuracy: 0.6823\n",
            "Epoch 120/150\n",
            "30/30 [==============================] - 0s 4ms/step - loss: 0.5641 - accuracy: 0.6890\n",
            "Epoch 121/150\n",
            "30/30 [==============================] - 0s 5ms/step - loss: 0.5571 - accuracy: 0.7124\n",
            "Epoch 122/150\n",
            "30/30 [==============================] - 0s 4ms/step - loss: 0.6287 - accuracy: 0.6589\n",
            "Epoch 123/150\n",
            "30/30 [==============================] - 0s 4ms/step - loss: 0.5673 - accuracy: 0.6990\n",
            "Epoch 124/150\n",
            "30/30 [==============================] - 0s 4ms/step - loss: 0.5460 - accuracy: 0.7191\n",
            "Epoch 125/150\n",
            "30/30 [==============================] - 0s 5ms/step - loss: 0.5713 - accuracy: 0.7023\n",
            "Epoch 126/150\n",
            "30/30 [==============================] - 0s 4ms/step - loss: 0.5671 - accuracy: 0.6622\n",
            "Epoch 127/150\n",
            "30/30 [==============================] - 0s 5ms/step - loss: 0.5517 - accuracy: 0.6957\n",
            "Epoch 128/150\n",
            "30/30 [==============================] - 0s 4ms/step - loss: 0.5807 - accuracy: 0.6990\n",
            "Epoch 129/150\n",
            "30/30 [==============================] - 0s 4ms/step - loss: 0.5833 - accuracy: 0.6722\n",
            "Epoch 130/150\n",
            "30/30 [==============================] - 0s 4ms/step - loss: 0.5575 - accuracy: 0.7258\n",
            "Epoch 131/150\n",
            "30/30 [==============================] - 0s 4ms/step - loss: 0.5651 - accuracy: 0.6957\n",
            "Epoch 132/150\n",
            "30/30 [==============================] - 0s 4ms/step - loss: 0.5589 - accuracy: 0.7057\n",
            "Epoch 133/150\n",
            "30/30 [==============================] - 0s 4ms/step - loss: 0.5858 - accuracy: 0.6990\n",
            "Epoch 134/150\n",
            "30/30 [==============================] - 0s 5ms/step - loss: 0.5920 - accuracy: 0.6789\n",
            "Epoch 135/150\n",
            "30/30 [==============================] - 0s 4ms/step - loss: 0.5691 - accuracy: 0.6823\n",
            "Epoch 136/150\n",
            "30/30 [==============================] - 0s 4ms/step - loss: 0.5659 - accuracy: 0.7324\n",
            "Epoch 137/150\n",
            "30/30 [==============================] - 0s 4ms/step - loss: 0.5853 - accuracy: 0.6823\n",
            "Epoch 138/150\n",
            "30/30 [==============================] - 0s 4ms/step - loss: 0.5535 - accuracy: 0.7090\n",
            "Epoch 139/150\n",
            "30/30 [==============================] - 0s 5ms/step - loss: 0.5471 - accuracy: 0.7324\n",
            "Epoch 140/150\n",
            "30/30 [==============================] - 0s 5ms/step - loss: 0.5908 - accuracy: 0.6890\n",
            "Epoch 141/150\n",
            "30/30 [==============================] - 0s 4ms/step - loss: 0.6032 - accuracy: 0.6722\n",
            "Epoch 142/150\n",
            "30/30 [==============================] - 0s 5ms/step - loss: 0.5520 - accuracy: 0.7358\n",
            "Epoch 143/150\n",
            "30/30 [==============================] - 0s 4ms/step - loss: 0.5946 - accuracy: 0.6789\n",
            "Epoch 144/150\n",
            "30/30 [==============================] - 0s 4ms/step - loss: 0.5528 - accuracy: 0.7124\n",
            "Epoch 145/150\n",
            "30/30 [==============================] - 0s 4ms/step - loss: 0.5406 - accuracy: 0.7291\n",
            "Epoch 146/150\n",
            "30/30 [==============================] - 0s 4ms/step - loss: 0.5466 - accuracy: 0.7224\n",
            "Epoch 147/150\n",
            "30/30 [==============================] - 0s 4ms/step - loss: 0.6082 - accuracy: 0.6689\n",
            "Epoch 148/150\n",
            "30/30 [==============================] - 0s 4ms/step - loss: 0.5464 - accuracy: 0.7023\n",
            "Epoch 149/150\n",
            "30/30 [==============================] - 0s 5ms/step - loss: 0.6063 - accuracy: 0.7090\n",
            "Epoch 150/150\n",
            "30/30 [==============================] - 0s 4ms/step - loss: 0.5938 - accuracy: 0.6957\n"
          ]
        },
        {
          "output_type": "execute_result",
          "data": {
            "text/plain": [
              "<keras.callbacks.History at 0x7fa9658c9240>"
            ]
          },
          "metadata": {},
          "execution_count": 14
        }
      ]
    },
    {
      "cell_type": "code",
      "source": [
        "# Testing Model\n",
        "_, accuracy = model.evaluate(x,y)"
      ],
      "metadata": {
        "colab": {
          "base_uri": "https://localhost:8080/"
        },
        "id": "Gdowu5HyVUFf",
        "outputId": "e3f77499-1a64-4f8e-a939-6ed302e7d50d"
      },
      "execution_count": null,
      "outputs": [
        {
          "output_type": "stream",
          "name": "stdout",
          "text": [
            "10/10 [==============================] - 0s 4ms/step - loss: 0.5237 - accuracy: 0.7124\n"
          ]
        }
      ]
    },
    {
      "cell_type": "code",
      "source": [
        "print(\"Model Accuracy: %2f\"% (accuracy*100))"
      ],
      "metadata": {
        "colab": {
          "base_uri": "https://localhost:8080/"
        },
        "id": "elEM9NbzVnbJ",
        "outputId": "ab4a7bcf-2303-4020-afb5-2fca776c4b7b"
      },
      "execution_count": null,
      "outputs": [
        {
          "output_type": "stream",
          "name": "stdout",
          "text": [
            "Model Accuracy: 71.237457\n"
          ]
        }
      ]
    },
    {
      "cell_type": "code",
      "source": [
        "# Make Predictions\n",
        "predictions = model.predict(x)"
      ],
      "metadata": {
        "colab": {
          "base_uri": "https://localhost:8080/"
        },
        "id": "ci_8Ahv_V12B",
        "outputId": "3117bdb3-4652-4f61-dd4d-a2f07b8cc50e"
      },
      "execution_count": null,
      "outputs": [
        {
          "output_type": "stream",
          "name": "stdout",
          "text": [
            "10/10 [==============================] - 0s 2ms/step\n"
          ]
        }
      ]
    },
    {
      "cell_type": "code",
      "source": [
        "print([round(x[0]) for x in predictions])"
      ],
      "metadata": {
        "colab": {
          "base_uri": "https://localhost:8080/"
        },
        "id": "iQdrho8lWO8X",
        "outputId": "67fa67c2-7ff6-43d4-e99c-532270523744"
      },
      "execution_count": null,
      "outputs": [
        {
          "output_type": "stream",
          "name": "stdout",
          "text": [
            "[0, 0, 1, 0, 1, 0, 0, 1, 1, 0, 0, 1, 1, 1, 1, 0, 0, 0, 1, 0, 0, 0, 1, 0, 1, 1, 1, 0, 1, 0, 0, 1, 0, 0, 0, 1, 1, 0, 0, 1, 1, 1, 0, 1, 1, 1, 1, 0, 0, 0, 0, 0, 0, 1, 1, 0, 1, 0, 1, 0, 0, 1, 0, 1, 1, 0, 0, 0, 0, 0, 0, 1, 1, 1, 0, 0, 0, 0, 1, 0, 0, 0, 0, 0, 0, 0, 0, 0, 1, 0, 0, 0, 0, 0, 0, 1, 0, 0, 0, 0, 1, 0, 0, 0, 0, 1, 0, 1, 0, 0, 1, 1, 0, 0, 1, 0, 0, 1, 0, 0, 1, 0, 0, 0, 0, 1, 1, 0, 0, 0, 1, 1, 1, 0, 0, 1, 0, 0, 0, 0, 0, 0, 0, 1, 1, 0, 0, 1, 0, 0, 0, 0, 1, 0, 1, 0, 0, 0, 0, 1, 0, 0, 0, 0, 0, 1, 0, 0, 0, 0, 0, 1, 0, 0, 0, 1, 0, 0, 1, 1, 0, 0, 0, 0, 0, 1, 1, 0, 0, 0, 0, 0, 1, 1, 0, 1, 0, 0, 0, 1, 0, 0, 0, 0, 1, 0, 1, 0, 0, 0, 0, 0, 0, 1, 0, 1, 0, 1, 0, 0, 1, 0, 0, 1, 0, 0, 0, 1, 0, 0, 0, 1, 0, 0, 0, 1, 1, 0, 1, 0, 0, 0, 1, 1, 1, 1, 1, 0, 1, 0, 1, 0, 0, 0, 1, 0, 0, 0, 0, 1, 1, 1, 0, 0, 0, 0, 1, 0, 0, 1, 0, 0, 0, 0, 1, 0, 0, 0, 0, 1, 0, 1, 0, 0, 0, 1, 0, 0, 0, 0, 0, 0, 1, 1, 0, 1, 1, 0, 1]\n"
          ]
        }
      ]
    },
    {
      "cell_type": "code",
      "source": [
        "from sklearn.model_selection import train_test_split"
      ],
      "metadata": {
        "id": "BmY_WLmOWTnW"
      },
      "execution_count": null,
      "outputs": []
    },
    {
      "cell_type": "code",
      "source": [
        "x_train, x_test, y_train, y_test = train_test_split(x,y,test_size = 0.2)"
      ],
      "metadata": {
        "id": "OL3rwXFAWdsO"
      },
      "execution_count": null,
      "outputs": []
    },
    {
      "cell_type": "code",
      "source": [
        "from sklearn.naive_bayes import GaussianNB"
      ],
      "metadata": {
        "id": "QrEGpuavWrIU"
      },
      "execution_count": null,
      "outputs": []
    },
    {
      "cell_type": "code",
      "source": [
        "classifier_NB = GaussianNB()"
      ],
      "metadata": {
        "id": "8-G4dr5WWvD2"
      },
      "execution_count": null,
      "outputs": []
    },
    {
      "cell_type": "code",
      "source": [
        "classifier_NB.fit(x_train, y_train)"
      ],
      "metadata": {
        "colab": {
          "base_uri": "https://localhost:8080/",
          "height": 75
        },
        "id": "Jth7pOVVWx7C",
        "outputId": "d12d251e-128a-4ea8-c868-16817d1e3a33"
      },
      "execution_count": null,
      "outputs": [
        {
          "output_type": "execute_result",
          "data": {
            "text/plain": [
              "GaussianNB()"
            ],
            "text/html": [
              "<style>#sk-container-id-1 {color: black;background-color: white;}#sk-container-id-1 pre{padding: 0;}#sk-container-id-1 div.sk-toggleable {background-color: white;}#sk-container-id-1 label.sk-toggleable__label {cursor: pointer;display: block;width: 100%;margin-bottom: 0;padding: 0.3em;box-sizing: border-box;text-align: center;}#sk-container-id-1 label.sk-toggleable__label-arrow:before {content: \"▸\";float: left;margin-right: 0.25em;color: #696969;}#sk-container-id-1 label.sk-toggleable__label-arrow:hover:before {color: black;}#sk-container-id-1 div.sk-estimator:hover label.sk-toggleable__label-arrow:before {color: black;}#sk-container-id-1 div.sk-toggleable__content {max-height: 0;max-width: 0;overflow: hidden;text-align: left;background-color: #f0f8ff;}#sk-container-id-1 div.sk-toggleable__content pre {margin: 0.2em;color: black;border-radius: 0.25em;background-color: #f0f8ff;}#sk-container-id-1 input.sk-toggleable__control:checked~div.sk-toggleable__content {max-height: 200px;max-width: 100%;overflow: auto;}#sk-container-id-1 input.sk-toggleable__control:checked~label.sk-toggleable__label-arrow:before {content: \"▾\";}#sk-container-id-1 div.sk-estimator input.sk-toggleable__control:checked~label.sk-toggleable__label {background-color: #d4ebff;}#sk-container-id-1 div.sk-label input.sk-toggleable__control:checked~label.sk-toggleable__label {background-color: #d4ebff;}#sk-container-id-1 input.sk-hidden--visually {border: 0;clip: rect(1px 1px 1px 1px);clip: rect(1px, 1px, 1px, 1px);height: 1px;margin: -1px;overflow: hidden;padding: 0;position: absolute;width: 1px;}#sk-container-id-1 div.sk-estimator {font-family: monospace;background-color: #f0f8ff;border: 1px dotted black;border-radius: 0.25em;box-sizing: border-box;margin-bottom: 0.5em;}#sk-container-id-1 div.sk-estimator:hover {background-color: #d4ebff;}#sk-container-id-1 div.sk-parallel-item::after {content: \"\";width: 100%;border-bottom: 1px solid gray;flex-grow: 1;}#sk-container-id-1 div.sk-label:hover label.sk-toggleable__label {background-color: #d4ebff;}#sk-container-id-1 div.sk-serial::before {content: \"\";position: absolute;border-left: 1px solid gray;box-sizing: border-box;top: 0;bottom: 0;left: 50%;z-index: 0;}#sk-container-id-1 div.sk-serial {display: flex;flex-direction: column;align-items: center;background-color: white;padding-right: 0.2em;padding-left: 0.2em;position: relative;}#sk-container-id-1 div.sk-item {position: relative;z-index: 1;}#sk-container-id-1 div.sk-parallel {display: flex;align-items: stretch;justify-content: center;background-color: white;position: relative;}#sk-container-id-1 div.sk-item::before, #sk-container-id-1 div.sk-parallel-item::before {content: \"\";position: absolute;border-left: 1px solid gray;box-sizing: border-box;top: 0;bottom: 0;left: 50%;z-index: -1;}#sk-container-id-1 div.sk-parallel-item {display: flex;flex-direction: column;z-index: 1;position: relative;background-color: white;}#sk-container-id-1 div.sk-parallel-item:first-child::after {align-self: flex-end;width: 50%;}#sk-container-id-1 div.sk-parallel-item:last-child::after {align-self: flex-start;width: 50%;}#sk-container-id-1 div.sk-parallel-item:only-child::after {width: 0;}#sk-container-id-1 div.sk-dashed-wrapped {border: 1px dashed gray;margin: 0 0.4em 0.5em 0.4em;box-sizing: border-box;padding-bottom: 0.4em;background-color: white;}#sk-container-id-1 div.sk-label label {font-family: monospace;font-weight: bold;display: inline-block;line-height: 1.2em;}#sk-container-id-1 div.sk-label-container {text-align: center;}#sk-container-id-1 div.sk-container {/* jupyter's `normalize.less` sets `[hidden] { display: none; }` but bootstrap.min.css set `[hidden] { display: none !important; }` so we also need the `!important` here to be able to override the default hidden behavior on the sphinx rendered scikit-learn.org. See: https://github.com/scikit-learn/scikit-learn/issues/21755 */display: inline-block !important;position: relative;}#sk-container-id-1 div.sk-text-repr-fallback {display: none;}</style><div id=\"sk-container-id-1\" class=\"sk-top-container\"><div class=\"sk-text-repr-fallback\"><pre>GaussianNB()</pre><b>In a Jupyter environment, please rerun this cell to show the HTML representation or trust the notebook. <br />On GitHub, the HTML representation is unable to render, please try loading this page with nbviewer.org.</b></div><div class=\"sk-container\" hidden><div class=\"sk-item\"><div class=\"sk-estimator sk-toggleable\"><input class=\"sk-toggleable__control sk-hidden--visually\" id=\"sk-estimator-id-1\" type=\"checkbox\" checked><label for=\"sk-estimator-id-1\" class=\"sk-toggleable__label sk-toggleable__label-arrow\">GaussianNB</label><div class=\"sk-toggleable__content\"><pre>GaussianNB()</pre></div></div></div></div></div>"
            ]
          },
          "metadata": {},
          "execution_count": 23
        }
      ]
    },
    {
      "cell_type": "code",
      "source": [
        "y_pred = classifier_NB.predict(x_test)"
      ],
      "metadata": {
        "id": "70w6VEshW1Ym"
      },
      "execution_count": null,
      "outputs": []
    },
    {
      "cell_type": "code",
      "source": [
        "from sklearn.metrics import confusion_matrix\n",
        "confusion_matrix(y_test, y_pred)"
      ],
      "metadata": {
        "colab": {
          "base_uri": "https://localhost:8080/"
        },
        "id": "I4luDhTQW4QA",
        "outputId": "2d2d3b53-84d7-40b6-f66d-f3d769b84713"
      },
      "execution_count": null,
      "outputs": [
        {
          "output_type": "execute_result",
          "data": {
            "text/plain": [
              "array([[28,  7],\n",
              "       [ 7, 18]])"
            ]
          },
          "metadata": {},
          "execution_count": 25
        }
      ]
    },
    {
      "cell_type": "code",
      "source": [
        "import numpy as np\n",
        "cm = confusion_matrix(y_test, y_pred)\n",
        "# compute the diagonal sum of the confusion matrix using NumPy\n",
        "diagonal_sum = np.trace(cm)\n",
        "total_sum = np.sum(cm)\n",
        "\n",
        "accuracy = diagonal_sum / total_sum\n",
        "print(\"Diagonal sum\",diagonal_sum)\n",
        "print(\"Diagonal Sum/ Total Sum\",accuracy)"
      ],
      "metadata": {
        "colab": {
          "base_uri": "https://localhost:8080/"
        },
        "id": "P1IWdUhJW626",
        "outputId": "5c116c8b-f6c7-48f4-8a89-a086f8b6d502"
      },
      "execution_count": null,
      "outputs": [
        {
          "output_type": "stream",
          "name": "stdout",
          "text": [
            "Diagonal sum 46\n",
            "Diagonal Sum/ Total Sum 0.7666666666666667\n"
          ]
        }
      ]
    },
    {
      "cell_type": "code",
      "source": [],
      "metadata": {
        "id": "Q7fxRzRDW9gb"
      },
      "execution_count": null,
      "outputs": []
    }
  ]
}