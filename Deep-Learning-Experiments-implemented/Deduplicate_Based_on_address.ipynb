{
  "nbformat": 4,
  "nbformat_minor": 0,
  "metadata": {
    "kernelspec": {
      "name": "python3",
      "display_name": "Python 3"
    },
    "language_info": {
      "codemirror_mode": {
        "name": "ipython",
        "version": 3
      },
      "file_extension": ".py",
      "mimetype": "text/x-python",
      "name": "python",
      "nbconvert_exporter": "python",
      "pygments_lexer": "ipython3",
      "version": "3.6.7"
    },
    "colab": {
      "name": "Deduplicate_Based_on_address.ipynb",
      "provenance": [],
      "include_colab_link": true
    },
    "accelerator": "GPU"
  },
  "cells": [
    {
      "cell_type": "markdown",
      "metadata": {
        "id": "view-in-github",
        "colab_type": "text"
      },
      "source": [
        "<a href=\"https://colab.research.google.com/github/navneetkrc/Colab_fastai/blob/master/Deduplicate_Based_on_address.ipynb\" target=\"_parent\"><img src=\"https://colab.research.google.com/assets/colab-badge.svg\" alt=\"Open In Colab\"/></a>"
      ]
    },
    {
      "cell_type": "markdown",
      "metadata": {
        "id": "o3Ou3y7K_yOA",
        "colab_type": "text"
      },
      "source": [
        "https://towardsdatascience.com/de-duplicate-the-duplicate-records-from-scratch-f6e5ad9e79da"
      ]
    },
    {
      "cell_type": "code",
      "metadata": {
        "id": "70_nk2Hf-7Eo",
        "colab_type": "code",
        "colab": {}
      },
      "source": [
        "!pip install sparse-dot-topn"
      ],
      "execution_count": 0,
      "outputs": []
    },
    {
      "cell_type": "code",
      "metadata": {
        "id": "7JQ1PFvD-jpJ",
        "colab_type": "code",
        "colab": {}
      },
      "source": [
        "from scipy.sparse import csr_matrix\n",
        "import sparse_dot_topn.sparse_dot_topn as ct\n",
        "from sklearn.feature_extraction.text import TfidfVectorizer\n",
        "import pandas as pd\n",
        "import numpy as np"
      ],
      "execution_count": 0,
      "outputs": []
    },
    {
      "cell_type": "code",
      "metadata": {
        "id": "Y6NGEDxT-jpO",
        "colab_type": "code",
        "colab": {}
      },
      "source": [
        "df = pd.read_csv('https://raw.githubusercontent.com/susanli2016/NLP-with-Python/master/data/Seattle_Hotels_Duplicates.csv', encoding=\"latin-1\")"
      ],
      "execution_count": 0,
      "outputs": []
    },
    {
      "cell_type": "code",
      "metadata": {
        "id": "ADYxDaF3-jpU",
        "colab_type": "code",
        "outputId": "755e0855-0a1d-4667-b6f1-1cda17e209a3",
        "colab": {
          "base_uri": "https://localhost:8080/",
          "height": 142
        }
      },
      "source": [
        "df.tail(3)"
      ],
      "execution_count": 19,
      "outputs": [
        {
          "output_type": "execute_result",
          "data": {
            "text/html": [
              "<div>\n",
              "<style scoped>\n",
              "    .dataframe tbody tr th:only-of-type {\n",
              "        vertical-align: middle;\n",
              "    }\n",
              "\n",
              "    .dataframe tbody tr th {\n",
              "        vertical-align: top;\n",
              "    }\n",
              "\n",
              "    .dataframe thead th {\n",
              "        text-align: right;\n",
              "    }\n",
              "</style>\n",
              "<table border=\"1\" class=\"dataframe\">\n",
              "  <thead>\n",
              "    <tr style=\"text-align: right;\">\n",
              "      <th></th>\n",
              "      <th>name</th>\n",
              "      <th>address</th>\n",
              "      <th>name_address</th>\n",
              "    </tr>\n",
              "  </thead>\n",
              "  <tbody>\n",
              "    <tr>\n",
              "      <th>165</th>\n",
              "      <td>Pike's Place Lux Suites by Barsala</td>\n",
              "      <td>2nd Ave and Stewart St, Seattle, WA 98101</td>\n",
              "      <td>Pike's Place Lux Suites by Barsala 2nd Ave and...</td>\n",
              "    </tr>\n",
              "    <tr>\n",
              "      <th>166</th>\n",
              "      <td>Pike's Place Lux Suites by Barsala</td>\n",
              "      <td>2rd Ave and Stewart St, Seattle, WA 98101</td>\n",
              "      <td>Pike's Place Lux Suites by Barsala 2rd Ave and...</td>\n",
              "    </tr>\n",
              "    <tr>\n",
              "      <th>167</th>\n",
              "      <td>citizenM Seattle South Lake Union hotel</td>\n",
              "      <td>201 Westlake Ave N, Seattle, WA 98109</td>\n",
              "      <td>citizenM Seattle South Lake Union hotel 201 We...</td>\n",
              "    </tr>\n",
              "  </tbody>\n",
              "</table>\n",
              "</div>"
            ],
            "text/plain": [
              "                                        name  ...                                       name_address\n",
              "165       Pike's Place Lux Suites by Barsala  ...  Pike's Place Lux Suites by Barsala 2nd Ave and...\n",
              "166       Pike's Place Lux Suites by Barsala  ...  Pike's Place Lux Suites by Barsala 2rd Ave and...\n",
              "167  citizenM Seattle South Lake Union hotel  ...  citizenM Seattle South Lake Union hotel 201 We...\n",
              "\n",
              "[3 rows x 3 columns]"
            ]
          },
          "metadata": {
            "tags": []
          },
          "execution_count": 19
        }
      ]
    },
    {
      "cell_type": "code",
      "metadata": {
        "id": "4TSgMrjn-jpn",
        "colab_type": "code",
        "outputId": "1d93a38c-1e5a-4057-9f58-019379766af7",
        "colab": {
          "base_uri": "https://localhost:8080/",
          "height": 221
        }
      },
      "source": [
        "df.name.value_counts()"
      ],
      "execution_count": 10,
      "outputs": [
        {
          "output_type": "execute_result",
          "data": {
            "text/plain": [
              "Renaissance Seattle Hotel              2\n",
              "Roy Street Commons                     2\n",
              "Pike's Place Lux Suites by Barsala     2\n",
              "Ace Hotel Seattle                      2\n",
              "Quality Inn & Suites Seattle Center    2\n",
              "                                      ..\n",
              "The Inn at El Gaucho                   1\n",
              "Vermont Inn                            1\n",
              "Hyatt House Seattle                    1\n",
              "Kings Inn                              1\n",
              "Stay Alfred on 4th Avenue              1\n",
              "Name: name, Length: 155, dtype: int64"
            ]
          },
          "metadata": {
            "tags": []
          },
          "execution_count": 10
        }
      ]
    },
    {
      "cell_type": "code",
      "metadata": {
        "id": "UhmQ28iI-jpr",
        "colab_type": "code",
        "outputId": "446bfbd5-cb85-4f2e-e3e8-4a43baae9fbb",
        "colab": {
          "base_uri": "https://localhost:8080/",
          "height": 111
        }
      },
      "source": [
        "df.loc[df['name'] == 'Roy Street Commons']"
      ],
      "execution_count": 11,
      "outputs": [
        {
          "output_type": "execute_result",
          "data": {
            "text/html": [
              "<div>\n",
              "<style scoped>\n",
              "    .dataframe tbody tr th:only-of-type {\n",
              "        vertical-align: middle;\n",
              "    }\n",
              "\n",
              "    .dataframe tbody tr th {\n",
              "        vertical-align: top;\n",
              "    }\n",
              "\n",
              "    .dataframe thead th {\n",
              "        text-align: right;\n",
              "    }\n",
              "</style>\n",
              "<table border=\"1\" class=\"dataframe\">\n",
              "  <thead>\n",
              "    <tr style=\"text-align: right;\">\n",
              "      <th></th>\n",
              "      <th>name</th>\n",
              "      <th>address</th>\n",
              "    </tr>\n",
              "  </thead>\n",
              "  <tbody>\n",
              "    <tr>\n",
              "      <th>82</th>\n",
              "      <td>Roy Street Commons</td>\n",
              "      <td>621 12th Ave E, Seattle, WA 98102</td>\n",
              "    </tr>\n",
              "    <tr>\n",
              "      <th>90</th>\n",
              "      <td>Roy Street Commons</td>\n",
              "      <td>621 12th Avenue East, Seattle, Washington 98102</td>\n",
              "    </tr>\n",
              "  </tbody>\n",
              "</table>\n",
              "</div>"
            ],
            "text/plain": [
              "                  name                                          address\n",
              "82  Roy Street Commons                621 12th Ave E, Seattle, WA 98102\n",
              "90  Roy Street Commons  621 12th Avenue East, Seattle, Washington 98102"
            ]
          },
          "metadata": {
            "tags": []
          },
          "execution_count": 11
        }
      ]
    },
    {
      "cell_type": "code",
      "metadata": {
        "id": "IqlMoVXW-jpx",
        "colab_type": "code",
        "colab": {}
      },
      "source": [
        "df['name_address'] = df['name'] + ' ' + df['address']\n",
        "name_address = df['name_address']\n",
        "vectorizer = TfidfVectorizer(\"char\", ngram_range=(1, 4), sublinear_tf=True)\n",
        "tf_idf_matrix = vectorizer.fit_transform(name_address)"
      ],
      "execution_count": 0,
      "outputs": []
    },
    {
      "cell_type": "code",
      "metadata": {
        "id": "AZbeJuqF-jp8",
        "colab_type": "code",
        "outputId": "8f05e767-e78c-421c-f1ff-147eef8cb23d",
        "colab": {
          "base_uri": "https://localhost:8080/",
          "height": 51
        }
      },
      "source": [
        "tf_idf_matrix"
      ],
      "execution_count": 13,
      "outputs": [
        {
          "output_type": "execute_result",
          "data": {
            "text/plain": [
              "<168x3218 sparse matrix of type '<class 'numpy.float64'>'\n",
              "\twith 6002 stored elements in Compressed Sparse Row format>"
            ]
          },
          "metadata": {
            "tags": []
          },
          "execution_count": 13
        }
      ]
    },
    {
      "cell_type": "code",
      "metadata": {
        "id": "QJvW8_Xf-jqN",
        "colab_type": "code",
        "colab": {}
      },
      "source": [
        "def awesome_cossim_top(A, B, ntop, lower_bound=0):\n",
        "  \n",
        "    A = A.tocsr()\n",
        "    B = B.tocsr()\n",
        "    M, _ = A.shape\n",
        "    _, N = B.shape\n",
        " \n",
        "    idx_dtype = np.int32\n",
        " \n",
        "    nnz_max = M*ntop\n",
        " \n",
        "    indptr = np.zeros(M+1, dtype=idx_dtype)\n",
        "    indices = np.zeros(nnz_max, dtype=idx_dtype)\n",
        "    data = np.zeros(nnz_max, dtype=A.dtype)\n",
        "\n",
        "    ct.sparse_dot_topn(\n",
        "        M, N, np.asarray(A.indptr, dtype=idx_dtype),\n",
        "        np.asarray(A.indices, dtype=idx_dtype),\n",
        "        A.data,\n",
        "        np.asarray(B.indptr, dtype=idx_dtype),\n",
        "        np.asarray(B.indices, dtype=idx_dtype),\n",
        "        B.data,\n",
        "        ntop,\n",
        "        lower_bound,\n",
        "        indptr, indices, data)\n",
        "\n",
        "    return csr_matrix((data,indices,indptr),shape=(M,N))\n",
        "\n",
        "matches = awesome_cossim_top(tf_idf_matrix, tf_idf_matrix.transpose(), 5)"
      ],
      "execution_count": 0,
      "outputs": []
    },
    {
      "cell_type": "code",
      "metadata": {
        "id": "L9vRFMUr-jqV",
        "colab_type": "code",
        "outputId": "0f973cc5-91ae-4e19-a2f5-1d226b33d0fb",
        "colab": {
          "base_uri": "https://localhost:8080/",
          "height": 51
        }
      },
      "source": [
        "matches"
      ],
      "execution_count": 15,
      "outputs": [
        {
          "output_type": "execute_result",
          "data": {
            "text/plain": [
              "<168x168 sparse matrix of type '<class 'numpy.float64'>'\n",
              "\twith 840 stored elements in Compressed Sparse Row format>"
            ]
          },
          "metadata": {
            "tags": []
          },
          "execution_count": 15
        }
      ]
    },
    {
      "cell_type": "code",
      "metadata": {
        "id": "uwZkp7Xd-jqZ",
        "colab_type": "code",
        "colab": {}
      },
      "source": [
        "def get_matches_df(sparse_matrix, name_vector, top=840):\n",
        "    non_zeros = sparse_matrix.nonzero()\n",
        "    \n",
        "    sparserows = non_zeros[0]\n",
        "    sparsecols = non_zeros[1]\n",
        "    \n",
        "    if top:\n",
        "        nr_matches = top\n",
        "    else:\n",
        "        nr_matches = sparsecols.size\n",
        "    \n",
        "    left_side = np.empty([nr_matches], dtype=object)\n",
        "    right_side = np.empty([nr_matches], dtype=object)\n",
        "    similairity = np.zeros(nr_matches)\n",
        "    \n",
        "    for index in range(0, nr_matches):\n",
        "        left_side[index] = name_vector[sparserows[index]]\n",
        "        right_side[index] = name_vector[sparsecols[index]]\n",
        "        similairity[index] = sparse_matrix.data[index]\n",
        "    \n",
        "    return pd.DataFrame({'left_side': left_side,\n",
        "                          'right_side': right_side,\n",
        "                           'similarity': similairity})\n",
        "\n",
        "matches_df = get_matches_df(matches, name_address)"
      ],
      "execution_count": 0,
      "outputs": []
    },
    {
      "cell_type": "code",
      "metadata": {
        "id": "KXywaYG0-jqi",
        "colab_type": "code",
        "outputId": "be2ed721-33c3-4b06-e2da-d662643c5400",
        "colab": {
          "base_uri": "https://localhost:8080/",
          "height": 979
        }
      },
      "source": [
        "matches_df[matches_df['similarity'] < 0.99999].sort_values(by=['similarity'], ascending=False).head(30)"
      ],
      "execution_count": 17,
      "outputs": [
        {
          "output_type": "execute_result",
          "data": {
            "text/html": [
              "<div>\n",
              "<style scoped>\n",
              "    .dataframe tbody tr th:only-of-type {\n",
              "        vertical-align: middle;\n",
              "    }\n",
              "\n",
              "    .dataframe tbody tr th {\n",
              "        vertical-align: top;\n",
              "    }\n",
              "\n",
              "    .dataframe thead th {\n",
              "        text-align: right;\n",
              "    }\n",
              "</style>\n",
              "<table border=\"1\" class=\"dataframe\">\n",
              "  <thead>\n",
              "    <tr style=\"text-align: right;\">\n",
              "      <th></th>\n",
              "      <th>left_side</th>\n",
              "      <th>right_side</th>\n",
              "      <th>similarity</th>\n",
              "    </tr>\n",
              "  </thead>\n",
              "  <tbody>\n",
              "    <tr>\n",
              "      <th>826</th>\n",
              "      <td>Pike's Place Lux Suites by Barsala 2nd Ave and...</td>\n",
              "      <td>Pike's Place Lux Suites by Barsala 2rd Ave and...</td>\n",
              "      <td>0.715406</td>\n",
              "    </tr>\n",
              "    <tr>\n",
              "      <th>831</th>\n",
              "      <td>Pike's Place Lux Suites by Barsala 2rd Ave and...</td>\n",
              "      <td>Pike's Place Lux Suites by Barsala 2nd Ave and...</td>\n",
              "      <td>0.715406</td>\n",
              "    </tr>\n",
              "    <tr>\n",
              "      <th>206</th>\n",
              "      <td>Holiday Inn Express &amp; Suites Seattle-City Cent...</td>\n",
              "      <td>Holiday Inn Express &amp; Suites Seattle City Cent...</td>\n",
              "      <td>0.712321</td>\n",
              "    </tr>\n",
              "    <tr>\n",
              "      <th>256</th>\n",
              "      <td>Holiday Inn Express &amp; Suites Seattle City Cent...</td>\n",
              "      <td>Holiday Inn Express &amp; Suites Seattle-City Cent...</td>\n",
              "      <td>0.712321</td>\n",
              "    </tr>\n",
              "    <tr>\n",
              "      <th>181</th>\n",
              "      <td>Travelodge Seattle by The Space Needle 200 6th...</td>\n",
              "      <td>Travelodge Seattle by The Space Needle 200 6th...</td>\n",
              "      <td>0.669974</td>\n",
              "    </tr>\n",
              "    <tr>\n",
              "      <th>211</th>\n",
              "      <td>Travelodge Seattle by The Space Needle 200 6th...</td>\n",
              "      <td>Travelodge Seattle by The Space Needle 200 6th...</td>\n",
              "      <td>0.669974</td>\n",
              "    </tr>\n",
              "    <tr>\n",
              "      <th>791</th>\n",
              "      <td>citizenM Seattle South Lake Union hotel 201 We...</td>\n",
              "      <td>citizenM Seattle South Lake Union hotel 201 We...</td>\n",
              "      <td>0.651961</td>\n",
              "    </tr>\n",
              "    <tr>\n",
              "      <th>836</th>\n",
              "      <td>citizenM Seattle South Lake Union hotel 201 We...</td>\n",
              "      <td>citizenM Seattle South Lake Union hotel 201 We...</td>\n",
              "      <td>0.651961</td>\n",
              "    </tr>\n",
              "    <tr>\n",
              "      <th>586</th>\n",
              "      <td>Quality Inn &amp; Suites Seattle Center 618 John S...</td>\n",
              "      <td>Quality Inn &amp; Suites Seattle Center 618 John S...</td>\n",
              "      <td>0.627400</td>\n",
              "    </tr>\n",
              "    <tr>\n",
              "      <th>551</th>\n",
              "      <td>Quality Inn &amp; Suites Seattle Center 618 John S...</td>\n",
              "      <td>Quality Inn &amp; Suites Seattle Center 618 John S...</td>\n",
              "      <td>0.627400</td>\n",
              "    </tr>\n",
              "    <tr>\n",
              "      <th>46</th>\n",
              "      <td>Hilton Garden Inn Seattle Downtown 1821 Boren ...</td>\n",
              "      <td>Hilton Garden Inn Seattle Downtown 1821 Boren ...</td>\n",
              "      <td>0.617412</td>\n",
              "    </tr>\n",
              "    <tr>\n",
              "      <th>1</th>\n",
              "      <td>Hilton Garden Inn Seattle Downtown 1821 Boren ...</td>\n",
              "      <td>Hilton Garden Inn Seattle Downtown 1821 Boren ...</td>\n",
              "      <td>0.617412</td>\n",
              "    </tr>\n",
              "    <tr>\n",
              "      <th>781</th>\n",
              "      <td>Hyatt Regency Lake Washington At SeattleS Sout...</td>\n",
              "      <td>Hyatt Regency Lake Washington At SeattleS Sout...</td>\n",
              "      <td>0.614371</td>\n",
              "    </tr>\n",
              "    <tr>\n",
              "      <th>746</th>\n",
              "      <td>Hyatt Regency Lake Washington At SeattleS Sout...</td>\n",
              "      <td>Hyatt Regency Lake Washington At SeattleS Sout...</td>\n",
              "      <td>0.614371</td>\n",
              "    </tr>\n",
              "    <tr>\n",
              "      <th>346</th>\n",
              "      <td>Home2 Suites by Hilton Seattle Airport 380 Upl...</td>\n",
              "      <td>Home2 Suites by Hilton Seattle Airport 380 Upl...</td>\n",
              "      <td>0.582787</td>\n",
              "    </tr>\n",
              "    <tr>\n",
              "      <th>341</th>\n",
              "      <td>Home2 Suites by Hilton Seattle Airport 380 Upl...</td>\n",
              "      <td>Home2 Suites by Hilton Seattle Airport 380 Upl...</td>\n",
              "      <td>0.582787</td>\n",
              "    </tr>\n",
              "    <tr>\n",
              "      <th>561</th>\n",
              "      <td>Renaissance Seattle Hotel 515 Madison Street, ...</td>\n",
              "      <td>Renaissance Seattle Hotel 515 Madison St, Seat...</td>\n",
              "      <td>0.531174</td>\n",
              "    </tr>\n",
              "    <tr>\n",
              "      <th>546</th>\n",
              "      <td>Renaissance Seattle Hotel 515 Madison St, Seat...</td>\n",
              "      <td>Renaissance Seattle Hotel 515 Madison Street, ...</td>\n",
              "      <td>0.531174</td>\n",
              "    </tr>\n",
              "    <tr>\n",
              "      <th>391</th>\n",
              "      <td>Days Inn by Wyndham Seattle North of Downtown ...</td>\n",
              "      <td>Travelodge by Wyndham Seattle North of Downtow...</td>\n",
              "      <td>0.528202</td>\n",
              "    </tr>\n",
              "    <tr>\n",
              "      <th>396</th>\n",
              "      <td>Travelodge by Wyndham Seattle North of Downtow...</td>\n",
              "      <td>Days Inn by Wyndham Seattle North of Downtown ...</td>\n",
              "      <td>0.528202</td>\n",
              "    </tr>\n",
              "    <tr>\n",
              "      <th>401</th>\n",
              "      <td>Comfort Inn &amp; Suites 13700 Aurora Ave N, Seatt...</td>\n",
              "      <td>Comfort Inn &amp; Suites 13700 Aurora Avenue North...</td>\n",
              "      <td>0.527696</td>\n",
              "    </tr>\n",
              "    <tr>\n",
              "      <th>441</th>\n",
              "      <td>Comfort Inn &amp; Suites 13700 Aurora Avenue North...</td>\n",
              "      <td>Comfort Inn &amp; Suites 13700 Aurora Ave N, Seatt...</td>\n",
              "      <td>0.527696</td>\n",
              "    </tr>\n",
              "    <tr>\n",
              "      <th>451</th>\n",
              "      <td>Roy Street Commons 621 12th Avenue East, Seatt...</td>\n",
              "      <td>Roy Street Commons 621 12th Ave E, Seattle, WA...</td>\n",
              "      <td>0.499497</td>\n",
              "    </tr>\n",
              "    <tr>\n",
              "      <th>411</th>\n",
              "      <td>Roy Street Commons 621 12th Ave E, Seattle, WA...</td>\n",
              "      <td>Roy Street Commons 621 12th Avenue East, Seatt...</td>\n",
              "      <td>0.499497</td>\n",
              "    </tr>\n",
              "    <tr>\n",
              "      <th>11</th>\n",
              "      <td>Crowne Plaza Seattle Downtown 1113 6th Ave, Se...</td>\n",
              "      <td>Crowne Plaza Seattle 1113 6th Ave, Seattle, Wa...</td>\n",
              "      <td>0.469867</td>\n",
              "    </tr>\n",
              "    <tr>\n",
              "      <th>61</th>\n",
              "      <td>Crowne Plaza Seattle 1113 6th Ave, Seattle, Wa...</td>\n",
              "      <td>Crowne Plaza Seattle Downtown 1113 6th Ave, Se...</td>\n",
              "      <td>0.469867</td>\n",
              "    </tr>\n",
              "    <tr>\n",
              "      <th>671</th>\n",
              "      <td>Watertown Hotel - A Staypineapple Hotel 4242 R...</td>\n",
              "      <td>University Inn - A Staypineapple Hotel 4140 Ro...</td>\n",
              "      <td>0.432854</td>\n",
              "    </tr>\n",
              "    <tr>\n",
              "      <th>706</th>\n",
              "      <td>University Inn - A Staypineapple Hotel 4140 Ro...</td>\n",
              "      <td>Watertown Hotel - A Staypineapple Hotel 4242 R...</td>\n",
              "      <td>0.432854</td>\n",
              "    </tr>\n",
              "    <tr>\n",
              "      <th>621</th>\n",
              "      <td>Executive Inn By The Space Needle 200 Taylor A...</td>\n",
              "      <td>Travelodge Seattle by The Space Needle 200 6th...</td>\n",
              "      <td>0.428319</td>\n",
              "    </tr>\n",
              "    <tr>\n",
              "      <th>182</th>\n",
              "      <td>Travelodge Seattle by The Space Needle 200 6th...</td>\n",
              "      <td>Executive Inn By The Space Needle 200 Taylor A...</td>\n",
              "      <td>0.428319</td>\n",
              "    </tr>\n",
              "  </tbody>\n",
              "</table>\n",
              "</div>"
            ],
            "text/plain": [
              "                                             left_side  ... similarity\n",
              "826  Pike's Place Lux Suites by Barsala 2nd Ave and...  ...   0.715406\n",
              "831  Pike's Place Lux Suites by Barsala 2rd Ave and...  ...   0.715406\n",
              "206  Holiday Inn Express & Suites Seattle-City Cent...  ...   0.712321\n",
              "256  Holiday Inn Express & Suites Seattle City Cent...  ...   0.712321\n",
              "181  Travelodge Seattle by The Space Needle 200 6th...  ...   0.669974\n",
              "211  Travelodge Seattle by The Space Needle 200 6th...  ...   0.669974\n",
              "791  citizenM Seattle South Lake Union hotel 201 We...  ...   0.651961\n",
              "836  citizenM Seattle South Lake Union hotel 201 We...  ...   0.651961\n",
              "586  Quality Inn & Suites Seattle Center 618 John S...  ...   0.627400\n",
              "551  Quality Inn & Suites Seattle Center 618 John S...  ...   0.627400\n",
              "46   Hilton Garden Inn Seattle Downtown 1821 Boren ...  ...   0.617412\n",
              "1    Hilton Garden Inn Seattle Downtown 1821 Boren ...  ...   0.617412\n",
              "781  Hyatt Regency Lake Washington At SeattleS Sout...  ...   0.614371\n",
              "746  Hyatt Regency Lake Washington At SeattleS Sout...  ...   0.614371\n",
              "346  Home2 Suites by Hilton Seattle Airport 380 Upl...  ...   0.582787\n",
              "341  Home2 Suites by Hilton Seattle Airport 380 Upl...  ...   0.582787\n",
              "561  Renaissance Seattle Hotel 515 Madison Street, ...  ...   0.531174\n",
              "546  Renaissance Seattle Hotel 515 Madison St, Seat...  ...   0.531174\n",
              "391  Days Inn by Wyndham Seattle North of Downtown ...  ...   0.528202\n",
              "396  Travelodge by Wyndham Seattle North of Downtow...  ...   0.528202\n",
              "401  Comfort Inn & Suites 13700 Aurora Ave N, Seatt...  ...   0.527696\n",
              "441  Comfort Inn & Suites 13700 Aurora Avenue North...  ...   0.527696\n",
              "451  Roy Street Commons 621 12th Avenue East, Seatt...  ...   0.499497\n",
              "411  Roy Street Commons 621 12th Ave E, Seattle, WA...  ...   0.499497\n",
              "11   Crowne Plaza Seattle Downtown 1113 6th Ave, Se...  ...   0.469867\n",
              "61   Crowne Plaza Seattle 1113 6th Ave, Seattle, Wa...  ...   0.469867\n",
              "671  Watertown Hotel - A Staypineapple Hotel 4242 R...  ...   0.432854\n",
              "706  University Inn - A Staypineapple Hotel 4140 Ro...  ...   0.432854\n",
              "621  Executive Inn By The Space Needle 200 Taylor A...  ...   0.428319\n",
              "182  Travelodge Seattle by The Space Needle 200 6th...  ...   0.428319\n",
              "\n",
              "[30 rows x 3 columns]"
            ]
          },
          "metadata": {
            "tags": []
          },
          "execution_count": 17
        }
      ]
    },
    {
      "cell_type": "code",
      "metadata": {
        "scrolled": false,
        "id": "WNCJEnES-jqm",
        "colab_type": "code",
        "outputId": "91dabf89-ad35-47e2-d043-ad7dac2eef1a",
        "colab": {
          "base_uri": "https://localhost:8080/",
          "height": 34
        }
      },
      "source": [
        "matches_df[matches_df['similarity'] < 0.50].right_side.nunique()"
      ],
      "execution_count": 18,
      "outputs": [
        {
          "output_type": "execute_result",
          "data": {
            "text/plain": [
              "152"
            ]
          },
          "metadata": {
            "tags": []
          },
          "execution_count": 18
        }
      ]
    }
  ]
}