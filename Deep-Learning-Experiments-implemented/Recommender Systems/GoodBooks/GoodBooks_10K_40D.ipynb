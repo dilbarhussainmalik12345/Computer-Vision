{
  "nbformat": 4,
  "nbformat_minor": 0,
  "metadata": {
    "colab": {
      "name": "GoodBooks_10K_40D.ipynb",
      "version": "0.3.2",
      "provenance": [],
      "toc_visible": true,
      "include_colab_link": true
    },
    "language_info": {
      "codemirror_mode": {
        "name": "ipython",
        "version": 3
      },
      "file_extension": ".py",
      "mimetype": "text/x-python",
      "name": "python",
      "nbconvert_exporter": "python",
      "pygments_lexer": "ipython3",
      "version": "3.7.2"
    },
    "kernelspec": {
      "name": "python3",
      "display_name": "Python 3"
    },
    "accelerator": "GPU"
  },
  "cells": [
    {
      "cell_type": "markdown",
      "metadata": {
        "id": "view-in-github",
        "colab_type": "text"
      },
      "source": [
        "<a href=\"https://colab.research.google.com/github/navneetkrc/Colab_fastai/blob/master/GoodBooks_10K_40D.ipynb\" target=\"_parent\"><img src=\"https://colab.research.google.com/assets/colab-badge.svg\" alt=\"Open In Colab\"/></a>"
      ]
    },
    {
      "metadata": {
        "id": "V5Wlld0QhYHg",
        "colab_type": "text"
      },
      "cell_type": "markdown",
      "source": [
        "# \"How's that book?\" -  Neural collaborative filtering with FastAI\n",
        "\n",
        "*Build a state-of-the-art book recommendation system with just 10 lines of code*\n",
        "\n",
        "<img src=\"http://i.imgur.com/uKyBvijg.png\"/>\n",
        "\n",
        "Recommender systems are at the core of pretty much every online service we interact with. Social networking sites like Facebook, Twitter and Instagram recommend posts you might like, or people you might know. Video streaming services like YouTube and Netflix recommend videos, movies or TV shows you might like. Online shopping sites like Amazon recommend products you might want to buy. \n",
        "\n",
        "**Collaborative** filtering is perhaps the most common technique used by recommender systems.\n",
        "\n",
        "> *Collaborative filtering is a method of making predictions about the interests of a user by collecting preferences from many users. The underlying assumption is that if a person A has the same opinion as a person B on an issue, A is more likely to have B's opinion on a different issue than that of a randomly chosen person.* - [Wikipedia](https://medium.com/r/?url=https%3A%2F%2Fen.wikipedia.org%2Fwiki%2FCollaborative_filtering)\n",
        "\n",
        "The [librec](https://medium.com/r/?url=https%3A%2F%2Fwww.librec.net%2F) Java library provides [over 70 different algorithms](https://medium.com/r/?url=https%3A%2F%2Fwww.librec.net%2Fdokuwiki%2Fdoku.php%3Fid%3DAlgorithmList%23recommender_algorithm_list) for collaborative filtering. In this post however, we'll implement a relatively new technique called *neural collaborative filtering*."
      ]
    },
    {
      "metadata": {
        "id": "iHav1BUzhYHk",
        "colab_type": "text"
      },
      "cell_type": "markdown",
      "source": [
        "## The MovieLens 1M Dataset\n",
        "\n",
        "The [GoodBooks 10K Dataset](https://www.kaggle.com/zygmunt/goodbooks-10k) Stable benchmark dataset. 1 million ratings from 53424 users on 10000 books. \n",
        "\n",
        "\n",
        "\n",
        "\n",
        "\n",
        "\n",
        "user_id,book_id,rating\n",
        "\n",
        "1,258,5\n",
        "\n",
        "2,4081,4\n",
        "\n",
        "2,260,5\n",
        "\n",
        "2,9296,5\n",
        "\n",
        "2,2318,3\n",
        "\n",
        "Ratings go from one to five. Both book IDs and user IDs are contiguous. For books, they are 1-10000, for users, 1-53424.\n",
        "\n",
        "Our objective here is to build a *model* that can predict how a user would rate a book they haven't already seen, by looking at the book ratings of other users with similar tastes."
      ]
    },
    {
      "metadata": {
        "id": "0iC1BymxhYHr",
        "colab_type": "text"
      },
      "cell_type": "markdown",
      "source": [
        "## System Setup\n",
        "\n",
        "If you want to follow along and run the code as you read, you can clone this notebook, install the required dependencies using [conda](https://conda.io), and start Jupyter by running the following commands on the terminal:\n",
        "\n",
        "```\n",
        "pip install jovian --upgrade     # Install the jovian library \n",
        "jovian clone 5bc23520933b4cc187cfe18e5dd7e2ed # Download notebook\n",
        "cd movielens-fastai              # Enter the created directory \n",
        "jovian install                   # Install the dependencies\n",
        "conda activate movielens-fastai  # Activate virtual environment\n",
        "jupyter notebook                 # Start Jupyter\n",
        "```\n",
        "\n",
        "Make sure you have [conda](https://conda.io) installed before running the above commands. You can also click on the **\"Run on Binder\"** button at the top to start a Jupyter notebook server hosted on mybinder.org  instantly."
      ]
    },
    {
      "metadata": {
        "id": "IOf8E0aehYHu",
        "colab_type": "text"
      },
      "cell_type": "markdown",
      "source": [
        "## Preparing the Data\n",
        "\n",
        "You can download the GoodBooks 10K dataset [from this link](https://github.com/zygmuntz/goodbooks-10k). \n",
        "\n",
        "Once downloaded, unzip and extract the data into a directory ml-100k next to the Jupyter notebook. As described in the [README](https://towardsdatascience.com/my-journey-to-building-book-recommendation-system-5ec959c41847), the file ratings.csv contains the list of ratings.\n",
        "\n",
        "*On Linux and Mac, you can simply run the follwing cell to download and extract the data:*"
      ]
    },
    {
      "metadata": {
        "id": "CL_tUTGXhYHw",
        "colab_type": "code",
        "colab": {}
      },
      "cell_type": "code",
      "source": [
        "# Download and extract the data (only for Linux and Mac)\n",
        "#!rm -rf goodbooks\n",
        "#!wget -q https://github.com/zygmuntz/goodbooks-10k/blob/master/ratings.csv\n"
      ],
      "execution_count": 0,
      "outputs": []
    },
    {
      "metadata": {
        "id": "CVBReaFRhYH8",
        "colab_type": "text"
      },
      "cell_type": "markdown",
      "source": [
        "We begin the importing the required modules from Pandas and FastAI."
      ]
    },
    {
      "metadata": {
        "id": "3BrntsQMhYH-",
        "colab_type": "code",
        "colab": {}
      },
      "cell_type": "code",
      "source": [
        "import pandas as pd\n",
        "from fastai.collab import CollabDataBunch, collab_learner"
      ],
      "execution_count": 0,
      "outputs": []
    },
    {
      "metadata": {
        "id": "--yqeLh_hYIF",
        "colab_type": "text"
      },
      "cell_type": "markdown",
      "source": [
        "We can now read the data from the CSV file `u.data` into a Pandas [data frame](https://medium.com/r/?url=https%3A%2F%2Fpandas.pydata.org%2Fpandas-docs%2Fstable%2Freference%2Fapi%2Fpandas.DataFrame.html), and create a FastAI [data bunch](https://medium.com/r/?url=https%3A%2F%2Fdocs.fast.ai%2Fbasic_data.html%23Get-your-data-ready-for-training) which:\n",
        "\n",
        "1. Converts the Pandas data frame into tensors\n",
        "2. It splits the data into a training set and a validation set\n",
        "3. Creates data loaders to access the data in batches\n",
        "4. Checks if a GPU is available, and moves the data to the GPU"
      ]
    },
    {
      "metadata": {
        "id": "d-iX3Tu9OIDO",
        "colab_type": "code",
        "colab": {
          "base_uri": "https://localhost:8080/",
          "height": 204
        },
        "outputId": "6152cb75-75db-478b-b573-fc8ff972c054"
      },
      "cell_type": "code",
      "source": [
        "ratings_df = pd.read_csv('ratings.csv')\n",
        "ratings_df.head()"
      ],
      "execution_count": 2,
      "outputs": [
        {
          "output_type": "execute_result",
          "data": {
            "text/html": [
              "<div>\n",
              "<style scoped>\n",
              "    .dataframe tbody tr th:only-of-type {\n",
              "        vertical-align: middle;\n",
              "    }\n",
              "\n",
              "    .dataframe tbody tr th {\n",
              "        vertical-align: top;\n",
              "    }\n",
              "\n",
              "    .dataframe thead th {\n",
              "        text-align: right;\n",
              "    }\n",
              "</style>\n",
              "<table border=\"1\" class=\"dataframe\">\n",
              "  <thead>\n",
              "    <tr style=\"text-align: right;\">\n",
              "      <th></th>\n",
              "      <th>book_id</th>\n",
              "      <th>user_id</th>\n",
              "      <th>rating</th>\n",
              "    </tr>\n",
              "  </thead>\n",
              "  <tbody>\n",
              "    <tr>\n",
              "      <th>0</th>\n",
              "      <td>1</td>\n",
              "      <td>314</td>\n",
              "      <td>5</td>\n",
              "    </tr>\n",
              "    <tr>\n",
              "      <th>1</th>\n",
              "      <td>1</td>\n",
              "      <td>439</td>\n",
              "      <td>3</td>\n",
              "    </tr>\n",
              "    <tr>\n",
              "      <th>2</th>\n",
              "      <td>1</td>\n",
              "      <td>588</td>\n",
              "      <td>5</td>\n",
              "    </tr>\n",
              "    <tr>\n",
              "      <th>3</th>\n",
              "      <td>1</td>\n",
              "      <td>1169</td>\n",
              "      <td>4</td>\n",
              "    </tr>\n",
              "    <tr>\n",
              "      <th>4</th>\n",
              "      <td>1</td>\n",
              "      <td>1185</td>\n",
              "      <td>4</td>\n",
              "    </tr>\n",
              "  </tbody>\n",
              "</table>\n",
              "</div>"
            ],
            "text/plain": [
              "   book_id  user_id  rating\n",
              "0        1      314       5\n",
              "1        1      439       3\n",
              "2        1      588       5\n",
              "3        1     1169       4\n",
              "4        1     1185       4"
            ]
          },
          "metadata": {
            "tags": []
          },
          "execution_count": 2
        }
      ]
    },
    {
      "metadata": {
        "id": "Amwk7bJvhYIO",
        "colab_type": "code",
        "colab": {
          "base_uri": "https://localhost:8080/",
          "height": 204
        },
        "outputId": "f9d907cd-1e96-442c-e9fb-e9023ffc48c1"
      },
      "cell_type": "code",
      "source": [
        "data = CollabDataBunch.from_df(ratings_df, valid_pct=0.1)\n",
        "data.show_batch()"
      ],
      "execution_count": 3,
      "outputs": [
        {
          "output_type": "display_data",
          "data": {
            "text/html": [
              "<table border=\"1\" class=\"dataframe\">\n",
              "  <thead>\n",
              "    <tr style=\"text-align: right;\">\n",
              "      <th>book_id</th>\n",
              "      <th>user_id</th>\n",
              "      <th>target</th>\n",
              "    </tr>\n",
              "  </thead>\n",
              "  <tbody>\n",
              "    <tr>\n",
              "      <td>2759</td>\n",
              "      <td>15930</td>\n",
              "      <td>4.0</td>\n",
              "    </tr>\n",
              "    <tr>\n",
              "      <td>8530</td>\n",
              "      <td>29259</td>\n",
              "      <td>4.0</td>\n",
              "    </tr>\n",
              "    <tr>\n",
              "      <td>9034</td>\n",
              "      <td>24925</td>\n",
              "      <td>4.0</td>\n",
              "    </tr>\n",
              "    <tr>\n",
              "      <td>6243</td>\n",
              "      <td>36972</td>\n",
              "      <td>4.0</td>\n",
              "    </tr>\n",
              "    <tr>\n",
              "      <td>6873</td>\n",
              "      <td>51243</td>\n",
              "      <td>2.0</td>\n",
              "    </tr>\n",
              "  </tbody>\n",
              "</table>"
            ],
            "text/plain": [
              "<IPython.core.display.HTML object>"
            ]
          },
          "metadata": {
            "tags": []
          }
        }
      ]
    },
    {
      "metadata": {
        "id": "J57erYn1hYIU",
        "colab_type": "text"
      },
      "cell_type": "markdown",
      "source": [
        "## Neural collaborative filtering model\n",
        "\n",
        "The model itself is quite simple. We represent each user `u` and each movie `m` by vector of a predefined length `n`. The rating for the movie `m` by the user `u`, as predicted by the model is simply the dot product of the two vectors.\n",
        "\n",
        "<img src=\"https://cdn-images-1.medium.com/max/800/1*RuAjbXDwvTAv74NtPS-FbQ.png\" style=\"width:360px\"/>\n",
        "\n",
        "Here's a small subset of the users and movies, represented by randomly chosen vectors of length 5, and the predicted ratings:\n",
        "\n",
        "<img src=\"https://cdn-images-1.medium.com/max/1600/1*y9H2v3PsytrCajWSNJJDsA.png\" style=\"width:480px\"/>\n",
        "\n",
        "Since the vectors are chosen randomly, it's quite unlikely that the ratings predicted by the model match the actual ratings. Our objective, while training the model, is to gradually adjust the elements inside the user & movie vectors so that predicted ratings get closer to the actual ratings.\n",
        "\n",
        "We can use the `collab_learner` method from `fastai` to create a neural collaborative filtering model."
      ]
    },
    {
      "metadata": {
        "id": "0ZNSe1OihYIW",
        "colab_type": "code",
        "colab": {}
      },
      "cell_type": "code",
      "source": [
        "learn = collab_learner(data, n_factors=40, y_range=[0,5.5], wd=.1)\n"
      ],
      "execution_count": 0,
      "outputs": []
    },
    {
      "metadata": {
        "id": "XtqGQ9_hhYIb",
        "colab_type": "text"
      },
      "cell_type": "markdown",
      "source": [
        "The actual model created here contains 2 important enhancements on the simpler version described earlier:\n",
        "\n",
        "First, apart from the vectors for users and movies, it also add bias terms to account for outliers, since some users tend to always rate movies very high or very low, and some movies tend to be universally acclaimed or disliked.\n",
        "\n",
        "<img src=\"https://cdn-images-1.medium.com/max/800/1*vF7oEwpuKfXP8_CYK_KgdQ.png\" style=\"width:360px\" />\n",
        "\n",
        "Second, it applies the Sigmoid activation function to the above output, and scales it so that the result always lies in the given `y_range`, which is 0 to 5.5 in this case.\n",
        "\n",
        "<img src=\"https://cdn-images-1.medium.com/max/800/1*NloTSPs4pCMYDZ8G1kxhoQ.png\" style=\"width:420px\"/>"
      ]
    },
    {
      "metadata": {
        "id": "N8Kqi9XVhYIc",
        "colab_type": "text"
      },
      "cell_type": "markdown",
      "source": [
        "## Training the model\n",
        "\n",
        "The learner uses the [*mean squared error*](https://en.wikipedia.org/wiki/Mean_squared_error) loss function to evaluate the predictions of the model, and the [Adam optimizer](https://machinelearningmastery.com/adam-optimization-algorithm-for-deep-learning/) to adjust the parameters (vectors and biases) using gradient descent. Before we train the model, we use the [learning rate finder](https://docs.fast.ai/callbacks.lr_finder.html) to select a good learning for the optimizer."
      ]
    },
    {
      "metadata": {
        "id": "_0V43t9fhYIe",
        "colab_type": "code",
        "colab": {
          "base_uri": "https://localhost:8080/",
          "height": 301
        },
        "outputId": "573a2da9-2fb8-44ea-c457-08a253393ba9"
      },
      "cell_type": "code",
      "source": [
        "learn.lr_find()\n",
        "learn.recorder.plot(skip_end=15)"
      ],
      "execution_count": 8,
      "outputs": [
        {
          "output_type": "display_data",
          "data": {
            "text/html": [
              ""
            ],
            "text/plain": [
              "<IPython.core.display.HTML object>"
            ]
          },
          "metadata": {
            "tags": []
          }
        },
        {
          "output_type": "stream",
          "text": [
            "LR Finder is complete, type {learner_name}.recorder.plot() to see the graph.\n"
          ],
          "name": "stdout"
        },
        {
          "output_type": "display_data",
          "data": {
            "image/png": "[encoded data removed]",
            "text/plain": [
              "<Figure size 432x288 with 1 Axes>"
            ]
          },
          "metadata": {
            "tags": []
          }
        }
      ]
    },
    {
      "metadata": {
        "id": "FiiNJCgchYIq",
        "colab_type": "text"
      },
      "cell_type": "markdown",
      "source": [
        "Upon inspection of the graph, we can see that the decrease in loss starts to decrease when the learning rate is around `0.01`. We can choose this as our learning rate, and train for 5 epochs, while annealing the learning rate using the [1-cycle policy](https://sgugger.github.io/the-1cycle-policy.html), which leads to faster convergence."
      ]
    },
    {
      "metadata": {
        "id": "MmIES5XihYIr",
        "colab_type": "code",
        "colab": {
          "base_uri": "https://localhost:8080/",
          "height": 747
        },
        "outputId": "5c06a61d-5783-4622-efab-448a7e097d4f"
      },
      "cell_type": "code",
      "source": [
        "learn.fit_one_cycle(10, 0.001)"
      ],
      "execution_count": 10,
      "outputs": [
        {
          "output_type": "display_data",
          "data": {
            "text/html": [
              "Total time: 22:16 <p><table border=\"1\" class=\"dataframe\">\n",
              "  <thead>\n",
              "    <tr style=\"text-align: left;\">\n",
              "      <th>epoch</th>\n",
              "      <th>train_loss</th>\n",
              "      <th>valid_loss</th>\n",
              "      <th>time</th>\n",
              "    </tr>\n",
              "  </thead>\n",
              "  <tbody>\n",
              "    <tr>\n",
              "      <td>0</td>\n",
              "      <td>1.896684</td>\n",
              "      <td>1.894076</td>\n",
              "      <td>02:11</td>\n",
              "    </tr>\n",
              "    <tr>\n",
              "      <td>1</td>\n",
              "      <td>1.091229</td>\n",
              "      <td>1.110037</td>\n",
              "      <td>02:13</td>\n",
              "    </tr>\n",
              "    <tr>\n",
              "      <td>2</td>\n",
              "      <td>0.908801</td>\n",
              "      <td>0.922708</td>\n",
              "      <td>02:14</td>\n",
              "    </tr>\n",
              "    <tr>\n",
              "      <td>3</td>\n",
              "      <td>0.919494</td>\n",
              "      <td>0.898161</td>\n",
              "      <td>02:13</td>\n",
              "    </tr>\n",
              "    <tr>\n",
              "      <td>4</td>\n",
              "      <td>0.876140</td>\n",
              "      <td>0.887953</td>\n",
              "      <td>02:13</td>\n",
              "    </tr>\n",
              "    <tr>\n",
              "      <td>5</td>\n",
              "      <td>0.860353</td>\n",
              "      <td>0.878859</td>\n",
              "      <td>02:13</td>\n",
              "    </tr>\n",
              "    <tr>\n",
              "      <td>6</td>\n",
              "      <td>0.878016</td>\n",
              "      <td>0.870541</td>\n",
              "      <td>02:14</td>\n",
              "    </tr>\n",
              "    <tr>\n",
              "      <td>7</td>\n",
              "      <td>0.845412</td>\n",
              "      <td>0.864428</td>\n",
              "      <td>02:14</td>\n",
              "    </tr>\n",
              "    <tr>\n",
              "      <td>8</td>\n",
              "      <td>0.820162</td>\n",
              "      <td>0.861246</td>\n",
              "      <td>02:13</td>\n",
              "    </tr>\n",
              "    <tr>\n",
              "      <td>9</td>\n",
              "      <td>0.776691</td>\n",
              "      <td>0.860755</td>\n",
              "      <td>02:13</td>\n",
              "    </tr>\n",
              "  </tbody>\n",
              "</table>"
            ],
            "text/plain": [
              "<IPython.core.display.HTML object>"
            ]
          },
          "metadata": {
            "tags": []
          }
        },
        {
          "output_type": "display_data",
          "data": {
            "text/html": [
              "Total time: 22:27 <p><table border=\"1\" class=\"dataframe\">\n",
              "  <thead>\n",
              "    <tr style=\"text-align: left;\">\n",
              "      <th>epoch</th>\n",
              "      <th>train_loss</th>\n",
              "      <th>valid_loss</th>\n",
              "      <th>time</th>\n",
              "    </tr>\n",
              "  </thead>\n",
              "  <tbody>\n",
              "    <tr>\n",
              "      <td>0</td>\n",
              "      <td>0.797163</td>\n",
              "      <td>0.860511</td>\n",
              "      <td>02:14</td>\n",
              "    </tr>\n",
              "    <tr>\n",
              "      <td>1</td>\n",
              "      <td>0.837796</td>\n",
              "      <td>0.874330</td>\n",
              "      <td>02:15</td>\n",
              "    </tr>\n",
              "    <tr>\n",
              "      <td>2</td>\n",
              "      <td>0.851318</td>\n",
              "      <td>0.890505</td>\n",
              "      <td>02:14</td>\n",
              "    </tr>\n",
              "    <tr>\n",
              "      <td>3</td>\n",
              "      <td>0.876289</td>\n",
              "      <td>0.887465</td>\n",
              "      <td>02:14</td>\n",
              "    </tr>\n",
              "    <tr>\n",
              "      <td>4</td>\n",
              "      <td>0.857890</td>\n",
              "      <td>0.883708</td>\n",
              "      <td>02:14</td>\n",
              "    </tr>\n",
              "    <tr>\n",
              "      <td>5</td>\n",
              "      <td>0.848219</td>\n",
              "      <td>0.875414</td>\n",
              "      <td>02:15</td>\n",
              "    </tr>\n",
              "    <tr>\n",
              "      <td>6</td>\n",
              "      <td>0.844268</td>\n",
              "      <td>0.869082</td>\n",
              "      <td>02:14</td>\n",
              "    </tr>\n",
              "    <tr>\n",
              "      <td>7</td>\n",
              "      <td>0.817047</td>\n",
              "      <td>0.862839</td>\n",
              "      <td>02:14</td>\n",
              "    </tr>\n",
              "    <tr>\n",
              "      <td>8</td>\n",
              "      <td>0.797703</td>\n",
              "      <td>0.859919</td>\n",
              "      <td>02:14</td>\n",
              "    </tr>\n",
              "    <tr>\n",
              "      <td>9</td>\n",
              "      <td>0.771293</td>\n",
              "      <td>0.859388</td>\n",
              "      <td>02:14</td>\n",
              "    </tr>\n",
              "  </tbody>\n",
              "</table>"
            ],
            "text/plain": [
              "<IPython.core.display.HTML object>"
            ]
          },
          "metadata": {
            "tags": []
          }
        }
      ]
    },
    {
      "metadata": {
        "id": "7IaGN0WThYIy",
        "colab_type": "text"
      },
      "cell_type": "markdown",
      "source": [
        "In just 15 seconds, the mean squared error has come down to around 0.82, which is quite close to the state of the art (as compared with [these benchmarks](https://medium.com/r/?url=https%3A%2F%2Fwww.librec.net%2Frelease%2Fv1.3%2Fexample.html)). And it only took us 8 lines of code to load the data and train the model!"
      ]
    },
    {
      "metadata": {
        "id": "_x4nYaNphYIz",
        "colab_type": "text"
      },
      "cell_type": "markdown",
      "source": [
        "## Looking at some predictions\n",
        "\n",
        "While it's great to see the loss go down, let's look at some actual predictions of the model."
      ]
    },
    {
      "metadata": {
        "id": "NI8lwNDKhYI1",
        "colab_type": "code",
        "colab": {
          "base_uri": "https://localhost:8080/",
          "height": 306
        },
        "outputId": "574058ca-7be0-4c51-b8db-5d265fc230e9"
      },
      "cell_type": "code",
      "source": [
        "(users, items), ratings = next(iter(data.valid_dl))\n",
        "preds = learn.model(users, items)\n",
        "print('Real\\tPred\\tDifference')\n",
        "for p in list(zip(ratings, preds))[:16]:\n",
        "    print('{}\\t{:.1f}\\t{:.1f}'.format(p[0],p[1],p[1]-p[0]))"
      ],
      "execution_count": 11,
      "outputs": [
        {
          "output_type": "stream",
          "text": [
            "Real\tPred\tDifference\n",
            "3.0\t3.2\t0.2\n",
            "4.0\t3.8\t-0.2\n",
            "4.0\t3.4\t-0.6\n",
            "4.0\t3.6\t-0.4\n",
            "3.0\t3.5\t0.5\n",
            "5.0\t3.2\t-1.8\n",
            "5.0\t4.6\t-0.4\n",
            "4.0\t3.6\t-0.4\n",
            "4.0\t3.6\t-0.4\n",
            "3.0\t3.2\t0.2\n",
            "5.0\t4.5\t-0.5\n",
            "5.0\t4.2\t-0.8\n",
            "3.0\t3.2\t0.2\n",
            "5.0\t4.0\t-1.0\n",
            "4.0\t3.1\t-0.9\n",
            "2.0\t3.2\t1.2\n"
          ],
          "name": "stdout"
        }
      ]
    },
    {
      "metadata": {
        "id": "wHQaqEcdhYI8",
        "colab_type": "text"
      },
      "cell_type": "markdown",
      "source": [
        "Indeed, the predictions are quite close to the actual ratings. We can now use this model to predict how users would rate books they haven't read, and recommend books that have a high predicted rating.\n",
        "\n",
        "<img src=\"https://cdn.lifehack.org/wp-content/uploads/2014/05/goodreads.jpg\" />"
      ]
    },
    {
      "metadata": {
        "id": "257FzBF7RS8q",
        "colab_type": "code",
        "colab": {
          "base_uri": "https://localhost:8080/",
          "height": 119
        },
        "outputId": "c7a2f186-de79-474f-aedc-5463b0ffa862"
      },
      "cell_type": "code",
      "source": [
        "learn.model"
      ],
      "execution_count": 12,
      "outputs": [
        {
          "output_type": "execute_result",
          "data": {
            "text/plain": [
              "EmbeddingDotBias(\n",
              "  (u_weight): Embedding(10001, 40)\n",
              "  (i_weight): Embedding(53334, 40)\n",
              "  (u_bias): Embedding(10001, 1)\n",
              "  (i_bias): Embedding(53334, 1)\n",
              ")"
            ]
          },
          "metadata": {
            "tags": []
          },
          "execution_count": 12
        }
      ]
    },
    {
      "metadata": {
        "id": "TzLszWENVZA5",
        "colab_type": "code",
        "colab": {
          "base_uri": "https://localhost:8080/",
          "height": 289
        },
        "outputId": "ca196181-112c-4a7f-adeb-2e629bd0bfc9"
      },
      "cell_type": "code",
      "source": [
        "print(learn.summary())"
      ],
      "execution_count": 13,
      "outputs": [
        {
          "output_type": "stream",
          "text": [
            "======================================================================\n",
            "Layer (type)         Output Shape         Param #    Trainable \n",
            "======================================================================\n",
            "Embedding            [40]                 400,040    True      \n",
            "______________________________________________________________________\n",
            "Embedding            [40]                 2,133,360  True      \n",
            "______________________________________________________________________\n",
            "Embedding            [1]                  10,001     True      \n",
            "______________________________________________________________________\n",
            "Embedding            [1]                  53,334     True      \n",
            "______________________________________________________________________\n",
            "\n",
            "Total params: 2,596,735\n",
            "Total trainable params: 2,596,735\n",
            "Total non-trainable params: 0\n",
            "\n"
          ],
          "name": "stdout"
        }
      ]
    },
    {
      "metadata": {
        "id": "01psxBGwhYI-",
        "colab_type": "text"
      },
      "cell_type": "markdown",
      "source": [
        "## Save and commit\n",
        "\n",
        "As a final step, we can save and commit our work using the `jovian` library."
      ]
    },
    {
      "metadata": {
        "id": "wQ9SyR6Pr0YR",
        "colab_type": "code",
        "colab": {}
      },
      "cell_type": "code",
      "source": [
        "#!pip install jovian"
      ],
      "execution_count": 0,
      "outputs": []
    },
    {
      "metadata": {
        "id": "x3MLoEF2hYI_",
        "colab_type": "code",
        "colab": {}
      },
      "cell_type": "code",
      "source": [
        "#import jovian"
      ],
      "execution_count": 0,
      "outputs": []
    },
    {
      "metadata": {
        "id": "cMUhbvC-hYJE",
        "colab_type": "code",
        "colab": {}
      },
      "cell_type": "code",
      "source": [
        "#jovian.commit()"
      ],
      "execution_count": 0,
      "outputs": []
    },
    {
      "metadata": {
        "id": "BrEt6kbVhYJM",
        "colab_type": "text"
      },
      "cell_type": "markdown",
      "source": [
        "Jovian uploads the notebook to [jvn.io](https://jvn.io), captures the Python environment and creates a sharable link for the notebook. You can use this link to share your work and let anyone reproduce it easily with the `jovian clone` command. Jovian also includes a powerful commenting interface, so you (and others) can discuss & comment on specific parts of your notebook."
      ]
    },
    {
      "metadata": {
        "id": "PeAOkbJPhYJO",
        "colab_type": "text"
      },
      "cell_type": "markdown",
      "source": [
        "## Further Reading\n",
        "\n",
        "In a future post, we'll dive deeper and see how `DataBunch` and `collab_learner` are actually implemented, using PyTorch. We'll also explore how we can interpret the vectors and biases learned by the model, and see some interesting results.\n",
        "\n",
        "In the meantime, following are some resources if you'd like to dive deeper into the topic:\n",
        "\n",
        "* [Lesson 4](https://course.fast.ai/videos/?lesson=4) of FastAI's \"Practical Deep Learning for Coders\" course\n",
        "\n",
        "* [Paper](https://arxiv.org/abs/1708.05031) introducing neural collaborative filtering\n",
        "\n",
        "* [PyTorch: Zero to GANs](https://medium.com/jovian-io/pytorch-basics-tensors-and-gradients-eb2f6e8a6eee)  - tutorial series covering the basics of PyTorch and neural networks"
      ]
    }
  ]
}