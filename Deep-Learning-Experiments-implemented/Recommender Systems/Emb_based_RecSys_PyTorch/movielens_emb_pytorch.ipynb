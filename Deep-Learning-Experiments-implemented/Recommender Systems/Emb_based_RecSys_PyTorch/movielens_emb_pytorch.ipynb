{
  "nbformat": 4,
  "nbformat_minor": 0,
  "metadata": {
    "colab": {
      "name": "movielens.ipynb",
      "version": "0.3.2",
      "provenance": [],
      "toc_visible": true,
      "include_colab_link": true
    },
    "kernelspec": {
      "name": "python3",
      "display_name": "Python 3"
    },
    "accelerator": "GPU"
  },
  "cells": [
    {
      "cell_type": "markdown",
      "metadata": {
        "id": "view-in-github",
        "colab_type": "text"
      },
      "source": [
        "<a href=\"https://colab.research.google.com/github/navneetkrc/Colab_fastai/blob/master/movielens_emb_pytorch.ipynb\" target=\"_parent\"><img src=\"https://colab.research.google.com/assets/colab-badge.svg\" alt=\"Open In Colab\"/></a>"
      ]
    },
    {
      "metadata": {
        "id": "e-66r87YrmEy",
        "colab_type": "text"
      },
      "cell_type": "markdown",
      "source": [
        "# Collaborative Filterting on MovieLens Dataset\n",
        "This notebook is the colab compatible notebook for this [medium](https://medium.com/@iliazaitsev/how-to-implement-a-recommendation-system-with-deep-learning-and-pytorch-2d40476590f9) article and its \n",
        "[github](https://github.com/devforfu/pytorch_playground/blob/master/movielens.ipynb) code.\n",
        "\n",
        "Thanks [Ilia Zaitsev](https://medium.com/@iliazaitsev) for the beautiful blog explaining embedding(User and Item) based recommender systems using only PyTorch and Deep Learning concepts.\n",
        "\n",
        "In this notebook, Ilia is making an attempt to \"unwrap\" abstaction layers of this [fast.ai lecture](http://course.fast.ai/lessons/lesson5.html) where Jeremy is explaining how to use embeddings to build a simple recommendation system.\n",
        "\n",
        "In other words, we are going to directly use PyTorch framework to train a small deep learning model to predict user ratings for specific movies. The original lesson's notebook is presented [here](https://github.com/fastai/fastai/blob/master/courses/dl1/lesson5-movielens.ipynb).\n"
      ]
    },
    {
      "metadata": {
        "id": "sauGYBU2rmEz",
        "colab_type": "text"
      },
      "cell_type": "markdown",
      "source": [
        "---\n",
        "## Imports"
      ]
    },
    {
      "metadata": {
        "id": "W5uwaRpNrmE0",
        "colab_type": "code",
        "colab": {}
      },
      "cell_type": "code",
      "source": [
        "%load_ext autoreload"
      ],
      "execution_count": 0,
      "outputs": []
    },
    {
      "metadata": {
        "id": "9yUc68orrmE3",
        "colab_type": "code",
        "colab": {}
      },
      "cell_type": "code",
      "source": [
        "%autoreload 2"
      ],
      "execution_count": 0,
      "outputs": []
    },
    {
      "metadata": {
        "id": "yDvXxHl7rmE5",
        "colab_type": "code",
        "colab": {}
      },
      "cell_type": "code",
      "source": [
        "%matplotlib inline"
      ],
      "execution_count": 0,
      "outputs": []
    },
    {
      "metadata": {
        "id": "g0RJq0yyrmE6",
        "colab_type": "code",
        "colab": {}
      },
      "cell_type": "code",
      "source": [
        "import io\n",
        "import os\n",
        "import math\n",
        "import copy\n",
        "import pickle\n",
        "import zipfile\n",
        "from textwrap import wrap\n",
        "from pathlib import Path\n",
        "from itertools import zip_longest\n",
        "from collections import defaultdict\n",
        "from urllib.error import URLError\n",
        "from urllib.request import urlopen\n",
        "\n",
        "import numpy as np\n",
        "import pandas as pd\n",
        "import matplotlib.pyplot as plt\n",
        "from sklearn.model_selection import train_test_split\n",
        "\n",
        "import torch\n",
        "from torch import nn\n",
        "from torch import optim\n",
        "from torch.nn import functional as F \n",
        "from torch.optim.lr_scheduler import _LRScheduler"
      ],
      "execution_count": 0,
      "outputs": []
    },
    {
      "metadata": {
        "id": "8jhxLMDBrmE8",
        "colab_type": "code",
        "colab": {}
      },
      "cell_type": "code",
      "source": [
        "plt.style.use('ggplot')"
      ],
      "execution_count": 0,
      "outputs": []
    },
    {
      "metadata": {
        "id": "CTTHFCDGrmE-",
        "colab_type": "text"
      },
      "cell_type": "markdown",
      "source": [
        "The function below ensures that we seed all random generators with the same value to get reproducible results:"
      ]
    },
    {
      "metadata": {
        "id": "i5cV1BB7rmFA",
        "colab_type": "code",
        "colab": {}
      },
      "cell_type": "code",
      "source": [
        "def set_random_seed(state=1):\n",
        "    gens = (np.random.seed, torch.manual_seed, torch.cuda.manual_seed)\n",
        "    for set_state in gens:\n",
        "        set_state(state)"
      ],
      "execution_count": 0,
      "outputs": []
    },
    {
      "metadata": {
        "id": "Eiq4qs1MrmFC",
        "colab_type": "code",
        "colab": {}
      },
      "cell_type": "code",
      "source": [
        "RANDOM_STATE = 1\n",
        "set_random_seed(RANDOM_STATE)"
      ],
      "execution_count": 0,
      "outputs": []
    },
    {
      "metadata": {
        "id": "s_6Ya_f9rmFE",
        "colab_type": "text"
      },
      "cell_type": "markdown",
      "source": [
        "---\n",
        "## Dataset Downloading\n",
        "\n",
        "In the original post, the `ml-latest-small` archive with movies and users is used but there are a few other bigger datasets. You can download any of them. However, some of the datasets use different format to store the records. The function `read_data` tries to read content of the dataset if it is stored with `.csv` or `.dat` extensions."
      ]
    },
    {
      "metadata": {
        "id": "XopWdzN_rmFE",
        "colab_type": "code",
        "colab": {}
      },
      "cell_type": "code",
      "source": [
        "def try_download(url, download_path):\n",
        "    archive_name = url.split('/')[-1]\n",
        "    folder_name, _ = os.path.splitext(archive_name)\n",
        "    \n",
        "    try:\n",
        "        r = urlopen(url)\n",
        "    except URLError as e:\n",
        "        print('Cannot download the data. Error: %s' % s)\n",
        "        return \n",
        "\n",
        "    assert r.status == 200\n",
        "    data = r.read()\n",
        "\n",
        "    with zipfile.ZipFile(io.BytesIO(data)) as arch:\n",
        "        arch.extractall(download_path)\n",
        "        \n",
        "    print('The archive is extracted into folder: %s' % download_path)"
      ],
      "execution_count": 0,
      "outputs": []
    },
    {
      "metadata": {
        "id": "zxlrvTuXrmFH",
        "colab_type": "code",
        "colab": {}
      },
      "cell_type": "code",
      "source": [
        "def read_data(path):\n",
        "    files = {}\n",
        "    for filename in path.glob('*'):\n",
        "        if filename.suffix == '.csv':\n",
        "            files[filename.stem] = pd.read_csv(filename)\n",
        "        elif filename.suffix == '.dat':\n",
        "            if filename.stem == 'ratings':\n",
        "                columns = ['userId', 'movieId', 'rating', 'timestamp']\n",
        "            else:\n",
        "                columns = ['movieId', 'title', 'genres']\n",
        "            data = pd.read_csv(filename, sep='::', names=columns, engine='python')\n",
        "            files[filename.stem] = data\n",
        "    return files['ratings'], files['movies']"
      ],
      "execution_count": 0,
      "outputs": []
    },
    {
      "metadata": {
        "id": "LcpxP5GlrmFK",
        "colab_type": "text"
      },
      "cell_type": "markdown",
      "source": [
        "The following archives from the [Grouplens repository](http://files.grouplens.org/datasets/movielens) can be downloaded and read with the functions defined above:\n",
        "\n",
        "* `ml-latest-small`\n",
        "* `ml-1m`\n",
        "* `ml-10m`\n",
        "* `ml-20m`"
      ]
    },
    {
      "metadata": {
        "id": "yg0q0MhKrmFK",
        "colab_type": "code",
        "colab": {}
      },
      "cell_type": "code",
      "source": [
        "# pick any other dataset instead\n",
        "archive_url = f'http://files.grouplens.org/datasets/movielens/ml-latest-small.zip'\n",
        "download_path = Path.home() / 'data' / 'movielens'"
      ],
      "execution_count": 0,
      "outputs": []
    },
    {
      "metadata": {
        "id": "YqOaQ7n1rmFM",
        "colab_type": "code",
        "colab": {
          "base_uri": "https://localhost:8080/",
          "height": 34
        },
        "outputId": "5888b5c5-5ee0-4857-e539-c05a2bfc573f"
      },
      "cell_type": "code",
      "source": [
        "try_download(archive_url, download_path)"
      ],
      "execution_count": 11,
      "outputs": [
        {
          "output_type": "stream",
          "text": [
            "The archive is extracted into folder: /root/data/movielens\n"
          ],
          "name": "stdout"
        }
      ]
    },
    {
      "metadata": {
        "id": "nJG5jK3srmFQ",
        "colab_type": "code",
        "colab": {
          "base_uri": "https://localhost:8080/",
          "height": 51
        },
        "outputId": "84de0964-7125-49a1-b7f2-83388939e306"
      },
      "cell_type": "code",
      "source": [
        "!ls -l $download_path"
      ],
      "execution_count": 16,
      "outputs": [
        {
          "output_type": "stream",
          "text": [
            "total 4\n",
            "drwxr-xr-x 2 root root 4096 Mar 12 11:37 ml-latest-small\n"
          ],
          "name": "stdout"
        }
      ]
    },
    {
      "metadata": {
        "id": "yWzKisLhrmFU",
        "colab_type": "code",
        "colab": {}
      },
      "cell_type": "code",
      "source": [
        "# pick one of the available folders\n",
        "#ratings, movies = read_data(download_path / 'ml-1atest-small')\n",
        "ratings = pd.read_csv(\"/root/data/movielens/ml-latest-small/ratings.csv\") \n",
        "movies = pd.read_csv(\"/root/data/movielens/ml-latest-small/movies.csv\") \n"
      ],
      "execution_count": 0,
      "outputs": []
    },
    {
      "metadata": {
        "id": "ZlwYts6qrmFV",
        "colab_type": "text"
      },
      "cell_type": "markdown",
      "source": [
        "---\n",
        "## Dataset Preview\n",
        "\n",
        "First of all, let's repeat the steps of the lecture where the dataset is loaded and prepared for further analysis."
      ]
    },
    {
      "metadata": {
        "id": "kXOAfg_UrmFW",
        "colab_type": "code",
        "colab": {
          "base_uri": "https://localhost:8080/",
          "height": 204
        },
        "outputId": "9d49adef-e704-4b0a-e071-bde20c51bf7c"
      },
      "cell_type": "code",
      "source": [
        "ratings.head()"
      ],
      "execution_count": 21,
      "outputs": [
        {
          "output_type": "execute_result",
          "data": {
            "text/html": [
              "<div>\n",
              "<style scoped>\n",
              "    .dataframe tbody tr th:only-of-type {\n",
              "        vertical-align: middle;\n",
              "    }\n",
              "\n",
              "    .dataframe tbody tr th {\n",
              "        vertical-align: top;\n",
              "    }\n",
              "\n",
              "    .dataframe thead th {\n",
              "        text-align: right;\n",
              "    }\n",
              "</style>\n",
              "<table border=\"1\" class=\"dataframe\">\n",
              "  <thead>\n",
              "    <tr style=\"text-align: right;\">\n",
              "      <th></th>\n",
              "      <th>userId</th>\n",
              "      <th>movieId</th>\n",
              "      <th>rating</th>\n",
              "      <th>timestamp</th>\n",
              "    </tr>\n",
              "  </thead>\n",
              "  <tbody>\n",
              "    <tr>\n",
              "      <th>0</th>\n",
              "      <td>1</td>\n",
              "      <td>1</td>\n",
              "      <td>4.0</td>\n",
              "      <td>964982703</td>\n",
              "    </tr>\n",
              "    <tr>\n",
              "      <th>1</th>\n",
              "      <td>1</td>\n",
              "      <td>3</td>\n",
              "      <td>4.0</td>\n",
              "      <td>964981247</td>\n",
              "    </tr>\n",
              "    <tr>\n",
              "      <th>2</th>\n",
              "      <td>1</td>\n",
              "      <td>6</td>\n",
              "      <td>4.0</td>\n",
              "      <td>964982224</td>\n",
              "    </tr>\n",
              "    <tr>\n",
              "      <th>3</th>\n",
              "      <td>1</td>\n",
              "      <td>47</td>\n",
              "      <td>5.0</td>\n",
              "      <td>964983815</td>\n",
              "    </tr>\n",
              "    <tr>\n",
              "      <th>4</th>\n",
              "      <td>1</td>\n",
              "      <td>50</td>\n",
              "      <td>5.0</td>\n",
              "      <td>964982931</td>\n",
              "    </tr>\n",
              "  </tbody>\n",
              "</table>\n",
              "</div>"
            ],
            "text/plain": [
              "   userId  movieId  rating  timestamp\n",
              "0       1        1     4.0  964982703\n",
              "1       1        3     4.0  964981247\n",
              "2       1        6     4.0  964982224\n",
              "3       1       47     5.0  964983815\n",
              "4       1       50     5.0  964982931"
            ]
          },
          "metadata": {
            "tags": []
          },
          "execution_count": 21
        }
      ]
    },
    {
      "metadata": {
        "id": "pbDWhKOHrmFZ",
        "colab_type": "code",
        "colab": {
          "base_uri": "https://localhost:8080/",
          "height": 204
        },
        "outputId": "a4bd0e1e-79eb-40ae-cc92-8090f4976759"
      },
      "cell_type": "code",
      "source": [
        "movies.head()"
      ],
      "execution_count": 22,
      "outputs": [
        {
          "output_type": "execute_result",
          "data": {
            "text/html": [
              "<div>\n",
              "<style scoped>\n",
              "    .dataframe tbody tr th:only-of-type {\n",
              "        vertical-align: middle;\n",
              "    }\n",
              "\n",
              "    .dataframe tbody tr th {\n",
              "        vertical-align: top;\n",
              "    }\n",
              "\n",
              "    .dataframe thead th {\n",
              "        text-align: right;\n",
              "    }\n",
              "</style>\n",
              "<table border=\"1\" class=\"dataframe\">\n",
              "  <thead>\n",
              "    <tr style=\"text-align: right;\">\n",
              "      <th></th>\n",
              "      <th>movieId</th>\n",
              "      <th>title</th>\n",
              "      <th>genres</th>\n",
              "    </tr>\n",
              "  </thead>\n",
              "  <tbody>\n",
              "    <tr>\n",
              "      <th>0</th>\n",
              "      <td>1</td>\n",
              "      <td>Toy Story (1995)</td>\n",
              "      <td>Adventure|Animation|Children|Comedy|Fantasy</td>\n",
              "    </tr>\n",
              "    <tr>\n",
              "      <th>1</th>\n",
              "      <td>2</td>\n",
              "      <td>Jumanji (1995)</td>\n",
              "      <td>Adventure|Children|Fantasy</td>\n",
              "    </tr>\n",
              "    <tr>\n",
              "      <th>2</th>\n",
              "      <td>3</td>\n",
              "      <td>Grumpier Old Men (1995)</td>\n",
              "      <td>Comedy|Romance</td>\n",
              "    </tr>\n",
              "    <tr>\n",
              "      <th>3</th>\n",
              "      <td>4</td>\n",
              "      <td>Waiting to Exhale (1995)</td>\n",
              "      <td>Comedy|Drama|Romance</td>\n",
              "    </tr>\n",
              "    <tr>\n",
              "      <th>4</th>\n",
              "      <td>5</td>\n",
              "      <td>Father of the Bride Part II (1995)</td>\n",
              "      <td>Comedy</td>\n",
              "    </tr>\n",
              "  </tbody>\n",
              "</table>\n",
              "</div>"
            ],
            "text/plain": [
              "   movieId                               title  \\\n",
              "0        1                    Toy Story (1995)   \n",
              "1        2                      Jumanji (1995)   \n",
              "2        3             Grumpier Old Men (1995)   \n",
              "3        4            Waiting to Exhale (1995)   \n",
              "4        5  Father of the Bride Part II (1995)   \n",
              "\n",
              "                                        genres  \n",
              "0  Adventure|Animation|Children|Comedy|Fantasy  \n",
              "1                   Adventure|Children|Fantasy  \n",
              "2                               Comedy|Romance  \n",
              "3                         Comedy|Drama|Romance  \n",
              "4                                       Comedy  "
            ]
          },
          "metadata": {
            "tags": []
          },
          "execution_count": 22
        }
      ]
    },
    {
      "metadata": {
        "id": "KuxgNXXqrmFc",
        "colab_type": "code",
        "colab": {}
      },
      "cell_type": "code",
      "source": [
        "def tabular_preview(ratings, n=15):\n",
        "    \"\"\"Creates a cross-tabular view of users vs movies.\"\"\"\n",
        "    \n",
        "    user_groups = ratings.groupby('userId')['rating'].count()\n",
        "    top_users = user_groups.sort_values(ascending=False)[:15]\n",
        "\n",
        "    movie_groups = ratings.groupby('movieId')['rating'].count()\n",
        "    top_movies = movie_groups.sort_values(ascending=False)[:15]\n",
        "\n",
        "    top = (\n",
        "        ratings.\n",
        "        join(top_users, rsuffix='_r', how='inner', on='userId').\n",
        "        join(top_movies, rsuffix='_r', how='inner', on='movieId'))\n",
        "\n",
        "    return pd.crosstab(top.userId, top.movieId, top.rating, aggfunc=np.sum)"
      ],
      "execution_count": 0,
      "outputs": []
    },
    {
      "metadata": {
        "scrolled": false,
        "id": "6WFiULetrmFf",
        "colab_type": "code",
        "colab": {
          "base_uri": "https://localhost:8080/",
          "height": 545
        },
        "outputId": "680bb8ab-20de-4d5e-d68e-2afaca33aed6"
      },
      "cell_type": "code",
      "source": [
        "tabular_preview(ratings, movies)"
      ],
      "execution_count": 24,
      "outputs": [
        {
          "output_type": "execute_result",
          "data": {
            "text/html": [
              "<div>\n",
              "<style scoped>\n",
              "    .dataframe tbody tr th:only-of-type {\n",
              "        vertical-align: middle;\n",
              "    }\n",
              "\n",
              "    .dataframe tbody tr th {\n",
              "        vertical-align: top;\n",
              "    }\n",
              "\n",
              "    .dataframe thead th {\n",
              "        text-align: right;\n",
              "    }\n",
              "</style>\n",
              "<table border=\"1\" class=\"dataframe\">\n",
              "  <thead>\n",
              "    <tr style=\"text-align: right;\">\n",
              "      <th>movieId</th>\n",
              "      <th>1</th>\n",
              "      <th>50</th>\n",
              "      <th>110</th>\n",
              "      <th>260</th>\n",
              "      <th>296</th>\n",
              "      <th>318</th>\n",
              "      <th>356</th>\n",
              "      <th>480</th>\n",
              "      <th>527</th>\n",
              "      <th>589</th>\n",
              "      <th>593</th>\n",
              "      <th>1196</th>\n",
              "      <th>2571</th>\n",
              "      <th>2858</th>\n",
              "      <th>2959</th>\n",
              "    </tr>\n",
              "    <tr>\n",
              "      <th>userId</th>\n",
              "      <th></th>\n",
              "      <th></th>\n",
              "      <th></th>\n",
              "      <th></th>\n",
              "      <th></th>\n",
              "      <th></th>\n",
              "      <th></th>\n",
              "      <th></th>\n",
              "      <th></th>\n",
              "      <th></th>\n",
              "      <th></th>\n",
              "      <th></th>\n",
              "      <th></th>\n",
              "      <th></th>\n",
              "      <th></th>\n",
              "    </tr>\n",
              "  </thead>\n",
              "  <tbody>\n",
              "    <tr>\n",
              "      <th>68</th>\n",
              "      <td>2.5</td>\n",
              "      <td>3.0</td>\n",
              "      <td>2.5</td>\n",
              "      <td>5.0</td>\n",
              "      <td>2.0</td>\n",
              "      <td>3.0</td>\n",
              "      <td>3.5</td>\n",
              "      <td>3.5</td>\n",
              "      <td>4.0</td>\n",
              "      <td>3.5</td>\n",
              "      <td>3.5</td>\n",
              "      <td>5.0</td>\n",
              "      <td>4.5</td>\n",
              "      <td>5.0</td>\n",
              "      <td>2.5</td>\n",
              "    </tr>\n",
              "    <tr>\n",
              "      <th>182</th>\n",
              "      <td>4.0</td>\n",
              "      <td>4.5</td>\n",
              "      <td>3.5</td>\n",
              "      <td>3.5</td>\n",
              "      <td>5.0</td>\n",
              "      <td>4.5</td>\n",
              "      <td>5.0</td>\n",
              "      <td>3.5</td>\n",
              "      <td>4.0</td>\n",
              "      <td>2.0</td>\n",
              "      <td>4.5</td>\n",
              "      <td>3.0</td>\n",
              "      <td>5.0</td>\n",
              "      <td>5.0</td>\n",
              "      <td>5.0</td>\n",
              "    </tr>\n",
              "    <tr>\n",
              "      <th>249</th>\n",
              "      <td>4.0</td>\n",
              "      <td>4.0</td>\n",
              "      <td>5.0</td>\n",
              "      <td>5.0</td>\n",
              "      <td>4.0</td>\n",
              "      <td>4.5</td>\n",
              "      <td>4.5</td>\n",
              "      <td>4.0</td>\n",
              "      <td>4.5</td>\n",
              "      <td>4.0</td>\n",
              "      <td>4.0</td>\n",
              "      <td>5.0</td>\n",
              "      <td>5.0</td>\n",
              "      <td>4.5</td>\n",
              "      <td>5.0</td>\n",
              "    </tr>\n",
              "    <tr>\n",
              "      <th>274</th>\n",
              "      <td>4.0</td>\n",
              "      <td>4.0</td>\n",
              "      <td>4.5</td>\n",
              "      <td>3.0</td>\n",
              "      <td>5.0</td>\n",
              "      <td>4.5</td>\n",
              "      <td>4.5</td>\n",
              "      <td>3.5</td>\n",
              "      <td>4.0</td>\n",
              "      <td>4.5</td>\n",
              "      <td>4.0</td>\n",
              "      <td>4.5</td>\n",
              "      <td>4.0</td>\n",
              "      <td>5.0</td>\n",
              "      <td>5.0</td>\n",
              "    </tr>\n",
              "    <tr>\n",
              "      <th>288</th>\n",
              "      <td>4.5</td>\n",
              "      <td>NaN</td>\n",
              "      <td>5.0</td>\n",
              "      <td>5.0</td>\n",
              "      <td>5.0</td>\n",
              "      <td>5.0</td>\n",
              "      <td>5.0</td>\n",
              "      <td>2.0</td>\n",
              "      <td>5.0</td>\n",
              "      <td>4.0</td>\n",
              "      <td>5.0</td>\n",
              "      <td>4.5</td>\n",
              "      <td>3.0</td>\n",
              "      <td>NaN</td>\n",
              "      <td>3.5</td>\n",
              "    </tr>\n",
              "    <tr>\n",
              "      <th>307</th>\n",
              "      <td>4.0</td>\n",
              "      <td>4.5</td>\n",
              "      <td>3.5</td>\n",
              "      <td>3.5</td>\n",
              "      <td>4.5</td>\n",
              "      <td>4.5</td>\n",
              "      <td>4.0</td>\n",
              "      <td>3.5</td>\n",
              "      <td>4.5</td>\n",
              "      <td>2.5</td>\n",
              "      <td>4.5</td>\n",
              "      <td>3.0</td>\n",
              "      <td>3.5</td>\n",
              "      <td>4.0</td>\n",
              "      <td>4.0</td>\n",
              "    </tr>\n",
              "    <tr>\n",
              "      <th>380</th>\n",
              "      <td>5.0</td>\n",
              "      <td>4.0</td>\n",
              "      <td>4.0</td>\n",
              "      <td>5.0</td>\n",
              "      <td>5.0</td>\n",
              "      <td>3.0</td>\n",
              "      <td>5.0</td>\n",
              "      <td>5.0</td>\n",
              "      <td>NaN</td>\n",
              "      <td>5.0</td>\n",
              "      <td>5.0</td>\n",
              "      <td>5.0</td>\n",
              "      <td>4.5</td>\n",
              "      <td>NaN</td>\n",
              "      <td>4.0</td>\n",
              "    </tr>\n",
              "    <tr>\n",
              "      <th>387</th>\n",
              "      <td>NaN</td>\n",
              "      <td>4.5</td>\n",
              "      <td>3.5</td>\n",
              "      <td>4.5</td>\n",
              "      <td>5.0</td>\n",
              "      <td>3.5</td>\n",
              "      <td>4.0</td>\n",
              "      <td>3.0</td>\n",
              "      <td>NaN</td>\n",
              "      <td>3.5</td>\n",
              "      <td>4.0</td>\n",
              "      <td>4.5</td>\n",
              "      <td>4.0</td>\n",
              "      <td>4.5</td>\n",
              "      <td>4.5</td>\n",
              "    </tr>\n",
              "    <tr>\n",
              "      <th>414</th>\n",
              "      <td>4.0</td>\n",
              "      <td>5.0</td>\n",
              "      <td>5.0</td>\n",
              "      <td>5.0</td>\n",
              "      <td>5.0</td>\n",
              "      <td>5.0</td>\n",
              "      <td>5.0</td>\n",
              "      <td>4.0</td>\n",
              "      <td>4.0</td>\n",
              "      <td>5.0</td>\n",
              "      <td>4.0</td>\n",
              "      <td>5.0</td>\n",
              "      <td>5.0</td>\n",
              "      <td>5.0</td>\n",
              "      <td>5.0</td>\n",
              "    </tr>\n",
              "    <tr>\n",
              "      <th>448</th>\n",
              "      <td>5.0</td>\n",
              "      <td>4.0</td>\n",
              "      <td>NaN</td>\n",
              "      <td>5.0</td>\n",
              "      <td>5.0</td>\n",
              "      <td>NaN</td>\n",
              "      <td>3.0</td>\n",
              "      <td>3.0</td>\n",
              "      <td>NaN</td>\n",
              "      <td>3.0</td>\n",
              "      <td>5.0</td>\n",
              "      <td>5.0</td>\n",
              "      <td>2.0</td>\n",
              "      <td>4.0</td>\n",
              "      <td>4.0</td>\n",
              "    </tr>\n",
              "    <tr>\n",
              "      <th>474</th>\n",
              "      <td>4.0</td>\n",
              "      <td>4.0</td>\n",
              "      <td>3.0</td>\n",
              "      <td>4.0</td>\n",
              "      <td>4.0</td>\n",
              "      <td>5.0</td>\n",
              "      <td>3.0</td>\n",
              "      <td>4.5</td>\n",
              "      <td>5.0</td>\n",
              "      <td>4.0</td>\n",
              "      <td>4.5</td>\n",
              "      <td>5.0</td>\n",
              "      <td>4.5</td>\n",
              "      <td>3.5</td>\n",
              "      <td>4.0</td>\n",
              "    </tr>\n",
              "    <tr>\n",
              "      <th>599</th>\n",
              "      <td>3.0</td>\n",
              "      <td>3.5</td>\n",
              "      <td>3.5</td>\n",
              "      <td>5.0</td>\n",
              "      <td>5.0</td>\n",
              "      <td>4.0</td>\n",
              "      <td>3.5</td>\n",
              "      <td>4.0</td>\n",
              "      <td>NaN</td>\n",
              "      <td>4.5</td>\n",
              "      <td>3.0</td>\n",
              "      <td>5.0</td>\n",
              "      <td>5.0</td>\n",
              "      <td>5.0</td>\n",
              "      <td>5.0</td>\n",
              "    </tr>\n",
              "    <tr>\n",
              "      <th>603</th>\n",
              "      <td>4.0</td>\n",
              "      <td>NaN</td>\n",
              "      <td>1.0</td>\n",
              "      <td>4.0</td>\n",
              "      <td>5.0</td>\n",
              "      <td>NaN</td>\n",
              "      <td>3.0</td>\n",
              "      <td>NaN</td>\n",
              "      <td>3.0</td>\n",
              "      <td>NaN</td>\n",
              "      <td>5.0</td>\n",
              "      <td>3.0</td>\n",
              "      <td>5.0</td>\n",
              "      <td>5.0</td>\n",
              "      <td>4.0</td>\n",
              "    </tr>\n",
              "    <tr>\n",
              "      <th>606</th>\n",
              "      <td>2.5</td>\n",
              "      <td>4.5</td>\n",
              "      <td>3.5</td>\n",
              "      <td>4.5</td>\n",
              "      <td>5.0</td>\n",
              "      <td>3.5</td>\n",
              "      <td>4.0</td>\n",
              "      <td>2.5</td>\n",
              "      <td>5.0</td>\n",
              "      <td>3.5</td>\n",
              "      <td>4.5</td>\n",
              "      <td>4.5</td>\n",
              "      <td>5.0</td>\n",
              "      <td>4.5</td>\n",
              "      <td>5.0</td>\n",
              "    </tr>\n",
              "    <tr>\n",
              "      <th>610</th>\n",
              "      <td>5.0</td>\n",
              "      <td>4.0</td>\n",
              "      <td>4.5</td>\n",
              "      <td>5.0</td>\n",
              "      <td>5.0</td>\n",
              "      <td>3.0</td>\n",
              "      <td>3.0</td>\n",
              "      <td>5.0</td>\n",
              "      <td>3.5</td>\n",
              "      <td>5.0</td>\n",
              "      <td>4.5</td>\n",
              "      <td>5.0</td>\n",
              "      <td>5.0</td>\n",
              "      <td>3.5</td>\n",
              "      <td>5.0</td>\n",
              "    </tr>\n",
              "  </tbody>\n",
              "</table>\n",
              "</div>"
            ],
            "text/plain": [
              "movieId  1     50    110   260   296   318   356   480   527   589   593   \\\n",
              "userId                                                                      \n",
              "68        2.5   3.0   2.5   5.0   2.0   3.0   3.5   3.5   4.0   3.5   3.5   \n",
              "182       4.0   4.5   3.5   3.5   5.0   4.5   5.0   3.5   4.0   2.0   4.5   \n",
              "249       4.0   4.0   5.0   5.0   4.0   4.5   4.5   4.0   4.5   4.0   4.0   \n",
              "274       4.0   4.0   4.5   3.0   5.0   4.5   4.5   3.5   4.0   4.5   4.0   \n",
              "288       4.5   NaN   5.0   5.0   5.0   5.0   5.0   2.0   5.0   4.0   5.0   \n",
              "307       4.0   4.5   3.5   3.5   4.5   4.5   4.0   3.5   4.5   2.5   4.5   \n",
              "380       5.0   4.0   4.0   5.0   5.0   3.0   5.0   5.0   NaN   5.0   5.0   \n",
              "387       NaN   4.5   3.5   4.5   5.0   3.5   4.0   3.0   NaN   3.5   4.0   \n",
              "414       4.0   5.0   5.0   5.0   5.0   5.0   5.0   4.0   4.0   5.0   4.0   \n",
              "448       5.0   4.0   NaN   5.0   5.0   NaN   3.0   3.0   NaN   3.0   5.0   \n",
              "474       4.0   4.0   3.0   4.0   4.0   5.0   3.0   4.5   5.0   4.0   4.5   \n",
              "599       3.0   3.5   3.5   5.0   5.0   4.0   3.5   4.0   NaN   4.5   3.0   \n",
              "603       4.0   NaN   1.0   4.0   5.0   NaN   3.0   NaN   3.0   NaN   5.0   \n",
              "606       2.5   4.5   3.5   4.5   5.0   3.5   4.0   2.5   5.0   3.5   4.5   \n",
              "610       5.0   4.0   4.5   5.0   5.0   3.0   3.0   5.0   3.5   5.0   4.5   \n",
              "\n",
              "movieId  1196  2571  2858  2959  \n",
              "userId                           \n",
              "68        5.0   4.5   5.0   2.5  \n",
              "182       3.0   5.0   5.0   5.0  \n",
              "249       5.0   5.0   4.5   5.0  \n",
              "274       4.5   4.0   5.0   5.0  \n",
              "288       4.5   3.0   NaN   3.5  \n",
              "307       3.0   3.5   4.0   4.0  \n",
              "380       5.0   4.5   NaN   4.0  \n",
              "387       4.5   4.0   4.5   4.5  \n",
              "414       5.0   5.0   5.0   5.0  \n",
              "448       5.0   2.0   4.0   4.0  \n",
              "474       5.0   4.5   3.5   4.0  \n",
              "599       5.0   5.0   5.0   5.0  \n",
              "603       3.0   5.0   5.0   4.0  \n",
              "606       4.5   5.0   4.5   5.0  \n",
              "610       5.0   5.0   3.5   5.0  "
            ]
          },
          "metadata": {
            "tags": []
          },
          "execution_count": 24
        }
      ]
    },
    {
      "metadata": {
        "id": "5By5tWDKrmFh",
        "colab_type": "text"
      },
      "cell_type": "markdown",
      "source": [
        "---\n",
        "## Dataset Preparation\n",
        "\n",
        "Next we need a couple of helpers to prepare the data and make it ready for the training loop. The first one was already implemented in the original post:"
      ]
    },
    {
      "metadata": {
        "id": "Y4IQPkAcrmFh",
        "colab_type": "code",
        "colab": {}
      },
      "cell_type": "code",
      "source": [
        "def create_dataset(ratings, top=None):\n",
        "    if top is not None:\n",
        "        ratings.groupby('userId')['rating'].count()\n",
        "    \n",
        "    unique_users = ratings.userId.unique()\n",
        "    user_to_index = {old: new for new, old in enumerate(unique_users)}\n",
        "    new_users = ratings.userId.map(user_to_index)\n",
        "    \n",
        "    unique_movies = ratings.movieId.unique()\n",
        "    movie_to_index = {old: new for new, old in enumerate(unique_movies)}\n",
        "    new_movies = ratings.movieId.map(movie_to_index)\n",
        "    \n",
        "    n_users = unique_users.shape[0]\n",
        "    n_movies = unique_movies.shape[0]\n",
        "    \n",
        "    X = pd.DataFrame({'user_id': new_users, 'movie_id': new_movies})\n",
        "    y = ratings['rating'].astype(np.float32)\n",
        "    return (n_users, n_movies), (X, y), (user_to_index, movie_to_index)"
      ],
      "execution_count": 0,
      "outputs": []
    },
    {
      "metadata": {
        "id": "_5cjq9PWrmFj",
        "colab_type": "code",
        "colab": {
          "base_uri": "https://localhost:8080/",
          "height": 68
        },
        "outputId": "b1633297-4c6b-47ca-977e-35bf0d9a947a"
      },
      "cell_type": "code",
      "source": [
        "(n, m), (X, y), _ = create_dataset(ratings)\n",
        "print(f'Embeddings: {n} users, {m} movies')\n",
        "print(f'Dataset shape: {X.shape}')\n",
        "print(f'Target shape: {y.shape}')"
      ],
      "execution_count": 26,
      "outputs": [
        {
          "output_type": "stream",
          "text": [
            "Embeddings: 610 users, 9724 movies\n",
            "Dataset shape: (100836, 2)\n",
            "Target shape: (100836,)\n"
          ],
          "name": "stdout"
        }
      ]
    },
    {
      "metadata": {
        "id": "djNA40_5rmFm",
        "colab_type": "text"
      },
      "cell_type": "markdown",
      "source": [
        "The second one is a small class that allows to iterate through the dataset one batch after another:"
      ]
    },
    {
      "metadata": {
        "id": "J7DnAVlfrmFo",
        "colab_type": "code",
        "colab": {}
      },
      "cell_type": "code",
      "source": [
        "class ReviewsIterator:\n",
        "    \n",
        "    def __init__(self, X, y, batch_size=32, shuffle=True):\n",
        "        X, y = np.asarray(X), np.asarray(y)\n",
        "        \n",
        "        if shuffle:\n",
        "            index = np.random.permutation(X.shape[0])\n",
        "            X, y = X[index], y[index]\n",
        "            \n",
        "        self.X = X\n",
        "        self.y = y\n",
        "        self.batch_size = batch_size\n",
        "        self.shuffle = shuffle\n",
        "        self.n_batches = int(math.ceil(X.shape[0] // batch_size))\n",
        "        self._current = 0\n",
        "        \n",
        "    def __iter__(self):\n",
        "        return self\n",
        "    \n",
        "    def __next__(self):\n",
        "        return self.next()\n",
        "    \n",
        "    def next(self):\n",
        "        if self._current >= self.n_batches:\n",
        "            raise StopIteration()\n",
        "        k = self._current\n",
        "        self._current += 1\n",
        "        bs = self.batch_size\n",
        "        return self.X[k*bs:(k + 1)*bs], self.y[k*bs:(k + 1)*bs]"
      ],
      "execution_count": 0,
      "outputs": []
    },
    {
      "metadata": {
        "id": "UACe5n6PrmFs",
        "colab_type": "text"
      },
      "cell_type": "markdown",
      "source": [
        "A convenice function `batches` allows us to split the dataset into smaller chunks during training/validation process:"
      ]
    },
    {
      "metadata": {
        "id": "EW2gK6mTrmFs",
        "colab_type": "code",
        "colab": {}
      },
      "cell_type": "code",
      "source": [
        "def batches(X, y, bs=32, shuffle=True):\n",
        "    for xb, yb in ReviewsIterator(X, y, bs, shuffle):\n",
        "        xb = torch.LongTensor(xb)\n",
        "        yb = torch.FloatTensor(yb)\n",
        "        yield xb, yb.view(-1, 1) "
      ],
      "execution_count": 0,
      "outputs": []
    },
    {
      "metadata": {
        "id": "g28HT0cErmFv",
        "colab_type": "code",
        "colab": {
          "base_uri": "https://localhost:8080/",
          "height": 153
        },
        "outputId": "12f4248a-4d67-4712-8e04-8a620f05eaf8"
      },
      "cell_type": "code",
      "source": [
        "for x_batch, y_batch in batches(X, y, bs=4):\n",
        "    print(x_batch)\n",
        "    print(y_batch)\n",
        "    break"
      ],
      "execution_count": 29,
      "outputs": [
        {
          "output_type": "stream",
          "text": [
            "tensor([[ 472,  224],\n",
            "        [3638,  532],\n",
            "        [4813,  124],\n",
            "        [ 348,  262]])\n",
            "tensor([[3.],\n",
            "        [5.],\n",
            "        [2.],\n",
            "        [5.]])\n"
          ],
          "name": "stdout"
        }
      ]
    },
    {
      "metadata": {
        "id": "Fb2Eej6ArmFx",
        "colab_type": "text"
      },
      "cell_type": "markdown",
      "source": [
        "---\n",
        "## Embeddings\n",
        "\n",
        "In this secion we're going to create an `nn.Module` for our embedding network. The main difference from the class provided in the original post is that this class is a bit more generic: it allows to create a network of arbirary depth, with or without dropouts. Also, the `forward` method accepts an additional `minmax` argument which is expected to be a tuple with minimum and maximum values of ratings from the dataset to normalize the predicted value into specific range.\n",
        "\n",
        "Note that to create a group of hidden layers we use a [generator](https://wiki.python.org/moin/Generators) function `gen_layers` that yields linear and dropout layers depending on values from `hidden` and `dropouts` arrays. Also note that we use the `nn.Sequence` class to group hidden layers into a single module."
      ]
    },
    {
      "metadata": {
        "id": "K6msbDJXrmFz",
        "colab_type": "code",
        "colab": {}
      },
      "cell_type": "code",
      "source": [
        "class EmbeddingNet(nn.Module):\n",
        "    \"\"\"\n",
        "    Creates a dense network with embedding layers.\n",
        "    \n",
        "    Args:\n",
        "    \n",
        "        n_users:            \n",
        "            Number of unique users in the dataset.\n",
        "\n",
        "        n_movies: \n",
        "            Number of unique movies in the dataset.\n",
        "\n",
        "        n_factors: \n",
        "            Number of columns in the embeddings matrix.\n",
        "\n",
        "        embedding_dropout: \n",
        "            Dropout rate to apply right after embeddings layer.\n",
        "\n",
        "        hidden:\n",
        "            A single integer or a list of integers defining the number of \n",
        "            units in hidden layer(s).\n",
        "\n",
        "        dropouts: \n",
        "            A single integer or a list of integers defining the dropout \n",
        "            layers rates applyied right after each of hidden layers.\n",
        "            \n",
        "    \"\"\"\n",
        "    def __init__(self, n_users, n_movies,\n",
        "                 n_factors=50, embedding_dropout=0.02, \n",
        "                 hidden=10, dropouts=0.2):\n",
        "        \n",
        "        super().__init__()\n",
        "        hidden = get_list(hidden)\n",
        "        dropouts = get_list(dropouts)\n",
        "        n_last = hidden[-1]\n",
        "        \n",
        "        def gen_layers(n_in):\n",
        "            \"\"\"\n",
        "            A generator that yields a sequence of hidden layers and \n",
        "            their activations/dropouts.\n",
        "            \n",
        "            Note that the function captures `hidden` and `dropouts` \n",
        "            values from the outer scope.\n",
        "            \"\"\"\n",
        "            nonlocal hidden, dropouts\n",
        "            assert len(dropouts) <= len(hidden)\n",
        "            \n",
        "            for n_out, rate in zip_longest(hidden, dropouts):\n",
        "                yield nn.Linear(n_in, n_out)\n",
        "                yield nn.ReLU()\n",
        "                if rate is not None and rate > 0.:\n",
        "                    yield nn.Dropout(rate)\n",
        "                n_in = n_out\n",
        "            \n",
        "        self.u = nn.Embedding(n_users, n_factors)\n",
        "        self.m = nn.Embedding(n_movies, n_factors)\n",
        "        self.drop = nn.Dropout(embedding_dropout)\n",
        "        self.hidden = nn.Sequential(*list(gen_layers(n_factors * 2)))\n",
        "        self.fc = nn.Linear(n_last, 1)\n",
        "        self._init()\n",
        "        \n",
        "    def forward(self, users, movies, minmax=None):\n",
        "        features = torch.cat([self.u(users), self.m(movies)], dim=1)\n",
        "        x = self.drop(features)\n",
        "        x = self.hidden(x)\n",
        "        out = torch.sigmoid(self.fc(x))\n",
        "        if minmax is not None:\n",
        "            min_rating, max_rating = minmax\n",
        "            out = out*(max_rating - min_rating + 1) + min_rating - 0.5\n",
        "        return out\n",
        "    \n",
        "    def _init(self):\n",
        "        \"\"\"\n",
        "        Setup embeddings and hidden layers with reasonable initial values.\n",
        "        \"\"\"\n",
        "        \n",
        "        def init(m):\n",
        "            if type(m) == nn.Linear:\n",
        "                torch.nn.init.xavier_uniform_(m.weight)\n",
        "                m.bias.data.fill_(0.01)\n",
        "                \n",
        "        self.u.weight.data.uniform_(-0.05, 0.05)\n",
        "        self.m.weight.data.uniform_(-0.05, 0.05)\n",
        "        self.hidden.apply(init)\n",
        "        init(self.fc)\n",
        "    \n",
        "    \n",
        "def get_list(n):\n",
        "    if isinstance(n, (int, float)):\n",
        "        return [n]\n",
        "    elif hasattr(n, '__iter__'):\n",
        "        return list(n)\n",
        "    raise TypeError('layers configuraiton should be a single number or a list of numbers')"
      ],
      "execution_count": 0,
      "outputs": []
    },
    {
      "metadata": {
        "id": "lPKwVFmqrmF1",
        "colab_type": "text"
      },
      "cell_type": "markdown",
      "source": [
        "For example, if we want to create a network with a single hidden layer and dropout, we can use the following code snippet:"
      ]
    },
    {
      "metadata": {
        "id": "cPuAInRDrmF1",
        "colab_type": "code",
        "colab": {
          "base_uri": "https://localhost:8080/",
          "height": 204
        },
        "outputId": "a844e944-d7fe-41d5-bde7-494688dc955a"
      },
      "cell_type": "code",
      "source": [
        "EmbeddingNet(n, m, n_factors=150, hidden=100, dropouts=0.5)"
      ],
      "execution_count": 31,
      "outputs": [
        {
          "output_type": "execute_result",
          "data": {
            "text/plain": [
              "EmbeddingNet(\n",
              "  (u): Embedding(610, 150)\n",
              "  (m): Embedding(9724, 150)\n",
              "  (drop): Dropout(p=0.02)\n",
              "  (hidden): Sequential(\n",
              "    (0): Linear(in_features=300, out_features=100, bias=True)\n",
              "    (1): ReLU()\n",
              "    (2): Dropout(p=0.5)\n",
              "  )\n",
              "  (fc): Linear(in_features=100, out_features=1, bias=True)\n",
              ")"
            ]
          },
          "metadata": {
            "tags": []
          },
          "execution_count": 31
        }
      ]
    },
    {
      "metadata": {
        "id": "pl_6NhwArmF4",
        "colab_type": "text"
      },
      "cell_type": "markdown",
      "source": [
        "If case if something more involved is required, pass a list of values instead:"
      ]
    },
    {
      "metadata": {
        "id": "072eA_X2rmF5",
        "colab_type": "code",
        "colab": {
          "base_uri": "https://localhost:8080/",
          "height": 289
        },
        "outputId": "9e987aa5-3c6e-41ed-b802-5c358c4d2063"
      },
      "cell_type": "code",
      "source": [
        "EmbeddingNet(n, m, n_factors=150, hidden=[100, 200, 300], dropouts=[0.25, 0.5])"
      ],
      "execution_count": 32,
      "outputs": [
        {
          "output_type": "execute_result",
          "data": {
            "text/plain": [
              "EmbeddingNet(\n",
              "  (u): Embedding(610, 150)\n",
              "  (m): Embedding(9724, 150)\n",
              "  (drop): Dropout(p=0.02)\n",
              "  (hidden): Sequential(\n",
              "    (0): Linear(in_features=300, out_features=100, bias=True)\n",
              "    (1): ReLU()\n",
              "    (2): Dropout(p=0.25)\n",
              "    (3): Linear(in_features=100, out_features=200, bias=True)\n",
              "    (4): ReLU()\n",
              "    (5): Dropout(p=0.5)\n",
              "    (6): Linear(in_features=200, out_features=300, bias=True)\n",
              "    (7): ReLU()\n",
              "  )\n",
              "  (fc): Linear(in_features=300, out_features=1, bias=True)\n",
              ")"
            ]
          },
          "metadata": {
            "tags": []
          },
          "execution_count": 32
        }
      ]
    },
    {
      "metadata": {
        "id": "S3B6El3SrmF7",
        "colab_type": "text"
      },
      "cell_type": "markdown",
      "source": [
        "---\n",
        "## Cyclical Learning Rate (CLR)\n",
        "\n",
        "One of the `fastai` library features is the cyclical learning rate scheduler. We can implement something similar inheriting the `_LRScheduler` class from the `torch` library. Following the [original paper's](https://arxiv.org/abs/1506.01186) pseudocode, this [CLR Keras callback implementation](https://github.com/bckenstler/CLR), and making a couple of adjustments to support [cosine annealing](https://pytorch.org/docs/stable/optim.html#torch.optim.lr_scheduler.CosineAnnealingLR) with restarts, let's create our own CLR scheduler.\n",
        "\n",
        "The implementation of this idea is quite simple. The [base PyTorch scheduler class](https://pytorch.org/docs/stable/_modules/torch/optim/lr_scheduler.html) has the `get_lr()` method that is invoked each time when we call the `step()` method. The method should return a list of learning rates depending on the current training epoch. In our case, we have the same learning rate for all of the layers, and therefore, we return a list with a single value. \n",
        "\n",
        "The next cell defines a `CyclicLR` class that expectes a single callback function. This function should accept the current training epoch and the base value of learning rate, and return a new learning rate value."
      ]
    },
    {
      "metadata": {
        "id": "jeYcPrxzrmF7",
        "colab_type": "code",
        "colab": {}
      },
      "cell_type": "code",
      "source": [
        "class CyclicLR(_LRScheduler):\n",
        "    \n",
        "    def __init__(self, optimizer, schedule, last_epoch=-1):\n",
        "        assert callable(schedule)\n",
        "        self.schedule = schedule\n",
        "        super().__init__(optimizer, last_epoch)\n",
        "\n",
        "    def get_lr(self):\n",
        "        return [self.schedule(self.last_epoch, lr) for lr in self.base_lrs]"
      ],
      "execution_count": 0,
      "outputs": []
    },
    {
      "metadata": {
        "id": "TauTI3formF9",
        "colab_type": "text"
      },
      "cell_type": "markdown",
      "source": [
        "Our scheduler is very similar to [LambdaLR](https://pytorch.org/docs/stable/optim.html#torch.optim.lr_scheduler.LambdaLR) one but expects a bit different callback signature. \n",
        "\n",
        "So now we only need to define appropriate scheduling functions. We're createing a couple of functions that accept scheduling parameters and return a _new function_ with the appropriate signature:"
      ]
    },
    {
      "metadata": {
        "id": "RxPiEI25rmF9",
        "colab_type": "code",
        "colab": {}
      },
      "cell_type": "code",
      "source": [
        "def triangular(step_size, max_lr, method='triangular', gamma=0.99):\n",
        "    \n",
        "    def scheduler(epoch, base_lr):\n",
        "        period = 2 * step_size\n",
        "        cycle = math.floor(1 + epoch/period)\n",
        "        x = abs(epoch/step_size - 2*cycle + 1)\n",
        "        delta = (max_lr - base_lr)*max(0, (1 - x))\n",
        "\n",
        "        if method == 'triangular':\n",
        "            pass  # we've already done\n",
        "        elif method == 'triangular2':\n",
        "            delta /= float(2 ** (cycle - 1))\n",
        "        elif method == 'exp_range':\n",
        "            delta *= (gamma**epoch)\n",
        "        else:\n",
        "            raise ValueError('unexpected method: %s' % method)\n",
        "            \n",
        "        return base_lr + delta\n",
        "        \n",
        "    return scheduler"
      ],
      "execution_count": 0,
      "outputs": []
    },
    {
      "metadata": {
        "id": "4ypZF8dXrmF_",
        "colab_type": "code",
        "colab": {}
      },
      "cell_type": "code",
      "source": [
        "def cosine(t_max, eta_min=0):\n",
        "    \n",
        "    def scheduler(epoch, base_lr):\n",
        "        t = epoch % t_max\n",
        "        return eta_min + (base_lr - eta_min)*(1 + math.cos(math.pi*t/t_max))/2\n",
        "    \n",
        "    return scheduler"
      ],
      "execution_count": 0,
      "outputs": []
    },
    {
      "metadata": {
        "id": "0O3iNwjermGA",
        "colab_type": "text"
      },
      "cell_type": "markdown",
      "source": [
        "To understand how the created functions work, and to check the correctness of our implementation, let's create a couple of plots visualizing learning rates changes depending on the number of epoch:"
      ]
    },
    {
      "metadata": {
        "id": "yRv5vjWKrmGA",
        "colab_type": "code",
        "colab": {}
      },
      "cell_type": "code",
      "source": [
        "def plot_lr(schedule):\n",
        "    ts = list(range(1000))\n",
        "    y = [schedule(t, 0.001) for t in ts]\n",
        "    plt.plot(ts, y)"
      ],
      "execution_count": 0,
      "outputs": []
    },
    {
      "metadata": {
        "id": "MvBUSb9ErmGC",
        "colab_type": "code",
        "colab": {
          "base_uri": "https://localhost:8080/",
          "height": 265
        },
        "outputId": "a1200db3-1dc2-4ca7-ca78-f1d2cea1ae83"
      },
      "cell_type": "code",
      "source": [
        "plot_lr(triangular(250, 0.005))"
      ],
      "execution_count": 39,
      "outputs": [
        {
          "output_type": "display_data",
          "data": {
            "image/png": "[encoded data removed]",
            "text/plain": [
              "<Figure size 432x288 with 1 Axes>"
            ]
          },
          "metadata": {
            "tags": []
          }
        }
      ]
    },
    {
      "metadata": {
        "id": "nIQ2PBl-rmGD",
        "colab_type": "code",
        "colab": {
          "base_uri": "https://localhost:8080/",
          "height": 265
        },
        "outputId": "bf7e9c5b-f1e7-4b7d-8db5-4646cbedee11"
      },
      "cell_type": "code",
      "source": [
        "plot_lr(triangular(250, 0.005, 'triangular2'))"
      ],
      "execution_count": 40,
      "outputs": [
        {
          "output_type": "display_data",
          "data": {
            "image/png": "[encoded data removed]",
            "text/plain": [
              "<Figure size 432x288 with 1 Axes>"
            ]
          },
          "metadata": {
            "tags": []
          }
        }
      ]
    },
    {
      "metadata": {
        "id": "Pbyi3i_FrmGG",
        "colab_type": "code",
        "colab": {
          "base_uri": "https://localhost:8080/",
          "height": 265
        },
        "outputId": "10aef4af-3a1b-4204-a587-1c1c201843fb"
      },
      "cell_type": "code",
      "source": [
        "plot_lr(triangular(250, 0.005, 'exp_range', gamma=0.999))"
      ],
      "execution_count": 41,
      "outputs": [
        {
          "output_type": "display_data",
          "data": {
            "image/png": "[encoded data removed]",
            "text/plain": [
              "<Figure size 432x288 with 1 Axes>"
            ]
          },
          "metadata": {
            "tags": []
          }
        }
      ]
    },
    {
      "metadata": {
        "id": "NY0KKJSjrmGJ",
        "colab_type": "code",
        "colab": {
          "base_uri": "https://localhost:8080/",
          "height": 265
        },
        "outputId": "dde7be0a-a727-49ab-c219-fa65613e6f7d"
      },
      "cell_type": "code",
      "source": [
        "plot_lr(cosine(t_max=500, eta_min=0.0005))"
      ],
      "execution_count": 42,
      "outputs": [
        {
          "output_type": "display_data",
          "data": {
            "image/png": "[encoded data removed]",
            "text/plain": [
              "<Figure size 432x288 with 1 Axes>"
            ]
          },
          "metadata": {
            "tags": []
          }
        }
      ]
    },
    {
      "metadata": {
        "id": "AM0mSGcdrmGN",
        "colab_type": "text"
      },
      "cell_type": "markdown",
      "source": [
        "Note that cosine annealing scheduler is a bit different from other schedules as soon as it starts with `base_lr` and gradually decreases it to the minimal value while triangle schedulers increase the original rate."
      ]
    },
    {
      "metadata": {
        "id": "0J_uWQsirmGO",
        "colab_type": "text"
      },
      "cell_type": "markdown",
      "source": [
        "---\n",
        "## Training Loop\n",
        "\n",
        "Now we're ready to start the training process. First of all, let's split the original dataset using [train_test_split](http://scikit-learn.org/stable/modules/generated/sklearn.model_selection.train_test_split.html) function from the `scikit-learn` library. (Though you can use anything else instead, like, [get_cv_idxs](https://github.com/fastai/fastai/blob/921777feb46f215ed2b5f5dcfcf3e6edd299ea92/fastai/dataset.py#L6-L22) from `fastai`)."
      ]
    },
    {
      "metadata": {
        "id": "dY56DOgLrmGO",
        "colab_type": "code",
        "colab": {}
      },
      "cell_type": "code",
      "source": [
        "X_train, X_valid, y_train, y_valid = train_test_split(X, y, test_size=0.2, random_state=RANDOM_STATE)\n",
        "datasets = {'train': (X_train, y_train), 'val': (X_valid, y_valid)}\n",
        "dataset_sizes = {'train': len(X_train), 'val': len(X_valid)}"
      ],
      "execution_count": 0,
      "outputs": []
    },
    {
      "metadata": {
        "id": "pDTzDRmwrmGQ",
        "colab_type": "code",
        "colab": {
          "base_uri": "https://localhost:8080/",
          "height": 34
        },
        "outputId": "a63d7ab2-b286-4525-815b-a1c5fd9135b3"
      },
      "cell_type": "code",
      "source": [
        "minmax = ratings.rating.min().astype(float), ratings.rating.max().astype(float)\n",
        "minmax"
      ],
      "execution_count": 44,
      "outputs": [
        {
          "output_type": "execute_result",
          "data": {
            "text/plain": [
              "(0.5, 5.0)"
            ]
          },
          "metadata": {
            "tags": []
          },
          "execution_count": 44
        }
      ]
    },
    {
      "metadata": {
        "id": "SXguAT-MrmGT",
        "colab_type": "code",
        "colab": {}
      },
      "cell_type": "code",
      "source": [
        "net = EmbeddingNet(\n",
        "    n_users=n, n_movies=m, \n",
        "    n_factors=150, hidden=[500, 500, 500], \n",
        "    embedding_dropout=0.05, dropouts=[0.5, 0.5, 0.25])"
      ],
      "execution_count": 0,
      "outputs": []
    },
    {
      "metadata": {
        "id": "AvHYMlxBrmGU",
        "colab_type": "text"
      },
      "cell_type": "markdown",
      "source": [
        "The next cell is preparing and running the training loop with cyclical learning rate, validation and early stopping. We use `Adam` optimizer with cosine-annealing learnign rate. The rate is decreased on each batch during `2` epochs, and then is reset to the original value.\n",
        "\n",
        "Note that our loop has two phases. One of them is called `train`. During this phase, we update our network's weights and change the learning rate. The another one is called `val` and is used to check the model's performence. When the loss value decreases, we save model parameters to restore them later. If there is no improvements after `10` sequential training epochs, we exit from the loop."
      ]
    },
    {
      "metadata": {
        "scrolled": false,
        "id": "HWQnsK_drmGV",
        "colab_type": "code",
        "colab": {
          "base_uri": "https://localhost:8080/",
          "height": 374
        },
        "outputId": "a0ddad73-c8fb-4239-a010-f9efc9a70688"
      },
      "cell_type": "code",
      "source": [
        "lr = 1e-3\n",
        "wd = 1e-5\n",
        "bs = 2000\n",
        "n_epochs = 100\n",
        "patience = 10\n",
        "no_improvements = 0\n",
        "best_loss = np.inf\n",
        "best_weights = None\n",
        "history = []\n",
        "lr_history = []\n",
        "\n",
        "device = torch.device('cuda:0' if torch.cuda.is_available() else 'cpu')\n",
        "\n",
        "net.to(device)\n",
        "criterion = nn.MSELoss(reduction='sum')\n",
        "optimizer = optim.Adam(net.parameters(), lr=lr, weight_decay=wd)\n",
        "iterations_per_epoch = int(math.ceil(dataset_sizes['train'] // bs))\n",
        "scheduler = CyclicLR(optimizer, cosine(t_max=iterations_per_epoch * 2, eta_min=lr/10))\n",
        "\n",
        "for epoch in range(n_epochs):\n",
        "    stats = {'epoch': epoch + 1, 'total': n_epochs}\n",
        "    \n",
        "    for phase in ('train', 'val'):\n",
        "        training = phase == 'train'\n",
        "        running_loss = 0.0\n",
        "        n_batches = 0\n",
        "        \n",
        "        for batch in batches(*datasets[phase], shuffle=training, bs=bs):\n",
        "            x_batch, y_batch = [b.to(device) for b in batch]\n",
        "            optimizer.zero_grad()\n",
        "        \n",
        "            # compute gradients only during 'train' phase\n",
        "            with torch.set_grad_enabled(training):\n",
        "                outputs = net(x_batch[:, 1], x_batch[:, 0], minmax)\n",
        "                loss = criterion(outputs, y_batch)\n",
        "                \n",
        "                # don't update weights and rates when in 'val' phase\n",
        "                if training:\n",
        "                    scheduler.step()\n",
        "                    loss.backward()\n",
        "                    optimizer.step()\n",
        "                    lr_history.extend(scheduler.get_lr())\n",
        "                    \n",
        "            running_loss += loss.item()\n",
        "            \n",
        "        epoch_loss = running_loss / dataset_sizes[phase]\n",
        "        stats[phase] = epoch_loss\n",
        "        \n",
        "        # early stopping: save weights of the best model so far\n",
        "        if phase == 'val':\n",
        "            if epoch_loss < best_loss:\n",
        "                print('loss improvement on epoch: %d' % (epoch + 1))\n",
        "                best_loss = epoch_loss\n",
        "                best_weights = copy.deepcopy(net.state_dict())\n",
        "                no_improvements = 0\n",
        "            else:\n",
        "                no_improvements += 1\n",
        "                \n",
        "    history.append(stats)\n",
        "    print('[{epoch:03d}/{total:03d}] train: {train:.4f} - val: {val:.4f}'.format(**stats))\n",
        "    if no_improvements >= patience:\n",
        "        print('early stopping after epoch {epoch:03d}'.format(**stats))\n",
        "        break"
      ],
      "execution_count": 46,
      "outputs": [
        {
          "output_type": "stream",
          "text": [
            "loss improvement on epoch: 1\n",
            "[001/100] train: 0.9938 - val: 0.8519\n",
            "loss improvement on epoch: 2\n",
            "[002/100] train: 0.7743 - val: 0.8101\n",
            "loss improvement on epoch: 3\n",
            "[003/100] train: 0.7255 - val: 0.7729\n",
            "loss improvement on epoch: 4\n",
            "[004/100] train: 0.6543 - val: 0.7643\n",
            "loss improvement on epoch: 5\n",
            "[005/100] train: 0.6579 - val: 0.7556\n",
            "[006/100] train: 0.6155 - val: 0.7571\n",
            "[007/100] train: 0.6244 - val: 0.7582\n",
            "[008/100] train: 0.5845 - val: 0.7649\n",
            "[009/100] train: 0.5929 - val: 0.7721\n",
            "[010/100] train: 0.5482 - val: 0.7808\n",
            "[011/100] train: 0.5541 - val: 0.7845\n",
            "[012/100] train: 0.4978 - val: 0.8074\n",
            "[013/100] train: 0.4942 - val: 0.8297\n",
            "[014/100] train: 0.4325 - val: 0.8502\n",
            "[015/100] train: 0.4284 - val: 0.8531\n",
            "early stopping after epoch 015\n"
          ],
          "name": "stdout"
        }
      ]
    },
    {
      "metadata": {
        "id": "Q-DEvc_KrmGX",
        "colab_type": "text"
      },
      "cell_type": "markdown",
      "source": [
        "---\n",
        "## Metrics\n",
        "\n",
        "To visualize the training process and to check the correctness of the learning rate scheduling, let's create a couple of plots using collected stats:"
      ]
    },
    {
      "metadata": {
        "id": "4Lwd2D13rmGY",
        "colab_type": "code",
        "colab": {
          "base_uri": "https://localhost:8080/",
          "height": 281
        },
        "outputId": "c90ce19c-373c-4004-bb6a-2c12d387a39c"
      },
      "cell_type": "code",
      "source": [
        "ax = pd.DataFrame(history).drop(columns='total').plot(x='epoch')"
      ],
      "execution_count": 47,
      "outputs": [
        {
          "output_type": "display_data",
          "data": {
            "image/png": "[encoded data removed]",
            "text/plain": [
              "<Figure size 432x288 with 1 Axes>"
            ]
          },
          "metadata": {
            "tags": []
          }
        }
      ]
    },
    {
      "metadata": {
        "id": "osw6mr2PrmGZ",
        "colab_type": "code",
        "colab": {
          "base_uri": "https://localhost:8080/",
          "height": 265
        },
        "outputId": "0e3b88b4-c1e0-4814-85ab-4610b888a3ea"
      },
      "cell_type": "code",
      "source": [
        "_ = plt.plot(lr_history[:2*iterations_per_epoch])"
      ],
      "execution_count": 48,
      "outputs": [
        {
          "output_type": "display_data",
          "data": {
            "image/png": "[encoded data removed]",
            "text/plain": [
              "<Figure size 432x288 with 1 Axes>"
            ]
          },
          "metadata": {
            "tags": []
          }
        }
      ]
    },
    {
      "metadata": {
        "id": "h0jCPrWzrmGc",
        "colab_type": "text"
      },
      "cell_type": "markdown",
      "source": [
        "As expected, the learning rate is updated in accordance with cosine annealing schedule."
      ]
    },
    {
      "metadata": {
        "id": "lwaVXYzermGc",
        "colab_type": "text"
      },
      "cell_type": "markdown",
      "source": [
        "The training process was terminated after _16 epochs_. Now we're going to restore the best weights saved during training, and apply the model to the validation subset of the data to see the final model's performance:"
      ]
    },
    {
      "metadata": {
        "id": "Ftwh03YdrmGd",
        "colab_type": "code",
        "colab": {}
      },
      "cell_type": "code",
      "source": [
        "net.load_state_dict(best_weights)"
      ],
      "execution_count": 0,
      "outputs": []
    },
    {
      "metadata": {
        "id": "A9QX6_mErmGf",
        "colab_type": "code",
        "colab": {}
      },
      "cell_type": "code",
      "source": [
        "groud_truth, predictions = [], []\n",
        "\n",
        "with torch.no_grad():\n",
        "    for batch in batches(*datasets['val'], shuffle=False, bs=bs):\n",
        "        x_batch, y_batch = [b.to(device) for b in batch]\n",
        "        outputs = net(x_batch[:, 1], x_batch[:, 0], minmax)\n",
        "        groud_truth.extend(y_batch.tolist())\n",
        "        predictions.extend(outputs.tolist())\n",
        "\n",
        "groud_truth = np.asarray(groud_truth).ravel()\n",
        "predictions = np.asarray(predictions).ravel()"
      ],
      "execution_count": 0,
      "outputs": []
    },
    {
      "metadata": {
        "id": "qQc_WNoGrmGh",
        "colab_type": "code",
        "colab": {
          "base_uri": "https://localhost:8080/",
          "height": 34
        },
        "outputId": "4e854784-5419-4a55-86dd-6df38d17e247"
      },
      "cell_type": "code",
      "source": [
        "final_loss = np.sqrt(np.mean((predictions - groud_truth)**2))\n",
        "print(f'Final RMSE: {final_loss:.4f}')"
      ],
      "execution_count": 51,
      "outputs": [
        {
          "output_type": "stream",
          "text": [
            "Final RMSE: 0.8707\n"
          ],
          "name": "stdout"
        }
      ]
    },
    {
      "metadata": {
        "id": "b3efqa6hrmGj",
        "colab_type": "code",
        "colab": {}
      },
      "cell_type": "code",
      "source": [
        "with open('best.weights', 'wb') as file:\n",
        "    pickle.dump(best_weights, file)"
      ],
      "execution_count": 0,
      "outputs": []
    },
    {
      "metadata": {
        "id": "TFvA-mOMrmGk",
        "colab_type": "text"
      },
      "cell_type": "markdown",
      "source": [
        "---\n",
        "## Bonus: Embeddings Visualization\n",
        "\n",
        "Finally, we can create a couple of visualizations to show how various movies are encoded in embeddings space. Again, we're repeting the approach shown in the original post and apply the [Principal Components Analysis](http://scikit-learn.org/stable/modules/generated/sklearn.decomposition.PCA.html) to reduce the dimentionality of embeddings and show some of them with bar plots."
      ]
    },
    {
      "metadata": {
        "id": "Vf6JYB5irmGl",
        "colab_type": "code",
        "colab": {}
      },
      "cell_type": "code",
      "source": [
        "from sklearn.decomposition import PCA"
      ],
      "execution_count": 0,
      "outputs": []
    },
    {
      "metadata": {
        "id": "d8RJORuRrmGn",
        "colab_type": "text"
      },
      "cell_type": "markdown",
      "source": [
        "Loading previously saved weights:"
      ]
    },
    {
      "metadata": {
        "id": "076iqcpTrmGp",
        "colab_type": "code",
        "colab": {}
      },
      "cell_type": "code",
      "source": [
        "with open('best.weights', 'rb') as file:\n",
        "    best_weights = pickle.load(file)\n",
        "net.load_state_dict(best_weights)"
      ],
      "execution_count": 0,
      "outputs": []
    },
    {
      "metadata": {
        "id": "I79IJGutrmGr",
        "colab_type": "code",
        "colab": {}
      },
      "cell_type": "code",
      "source": [
        "def to_numpy(tensor):\n",
        "    return tensor.cpu().numpy()"
      ],
      "execution_count": 0,
      "outputs": []
    },
    {
      "metadata": {
        "id": "lQddIob5rmGt",
        "colab_type": "text"
      },
      "cell_type": "markdown",
      "source": [
        "Creating the mappings between original users's and movies's IDs, and new contiguous values:"
      ]
    },
    {
      "metadata": {
        "scrolled": true,
        "id": "L0OD_RYirmGt",
        "colab_type": "code",
        "colab": {}
      },
      "cell_type": "code",
      "source": [
        "_, _, (user_id_map, movie_id_map) = create_dataset(ratings)\n",
        "embed_to_original = {v: k for k, v in movie_id_map.items()}\n",
        "popular_movies = ratings.groupby('movieId').movieId.count().sort_values(ascending=False).values[:1000]"
      ],
      "execution_count": 0,
      "outputs": []
    },
    {
      "metadata": {
        "id": "UA6v1YtmrmGv",
        "colab_type": "text"
      },
      "cell_type": "markdown",
      "source": [
        "Reducing the dimensionality of movie embeddings vectors:"
      ]
    },
    {
      "metadata": {
        "id": "1PIr4hdArmGw",
        "colab_type": "code",
        "colab": {
          "base_uri": "https://localhost:8080/",
          "height": 34
        },
        "outputId": "7c907e56-2061-4ccb-c73b-bbaebdde0579"
      },
      "cell_type": "code",
      "source": [
        "embed = to_numpy(net.m.weight.data)\n",
        "pca = PCA(n_components=5)\n",
        "components = pca.fit(embed[popular_movies].T).components_\n",
        "components.shape"
      ],
      "execution_count": 57,
      "outputs": [
        {
          "output_type": "execute_result",
          "data": {
            "text/plain": [
              "(5, 1000)"
            ]
          },
          "metadata": {
            "tags": []
          },
          "execution_count": 57
        }
      ]
    },
    {
      "metadata": {
        "id": "w33caxinrmGy",
        "colab_type": "text"
      },
      "cell_type": "markdown",
      "source": [
        "Finally, creating a joined data frame with projected embeddings and movies they represent:"
      ]
    },
    {
      "metadata": {
        "id": "k0pup73YrmGy",
        "colab_type": "code",
        "colab": {}
      },
      "cell_type": "code",
      "source": [
        "components_df = pd.DataFrame(components.T, columns=[f'fc{i}' for i in range(pca.n_components_)])\n",
        "movie_ids = [embed_to_original[idx] for idx in components_df.index]\n",
        "meta = movies.set_index('movieId')\n",
        "components_df['movie_id'] = movie_ids\n",
        "components_df['title'] = meta.loc[movie_ids].title.values\n",
        "components_df['genres'] = meta.loc[movie_ids].genres.values"
      ],
      "execution_count": 0,
      "outputs": []
    },
    {
      "metadata": {
        "id": "z7kwSnofrmGz",
        "colab_type": "code",
        "colab": {
          "base_uri": "https://localhost:8080/",
          "height": 224
        },
        "outputId": "2839a2ac-ff99-42db-db24-ce41ff51d8f0"
      },
      "cell_type": "code",
      "source": [
        "components_df.sample(4)"
      ],
      "execution_count": 59,
      "outputs": [
        {
          "output_type": "execute_result",
          "data": {
            "text/html": [
              "<div>\n",
              "<style scoped>\n",
              "    .dataframe tbody tr th:only-of-type {\n",
              "        vertical-align: middle;\n",
              "    }\n",
              "\n",
              "    .dataframe tbody tr th {\n",
              "        vertical-align: top;\n",
              "    }\n",
              "\n",
              "    .dataframe thead th {\n",
              "        text-align: right;\n",
              "    }\n",
              "</style>\n",
              "<table border=\"1\" class=\"dataframe\">\n",
              "  <thead>\n",
              "    <tr style=\"text-align: right;\">\n",
              "      <th></th>\n",
              "      <th>fc0</th>\n",
              "      <th>fc1</th>\n",
              "      <th>fc2</th>\n",
              "      <th>fc3</th>\n",
              "      <th>fc4</th>\n",
              "      <th>movie_id</th>\n",
              "      <th>title</th>\n",
              "      <th>genres</th>\n",
              "    </tr>\n",
              "  </thead>\n",
              "  <tbody>\n",
              "    <tr>\n",
              "      <th>287</th>\n",
              "      <td>0.012485</td>\n",
              "      <td>0.011291</td>\n",
              "      <td>-0.032592</td>\n",
              "      <td>-0.021000</td>\n",
              "      <td>-0.037714</td>\n",
              "      <td>7991</td>\n",
              "      <td>Death Race 2000 (1975)</td>\n",
              "      <td>Action|Sci-Fi</td>\n",
              "    </tr>\n",
              "    <tr>\n",
              "      <th>697</th>\n",
              "      <td>-0.014469</td>\n",
              "      <td>0.015134</td>\n",
              "      <td>-0.008384</td>\n",
              "      <td>-0.012320</td>\n",
              "      <td>-0.045426</td>\n",
              "      <td>818</td>\n",
              "      <td>Very Brady Sequel, A (1996)</td>\n",
              "      <td>Comedy</td>\n",
              "    </tr>\n",
              "    <tr>\n",
              "      <th>940</th>\n",
              "      <td>0.008129</td>\n",
              "      <td>0.077933</td>\n",
              "      <td>0.021728</td>\n",
              "      <td>0.103049</td>\n",
              "      <td>-0.005882</td>\n",
              "      <td>87222</td>\n",
              "      <td>Kung Fu Panda 2 (2011)</td>\n",
              "      <td>Action|Adventure|Animation|Children|Comedy|IMAX</td>\n",
              "    </tr>\n",
              "    <tr>\n",
              "      <th>472</th>\n",
              "      <td>0.017393</td>\n",
              "      <td>-0.008155</td>\n",
              "      <td>0.015315</td>\n",
              "      <td>-0.025091</td>\n",
              "      <td>-0.024784</td>\n",
              "      <td>380</td>\n",
              "      <td>True Lies (1994)</td>\n",
              "      <td>Action|Adventure|Comedy|Romance|Thriller</td>\n",
              "    </tr>\n",
              "  </tbody>\n",
              "</table>\n",
              "</div>"
            ],
            "text/plain": [
              "          fc0       fc1       fc2       fc3       fc4  movie_id  \\\n",
              "287  0.012485  0.011291 -0.032592 -0.021000 -0.037714      7991   \n",
              "697 -0.014469  0.015134 -0.008384 -0.012320 -0.045426       818   \n",
              "940  0.008129  0.077933  0.021728  0.103049 -0.005882     87222   \n",
              "472  0.017393 -0.008155  0.015315 -0.025091 -0.024784       380   \n",
              "\n",
              "                           title  \\\n",
              "287       Death Race 2000 (1975)   \n",
              "697  Very Brady Sequel, A (1996)   \n",
              "940       Kung Fu Panda 2 (2011)   \n",
              "472             True Lies (1994)   \n",
              "\n",
              "                                              genres  \n",
              "287                                    Action|Sci-Fi  \n",
              "697                                           Comedy  \n",
              "940  Action|Adventure|Animation|Children|Comedy|IMAX  \n",
              "472         Action|Adventure|Comedy|Romance|Thriller  "
            ]
          },
          "metadata": {
            "tags": []
          },
          "execution_count": 59
        }
      ]
    },
    {
      "metadata": {
        "id": "O4GZVbuUrmG2",
        "colab_type": "code",
        "colab": {}
      },
      "cell_type": "code",
      "source": [
        "def plot_components(components, component, ascending=False):\n",
        "    fig, ax = plt.subplots(figsize=(18, 12))\n",
        "    \n",
        "    subset = components.sort_values(by=component, ascending=ascending).iloc[:12]\n",
        "    columns = components_df.columns\n",
        "    features = columns[columns.str.startswith('fc')].tolist()\n",
        "    \n",
        "    fc = subset[features]\n",
        "    titles = ['\\n'.join(wrap(t, width=10)) for t in subset.title]\n",
        "    genres = subset.genres.str.replace('|', '\\n')\n",
        "    labels = [f'{t}\\n\\n{g}' for t, g in zip(titles, genres)]\n",
        "    \n",
        "    fc.plot(ax=ax, kind='bar')\n",
        "    y_ticks = [f'{t:2.2f}' for t in ax.get_yticks()]\n",
        "    ax.set_xticklabels(labels, rotation=0, fontsize=14)\n",
        "    ax.set_yticklabels(y_ticks, fontsize=14)\n",
        "    ax.legend(loc='best', fontsize=14)\n",
        "    \n",
        "    plot_title = f\"Movies with {['highest', 'lowest'][ascending]} '{component}' component values\" \n",
        "    ax.set_title(plot_title, fontsize=20)"
      ],
      "execution_count": 0,
      "outputs": []
    },
    {
      "metadata": {
        "id": "DJe3AklkrmG4",
        "colab_type": "code",
        "colab": {
          "base_uri": "https://localhost:8080/",
          "height": 940
        },
        "outputId": "46738333-4f94-4ce6-f5ae-a65384217758"
      },
      "cell_type": "code",
      "source": [
        "plot_components(components_df, 'fc0', ascending=False)"
      ],
      "execution_count": 61,
      "outputs": [
        {
          "output_type": "display_data",
          "data": {
            "image/png": "[encoded data removed]",
            "text/plain": [
              "<Figure size 1296x864 with 1 Axes>"
            ]
          },
          "metadata": {
            "tags": []
          }
        }
      ]
    },
    {
      "metadata": {
        "id": "Vkg3hqSHrmG6",
        "colab_type": "code",
        "colab": {
          "base_uri": "https://localhost:8080/",
          "height": 875
        },
        "outputId": "990d2b49-5fd8-43aa-f408-333412ac518f"
      },
      "cell_type": "code",
      "source": [
        "plot_components(components_df, 'fc0', ascending=True)"
      ],
      "execution_count": 62,
      "outputs": [
        {
          "output_type": "display_data",
          "data": {
            "image/png": "[encoded data removed]",
            "text/plain": [
              "<Figure size 1296x864 with 1 Axes>"
            ]
          },
          "metadata": {
            "tags": []
          }
        }
      ]
    },
    {
      "metadata": {
        "id": "I1JRFjG4rmG7",
        "colab_type": "text"
      },
      "cell_type": "markdown",
      "source": [
        "From the visualizations above, we could make a guess that the `red` component mostly reflects the rate of \"seriousness\" in the movie. Comedies, animations and adventures mostly have the negative values of this feature while more \"dramatical\" movies have high levels of this component."
      ]
    },
    {
      "metadata": {
        "id": "2PD8FrlprmG7",
        "colab_type": "code",
        "colab": {}
      },
      "cell_type": "code",
      "source": [
        ""
      ],
      "execution_count": 0,
      "outputs": []
    }
  ]
}