{
  "nbformat": 4,
  "nbformat_minor": 0,
  "metadata": {
    "kernelspec": {
      "name": "python3",
      "display_name": "Python 3"
    },
    "language_info": {
      "codemirror_mode": {
        "name": "ipython",
        "version": 3
      },
      "file_extension": ".py",
      "mimetype": "text/x-python",
      "name": "python",
      "nbconvert_exporter": "python",
      "pygments_lexer": "ipython3",
      "version": "3.6.1"
    },
    "colab": {
      "name": "Text_search_engine_movie_tfidf_doc2vec.ipynb",
      "version": "0.3.2",
      "provenance": [],
      "toc_visible": true,
      "include_colab_link": true
    },
    "accelerator": "GPU"
  },
  "cells": [
    {
      "cell_type": "markdown",
      "metadata": {
        "id": "view-in-github",
        "colab_type": "text"
      },
      "source": [
        "<a href=\"https://colab.research.google.com/github/navneetkrc/Colab_fastai/blob/master/NLP/Text_search_engine_movie_tfidf_doc2vec.ipynb\" target=\"_parent\"><img src=\"https://colab.research.google.com/assets/colab-badge.svg\" alt=\"Open In Colab\"/></a>"
      ]
    },
    {
      "cell_type": "markdown",
      "metadata": {
        "_cell_guid": "ecf2d083-6906-45fa-9c60-df66372fd81f",
        "_uuid": "92204e609cf358a48438edb251a22a0201923254",
        "id": "rJg8D5OJXpoz",
        "colab_type": "text"
      },
      "source": [
        "# How to make a search engine on Movies Description"
      ]
    },
    {
      "cell_type": "markdown",
      "metadata": {
        "id": "JJ9RWY0BXpo0",
        "colab_type": "text"
      },
      "source": [
        "In this notebook, you will learn how to :\n",
        "\n",
        "1. [Create a Doc2Vec model that represents words and documents into numerical vectors](#creating)\n",
        "\n",
        "2. [Find words related to other words](#words)\n",
        "3. [Find the document that has the closest meaning to a list of key words like in a search engine](#docs)\n",
        "\n",
        "4. [Create a TF-IDF search engine](#tfidf)\n",
        "\n",
        "\n",
        "\n",
        "<div class=\"alert alert-warning\">\n",
        "To run this notebook, you will need :\n",
        "<ul>\n",
        "<li>to run on **python 3.6.2**</li>\n",
        "<li>to have **gensim** installed. Run '**pip install gensim**' in the python environment you are using for this notebook.</li>\n",
        "<li>to have **langdetect** installed. Run '**pip install langdetect**' in the python environment you are using for this notebook.</li>\n",
        "</ul>\n",
        "\n",
        "</div>\n",
        "\n",
        "We will start by importing what we need and downloading the files with the movies description.\n",
        "\n",
        "The dataset comes from a kaggle dataset : https://www.kaggle.com/rounakbanik/the-movies-dataset/data"
      ]
    },
    {
      "cell_type": "code",
      "metadata": {
        "id": "zEfIp0iyjefk",
        "colab_type": "code",
        "colab": {}
      },
      "source": [
        "!pip install gensim\n",
        "!pip install langdetect"
      ],
      "execution_count": 0,
      "outputs": []
    },
    {
      "cell_type": "code",
      "metadata": {
        "_cell_guid": "631a5f46-877b-41cb-9785-3f87831577b1",
        "_uuid": "461cc3b1bf67fb4984fd6dcf230b595f08e41105",
        "id": "kekva1FgXpo1",
        "colab_type": "code",
        "colab": {}
      },
      "source": [
        "import numpy as np\n",
        "import pandas as pd\n",
        "import matplotlib.pyplot as plt\n",
        "%matplotlib inline\n",
        "\n",
        "from gensim.models import Doc2Vec\n",
        "from collections import namedtuple\n",
        "import gensim.utils\n",
        "from langdetect import detect\n",
        "import re\n",
        "import string"
      ],
      "execution_count": 0,
      "outputs": []
    },
    {
      "cell_type": "code",
      "metadata": {
        "scrolled": true,
        "id": "oESsZwveXpo4",
        "colab_type": "code",
        "outputId": "f8ca0bde-d03f-4d13-c0d6-afdb6667bc05",
        "colab": {
          "base_uri": "https://localhost:8080/",
          "height": 204
        }
      },
      "source": [
        "imdbdata=pd.read_csv('movies.csv')\n",
        "data = np.array(imdbdata.overview)\n",
        "titles=np.array(imdbdata.original_title)\n",
        "\n",
        "imdbdata.head()"
      ],
      "execution_count": 7,
      "outputs": [
        {
          "output_type": "execute_result",
          "data": {
            "text/html": [
              "<div>\n",
              "<style scoped>\n",
              "    .dataframe tbody tr th:only-of-type {\n",
              "        vertical-align: middle;\n",
              "    }\n",
              "\n",
              "    .dataframe tbody tr th {\n",
              "        vertical-align: top;\n",
              "    }\n",
              "\n",
              "    .dataframe thead th {\n",
              "        text-align: right;\n",
              "    }\n",
              "</style>\n",
              "<table border=\"1\" class=\"dataframe\">\n",
              "  <thead>\n",
              "    <tr style=\"text-align: right;\">\n",
              "      <th></th>\n",
              "      <th>overview</th>\n",
              "      <th>original_title</th>\n",
              "    </tr>\n",
              "  </thead>\n",
              "  <tbody>\n",
              "    <tr>\n",
              "      <th>0</th>\n",
              "      <td>Led by Woody, Andy's toys live happily in his ...</td>\n",
              "      <td>Toy Story</td>\n",
              "    </tr>\n",
              "    <tr>\n",
              "      <th>1</th>\n",
              "      <td>When siblings Judy and Peter discover an encha...</td>\n",
              "      <td>Jumanji</td>\n",
              "    </tr>\n",
              "    <tr>\n",
              "      <th>2</th>\n",
              "      <td>A family wedding reignites the ancient feud be...</td>\n",
              "      <td>Grumpier Old Men</td>\n",
              "    </tr>\n",
              "    <tr>\n",
              "      <th>3</th>\n",
              "      <td>Cheated on, mistreated and stepped on, the wom...</td>\n",
              "      <td>Waiting to Exhale</td>\n",
              "    </tr>\n",
              "    <tr>\n",
              "      <th>4</th>\n",
              "      <td>Just when George Banks has recovered from his ...</td>\n",
              "      <td>Father of the Bride Part II</td>\n",
              "    </tr>\n",
              "  </tbody>\n",
              "</table>\n",
              "</div>"
            ],
            "text/plain": [
              "                                            overview               original_title\n",
              "0  Led by Woody, Andy's toys live happily in his ...                    Toy Story\n",
              "1  When siblings Judy and Peter discover an encha...                      Jumanji\n",
              "2  A family wedding reignites the ancient feud be...             Grumpier Old Men\n",
              "3  Cheated on, mistreated and stepped on, the wom...            Waiting to Exhale\n",
              "4  Just when George Banks has recovered from his ...  Father of the Bride Part II"
            ]
          },
          "metadata": {
            "tags": []
          },
          "execution_count": 7
        }
      ]
    },
    {
      "cell_type": "markdown",
      "metadata": {
        "_cell_guid": "4048fc6a-45ae-45c0-9bcd-ec03c052cfb0",
        "_uuid": "eb0ae6b4fe1db43931c21ac366ae3aa1f7f721fb",
        "collapsed": true,
        "id": "nL7M-Z3iXpo6",
        "colab_type": "text"
      },
      "source": [
        "## Text preprocessing\n",
        "\n",
        "In order to build the doc2vec model we need to clean the data that we have. We will remove documents that are not strings, that are too short and that are not written in english.\n",
        "Then, we will remove punctuation, and lowercase every word.\n",
        "We will build the list **alldocs** that contains every documents cleaned."
      ]
    },
    {
      "cell_type": "code",
      "metadata": {
        "_cell_guid": "ca3b00dd-71ff-4e7e-a149-d341419f796c",
        "_uuid": "9e70b2660d580eb945a6e0ac1448f07074d0aaf7",
        "id": "hRD5fxMGXpo7",
        "colab_type": "code",
        "colab": {}
      },
      "source": [
        "SentimentDocument = namedtuple('SentimentDocument', 'words tags title original_number')\n",
        "n=0\n",
        "alldocs = []  # Will hold all docs in original order\n",
        "\n",
        "regex = re.compile('[%s]' % re.escape(string.punctuation)) #to remove punctuation\n",
        "\n",
        "for line_no, line in enumerate(data):\n",
        "    if (type(line)==str):\n",
        "        if (len(line)>150):\n",
        "            if (detect(line) == 'en') :\n",
        "                line = regex.sub('', line)\n",
        "                tokens = gensim.utils.to_unicode(line).lower().split()\n",
        "                words = tokens[0:]\n",
        "                tags = [n]\n",
        "                title = titles[line_no]\n",
        "                alldocs.append(SentimentDocument(words, tags, title, line_no))\n",
        "                n=n+1    "
      ],
      "execution_count": 0,
      "outputs": []
    },
    {
      "cell_type": "markdown",
      "metadata": {
        "id": "lgJi2xp_Xpo9",
        "colab_type": "text"
      },
      "source": [
        "Some insights on the dataset :"
      ]
    },
    {
      "cell_type": "code",
      "metadata": {
        "id": "0ALfcigKXpo-",
        "colab_type": "code",
        "outputId": "f507aa7c-e818-4549-b76e-467947001693",
        "colab": {
          "base_uri": "https://localhost:8080/",
          "height": 463
        }
      },
      "source": [
        "l = []\n",
        "for doc in alldocs:\n",
        "    l.append(len(doc.words))\n",
        "\n",
        "print('Number of Documents : ', len(alldocs))\n",
        "print('Mean length of documents : ', np.mean(l))\n",
        "\n",
        "plt.figure (figsize=(20, 6))\n",
        "plt.bar(range(0, len(l)), l)\n",
        "plt.xlabel('Documents')\n",
        "plt.ylabel('Length of the description')"
      ],
      "execution_count": 9,
      "outputs": [
        {
          "output_type": "stream",
          "text": [
            "Number of Documents :  34179\n",
            "Mean length of documents :  65.90827701220047\n"
          ],
          "name": "stdout"
        },
        {
          "output_type": "execute_result",
          "data": {
            "text/plain": [
              "Text(0, 0.5, 'Length of the description')"
            ]
          },
          "metadata": {
            "tags": []
          },
          "execution_count": 9
        },
        {
          "output_type": "display_data",
          "data": {
            "image/png": "[encoded data removed]",
            "text/plain": [
              "<Figure size 1440x432 with 1 Axes>"
            ]
          },
          "metadata": {
            "tags": []
          }
        }
      ]
    },
    {
      "cell_type": "code",
      "metadata": {
        "id": "xKgCWZVZXppA",
        "colab_type": "code",
        "outputId": "e805c91c-0cd7-441d-bf56-68ce19c819bb",
        "colab": {
          "base_uri": "https://localhost:8080/",
          "height": 88
        }
      },
      "source": [
        "# An example of how the list alldocs is build\n",
        "\n",
        "index = 0\n",
        "doc = alldocs[index]\n",
        "print(doc, '\\n')\n",
        "print(data[doc.original_number])"
      ],
      "execution_count": 10,
      "outputs": [
        {
          "output_type": "stream",
          "text": [
            "SentimentDocument(words=['led', 'by', 'woody', 'andys', 'toys', 'live', 'happily', 'in', 'his', 'room', 'until', 'andys', 'birthday', 'brings', 'buzz', 'lightyear', 'onto', 'the', 'scene', 'afraid', 'of', 'losing', 'his', 'place', 'in', 'andys', 'heart', 'woody', 'plots', 'against', 'buzz', 'but', 'when', 'circumstances', 'separate', 'buzz', 'and', 'woody', 'from', 'their', 'owner', 'the', 'duo', 'eventually', 'learns', 'to', 'put', 'aside', 'their', 'differences'], tags=[0], title='Toy Story', original_number=0) \n",
            "\n",
            "Led by Woody, Andy's toys live happily in his room until Andy's birthday brings Buzz Lightyear onto the scene. Afraid of losing his place in Andy's heart, Woody plots against Buzz. But when circumstances separate Buzz and Woody from their owner, the duo eventually learns to put aside their differences.\n"
          ],
          "name": "stdout"
        }
      ]
    },
    {
      "cell_type": "markdown",
      "metadata": {
        "id": "_PIa4eD2XppB",
        "colab_type": "text"
      },
      "source": [
        "## <a id=\"creating\"></a> Creating and training the Doc2Vec model\n",
        "\n",
        "We create the Distributed Memory model with a size of 300 ( that means that the vectors will be of size 300). The window size is 10. We do not take in account words that are seen less than 10 times in the entire corpus with the variable *min_count*. Setting the variable *dbow_words* to 1 means that we are also training to represents words with numerical vectors.\n",
        "\n",
        "We then train our model over 100 epochs with a lerning rate of 0.01.\n",
        "\n",
        "Full documentation can be found here :\n",
        "<li> gensim : https://radimrehurek.com/gensim/ </li>\n",
        "<li> Doc2Vec : https://radimrehurek.com/gensim/models/doc2vec.html </li>\n",
        "<li> A great article introducing the concepts behind Doc2Vec : https://medium.com/scaleabout/a-gentle-introduction-to-doc2vec-db3e8c0cce5e </li>\n",
        "<li> Detailed scientific paper : https://cs.stanford.edu/~quocle/paragraph_vector.pdf </li>\n"
      ]
    },
    {
      "cell_type": "code",
      "metadata": {
        "_cell_guid": "3fc47183-c884-4bef-9383-21231d52430c",
        "_uuid": "f8bd956e9ff7bc99f388c3ded7a927c0b05ada63",
        "id": "RiwoZWxAXppC",
        "colab_type": "code",
        "colab": {
          "base_uri": "https://localhost:8080/",
          "height": 71
        },
        "outputId": "ec487cfc-d869-486d-a611-41e72a3ef948"
      },
      "source": [
        "# PV-DM\n",
        "model = Doc2Vec(dm=1, size=300,window=10,hs=0,min_count=10,dbow_words=1,sample=1e-5)\n",
        "\n",
        "# build the vocabulary \n",
        "model.build_vocab(alldocs)"
      ],
      "execution_count": 11,
      "outputs": [
        {
          "output_type": "stream",
          "text": [
            "/usr/local/lib/python3.6/dist-packages/gensim/models/doc2vec.py:570: UserWarning: The parameter `size` is deprecated, will be removed in 4.0.0, use `vector_size` instead.\n",
            "  warnings.warn(\"The parameter `size` is deprecated, will be removed in 4.0.0, use `vector_size` instead.\")\n"
          ],
          "name": "stderr"
        }
      ]
    },
    {
      "cell_type": "code",
      "metadata": {
        "_cell_guid": "8e62a5d0-741d-4644-9f38-3ae01088d40e",
        "_uuid": "72ff0acf1b30b343245108858206ab867b8aaf52",
        "id": "FHxN1ZkfXppF",
        "colab_type": "code",
        "colab": {}
      },
      "source": [
        "model.train(alldocs, total_examples=model.corpus_count, epochs=100, start_alpha=0.01, end_alpha=0.01)"
      ],
      "execution_count": 0,
      "outputs": []
    },
    {
      "cell_type": "markdown",
      "metadata": {
        "id": "7wNQV3EzXppG",
        "colab_type": "text"
      },
      "source": [
        "We can save and load models with the lines below."
      ]
    },
    {
      "cell_type": "code",
      "metadata": {
        "_cell_guid": "4f29a0ca-7d95-45e2-b30a-08e80a849d27",
        "_uuid": "c13199e4db1ef943421c059dc8c58ad4c6244e31",
        "id": "DP-_syD7XppH",
        "colab_type": "code",
        "colab": {
          "base_uri": "https://localhost:8080/",
          "height": 71
        },
        "outputId": "236ce8ad-42ae-4b96-da9b-16d00a43158c"
      },
      "source": [
        "model.save(\"model\")\n",
        "#Doc2Vec.load(\"model\")"
      ],
      "execution_count": 13,
      "outputs": [
        {
          "output_type": "stream",
          "text": [
            "/usr/local/lib/python3.6/dist-packages/smart_open/smart_open_lib.py:398: UserWarning: This function is deprecated, use smart_open.open instead. See the migration notes for details: https://github.com/RaRe-Technologies/smart_open/blob/master/README.rst#migrating-to-the-new-open-function\n",
            "  'See the migration notes for details: %s' % _MIGRATION_NOTES_URL\n"
          ],
          "name": "stderr"
        }
      ]
    },
    {
      "cell_type": "markdown",
      "metadata": {
        "_cell_guid": "5c7a4693-66e6-4213-b940-b3f5078ee094",
        "_uuid": "80fe102b1b5cad2b555c67b495c1e8cd6fb76fb9",
        "id": "nFRSYQISXppJ",
        "colab_type": "text"
      },
      "source": [
        "## <a id=\"words\"></a>Evaluating words embedding\n",
        "\n",
        "We will evaluate our model with some examples by showing the closest words to the words love, war and space.\n",
        "\n",
        "As the process of training a neural network does not always come to the same model, if the results do not make sense, you might consider creating the model and training it again.\n",
        "\n"
      ]
    },
    {
      "cell_type": "code",
      "metadata": {
        "id": "7MUAht4wXppK",
        "colab_type": "code",
        "outputId": "481135bd-e664-4abd-c6a3-919de4cc0124",
        "colab": {
          "base_uri": "https://localhost:8080/",
          "height": 187
        }
      },
      "source": [
        "model.wv.most_similar_cosmul(positive = [\"love\"])"
      ],
      "execution_count": 14,
      "outputs": [
        {
          "output_type": "execute_result",
          "data": {
            "text/plain": [
              "[('falls', 0.8456960320472717),\n",
              " ('falling', 0.8185344338417053),\n",
              " ('fall', 0.8124783039093018),\n",
              " ('madly', 0.8113616108894348),\n",
              " ('triangle', 0.7776875495910645),\n",
              " ('unrequited', 0.7549318075180054),\n",
              " ('fallen', 0.7529939413070679),\n",
              " ('heartbreak', 0.7453389167785645),\n",
              " ('loves', 0.7438414692878723),\n",
              " ('happiness', 0.7409876585006714)]"
            ]
          },
          "metadata": {
            "tags": []
          },
          "execution_count": 14
        }
      ]
    },
    {
      "cell_type": "code",
      "metadata": {
        "id": "TIojC7GNXppM",
        "colab_type": "code",
        "outputId": "12ee11bb-aa37-4d47-c3d5-92516c8aa9c8",
        "colab": {
          "base_uri": "https://localhost:8080/",
          "height": 187
        }
      },
      "source": [
        "model.wv.most_similar_cosmul(positive = [\"war\"])"
      ],
      "execution_count": 15,
      "outputs": [
        {
          "output_type": "execute_result",
          "data": {
            "text/plain": [
              "[('ii', 0.9141027331352234),\n",
              " ('civil', 0.8760365843772888),\n",
              " ('frontline', 0.8291715979576111),\n",
              " ('soldier', 0.8249968886375427),\n",
              " ('trenches', 0.8247454166412354),\n",
              " ('vietnam', 0.8145373463630676),\n",
              " ('ww', 0.81317138671875),\n",
              " ('gis', 0.812199592590332),\n",
              " ('soldiers', 0.8023731112480164),\n",
              " ('wartime', 0.7957614660263062)]"
            ]
          },
          "metadata": {
            "tags": []
          },
          "execution_count": 15
        }
      ]
    },
    {
      "cell_type": "code",
      "metadata": {
        "id": "VVce8-qhXppP",
        "colab_type": "code",
        "outputId": "5b440537-3775-4cae-ae3f-bead4478227b",
        "colab": {
          "base_uri": "https://localhost:8080/",
          "height": 187
        }
      },
      "source": [
        "model.wv.most_similar_cosmul(positive = [\"space\"])"
      ],
      "execution_count": 16,
      "outputs": [
        {
          "output_type": "execute_result",
          "data": {
            "text/plain": [
              "[('astronaut', 0.8965858221054077),\n",
              " ('mars', 0.8906508684158325),\n",
              " ('planet', 0.8886788487434387),\n",
              " ('astronauts', 0.8814858198165894),\n",
              " ('asteroid', 0.8767796754837036),\n",
              " ('outer', 0.8745329976081848),\n",
              " ('earth', 0.8705009818077087),\n",
              " ('nasa', 0.8696829676628113),\n",
              " ('spaceship', 0.869199275970459),\n",
              " ('spacecraft', 0.8598333597183228)]"
            ]
          },
          "metadata": {
            "tags": []
          },
          "execution_count": 16
        }
      ]
    },
    {
      "cell_type": "markdown",
      "metadata": {
        "id": "Ek2cXmUvXppQ",
        "colab_type": "text"
      },
      "source": [
        "The cell below show that the relationship of gender is understood by the model as we almost have the equation ** man - woman = king - queen**"
      ]
    },
    {
      "cell_type": "code",
      "metadata": {
        "_cell_guid": "95ad0282-82d0-405c-a3cf-c89181ede396",
        "_uuid": "8eeef245456e23f217b986b52051f360eca2b546",
        "id": "vapbQq1JXppR",
        "colab_type": "code",
        "outputId": "34004b8c-974a-4db0-e6d6-eedcfe8ae278",
        "colab": {
          "base_uri": "https://localhost:8080/",
          "height": 187
        }
      },
      "source": [
        "model.wv.most_similar_cosmul(negative = [\"man\"], positive = [\"king\",\"woman\"])"
      ],
      "execution_count": 17,
      "outputs": [
        {
          "output_type": "execute_result",
          "data": {
            "text/plain": [
              "[('queen', 0.9082275032997131),\n",
              " ('crowned', 0.8749703764915466),\n",
              " ('princess', 0.8695081472396851),\n",
              " ('palace', 0.8532910346984863),\n",
              " ('governess', 0.8489845991134644),\n",
              " ('prince', 0.8458099365234375),\n",
              " ('dartagnan', 0.8364710807800293),\n",
              " ('empress', 0.8335840106010437),\n",
              " ('athos', 0.8330180644989014),\n",
              " ('throne', 0.8274832963943481)]"
            ]
          },
          "metadata": {
            "tags": []
          },
          "execution_count": 17
        }
      ]
    },
    {
      "cell_type": "markdown",
      "metadata": {
        "id": "GJ1ktSrNXppT",
        "colab_type": "text"
      },
      "source": [
        "The results on the word embeddings are satisfying as we have coherent outputs.\n",
        "\n",
        "## <a id=\"docs\"></a>Evaluating documents embedding\n",
        "\n",
        "We will evaluate our model of documents embedding with some examples by showing the closest documents to key words ( here called tokens). We expect the documents to have similar meanings than the key words. In this way, the model act as a search engine."
      ]
    },
    {
      "cell_type": "code",
      "metadata": {
        "id": "5cFBF_IpXppU",
        "colab_type": "code",
        "outputId": "7a7359f0-fb0f-482f-f7e3-76f6b09b5c5b",
        "colab": {
          "base_uri": "https://localhost:8080/",
          "height": 139
        }
      },
      "source": [
        "# Closest document to the word \"war\"\n",
        "\n",
        "tokens = \"war\"\n",
        "\n",
        "new_vector = model.infer_vector(tokens.split() ,alpha=0.001 ,steps = 5)\n",
        "tagsim = model.docvecs.most_similar([new_vector])[0]\n",
        "\n",
        "docsim = alldocs[tagsim[0] ]\n",
        "\n",
        "print(\"Document : \", data[docsim.original_number], \"\\n\")\n",
        "print(\"Title : \", docsim.title)\n",
        "print(\"Distance : \", tagsim[1])"
      ],
      "execution_count": 18,
      "outputs": [
        {
          "output_type": "stream",
          "text": [
            "Document :  A young boy and his dog, who happens to have a genius-level IQ, spring into action when their time-travel machine is stolen and moments in history begin to be changed. \n",
            "\n",
            "Titre :  Mr. Peabody & Sherman\n",
            "Distance :  0.1758492887020111\n"
          ],
          "name": "stdout"
        },
        {
          "output_type": "stream",
          "text": [
            "/usr/local/lib/python3.6/dist-packages/gensim/matutils.py:737: FutureWarning: Conversion of the second argument of issubdtype from `int` to `np.signedinteger` is deprecated. In future, it will be treated as `np.int64 == np.dtype(int).type`.\n",
            "  if np.issubdtype(vec.dtype, np.int):\n"
          ],
          "name": "stderr"
        }
      ]
    },
    {
      "cell_type": "markdown",
      "metadata": {
        "id": "bs_ruserXppV",
        "colab_type": "text"
      },
      "source": [
        "We show the closest document to the key words, the farest document and a document in the middle."
      ]
    },
    {
      "cell_type": "code",
      "metadata": {
        "_cell_guid": "1b8e22de-6612-486e-99ef-058b70d35e1b",
        "_uuid": "ea4c4be94897fc5049409cc54ced7b87994ff16b",
        "id": "9VgbgIxCXppW",
        "colab_type": "code",
        "outputId": "1de7ad28-47c4-4fc7-b6f1-7b37f93ad78d",
        "colab": {
          "base_uri": "https://localhost:8080/",
          "height": 156
        }
      },
      "source": [
        "# Closest document to the word \"love\"\n",
        "\n",
        "tokens = \"love\"\n",
        "\n",
        "new_vector = model.infer_vector(tokens.split() ,alpha=0.001 ,steps = 5)\n",
        "sims = model.docvecs.most_similar([new_vector], topn=model.docvecs.count) # get *all* similar documents\n",
        "\n",
        "print(\"Most : \" , data[alldocs[sims[0][0]].original_number], \"\\n\") \n",
        "print(\"Median : \" , data[alldocs[sims[17000][0]].original_number], \"\\n\")\n",
        "print(\"Least : \" , data[alldocs[sims[-1][0]].original_number])"
      ],
      "execution_count": 19,
      "outputs": [
        {
          "output_type": "stream",
          "text": [
            "Most :  An evil Duke attempts to kill and collect the blood of a royal family of European vampires in order to become all powerful. The only surviving member of the family travels to Hong Kong, only to complicate his struggle by falling in love with a mortal girl who just happens to have a vampire hunter for a brother. \n",
            "\n",
            "Median :  Lucien Bourrache, a good looking non-commissioned officer at the Spahis, is used to charm many women. He met Madeleine Courtois at Cannes. She is beautiful and lives in luxury. He lends her a large amount of money, which she loses gambling. Then she drops him. But Lucien is now in love, and once demobilized, he goes to Paris to find her again. But he's not so sexy without his uniform, and Madeleine and him do not belong to the same milieu. \n",
            "\n",
            "Least :  Mary Smith decides after a lifetime of being a shut-in to do something wild while her father is out campaigning for the presidency, so she takes off for the family's home in West Palm Beach and inadvertently becomes romantically entangled with earnest cowboy Stretch Willoughby. Neither the dalliance nor the cowboy fit with the upper class image projected by her esteemed father, forcing her to choose.\n"
          ],
          "name": "stdout"
        },
        {
          "output_type": "stream",
          "text": [
            "/usr/local/lib/python3.6/dist-packages/gensim/matutils.py:737: FutureWarning: Conversion of the second argument of issubdtype from `int` to `np.signedinteger` is deprecated. In future, it will be treated as `np.int64 == np.dtype(int).type`.\n",
            "  if np.issubdtype(vec.dtype, np.int):\n"
          ],
          "name": "stderr"
        }
      ]
    },
    {
      "cell_type": "markdown",
      "metadata": {
        "id": "sgghT6wIXppY",
        "colab_type": "text"
      },
      "source": [
        "In this example, in terms of reviewer tone, movie genre, etc... the MOST cosine-similar documents seem more like the key words than the MEDIAN or LEAST"
      ]
    },
    {
      "cell_type": "code",
      "metadata": {
        "id": "qb50EZ1LXppZ",
        "colab_type": "code",
        "outputId": "42529b98-9549-4eb9-c79f-289f92527216",
        "colab": {
          "base_uri": "https://localhost:8080/",
          "height": 190
        }
      },
      "source": [
        "doc = np.random.randint(model.docvecs.count)\n",
        "\n",
        "sims = model.docvecs.most_similar(doc, topn=model.docvecs.count) # get *all* similar documents\n",
        "\n",
        "print(\"Target : \", data[alldocs[doc] .original_number], \"\\n\" )\n",
        "print(\"Most : \" , data[alldocs[sims[0][0]].original_number], \"\\n\")\n",
        "print(\"Median : \" , data[alldocs[sims[34000][0]].original_number], \"\\n\")\n",
        "print(\"Least : \" , data[alldocs[sims[-1][0]].original_number])\n"
      ],
      "execution_count": 20,
      "outputs": [
        {
          "output_type": "stream",
          "text": [
            "/usr/local/lib/python3.6/dist-packages/gensim/matutils.py:737: FutureWarning: Conversion of the second argument of issubdtype from `int` to `np.signedinteger` is deprecated. In future, it will be treated as `np.int64 == np.dtype(int).type`.\n",
            "  if np.issubdtype(vec.dtype, np.int):\n"
          ],
          "name": "stderr"
        },
        {
          "output_type": "stream",
          "text": [
            "Target :  Banku, his mother, Anjali Sharma and father move in to their new house -- the Nath villa, unaware of the fact that the house is inhabited by a ghost. It is learnt the ghost is not too happy with his new housemates. But what the ghost is not prepared for is his unlikely friendship with Banku. Now Banku must uncover the reason why his ghostly friend is stuck and help him to attain salvation. \n",
            "\n",
            "Most :  Four friends go into a haunted mansion on a whim but they do not realize that they have returned home with an evil spirit, from which escape might be impossible. \n",
            "\n",
            "Median :  In 20 years, he's directed more films than Martin Scorsese, He's produced more profitable movies than Jerry Bruckheimer, And he's infuriated more actors than Alfred Hitchcock. The ultimate B Movie Documentary, focusing on B Movie Giant Jim Wynorski (and B Movie Celebration Mentor) and his attempt to make a feature film in 3 days. He's directed seventy feature films, but he's never made one... in THREE DAYS. Jim cuts the shooting schedule, has the actors cook their own food. A documentary featuring B-Movie legends Roger Corman, Andy Sidaris, Julie Strain, Julie K. Smith and Stormy Daniels, Popatopolis follows Jim Wynorski as he begins to film one of his many opuses \"Witches of Breastwick\" Jim's frenetic pace demands 100 setups per day (the Hollywood standard is 20), and he reduces his electric package to just two lights so he can concentrate on the task at hand.A great overview of a true master at work and in many ways a laser sharp dialectic on the state of B filmmaking today. \n",
            "\n",
            "Least :  I Got Next\" is a documentary on the fighting game community. It follows four prominent players, Justin Wong, Ryan \"Gootecks\" Gutierrez, Joe \"iloveu\" Ciaramelli and Mike Ross through their experiences in the scene with the release of Street Fighter 4, which has caused a resurgence in the fighting game genre and a rekindling of the East Coast/West Coast rivalry that had died down in years past.\n"
          ],
          "name": "stdout"
        }
      ]
    },
    {
      "cell_type": "markdown",
      "metadata": {
        "id": "J8lOWbINXppb",
        "colab_type": "text"
      },
      "source": [
        "Usually the MOST cosine-similar documents usually seem more like the TARGET than the MEDIAN or LEAST"
      ]
    },
    {
      "cell_type": "markdown",
      "metadata": {
        "_cell_guid": "d6666cff-2ff4-4bc7-a50d-7f61cd5e57b5",
        "_uuid": "2bc413a5e42337f9f33c58d9aa51ba35e6bb8cef",
        "id": "iucsthtlXppb",
        "colab_type": "text"
      },
      "source": [
        " ## Pre-trained word embeddings\n",
        " \n",
        " It is possible to use pre-trained word embeddings for your model. Indeed, there is a word2vec model available here (https://code.google.com/archive/p/word2vec). This model is trained by google but might not be well suited for the problem you want to solve. "
      ]
    },
    {
      "cell_type": "code",
      "metadata": {
        "_cell_guid": "f86b9e2f-0360-4a61-b353-9cc7e0471a60",
        "_uuid": "393e48277e0aaa610cad6ebc6a54886c0b7ae6cd",
        "id": "b5IF72plXppc",
        "colab_type": "code",
        "colab": {}
      },
      "source": [
        "# PV-DBOW (with negative sampling)\n",
        "model_pre_trained = Doc2Vec(dm=0,size=300, window=15,hs=0,negative=5,min_count=10,dbow_words=1,sample=1e-5)\n",
        "\n",
        "# build the vocabulary \n",
        "model_pre_trained.build_vocab(alldocs)\n",
        "\n",
        "# use pre-trained word vectors from google\n",
        "model_pre_trained.intersect_word2vec_format('GoogleNews-vectors-negative300.bin', binary=True)"
      ],
      "execution_count": 0,
      "outputs": []
    },
    {
      "cell_type": "code",
      "metadata": {
        "_cell_guid": "36e7f4c1-3eb1-49cf-9389-d653042222ff",
        "_uuid": "3ffbedd7915d2e26db833ed4ea133c57e73fb747",
        "scrolled": false,
        "id": "PCLIQrURXppg",
        "colab_type": "code",
        "colab": {}
      },
      "source": [
        "model_pre_trained.train(alldocs, total_examples=model.corpus_count, epochs=100)"
      ],
      "execution_count": 0,
      "outputs": []
    },
    {
      "cell_type": "markdown",
      "metadata": {
        "_cell_guid": "62b8fc44-1a94-4608-9b88-0de6b66d3be4",
        "_uuid": "f8aadd752db5259e3ee00c4127c5be07148a0453",
        "collapsed": true,
        "id": "fU3gO4FmXppk",
        "colab_type": "text"
      },
      "source": [
        "## <a id=\"tfidf\"></a>Creating the TF-IDF model\n",
        "\n",
        "We create the TF-IDF model from the list alldocs with the module TfidfModel from gensim.\n",
        "\n",
        "\n",
        "Full documentation can be found here :\n",
        "<li> gensim : https://radimrehurek.com/gensim/ </li>\n",
        "<li> Tf-Idf : https://radimrehurek.com/gensim/models/tfidfmodel.html </li>"
      ]
    },
    {
      "cell_type": "code",
      "metadata": {
        "_cell_guid": "052ac363-a61e-4995-842e-1de38251c922",
        "_uuid": "36fffa7369a33971f577610fbe19dab4e12fc495",
        "id": "S1yINICWXppk",
        "colab_type": "code",
        "colab": {}
      },
      "source": [
        "from gensim.models import TfidfModel\n",
        "from gensim.corpora import Dictionary\n",
        "from gensim import similarities \n",
        "\n",
        "dct = Dictionary(doc.words for doc in alldocs)  # fit dictionary\n",
        "corpus = [dct.doc2bow(line.words) for line in alldocs]  # convert dataset to BoW format\n",
        "model_tfidf = TfidfModel(corpus)  # fit model"
      ],
      "execution_count": 0,
      "outputs": []
    },
    {
      "cell_type": "code",
      "metadata": {
        "id": "i8YBJMzEXppm",
        "colab_type": "code",
        "outputId": "a5caf82f-0447-41c2-9cea-09a3988803dc",
        "colab": {
          "base_uri": "https://localhost:8080/",
          "height": 71
        }
      },
      "source": [
        "# for example \n",
        " \n",
        "index = 0\n",
        "print(\"Document \",index, \" : \", data[alldocs[index].original_number] ) \n",
        "print(\"Bag of words representation of document \", index, \" : \", corpus[index])"
      ],
      "execution_count": 24,
      "outputs": [
        {
          "output_type": "stream",
          "text": [
            "Document  0  :  Led by Woody, Andy's toys live happily in his room until Andy's birthday brings Buzz Lightyear onto the scene. Afraid of losing his place in Andy's heart, Woody plots against Buzz. But when circumstances separate Buzz and Woody from their owner, the duo eventually learns to put aside their differences.\n",
            "Bag of words representation of document  0  :  [(0, 1), (1, 1), (2, 1), (3, 3), (4, 1), (5, 1), (6, 1), (7, 1), (8, 3), (9, 1), (10, 1), (11, 1), (12, 1), (13, 1), (14, 1), (15, 1), (16, 1), (17, 2), (18, 2), (19, 1), (20, 1), (21, 1), (22, 1), (23, 1), (24, 1), (25, 1), (26, 1), (27, 1), (28, 1), (29, 1), (30, 1), (31, 1), (32, 1), (33, 2), (34, 2), (35, 1), (36, 1), (37, 1), (38, 1), (39, 3)]\n"
          ],
          "name": "stdout"
        }
      ]
    },
    {
      "cell_type": "markdown",
      "metadata": {
        "id": "FV9vX08MXppo",
        "colab_type": "text"
      },
      "source": [
        "## Creating Similarity matrix between a list of key words and all the documents\n",
        "\n",
        "We create a matrix similarity thet represents the similarity between the list of key words and the documents."
      ]
    },
    {
      "cell_type": "code",
      "metadata": {
        "_cell_guid": "3887f564-f139-4edb-a38f-74e7a5c70490",
        "_uuid": "2e25899e5994ad9580355b03888a1a093256bfc5",
        "id": "4GNkIQI3Xppo",
        "colab_type": "code",
        "colab": {
          "base_uri": "https://localhost:8080/",
          "height": 71
        },
        "outputId": "50405c2c-c50e-4fd0-afc5-eb18f0147a11"
      },
      "source": [
        "#Create similarity matrix between doc and tokens\n",
        "tokens = \"love\".split()\n",
        "index = similarities.MatrixSimilarity([dct.doc2bow(tokens)],num_features=len(dct))"
      ],
      "execution_count": 25,
      "outputs": [
        {
          "output_type": "stream",
          "text": [
            "/usr/local/lib/python3.6/dist-packages/gensim/matutils.py:737: FutureWarning: Conversion of the second argument of issubdtype from `int` to `np.signedinteger` is deprecated. In future, it will be treated as `np.int64 == np.dtype(int).type`.\n",
            "  if np.issubdtype(vec.dtype, np.int):\n"
          ],
          "name": "stderr"
        }
      ]
    },
    {
      "cell_type": "markdown",
      "metadata": {
        "id": "V1vC6iHkXppq",
        "colab_type": "text"
      },
      "source": [
        "We just use the document with the higher score of similarity."
      ]
    },
    {
      "cell_type": "code",
      "metadata": {
        "_cell_guid": "ff1d9477-926f-4fcd-98d8-e1acbaf586f6",
        "_uuid": "7bb787ed8102a74835e7b80274f1aff8ad136408",
        "id": "3dAn9fm0Xppr",
        "colab_type": "code",
        "outputId": "3818a317-df81-49f1-e813-c33cb7237068",
        "colab": {
          "base_uri": "https://localhost:8080/",
          "height": 88
        }
      },
      "source": [
        "similarity=np.zeros((len(alldocs)))\n",
        "maxsim = 0\n",
        "for id, doc in enumerate(alldocs):\n",
        "    similarity[id] = index[dct.doc2bow(doc.words)]\n",
        "    \n",
        "docsim= alldocs[np.argmax(similarity)] \n",
        "print(data[docsim.original_number])\n",
        "print(tagsim)\n",
        "print(docsim.title)"
      ],
      "execution_count": 26,
      "outputs": [
        {
          "output_type": "stream",
          "text": [
            "Out of Love encapsulates the sweltering and devastating dynamics of love in the turbulent relationship between Varya and Nikolai, where genuine love and hope contend with destruction and despair.\n",
            "(17943, 0.1758492887020111)\n",
            "Out of Love\n"
          ],
          "name": "stdout"
        }
      ]
    },
    {
      "cell_type": "markdown",
      "metadata": {
        "collapsed": true,
        "id": "o1X6vbsUXppt",
        "colab_type": "text"
      },
      "source": [
        "The output is coherent with the input as there is the word **love** 3 times in the document.\n",
        "\n",
        "# Conclusion \n",
        "\n",
        "There are a lot of differences between the Doc2Vec search engine and the TF-IDF search engine. The TF-IDF model look only for the words listed in the key words that matches with the words in the document. This model is performing only if you look for documents that matches exactly the list of key words. But this model do not take into account the meaning of the words and the semantic proximity that can exist between 2 words. That is what is trying to achieve the Doc2Vec model. The goal is to create a model that represents meaning similarity between words and documents. The downside is that the model is more complex to create and depends on the data that is given and the tuning of hyper-parameters."
      ]
    }
  ]
}