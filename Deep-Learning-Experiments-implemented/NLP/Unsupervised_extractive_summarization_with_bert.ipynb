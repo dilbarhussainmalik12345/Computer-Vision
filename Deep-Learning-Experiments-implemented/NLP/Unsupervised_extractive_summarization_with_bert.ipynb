{
  "nbformat": 4,
  "nbformat_minor": 0,
  "metadata": {
    "colab": {
      "name": "Unsupervised_extractive_summarization_with_bert.ipynb",
      "provenance": [],
      "include_colab_link": true
    },
    "kernelspec": {
      "name": "python3",
      "display_name": "Python 3"
    },
    "accelerator": "GPU"
  },
  "cells": [
    {
      "cell_type": "markdown",
      "metadata": {
        "id": "view-in-github",
        "colab_type": "text"
      },
      "source": [
        "<a href=\"https://colab.research.google.com/github/navneetkrc/Colab_fastai/blob/master/NLP/Unsupervised_extractive_summarization_with_bert.ipynb\" target=\"_parent\"><img src=\"https://colab.research.google.com/assets/colab-badge.svg\" alt=\"Open In Colab\"/></a>"
      ]
    },
    {
      "cell_type": "markdown",
      "metadata": {
        "id": "ICvreRPWZHlM",
        "colab_type": "text"
      },
      "source": [
        "# Unsupervised Extractive Summarization with BERT\n",
        "This notebook demonstrates EmbedRank, which is an unsupervised keyphrase extraction model [1]. Sentence embeddings obtained from Hugging Face's BERT are used to calculate each sentence's importance.\n"
      ]
    },
    {
      "cell_type": "markdown",
      "metadata": {
        "id": "zzp224RYZedC",
        "colab_type": "text"
      },
      "source": [
        "## Settings"
      ]
    },
    {
      "cell_type": "code",
      "metadata": {
        "id": "hHzpRs-jZOof",
        "colab_type": "code",
        "cellView": "both",
        "outputId": "9d18436e-8bce-48f2-8764-2cde7ddd308a",
        "colab": {
          "base_uri": "https://localhost:8080/",
          "height": 85
        }
      },
      "source": [
        "#@title Setup Environment\n",
        "!pip install --quiet googletrans==2.4.0\n",
        "!pip install --quiet japanize-matplotlib==1.0.4\n",
        "!pip install --quiet pytorch_transformers\n",
        "!pip install --quiet mecab-python3\n",
        "!pip install --quiet https://github.com/megagonlabs/ginza/releases/download/v1.0.2/ja_ginza_nopn-1.0.2.tgz\n",
        "!pip install --quiet https://github.com/explosion/spacy-models/releases/download/en_core_web_sm-2.1.0/en_core_web_sm-2.1.0.tar.gz\n",
        "!ln -s /usr/local/lib/python3.6/dist-packages/ja_ginza_nopn /usr/local/lib/python3.6/dist-packages/spacy/data/ja_ginza_nopn"
      ],
      "execution_count": 1,
      "outputs": [
        {
          "output_type": "stream",
          "text": [
            "\u001b[K     |████████████████████████████████| 122.4MB 273kB/s \n",
            "\u001b[?25h  Building wheel for ja-ginza-nopn (setup.py) ... \u001b[?25l\u001b[?25hdone\n",
            "\u001b[K     |████████████████████████████████| 11.1MB 1.6MB/s \n",
            "\u001b[?25h  Building wheel for en-core-web-sm (setup.py) ... \u001b[?25l\u001b[?25hdone\n"
          ],
          "name": "stdout"
        }
      ]
    },
    {
      "cell_type": "code",
      "metadata": {
        "id": "ukbf524JZjRg",
        "colab_type": "code",
        "cellView": "both",
        "colab": {}
      },
      "source": [
        "#@title Setup common imports and functions\n",
        "from googletrans import Translator\n",
        "import torch\n",
        "from pytorch_transformers import (\n",
        "    BertTokenizer,\n",
        "    BertModel,\n",
        ")\n",
        "import numpy as np\n",
        "import matplotlib.pyplot as plt\n",
        "import japanize_matplotlib\n",
        "import seaborn as sns\n",
        "import spacy\n",
        "from IPython.display import HTML\n",
        "from sklearn import manifold\n",
        "from sklearn.metrics.pairwise import cosine_distances\n",
        "%matplotlib inline\n",
        "\n",
        "\n",
        "def ncossim(embs_1, embs_2, axis=0):\n",
        "    sims = np.inner(embs_1, embs_2)\n",
        "    std = np.std(sims, axis=axis)\n",
        "    ex = np.mean((sims-np.min(sims, axis=axis))/np.max(sims, axis=axis), axis=axis)\n",
        "    return 0.5 + (sims-ex)/std\n",
        "\n",
        "\n",
        "def mmr(doc_emb, cand_embs, key_embs):\n",
        "    param = 0.5\n",
        "    scores = param * ncossim(cand_embs, doc_emb, axis=0)\n",
        "    if key_embs is not None:\n",
        "        scores -= (1-param) * np.max(ncossim(cand_embs, key_embs), axis=1).reshape(scores.shape[0], -1)\n",
        "    return scores\n",
        "\n",
        "\n",
        "def embedrank(doc_emb, sent_embs, n_keys):\n",
        "    assert 0 < n_keys, 'Please `key_size` value set more than 0'\n",
        "    assert n_keys < len(sent_embs), 'Please `key_size` value set lower than `#sentences`'\n",
        "    sims = np.inner(doc_emb, sent_embs).reshape(-1)\n",
        "    return np.argsort(-sims)[:n_keys]\n",
        "\n",
        "\n",
        "def embedrankpp(doc_emb, sent_embs, n_keys):\n",
        "    assert 0 < n_keys, 'Please `key_size` value set more than 0'\n",
        "    assert n_keys < len(sent_embs), 'Please `key_size` value set lower than `#sentences`'\n",
        "    cand_idx = list(range(len(sent_embs)))\n",
        "    key_idx = []\n",
        "    while len(key_idx) < n_keys:\n",
        "        cand_embs = sent_embs[cand_idx]\n",
        "        key_embs = sent_embs[key_idx] if len(key_idx) > 0 else None\n",
        "        scores = mmr(doc_emb, cand_embs, key_embs)\n",
        "        key_idx.append(cand_idx[np.argmax(scores)])\n",
        "        cand_idx.pop(np.argmax(scores))\n",
        "    return key_idx"
      ],
      "execution_count": 0,
      "outputs": []
    },
    {
      "cell_type": "markdown",
      "metadata": {
        "id": "1lWmmj1raL4l",
        "colab_type": "text"
      },
      "source": [
        "## Extractive Summarization"
      ]
    },
    {
      "cell_type": "code",
      "metadata": {
        "id": "GVZPWVlsdnFn",
        "colab_type": "code",
        "colab": {}
      },
      "source": [
        "# Document from Wikipedia\n",
        "doc = \"\"\"500+ Words Essay on Sachin Tendulkar.\n",
        "We have often heard that ‘Cricket is religion in India and Sachin is God’. \n",
        "There is no better statement that can justify the status of Sachin Tendulkar in India. \n",
        "Sachin Tendulkar in India is not just a cricketer, he is God. Also for common people in India, he is an example of hard work and determination. \n",
        "Thus, he is worshipped by everyone in India. The essay on Sachin Tendulkar is a small insight into one of the greatest ever sportsman to have played any game. \n",
        "Sachin Tendulkar was born to a middle-class family and came to limelight with a performance in the school tournament. \n",
        "He held a record partnership at that time with Vinod Kambli playing for their school tournament. \n",
        "That innings changed Sachin’s life completely and he became famous in a fortnight. \n",
        "In those days, the school tournaments had a different fanbase and a good performance can bring you in limelight. \n",
        "Because of that inning, people all over India came to know who Sachin Tendulkar was! \n",
        "Thus, it also caught Indian selector’s eye and Sachin Tendulkar was selected for the tour of Pakistan at an age of 16!  \n",
        "\n",
        "At 16 years of age, Sachin was supposed to face the likes of Wasim Akram and Waqar Younis. The Pakistani spearheads were known for their swing and sharp bouncers. \n",
        "Thus, Sachin had a hard time facing Pakistan fast bowlers. Still, he managed to come out with some runs under his belt. \n",
        "Thus, it would justify the Sachin’s selection in the series to come. The series was a memorable experience for Sachin as he also got to spend time with his idols in the Indian dressing room. \n",
        "Sachin Tendulkar – The Opener. \n",
        "The real contribution by Sachin Tendulkar to Indian cricket is not the runs he scored or the matches he won. \n",
        "The main contribution by Sachin was the way he changed the opening in ODI cricket. \n",
        "He was given an opportunity to open against New Zealand in New Zealand in 1992 and he made it count. \n",
        "Thus, a very different dimension of Sachin Tendulkar came into light. The major contribution of runs scored by him in ODI cricket is by opening the batting for India. \n",
        "Thus, India got one of the reliable openers in Sachin who can also score at more than run a ball.  \n",
        "\"\"\""
      ],
      "execution_count": 0,
      "outputs": []
    },
    {
      "cell_type": "code",
      "metadata": {
        "id": "8nSSOvQZuQZj",
        "colab_type": "code",
        "cellView": "both",
        "outputId": "1c0d8d49-da22-4cb5-93b1-50782562ec5f",
        "colab": {
          "base_uri": "https://localhost:8080/",
          "height": 51
        }
      },
      "source": [
        "#@title Language detection and sentence segmentation\n",
        "translator = Translator()\n",
        "detected_lang = translator.detect(doc)\n",
        "\n",
        "assert detected_lang.lang in ['ja', 'en'], 'Please, input Japanese text or English text'\n",
        "if detected_lang.lang == 'ja':\n",
        "    sentence_splitter = spacy.load('ja_ginza_nopn')\n",
        "elif detected_lang.lang == 'en':\n",
        "    sentence_splitter = spacy.load('en_core_web_sm')\n",
        "\n",
        "sents = [str(s) for s in sentence_splitter(doc.replace('\\n', '')).sents]\n",
        "print(f'Language: {detected_lang.lang}')\n",
        "print(f'#sentences: {len(sents)}')"
      ],
      "execution_count": 18,
      "outputs": [
        {
          "output_type": "stream",
          "text": [
            "Language: en\n",
            "#sentences: 28\n"
          ],
          "name": "stdout"
        }
      ]
    },
    {
      "cell_type": "code",
      "metadata": {
        "id": "no3oU6hfaNIG",
        "colab_type": "code",
        "cellView": "both",
        "colab": {}
      },
      "source": [
        "#@title Build a model\n",
        "tokenizer = BertTokenizer.from_pretrained('bert-base-multilingual-cased')\n",
        "model = BertModel.from_pretrained('bert-base-multilingual-cased')\n",
        "rank_fn = embedrankpp"
      ],
      "execution_count": 0,
      "outputs": []
    },
    {
      "cell_type": "code",
      "metadata": {
        "id": "wGGsnMMx0TY1",
        "colab_type": "code",
        "colab": {}
      },
      "source": [
        "CUDA_LAUNCH_BLOCKING=1"
      ],
      "execution_count": 0,
      "outputs": []
    },
    {
      "cell_type": "code",
      "metadata": {
        "id": "kgRNVcBFcY9O",
        "colab_type": "code",
        "cellView": "both",
        "colab": {}
      },
      "source": [
        "#@title Model run\n",
        "# Convert tokens into ids\n",
        "encoded_doc = torch.tensor(tokenizer.encode(doc)).unsqueeze(0)\n",
        "encoded_sents = [tokenizer.encode(s) for s in sents]\n",
        "pad_idx = tokenizer.convert_tokens_to_ids(tokenizer.pad_token)\n",
        "maxlen = max([len(s) for s in encoded_sents])\n",
        "encoded_sents = torch.tensor([s + [pad_idx for _ in range(maxlen-len(s))] for s in encoded_sents])\n",
        "\n",
        "if torch.cuda.is_available:\n",
        "    model.to('cuda')\n",
        "    encoded_doc = encoded_doc.to('cuda')\n",
        "    encoded_sents = encoded_sents.to('cuda')\n",
        "    \n",
        "# Encode\n",
        "doc_emb = torch.mean(model(encoded_doc)[0], dim=1).to('cpu').detach().numpy()\n",
        "sent_embs = torch.mean(model(encoded_sents)[0], dim=1).to('cpu').detach().numpy()\n",
        "\n",
        "# Ranking\n",
        "key_size = 3 #@param {type:\"integer\"}\n",
        "keys = rank_fn(doc_emb, sent_embs, key_size)"
      ],
      "execution_count": 0,
      "outputs": []
    },
    {
      "cell_type": "code",
      "metadata": {
        "id": "b5HKVZd8s4ct",
        "colab_type": "code",
        "cellView": "both",
        "outputId": "ae86aa68-1a78-42b5-a4ec-450ff428c9db",
        "colab": {
          "base_uri": "https://localhost:8080/",
          "height": 204
        }
      },
      "source": [
        "#@title Display\n",
        "display_sents = []\n",
        "for i, s in enumerate(sents):\n",
        "    line = '<font color=\"#CD5C5C\"><strong>' + s + '</strong></font>' if i in keys else s\n",
        "    display_sents.append(line)\n",
        "HTML(''.join(display_sents))"
      ],
      "execution_count": 22,
      "outputs": [
        {
          "output_type": "execute_result",
          "data": {
            "text/html": [
              "500+ Words Essay on Sachin Tendulkar.We have often heard that ‘Cricket is religion in India and Sachin is God’.There is no better statement that can justify the status of Sachin Tendulkar in India.Sachin Tendulkar in India is not just a cricketer, he is God.Also for common people in India, he is an example of hard work and determination.Thus, he is worshipped by everyone in India.The essay on Sachin Tendulkar is a small insight into one of the greatest ever sportsman to have played any game.Sachin Tendulkar was born to a middle-class family and came to limelight with a performance in the school tournament.He held a record partnership at that time with Vinod Kambli playing for their school tournament.That innings changed Sachin’s life completely and he became famous in a fortnight.In those days, the school tournaments had a different fanbase and a good performance can bring you in limelight.Because of that inning, people all over India came to know who Sachin Tendulkar was!Thus, it also caught Indian selector’s eyeand Sachin Tendulkar was selected for the tour of Pakistan at an age of 16!  <font color=\"#CD5C5C\"><strong>At 16 years of age, Sachin was supposed to face the likes of Wasim Akram and Waqar Younis.</strong></font>The Pakistani spearheads were known for their swing and sharp bouncers.Thus, Sachin had a hard time facing Pakistan fast bowlers.Still, he managed to come out with some runs under his belt.Thus, it would justify the Sachin’s selection in the series to come.<font color=\"#CD5C5C\"><strong>The series was a memorable experience for Sachin as he also got to spend time with his idols in the Indian dressing room.</strong></font>Sachin Tendulkar –The Opener.<font color=\"#CD5C5C\"><strong>The real contribution by Sachin Tendulkar to Indian cricket is not the runs he scored or the matches he won.</strong></font>The main contribution by Sachin was the way he changed the opening in ODI cricket.He was given an opportunity to open against New Zealand in New Zealand in 1992 and he made it count.Thus, a very different dimension of Sachin Tendulkar came into light.The major contribution of runs scored by him in ODI cricket is by opening the batting for India.Thus, India got one of the reliable openers in Sachin who can also score at more than run a ball.  "
            ],
            "text/plain": [
              "<IPython.core.display.HTML object>"
            ]
          },
          "metadata": {
            "tags": []
          },
          "execution_count": 22
        }
      ]
    },
    {
      "cell_type": "code",
      "metadata": {
        "id": "47H6fAx6qdRt",
        "colab_type": "code",
        "cellView": "both",
        "outputId": "773b2c1a-07e9-490d-e5f3-ce7bf366ea89",
        "colab": {
          "base_uri": "https://localhost:8080/",
          "height": 778
        }
      },
      "source": [
        "#@title Visualize sentence embeddings\n",
        "# print sentences\n",
        "print('id' + '\\t' + 'sentence')\n",
        "for i, sent in enumerate(sents, 1):\n",
        "    if len(sent) < 50:\n",
        "        print(str(i) + '\\t' + sent)\n",
        "    else:\n",
        "        print(str(i) + '\\t' + sent[:50] + '...')\n",
        "print('')\n",
        "\n",
        "# MDS\n",
        "mds = manifold.MDS(n_components=2, dissimilarity=\"precomputed\")\n",
        "embs = np.concatenate((doc_emb, sent_embs), 0)\n",
        "dist_matrix = cosine_distances(embs, embs)\n",
        "pns = mds.fit_transform(dist_matrix)\n",
        "fixed_pns = pns - pns[0]\n",
        "# plot\n",
        "keys_idx = [idx + 1 for idx in keys]\n",
        "other_idx = [idx for idx in range(1, len(sents)+1) if idx not in keys_idx]\n",
        "plt.scatter(fixed_pns[0,0], fixed_pns[0,1], color='green',  marker='*', s=150, label='document')\n",
        "plt.scatter(fixed_pns[keys_idx,0], fixed_pns[keys_idx, 1], color='blue', label='key sentences')\n",
        "plt.scatter(fixed_pns[other_idx,0], fixed_pns[other_idx, 1], color='white', edgecolors='black', label='other sentences')\n",
        "\n",
        "for i,(x,y) in enumerate(fixed_pns[1:], 1):\n",
        "    plt.annotate(str(i), (x+0.002 ,y+0.002))\n",
        "    \n",
        "plt.legend()\n",
        "plt.show()\n"
      ],
      "execution_count": 23,
      "outputs": [
        {
          "output_type": "stream",
          "text": [
            "id\tsentence\n",
            "1\t500+ Words Essay on Sachin Tendulkar.\n",
            "2\tWe have often heard that ‘Cricket is religion in I...\n",
            "3\tThere is no better statement that can justify the ...\n",
            "4\tSachin Tendulkar in India is not just a cricketer,...\n",
            "5\tAlso for common people in India, he is an example ...\n",
            "6\tThus, he is worshipped by everyone in India.\n",
            "7\tThe essay on Sachin Tendulkar is a small insight i...\n",
            "8\tSachin Tendulkar was born to a middle-class family...\n",
            "9\tHe held a record partnership at that time with Vin...\n",
            "10\tThat innings changed Sachin’s life completely and ...\n",
            "11\tIn those days, the school tournaments had a differ...\n",
            "12\tBecause of that inning, people all over India came...\n",
            "13\tThus, it also caught Indian selector’s eye\n",
            "14\tand Sachin Tendulkar was selected for the tour of ...\n",
            "15\tAt 16 years of age, Sachin was supposed to face th...\n",
            "16\tThe Pakistani spearheads were known for their swin...\n",
            "17\tThus, Sachin had a hard time facing Pakistan fast ...\n",
            "18\tStill, he managed to come out with some runs under...\n",
            "19\tThus, it would justify the Sachin’s selection in t...\n",
            "20\tThe series was a memorable experience for Sachin a...\n",
            "21\tSachin Tendulkar –\n",
            "22\tThe Opener.\n",
            "23\tThe real contribution by Sachin Tendulkar to India...\n",
            "24\tThe main contribution by Sachin was the way he cha...\n",
            "25\tHe was given an opportunity to open against New Ze...\n",
            "26\tThus, a very different dimension of Sachin Tendulk...\n",
            "27\tThe major contribution of runs scored by him in OD...\n",
            "28\tThus, India got one of the reliable openers in Sac...\n",
            "\n"
          ],
          "name": "stdout"
        },
        {
          "output_type": "display_data",
          "data": {
            "image/png": "[encoded data removed]",
            "text/plain": [
              "<Figure size 432x288 with 1 Axes>"
            ]
          },
          "metadata": {
            "tags": []
          }
        }
      ]
    },
    {
      "cell_type": "markdown",
      "metadata": {
        "id": "jlmXgAH9YlC9",
        "colab_type": "text"
      },
      "source": [
        "## References\n",
        "1. [Kamil Bennani-Smires, Claudiu Musat, Andreaa Hossmann, Michael Baeriswyl, Martin Jaggi. Simple Unsupervised Keyphrase Extraction using Sentence Embeddings. CoNLL 2018, pages 221–229](https://www.aclweb.org/anthology/K18-1022)\n",
        "\n",
        "\n"
      ]
    }
  ]
}