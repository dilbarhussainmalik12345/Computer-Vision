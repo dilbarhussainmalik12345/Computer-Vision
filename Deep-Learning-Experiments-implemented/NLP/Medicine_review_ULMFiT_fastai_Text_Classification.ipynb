{
  "nbformat": 4,
  "nbformat_minor": 0,
  "metadata": {
    "colab": {
      "name": "Medicine_review:ULMFiT_fastai_Text_Classification",
      "version": "0.3.2",
      "provenance": [],
      "collapsed_sections": [],
      "toc_visible": true,
      "include_colab_link": true
    },
    "kernelspec": {
      "name": "python3",
      "display_name": "Python 3"
    },
    "accelerator": "GPU"
  },
  "cells": [
    {
      "cell_type": "markdown",
      "metadata": {
        "id": "view-in-github",
        "colab_type": "text"
      },
      "source": [
        "<a href=\"https://colab.research.google.com/github/navneetkrc/Colab_fastai/blob/master/Medicine_review_ULMFiT_fastai_Text_Classification.ipynb\" target=\"_parent\"><img src=\"https://colab.research.google.com/assets/colab-badge.svg\" alt=\"Open In Colab\"/></a>"
      ]
    },
    {
      "metadata": {
        "id": "rsMgf8LLsoOq",
        "colab_type": "text"
      },
      "cell_type": "markdown",
      "source": [
        "##Install Dependencies\n",
        "Let's install PyTorch and fastai libraries first. You have to repeat this step every time you restart this notebook in colab."
      ]
    },
    {
      "metadata": {
        "id": "9L-mYNWDBB4g",
        "colab_type": "code",
        "colab": {}
      },
      "cell_type": "code",
      "source": [
        "!pip install torch_nightly -f https://download.pytorch.org/whl/nightly/cu92/torch_nightly.html\n",
        "!pip install fastai"
      ],
      "execution_count": 0,
      "outputs": []
    },
    {
      "metadata": {
        "id": "MaOjAtpN89LB",
        "colab_type": "code",
        "outputId": "4c03f370-63ab-4116-815f-a2e200706b1a",
        "colab": {
          "base_uri": "https://localhost:8080/",
          "height": 51
        }
      },
      "cell_type": "code",
      "source": [
        "import torch\n",
        "print(torch.__version__)\n",
        "import fastai\n",
        "print(fastai.__version__) #1.0.38\n"
      ],
      "execution_count": 2,
      "outputs": [
        {
          "output_type": "stream",
          "text": [
            "1.0.0\n",
            "1.0.38\n"
          ],
          "name": "stdout"
        }
      ]
    },
    {
      "metadata": {
        "id": "SA87AbrrBigr",
        "colab_type": "code",
        "colab": {}
      },
      "cell_type": "code",
      "source": [
        "# import libraries\n",
        "import fastai\n",
        "from fastai import *\n",
        "from fastai.text import * \n",
        "import pandas as pd\n",
        "import numpy as np\n",
        "from functools import partial\n",
        "import io\n",
        "import os"
      ],
      "execution_count": 0,
      "outputs": []
    },
    {
      "metadata": {
        "id": "1rM5TMVW3AQ-",
        "colab_type": "text"
      },
      "cell_type": "markdown",
      "source": [
        "## Import Dataset"
      ]
    },
    {
      "metadata": {
        "id": "R8tFKSlW9CnP",
        "colab_type": "text"
      },
      "cell_type": "markdown",
      "source": [
        "###Install Kaggle Dependencies"
      ]
    },
    {
      "metadata": {
        "id": "oKS-s7_19G0D",
        "colab_type": "code",
        "colab": {}
      },
      "cell_type": "code",
      "source": [
        "!pip install -U -q kaggle\n",
        "!mkdir -p ~/.kaggle\n",
        "!mkdir -p input\n",
        "!echo '{\"username\":\"navneetkrch\",\"key\":\"4910f3543e9486158ccfa00ca84b274f\"}'> ~/.kaggle/kaggle.json  # Replace\n",
        "#!chmod 600 kaggle.json\n"
      ],
      "execution_count": 0,
      "outputs": []
    },
    {
      "metadata": {
        "id": "ePRFNEls9VPx",
        "colab_type": "code",
        "colab": {}
      },
      "cell_type": "code",
      "source": [
        "!kaggle datasets download -d jessicali9530/kuc-hackathon-winter-2018"
      ],
      "execution_count": 0,
      "outputs": []
    },
    {
      "metadata": {
        "id": "ZaGiIgqC9irQ",
        "colab_type": "code",
        "colab": {}
      },
      "cell_type": "code",
      "source": [
        "!unzip kuc-hackathon-winter-2018.zip -d input\n"
      ],
      "execution_count": 0,
      "outputs": []
    },
    {
      "metadata": {
        "id": "tgLt46RS96OU",
        "colab_type": "code",
        "colab": {}
      },
      "cell_type": "code",
      "source": [
        "train = pd.read_csv('input/drugsComTrain_raw.csv')\n",
        "test = pd.read_csv('input/drugsComTest_raw.csv')"
      ],
      "execution_count": 0,
      "outputs": []
    },
    {
      "metadata": {
        "id": "r9SHCfiABlcF",
        "colab_type": "code",
        "outputId": "23cbad71-0794-407a-c2dd-0517e143ff98",
        "colab": {
          "base_uri": "https://localhost:8080/",
          "height": 300
        }
      },
      "cell_type": "code",
      "source": [
        "train.head().T"
      ],
      "execution_count": 8,
      "outputs": [
        {
          "output_type": "execute_result",
          "data": {
            "text/html": [
              "<div>\n",
              "<style scoped>\n",
              "    .dataframe tbody tr th:only-of-type {\n",
              "        vertical-align: middle;\n",
              "    }\n",
              "\n",
              "    .dataframe tbody tr th {\n",
              "        vertical-align: top;\n",
              "    }\n",
              "\n",
              "    .dataframe thead th {\n",
              "        text-align: right;\n",
              "    }\n",
              "</style>\n",
              "<table border=\"1\" class=\"dataframe\">\n",
              "  <thead>\n",
              "    <tr style=\"text-align: right;\">\n",
              "      <th></th>\n",
              "      <th>0</th>\n",
              "      <th>1</th>\n",
              "      <th>2</th>\n",
              "      <th>3</th>\n",
              "      <th>4</th>\n",
              "    </tr>\n",
              "  </thead>\n",
              "  <tbody>\n",
              "    <tr>\n",
              "      <th>uniqueID</th>\n",
              "      <td>206461</td>\n",
              "      <td>95260</td>\n",
              "      <td>92703</td>\n",
              "      <td>138000</td>\n",
              "      <td>35696</td>\n",
              "    </tr>\n",
              "    <tr>\n",
              "      <th>drugName</th>\n",
              "      <td>Valsartan</td>\n",
              "      <td>Guanfacine</td>\n",
              "      <td>Lybrel</td>\n",
              "      <td>Ortho Evra</td>\n",
              "      <td>Buprenorphine / naloxone</td>\n",
              "    </tr>\n",
              "    <tr>\n",
              "      <th>condition</th>\n",
              "      <td>Left Ventricular Dysfunction</td>\n",
              "      <td>ADHD</td>\n",
              "      <td>Birth Control</td>\n",
              "      <td>Birth Control</td>\n",
              "      <td>Opiate Dependence</td>\n",
              "    </tr>\n",
              "    <tr>\n",
              "      <th>review</th>\n",
              "      <td>\"It has no side effect, I take it in combinati...</td>\n",
              "      <td>\"My son is halfway through his fourth week of ...</td>\n",
              "      <td>\"I used to take another oral contraceptive, wh...</td>\n",
              "      <td>\"This is my first time using any form of birth...</td>\n",
              "      <td>\"Suboxone has completely turned my life around...</td>\n",
              "    </tr>\n",
              "    <tr>\n",
              "      <th>rating</th>\n",
              "      <td>9</td>\n",
              "      <td>8</td>\n",
              "      <td>5</td>\n",
              "      <td>8</td>\n",
              "      <td>9</td>\n",
              "    </tr>\n",
              "    <tr>\n",
              "      <th>date</th>\n",
              "      <td>20-May-12</td>\n",
              "      <td>27-Apr-10</td>\n",
              "      <td>14-Dec-09</td>\n",
              "      <td>3-Nov-15</td>\n",
              "      <td>27-Nov-16</td>\n",
              "    </tr>\n",
              "    <tr>\n",
              "      <th>usefulCount</th>\n",
              "      <td>27</td>\n",
              "      <td>192</td>\n",
              "      <td>17</td>\n",
              "      <td>10</td>\n",
              "      <td>37</td>\n",
              "    </tr>\n",
              "  </tbody>\n",
              "</table>\n",
              "</div>"
            ],
            "text/plain": [
              "                                                             0  \\\n",
              "uniqueID                                                206461   \n",
              "drugName                                             Valsartan   \n",
              "condition                         Left Ventricular Dysfunction   \n",
              "review       \"It has no side effect, I take it in combinati...   \n",
              "rating                                                       9   \n",
              "date                                                 20-May-12   \n",
              "usefulCount                                                 27   \n",
              "\n",
              "                                                             1  \\\n",
              "uniqueID                                                 95260   \n",
              "drugName                                            Guanfacine   \n",
              "condition                                                 ADHD   \n",
              "review       \"My son is halfway through his fourth week of ...   \n",
              "rating                                                       8   \n",
              "date                                                 27-Apr-10   \n",
              "usefulCount                                                192   \n",
              "\n",
              "                                                             2  \\\n",
              "uniqueID                                                 92703   \n",
              "drugName                                                Lybrel   \n",
              "condition                                        Birth Control   \n",
              "review       \"I used to take another oral contraceptive, wh...   \n",
              "rating                                                       5   \n",
              "date                                                 14-Dec-09   \n",
              "usefulCount                                                 17   \n",
              "\n",
              "                                                             3  \\\n",
              "uniqueID                                                138000   \n",
              "drugName                                            Ortho Evra   \n",
              "condition                                        Birth Control   \n",
              "review       \"This is my first time using any form of birth...   \n",
              "rating                                                       8   \n",
              "date                                                  3-Nov-15   \n",
              "usefulCount                                                 10   \n",
              "\n",
              "                                                             4  \n",
              "uniqueID                                                 35696  \n",
              "drugName                              Buprenorphine / naloxone  \n",
              "condition                                    Opiate Dependence  \n",
              "review       \"Suboxone has completely turned my life around...  \n",
              "rating                                                       9  \n",
              "date                                                 27-Nov-16  \n",
              "usefulCount                                                 37  "
            ]
          },
          "metadata": {
            "tags": []
          },
          "execution_count": 8
        }
      ]
    },
    {
      "metadata": {
        "id": "Xvs8MygLEKri",
        "colab_type": "code",
        "outputId": "e41d942c-77ef-49ff-c23d-c913aee7b827",
        "colab": {
          "base_uri": "https://localhost:8080/",
          "height": 300
        }
      },
      "cell_type": "code",
      "source": [
        "test.head().T"
      ],
      "execution_count": 9,
      "outputs": [
        {
          "output_type": "execute_result",
          "data": {
            "text/html": [
              "<div>\n",
              "<style scoped>\n",
              "    .dataframe tbody tr th:only-of-type {\n",
              "        vertical-align: middle;\n",
              "    }\n",
              "\n",
              "    .dataframe tbody tr th {\n",
              "        vertical-align: top;\n",
              "    }\n",
              "\n",
              "    .dataframe thead th {\n",
              "        text-align: right;\n",
              "    }\n",
              "</style>\n",
              "<table border=\"1\" class=\"dataframe\">\n",
              "  <thead>\n",
              "    <tr style=\"text-align: right;\">\n",
              "      <th></th>\n",
              "      <th>0</th>\n",
              "      <th>1</th>\n",
              "      <th>2</th>\n",
              "      <th>3</th>\n",
              "      <th>4</th>\n",
              "    </tr>\n",
              "  </thead>\n",
              "  <tbody>\n",
              "    <tr>\n",
              "      <th>uniqueID</th>\n",
              "      <td>163740</td>\n",
              "      <td>206473</td>\n",
              "      <td>159672</td>\n",
              "      <td>39293</td>\n",
              "      <td>97768</td>\n",
              "    </tr>\n",
              "    <tr>\n",
              "      <th>drugName</th>\n",
              "      <td>Mirtazapine</td>\n",
              "      <td>Mesalamine</td>\n",
              "      <td>Bactrim</td>\n",
              "      <td>Contrave</td>\n",
              "      <td>Cyclafem 1 / 35</td>\n",
              "    </tr>\n",
              "    <tr>\n",
              "      <th>condition</th>\n",
              "      <td>Depression</td>\n",
              "      <td>Crohn's Disease, Maintenance</td>\n",
              "      <td>Urinary Tract Infection</td>\n",
              "      <td>Weight Loss</td>\n",
              "      <td>Birth Control</td>\n",
              "    </tr>\n",
              "    <tr>\n",
              "      <th>review</th>\n",
              "      <td>\"I&amp;#039;ve tried a few antidepressants over th...</td>\n",
              "      <td>\"My son has Crohn&amp;#039;s disease and has done ...</td>\n",
              "      <td>\"Quick reduction of symptoms\"</td>\n",
              "      <td>\"Contrave combines drugs that were used for al...</td>\n",
              "      <td>\"I have been on this birth control for one cyc...</td>\n",
              "    </tr>\n",
              "    <tr>\n",
              "      <th>rating</th>\n",
              "      <td>10</td>\n",
              "      <td>8</td>\n",
              "      <td>9</td>\n",
              "      <td>9</td>\n",
              "      <td>9</td>\n",
              "    </tr>\n",
              "    <tr>\n",
              "      <th>date</th>\n",
              "      <td>28-Feb-12</td>\n",
              "      <td>17-May-09</td>\n",
              "      <td>29-Sep-17</td>\n",
              "      <td>5-Mar-17</td>\n",
              "      <td>22-Oct-15</td>\n",
              "    </tr>\n",
              "    <tr>\n",
              "      <th>usefulCount</th>\n",
              "      <td>22</td>\n",
              "      <td>17</td>\n",
              "      <td>3</td>\n",
              "      <td>35</td>\n",
              "      <td>4</td>\n",
              "    </tr>\n",
              "  </tbody>\n",
              "</table>\n",
              "</div>"
            ],
            "text/plain": [
              "                                                             0  \\\n",
              "uniqueID                                                163740   \n",
              "drugName                                           Mirtazapine   \n",
              "condition                                           Depression   \n",
              "review       \"I&#039;ve tried a few antidepressants over th...   \n",
              "rating                                                      10   \n",
              "date                                                 28-Feb-12   \n",
              "usefulCount                                                 22   \n",
              "\n",
              "                                                             1  \\\n",
              "uniqueID                                                206473   \n",
              "drugName                                            Mesalamine   \n",
              "condition                         Crohn's Disease, Maintenance   \n",
              "review       \"My son has Crohn&#039;s disease and has done ...   \n",
              "rating                                                       8   \n",
              "date                                                 17-May-09   \n",
              "usefulCount                                                 17   \n",
              "\n",
              "                                         2  \\\n",
              "uniqueID                            159672   \n",
              "drugName                           Bactrim   \n",
              "condition          Urinary Tract Infection   \n",
              "review       \"Quick reduction of symptoms\"   \n",
              "rating                                   9   \n",
              "date                             29-Sep-17   \n",
              "usefulCount                              3   \n",
              "\n",
              "                                                             3  \\\n",
              "uniqueID                                                 39293   \n",
              "drugName                                              Contrave   \n",
              "condition                                          Weight Loss   \n",
              "review       \"Contrave combines drugs that were used for al...   \n",
              "rating                                                       9   \n",
              "date                                                  5-Mar-17   \n",
              "usefulCount                                                 35   \n",
              "\n",
              "                                                             4  \n",
              "uniqueID                                                 97768  \n",
              "drugName                                       Cyclafem 1 / 35  \n",
              "condition                                        Birth Control  \n",
              "review       \"I have been on this birth control for one cyc...  \n",
              "rating                                                       9  \n",
              "date                                                 22-Oct-15  \n",
              "usefulCount                                                  4  "
            ]
          },
          "metadata": {
            "tags": []
          },
          "execution_count": 9
        }
      ]
    },
    {
      "metadata": {
        "id": "WL-_SVjG_HHj",
        "colab_type": "code",
        "outputId": "c80a9642-ec39-4f53-97a3-e46de83f0f90",
        "colab": {
          "base_uri": "https://localhost:8080/",
          "height": 34
        }
      },
      "cell_type": "code",
      "source": [
        "train.shape"
      ],
      "execution_count": 10,
      "outputs": [
        {
          "output_type": "execute_result",
          "data": {
            "text/plain": [
              "(161297, 7)"
            ]
          },
          "metadata": {
            "tags": []
          },
          "execution_count": 10
        }
      ]
    },
    {
      "metadata": {
        "id": "2OWzByac3GXG",
        "colab_type": "text"
      },
      "cell_type": "markdown",
      "source": [
        "##Create Dataframe\n",
        "This provides the Label/Target and the associated text"
      ]
    },
    {
      "metadata": {
        "id": "A3zbA9rfCfRh",
        "colab_type": "code",
        "outputId": "8e226220-a43f-4117-a020-3d41a33af7b1",
        "colab": {
          "base_uri": "https://localhost:8080/",
          "height": 221
        }
      },
      "cell_type": "code",
      "source": [
        "# create a dataframe\n",
        "train_df = pd.DataFrame({'label':train.rating,\n",
        "                   'text':train.review})\n",
        "print(train_df.shape)\n",
        "train_df.head()"
      ],
      "execution_count": 11,
      "outputs": [
        {
          "output_type": "stream",
          "text": [
            "(161297, 2)\n"
          ],
          "name": "stdout"
        },
        {
          "output_type": "execute_result",
          "data": {
            "text/html": [
              "<div>\n",
              "<style scoped>\n",
              "    .dataframe tbody tr th:only-of-type {\n",
              "        vertical-align: middle;\n",
              "    }\n",
              "\n",
              "    .dataframe tbody tr th {\n",
              "        vertical-align: top;\n",
              "    }\n",
              "\n",
              "    .dataframe thead th {\n",
              "        text-align: right;\n",
              "    }\n",
              "</style>\n",
              "<table border=\"1\" class=\"dataframe\">\n",
              "  <thead>\n",
              "    <tr style=\"text-align: right;\">\n",
              "      <th></th>\n",
              "      <th>label</th>\n",
              "      <th>text</th>\n",
              "    </tr>\n",
              "  </thead>\n",
              "  <tbody>\n",
              "    <tr>\n",
              "      <th>0</th>\n",
              "      <td>9</td>\n",
              "      <td>\"It has no side effect, I take it in combinati...</td>\n",
              "    </tr>\n",
              "    <tr>\n",
              "      <th>1</th>\n",
              "      <td>8</td>\n",
              "      <td>\"My son is halfway through his fourth week of ...</td>\n",
              "    </tr>\n",
              "    <tr>\n",
              "      <th>2</th>\n",
              "      <td>5</td>\n",
              "      <td>\"I used to take another oral contraceptive, wh...</td>\n",
              "    </tr>\n",
              "    <tr>\n",
              "      <th>3</th>\n",
              "      <td>8</td>\n",
              "      <td>\"This is my first time using any form of birth...</td>\n",
              "    </tr>\n",
              "    <tr>\n",
              "      <th>4</th>\n",
              "      <td>9</td>\n",
              "      <td>\"Suboxone has completely turned my life around...</td>\n",
              "    </tr>\n",
              "  </tbody>\n",
              "</table>\n",
              "</div>"
            ],
            "text/plain": [
              "   label                                               text\n",
              "0      9  \"It has no side effect, I take it in combinati...\n",
              "1      8  \"My son is halfway through his fourth week of ...\n",
              "2      5  \"I used to take another oral contraceptive, wh...\n",
              "3      8  \"This is my first time using any form of birth...\n",
              "4      9  \"Suboxone has completely turned my life around..."
            ]
          },
          "metadata": {
            "tags": []
          },
          "execution_count": 11
        }
      ]
    },
    {
      "metadata": {
        "id": "JGUslhDcPgbG",
        "colab_type": "code",
        "colab": {
          "base_uri": "https://localhost:8080/",
          "height": 221
        },
        "outputId": "26cb45b7-ab38-439a-8452-11d0930c3450"
      },
      "cell_type": "code",
      "source": [
        "test_df = pd.DataFrame({'label':test.rating,\n",
        "                   'text':test.review})\n",
        "print(test_df.shape)\n",
        "test_df.head()"
      ],
      "execution_count": 12,
      "outputs": [
        {
          "output_type": "stream",
          "text": [
            "(53766, 2)\n"
          ],
          "name": "stdout"
        },
        {
          "output_type": "execute_result",
          "data": {
            "text/html": [
              "<div>\n",
              "<style scoped>\n",
              "    .dataframe tbody tr th:only-of-type {\n",
              "        vertical-align: middle;\n",
              "    }\n",
              "\n",
              "    .dataframe tbody tr th {\n",
              "        vertical-align: top;\n",
              "    }\n",
              "\n",
              "    .dataframe thead th {\n",
              "        text-align: right;\n",
              "    }\n",
              "</style>\n",
              "<table border=\"1\" class=\"dataframe\">\n",
              "  <thead>\n",
              "    <tr style=\"text-align: right;\">\n",
              "      <th></th>\n",
              "      <th>label</th>\n",
              "      <th>text</th>\n",
              "    </tr>\n",
              "  </thead>\n",
              "  <tbody>\n",
              "    <tr>\n",
              "      <th>0</th>\n",
              "      <td>10</td>\n",
              "      <td>\"I&amp;#039;ve tried a few antidepressants over th...</td>\n",
              "    </tr>\n",
              "    <tr>\n",
              "      <th>1</th>\n",
              "      <td>8</td>\n",
              "      <td>\"My son has Crohn&amp;#039;s disease and has done ...</td>\n",
              "    </tr>\n",
              "    <tr>\n",
              "      <th>2</th>\n",
              "      <td>9</td>\n",
              "      <td>\"Quick reduction of symptoms\"</td>\n",
              "    </tr>\n",
              "    <tr>\n",
              "      <th>3</th>\n",
              "      <td>9</td>\n",
              "      <td>\"Contrave combines drugs that were used for al...</td>\n",
              "    </tr>\n",
              "    <tr>\n",
              "      <th>4</th>\n",
              "      <td>9</td>\n",
              "      <td>\"I have been on this birth control for one cyc...</td>\n",
              "    </tr>\n",
              "  </tbody>\n",
              "</table>\n",
              "</div>"
            ],
            "text/plain": [
              "   label                                               text\n",
              "0     10  \"I&#039;ve tried a few antidepressants over th...\n",
              "1      8  \"My son has Crohn&#039;s disease and has done ...\n",
              "2      9                      \"Quick reduction of symptoms\"\n",
              "3      9  \"Contrave combines drugs that were used for al...\n",
              "4      9  \"I have been on this birth control for one cyc..."
            ]
          },
          "metadata": {
            "tags": []
          },
          "execution_count": 12
        }
      ]
    },
    {
      "metadata": {
        "id": "0ExJWMkeQGfH",
        "colab_type": "code",
        "colab": {}
      },
      "cell_type": "code",
      "source": [
        "df= train_df.append(test_df, ignore_index=True)\n"
      ],
      "execution_count": 0,
      "outputs": []
    },
    {
      "metadata": {
        "id": "lifPA3p6C853",
        "colab_type": "code",
        "outputId": "31030bb8-5bee-47d6-be29-259eff5af6cb",
        "colab": {
          "base_uri": "https://localhost:8080/",
          "height": 34
        }
      },
      "cell_type": "code",
      "source": [
        "df.shape"
      ],
      "execution_count": 14,
      "outputs": [
        {
          "output_type": "execute_result",
          "data": {
            "text/plain": [
              "(215063, 2)"
            ]
          },
          "metadata": {
            "tags": []
          },
          "execution_count": 14
        }
      ]
    },
    {
      "metadata": {
        "id": "1P5OelaiCmna",
        "colab_type": "code",
        "outputId": "eb07e9c0-5e7c-41fc-aa44-2d5da55ccb63",
        "colab": {
          "base_uri": "https://localhost:8080/",
          "height": 204
        }
      },
      "cell_type": "code",
      "source": [
        "#df[df['label'].isin([1,10])]\n",
        "df = df.reset_index(drop = True)\n",
        "df.head()"
      ],
      "execution_count": 15,
      "outputs": [
        {
          "output_type": "execute_result",
          "data": {
            "text/html": [
              "<div>\n",
              "<style scoped>\n",
              "    .dataframe tbody tr th:only-of-type {\n",
              "        vertical-align: middle;\n",
              "    }\n",
              "\n",
              "    .dataframe tbody tr th {\n",
              "        vertical-align: top;\n",
              "    }\n",
              "\n",
              "    .dataframe thead th {\n",
              "        text-align: right;\n",
              "    }\n",
              "</style>\n",
              "<table border=\"1\" class=\"dataframe\">\n",
              "  <thead>\n",
              "    <tr style=\"text-align: right;\">\n",
              "      <th></th>\n",
              "      <th>label</th>\n",
              "      <th>text</th>\n",
              "    </tr>\n",
              "  </thead>\n",
              "  <tbody>\n",
              "    <tr>\n",
              "      <th>0</th>\n",
              "      <td>9</td>\n",
              "      <td>\"It has no side effect, I take it in combinati...</td>\n",
              "    </tr>\n",
              "    <tr>\n",
              "      <th>1</th>\n",
              "      <td>8</td>\n",
              "      <td>\"My son is halfway through his fourth week of ...</td>\n",
              "    </tr>\n",
              "    <tr>\n",
              "      <th>2</th>\n",
              "      <td>5</td>\n",
              "      <td>\"I used to take another oral contraceptive, wh...</td>\n",
              "    </tr>\n",
              "    <tr>\n",
              "      <th>3</th>\n",
              "      <td>8</td>\n",
              "      <td>\"This is my first time using any form of birth...</td>\n",
              "    </tr>\n",
              "    <tr>\n",
              "      <th>4</th>\n",
              "      <td>9</td>\n",
              "      <td>\"Suboxone has completely turned my life around...</td>\n",
              "    </tr>\n",
              "  </tbody>\n",
              "</table>\n",
              "</div>"
            ],
            "text/plain": [
              "   label                                               text\n",
              "0      9  \"It has no side effect, I take it in combinati...\n",
              "1      8  \"My son is halfway through his fourth week of ...\n",
              "2      5  \"I used to take another oral contraceptive, wh...\n",
              "3      8  \"This is my first time using any form of birth...\n",
              "4      9  \"Suboxone has completely turned my life around..."
            ]
          },
          "metadata": {
            "tags": []
          },
          "execution_count": 15
        }
      ]
    },
    {
      "metadata": {
        "id": "6zbrKEr7C419",
        "colab_type": "code",
        "outputId": "04968e96-2b6a-4e4f-be4d-5c40ea76da27",
        "colab": {
          "base_uri": "https://localhost:8080/",
          "height": 204
        }
      },
      "cell_type": "code",
      "source": [
        "df['label'].value_counts()"
      ],
      "execution_count": 16,
      "outputs": [
        {
          "output_type": "execute_result",
          "data": {
            "text/plain": [
              "10    68005\n",
              "9     36708\n",
              "1     28918\n",
              "8     25046\n",
              "7     12547\n",
              "5     10723\n",
              "2      9265\n",
              "3      8718\n",
              "6      8462\n",
              "4      6671\n",
              "Name: label, dtype: int64"
            ]
          },
          "metadata": {
            "tags": []
          },
          "execution_count": 16
        }
      ]
    },
    {
      "metadata": {
        "id": "_SXRszhllc-E",
        "colab_type": "text"
      },
      "cell_type": "markdown",
      "source": [
        "## Preprocessing\n",
        "\n",
        "Tokenization\n",
        "\n",
        "Remove StopWords"
      ]
    },
    {
      "metadata": {
        "id": "THgv8hHrC8wD",
        "colab_type": "code",
        "colab": {}
      },
      "cell_type": "code",
      "source": [
        "df['text'] = df['text'].str.replace(\"[^a-zA-Z]\", \" \")"
      ],
      "execution_count": 0,
      "outputs": []
    },
    {
      "metadata": {
        "id": "Uxc4Yd76Dw73",
        "colab_type": "code",
        "outputId": "bddf75a4-8257-4cc6-c0a9-038a0173cff3",
        "colab": {
          "base_uri": "https://localhost:8080/",
          "height": 68
        }
      },
      "cell_type": "code",
      "source": [
        "import nltk\n",
        "nltk.download('stopwords')"
      ],
      "execution_count": 18,
      "outputs": [
        {
          "output_type": "stream",
          "text": [
            "[nltk_data] Downloading package stopwords to /root/nltk_data...\n",
            "[nltk_data]   Package stopwords is already up-to-date!\n"
          ],
          "name": "stdout"
        },
        {
          "output_type": "execute_result",
          "data": {
            "text/plain": [
              "True"
            ]
          },
          "metadata": {
            "tags": []
          },
          "execution_count": 18
        }
      ]
    },
    {
      "metadata": {
        "id": "IqG4He_qD1HW",
        "colab_type": "code",
        "colab": {}
      },
      "cell_type": "code",
      "source": [
        "from nltk.corpus import stopwords \n",
        "stop_words = stopwords.words('english') "
      ],
      "execution_count": 0,
      "outputs": []
    },
    {
      "metadata": {
        "id": "UmZQe0z9D31M",
        "colab_type": "code",
        "colab": {}
      },
      "cell_type": "code",
      "source": [
        "# tokenization \n",
        "tokenized_doc = df['text'].apply(lambda x: x.split())\n",
        "\n",
        "# remove stop-words \n",
        "tokenized_doc = tokenized_doc.apply(lambda x: [item for item in x if item not in stop_words]) \n",
        "\n",
        "# de-tokenization \n",
        "detokenized_doc = [] \n",
        "for i in range(len(df)): \n",
        "    t = ' '.join(tokenized_doc[i]) \n",
        "    detokenized_doc.append(t) \n",
        "df['text'] = detokenized_doc"
      ],
      "execution_count": 0,
      "outputs": []
    },
    {
      "metadata": {
        "id": "MK_i0X2kD6AC",
        "colab_type": "code",
        "colab": {}
      },
      "cell_type": "code",
      "source": [
        "from sklearn.model_selection import train_test_split\n",
        "\n",
        "# split data into training and validation set\n",
        "df_trn, df_val = train_test_split(df, stratify = df['label'], test_size = 0.3, random_state = 12)"
      ],
      "execution_count": 0,
      "outputs": []
    },
    {
      "metadata": {
        "id": "IYEFCrJOEHSG",
        "colab_type": "code",
        "outputId": "c76160a0-9204-429d-b96c-a47f56ed7d79",
        "colab": {
          "base_uri": "https://localhost:8080/",
          "height": 34
        }
      },
      "cell_type": "code",
      "source": [
        "df_trn.shape, df_val.shape"
      ],
      "execution_count": 22,
      "outputs": [
        {
          "output_type": "execute_result",
          "data": {
            "text/plain": [
              "((150544, 2), (64519, 2))"
            ]
          },
          "metadata": {
            "tags": []
          },
          "execution_count": 22
        }
      ]
    },
    {
      "metadata": {
        "id": "xvvFWWM4ljoH",
        "colab_type": "text"
      },
      "cell_type": "markdown",
      "source": [
        "## Data Preparation\n",
        "\n",
        "### Language model data\n",
        "for learning the Language semantics\n",
        "\n",
        "### Classifier model data\n",
        "for learning the classification Task on text data\n",
        "\n",
        "**text.learner contains helper functions to quickly create a language model or an RNN classifier**\n"
      ]
    },
    {
      "metadata": {
        "id": "7tNP_aMTEOKe",
        "colab_type": "code",
        "colab": {}
      },
      "cell_type": "code",
      "source": [
        "# Language model data\n",
        "data_lm = TextLMDataBunch.from_df(train_df = df_trn, valid_df = df_val, path = \"\")"
      ],
      "execution_count": 0,
      "outputs": []
    },
    {
      "metadata": {
        "id": "zyThOv56Ihyd",
        "colab_type": "code",
        "colab": {}
      },
      "cell_type": "code",
      "source": [
        "# Classifier model data\n",
        "data_clas = TextClasDataBunch.from_df(path = \"\", train_df = df_trn, valid_df = df_val, vocab=data_lm.train_ds.vocab, bs=32)"
      ],
      "execution_count": 0,
      "outputs": []
    },
    {
      "metadata": {
        "id": "LoQ60UxB49E-",
        "colab_type": "text"
      },
      "cell_type": "markdown",
      "source": [
        "This does all the necessary preprocessing behing the scene. For the classifier, we also pass the vocabulary (mapping from ids to words) that we want to use: this is to ensure that data_clas will use the same dictionary as data_lm.\n",
        "\n"
      ]
    },
    {
      "metadata": {
        "id": "8Ua8pmHEEP5N",
        "colab_type": "code",
        "colab": {}
      },
      "cell_type": "code",
      "source": [
        "#Fine-tuning a language model\n",
        "#We can use the data_lm object we created earlier to fine-tune a pretrained language model.\n",
        "#fast.ai has an English model available that we can download. \n",
        "#We can create a learner object that will directly create a model, \n",
        "#download the pretrained weights and be ready for fine-tuning.\n",
        "learn = language_model_learner(data_lm, pretrained_model=URLs.WT103, drop_mult=0.7)"
      ],
      "execution_count": 0,
      "outputs": []
    },
    {
      "metadata": {
        "id": "YE3likAPETlz",
        "colab_type": "code",
        "outputId": "f13adaf7-021c-4419-9846-559a0d6d850a",
        "colab": {
          "base_uri": "https://localhost:8080/",
          "height": 90
        }
      },
      "cell_type": "code",
      "source": [
        "# train the learner object\n",
        "learn.fit_one_cycle(1, 1e-2)"
      ],
      "execution_count": 0,
      "outputs": [
        {
          "output_type": "display_data",
          "data": {
            "text/html": [
              "\n",
              "    <div>\n",
              "        <style>\n",
              "            /* Turns off some styling */\n",
              "            progress {\n",
              "                /* gets rid of default border in Firefox and Opera. */\n",
              "                border: none;\n",
              "                /* Needs to be in here for Safari polyfill so background images work as expected. */\n",
              "                background-size: auto;\n",
              "            }\n",
              "            .progress-bar-interrupted, .progress-bar-interrupted::-webkit-progress-bar {\n",
              "                background: #F44336;\n",
              "            }\n",
              "        </style>\n",
              "      <progress value='0' class='' max='1', style='width:300px; height:20px; vertical-align: middle;'></progress>\n",
              "      0.00% [0/1 00:00<00:00]\n",
              "    </div>\n",
              "    \n",
              "<table style='width:300px; margin-bottom:10px'>\n",
              "  <tr>\n",
              "    <th>epoch</th>\n",
              "    <th>train_loss</th>\n",
              "    <th>valid_loss</th>\n",
              "    <th>accuracy</th>\n",
              "  </tr>\n",
              "</table>\n",
              "\n",
              "\n",
              "    <div>\n",
              "        <style>\n",
              "            /* Turns off some styling */\n",
              "            progress {\n",
              "                /* gets rid of default border in Firefox and Opera. */\n",
              "                border: none;\n",
              "                /* Needs to be in here for Safari polyfill so background images work as expected. */\n",
              "                background-size: auto;\n",
              "            }\n",
              "            .progress-bar-interrupted, .progress-bar-interrupted::-webkit-progress-bar {\n",
              "                background: #F44336;\n",
              "            }\n",
              "        </style>\n",
              "      <progress value='712' class='' max='789', style='width:300px; height:20px; vertical-align: middle;'></progress>\n",
              "      90.24% [712/789 02:05<00:13]\n",
              "    </div>\n",
              "    "
            ],
            "text/plain": [
              "<IPython.core.display.HTML object>"
            ]
          },
          "metadata": {
            "tags": []
          }
        }
      ]
    },
    {
      "metadata": {
        "id": "w3eJMLWDKb9u",
        "colab_type": "code",
        "colab": {}
      },
      "cell_type": "code",
      "source": [
        "learn.lr_find()"
      ],
      "execution_count": 0,
      "outputs": []
    },
    {
      "metadata": {
        "id": "81fA6MpQKpJw",
        "colab_type": "code",
        "colab": {}
      },
      "cell_type": "code",
      "source": [
        "learn.recorder.plot()"
      ],
      "execution_count": 0,
      "outputs": []
    },
    {
      "metadata": {
        "id": "x7fO0cuVET8W",
        "colab_type": "code",
        "colab": {}
      },
      "cell_type": "code",
      "source": [
        "learn.save_encoder('ft_enc')\n",
        "#Finally we save the encoder to be able to use it for classification in the next section."
      ],
      "execution_count": 0,
      "outputs": []
    },
    {
      "metadata": {
        "id": "RTEY6pBu6Koh",
        "colab_type": "text"
      },
      "cell_type": "markdown",
      "source": [
        "##Building a classifier\n",
        "We now use the data_clas object we created earlier to build a classifier with our fine-tuned encoder. The learner object can be done in a single line.\n",
        "\n"
      ]
    },
    {
      "metadata": {
        "id": "uSkXI7HJET_r",
        "colab_type": "code",
        "colab": {}
      },
      "cell_type": "code",
      "source": [
        "learn = text_classifier_learner(data_clas, drop_mult=0.7)\n",
        "learn.load_encoder('ft_enc')"
      ],
      "execution_count": 0,
      "outputs": []
    },
    {
      "metadata": {
        "id": "1VaunwDAMmLV",
        "colab_type": "code",
        "colab": {}
      },
      "cell_type": "code",
      "source": [
        "learn.lr_find()\n",
        "learn.recorder.plot()"
      ],
      "execution_count": 0,
      "outputs": []
    },
    {
      "metadata": {
        "id": "s7GTTw1GMl2F",
        "colab_type": "code",
        "colab": {}
      },
      "cell_type": "code",
      "source": [
        "learn.fit_one_cycle(1, 1e-2)"
      ],
      "execution_count": 0,
      "outputs": []
    }
  ]
}