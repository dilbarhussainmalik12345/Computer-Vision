{
  "nbformat": 4,
  "nbformat_minor": 0,
  "metadata": {
    "colab": {
      "name": "akaike_sample.ipynb",
      "version": "0.3.2",
      "provenance": [],
      "collapsed_sections": [],
      "toc_visible": true,
      "include_colab_link": true
    },
    "kernelspec": {
      "name": "python3",
      "display_name": "Python 3"
    },
    "accelerator": "GPU"
  },
  "cells": [
    {
      "cell_type": "markdown",
      "metadata": {
        "id": "view-in-github",
        "colab_type": "text"
      },
      "source": [
        "<a href=\"https://colab.research.google.com/github/navneetkrc/Colab_fastai/blob/master/akaike_sample.ipynb\" target=\"_parent\"><img src=\"https://colab.research.google.com/assets/colab-badge.svg\" alt=\"Open In Colab\"/></a>"
      ]
    },
    {
      "metadata": {
        "id": "rsMgf8LLsoOq",
        "colab_type": "text"
      },
      "cell_type": "markdown",
      "source": [
        "##Install Dependencies\n",
        "Let's install PyTorch and fastai libraries first. You have to repeat this step every time you restart this notebook in colab."
      ]
    },
    {
      "metadata": {
        "id": "9L-mYNWDBB4g",
        "colab_type": "code",
        "colab": {
          "base_uri": "https://localhost:8080/",
          "height": 836
        },
        "outputId": "c98fbc57-c9db-4907-d485-bd28d9e4b240"
      },
      "cell_type": "code",
      "source": [
        "!pip install torch_nightly -f https://download.pytorch.org/whl/nightly/cu92/torch_nightly.html\n",
        "!pip install fastai"
      ],
      "execution_count": 25,
      "outputs": [
        {
          "output_type": "stream",
          "text": [
            "Looking in links: https://download.pytorch.org/whl/nightly/cu92/torch_nightly.html\n",
            "Requirement already satisfied: torch_nightly in /usr/local/lib/python3.6/dist-packages (1.0.0.dev20181206)\n",
            "Requirement already satisfied: fastai in /usr/local/lib/python3.6/dist-packages (1.0.42)\n",
            "Requirement already satisfied: pandas in /usr/local/lib/python3.6/dist-packages (from fastai) (0.22.0)\n",
            "Requirement already satisfied: pyyaml in /usr/local/lib/python3.6/dist-packages (from fastai) (3.13)\n",
            "Requirement already satisfied: torch>=1.0.0 in /usr/local/lib/python3.6/dist-packages (from fastai) (1.0.0)\n",
            "Requirement already satisfied: fastprogress>=0.1.18 in /usr/local/lib/python3.6/dist-packages (from fastai) (0.1.18)\n",
            "Requirement already satisfied: numpy>=1.12 in /usr/local/lib/python3.6/dist-packages (from fastai) (1.14.6)\n",
            "Requirement already satisfied: packaging in /usr/local/lib/python3.6/dist-packages (from fastai) (19.0)\n",
            "Requirement already satisfied: Pillow in /usr/local/lib/python3.6/dist-packages (from fastai) (4.0.0)\n",
            "Requirement already satisfied: spacy>=2.0.18 in /usr/local/lib/python3.6/dist-packages (from fastai) (2.0.18)\n",
            "Requirement already satisfied: beautifulsoup4 in /usr/local/lib/python3.6/dist-packages (from fastai) (4.6.3)\n",
            "Requirement already satisfied: nvidia-ml-py3 in /usr/local/lib/python3.6/dist-packages (from fastai) (7.352.0)\n",
            "Requirement already satisfied: torchvision in /usr/local/lib/python3.6/dist-packages (from fastai) (0.2.1)\n",
            "Requirement already satisfied: typing in /usr/local/lib/python3.6/dist-packages (from fastai) (3.6.6)\n",
            "Requirement already satisfied: numexpr in /usr/local/lib/python3.6/dist-packages (from fastai) (2.6.9)\n",
            "Requirement already satisfied: dataclasses; python_version < \"3.7\" in /usr/local/lib/python3.6/dist-packages (from fastai) (0.6)\n",
            "Requirement already satisfied: requests in /usr/local/lib/python3.6/dist-packages (from fastai) (2.18.4)\n",
            "Requirement already satisfied: bottleneck in /usr/local/lib/python3.6/dist-packages (from fastai) (1.2.1)\n",
            "Requirement already satisfied: matplotlib in /usr/local/lib/python3.6/dist-packages (from fastai) (3.0.2)\n",
            "Requirement already satisfied: scipy in /usr/local/lib/python3.6/dist-packages (from fastai) (1.1.0)\n",
            "Requirement already satisfied: python-dateutil>=2 in /usr/local/lib/python3.6/dist-packages (from pandas->fastai) (2.5.3)\n",
            "Requirement already satisfied: pytz>=2011k in /usr/local/lib/python3.6/dist-packages (from pandas->fastai) (2018.9)\n",
            "Requirement already satisfied: pyparsing>=2.0.2 in /usr/local/lib/python3.6/dist-packages (from packaging->fastai) (2.3.1)\n",
            "Requirement already satisfied: six in /usr/local/lib/python3.6/dist-packages (from packaging->fastai) (1.11.0)\n",
            "Requirement already satisfied: olefile in /usr/local/lib/python3.6/dist-packages (from Pillow->fastai) (0.46)\n",
            "Requirement already satisfied: murmurhash<1.1.0,>=0.28.0 in /usr/local/lib/python3.6/dist-packages (from spacy>=2.0.18->fastai) (1.0.1)\n",
            "Requirement already satisfied: ujson>=1.35 in /usr/local/lib/python3.6/dist-packages (from spacy>=2.0.18->fastai) (1.35)\n",
            "Requirement already satisfied: preshed<2.1.0,>=2.0.1 in /usr/local/lib/python3.6/dist-packages (from spacy>=2.0.18->fastai) (2.0.1)\n",
            "Requirement already satisfied: cymem<2.1.0,>=2.0.2 in /usr/local/lib/python3.6/dist-packages (from spacy>=2.0.18->fastai) (2.0.2)\n",
            "Requirement already satisfied: dill<0.3,>=0.2 in /usr/local/lib/python3.6/dist-packages (from spacy>=2.0.18->fastai) (0.2.9)\n",
            "Requirement already satisfied: plac<1.0.0,>=0.9.6 in /usr/local/lib/python3.6/dist-packages (from spacy>=2.0.18->fastai) (0.9.6)\n",
            "Requirement already satisfied: thinc<6.13.0,>=6.12.1 in /usr/local/lib/python3.6/dist-packages (from spacy>=2.0.18->fastai) (6.12.1)\n",
            "Requirement already satisfied: regex==2018.01.10 in /usr/local/lib/python3.6/dist-packages (from spacy>=2.0.18->fastai) (2018.1.10)\n",
            "Requirement already satisfied: urllib3<1.23,>=1.21.1 in /usr/local/lib/python3.6/dist-packages (from requests->fastai) (1.22)\n",
            "Requirement already satisfied: chardet<3.1.0,>=3.0.2 in /usr/local/lib/python3.6/dist-packages (from requests->fastai) (3.0.4)\n",
            "Requirement already satisfied: idna<2.7,>=2.5 in /usr/local/lib/python3.6/dist-packages (from requests->fastai) (2.6)\n",
            "Requirement already satisfied: certifi>=2017.4.17 in /usr/local/lib/python3.6/dist-packages (from requests->fastai) (2018.11.29)\n",
            "Requirement already satisfied: kiwisolver>=1.0.1 in /usr/local/lib/python3.6/dist-packages (from matplotlib->fastai) (1.0.1)\n",
            "Requirement already satisfied: cycler>=0.10 in /usr/local/lib/python3.6/dist-packages (from matplotlib->fastai) (0.10.0)\n",
            "Requirement already satisfied: msgpack-numpy<0.4.4 in /usr/local/lib/python3.6/dist-packages (from thinc<6.13.0,>=6.12.1->spacy>=2.0.18->fastai) (0.4.3.2)\n",
            "Requirement already satisfied: tqdm<5.0.0,>=4.10.0 in /usr/local/lib/python3.6/dist-packages (from thinc<6.13.0,>=6.12.1->spacy>=2.0.18->fastai) (4.28.1)\n",
            "Requirement already satisfied: cytoolz<0.10,>=0.9.0 in /usr/local/lib/python3.6/dist-packages (from thinc<6.13.0,>=6.12.1->spacy>=2.0.18->fastai) (0.9.0.1)\n",
            "Requirement already satisfied: msgpack<0.6.0,>=0.5.6 in /usr/local/lib/python3.6/dist-packages (from thinc<6.13.0,>=6.12.1->spacy>=2.0.18->fastai) (0.5.6)\n",
            "Requirement already satisfied: wrapt<1.11.0,>=1.10.0 in /usr/local/lib/python3.6/dist-packages (from thinc<6.13.0,>=6.12.1->spacy>=2.0.18->fastai) (1.10.11)\n",
            "Requirement already satisfied: setuptools in /usr/local/lib/python3.6/dist-packages (from kiwisolver>=1.0.1->matplotlib->fastai) (40.7.0)\n",
            "Requirement already satisfied: toolz>=0.8.0 in /usr/local/lib/python3.6/dist-packages (from cytoolz<0.10,>=0.9.0->thinc<6.13.0,>=6.12.1->spacy>=2.0.18->fastai) (0.9.0)\n"
          ],
          "name": "stdout"
        }
      ]
    },
    {
      "metadata": {
        "id": "MaOjAtpN89LB",
        "colab_type": "code",
        "outputId": "1638901a-920b-4ba4-dfae-29f7be791cef",
        "colab": {
          "base_uri": "https://localhost:8080/",
          "height": 51
        }
      },
      "cell_type": "code",
      "source": [
        "import torch\n",
        "print(torch.__version__)\n",
        "import fastai\n",
        "print(fastai.__version__) #1.0.42\n"
      ],
      "execution_count": 26,
      "outputs": [
        {
          "output_type": "stream",
          "text": [
            "1.0.0.dev20181206\n",
            "1.0.42\n"
          ],
          "name": "stdout"
        }
      ]
    },
    {
      "metadata": {
        "id": "SA87AbrrBigr",
        "colab_type": "code",
        "colab": {}
      },
      "cell_type": "code",
      "source": [
        "# import libraries\n",
        "import fastai\n",
        "from fastai import *\n",
        "from fastai.text import * \n",
        "import pandas as pd\n",
        "import numpy as np\n",
        "from functools import partial\n",
        "import io\n",
        "import os"
      ],
      "execution_count": 0,
      "outputs": []
    },
    {
      "metadata": {
        "id": "1rM5TMVW3AQ-",
        "colab_type": "text"
      },
      "cell_type": "markdown",
      "source": [
        "## Import Dataset"
      ]
    },
    {
      "metadata": {
        "id": "R8tFKSlW9CnP",
        "colab_type": "text"
      },
      "cell_type": "markdown",
      "source": [
        "###import data directly\n"
      ]
    },
    {
      "metadata": {
        "id": "oKS-s7_19G0D",
        "colab_type": "code",
        "colab": {}
      },
      "cell_type": "code",
      "source": [
        "train = pd.read_csv('train_data.csv')\n",
        "test = pd.read_csv('test_data.csv')"
      ],
      "execution_count": 0,
      "outputs": []
    },
    {
      "metadata": {
        "id": "r9SHCfiABlcF",
        "colab_type": "code",
        "outputId": "a9bd7ee9-fa48-45e8-c98f-5888c75f4d96",
        "colab": {
          "base_uri": "https://localhost:8080/",
          "height": 204
        }
      },
      "cell_type": "code",
      "source": [
        "train.head()"
      ],
      "execution_count": 29,
      "outputs": [
        {
          "output_type": "execute_result",
          "data": {
            "text/html": [
              "<div>\n",
              "<style scoped>\n",
              "    .dataframe tbody tr th:only-of-type {\n",
              "        vertical-align: middle;\n",
              "    }\n",
              "\n",
              "    .dataframe tbody tr th {\n",
              "        vertical-align: top;\n",
              "    }\n",
              "\n",
              "    .dataframe thead th {\n",
              "        text-align: right;\n",
              "    }\n",
              "</style>\n",
              "<table border=\"1\" class=\"dataframe\">\n",
              "  <thead>\n",
              "    <tr style=\"text-align: right;\">\n",
              "      <th></th>\n",
              "      <th>text</th>\n",
              "      <th>id</th>\n",
              "    </tr>\n",
              "  </thead>\n",
              "  <tbody>\n",
              "    <tr>\n",
              "      <th>0</th>\n",
              "      <td>Keep your gloves, hats, coats and jackets toge...</td>\n",
              "      <td>122885</td>\n",
              "    </tr>\n",
              "    <tr>\n",
              "      <th>1</th>\n",
              "      <td>The Home Dynamix Serendipity Ivory 5 ft. 2 in....</td>\n",
              "      <td>188958</td>\n",
              "    </tr>\n",
              "    <tr>\n",
              "      <th>2</th>\n",
              "      <td>The Bosch 18-Volt lithium-ion line of Cordless...</td>\n",
              "      <td>146065</td>\n",
              "    </tr>\n",
              "    <tr>\n",
              "      <th>3</th>\n",
              "      <td>Restore your Porter-Cable sander or polisher t...</td>\n",
              "      <td>165138</td>\n",
              "    </tr>\n",
              "    <tr>\n",
              "      <th>4</th>\n",
              "      <td>The SPIKECUBE Surge Suppressor from Tripp Lite...</td>\n",
              "      <td>185565</td>\n",
              "    </tr>\n",
              "  </tbody>\n",
              "</table>\n",
              "</div>"
            ],
            "text/plain": [
              "                                                text      id\n",
              "0  Keep your gloves, hats, coats and jackets toge...  122885\n",
              "1  The Home Dynamix Serendipity Ivory 5 ft. 2 in....  188958\n",
              "2  The Bosch 18-Volt lithium-ion line of Cordless...  146065\n",
              "3  Restore your Porter-Cable sander or polisher t...  165138\n",
              "4  The SPIKECUBE Surge Suppressor from Tripp Lite...  185565"
            ]
          },
          "metadata": {
            "tags": []
          },
          "execution_count": 29
        }
      ]
    },
    {
      "metadata": {
        "id": "Xvs8MygLEKri",
        "colab_type": "code",
        "outputId": "6a9e5ca5-ccf6-43b3-ce6f-f84d4bad81e4",
        "colab": {
          "base_uri": "https://localhost:8080/",
          "height": 204
        }
      },
      "cell_type": "code",
      "source": [
        "test.head()"
      ],
      "execution_count": 30,
      "outputs": [
        {
          "output_type": "execute_result",
          "data": {
            "text/html": [
              "<div>\n",
              "<style scoped>\n",
              "    .dataframe tbody tr th:only-of-type {\n",
              "        vertical-align: middle;\n",
              "    }\n",
              "\n",
              "    .dataframe tbody tr th {\n",
              "        vertical-align: top;\n",
              "    }\n",
              "\n",
              "    .dataframe thead th {\n",
              "        text-align: right;\n",
              "    }\n",
              "</style>\n",
              "<table border=\"1\" class=\"dataframe\">\n",
              "  <thead>\n",
              "    <tr style=\"text-align: right;\">\n",
              "      <th></th>\n",
              "      <th>text</th>\n",
              "      <th>id</th>\n",
              "    </tr>\n",
              "  </thead>\n",
              "  <tbody>\n",
              "    <tr>\n",
              "      <th>0</th>\n",
              "      <td>These machine screw nuts are designed to be us...</td>\n",
              "      <td>114689</td>\n",
              "    </tr>\n",
              "    <tr>\n",
              "      <th>1</th>\n",
              "      <td>The M18 FUEL Drill/Driver is the Most Powerful...</td>\n",
              "      <td>183172</td>\n",
              "    </tr>\n",
              "    <tr>\n",
              "      <th>2</th>\n",
              "      <td>Steel City 2-Gang 30 cu. in. Square Electrical...</td>\n",
              "      <td>217304</td>\n",
              "    </tr>\n",
              "    <tr>\n",
              "      <th>3</th>\n",
              "      <td>Native Collection Plus has Shaw's SilentStep P...</td>\n",
              "      <td>184115</td>\n",
              "    </tr>\n",
              "    <tr>\n",
              "      <th>4</th>\n",
              "      <td>Fasade decorative 4 ft. x 8 ft. vinyl wall pan...</td>\n",
              "      <td>103786</td>\n",
              "    </tr>\n",
              "  </tbody>\n",
              "</table>\n",
              "</div>"
            ],
            "text/plain": [
              "                                                text      id\n",
              "0  These machine screw nuts are designed to be us...  114689\n",
              "1  The M18 FUEL Drill/Driver is the Most Powerful...  183172\n",
              "2  Steel City 2-Gang 30 cu. in. Square Electrical...  217304\n",
              "3  Native Collection Plus has Shaw's SilentStep P...  184115\n",
              "4  Fasade decorative 4 ft. x 8 ft. vinyl wall pan...  103786"
            ]
          },
          "metadata": {
            "tags": []
          },
          "execution_count": 30
        }
      ]
    },
    {
      "metadata": {
        "id": "WL-_SVjG_HHj",
        "colab_type": "code",
        "outputId": "801fc403-e64c-4d49-88cf-eb6150c6000b",
        "colab": {
          "base_uri": "https://localhost:8080/",
          "height": 34
        }
      },
      "cell_type": "code",
      "source": [
        "train.shape"
      ],
      "execution_count": 31,
      "outputs": [
        {
          "output_type": "execute_result",
          "data": {
            "text/plain": [
              "(41569, 2)"
            ]
          },
          "metadata": {
            "tags": []
          },
          "execution_count": 31
        }
      ]
    },
    {
      "metadata": {
        "id": "YEcH6T2EXSgy",
        "colab_type": "text"
      },
      "cell_type": "markdown",
      "source": [
        "## from_df       [source](https://github.com/fastai/fastai/blob/master/fastai/text/data.py#L157)\n",
        "from_df(path:PathOrStr, train_df:DataFrame, valid_df:DataFrame, test_df:OptDataFrame=None, tokenizer:Tokenizer=None, vocab:Vocab=None, classes:StrList=None, text_cols:Union[int, Collection[int], str, StrList]=1, label_cols:Union[int, Collection[int], str, StrList]=0, label_delim:str=None, kwargs) → DataBunch\n",
        "\n",
        "Create a [TextDataBunch](https://docs.fast.ai/text.data.html#TextDataBunch) from DataFrames.\n",
        "\n",
        "\n",
        "This method will use train_df, valid_df and maybe test_df to build the TextDataBunch in path. You can specify text_cols and label_cols.**If there are several text_cols, the texts will be concatenated together with an optional field token.**\n",
        "If there are several label_cols, the labels will be assumed to be one-hot encoded and classes will default to label_cols (you can ignore that argument for a language model). tokenizer will be used to parse those texts into tokens.\n",
        "\n",
        "You can pass a specific vocab for the numericalization step (if you are building a classifier from a language model you fine-tuned for instance). kwargs will be split between the [TextDataset](https://docs.fast.ai/text.data.html#TextDataset) function and to the class initialization, you can precise there parameters such as max_vocab, chunksize, min_freq, n_labels (see the [TextDataset](https://docs.fast.ai/text.data.html#TextDataset) documentation) or bs, bptt and pad_idx (see the sections LM data and classifier data).\n",
        "\n"
      ]
    },
    {
      "metadata": {
        "id": "2OWzByac3GXG",
        "colab_type": "text"
      },
      "cell_type": "markdown",
      "source": [
        "##Create Dataframe\n",
        "This provides the Label/Target and the associated text"
      ]
    },
    {
      "metadata": {
        "id": "A3zbA9rfCfRh",
        "colab_type": "code",
        "outputId": "a881ea3f-05f9-42a4-96b8-3bd95de8f698",
        "colab": {
          "base_uri": "https://localhost:8080/",
          "height": 221
        }
      },
      "cell_type": "code",
      "source": [
        "# create a dataframe\n",
        "train_df = pd.DataFrame({'text':train.text,\n",
        "                   'id':train.id})\n",
        "print(train_df.shape)\n",
        "train_df.head()"
      ],
      "execution_count": 32,
      "outputs": [
        {
          "output_type": "stream",
          "text": [
            "(41569, 2)\n"
          ],
          "name": "stdout"
        },
        {
          "output_type": "execute_result",
          "data": {
            "text/html": [
              "<div>\n",
              "<style scoped>\n",
              "    .dataframe tbody tr th:only-of-type {\n",
              "        vertical-align: middle;\n",
              "    }\n",
              "\n",
              "    .dataframe tbody tr th {\n",
              "        vertical-align: top;\n",
              "    }\n",
              "\n",
              "    .dataframe thead th {\n",
              "        text-align: right;\n",
              "    }\n",
              "</style>\n",
              "<table border=\"1\" class=\"dataframe\">\n",
              "  <thead>\n",
              "    <tr style=\"text-align: right;\">\n",
              "      <th></th>\n",
              "      <th>id</th>\n",
              "      <th>text</th>\n",
              "    </tr>\n",
              "  </thead>\n",
              "  <tbody>\n",
              "    <tr>\n",
              "      <th>0</th>\n",
              "      <td>122885</td>\n",
              "      <td>Keep your gloves, hats, coats and jackets toge...</td>\n",
              "    </tr>\n",
              "    <tr>\n",
              "      <th>1</th>\n",
              "      <td>188958</td>\n",
              "      <td>The Home Dynamix Serendipity Ivory 5 ft. 2 in....</td>\n",
              "    </tr>\n",
              "    <tr>\n",
              "      <th>2</th>\n",
              "      <td>146065</td>\n",
              "      <td>The Bosch 18-Volt lithium-ion line of Cordless...</td>\n",
              "    </tr>\n",
              "    <tr>\n",
              "      <th>3</th>\n",
              "      <td>165138</td>\n",
              "      <td>Restore your Porter-Cable sander or polisher t...</td>\n",
              "    </tr>\n",
              "    <tr>\n",
              "      <th>4</th>\n",
              "      <td>185565</td>\n",
              "      <td>The SPIKECUBE Surge Suppressor from Tripp Lite...</td>\n",
              "    </tr>\n",
              "  </tbody>\n",
              "</table>\n",
              "</div>"
            ],
            "text/plain": [
              "       id                                               text\n",
              "0  122885  Keep your gloves, hats, coats and jackets toge...\n",
              "1  188958  The Home Dynamix Serendipity Ivory 5 ft. 2 in....\n",
              "2  146065  The Bosch 18-Volt lithium-ion line of Cordless...\n",
              "3  165138  Restore your Porter-Cable sander or polisher t...\n",
              "4  185565  The SPIKECUBE Surge Suppressor from Tripp Lite..."
            ]
          },
          "metadata": {
            "tags": []
          },
          "execution_count": 32
        }
      ]
    },
    {
      "metadata": {
        "id": "JGUslhDcPgbG",
        "colab_type": "code",
        "outputId": "584d4f38-cf0d-440b-a452-6a96810f8f55",
        "colab": {
          "base_uri": "https://localhost:8080/",
          "height": 221
        }
      },
      "cell_type": "code",
      "source": [
        "test_df = pd.DataFrame({'text':test.text,\n",
        "                        'id':test.id})\n",
        "print(test_df.shape)\n",
        "test_df.head()"
      ],
      "execution_count": 33,
      "outputs": [
        {
          "output_type": "stream",
          "text": [
            "(10393, 2)\n"
          ],
          "name": "stdout"
        },
        {
          "output_type": "execute_result",
          "data": {
            "text/html": [
              "<div>\n",
              "<style scoped>\n",
              "    .dataframe tbody tr th:only-of-type {\n",
              "        vertical-align: middle;\n",
              "    }\n",
              "\n",
              "    .dataframe tbody tr th {\n",
              "        vertical-align: top;\n",
              "    }\n",
              "\n",
              "    .dataframe thead th {\n",
              "        text-align: right;\n",
              "    }\n",
              "</style>\n",
              "<table border=\"1\" class=\"dataframe\">\n",
              "  <thead>\n",
              "    <tr style=\"text-align: right;\">\n",
              "      <th></th>\n",
              "      <th>id</th>\n",
              "      <th>text</th>\n",
              "    </tr>\n",
              "  </thead>\n",
              "  <tbody>\n",
              "    <tr>\n",
              "      <th>0</th>\n",
              "      <td>114689</td>\n",
              "      <td>These machine screw nuts are designed to be us...</td>\n",
              "    </tr>\n",
              "    <tr>\n",
              "      <th>1</th>\n",
              "      <td>183172</td>\n",
              "      <td>The M18 FUEL Drill/Driver is the Most Powerful...</td>\n",
              "    </tr>\n",
              "    <tr>\n",
              "      <th>2</th>\n",
              "      <td>217304</td>\n",
              "      <td>Steel City 2-Gang 30 cu. in. Square Electrical...</td>\n",
              "    </tr>\n",
              "    <tr>\n",
              "      <th>3</th>\n",
              "      <td>184115</td>\n",
              "      <td>Native Collection Plus has Shaw's SilentStep P...</td>\n",
              "    </tr>\n",
              "    <tr>\n",
              "      <th>4</th>\n",
              "      <td>103786</td>\n",
              "      <td>Fasade decorative 4 ft. x 8 ft. vinyl wall pan...</td>\n",
              "    </tr>\n",
              "  </tbody>\n",
              "</table>\n",
              "</div>"
            ],
            "text/plain": [
              "       id                                               text\n",
              "0  114689  These machine screw nuts are designed to be us...\n",
              "1  183172  The M18 FUEL Drill/Driver is the Most Powerful...\n",
              "2  217304  Steel City 2-Gang 30 cu. in. Square Electrical...\n",
              "3  184115  Native Collection Plus has Shaw's SilentStep P...\n",
              "4  103786  Fasade decorative 4 ft. x 8 ft. vinyl wall pan..."
            ]
          },
          "metadata": {
            "tags": []
          },
          "execution_count": 33
        }
      ]
    },
    {
      "metadata": {
        "id": "NCbFtGTOErSP",
        "colab_type": "code",
        "colab": {}
      },
      "cell_type": "code",
      "source": [
        "train_label = pd.read_csv('train_label.csv')\n",
        "test_label = pd.read_csv('sample_submission.csv')\n",
        "\n"
      ],
      "execution_count": 0,
      "outputs": []
    },
    {
      "metadata": {
        "id": "g47idPAHQHW0",
        "colab_type": "code",
        "colab": {
          "base_uri": "https://localhost:8080/",
          "height": 1969
        },
        "outputId": "c648ea1b-bf40-4d4d-caa4-c0c80b30c959"
      },
      "cell_type": "code",
      "source": [
        "train_label"
      ],
      "execution_count": 36,
      "outputs": [
        {
          "output_type": "execute_result",
          "data": {
            "text/html": [
              "<div>\n",
              "<style scoped>\n",
              "    .dataframe tbody tr th:only-of-type {\n",
              "        vertical-align: middle;\n",
              "    }\n",
              "\n",
              "    .dataframe tbody tr th {\n",
              "        vertical-align: top;\n",
              "    }\n",
              "\n",
              "    .dataframe thead th {\n",
              "        text-align: right;\n",
              "    }\n",
              "</style>\n",
              "<table border=\"1\" class=\"dataframe\">\n",
              "  <thead>\n",
              "    <tr style=\"text-align: right;\">\n",
              "      <th></th>\n",
              "      <th>id</th>\n",
              "      <th>label</th>\n",
              "    </tr>\n",
              "  </thead>\n",
              "  <tbody>\n",
              "    <tr>\n",
              "      <th>0</th>\n",
              "      <td>100003</td>\n",
              "      <td>Shape</td>\n",
              "    </tr>\n",
              "    <tr>\n",
              "      <th>1</th>\n",
              "      <td>100004</td>\n",
              "      <td>Voltage (volts)</td>\n",
              "    </tr>\n",
              "    <tr>\n",
              "      <th>2</th>\n",
              "      <td>100004</td>\n",
              "      <td>Wattage (watts)</td>\n",
              "    </tr>\n",
              "    <tr>\n",
              "      <th>3</th>\n",
              "      <td>100006</td>\n",
              "      <td>Wattage (watts)</td>\n",
              "    </tr>\n",
              "    <tr>\n",
              "      <th>4</th>\n",
              "      <td>100007</td>\n",
              "      <td>ENERGY STAR Certified</td>\n",
              "    </tr>\n",
              "    <tr>\n",
              "      <th>5</th>\n",
              "      <td>100008</td>\n",
              "      <td>Finish</td>\n",
              "    </tr>\n",
              "    <tr>\n",
              "      <th>6</th>\n",
              "      <td>100008</td>\n",
              "      <td>Indoor/Outdoor</td>\n",
              "    </tr>\n",
              "    <tr>\n",
              "      <th>7</th>\n",
              "      <td>100008</td>\n",
              "      <td>Package Quantity</td>\n",
              "    </tr>\n",
              "    <tr>\n",
              "      <th>8</th>\n",
              "      <td>100011</td>\n",
              "      <td>Features</td>\n",
              "    </tr>\n",
              "    <tr>\n",
              "      <th>9</th>\n",
              "      <td>100011</td>\n",
              "      <td>Included</td>\n",
              "    </tr>\n",
              "    <tr>\n",
              "      <th>10</th>\n",
              "      <td>100012</td>\n",
              "      <td>Features</td>\n",
              "    </tr>\n",
              "    <tr>\n",
              "      <th>11</th>\n",
              "      <td>100012</td>\n",
              "      <td>Hardware Included</td>\n",
              "    </tr>\n",
              "    <tr>\n",
              "      <th>12</th>\n",
              "      <td>100012</td>\n",
              "      <td>Included</td>\n",
              "    </tr>\n",
              "    <tr>\n",
              "      <th>13</th>\n",
              "      <td>100015</td>\n",
              "      <td>Package Quantity</td>\n",
              "    </tr>\n",
              "    <tr>\n",
              "      <th>14</th>\n",
              "      <td>100016</td>\n",
              "      <td>Shape</td>\n",
              "    </tr>\n",
              "    <tr>\n",
              "      <th>15</th>\n",
              "      <td>100017</td>\n",
              "      <td>Indoor/Outdoor</td>\n",
              "    </tr>\n",
              "    <tr>\n",
              "      <th>16</th>\n",
              "      <td>100017</td>\n",
              "      <td>Package Quantity</td>\n",
              "    </tr>\n",
              "    <tr>\n",
              "      <th>17</th>\n",
              "      <td>100022</td>\n",
              "      <td>ENERGY STAR Certified</td>\n",
              "    </tr>\n",
              "    <tr>\n",
              "      <th>18</th>\n",
              "      <td>100022</td>\n",
              "      <td>Voltage (volts)</td>\n",
              "    </tr>\n",
              "    <tr>\n",
              "      <th>19</th>\n",
              "      <td>100026</td>\n",
              "      <td>Shape</td>\n",
              "    </tr>\n",
              "    <tr>\n",
              "      <th>20</th>\n",
              "      <td>100027</td>\n",
              "      <td>ENERGY STAR Certified</td>\n",
              "    </tr>\n",
              "    <tr>\n",
              "      <th>21</th>\n",
              "      <td>100028</td>\n",
              "      <td>Package Quantity</td>\n",
              "    </tr>\n",
              "    <tr>\n",
              "      <th>22</th>\n",
              "      <td>100030</td>\n",
              "      <td>Included</td>\n",
              "    </tr>\n",
              "    <tr>\n",
              "      <th>23</th>\n",
              "      <td>100035</td>\n",
              "      <td>Color</td>\n",
              "    </tr>\n",
              "    <tr>\n",
              "      <th>24</th>\n",
              "      <td>100035</td>\n",
              "      <td>Indoor/Outdoor</td>\n",
              "    </tr>\n",
              "    <tr>\n",
              "      <th>25</th>\n",
              "      <td>100036</td>\n",
              "      <td>Assembly Required</td>\n",
              "    </tr>\n",
              "    <tr>\n",
              "      <th>26</th>\n",
              "      <td>100036</td>\n",
              "      <td>Included</td>\n",
              "    </tr>\n",
              "    <tr>\n",
              "      <th>27</th>\n",
              "      <td>100038</td>\n",
              "      <td>Tools Product Type</td>\n",
              "    </tr>\n",
              "    <tr>\n",
              "      <th>28</th>\n",
              "      <td>100038</td>\n",
              "      <td>Voltage (volts)</td>\n",
              "    </tr>\n",
              "    <tr>\n",
              "      <th>29</th>\n",
              "      <td>100040</td>\n",
              "      <td>Hardware Included</td>\n",
              "    </tr>\n",
              "    <tr>\n",
              "      <th>...</th>\n",
              "      <td>...</td>\n",
              "      <td>...</td>\n",
              "    </tr>\n",
              "    <tr>\n",
              "      <th>75140</th>\n",
              "      <td>224390</td>\n",
              "      <td>Commercial / Residential</td>\n",
              "    </tr>\n",
              "    <tr>\n",
              "      <th>75141</th>\n",
              "      <td>224391</td>\n",
              "      <td>Tools Product Type</td>\n",
              "    </tr>\n",
              "    <tr>\n",
              "      <th>75142</th>\n",
              "      <td>224392</td>\n",
              "      <td>Package Quantity</td>\n",
              "    </tr>\n",
              "    <tr>\n",
              "      <th>75143</th>\n",
              "      <td>224397</td>\n",
              "      <td>Tools Product Type</td>\n",
              "    </tr>\n",
              "    <tr>\n",
              "      <th>75144</th>\n",
              "      <td>224398</td>\n",
              "      <td>Tools Product Type</td>\n",
              "    </tr>\n",
              "    <tr>\n",
              "      <th>75145</th>\n",
              "      <td>224398</td>\n",
              "      <td>Voltage (volts)</td>\n",
              "    </tr>\n",
              "    <tr>\n",
              "      <th>75146</th>\n",
              "      <td>224400</td>\n",
              "      <td>Voltage (volts)</td>\n",
              "    </tr>\n",
              "    <tr>\n",
              "      <th>75147</th>\n",
              "      <td>224401</td>\n",
              "      <td>Package Quantity</td>\n",
              "    </tr>\n",
              "    <tr>\n",
              "      <th>75148</th>\n",
              "      <td>224402</td>\n",
              "      <td>Tools Product Type</td>\n",
              "    </tr>\n",
              "    <tr>\n",
              "      <th>75149</th>\n",
              "      <td>224403</td>\n",
              "      <td>ENERGY STAR Certified</td>\n",
              "    </tr>\n",
              "    <tr>\n",
              "      <th>75150</th>\n",
              "      <td>224403</td>\n",
              "      <td>Wattage (watts)</td>\n",
              "    </tr>\n",
              "    <tr>\n",
              "      <th>75151</th>\n",
              "      <td>224404</td>\n",
              "      <td>Color</td>\n",
              "    </tr>\n",
              "    <tr>\n",
              "      <th>75152</th>\n",
              "      <td>224404</td>\n",
              "      <td>Indoor/Outdoor</td>\n",
              "    </tr>\n",
              "    <tr>\n",
              "      <th>75153</th>\n",
              "      <td>224406</td>\n",
              "      <td>ENERGY STAR Certified</td>\n",
              "    </tr>\n",
              "    <tr>\n",
              "      <th>75154</th>\n",
              "      <td>224406</td>\n",
              "      <td>Hardware Included</td>\n",
              "    </tr>\n",
              "    <tr>\n",
              "      <th>75155</th>\n",
              "      <td>224406</td>\n",
              "      <td>Included</td>\n",
              "    </tr>\n",
              "    <tr>\n",
              "      <th>75156</th>\n",
              "      <td>224406</td>\n",
              "      <td>Wattage (watts)</td>\n",
              "    </tr>\n",
              "    <tr>\n",
              "      <th>75157</th>\n",
              "      <td>224414</td>\n",
              "      <td>Commercial / Residential</td>\n",
              "    </tr>\n",
              "    <tr>\n",
              "      <th>75158</th>\n",
              "      <td>224414</td>\n",
              "      <td>Indoor/Outdoor</td>\n",
              "    </tr>\n",
              "    <tr>\n",
              "      <th>75159</th>\n",
              "      <td>224414</td>\n",
              "      <td>Voltage (volts)</td>\n",
              "    </tr>\n",
              "    <tr>\n",
              "      <th>75160</th>\n",
              "      <td>224416</td>\n",
              "      <td>Finish</td>\n",
              "    </tr>\n",
              "    <tr>\n",
              "      <th>75161</th>\n",
              "      <td>224419</td>\n",
              "      <td>Package Quantity</td>\n",
              "    </tr>\n",
              "    <tr>\n",
              "      <th>75162</th>\n",
              "      <td>224421</td>\n",
              "      <td>Included</td>\n",
              "    </tr>\n",
              "    <tr>\n",
              "      <th>75163</th>\n",
              "      <td>224421</td>\n",
              "      <td>Shape</td>\n",
              "    </tr>\n",
              "    <tr>\n",
              "      <th>75164</th>\n",
              "      <td>224421</td>\n",
              "      <td>Voltage (volts)</td>\n",
              "    </tr>\n",
              "    <tr>\n",
              "      <th>75165</th>\n",
              "      <td>224421</td>\n",
              "      <td>Wattage (watts)</td>\n",
              "    </tr>\n",
              "    <tr>\n",
              "      <th>75166</th>\n",
              "      <td>224422</td>\n",
              "      <td>Finish</td>\n",
              "    </tr>\n",
              "    <tr>\n",
              "      <th>75167</th>\n",
              "      <td>224422</td>\n",
              "      <td>Indoor/Outdoor</td>\n",
              "    </tr>\n",
              "    <tr>\n",
              "      <th>75168</th>\n",
              "      <td>224422</td>\n",
              "      <td>Package Quantity</td>\n",
              "    </tr>\n",
              "    <tr>\n",
              "      <th>75169</th>\n",
              "      <td>224423</td>\n",
              "      <td>Hardware Included</td>\n",
              "    </tr>\n",
              "  </tbody>\n",
              "</table>\n",
              "<p>75170 rows × 2 columns</p>\n",
              "</div>"
            ],
            "text/plain": [
              "           id                     label\n",
              "0      100003                     Shape\n",
              "1      100004           Voltage (volts)\n",
              "2      100004           Wattage (watts)\n",
              "3      100006           Wattage (watts)\n",
              "4      100007     ENERGY STAR Certified\n",
              "5      100008                    Finish\n",
              "6      100008            Indoor/Outdoor\n",
              "7      100008          Package Quantity\n",
              "8      100011                  Features\n",
              "9      100011                  Included\n",
              "10     100012                  Features\n",
              "11     100012         Hardware Included\n",
              "12     100012                  Included\n",
              "13     100015          Package Quantity\n",
              "14     100016                     Shape\n",
              "15     100017            Indoor/Outdoor\n",
              "16     100017          Package Quantity\n",
              "17     100022     ENERGY STAR Certified\n",
              "18     100022           Voltage (volts)\n",
              "19     100026                     Shape\n",
              "20     100027     ENERGY STAR Certified\n",
              "21     100028          Package Quantity\n",
              "22     100030                  Included\n",
              "23     100035                     Color\n",
              "24     100035            Indoor/Outdoor\n",
              "25     100036         Assembly Required\n",
              "26     100036                  Included\n",
              "27     100038        Tools Product Type\n",
              "28     100038           Voltage (volts)\n",
              "29     100040         Hardware Included\n",
              "...       ...                       ...\n",
              "75140  224390  Commercial / Residential\n",
              "75141  224391        Tools Product Type\n",
              "75142  224392          Package Quantity\n",
              "75143  224397        Tools Product Type\n",
              "75144  224398        Tools Product Type\n",
              "75145  224398           Voltage (volts)\n",
              "75146  224400           Voltage (volts)\n",
              "75147  224401          Package Quantity\n",
              "75148  224402        Tools Product Type\n",
              "75149  224403     ENERGY STAR Certified\n",
              "75150  224403           Wattage (watts)\n",
              "75151  224404                     Color\n",
              "75152  224404            Indoor/Outdoor\n",
              "75153  224406     ENERGY STAR Certified\n",
              "75154  224406         Hardware Included\n",
              "75155  224406                  Included\n",
              "75156  224406           Wattage (watts)\n",
              "75157  224414  Commercial / Residential\n",
              "75158  224414            Indoor/Outdoor\n",
              "75159  224414           Voltage (volts)\n",
              "75160  224416                    Finish\n",
              "75161  224419          Package Quantity\n",
              "75162  224421                  Included\n",
              "75163  224421                     Shape\n",
              "75164  224421           Voltage (volts)\n",
              "75165  224421           Wattage (watts)\n",
              "75166  224422                    Finish\n",
              "75167  224422            Indoor/Outdoor\n",
              "75168  224422          Package Quantity\n",
              "75169  224423         Hardware Included\n",
              "\n",
              "[75170 rows x 2 columns]"
            ]
          },
          "metadata": {
            "tags": []
          },
          "execution_count": 36
        }
      ]
    },
    {
      "metadata": {
        "id": "eDBZ8K1SQE97",
        "colab_type": "code",
        "colab": {
          "base_uri": "https://localhost:8080/",
          "height": 272
        },
        "outputId": "9e8c634c-5e8f-4a6d-e716-459a6afce07c"
      },
      "cell_type": "code",
      "source": [
        "train_label['label'].unique().tolist()\n"
      ],
      "execution_count": 39,
      "outputs": [
        {
          "output_type": "execute_result",
          "data": {
            "text/plain": [
              "['Shape',\n",
              " 'Voltage (volts)',\n",
              " 'Wattage (watts)',\n",
              " 'ENERGY STAR Certified',\n",
              " 'Finish',\n",
              " 'Indoor/Outdoor',\n",
              " 'Package Quantity',\n",
              " 'Features',\n",
              " 'Included',\n",
              " 'Hardware Included',\n",
              " 'Color',\n",
              " 'Assembly Required',\n",
              " 'Tools Product Type',\n",
              " 'Commercial / Residential',\n",
              " 'Flooring Product Type']"
            ]
          },
          "metadata": {
            "tags": []
          },
          "execution_count": 39
        }
      ]
    },
    {
      "metadata": {
        "id": "0ExJWMkeQGfH",
        "colab_type": "code",
        "colab": {}
      },
      "cell_type": "code",
      "source": [
        "df= train_df.append(test_df, ignore_index=True)\n"
      ],
      "execution_count": 0,
      "outputs": []
    },
    {
      "metadata": {
        "id": "z8ZMQ0lVojbo",
        "colab_type": "code",
        "outputId": "2dfc7431-8fd8-4170-e360-bfebeb1a8135",
        "colab": {
          "base_uri": "https://localhost:8080/",
          "height": 204
        }
      },
      "cell_type": "code",
      "source": [
        "df_full = train.append(test, ignore_index=True)\n",
        "df_full.head()"
      ],
      "execution_count": 0,
      "outputs": [
        {
          "output_type": "execute_result",
          "data": {
            "text/html": [
              "<div>\n",
              "<style scoped>\n",
              "    .dataframe tbody tr th:only-of-type {\n",
              "        vertical-align: middle;\n",
              "    }\n",
              "\n",
              "    .dataframe tbody tr th {\n",
              "        vertical-align: top;\n",
              "    }\n",
              "\n",
              "    .dataframe thead th {\n",
              "        text-align: right;\n",
              "    }\n",
              "</style>\n",
              "<table border=\"1\" class=\"dataframe\">\n",
              "  <thead>\n",
              "    <tr style=\"text-align: right;\">\n",
              "      <th></th>\n",
              "      <th>text</th>\n",
              "      <th>id</th>\n",
              "    </tr>\n",
              "  </thead>\n",
              "  <tbody>\n",
              "    <tr>\n",
              "      <th>0</th>\n",
              "      <td>Keep your gloves, hats, coats and jackets toge...</td>\n",
              "      <td>122885</td>\n",
              "    </tr>\n",
              "    <tr>\n",
              "      <th>1</th>\n",
              "      <td>The Home Dynamix Serendipity Ivory 5 ft. 2 in....</td>\n",
              "      <td>188958</td>\n",
              "    </tr>\n",
              "    <tr>\n",
              "      <th>2</th>\n",
              "      <td>The Bosch 18-Volt lithium-ion line of Cordless...</td>\n",
              "      <td>146065</td>\n",
              "    </tr>\n",
              "    <tr>\n",
              "      <th>3</th>\n",
              "      <td>Restore your Porter-Cable sander or polisher t...</td>\n",
              "      <td>165138</td>\n",
              "    </tr>\n",
              "    <tr>\n",
              "      <th>4</th>\n",
              "      <td>The SPIKECUBE Surge Suppressor from Tripp Lite...</td>\n",
              "      <td>185565</td>\n",
              "    </tr>\n",
              "  </tbody>\n",
              "</table>\n",
              "</div>"
            ],
            "text/plain": [
              "                                                text      id\n",
              "0  Keep your gloves, hats, coats and jackets toge...  122885\n",
              "1  The Home Dynamix Serendipity Ivory 5 ft. 2 in....  188958\n",
              "2  The Bosch 18-Volt lithium-ion line of Cordless...  146065\n",
              "3  Restore your Porter-Cable sander or polisher t...  165138\n",
              "4  The SPIKECUBE Surge Suppressor from Tripp Lite...  185565"
            ]
          },
          "metadata": {
            "tags": []
          },
          "execution_count": 20
        }
      ]
    },
    {
      "metadata": {
        "id": "lifPA3p6C853",
        "colab_type": "code",
        "outputId": "72660c51-715a-4b7c-d33a-65ecd5ebd216",
        "colab": {
          "base_uri": "https://localhost:8080/",
          "height": 34
        }
      },
      "cell_type": "code",
      "source": [
        "df.shape"
      ],
      "execution_count": 0,
      "outputs": [
        {
          "output_type": "execute_result",
          "data": {
            "text/plain": [
              "(51962, 2)"
            ]
          },
          "metadata": {
            "tags": []
          },
          "execution_count": 12
        }
      ]
    },
    {
      "metadata": {
        "id": "1P5OelaiCmna",
        "colab_type": "code",
        "outputId": "bf9cce44-a266-4aa6-8726-2b202d04e415",
        "colab": {
          "base_uri": "https://localhost:8080/",
          "height": 204
        }
      },
      "cell_type": "code",
      "source": [
        "df = df.reset_index(drop = True)\n",
        "df.head()"
      ],
      "execution_count": 0,
      "outputs": [
        {
          "output_type": "execute_result",
          "data": {
            "text/html": [
              "<div>\n",
              "<style scoped>\n",
              "    .dataframe tbody tr th:only-of-type {\n",
              "        vertical-align: middle;\n",
              "    }\n",
              "\n",
              "    .dataframe tbody tr th {\n",
              "        vertical-align: top;\n",
              "    }\n",
              "\n",
              "    .dataframe thead th {\n",
              "        text-align: right;\n",
              "    }\n",
              "</style>\n",
              "<table border=\"1\" class=\"dataframe\">\n",
              "  <thead>\n",
              "    <tr style=\"text-align: right;\">\n",
              "      <th></th>\n",
              "      <th>label</th>\n",
              "      <th>text</th>\n",
              "    </tr>\n",
              "  </thead>\n",
              "  <tbody>\n",
              "    <tr>\n",
              "      <th>0</th>\n",
              "      <td>Keep your gloves, hats, coats and jackets toge...</td>\n",
              "      <td>122885</td>\n",
              "    </tr>\n",
              "    <tr>\n",
              "      <th>1</th>\n",
              "      <td>The Home Dynamix Serendipity Ivory 5 ft. 2 in....</td>\n",
              "      <td>188958</td>\n",
              "    </tr>\n",
              "    <tr>\n",
              "      <th>2</th>\n",
              "      <td>The Bosch 18-Volt lithium-ion line of Cordless...</td>\n",
              "      <td>146065</td>\n",
              "    </tr>\n",
              "    <tr>\n",
              "      <th>3</th>\n",
              "      <td>Restore your Porter-Cable sander or polisher t...</td>\n",
              "      <td>165138</td>\n",
              "    </tr>\n",
              "    <tr>\n",
              "      <th>4</th>\n",
              "      <td>The SPIKECUBE Surge Suppressor from Tripp Lite...</td>\n",
              "      <td>185565</td>\n",
              "    </tr>\n",
              "  </tbody>\n",
              "</table>\n",
              "</div>"
            ],
            "text/plain": [
              "                                               label    text\n",
              "0  Keep your gloves, hats, coats and jackets toge...  122885\n",
              "1  The Home Dynamix Serendipity Ivory 5 ft. 2 in....  188958\n",
              "2  The Bosch 18-Volt lithium-ion line of Cordless...  146065\n",
              "3  Restore your Porter-Cable sander or polisher t...  165138\n",
              "4  The SPIKECUBE Surge Suppressor from Tripp Lite...  185565"
            ]
          },
          "metadata": {
            "tags": []
          },
          "execution_count": 13
        }
      ]
    },
    {
      "metadata": {
        "id": "6zbrKEr7C419",
        "colab_type": "code",
        "outputId": "fa7edd6e-7516-4131-f640-fe3f6e498a9d",
        "colab": {
          "base_uri": "https://localhost:8080/",
          "height": 1091
        }
      },
      "cell_type": "code",
      "source": [
        "df['label'].value_counts()"
      ],
      "execution_count": 0,
      "outputs": [
        {
          "output_type": "execute_result",
          "data": {
            "text/plain": [
              "The new All-Pro Dusk-to-Dawn LED Twin Head Round Flood fixtures utilize the latest in LED technology for maximum light output in a low-profile, compact housing. This design is ideal as a direct replacement for traditional styles, producing the equivalent of a 150-Watt incandescent fixture. Available in white or bronze, they can be wall or eave mounted for a wide range of applications. All-Pro LED outdoor security lighting provides the safety of super bright lighting, energy savings up to 90%, and the convenience of 1-time installation without re-lamping.Integral photocell provides dusk to dawn operation1600 lumens5000KDie-cast metal housing5 year warrantyEasy installationRound, low-profile design; direct replacement for traditional halogenMaintenance-free LEDs with 35,000 hours of lifeHome Depot Protection Plan:                                                                                                                                                                                                                                                                                                                                                                                                                                                                                                                                                                                                                                                                                                                                                                                                                                                                                                                                                                                                1\n",
              "The Natco Stratford Bedford Light-Blue 26 in. x Your Choice Length Roll Runner is ideal for indoor, residential use. This roll runners construction provides optimal pattern definition and design clarity. To keep this runner looking its best, spot clean for easy maintenance.Made with 100% olefin for durabilityBack requiring use of gripperMachine made in USASpot cleaning for easy maintenanceMaximum length available to purchase is 100 linear ft.Custom Order - orders are sold in increments of 1 ft., to order: place order and set order quantity to the desired length (ft.) of your runner. EXAMPLE: if your order is for 10 ft. you will need to add a quantity of 10 to your cart and you will receive a runner that is 10 ft. in length x stated widthPlease Note: The digital images and product dimensions on our website are as accurate as possible. Due to differences in computer monitors, some rug colors may vary slightly. Lengths and widths may vary from the published dimensions. We do our best to provide you with an exact measurement, but please be advised that some variation exists. Patterns may vary slightly according to shape and size selectedCustom length products are not returnable                                                                                                                                                                                                                                                                                                                                                                                                                                                                                                                                                                                                               1\n",
              "Creme Brussels linen accessory shade with uno-fitter. For use with chandeliers and wall brackets.California residents: see&nbsp;Proposition 65 informationCreme finishUse to diffuse light from exposed bulbs on chandeliers and wall bracketsClip-on style fitter for use with candelabra bulbs (bent tip style bulbs not recommended)5 in. W x 5 in. H                                                                                                                                                                                                                                                                                                                                                                                                                                                                                                                                                                                                                                                                                                                                                                                                                                                                                                                                                                                                                                                                                                                                                                                                                                                                                                                                                                                                                                                                                               1\n",
              "This 1-light outdoor wall lantern has a contemporary rust finish. This outdoor fixture will illuminate any outdoor area while complementing any decor style. The white frost rectangle shape glass allows maximum light to disperse creating a secured outdoor living area.Hardware includedInstruction manual includedBulb(s) not includedLimited manufacturer warranty                                                                                                                                                                                                                                                                                                                                                                                                                                                                                                                                                                                                                                                                                                                                                                                                                                                                                                                                                                                                                                                                                                                                                                                                                                                                                                                                                                                                                                                                               1\n",
              "The Catherine Collection is well known for quality, style and value; and this chandelier is no exception. Combining a classic polished chrome finish Cream Fabric shade you will find no better way to highlight the charm of your home. With the superb craftsmanship and affordable price this fixture is sure to tastefully indulge your extravagant side.Uses (8) G9 bulbsUL listed for safetyEasy installation instructions and template enclosed for convenient setupIncludes installation hardwareThis fixture finds itself at home in many of today's popular designsCream fabric shade included                                                                                                                                                                                                                                                                                                                                                                                                                                                                                                                                                                                                                                                                                                                                                                                                                                                                                                                                                                                                                                                                                                                                                                                                                                               1\n",
              "The crisply tailored look of the Fifth Avenue single cylinder deadbolt lifetime brass has a universal appeal that works well with almost any home. Keyed alike.Forged brass10-year mechanical and finish warrantyPremium quality from Nostalgic WarehouseLifetime brass finish                                                                                                                                                                                                                                                                                                                                                                                                                                                                                                                                                                                                                                                                                                                                                                                                                                                                                                                                                                                                                                                                                                                                                                                                                                                                                                                                                                                                                                                                                                                                                                         1\n",
              "Nupla has been an innovator for over 70 years in the development of fiberglass technologies and has earned the reputation as the industry standard for fiberglass striking, cutting, digging, and fire tools. Nupla handles are unaffected by sub zero temperatures, do not conduct heat or cold and are impervious to industrial chemicals. Nupla handles are also non-conductive and have a built in dielectric safety feature since Lifetime Nuplaglas is one of the finest insulators available. The 6 lb. Double-face Sledge Hammer has a drop forged, heat treated and tempered carbon steel sledge head with dual machined striking faces and chamfers. The 32 in. hammer handle is solid pultruded fiberglass made with thousands of fiberglass strands and a unique resin making it super strong and resistant to weather, chemicals and insects (unlike most wooden handles). Ergonomic non-slip grip reduces arm strain due to less squeeze and gripping effort required. The Sledge Hammer can be used for house and road construction, farming, landscaping, utilities, and any other heavy duty application requiring concerted use of force.California residents: see&nbsp;Proposition 65 informationAll Nupla handles are proudly manufactured in the USAMost Nupla tools can be customized to your specifications such as variations of grip styles, handle lengths and replacement tipsAll Nupla tools feature lifetime Nuplaglas handles for strength, safety, and durabilityNupla's non-slip handle designs can be used in wet conditions where moisture-laden wood or tubular steel would have disastrous resultsSmooth, resin rich Nupla handle surfaces protect users from splinters and resist UV deteriorationLifetime warranty: all Nupla products are warranted against any and all defects in material or manufacturing    1\n",
              "Veranda routed vinyl fence posts are designed for use with Veranda Pro Series vinyl fence panels and gates. Most fence runs will use a combination of end, corner and line posts. These vinyl posts resist rust and won't splinter or decay, keeping your fence looking attractive with very little maintenance. Posts feature a lightweight design and are constructed with a UV-resistant material. Panels, gates and post caps sold separately.Durable, low-maintenance vinylRouted holes located on adjacent sides, making post-to-rail connections at corners quick and easyNever needs to be sanded, painted, stained or weatherproofed5 in. x 5 in. x 102 in.Includes 1 postFor use with 6 ft. x 8 ft. Pro Series Anaheim cherry privacy fence panel (model # 153817)                                                                                                                                                                                                                                                                                                                                                                                                                                                                                                                                                                                                                                                                                                                                                                                                                                                                                                                                                                                                                                                                           1\n",
              "The Everbilt Commercial Grade Wall Doorstop helps prevent doorknob damage to wall when opening a door. It covers minor damage and marks on walls. Easy to install.California residents: see&nbsp;Proposition 65 informationMade of solid brassOil-rubbed bronze finishScrews includedAttaches to wall                                                                                                                                                                                                                                                                                                                                                                                                                                                                                                                                                                                                                                                                                                                                                                                                                                                                                                                                                                                                                                                                                                                                                                                                                                                                                                                                                                                                                                                                                                                                                  1\n",
              "Bosch Progressor 4-1/4 in. Wood-cutting jig saw blades (3-Pack) have a U-shank fitting and a silver-metallic finish. They are made of high-carbon steel and designed for cutting wood. Bosch is the world-wide market leader for jig saw blades. This means uncompromising quality, innovative ideas and universal use. Whether for miter, straight or curved cuts, Bosch sells the right saw blade designed for high performance in all major brand jig saws.U-shank fittingMade of high carbon steelSilver metallic finishDesigned for cutting wood                                                                                                                                                                                                                                                                                                                                                                                                                                                                                                                                                                                                                                                                                                                                                                                                                                                                                                                                                                                                                                                                                                                                                                                                                                                                                                  1\n",
              "Saturn 3-Light ceiling mount mini pendant featured with brushed nickel trim and frosted white glass. A great fit for any room in your home. Fixture is adjustable to 6 ft. H for a perfect fit in any room.Beautiful brushed nickel detail with frosted glassGreat for any roomUses three 60-Watt standard base bulbs in LED, compact fluorescent, or incandescent typesBulbs not includedAll hardware included for installation                                                                                                                                                                                                                                                                                                                                                                                                                                                                                                                                                                                                                                                                                                                                                                                                                                                                                                                                                                                                                                                                                                                                                                                                                                                                                                                                                                                                                       1\n",
              "Apothecary Double-Door Media Stand brings a traditional appeal to your modern media room. Faux apothecary drawers replicate those found in a library card-file cabinet. Faux drawers are actually 2 cabinet doors that open to interior media storage with adjustable shelf behind each door. Upper shelf above cabinet holds extra items. Brown mahogany finish provides the perfect complement to the antique bronze hardware.Holds up to a 42 in. W flat-screen TVWood construction with mahogany finish and bronze hardware2 adjustable media shelvesAssembly required                                                                                                                                                                                                                                                                                                                                                                                                                                                                                                                                                                                                                                                                                                                                                                                                                                                                                                                                                                                                                                                                                                                                                                                                                                                                             1\n",
              "Easily transform a Dover fence panel (Sold separately, model # 141569) into a gate. The Dover Gate Kit enables you to transform a 6 ft. x 8 ft. Dover fence panel into a customized walk gate in a few short steps. Each box includes all necessary gate hardware and hinges to complete the project. Discover the many benefits of Veranda Pro Series vinyl fencing.Low maintenance vinylInnovative design creates a neighbor-friendly appearanceA stately profile is offered by heavy-duty components to provide excellent durabilityNever needs painting or staining6 ft. vinyl gates are easy to install with standard toolsDover Gate                                                                                                                                                                                                                                                                                                                                                                                                                                                                                                                                                                                                                                                                                                                                                                                                                                                                                                                                                                                                                                                                                                                                                                                                             1\n",
              "New Elegant Lighted Make Up Mirror in Nickel Finish. Versatile 7X make up mirror with a strong 15X insert. This is a modern design which is great for remodels. Direct wire for a clean fit and finish.HardWire versionMirror features a duel sided lighted mirror head with a strong 7X magnification mirror on 1 side and 1X magnification mirror on the otherAn extra light bulb and all mounting hardware are includedUL listed                                                                                                                                                                                                                                                                                                                                                                                                                                                                                                                                                                                                                                                                                                                                                                                                                                                                                                                                                                                                                                                                                                                                                                                                                                                                                                                                                                                                                    1\n",
              "Sloan Flush Valves are in millions of commercial places of business. Regardless of your requirements, Sloan offers a variety of solutions to meet your restroom repair needs. Now it is easy to buy the complete kit or part to repair your flush valve. B-51-A, 3302306, triple seal handle repair kit. Made out of durable materials. Used to repair Royal collection flush valves.Royal collectionMade out of durable materialsTriple sealHandle repair kit                                                                                                                                                                                                                                                                                                                                                                                                                                                                                                                                                                                                                                                                                                                                                                                                                                                                                                                                                                                                                                                                                                                                                                                                                                                                                                                                                                                         1\n",
              "The Tiffany makes a bold statement with defined, straight lines and strong features. It offers the abundant storage space you need. This vanity is built with high quality solid oak wood and is finished with the options of white or espresso. A gorgeous Italian Carrara marble countertop, a matching framed mirror finish, and designer brushed nickel hardware completes the set. The Tiffany is the perfect vanity for anyone who wants the boldness of beauty in transitional class. Virtu USA has taken the initiative by changing the vanity industry and adding soft closing doors and drawers to their entire product line. By doing so, it will give their customers benefits ranging from safety, health, and the vanity's reliability.Overall dimensions: 48 in. W x 22 in. D x 35.8 in. HMatching framed mirror: 45.3 in. W x 36 in. HItalian carrara white marble countertop with backsplashSquare basinsWhite cabinet finishZero emissions solid oak woodWater resistant low V.O.C. sealerAdjustable hinges and slides2 doors with soft-closing hinges4 drawers with soft-closing slidesDesigner brass knobsUnder-mount ceramic basins with overflowStandard 8 in. widespread pre-drilled holesMinimal assembly requiredFaucet is not included                                                                                                                                                                                                                                                                                                                                                                                                                                                                                                                                                                                       1\n",
              "The 5X Telescoping Vanity Mirror offers a sleek design with an adjustable base.  It features a large, high quality mirror mounted on an adjustable pedestal with a lovely chrome finish. Pedestal height adjusts between 16 and 22 in. for viewing at virtually any angle.Pedestal height adjusts between 16 and 22 in. for viewing at virtually any angleElegant chrome finish allows this mirror to be a timeless piece in your bathroom decor5X magnification makes this mirror ideal for applying make-up and inserting contactsPadded non-slip base so mirror will stay where you put it                                                                                                                                                                                                                                                                                                                                                                                                                                                                                                                                                                                                                                                                                                                                                                                                                                                                                                                                                                                                                                                                                                                                                                                                                                                          1\n",
              "The Husky 1/4 in. x 1/4 in. NPT Male Industrial Steel Coupler eliminates coupler confusion. The durable zinc-plated steel body resists corrosion and features one 1/4 in. snap-in and one 1/4 in. screw-on fitting. The coupler is a must have for a quick fix. Requires a plug with an identical body size for interchanging.1/4 in. snap-in and 1/4 in. screw-on fittingConnects air toolsEliminates coupler confusionZinc-plated steel body resists corrosion                                                                                                                                                                                                                                                                                                                                                                                                                                                                                                                                                                                                                                                                                                                                                                                                                                                                                                                                                                                                                                                                                                                                                                                                                                                                                                                                                                                       1\n",
              "Enjoy your outdoor setting with the uniquely styled GENEVIEVE 42 in. All-Weather Wicker Coffee colored half-oval folding table. Fitting flush against the wall or vertical surface, it provides the perfect addition to compliment your patio, deck or balcony. The drop leaf, gate-leg feature lets you fold the top down so the table will stand a mere 6 in. away from the wall and can be conveniently folded and stored when not in use. It compliments our Off-The-Wall Brella and the Terrace Mates folding chairs. No assembly required.An extraordinary NEW product for expanding your outdoor leisure living42 in. half-oval table with drop leaf, gate-leg design is a space saver that sets up in an instantFolds flat against the wall when not in use or for easy storageStrong, durable aluminum frame wrapped with high quality all-weather wicker can withstand the elements year after yearUse with Off-The-Wall Brella and Terrace Mates stackable chairs to create a complete 5-piece settingSpecially designed for balconies, decks, small patios or any area where space is at a premium                                                                                                                                                                                                                                                                                                                                                                                                                                                                                                                                                                                                                                                                                                                                         1\n",
              "The Leadenhall Collection's unique design features Opal White Blown Glass shades that emit a soft, beautiful glow. Traditional lines are offset with eye-catching polished banding and graceful curves. Choose a Polished Nickel, Brushed Nickel, or Oil Rubbed Bronze finish.Elegant transitional designRequires 4 medium base bulbs (100-Watt, not included)UL listed for safety1 year product warrantyHardware and installation instructions included                                                                                                                                                                                                                                                                                                                                                                                                                                                                                                                                                                                                                                                                                                                                                                                                                                                                                                                                                                                                                                                                                                                                                                                                                                                                                                                                                                                               1\n",
              "These pole sockets are constructed from sturdy plastic. The universal design accepts a 1-3/8 in. standard wood pole. It comes complete with fasteners for a quick and easy installation.Plastic constructionAccepts a 1-3/8 in. standard wood poleUniversal designIncludes fasteners                                                                                                                                                                                                                                                                                                                                                                                                                                                                                                                                                                                                                                                                                                                                                                                                                                                                                                                                                                                                                                                                                                                                                                                                                                                                                                                                                                                                                                                                                                                                                                   1\n",
              "The Hudson Park collection from designer Angelo Surmelis brings nature indoors. Against a solid neutral background, branches grow sprouting with colored buds. Also in this collection is a bold traditional floral pattern silhouetted against a dark background.100% PolyesterUse of a rug pad is recommended (sold separately)Hand Tufted in ChinaPlush and soft to the touchVacuum regularly and spot clean as neededNo manufacturer warrantyPlease Note: The digital images and product dimensions on our website are as accurate as possible. Due to differences in computer monitors, some rug colors may vary slightly. Lengths and widths may vary from the published dimensions. We do our best to provide you with an exact measurement, but please be advised that some variation exists. Patterns may vary slightly according to shape and size selected.                                                                                                                                                                                                                                                                                                                                                                                                                                                                                                                                                                                                                                                                                                                                                                                                                                                                                                                                                                                 1\n",
              "Edgestone is an easy-to-use edger, great for gardens, pathways and flowerbeds. Its design makes it perfect for straight, curved and serpentine applications. This edger will keep your lawn groomed and neat, preventing mulch or dirt in your flowerbed from falling into your lawn.Concrete edging is durable for long-lasting valueEasy to install for a quick decorative touch and simplified mowing and trimming choresDesigned to use as walkway, garden and plant bed bordersColor in concrete products may vary from pallet to pallet, please purchase your projects all at one timeNote: Product may vary by storeNote: Product may vary by store                                                                                                                                                                                                                                                                                                                                                                                                                                                                                                                                                                                                                                                                                                                                                                                                                                                                                                                                                                                                                                                                                                                                                                                             1\n",
              "The rainhandler doorbrella accessory ensures that rainoff is diverted from an unprotected door to the adjacent rainhandler section for dispersion. Mounts to your roof shingles with self-adhesive. No nails. Two, 36 in. Pieces. Putty seal is also included. Natural aluminum for light-colored roofs.Aluminum construction for years of reliable serviceDiverts rain away from doorways and other sensitive areasHomeowner friendly-easy to installWorks with most roofing typesAll mounting hardware included                                                                                                                                                                                                                                                                                                                                                                                                                                                                                                                                                                                                                                                                                                                                                                                                                                                                                                                                                                                                                                                                                                                                                                                                                                                                                                                                      1\n",
              "For the most comprehensive selection of nails look for Everbilt. No matter what the project or what size the job; Everbilt has the optimal fastening solution. There are many sizes and styles of nails available. As construction materials and techniques evolve, fastener design keeps pace with the changing technology. Fastener needs vary from project to project and the safety and life expectancy of the project can be extended or compromised based upon the fastener used. Fasteners have been designed to meet the special needs of projects such as roofing or drywall and in many cases are known by the application for which they are intended.For applying roofing asphalt shingles, insulation board and felt-to-wood substratesLarge head and heavier shank provide greater holding powerElectro-galvanizedBarbed shankMade to conform to ASTMF1667                                                                                                                                                                                                                                                                                                                                                                                                                                                                                                                                                                                                                                                                                                                                                                                                                                                                                                                                                                               1\n",
              "The Amare wall-mounted vanity family delivers beautiful wood grain exteriors offset by modern brushed chrome door pulls. Each vanity provides a full complement of storage areas behind sturdy soft-close doors and drawers. This versatile vanity family is available with distinctive vessel sinks or sleek integrated counter and sinks to fulfill your design dreams. A wall-mounted vanity leaves space in your bathroom for you to relax. The simple clean lines of the Amare wall-mounted vanity family are no-fuss and all style.Constructed of beautiful veneers over \"highest quality grade E1 MDF\", engineered for durability, and to prevent warping and last a lifetime8-stage preparation, veneering and finishing processHighly water-resistant low V.O.C. sealed finishUnique and striking contemporary designModern wall-mount designMinimal assembly requiredDeep doweled drawersFully-extending soft-close drawer slidesSingle-hole faucet mountAvailable with porcelain, granite and marble vessel sink(s)Faucet(s) not includedMedicine cabinet mirror includedMetal exterior hardware with brushed chrome finish2 functional doors4 functional drawersPlenty of storage spaceIncludes drain assemblies and P-traps for easy assembly                                                                                                                                                                                                                                                                                                                                                                                                                                                                                                                                                                                             1\n",
              "The AirPro 52 in. Builder ceiling fan offers great performance and value with a powerful, 3-speed motor that can be reversed to provide year-round comfort. Includes innovative canopy system that can be installed on vaulted ceilings up to 12:12 pitch; additionally, the fan can be installed with no downrod to accommodate lower ceilings.California residents: see&nbsp;Proposition 65 informationWhite finish bladesCompatible with accessory light kits (sold separately)Integral pull chain provides 3-speed motor controlEnergy Star4-1/4 in. downrod included with fan, 3/4 in. DiaAirflow 5182 (cu. ft./minute), electricity use 62 (Watt), airflow efficiency 84 (cu. ft./minute/Watt)80 in. wires to accommodate installation on higher ceilings (with accessory downrod, sold separately)30 year limited warrantyNot sure what size fan you need? Check out our Buying Guide for helpful tips.Need help installing your fan? Check out our Project Guide for helpful tips.                                                                                                                                                                                                                                                                                                                                                                                                                                                                                                                                                                                                                                                                                                                                                                                                                                                             1\n",
              "Designed to put out up to 38,000 BTUs of cooking power, the Weber Genesis E-310 3-Burner Black Natural Gas Grill will help you to cook up a variety of delicious food. Its 3 stainless steel burners are complemented by porcelain-enameled cast-iron cooking grates and Porcelain-enameled flavorizer bars to help lock in your food's flavor. It also features lockable wheels for easy transportation.California residents: see&nbsp;Proposition 65 information637 sq. in. of total cooking area offers plenty of grilling space; 507 sq. in. of primary cooking area and 130 sq. in. of warming rack area3 stainless steel burners with 38,000 BTUs-per-hour input are durable and delivery powerful heat and performancePorcelain-enameled, cast-iron cooking grates designed to cook food evenly; our unique, angled porcelain enameled flavorizer bars smoke and sizzle when cooking juices drip down, adding flavor to your mealIndividual electronic ignition system for quick, reliable startupsFront mounted thermometer monitors temperature inside the grillFront access, porcelain-enameled grease tray with catch pan for easy access and clean up; painted enclosed steel cabinet with painted steel door2 stainless steel tables with integrated tool hooks to allow for easy access to your grilling toolsNatural gas grill includes a 10 ft. flexible hose2 heavy-duty front locking swivel casters and two heavy-duty back swivel castersCompatible with Genesis Island cabinets sold separatelyFor questions regarding replacement parts or service inquiries, please contact Weber customer service at 1-800-446-1071 or email Support@WeberStephen.comAssembly requiredProtect your investment with a grill cover (sold separately)Home Depot Protection Plan:                                                                  1\n",
              "The furniture-quality finish on the Hampton Bay Base Cabinet adds warmth and beauty to your kitchen design. The cabinet's 3/4 in. shelf thickness offers durability and its adjustable shelf design helps you maximize your storage space. The full cabinet door gives you easy access to a convenient storage space.California residents: see&nbsp;Proposition 65 informationComposite case construction for durability and strengthFramed construction with encapsulated panels offers a solid lookRaised door panel design provides a traditional look to your kitchen decor3/4 in. thick adjustable shelfOne, half-depth adjustable shelf provides easy access for storageAdjustable hinges are self-closing and hidden from viewDurable rich finishLimited lifetime warrantyEncapsulated panels, fully captured in grooves for strengthCertified KCMA cabinet                                                                                                                                                                                                                                                                                                                                                                                                                                                                                                                                                                                                                                                                                                                                                                                                                                                                                                                                                                                     1\n",
              "This 250 ft. Clear 16/2 Speaker Wire installs as signal wire between amplifiers and speakers in a home theater system. The jacket is clear with multi-colored marker tape.Connects amplifier and speakers in an audio systemNot suitable for in-wall use250 ft. lengthClear, PVC jacket with multi-colored marker tapeCopper conductorcUL listedMade in USANote: Product may vary by store                                                                                                                                                                                                                                                                                                                                                                                                                                                                                                                                                                                                                                                                                                                                                                                                                                                                                                                                                                                                                                                                                                                                                                                                                                                                                                                                                                                                                                                             1\n",
              "                                                                                                                                                                                                                                                                                                                                                                                                                                                                                                                                                                                                                                                                                                                                                                                                                                                                                                                                                                                                                                                                                                                                                                                                                                                                                                                                                                                                                                                                                                                                                                                                                                                                                                                                                                                                                                                      ..\n",
              "The Wedge-All Anchor is a non-bottom bearing, wedge-style expansion Anchor for use in solid concrete or grout-filled concrete masonry. A 1-piece clip ensures uniform holding capacity that increases as tension is applied. The threaded stud version is available in eight diameters and multiple lengths. A single size tie-wire version is available for wire supported fixtures. Threaded studs are set by tightening the nut. Tie-wire Anchor is set with the claw end of a hammer.1-piece wrap around clipThreaded end is chamfered for ease of starting nutMost sizes feature full thread for added versatilityQuantity: 503/8 in. x 3-3/4 in.Zinc-plated carbon steel                                                                                                                                                                                                                                                                                                                                                                                                                                                                                                                                                                                                                                                                                                                                                                                                                                                                                                                                                                                                                                                                                                                                                                         1\n",
              "Performance Select Cotton Large Outdoor and Work Gloves can provide protection for light-duty jobs such as cleanup and maintenance. The plastic dots offer enhanced gripping ability and the knit wrist helps keep out debris and dirt. The reusable gloves are machine washable.Offers protection for light-duty tasks such as clean up and maintenanceJersey cotton material is comfortable and breathableLarge sizeKnit wrist helps keep out debris and dirtMini dots provide grip for light-duty jobsMachine washableNote: product may vary by store                                                                                                                                                                                                                                                                                                                                                                                                                                                                                                                                                                                                                                                                                                                                                                                                                                                                                                                                                                                                                                                                                                                                                                                                                                                                                               1\n",
              "Stanley Doors helps you create an entrance that is an extension of your unique personality. Our products offer lasting, elegant entryways with an emphasis on style, security and, energy efficiency. Energy Star certified and double bored, the door can accept a lock and deadbolt of your choice. Our Silkscreened Glass collection features delicate patterns that create a highly decorative effect in this creative product line. In addition to the beauty of our doors, you could be sure that once installed, they are simple to maintain and care for and are backed by Stanley's limited lifetime warranty to boot, welcome home.Polyurethane injected for higher insulation value, strengthening the door from the inside out24-Gauge, hot dipped galvanized steel adds strength to your door and prevents rusting for a lifetimeFinger-jointed kiln dried pine prevents warping and rotting for long-lasting performanceMagnetic weatherstripping seals door from all elements for added protectionDelicate patterns help bring your home's entrance to lifeSTANCOAT state-of-the-art thermo hardened finish for long-lasting protection is virtually maintenance-free and enhances the look of your entrance door, stanley textured coating is your assurance of quality and superior performance whatever climatic conditions existDouble bore allows easy installation of lock and deadbolt of your choiceEnergy efficient and Energy Star certified to save on heatingDoes not get simpler than receiving a prefinished door, when your door arrives, there will be no painting and no mess - just install and enjoyFrom outside, opens toward the inside of the home with the hinges on the left                                                                                                                                    1\n",
              "This Big Red 2-Ton Engine Hoist features a foldable design and a 1,500 lb. capacity engine leveler for lifting and leveling a variety of engines with ease. The 4-hole position boom, heavy-duty 8-ton long ram and 6 wheels for added mobility deliver the ideal hoist for use in the work shop or home garage.The 4,000 lb. lifting capacity is more than enough for lifting car and truck enginesHas a lifting range of 1 - 78 in. to provide adequate clearance for most home garages and shopsMade of heavy-gauge steel tubing for ANSI-quality durabilityFeatures a 4-hole position boom, heavy-duty 8-ton long ram6 wheels offer added mobilityFoldable design allows for easy storageIncludes 1,500 lb. engine leveler and 2-ton engine hoist                                                                                                                                                                                                                                                                                                                                                                                                                                                                                                                                                                                                                                                                                                                                                                                                                                                                                                                                                                                                                                                                                                  1\n",
              "This transitional pull showcasing a beautiful Venetian bronze finish is part of our Deco family. The 3-1/2 center to center hole requirements give ample finger room. Coordinating pieces are available. With pre-drilled holes, easy installation includes a standard 8-32 machine screw and requires only a screwdriver. This piece provides the perfect decorative touch for your home.Rear-mount installationTransitional designVenetian bronze finishMounting hardware included                                                                                                                                                                                                                                                                                                                                                                                                                                                                                                                                                                                                                                                                                                                                                                                                                                                                                                                                                                                                                                                                                                                                                                                                                                                                                                                                                                   1\n",
              "The Sea Gull Lighting Lx MRC11 / MR16 Lamps light led light bulb in undefined is an Energy Star qualified lighting fixture that uses fluorescent bulbs to save you both time and money. Until now, the easiest way to convert lighting fixtures to an energy efficient solution has been to swap out old incandescent lamps for compact fluorescents (CFLs). With the rapid innovation of technology, LED lamps have surpassed CFLs in efficiency and performance features.Featured in the decorative Lx MRC11/MR16 lamps collectionProduces 300 Lumens, consumes 6-Watt - equivalent to 20W halogen MR16Visually pleasing color correct illumination, CRI 85, 3000KReplicates the look, feel and performance of halogen, reduces energy and operation costs by 70%                                                                                                                                                                                                                                                                                                                                                                                                                                                                                                                                                                                                                                                                                                                                                                                                                                                                                                                                                                                                                                                                                    1\n",
              "The ultra-versatile Summer Infant Banister and Stair Gate with Dual Installation Kit helps provide parents of mobile toddlers with peace of mind. This sleek gate accommodates banister-to-banister installation, single banister installation at the top or bottom of stairs, as well as installation in doorways and other openings.No drilling required on square banistersMultiple options for installationQuick release mechanism allows for easy removal and re-installationHoney oak wood with chocolate accents complement home decor                                                                                                                                                                                                                                                                                                                                                                                                                                                                                                                                                                                                                                                                                                                                                                                                                                                                                                                                                                                                                                                                                                                                                                                                                                                                                                          1\n",
              "This Vigiro 2 ft. Easy Edging is modular and easy to install. The green, flexible plastic provides a simple way to keep mulched edges neatly in place.Plastic construction for long-lasting useFlexible plastic bends for tree rings or curved borders to walkways, gardens and plant bedsModular and easy to install for a simple way to keep mulched edges neatly in place5-1/2 in. tall for edging of your lawn and garden areas                                                                                                                                                                                                                                                                                                                                                                                                                                                                                                                                                                                                                                                                                                                                                                                                                                                                                                                                                                                                                                                                                                                                                                                                                                                                                                                                                                                                                    1\n",
              "Lakeshore Pecan Multi-purpose reducer is used to transition floors of unequal height from wood/laminate floors to carpet, vinyl or tile. This molding will provide a seamless look when transitioning between flooring surfaces. Zamma Multi-purpose reducer is designed to coordinate with your laminate floor.California residents: see&nbsp;Proposition 65 informationLakeshore Pecan Laminate Multi-purpose reducer Molding1/2 in. thickness x 1-3/4 in. width x 72 in. lengthItem coordinates with 6 mm to 9 mm thick laminate flooringLakeshore Pecan, Light Color, Smooth FinishAppropriate Grade for Installation: Above Grade, On Grade or Below GradeCan be installed over both concrete and wooden subfloorsResidential and commercial useWarranty: 25-year residential, 8-year commercialInstallation track included with purchaseNo painting or staining necessaryDon't forget your coordinating trimsAll online orders for this item ship via parcel groundClean with damp clothProduct is proudly manufactured by Zamma Corporation                                                                                                                                                                                                                                                                                                                                                                                                                                                                                                                                                                                                                                                                                                                                                                                                     1\n",
              "Update your bath or powder room decor with the Hampton Bay Architecture 3-Light Brushed Nickel Vanity Light. This transitionally styled fixture features etched white glass shades with clean lines, creating a soft glow to illuminate your vanity area. The sleek, brushed nickel finish complements a wide range of decor styles, blending beautifully with other brushed nickel bath hardware and accessories.Durable steel construction ensures long-lasting beautyCan be installed with lights pointed up or down for a custom look with included hardware and instructionsUses three 100-Watt medium-base bulbs (sold separately)Compatible with standard wall dimmer to customize your light levelEtched white glass shades offer a clean, modern lookETL listed for damp locationsCoordinates with other pieces in the Architecture collection for a complete lighting theme throughout your homeHome Depot Protection Plan:                                                                                                                                                                                                                                                                                                                                                                                                                                                                                                                                                                                                                                                                                                                                                                                                                                                                                                                  1\n",
              "15 Lite Clear Bevel Glass is part of the Crown Jewel Collection. This is a triple paned full lite glass door featuring a 15 Lite bevel design with brass caming, this door is a classic look that will brighten up any door opening.California residents: see&nbsp;Proposition 65 information5/8 in. Triple pane insulated safety tempered glass with brass camingCan be painted or stainedMission sticking door profileMahogany veneers over an engineered coreWood color will range from a reddish-tan to a dark brownFinishing-takes any stain wellDoors can be trimmed up to 1 in. H (maximum 1/2 in. top and 1/2 in. bottom) and 1/2 in. W (maximum 1/4 in. each side) trimming beyond these measurements is not allowedDoor slab is not prepped for hinges or handle setClick here to design your custom door today!                                                                                                                                                                                                                                                                                                                                                                                                                                                                                                                                                                                                                                                                                                                                                                                                                                                                                                                                                                                                                             1\n",
              "Your GE 30 in. Wall-Mount Pyramid Chimney Hood in Stainless Steel has external or recirculating venting capabilities.  This hood will effectively remove smoke, grease, odor, and moisture.  Dishwasher safe filters for your ease of cleaning. GE products offer the best in contemporary design matched with the latest in appliance technologies to transform the way you live. Sporting a bold, dramatic look and state of the art features, this collection provides the perfect combination of style and innovation throughout your kitchen.Convertible range hood can be installed as venting or recirculating to fit a variety of installation needsEasy-to-use touch controls let you adjust the fan speed and the light setting4 fan speeds let you adjust the speed to fit your needs350 CFM blower to quickly pull smoke and cooking odors out of the airVertical or recirculating optionGrease filter is removable and dishwasher safe for easy cleaning and maintenanceDual halogen light with On/Off/Nightlight settings illuminates the cooktop beneath the hoodWall-mounted chimney hood has a pyramid shape that adds style to any kitchenOne year limited manufacturers warrantyProduct available for home delivery only. Installation is not offered at time of delivery; check with your local The Home Depot store for installation options                                                                                                                                                                                                                                                                                                                                                                                                                                                                                      1\n",
              "The DAP Dynaflex 230 5.5 oz. Premium Indoor/Outdoor Sealant combines durability and permanent flexibility with the paint ability and low odor of a latex sealant. It is ideal for sealing air leaks in windows and doors in all weather conditions.California residents: see&nbsp;Proposition 65 informationAcrylic latex formulation is durable and permanently flexibleBlocks drafts and keeps out moisture and pestsPaintable to match any surfaceMold- and mildew resistantCrack proofCleans easily with waterExceeds ASTM C 920, class 25Seals out insectsPaintable                                                                                                                                                                                                                                                                                                                                                                                                                                                                                                                                                                                                                                                                                                                                                                                                                                                                                                                                                                                                                                                                                                                                                                                                                                                                               1\n",
              "ProFlex Paver Edging is a durable professional hardscape edging product made from construction grade materials. The ProFlex 24 ft. Project Kit should be used to secure concrete or brick pavers in patio, walkway, or driveway applications. The project kit contains everything necessary for a 24 ft. installation.  Included are (4) 6 ft. pieces of Edging, and (16) 8 in. heavy duty nylon spikes. ProFlex Paver Edging is ready to use for straight sections. For curves simply cut spines where needed and the piece becomes flexible.Click here for more information on ProFlex Paver Edging(4) ProFlex anchoring spikes are recommended per each 6 ft. pieceAnchor spikes at each end of the edging piece and every 18 in. on a slight angleAdditonal ProFlex anchoring spikes sold separately on Home Depot.com  #1988HD-2Made in the U.S. (Marietta, Ohio) from construction grade recycled vinylMade exclusively for The Home DepotAdditional individual 6 ft. pieces may be purchased in most Home Depot Store locationsShips complete in 1 boxPiece Dimensions : 1.8 in. tall, 2.75 in. wide, 72 in. longPiece Weight : 2.75 lbs.Size and weight are approximate                                                                                                                                                                                                                                                                                                                                                                                                                                                                                                                                                                                                                                                                        1\n",
              "The non-slip surface of the pad creates high resistance to movement and keeps your rug firm in its place. The pad also acts as a protective layer preventing the rug from scratching your hard surface floor. This rug pad fits rugs up to 5 ft. x 8 ft. and can easily be trimmed with scissors to coordinate with the specific size and shape needed.Extra strong grip to hold rugs in placeAdds additional cushioning to your rugWashable in warm waterActual pad size 56 in. x 86 in.                                                                                                                                                                                                                                                                                                                                                                                                                                                                                                                                                                                                                                                                                                                                                                                                                                                                                                                                                                                                                                                                                                                                                                                                                                                                                                                                                              1\n",
              "The Nostalgia Electrics Vintage Collection Hot Air Popcorn Maker is a countertop sized, hot air, electric popper with a capacity of 3-1/2 oz. of kernels. The included measuring cap ensures the proper amount of kernels is poured into the top before the unit is turned on. A butter-melting pan is located on the top of the popper.Replica of the old fashioned, street corner popcorn stand of the early 1900'sMeasuring cap (included) assures the proper amount of kernels is poured in to the unit before starting1 oz. of kernels makes 3-1/2 oz. of popcornButter-melting pan located on top of popperCountertop size unit with minimal assembly requiredEasy to cleanETL listedHome Depot Protection Plan:                                                                                                                                                                                                                                                                                                                                                                                                                                                                                                                                                                                                                                                                                                                                                                                                                                                                                                                                                                                                                                                                                                                                 1\n",
              "Repair scratches, nicks and chips on your hardwood floor with help from the Medium Brown Wood Flooring Touch-Up Kit. This kit includes 1 container of urethane and dries in as little as little as 30 minutes. Squeeze filler into area and smooth with fingers or damp cloth. Fill areas greater than 1/4 in. in layers, allowing 4 hours drying time between applications. Clean-Up: Wipe off excess filler immediately using a clean white cloth dampened with warm water before material hardens. DO NOT rub so hard that the finish becomes polished. Keep from freezing. Hardened material may be removed with odorless mineral spirits after allowing the materials to soften for 5 minutes.California residents: see&nbsp;Proposition 65 informationFor repairing scratches and nicks on engineered or solid urethane hardwood flooringFor indoor useDries quickly in as little as 30 minutes (if using urethane)Includes 5 filler sticks, 2 touch-up markers, 1 container of urethane. 1 sanding pad, instruction sheet and 1 Armstrong information cardProtect your repair for long-lasting durability                                                                                                                                                                                                                                                                                                                                                                                                                                                                                                                                                                                                                                                                                                                                       1\n",
              "Insert the non-metallic conduit into the Carlon 1-1/4 in. PVC Box Adapter to allow it to enter an electrical enclosure. Product is inserted thru a knockout and secured using cementing into Carlon couplings. This adapter is UL and CSA listed for safety.Inserts through enclosure knockouts and cements to the coupling to provide a 1-1/4 in. trade sizePVC constructionCompatible for use with Sch. 40 or Sch. 80 PVC conduitsUL and CSA safety listings                                                                                                                                                                                                                                                                                                                                                                                                                                                                                                                                                                                                                                                                                                                                                                                                                                                                                                                                                                                                                                                                                                                                                                                                                                                                                                                                                                                         1\n",
              "Resort features durable die-cast aluminum housing with lovely lattice work encircling umber tinted glass. The frosted glass diffuser is a great option for both traditional light bulbs and newer energy efficient light sources. Open bottom design allows for easy access to change bulb.California residents: see&nbsp;Proposition 65 informationAged copper finishEtched umber glass6-1/2 in. W x 10-7/8 in. HUses (1) 100-Watt medium base bulb (not included)Home Depot Protection Plan:                                                                                                                                                                                                                                                                                                                                                                                                                                                                                                                                                                                                                                                                                                                                                                                                                                                                                                                                                                                                                                                                                                                                                                                                                                                                                                                                                         1\n",
              "This Cerrowire 24 ft. 16/2 Primary Wire is made of copper for a high level of conductivity in automotive and marine wiring systems. The wire features PVC insulation and is UV resistant for durability. UL listed.For use in outdoor automotive and marine applicationsRated up to 60-Volt24 ft. LPVC insulationNot intended for residential useUV resistant60-VoltNote: product may vary by store                                                                                                                                                                                                                                                                                                                                                                                                                                                                                                                                                                                                                                                                                                                                                                                                                                                                                                                                                                                                                                                                                                                                                                                                                                                                                                                                                                                                                                                    1\n",
              "The Araya collection brings a stylish floral pattern to your floor. Colors of mediterranean blue and winter white accent this contemporary area rug. Add this pattern to your room today.100% WoolUse of a rug pad is recommended (sold separately)Hand Woven in IndiaFlat PileNo manufacturer warrantyVacuum regularly and spot clean as needed                                                                                                                                                                                                                                                                                                                                                                                                                                                                                                                                                                                                                                                                                                                                                                                                                                                                                                                                                                                                                                                                                                                                                                                                                                                                                                                                                                                                                                                                                                       1\n",
              "The Bali Cut-to-Size Vinyl Roller Shade helps filter light while providing privacy. The lightweight vinyl shade can be washed for easy maintenance and can be trimmed to fit your windows. The cordless design helps provide easy operation and safety. The white shade has a smooth surface for a clean look.52.5 in. W x 72 in. LActual Blind Width is 52.5 in.No deductions are made to this blind - the actual width of this blind is the same as width orderedFor an Inside Mount, fits windows: 52.5 in. WideFor an Outside Mount, order the width of the overall area to be coveredCordless roller shades are ideal for homes with children or petsAvailable in classic white for a fresh lookTo correctly measure and mount your shades (either inside or outside the window frame) please consult the installation guideIf mounting the blind on the outside of the window opening (outside mount) you can order the next larger size, or a couple of sizes larger, to get additional overlap on the window if desiredNon-standard widths can be ordered online or Bali Cut-to-Size in the store (Note: Availability may vary by store)For directions on adjusting roller tension, please click on the installation guideNo valance includedMounting brackets are sold separatelyNot sure what size to buy? Click here to download a printable window treatment measuring guide!                                                                                                                                                                                                                                                                                                                                                                                                                                                              1\n",
              "Add comfort to your home with the SunTouch Floor Warming 4 ft. x 30 in. Radiant Floor-Warming Mat. This ultra-thin, low-profile system installs beneath tile, stone and even vinyl or laminate flooring. It's ideal for remodeling bathrooms and kitchens and offers a luxury option when designing new construction. It is energy efficient as well as inexpensive to operate. Dual wire technology reduces electromagnetic fields (EMF) to ultra-low levels and it is UL listed for safety. Detailed instructions are included so that even do-it-yourself home owners can install it.Install below ceramic or porcelain tile, stone or brick floors or in a self-leveling mortar bed below vinyl floors, floating wood and laminate floorFor indoor floor-warming use onlyOpen-weave construction for easy application of thin-set and mortar without compromising the bond of your floor covering to the sub-floorDual wire technology keeps EMF to ultra-low levelsUL listed for safetyEnergy efficient, inexpensive to operateArmored power lead wire straight to the electrical box, no conduit requiredSingle-point power connection to facilitate layout and wiringMats can be connected in parallel for larger floor surfacesCan be combined with a programmable thermostat control (not included)CLICK HERE to learn more about SunTouch and calculate what you will need for YOUR project!                                                                                                                                                                                                                                                                                                                                                                                                                                                 1\n",
              "The Everbilt 1-1/2 in. Antique Brass 5/8 in. Radius Security Door Hinge features a five knuckle full mortise design. The removable pin provides easier installation or removal of door. Easy to install.California residents: see&nbsp;Proposition 65 informationMade of steelAntique brass finishScrews includedPerfect for use on interior residential doorsRemovable pin provides easy installation or removal of a door                                                                                                                                                                                                                                                                                                                                                                                                                                                                                                                                                                                                                                                                                                                                                                                                                                                                                                                                                                                                                                                                                                                                                                                                                                                                                                                                                                                                                            1\n",
              "Enveloped in a Distressed Grey finish and accented with black birdcage-style hardware. This magnificent 72 in. vanity features 3 full-extension, dovetail drawers that provide ample storage space. Behind its 4 beautiful doors lies an even larger storage area that's perfect for stacks of towels and a wide array of bath, skincare and household items. Crafted only with durable woods and includes a black granite top with 2 white vitreous china bowls.72 in. W x 21-5/8 in. D x 34 in. H vanity provides a large amount of storage for any bathroomBlack stone top is hand-finished, sealed and pre-drilled to accommodate 8 in., wide spread faucet sets - faucet sold separately4 doors and 3 full-extension drawers provide access to abundant storageDecorative toe kick for a stylish touchSturdy construction with solid wood, natural wood veneers and clean, low-emission engineered woodDecorative transitional-style vanity gives your bath a clean and elegant feelDrawers provide exceptional storage utility for all of your bathroom necessitiesDistressed grey finish creates a stylish appearanceAntique black birdcage-style hardware and concealed hinges create a sleek, clean lookFully-assembled for quick and easy installationDovetail drawer construction provides stronger joints1 optional side splash and 1 back splash provide a custom finished lookFaucet not included1 year limited warrantyTop will need to be attached by customer                                                                                                                                                                                                                                                                                                                                                                         1\n",
              "The Master Piece Patio 71-1/4 in. x 79-1/2 in. Composite White Right-Hand Sliding Patio Door has LowE tempered glass and weather-stripping for insulation. It is made of durable, waterproof and weather-resistant composite material that won't rot, crack or rust. Stainless-steel rollers and track, a satin-nickel handle and a keyed lock and auxiliary bolt are included. This door offers a traditional look with a lifetime of energy efficiency and performance.100% Composite waterproof material will not rust, dent, rot, split or warpAdjustable stainless-steel rollers and track allow for easy opening and closing1-3/4 in. Thickness with a smooth, paintable surfaceTempered, high-performance LowE with 10 Lite grilles between the glassKeyed lock and flush-bolt auxiliary lock for security and ventilationPre-installed satin-nickel handleEnergy Star qualified for savingsLifetime warranty                                                                                                                                                                                                                                                                                                                                                                                                                                                                                                                                                                                                                                                                                                                                                                                                                                                                                                                                   1\n",
              "Pop healthier popcorn with hot air. The Cuisinart Easy Pop Hot Air Popcorn Maker is exceptionally Easy-to-use. Kernels go into a popping chamber-no oil is required-and hot air sends up to 10 cups of popcorn up and out the chute right into a waiting bowl. And it all happens in less than 3 minutes.Makes up to ten-cups of popcorn in under 3 minutes1500-Watt of powerOn/off switchRemovable chute and butter warming trayAll removable parts are dishwasher safeCord storageBPA freeAlso available in red or whiteHome Depot Protection Plan:                                                                                                                                                                                                                                                                                                                                                                                                                                                                                                                                                                                                                                                                                                                                                                                                                                                                                                                                                                                                                                                                                                                                                                                                                                                                                                  1\n",
              "Bali Cut-to-Size Blackout Vinyl Blinds feature opaque slats and privacy route holes for added privacy and light control. Easy to clean, durable, and economical, these moisture resistant blinds are also ideal for bathrooms and kitchens. A great solution for windows of many sizes, they can be easily shortened to your desired length. Available in black.35 in. W x 72 in. L (Note: Actual blind width is 34.5 in. to allow 0.5 in. for mounting hardware)Actual Blind Width is 34.5 in.NOTE: This blind is 0.5 in. (1.27 cm) narrower than the order size (or the size shown on the box)For an Inside Mount, fits windows: 35 in. WideFor an Outside Mount, order 0.5 in. wider than the overall area to be covered1 in. blackout slats offer privacy while blocking light - great for bedrooms and media roomsFeatures a 1 in. x 1.5 in. metal head rail, color coordinated to match the blindsComes with a wand tilt to easily adjust the slats and cord controls to raise or lower the blindsFor most complete closure, adjust slats to tilt downwardBlackout slats block light; however, all horizontal blinds will have some light gapsConsider Bali Cut-to-Size blackout cellular or 12 mil vinyl roller shades for maximum light controlWashable and easy to maintainAvailable in black for a sleek, modern lookBali Cut-to-Size blinds are available online or same-day in stores (Note: Availability may vary by store)Not sure what size to buy? Click here to download a printable window treatment measuring guide!WARNING: The cords on this product present a potential strangulation hazard. For child and pet safety, consider cordless alternatives or products with inaccessible cords. To access a copy of the warning label, see additional images.Learn more about child and pet safety.                                  1\n",
              "This decorative 36 in. tall by 24 in. square column has a very natural, cultured stone appeal that is easily assembled by a do-it-yourselfer. The 6 in. by 16 in. decorative blocks require no mortar and the kit includes a naturally textured 26 in. top cap to finish the column.No cutting neededColumn can be put together in minutesPerfect for fence posts, entries, courtyards, mailboxes, deck supports and moreAn interior 8 in. x 8 in. pocket can allow for beams, conduits, hoses, etc                                                                                                                                                                                                                                                                                                                                                                                                                                                                                                                                                                                                                                                                                                                                                                                                                                                                                                                                                                                                                                                                                                                                                                                                                                                                                                                                                    1\n",
              "The Slant/Fin 3 ft. Hydronic Baseboard is durable. This baseboard is sure to harmonize with almost any decor. The baked enamel finish serves as an ideal base for either paint or wallpaper.Covers a baseboard heat pipeBaked enamel, nu-white finish is sure to match almost any home decorBaked enamel finish serves as an ideal base for paint or wallpaperDurableNOTE: end caps are sold separately - Fine/Line 30 3-3/4 in. right-hand end cap for baseboard heaters model # 101-405 - Fine/Line 30 3-3/4 in. left-hand end cap for baseboard heaters model # 101-404Note: Product may vary by store.                                                                                                                                                                                                                                                                                                                                                                                                                                                                                                                                                                                                                                                                                                                                                                                                                                                                                                                                                                                                                                                                                                                                                                                                                                             1\n",
              "Name: label, Length: 51962, dtype: int64"
            ]
          },
          "metadata": {
            "tags": []
          },
          "execution_count": 14
        }
      ]
    },
    {
      "metadata": {
        "id": "_SXRszhllc-E",
        "colab_type": "text"
      },
      "cell_type": "markdown",
      "source": [
        "## Preprocessing\n",
        "\n",
        "Tokenization\n",
        "\n",
        "Remove StopWords\n",
        "Detokenization"
      ]
    },
    {
      "metadata": {
        "id": "THgv8hHrC8wD",
        "colab_type": "code",
        "colab": {}
      },
      "cell_type": "code",
      "source": [
        "#df['text'] = df['text'].str.replace(\"[^a-zA-Z]\", \" \")\n",
        "\n",
        "#import nltk\n",
        "#nltk.download('stopwords')\n",
        "\n",
        "#from nltk.corpus import stopwords \n",
        "#stop_words = stopwords.words('english') \n",
        "\n",
        "# tokenization \n",
        "#tokenized_doc = df['text'].apply(lambda x: x.split())\n",
        "\n",
        "# remove stop-words \n",
        "#tokenized_doc = tokenized_doc.apply(lambda x: [item for item in x if item not in stop_words]) \n",
        "\n",
        "# de-tokenization \n",
        "#detokenized_doc = [] \n",
        "#for i in range(len(df)): \n",
        "#    t = ' '.join(tokenized_doc[i]) \n",
        "#    detokenized_doc.append(t) \n",
        "#df['text'] = detokenized_doc"
      ],
      "execution_count": 0,
      "outputs": []
    },
    {
      "metadata": {
        "id": "OEmYomXVcz1p",
        "colab_type": "text"
      },
      "cell_type": "markdown",
      "source": [
        "With all the preprocessing\n",
        "\n",
        "Total time: 1:33:54\n",
        "\n",
        "epoch\ttrain_loss\tvalid_loss\taccuracy\n",
        "\n",
        "1\t4.754789\t4.648754\t0.211260\n",
        "\n",
        "2\t4.666183\t4.557329\t0.219218\n",
        "\n",
        "3\t4.524086\t4.437946\t0.229403\n",
        "\n",
        "4\t4.361761\t4.323431\t0.239714\n",
        "\n",
        "5\t4.235765\t4.290059\t0.243043\n",
        "\n",
        "We could achieve only 24% accuracy while when we moved to pure FASTAI processing then we achieved the accuracy of the Language Model to be starting with almost 30% and hence strengthened the beliefs in the capability of FASTAI.\n"
      ]
    },
    {
      "metadata": {
        "id": "MK_i0X2kD6AC",
        "colab_type": "code",
        "colab": {}
      },
      "cell_type": "code",
      "source": [
        "from sklearn.model_selection import train_test_split\n",
        "\n",
        "# split data into training and validation set\n",
        "df_trn, df_val = train_test_split(df, test_size = 0.25, random_state = 12)"
      ],
      "execution_count": 0,
      "outputs": []
    },
    {
      "metadata": {
        "id": "IYEFCrJOEHSG",
        "colab_type": "code",
        "outputId": "afc8a3a9-2139-4b7c-c053-2ae1b79f0753",
        "colab": {
          "base_uri": "https://localhost:8080/",
          "height": 34
        }
      },
      "cell_type": "code",
      "source": [
        "df_trn.shape, df_val.shape"
      ],
      "execution_count": 0,
      "outputs": [
        {
          "output_type": "execute_result",
          "data": {
            "text/plain": [
              "((38971, 2), (12991, 2))"
            ]
          },
          "metadata": {
            "tags": []
          },
          "execution_count": 18
        }
      ]
    },
    {
      "metadata": {
        "id": "xvvFWWM4ljoH",
        "colab_type": "text"
      },
      "cell_type": "markdown",
      "source": [
        "## Data Preparation\n",
        "\n",
        "### Language model data\n",
        "for learning the Language semantics\n",
        "\n",
        "### Classifier model data\n",
        "for learning the classification Task on text data\n",
        "\n",
        "**text.learner contains helper functions to quickly create a language model or an RNN classifier**\n"
      ]
    },
    {
      "metadata": {
        "id": "7tNP_aMTEOKe",
        "colab_type": "code",
        "colab": {}
      },
      "cell_type": "code",
      "source": [
        "# Language model data\n",
        "data_lm = TextLMDataBunch.from_df(train_df = df_trn, valid_df = df_val,path = \"\")"
      ],
      "execution_count": 0,
      "outputs": []
    },
    {
      "metadata": {
        "id": "zyThOv56Ihyd",
        "colab_type": "code",
        "outputId": "e744a40e-c595-4a9c-8d35-843119c3649a",
        "colab": {
          "base_uri": "https://localhost:8080/",
          "height": 105
        }
      },
      "cell_type": "code",
      "source": [
        "# Classifier model data\n",
        "data_clas = TextClasDataBunch.from_df(path = \"\", train_df = df_trn, valid_df = df_val,vocab=data_lm.train_ds.vocab, bs=48)"
      ],
      "execution_count": 0,
      "outputs": [
        {
          "output_type": "stream",
          "text": [
            "/usr/local/lib/python3.6/dist-packages/fastai/data_block.py:475: UserWarning: You are labelling your items with CategoryList.\n",
            "Your valid set contained the folowing unknown labels, the corresponding items have been discarded.\n",
            "The Slant/Fin 3 ft. Hydronic Baseboard is durable. This baseboard is sure to harmonize with almost any decor. The baked enamel finish serves as an ideal base for either paint or wallpaper.Covers a baseboard heat pipeBaked enamel, nu-white finish is sure to match almost any home decorBaked enamel finish serves as an ideal base for paint or wallpaperDurableNOTE: end caps are sold separately - Fine/Line 30 3-3/4 in. right-hand end cap for baseboard heaters model # 101-405 - Fine/Line 30 3-3/4 in. left-hand end cap for baseboard heaters model # 101-404Note: Product may vary by store., This cordless chainsaw with extension pole from the WORX gives you a versatile tool. With the added extension pole, the WORX JawSaw can prune branches up to 11 ft. It is lightweight, portable and safe. The 20-volt MAX lithium battery technology resists self-discharge for much longer periods of time and it has the ability to perform a quick partial charge without worrying about memory effect damaging your battery. Auto-tensioning guarantees optimum tension on the chain, along with an automatic oiler with level indicator to keep chain maintenance and performance at its peak. The enclosed bar and chain not only is safer, but it limits dangerous kickback allowing for cuts to be made directly on the ground without propping. The cordless WORX JawSaw is the perfect chainsaw for cutting up kindling wood, camping and around the house pruning or debris clean up.Cut branches up to 3.5 in. in diameter20-Volt MAX lithium battery poweredPrune higher limbs with the extension pole attachment and reach up to 11 ft.Auto-tension feature guarantees optimum tensionAutomatic chain oiler with oil level indicatorBlade housing allow for safe cuts on the groundHome Depot Protection Plan:, Portico's classic latticework pattern offers purity of design and traditional sophistication in an elegant rug. The open work grid in a neutral tone accentuates the richly pigmented colors of this attractive and versatile collection. Power-loomed with Nourison's proprietary technology, the dense tufted pile has UV protection that locks in the color, making it an ideal choice for easy living and lasting beauty.100% PolyesterPremium rug gripper is recommended to extend the life of the rug and prevent shifting (not included)Hand Tufted in ChinaUV protected, mildew proof, water repellent, naturally stain resistant and fade resistant for a long-lasting attractive appearanceEasy to clean; just rinse with a hoseEasy care and exceptional durabilityPlease Note: The digital images and product dimensions on our website are as accurate as possible. Due to differences in computer monitors, some rug colors may vary slightly. Lengths and widths may vary from the published dimensions. We do our best to provide you with an exact measurement, but please be advised that some variation exists. Patterns may vary slightly according to shape and size selected.1-year manufacturer warranty, The H170 20 x 20 is a 20 in. x 20 in. return air grille used for sidewall or ceiling openings. Our product is constructed to ensure maximum airflow and compliment your home decor. Using our return air grille to outfit your ventilation system will improve your home air circulation.Allows air to flow freely between your ventilation system and a roomMade of high quality steelWhite powder coat finish50 degree angled to provide maximum airflow, The pronounced curves of the Ashville Towel Bar provide a dose of excitement while maintaining an alluring sense of sophistication. With ample length to dry or display a pair of towels, this item can be a key focal point in the bath. Its length creates a useful space that helps carry the design motif through the bath. This innovative Spot Resist finish resists fingerprints and water spots to maintain the brilliance of the original finish and easily wipes cleans.5/8 in. Dia round barSpot resist brushed nickel resists fingerprints and water spotsCoordinates with MOEN Ashville bath accessoriesMounting hardware and template included for easy installation...\n",
            "  if getattr(ds, 'warn', False): warn(ds.warn)\n"
          ],
          "name": "stderr"
        }
      ]
    },
    {
      "metadata": {
        "id": "LoQ60UxB49E-",
        "colab_type": "text"
      },
      "cell_type": "markdown",
      "source": [
        "This does all the necessary preprocessing behing the scene. For the classifier, we also pass the vocabulary (mapping from ids to words) that we want to use: this is to ensure that data_clas will use the same dictionary as data_lm.\n",
        "\n"
      ]
    },
    {
      "metadata": {
        "id": "8Ua8pmHEEP5N",
        "colab_type": "code",
        "colab": {}
      },
      "cell_type": "code",
      "source": [
        "#Fine-tuning a language model\n",
        "#We can use the data_lm object we created earlier to fine-tune a pretrained language model.\n",
        "#fast.ai has an English model available that we can download. \n",
        "#We can create a learner object that will directly create a model, \n",
        "#download the pretrained weights and be ready for fine-tuning.\n",
        "learn = language_model_learner(data_lm, pretrained_model=URLs.WT103, drop_mult=0.7)"
      ],
      "execution_count": 0,
      "outputs": []
    },
    {
      "metadata": {
        "id": "YE3likAPETlz",
        "colab_type": "code",
        "outputId": "a90b79af-cd56-4d9c-e5f0-1eb088b5e19a",
        "colab": {
          "base_uri": "https://localhost:8080/",
          "height": 136
        }
      },
      "cell_type": "code",
      "source": [
        "# train the learner object\n",
        "learn.fit_one_cycle(3, 1e-2) #18.7"
      ],
      "execution_count": 0,
      "outputs": [
        {
          "output_type": "display_data",
          "data": {
            "text/html": [
              "Total time: 00:42 <p><table style='width:300px; margin-bottom:10px'>\n",
              "  <tr>\n",
              "    <th>epoch</th>\n",
              "    <th>train_loss</th>\n",
              "    <th>valid_loss</th>\n",
              "    <th>accuracy</th>\n",
              "  </tr>\n",
              "  <tr>\n",
              "    <th>1</th>\n",
              "    <th>3.997672</th>\n",
              "    <th>1.892872</th>\n",
              "    <th>0.334077</th>\n",
              "  </tr>\n",
              "  <tr>\n",
              "    <th>2</th>\n",
              "    <th>2.903372</th>\n",
              "    <th>0.949111</th>\n",
              "    <th>0.549963</th>\n",
              "  </tr>\n",
              "  <tr>\n",
              "    <th>3</th>\n",
              "    <th>2.266649</th>\n",
              "    <th>0.928700</th>\n",
              "    <th>0.542894</th>\n",
              "  </tr>\n",
              "</table>\n"
            ],
            "text/plain": [
              "<IPython.core.display.HTML object>"
            ]
          },
          "metadata": {
            "tags": []
          }
        }
      ]
    },
    {
      "metadata": {
        "id": "jgX7HR2nd-bp",
        "colab_type": "code",
        "colab": {}
      },
      "cell_type": "code",
      "source": [
        "learn.save_encoder('ft_enc51')"
      ],
      "execution_count": 0,
      "outputs": []
    },
    {
      "metadata": {
        "id": "w3eJMLWDKb9u",
        "colab_type": "code",
        "outputId": "f70dfb68-88f6-420a-c349-47b894653bc9",
        "colab": {
          "base_uri": "https://localhost:8080/",
          "height": 212
        }
      },
      "cell_type": "code",
      "source": [
        "learn.lr_find()"
      ],
      "execution_count": 0,
      "outputs": [
        {
          "output_type": "display_data",
          "data": {
            "text/html": [
              "\n",
              "    <div>\n",
              "        <style>\n",
              "            /* Turns off some styling */\n",
              "            progress {\n",
              "                /* gets rid of default border in Firefox and Opera. */\n",
              "                border: none;\n",
              "                /* Needs to be in here for Safari polyfill so background images work as expected. */\n",
              "                background-size: auto;\n",
              "            }\n",
              "            .progress-bar-interrupted, .progress-bar-interrupted::-webkit-progress-bar {\n",
              "                background: #F44336;\n",
              "            }\n",
              "        </style>\n",
              "      <progress value='5' class='' max='6', style='width:300px; height:20px; vertical-align: middle;'></progress>\n",
              "      83.33% [5/6 01:01<00:12]\n",
              "    </div>\n",
              "    \n",
              "<table style='width:300px; margin-bottom:10px'>\n",
              "  <tr>\n",
              "    <th>epoch</th>\n",
              "    <th>train_loss</th>\n",
              "    <th>valid_loss</th>\n",
              "    <th>accuracy</th>\n",
              "  </tr>\n",
              "  <tr>\n",
              "    <th>1</th>\n",
              "    <th>1.452362</th>\n",
              "  </tr>\n",
              "  <tr>\n",
              "    <th>2</th>\n",
              "    <th>1.410090</th>\n",
              "  </tr>\n",
              "  <tr>\n",
              "    <th>3</th>\n",
              "    <th>1.403814</th>\n",
              "  </tr>\n",
              "  <tr>\n",
              "    <th>4</th>\n",
              "    <th>1.279976</th>\n",
              "  </tr>\n",
              "  <tr>\n",
              "    <th>5</th>\n",
              "    <th>1.055418</th>\n",
              "  </tr>\n",
              "</table>\n",
              "\n",
              "\n",
              "    <div>\n",
              "        <style>\n",
              "            /* Turns off some styling */\n",
              "            progress {\n",
              "                /* gets rid of default border in Firefox and Opera. */\n",
              "                border: none;\n",
              "                /* Needs to be in here for Safari polyfill so background images work as expected. */\n",
              "                background-size: auto;\n",
              "            }\n",
              "            .progress-bar-interrupted, .progress-bar-interrupted::-webkit-progress-bar {\n",
              "                background: #F44336;\n",
              "            }\n",
              "        </style>\n",
              "      <progress value='0' class='progress-bar-interrupted' max='18', style='width:300px; height:20px; vertical-align: middle;'></progress>\n",
              "      Interrupted\n",
              "    </div>\n",
              "    "
            ],
            "text/plain": [
              "<IPython.core.display.HTML object>"
            ]
          },
          "metadata": {
            "tags": []
          }
        },
        {
          "output_type": "stream",
          "text": [
            "LR Finder is complete, type {learner_name}.recorder.plot() to see the graph.\n"
          ],
          "name": "stdout"
        }
      ]
    },
    {
      "metadata": {
        "id": "81fA6MpQKpJw",
        "colab_type": "code",
        "outputId": "c39548ba-a78a-4fa3-e066-a514fb4a5c62",
        "colab": {
          "base_uri": "https://localhost:8080/",
          "height": 361
        }
      },
      "cell_type": "code",
      "source": [
        "learn.recorder.plot()"
      ],
      "execution_count": 0,
      "outputs": [
        {
          "output_type": "display_data",
          "data": {
            "image/png": "[encoded data removed]",
            "text/plain": [
              "<Figure size 576x396 with 1 Axes>"
            ]
          },
          "metadata": {
            "tags": []
          }
        }
      ]
    },
    {
      "metadata": {
        "id": "kyhe5vKNbL07",
        "colab_type": "code",
        "outputId": "91aa4162-f42e-48b5-8c5c-80bc8b92d044",
        "colab": {
          "base_uri": "https://localhost:8080/",
          "height": 115
        }
      },
      "cell_type": "code",
      "source": [
        "learn.unfreeze()\n",
        "learn.fit_one_cycle(2, 1e-2) # accuracy 36.48%"
      ],
      "execution_count": 0,
      "outputs": [
        {
          "output_type": "display_data",
          "data": {
            "text/html": [
              "Total time: 00:34 <p><table style='width:300px; margin-bottom:10px'>\n",
              "  <tr>\n",
              "    <th>epoch</th>\n",
              "    <th>train_loss</th>\n",
              "    <th>valid_loss</th>\n",
              "    <th>accuracy</th>\n",
              "  </tr>\n",
              "  <tr>\n",
              "    <th>1</th>\n",
              "    <th>0.250473</th>\n",
              "    <th>0.028616</th>\n",
              "    <th>0.995870</th>\n",
              "  </tr>\n",
              "  <tr>\n",
              "    <th>2</th>\n",
              "    <th>0.118651</th>\n",
              "    <th>0.026444</th>\n",
              "    <th>0.996428</th>\n",
              "  </tr>\n",
              "</table>\n"
            ],
            "text/plain": [
              "<IPython.core.display.HTML object>"
            ]
          },
          "metadata": {
            "tags": []
          }
        }
      ]
    },
    {
      "metadata": {
        "id": "xGxOnOPzSqVl",
        "colab_type": "text"
      },
      "cell_type": "markdown",
      "source": [
        "Total time: 1:15:38\n",
        "\n",
        "epoch\ttrain_loss\tvalid_loss\taccuracy\n",
        "\n",
        "1\t3.366866\t3.224195\t0.341396\n",
        "\n",
        "2\t3.138331\t3.036599\t0.364828\n"
      ]
    },
    {
      "metadata": {
        "id": "x7fO0cuVET8W",
        "colab_type": "code",
        "colab": {}
      },
      "cell_type": "code",
      "source": [
        "learn.save_encoder('ft_enc52')\n",
        "#this times out, so fit one cycle 5+5 instead of 10 so we store encoder as well after 5 steps"
      ],
      "execution_count": 0,
      "outputs": []
    },
    {
      "metadata": {
        "id": "i4JsIq9evh54",
        "colab_type": "code",
        "outputId": "ba2fb689-da1b-4cb9-e9aa-5a43aa6f8604",
        "colab": {
          "base_uri": "https://localhost:8080/",
          "height": 115
        }
      },
      "cell_type": "code",
      "source": [
        "\n",
        "learn.fit_one_cycle(2, 1e-2) \n",
        "learn.save_encoder('ft_enc53')# accuracy 37.1%\n",
        "#Finally we save the encoder to be able to use it for classification in the next section."
      ],
      "execution_count": 0,
      "outputs": [
        {
          "output_type": "display_data",
          "data": {
            "text/html": [
              "Total time: 00:34 <p><table style='width:300px; margin-bottom:10px'>\n",
              "  <tr>\n",
              "    <th>epoch</th>\n",
              "    <th>train_loss</th>\n",
              "    <th>valid_loss</th>\n",
              "    <th>accuracy</th>\n",
              "  </tr>\n",
              "  <tr>\n",
              "    <th>1</th>\n",
              "    <th>0.060634</th>\n",
              "    <th>0.027076</th>\n",
              "    <th>0.995647</th>\n",
              "  </tr>\n",
              "  <tr>\n",
              "    <th>2</th>\n",
              "    <th>0.039036</th>\n",
              "    <th>0.027356</th>\n",
              "    <th>0.996205</th>\n",
              "  </tr>\n",
              "</table>\n"
            ],
            "text/plain": [
              "<IPython.core.display.HTML object>"
            ]
          },
          "metadata": {
            "tags": []
          }
        }
      ]
    },
    {
      "metadata": {
        "id": "cmG8OZlujjo5",
        "colab_type": "text"
      },
      "cell_type": "markdown",
      "source": [
        "Total time: 1:15:29\n",
        "\n",
        "epoch\ttrain_loss\tvalid_loss\taccuracy\n",
        "\n",
        "1\t3.280402\t3.137232\t0.350499\n",
        "\n",
        "2\t3.079993\t2.984949\t0.371016\n"
      ]
    },
    {
      "metadata": {
        "id": "o1aZ0R1Tba1s",
        "colab_type": "code",
        "outputId": "8bca0833-1b45-42ba-fe25-b1832fa72c74",
        "colab": {
          "base_uri": "https://localhost:8080/",
          "height": 34
        }
      },
      "cell_type": "code",
      "source": [
        "learn.predict(\"This is a review about\", n_words=15)"
      ],
      "execution_count": 0,
      "outputs": [
        {
          "output_type": "execute_result",
          "data": {
            "text/plain": [
              "'This is a review about xxbos 7 xxrep 4 0 1 xxbos 8 xxrep 4 2 xxbos 1 xxrep 4'"
            ]
          },
          "metadata": {
            "tags": []
          },
          "execution_count": 29
        }
      ]
    },
    {
      "metadata": {
        "id": "RTEY6pBu6Koh",
        "colab_type": "text"
      },
      "cell_type": "markdown",
      "source": [
        "##Building a classifier\n",
        "We now use the data_clas object we created earlier to build a classifier with our fine-tuned encoder. The learner object can be done in a single line.\n",
        "\n"
      ]
    },
    {
      "metadata": {
        "id": "1VaunwDAMmLV",
        "colab_type": "code",
        "outputId": "f2183bc9-07cc-4a47-882e-875e206a4e89",
        "colab": {
          "base_uri": "https://localhost:8080/",
          "height": 451
        }
      },
      "cell_type": "code",
      "source": [
        "learn.lr_find()\n",
        "learn.recorder.plot()"
      ],
      "execution_count": 0,
      "outputs": [
        {
          "output_type": "display_data",
          "data": {
            "text/html": [
              "\n",
              "    <div>\n",
              "        <style>\n",
              "            /* Turns off some styling */\n",
              "            progress {\n",
              "                /* gets rid of default border in Firefox and Opera. */\n",
              "                border: none;\n",
              "                /* Needs to be in here for Safari polyfill so background images work as expected. */\n",
              "                background-size: auto;\n",
              "            }\n",
              "            .progress-bar-interrupted, .progress-bar-interrupted::-webkit-progress-bar {\n",
              "                background: #F44336;\n",
              "            }\n",
              "        </style>\n",
              "      <progress value='0' class='' max='1', style='width:300px; height:20px; vertical-align: middle;'></progress>\n",
              "      0.00% [0/1 00:00<00:00]\n",
              "    </div>\n",
              "    \n",
              "<table style='width:300px; margin-bottom:10px'>\n",
              "  <tr>\n",
              "    <th>epoch</th>\n",
              "    <th>train_loss</th>\n",
              "    <th>valid_loss</th>\n",
              "    <th>accuracy</th>\n",
              "  </tr>\n",
              "</table>\n",
              "\n",
              "\n",
              "    <div>\n",
              "        <style>\n",
              "            /* Turns off some styling */\n",
              "            progress {\n",
              "                /* gets rid of default border in Firefox and Opera. */\n",
              "                border: none;\n",
              "                /* Needs to be in here for Safari polyfill so background images work as expected. */\n",
              "                background-size: auto;\n",
              "            }\n",
              "            .progress-bar-interrupted, .progress-bar-interrupted::-webkit-progress-bar {\n",
              "                background: #F44336;\n",
              "            }\n",
              "        </style>\n",
              "      <progress value='0' class='progress-bar-interrupted' max='1623', style='width:300px; height:20px; vertical-align: middle;'></progress>\n",
              "      Interrupted\n",
              "    </div>\n",
              "    "
            ],
            "text/plain": [
              "<IPython.core.display.HTML object>"
            ]
          },
          "metadata": {
            "tags": []
          }
        },
        {
          "output_type": "stream",
          "text": [
            "LR Finder is complete, type {learner_name}.recorder.plot() to see the graph.\n"
          ],
          "name": "stdout"
        },
        {
          "output_type": "display_data",
          "data": {
            "image/png": "[encoded data removed]",
            "text/plain": [
              "<Figure size 576x396 with 1 Axes>"
            ]
          },
          "metadata": {
            "tags": []
          }
        }
      ]
    },
    {
      "metadata": {
        "id": "6f9f97cbwTCy",
        "colab_type": "code",
        "colab": {}
      },
      "cell_type": "code",
      "source": [
        "#load the encoder models in models folder\n",
        "#!mkdir models\n",
        "#!mv ft_enc53.pth models/\n",
        "#!mv tmp.pth models/"
      ],
      "execution_count": 0,
      "outputs": []
    },
    {
      "metadata": {
        "id": "uSkXI7HJET_r",
        "colab_type": "code",
        "colab": {}
      },
      "cell_type": "code",
      "source": [
        "learn = text_classifier_learner(data_clas, drop_mult=0.7)\n",
        "learn.load_encoder('ft_enc53')"
      ],
      "execution_count": 0,
      "outputs": []
    },
    {
      "metadata": {
        "id": "s7GTTw1GMl2F",
        "colab_type": "code",
        "outputId": "7a41907c-96b4-48f2-d354-c45ef9f1e187",
        "colab": {
          "base_uri": "https://localhost:8080/",
          "height": 94
        }
      },
      "cell_type": "code",
      "source": [
        "learn.fit_one_cycle(1, 1e-2)"
      ],
      "execution_count": 0,
      "outputs": [
        {
          "output_type": "display_data",
          "data": {
            "text/html": [
              "Total time: 02:13 <p><table style='width:300px; margin-bottom:10px'>\n",
              "  <tr>\n",
              "    <th>epoch</th>\n",
              "    <th>train_loss</th>\n",
              "    <th>valid_loss</th>\n",
              "    <th>accuracy</th>\n",
              "  </tr>\n",
              "  <tr>\n",
              "    <th>1</th>\n",
              "    <th>12.738466</th>\n",
              "  </tr>\n",
              "</table>\n"
            ],
            "text/plain": [
              "<IPython.core.display.HTML object>"
            ]
          },
          "metadata": {
            "tags": []
          }
        }
      ]
    },
    {
      "metadata": {
        "id": "8fFFHwh4bhSH",
        "colab_type": "code",
        "outputId": "d97edad4-a342-4bff-dc74-a1c23d4356f8",
        "colab": {
          "base_uri": "https://localhost:8080/",
          "height": 439
        }
      },
      "cell_type": "code",
      "source": [
        "learn.freeze_to(-2)\n",
        "learn.fit_one_cycle(1, slice(5e-3/2., 5e-3))\n"
      ],
      "execution_count": 0,
      "outputs": [
        {
          "output_type": "error",
          "ename": "RuntimeError",
          "evalue": "ignored",
          "traceback": [
            "\u001b[0;31m---------------------------------------------------------------------------\u001b[0m",
            "\u001b[0;31mRuntimeError\u001b[0m                              Traceback (most recent call last)",
            "\u001b[0;32m<ipython-input-42-cd01762f8fa6>\u001b[0m in \u001b[0;36m<module>\u001b[0;34m()\u001b[0m\n\u001b[0;32m----> 1\u001b[0;31m \u001b[0mlearn\u001b[0m\u001b[0;34m.\u001b[0m\u001b[0mfreeze_to\u001b[0m\u001b[0;34m(\u001b[0m\u001b[0;34m-\u001b[0m\u001b[0;36m2\u001b[0m\u001b[0;34m)\u001b[0m\u001b[0;34m\u001b[0m\u001b[0;34m\u001b[0m\u001b[0m\n\u001b[0m\u001b[1;32m      2\u001b[0m \u001b[0mlearn\u001b[0m\u001b[0;34m.\u001b[0m\u001b[0mfit_one_cycle\u001b[0m\u001b[0;34m(\u001b[0m\u001b[0;36m1\u001b[0m\u001b[0;34m,\u001b[0m \u001b[0mslice\u001b[0m\u001b[0;34m(\u001b[0m\u001b[0;36m5e-3\u001b[0m\u001b[0;34m/\u001b[0m\u001b[0;36m2.\u001b[0m\u001b[0;34m,\u001b[0m \u001b[0;36m5e-3\u001b[0m\u001b[0;34m)\u001b[0m\u001b[0;34m)\u001b[0m\u001b[0;34m\u001b[0m\u001b[0;34m\u001b[0m\u001b[0m\n",
            "\u001b[0;32m/usr/local/lib/python3.6/dist-packages/fastai/basic_train.py\u001b[0m in \u001b[0;36mfreeze_to\u001b[0;34m(self, n)\u001b[0m\n\u001b[1;32m    191\u001b[0m         \u001b[0;32mfor\u001b[0m \u001b[0mg\u001b[0m \u001b[0;32min\u001b[0m \u001b[0mself\u001b[0m\u001b[0;34m.\u001b[0m\u001b[0mlayer_groups\u001b[0m\u001b[0;34m[\u001b[0m\u001b[0;34m:\u001b[0m\u001b[0mn\u001b[0m\u001b[0;34m]\u001b[0m\u001b[0;34m:\u001b[0m\u001b[0;34m\u001b[0m\u001b[0;34m\u001b[0m\u001b[0m\n\u001b[1;32m    192\u001b[0m             \u001b[0;32mfor\u001b[0m \u001b[0ml\u001b[0m \u001b[0;32min\u001b[0m \u001b[0mg\u001b[0m\u001b[0;34m:\u001b[0m\u001b[0;34m\u001b[0m\u001b[0;34m\u001b[0m\u001b[0m\n\u001b[0;32m--> 193\u001b[0;31m                 \u001b[0;32mif\u001b[0m \u001b[0;32mnot\u001b[0m \u001b[0mself\u001b[0m\u001b[0;34m.\u001b[0m\u001b[0mtrain_bn\u001b[0m \u001b[0;32mor\u001b[0m \u001b[0;32mnot\u001b[0m \u001b[0misinstance\u001b[0m\u001b[0;34m(\u001b[0m\u001b[0ml\u001b[0m\u001b[0;34m,\u001b[0m \u001b[0mbn_types\u001b[0m\u001b[0;34m)\u001b[0m\u001b[0;34m:\u001b[0m \u001b[0mrequires_grad\u001b[0m\u001b[0;34m(\u001b[0m\u001b[0ml\u001b[0m\u001b[0;34m,\u001b[0m \u001b[0;32mFalse\u001b[0m\u001b[0;34m)\u001b[0m\u001b[0;34m\u001b[0m\u001b[0;34m\u001b[0m\u001b[0m\n\u001b[0m\u001b[1;32m    194\u001b[0m         \u001b[0;32mfor\u001b[0m \u001b[0mg\u001b[0m \u001b[0;32min\u001b[0m \u001b[0mself\u001b[0m\u001b[0;34m.\u001b[0m\u001b[0mlayer_groups\u001b[0m\u001b[0;34m[\u001b[0m\u001b[0mn\u001b[0m\u001b[0;34m:\u001b[0m\u001b[0;34m]\u001b[0m\u001b[0;34m:\u001b[0m \u001b[0mrequires_grad\u001b[0m\u001b[0;34m(\u001b[0m\u001b[0mg\u001b[0m\u001b[0;34m,\u001b[0m \u001b[0;32mTrue\u001b[0m\u001b[0;34m)\u001b[0m\u001b[0;34m\u001b[0m\u001b[0;34m\u001b[0m\u001b[0m\n\u001b[1;32m    195\u001b[0m         \u001b[0mself\u001b[0m\u001b[0;34m.\u001b[0m\u001b[0mcreate_opt\u001b[0m\u001b[0;34m(\u001b[0m\u001b[0mdefaults\u001b[0m\u001b[0;34m.\u001b[0m\u001b[0mlr\u001b[0m\u001b[0;34m)\u001b[0m\u001b[0;34m\u001b[0m\u001b[0;34m\u001b[0m\u001b[0m\n",
            "\u001b[0;32m/usr/local/lib/python3.6/dist-packages/fastai/torch_core.py\u001b[0m in \u001b[0;36mrequires_grad\u001b[0;34m(m, b)\u001b[0m\n\u001b[1;32m    115\u001b[0m     \u001b[0;32mif\u001b[0m \u001b[0;32mnot\u001b[0m \u001b[0mps\u001b[0m\u001b[0;34m:\u001b[0m \u001b[0;32mreturn\u001b[0m \u001b[0;32mNone\u001b[0m\u001b[0;34m\u001b[0m\u001b[0;34m\u001b[0m\u001b[0m\n\u001b[1;32m    116\u001b[0m     \u001b[0;32mif\u001b[0m \u001b[0mb\u001b[0m \u001b[0;32mis\u001b[0m \u001b[0;32mNone\u001b[0m\u001b[0;34m:\u001b[0m \u001b[0;32mreturn\u001b[0m \u001b[0mps\u001b[0m\u001b[0;34m[\u001b[0m\u001b[0;36m0\u001b[0m\u001b[0;34m]\u001b[0m\u001b[0;34m.\u001b[0m\u001b[0mrequires_grad\u001b[0m\u001b[0;34m\u001b[0m\u001b[0;34m\u001b[0m\u001b[0m\n\u001b[0;32m--> 117\u001b[0;31m     \u001b[0;32mfor\u001b[0m \u001b[0mp\u001b[0m \u001b[0;32min\u001b[0m \u001b[0mps\u001b[0m\u001b[0;34m:\u001b[0m \u001b[0mp\u001b[0m\u001b[0;34m.\u001b[0m\u001b[0mrequires_grad\u001b[0m\u001b[0;34m=\u001b[0m\u001b[0mb\u001b[0m\u001b[0;34m\u001b[0m\u001b[0;34m\u001b[0m\u001b[0m\n\u001b[0m\u001b[1;32m    118\u001b[0m \u001b[0;34m\u001b[0m\u001b[0m\n\u001b[1;32m    119\u001b[0m \u001b[0;32mdef\u001b[0m \u001b[0mtrainable_params\u001b[0m\u001b[0;34m(\u001b[0m\u001b[0mm\u001b[0m\u001b[0;34m:\u001b[0m\u001b[0mnn\u001b[0m\u001b[0;34m.\u001b[0m\u001b[0mModule\u001b[0m\u001b[0;34m)\u001b[0m\u001b[0;34m->\u001b[0m\u001b[0mParamList\u001b[0m\u001b[0;34m:\u001b[0m\u001b[0;34m\u001b[0m\u001b[0;34m\u001b[0m\u001b[0m\n",
            "\u001b[0;31mRuntimeError\u001b[0m: you can only change requires_grad flags of leaf variables. If you want to use a computed variable in a subgraph that doesn't require differentiation use var_no_grad = var.detach()."
          ]
        }
      ]
    },
    {
      "metadata": {
        "id": "fQyrcNBObrQE",
        "colab_type": "code",
        "outputId": "1ed69334-1e19-421a-f6d7-60122262c30d",
        "colab": {
          "base_uri": "https://localhost:8080/",
          "height": 538
        }
      },
      "cell_type": "code",
      "source": [
        "learn.unfreeze()\n",
        "learn.fit_one_cycle(1, slice(2e-3/100, 2e-3))\n"
      ],
      "execution_count": 0,
      "outputs": [
        {
          "output_type": "error",
          "ename": "RuntimeError",
          "evalue": "ignored",
          "traceback": [
            "\u001b[0;31m---------------------------------------------------------------------------\u001b[0m",
            "\u001b[0;31mRuntimeError\u001b[0m                              Traceback (most recent call last)",
            "\u001b[0;32m<ipython-input-43-8d0de9de8f2f>\u001b[0m in \u001b[0;36m<module>\u001b[0;34m()\u001b[0m\n\u001b[0;32m----> 1\u001b[0;31m \u001b[0mlearn\u001b[0m\u001b[0;34m.\u001b[0m\u001b[0munfreeze\u001b[0m\u001b[0;34m(\u001b[0m\u001b[0;34m)\u001b[0m\u001b[0;34m\u001b[0m\u001b[0;34m\u001b[0m\u001b[0m\n\u001b[0m\u001b[1;32m      2\u001b[0m \u001b[0mlearn\u001b[0m\u001b[0;34m.\u001b[0m\u001b[0mfit_one_cycle\u001b[0m\u001b[0;34m(\u001b[0m\u001b[0;36m1\u001b[0m\u001b[0;34m,\u001b[0m \u001b[0mslice\u001b[0m\u001b[0;34m(\u001b[0m\u001b[0;36m2e-3\u001b[0m\u001b[0;34m/\u001b[0m\u001b[0;36m100\u001b[0m\u001b[0;34m,\u001b[0m \u001b[0;36m2e-3\u001b[0m\u001b[0;34m)\u001b[0m\u001b[0;34m)\u001b[0m\u001b[0;34m\u001b[0m\u001b[0;34m\u001b[0m\u001b[0m\n",
            "\u001b[0;32m/usr/local/lib/python3.6/dist-packages/fastai/basic_train.py\u001b[0m in \u001b[0;36munfreeze\u001b[0;34m(self)\u001b[0m\n\u001b[1;32m    203\u001b[0m     \u001b[0;32mdef\u001b[0m \u001b[0munfreeze\u001b[0m\u001b[0;34m(\u001b[0m\u001b[0mself\u001b[0m\u001b[0;34m)\u001b[0m\u001b[0;34m:\u001b[0m\u001b[0;34m\u001b[0m\u001b[0;34m\u001b[0m\u001b[0m\n\u001b[1;32m    204\u001b[0m         \u001b[0;34m\"Unfreeze entire model.\"\u001b[0m\u001b[0;34m\u001b[0m\u001b[0;34m\u001b[0m\u001b[0m\n\u001b[0;32m--> 205\u001b[0;31m         \u001b[0mself\u001b[0m\u001b[0;34m.\u001b[0m\u001b[0mfreeze_to\u001b[0m\u001b[0;34m(\u001b[0m\u001b[0;36m0\u001b[0m\u001b[0;34m)\u001b[0m\u001b[0;34m\u001b[0m\u001b[0;34m\u001b[0m\u001b[0m\n\u001b[0m\u001b[1;32m    206\u001b[0m         \u001b[0mself\u001b[0m\u001b[0;34m.\u001b[0m\u001b[0mcreate_opt\u001b[0m\u001b[0;34m(\u001b[0m\u001b[0mdefaults\u001b[0m\u001b[0;34m.\u001b[0m\u001b[0mlr\u001b[0m\u001b[0;34m)\u001b[0m\u001b[0;34m\u001b[0m\u001b[0;34m\u001b[0m\u001b[0m\n\u001b[1;32m    207\u001b[0m \u001b[0;34m\u001b[0m\u001b[0m\n",
            "\u001b[0;32m/usr/local/lib/python3.6/dist-packages/fastai/basic_train.py\u001b[0m in \u001b[0;36mfreeze_to\u001b[0;34m(self, n)\u001b[0m\n\u001b[1;32m    192\u001b[0m             \u001b[0;32mfor\u001b[0m \u001b[0ml\u001b[0m \u001b[0;32min\u001b[0m \u001b[0mg\u001b[0m\u001b[0;34m:\u001b[0m\u001b[0;34m\u001b[0m\u001b[0;34m\u001b[0m\u001b[0m\n\u001b[1;32m    193\u001b[0m                 \u001b[0;32mif\u001b[0m \u001b[0;32mnot\u001b[0m \u001b[0mself\u001b[0m\u001b[0;34m.\u001b[0m\u001b[0mtrain_bn\u001b[0m \u001b[0;32mor\u001b[0m \u001b[0;32mnot\u001b[0m \u001b[0misinstance\u001b[0m\u001b[0;34m(\u001b[0m\u001b[0ml\u001b[0m\u001b[0;34m,\u001b[0m \u001b[0mbn_types\u001b[0m\u001b[0;34m)\u001b[0m\u001b[0;34m:\u001b[0m \u001b[0mrequires_grad\u001b[0m\u001b[0;34m(\u001b[0m\u001b[0ml\u001b[0m\u001b[0;34m,\u001b[0m \u001b[0;32mFalse\u001b[0m\u001b[0;34m)\u001b[0m\u001b[0;34m\u001b[0m\u001b[0;34m\u001b[0m\u001b[0m\n\u001b[0;32m--> 194\u001b[0;31m         \u001b[0;32mfor\u001b[0m \u001b[0mg\u001b[0m \u001b[0;32min\u001b[0m \u001b[0mself\u001b[0m\u001b[0;34m.\u001b[0m\u001b[0mlayer_groups\u001b[0m\u001b[0;34m[\u001b[0m\u001b[0mn\u001b[0m\u001b[0;34m:\u001b[0m\u001b[0;34m]\u001b[0m\u001b[0;34m:\u001b[0m \u001b[0mrequires_grad\u001b[0m\u001b[0;34m(\u001b[0m\u001b[0mg\u001b[0m\u001b[0;34m,\u001b[0m \u001b[0;32mTrue\u001b[0m\u001b[0;34m)\u001b[0m\u001b[0;34m\u001b[0m\u001b[0;34m\u001b[0m\u001b[0m\n\u001b[0m\u001b[1;32m    195\u001b[0m         \u001b[0mself\u001b[0m\u001b[0;34m.\u001b[0m\u001b[0mcreate_opt\u001b[0m\u001b[0;34m(\u001b[0m\u001b[0mdefaults\u001b[0m\u001b[0;34m.\u001b[0m\u001b[0mlr\u001b[0m\u001b[0;34m)\u001b[0m\u001b[0;34m\u001b[0m\u001b[0;34m\u001b[0m\u001b[0m\n\u001b[1;32m    196\u001b[0m \u001b[0;34m\u001b[0m\u001b[0m\n",
            "\u001b[0;32m/usr/local/lib/python3.6/dist-packages/fastai/torch_core.py\u001b[0m in \u001b[0;36mrequires_grad\u001b[0;34m(m, b)\u001b[0m\n\u001b[1;32m    115\u001b[0m     \u001b[0;32mif\u001b[0m \u001b[0;32mnot\u001b[0m \u001b[0mps\u001b[0m\u001b[0;34m:\u001b[0m \u001b[0;32mreturn\u001b[0m \u001b[0;32mNone\u001b[0m\u001b[0;34m\u001b[0m\u001b[0;34m\u001b[0m\u001b[0m\n\u001b[1;32m    116\u001b[0m     \u001b[0;32mif\u001b[0m \u001b[0mb\u001b[0m \u001b[0;32mis\u001b[0m \u001b[0;32mNone\u001b[0m\u001b[0;34m:\u001b[0m \u001b[0;32mreturn\u001b[0m \u001b[0mps\u001b[0m\u001b[0;34m[\u001b[0m\u001b[0;36m0\u001b[0m\u001b[0;34m]\u001b[0m\u001b[0;34m.\u001b[0m\u001b[0mrequires_grad\u001b[0m\u001b[0;34m\u001b[0m\u001b[0;34m\u001b[0m\u001b[0m\n\u001b[0;32m--> 117\u001b[0;31m     \u001b[0;32mfor\u001b[0m \u001b[0mp\u001b[0m \u001b[0;32min\u001b[0m \u001b[0mps\u001b[0m\u001b[0;34m:\u001b[0m \u001b[0mp\u001b[0m\u001b[0;34m.\u001b[0m\u001b[0mrequires_grad\u001b[0m\u001b[0;34m=\u001b[0m\u001b[0mb\u001b[0m\u001b[0;34m\u001b[0m\u001b[0;34m\u001b[0m\u001b[0m\n\u001b[0m\u001b[1;32m    118\u001b[0m \u001b[0;34m\u001b[0m\u001b[0m\n\u001b[1;32m    119\u001b[0m \u001b[0;32mdef\u001b[0m \u001b[0mtrainable_params\u001b[0m\u001b[0;34m(\u001b[0m\u001b[0mm\u001b[0m\u001b[0;34m:\u001b[0m\u001b[0mnn\u001b[0m\u001b[0;34m.\u001b[0m\u001b[0mModule\u001b[0m\u001b[0;34m)\u001b[0m\u001b[0;34m->\u001b[0m\u001b[0mParamList\u001b[0m\u001b[0;34m:\u001b[0m\u001b[0;34m\u001b[0m\u001b[0;34m\u001b[0m\u001b[0m\n",
            "\u001b[0;31mRuntimeError\u001b[0m: you can only change requires_grad flags of leaf variables."
          ]
        }
      ]
    },
    {
      "metadata": {
        "id": "Yvo6IVyTJYmC",
        "colab_type": "code",
        "outputId": "969656d1-f84f-4745-bbe5-3f80bc2499ae",
        "colab": {
          "base_uri": "https://localhost:8080/",
          "height": 115
        }
      },
      "cell_type": "code",
      "source": [
        "learn.fit_one_cycle(2, slice(2e-3/100, 2e-3))\n"
      ],
      "execution_count": 0,
      "outputs": [
        {
          "output_type": "display_data",
          "data": {
            "text/html": [
              "Total time: 04:25 <p><table style='width:300px; margin-bottom:10px'>\n",
              "  <tr>\n",
              "    <th>epoch</th>\n",
              "    <th>train_loss</th>\n",
              "    <th>valid_loss</th>\n",
              "    <th>accuracy</th>\n",
              "  </tr>\n",
              "  <tr>\n",
              "    <th>1</th>\n",
              "    <th>11.755347</th>\n",
              "  </tr>\n",
              "  <tr>\n",
              "    <th>2</th>\n",
              "    <th>11.078683</th>\n",
              "  </tr>\n",
              "</table>\n"
            ],
            "text/plain": [
              "<IPython.core.display.HTML object>"
            ]
          },
          "metadata": {
            "tags": []
          }
        }
      ]
    },
    {
      "metadata": {
        "id": "fx1EWTsWlsxD",
        "colab_type": "code",
        "outputId": "9c3b94ab-3955-4d20-81c7-9fafe0fe5011",
        "colab": {
          "base_uri": "https://localhost:8080/",
          "height": 34
        }
      },
      "cell_type": "code",
      "source": [
        "print(\"process completed\")"
      ],
      "execution_count": 0,
      "outputs": [
        {
          "output_type": "stream",
          "text": [
            "process completed\n"
          ],
          "name": "stdout"
        }
      ]
    },
    {
      "metadata": {
        "id": "OAb8igV5vH0X",
        "colab_type": "code",
        "colab": {}
      },
      "cell_type": "code",
      "source": [
        ""
      ],
      "execution_count": 0,
      "outputs": []
    }
  ]
}