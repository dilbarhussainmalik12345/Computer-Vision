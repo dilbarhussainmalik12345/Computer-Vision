{
  "nbformat": 4,
  "nbformat_minor": 0,
  "metadata": {
    "colab": {
      "name": "AV_Funny_jokes.ipynb",
      "version": "0.3.2",
      "provenance": [],
      "collapsed_sections": [
        "0uOhyJM93NQ1",
        "gRxQcW1Q3NQ-",
        "tH25ShXu3NRU",
        "G5_53eHk3NRc",
        "c2yqFbMU3NSw"
      ],
      "toc_visible": true,
      "include_colab_link": true
    },
    "kernelspec": {
      "name": "python3",
      "display_name": "Python 3"
    },
    "accelerator": "GPU"
  },
  "cells": [
    {
      "cell_type": "markdown",
      "metadata": {
        "id": "view-in-github",
        "colab_type": "text"
      },
      "source": [
        "<a href=\"https://colab.research.google.com/github/navneetkrc/Colab_fastai/blob/master/AV_Funny_jokes.ipynb\" target=\"_parent\"><img src=\"https://colab.research.google.com/assets/colab-badge.svg\" alt=\"Open In Colab\"/></a>"
      ]
    },
    {
      "metadata": {
        "id": "bry8udXW3NQN",
        "colab_type": "text"
      },
      "cell_type": "markdown",
      "source": [
        "# Was that Joke Funny??"
      ]
    },
    {
      "metadata": {
        "id": "8Ybu1h5T3Rrf",
        "colab_type": "code",
        "colab": {}
      },
      "cell_type": "code",
      "source": [
        "!pip install torch_nightly -f https://download.pytorch.org/whl/nightly/cu92/torch_nightly.html\n",
        "!pip install fastai"
      ],
      "execution_count": 0,
      "outputs": []
    },
    {
      "metadata": {
        "id": "NC_wM3L63NQO",
        "colab_type": "code",
        "colab": {}
      },
      "cell_type": "code",
      "source": [
        "%reload_ext autoreload\n",
        "%autoreload 2\n",
        "%matplotlib inline"
      ],
      "execution_count": 0,
      "outputs": []
    },
    {
      "metadata": {
        "id": "dPrbr9rG3NQS",
        "colab_type": "code",
        "colab": {}
      },
      "cell_type": "code",
      "source": [
        "from fastai import *\n",
        "from fastai.text import *"
      ],
      "execution_count": 0,
      "outputs": []
    },
    {
      "metadata": {
        "id": "a80Zz1nV3NQY",
        "colab_type": "text"
      },
      "cell_type": "markdown",
      "source": [
        "## Preparing the data"
      ]
    },
    {
      "metadata": {
        "id": "Uu4o8xwc3NQZ",
        "colab_type": "text"
      },
      "cell_type": "markdown",
      "source": [
        "Many online businesses rely on customer reviews and ratings. Explicit feedback is especially important in the entertainment and ecommerce industry where all customer engagements are impacted by these ratings. Netflix relies on such rating data to power its recommendation engine to provide best movie and TV series recommendations that are personalized and most relevant to the user.\n",
        "\n",
        " \n",
        "\n",
        "This practice problem challenges the participants to predict the ratings for jokes given by the users provided the ratings provided by the same users for another set of jokes. This dataset is taken from the famous jester online Joke Recommender system dataset.\n",
        "\n",
        " \n",
        "\n",
        "We thank Dr. Ken Goldberg's group for putting this super cool data together and for permission to share it with the AV community. \n",
        "\n",
        "[Jester Funny Jokes](https://datahack.analyticsvidhya.com/contest/jester-practice-problem/)"
      ]
    },
    {
      "metadata": {
        "id": "P7Z-0bC-rltL",
        "colab_type": "code",
        "colab": {}
      },
      "cell_type": "code",
      "source": [
        "!mkdir data\n",
        "!mkdir data/train\n",
        "!mkdir data/test"
      ],
      "execution_count": 0,
      "outputs": []
    },
    {
      "metadata": {
        "id": "XrLjfZajx_jn",
        "colab_type": "code",
        "colab": {}
      },
      "cell_type": "code",
      "source": [
        "!wget https://datahack.analyticsvidhya.com/contest/jester-practice-problem/download/test-file\n",
        "!wget https://datahack.analyticsvidhya.com/contest/jester-practice-problem/download/train-file\n",
        "!wget https://datahack.analyticsvidhya.com/contest/jester-practice-problem/download/sample-submission"
      ],
      "execution_count": 0,
      "outputs": []
    },
    {
      "metadata": {
        "id": "BbcsR5yGn3PL",
        "colab_type": "code",
        "colab": {}
      },
      "cell_type": "code",
      "source": [
        "#upload the files\n",
        "!unzip test.zip -d data/test\n",
        "!mv sample_submission.csv data\n",
        "!unzip train.zip -d data/train\n"
      ],
      "execution_count": 0,
      "outputs": []
    },
    {
      "metadata": {
        "id": "wKzJ5AUNoBe5",
        "colab_type": "code",
        "colab": {}
      },
      "cell_type": "code",
      "source": [
        "train = pd.read_csv('data/train/train.csv')\n",
        "test = pd.read_csv('data/test/test.csv')\n",
        "jokes = pd.read_csv('data/train/jokes.csv')"
      ],
      "execution_count": 0,
      "outputs": []
    },
    {
      "metadata": {
        "id": "F_1oJMs83NQa",
        "colab_type": "code",
        "colab": {}
      },
      "cell_type": "code",
      "source": [
        "path = 'data/'\n",
        "#!ls path"
      ],
      "execution_count": 0,
      "outputs": []
    },
    {
      "metadata": {
        "id": "EvwIwMm9qrl2",
        "colab_type": "code",
        "outputId": "a4431af3-2ea5-4c43-fa8b-315c08e856a1",
        "colab": {
          "base_uri": "https://localhost:8080/",
          "height": 204
        }
      },
      "cell_type": "code",
      "source": [
        "jokes.head()"
      ],
      "execution_count": 0,
      "outputs": [
        {
          "output_type": "execute_result",
          "data": {
            "text/html": [
              "<div>\n",
              "<style scoped>\n",
              "    .dataframe tbody tr th:only-of-type {\n",
              "        vertical-align: middle;\n",
              "    }\n",
              "\n",
              "    .dataframe tbody tr th {\n",
              "        vertical-align: top;\n",
              "    }\n",
              "\n",
              "    .dataframe thead th {\n",
              "        text-align: right;\n",
              "    }\n",
              "</style>\n",
              "<table border=\"1\" class=\"dataframe\">\n",
              "  <thead>\n",
              "    <tr style=\"text-align: right;\">\n",
              "      <th></th>\n",
              "      <th>joke_id</th>\n",
              "      <th>joke_text</th>\n",
              "    </tr>\n",
              "  </thead>\n",
              "  <tbody>\n",
              "    <tr>\n",
              "      <th>0</th>\n",
              "      <td>1</td>\n",
              "      <td>Q. What's O. J. Simpson's web address? A. Slas...</td>\n",
              "    </tr>\n",
              "    <tr>\n",
              "      <th>1</th>\n",
              "      <td>2</td>\n",
              "      <td>How many feminists does it take to screw in a ...</td>\n",
              "    </tr>\n",
              "    <tr>\n",
              "      <th>2</th>\n",
              "      <td>3</td>\n",
              "      <td>Q. Did you hear about the dyslexic devil worsh...</td>\n",
              "    </tr>\n",
              "    <tr>\n",
              "      <th>3</th>\n",
              "      <td>4</td>\n",
              "      <td>They asked the Japanese visitor if they have e...</td>\n",
              "    </tr>\n",
              "    <tr>\n",
              "      <th>4</th>\n",
              "      <td>5</td>\n",
              "      <td>Q: What did the blind person say when given so...</td>\n",
              "    </tr>\n",
              "  </tbody>\n",
              "</table>\n",
              "</div>"
            ],
            "text/plain": [
              "   joke_id                                          joke_text\n",
              "0        1  Q. What's O. J. Simpson's web address? A. Slas...\n",
              "1        2  How many feminists does it take to screw in a ...\n",
              "2        3  Q. Did you hear about the dyslexic devil worsh...\n",
              "3        4  They asked the Japanese visitor if they have e...\n",
              "4        5  Q: What did the blind person say when given so..."
            ]
          },
          "metadata": {
            "tags": []
          },
          "execution_count": 9
        }
      ]
    },
    {
      "metadata": {
        "id": "4tqW5wei3NQh",
        "colab_type": "code",
        "outputId": "ea8e2471-f78f-4fce-fa3c-4458f74329cf",
        "colab": {
          "base_uri": "https://localhost:8080/",
          "height": 204
        }
      },
      "cell_type": "code",
      "source": [
        "#train['joke_id'].value_counts()\n",
        "train.head()"
      ],
      "execution_count": 0,
      "outputs": [
        {
          "output_type": "execute_result",
          "data": {
            "text/html": [
              "<div>\n",
              "<style scoped>\n",
              "    .dataframe tbody tr th:only-of-type {\n",
              "        vertical-align: middle;\n",
              "    }\n",
              "\n",
              "    .dataframe tbody tr th {\n",
              "        vertical-align: top;\n",
              "    }\n",
              "\n",
              "    .dataframe thead th {\n",
              "        text-align: right;\n",
              "    }\n",
              "</style>\n",
              "<table border=\"1\" class=\"dataframe\">\n",
              "  <thead>\n",
              "    <tr style=\"text-align: right;\">\n",
              "      <th></th>\n",
              "      <th>id</th>\n",
              "      <th>user_id</th>\n",
              "      <th>joke_id</th>\n",
              "      <th>Rating</th>\n",
              "    </tr>\n",
              "  </thead>\n",
              "  <tbody>\n",
              "    <tr>\n",
              "      <th>0</th>\n",
              "      <td>31030_110</td>\n",
              "      <td>31030</td>\n",
              "      <td>110</td>\n",
              "      <td>2.750</td>\n",
              "    </tr>\n",
              "    <tr>\n",
              "      <th>1</th>\n",
              "      <td>16144_109</td>\n",
              "      <td>16144</td>\n",
              "      <td>109</td>\n",
              "      <td>5.094</td>\n",
              "    </tr>\n",
              "    <tr>\n",
              "      <th>2</th>\n",
              "      <td>23098_6</td>\n",
              "      <td>23098</td>\n",
              "      <td>6</td>\n",
              "      <td>-6.438</td>\n",
              "    </tr>\n",
              "    <tr>\n",
              "      <th>3</th>\n",
              "      <td>14273_86</td>\n",
              "      <td>14273</td>\n",
              "      <td>86</td>\n",
              "      <td>4.406</td>\n",
              "    </tr>\n",
              "    <tr>\n",
              "      <th>4</th>\n",
              "      <td>18419_134</td>\n",
              "      <td>18419</td>\n",
              "      <td>134</td>\n",
              "      <td>9.375</td>\n",
              "    </tr>\n",
              "  </tbody>\n",
              "</table>\n",
              "</div>"
            ],
            "text/plain": [
              "          id  user_id  joke_id  Rating\n",
              "0  31030_110    31030      110   2.750\n",
              "1  16144_109    16144      109   5.094\n",
              "2    23098_6    23098        6  -6.438\n",
              "3   14273_86    14273       86   4.406\n",
              "4  18419_134    18419      134   9.375"
            ]
          },
          "metadata": {
            "tags": []
          },
          "execution_count": 10
        }
      ]
    },
    {
      "metadata": {
        "id": "l4smIEoqqSz7",
        "colab_type": "code",
        "outputId": "726c0e37-1006-4fce-82d6-79a0ce7a7804",
        "colab": {
          "base_uri": "https://localhost:8080/",
          "height": 204
        }
      },
      "cell_type": "code",
      "source": [
        "train_df = pd.merge(train,jokes,on='joke_id')\n",
        "test_df = pd.merge(test,jokes[['joke_id', 'joke_text']],on='joke_id')\n",
        "train_df.head()"
      ],
      "execution_count": 0,
      "outputs": [
        {
          "output_type": "execute_result",
          "data": {
            "text/html": [
              "<div>\n",
              "<style scoped>\n",
              "    .dataframe tbody tr th:only-of-type {\n",
              "        vertical-align: middle;\n",
              "    }\n",
              "\n",
              "    .dataframe tbody tr th {\n",
              "        vertical-align: top;\n",
              "    }\n",
              "\n",
              "    .dataframe thead th {\n",
              "        text-align: right;\n",
              "    }\n",
              "</style>\n",
              "<table border=\"1\" class=\"dataframe\">\n",
              "  <thead>\n",
              "    <tr style=\"text-align: right;\">\n",
              "      <th></th>\n",
              "      <th>id</th>\n",
              "      <th>user_id</th>\n",
              "      <th>joke_id</th>\n",
              "      <th>Rating</th>\n",
              "      <th>joke_text</th>\n",
              "    </tr>\n",
              "  </thead>\n",
              "  <tbody>\n",
              "    <tr>\n",
              "      <th>0</th>\n",
              "      <td>31030_110</td>\n",
              "      <td>31030</td>\n",
              "      <td>110</td>\n",
              "      <td>2.750</td>\n",
              "      <td>Judy was having trouble with her computer, so ...</td>\n",
              "    </tr>\n",
              "    <tr>\n",
              "      <th>1</th>\n",
              "      <td>9137_110</td>\n",
              "      <td>9137</td>\n",
              "      <td>110</td>\n",
              "      <td>1.719</td>\n",
              "      <td>Judy was having trouble with her computer, so ...</td>\n",
              "    </tr>\n",
              "    <tr>\n",
              "      <th>2</th>\n",
              "      <td>27649_110</td>\n",
              "      <td>27649</td>\n",
              "      <td>110</td>\n",
              "      <td>5.031</td>\n",
              "      <td>Judy was having trouble with her computer, so ...</td>\n",
              "    </tr>\n",
              "    <tr>\n",
              "      <th>3</th>\n",
              "      <td>35355_110</td>\n",
              "      <td>35355</td>\n",
              "      <td>110</td>\n",
              "      <td>3.031</td>\n",
              "      <td>Judy was having trouble with her computer, so ...</td>\n",
              "    </tr>\n",
              "    <tr>\n",
              "      <th>4</th>\n",
              "      <td>5478_110</td>\n",
              "      <td>5478</td>\n",
              "      <td>110</td>\n",
              "      <td>3.094</td>\n",
              "      <td>Judy was having trouble with her computer, so ...</td>\n",
              "    </tr>\n",
              "  </tbody>\n",
              "</table>\n",
              "</div>"
            ],
            "text/plain": [
              "          id  user_id  joke_id  Rating  \\\n",
              "0  31030_110    31030      110   2.750   \n",
              "1   9137_110     9137      110   1.719   \n",
              "2  27649_110    27649      110   5.031   \n",
              "3  35355_110    35355      110   3.031   \n",
              "4   5478_110     5478      110   3.094   \n",
              "\n",
              "                                           joke_text  \n",
              "0  Judy was having trouble with her computer, so ...  \n",
              "1  Judy was having trouble with her computer, so ...  \n",
              "2  Judy was having trouble with her computer, so ...  \n",
              "3  Judy was having trouble with her computer, so ...  \n",
              "4  Judy was having trouble with her computer, so ...  "
            ]
          },
          "metadata": {
            "tags": []
          },
          "execution_count": 11
        }
      ]
    },
    {
      "metadata": {
        "id": "dPxhskON_txx",
        "colab_type": "code",
        "outputId": "af9417c8-6191-47bc-b8d4-6024cb40920f",
        "colab": {
          "base_uri": "https://localhost:8080/",
          "height": 204
        }
      },
      "cell_type": "code",
      "source": [
        "test_df.head()"
      ],
      "execution_count": 0,
      "outputs": [
        {
          "output_type": "execute_result",
          "data": {
            "text/html": [
              "<div>\n",
              "<style scoped>\n",
              "    .dataframe tbody tr th:only-of-type {\n",
              "        vertical-align: middle;\n",
              "    }\n",
              "\n",
              "    .dataframe tbody tr th {\n",
              "        vertical-align: top;\n",
              "    }\n",
              "\n",
              "    .dataframe thead th {\n",
              "        text-align: right;\n",
              "    }\n",
              "</style>\n",
              "<table border=\"1\" class=\"dataframe\">\n",
              "  <thead>\n",
              "    <tr style=\"text-align: right;\">\n",
              "      <th></th>\n",
              "      <th>id</th>\n",
              "      <th>user_id</th>\n",
              "      <th>joke_id</th>\n",
              "      <th>joke_text</th>\n",
              "    </tr>\n",
              "  </thead>\n",
              "  <tbody>\n",
              "    <tr>\n",
              "      <th>0</th>\n",
              "      <td>6194_11</td>\n",
              "      <td>6194</td>\n",
              "      <td>11</td>\n",
              "      <td>What's the difference between a used tire and ...</td>\n",
              "    </tr>\n",
              "    <tr>\n",
              "      <th>1</th>\n",
              "      <td>13494_11</td>\n",
              "      <td>13494</td>\n",
              "      <td>11</td>\n",
              "      <td>What's the difference between a used tire and ...</td>\n",
              "    </tr>\n",
              "    <tr>\n",
              "      <th>2</th>\n",
              "      <td>35167_11</td>\n",
              "      <td>35167</td>\n",
              "      <td>11</td>\n",
              "      <td>What's the difference between a used tire and ...</td>\n",
              "    </tr>\n",
              "    <tr>\n",
              "      <th>3</th>\n",
              "      <td>25066_11</td>\n",
              "      <td>25066</td>\n",
              "      <td>11</td>\n",
              "      <td>What's the difference between a used tire and ...</td>\n",
              "    </tr>\n",
              "    <tr>\n",
              "      <th>4</th>\n",
              "      <td>25103_11</td>\n",
              "      <td>25103</td>\n",
              "      <td>11</td>\n",
              "      <td>What's the difference between a used tire and ...</td>\n",
              "    </tr>\n",
              "  </tbody>\n",
              "</table>\n",
              "</div>"
            ],
            "text/plain": [
              "         id  user_id  joke_id  \\\n",
              "0   6194_11     6194       11   \n",
              "1  13494_11    13494       11   \n",
              "2  35167_11    35167       11   \n",
              "3  25066_11    25066       11   \n",
              "4  25103_11    25103       11   \n",
              "\n",
              "                                           joke_text  \n",
              "0  What's the difference between a used tire and ...  \n",
              "1  What's the difference between a used tire and ...  \n",
              "2  What's the difference between a used tire and ...  \n",
              "3  What's the difference between a used tire and ...  \n",
              "4  What's the difference between a used tire and ...  "
            ]
          },
          "metadata": {
            "tags": []
          },
          "execution_count": 12
        }
      ]
    },
    {
      "metadata": {
        "id": "5kyhSy8mksfP",
        "colab_type": "code",
        "colab": {}
      },
      "cell_type": "code",
      "source": [
        "#train_df['joke_id'].value_counts()\n",
        "train_df.rename(index=str, columns={\"joke_text\": \"text\", \"Rating\": \"target\"},inplace=True)\n",
        "test_df.rename(index=str, columns={\"joke_text\": \"text\"},inplace=True)\n",
        "jokes.rename(index=str, columns={\"joke_text\": \"text\"},inplace=True)"
      ],
      "execution_count": 0,
      "outputs": []
    },
    {
      "metadata": {
        "id": "7g7oLErenAGa",
        "colab_type": "code",
        "outputId": "653276c3-f5f2-44ff-aab4-3eaefeaa1b38",
        "colab": {
          "base_uri": "https://localhost:8080/",
          "height": 204
        }
      },
      "cell_type": "code",
      "source": [
        "train_df.head()"
      ],
      "execution_count": 0,
      "outputs": [
        {
          "output_type": "execute_result",
          "data": {
            "text/html": [
              "<div>\n",
              "<style scoped>\n",
              "    .dataframe tbody tr th:only-of-type {\n",
              "        vertical-align: middle;\n",
              "    }\n",
              "\n",
              "    .dataframe tbody tr th {\n",
              "        vertical-align: top;\n",
              "    }\n",
              "\n",
              "    .dataframe thead th {\n",
              "        text-align: right;\n",
              "    }\n",
              "</style>\n",
              "<table border=\"1\" class=\"dataframe\">\n",
              "  <thead>\n",
              "    <tr style=\"text-align: right;\">\n",
              "      <th></th>\n",
              "      <th>id</th>\n",
              "      <th>user_id</th>\n",
              "      <th>joke_id</th>\n",
              "      <th>target</th>\n",
              "      <th>text</th>\n",
              "    </tr>\n",
              "  </thead>\n",
              "  <tbody>\n",
              "    <tr>\n",
              "      <th>0</th>\n",
              "      <td>31030_110</td>\n",
              "      <td>31030</td>\n",
              "      <td>110</td>\n",
              "      <td>2.750</td>\n",
              "      <td>Judy was having trouble with her computer, so ...</td>\n",
              "    </tr>\n",
              "    <tr>\n",
              "      <th>1</th>\n",
              "      <td>9137_110</td>\n",
              "      <td>9137</td>\n",
              "      <td>110</td>\n",
              "      <td>1.719</td>\n",
              "      <td>Judy was having trouble with her computer, so ...</td>\n",
              "    </tr>\n",
              "    <tr>\n",
              "      <th>2</th>\n",
              "      <td>27649_110</td>\n",
              "      <td>27649</td>\n",
              "      <td>110</td>\n",
              "      <td>5.031</td>\n",
              "      <td>Judy was having trouble with her computer, so ...</td>\n",
              "    </tr>\n",
              "    <tr>\n",
              "      <th>3</th>\n",
              "      <td>35355_110</td>\n",
              "      <td>35355</td>\n",
              "      <td>110</td>\n",
              "      <td>3.031</td>\n",
              "      <td>Judy was having trouble with her computer, so ...</td>\n",
              "    </tr>\n",
              "    <tr>\n",
              "      <th>4</th>\n",
              "      <td>5478_110</td>\n",
              "      <td>5478</td>\n",
              "      <td>110</td>\n",
              "      <td>3.094</td>\n",
              "      <td>Judy was having trouble with her computer, so ...</td>\n",
              "    </tr>\n",
              "  </tbody>\n",
              "</table>\n",
              "</div>"
            ],
            "text/plain": [
              "          id  user_id  joke_id  target  \\\n",
              "0  31030_110    31030      110   2.750   \n",
              "1   9137_110     9137      110   1.719   \n",
              "2  27649_110    27649      110   5.031   \n",
              "3  35355_110    35355      110   3.031   \n",
              "4   5478_110     5478      110   3.094   \n",
              "\n",
              "                                                text  \n",
              "0  Judy was having trouble with her computer, so ...  \n",
              "1  Judy was having trouble with her computer, so ...  \n",
              "2  Judy was having trouble with her computer, so ...  \n",
              "3  Judy was having trouble with her computer, so ...  \n",
              "4  Judy was having trouble with her computer, so ...  "
            ]
          },
          "metadata": {
            "tags": []
          },
          "execution_count": 24
        }
      ]
    },
    {
      "metadata": {
        "id": "kQo70AXRnCaD",
        "colab_type": "code",
        "outputId": "f6faa8a2-6af8-4863-97c3-7f28fd51e68f",
        "colab": {
          "base_uri": "https://localhost:8080/",
          "height": 204
        }
      },
      "cell_type": "code",
      "source": [
        "test_df.head()"
      ],
      "execution_count": 0,
      "outputs": [
        {
          "output_type": "execute_result",
          "data": {
            "text/html": [
              "<div>\n",
              "<style scoped>\n",
              "    .dataframe tbody tr th:only-of-type {\n",
              "        vertical-align: middle;\n",
              "    }\n",
              "\n",
              "    .dataframe tbody tr th {\n",
              "        vertical-align: top;\n",
              "    }\n",
              "\n",
              "    .dataframe thead th {\n",
              "        text-align: right;\n",
              "    }\n",
              "</style>\n",
              "<table border=\"1\" class=\"dataframe\">\n",
              "  <thead>\n",
              "    <tr style=\"text-align: right;\">\n",
              "      <th></th>\n",
              "      <th>id</th>\n",
              "      <th>user_id</th>\n",
              "      <th>joke_id</th>\n",
              "      <th>text</th>\n",
              "    </tr>\n",
              "  </thead>\n",
              "  <tbody>\n",
              "    <tr>\n",
              "      <th>0</th>\n",
              "      <td>6194_11</td>\n",
              "      <td>6194</td>\n",
              "      <td>11</td>\n",
              "      <td>What's the difference between a used tire and ...</td>\n",
              "    </tr>\n",
              "    <tr>\n",
              "      <th>1</th>\n",
              "      <td>13494_11</td>\n",
              "      <td>13494</td>\n",
              "      <td>11</td>\n",
              "      <td>What's the difference between a used tire and ...</td>\n",
              "    </tr>\n",
              "    <tr>\n",
              "      <th>2</th>\n",
              "      <td>35167_11</td>\n",
              "      <td>35167</td>\n",
              "      <td>11</td>\n",
              "      <td>What's the difference between a used tire and ...</td>\n",
              "    </tr>\n",
              "    <tr>\n",
              "      <th>3</th>\n",
              "      <td>25066_11</td>\n",
              "      <td>25066</td>\n",
              "      <td>11</td>\n",
              "      <td>What's the difference between a used tire and ...</td>\n",
              "    </tr>\n",
              "    <tr>\n",
              "      <th>4</th>\n",
              "      <td>25103_11</td>\n",
              "      <td>25103</td>\n",
              "      <td>11</td>\n",
              "      <td>What's the difference between a used tire and ...</td>\n",
              "    </tr>\n",
              "  </tbody>\n",
              "</table>\n",
              "</div>"
            ],
            "text/plain": [
              "         id  user_id  joke_id  \\\n",
              "0   6194_11     6194       11   \n",
              "1  13494_11    13494       11   \n",
              "2  35167_11    35167       11   \n",
              "3  25066_11    25066       11   \n",
              "4  25103_11    25103       11   \n",
              "\n",
              "                                                text  \n",
              "0  What's the difference between a used tire and ...  \n",
              "1  What's the difference between a used tire and ...  \n",
              "2  What's the difference between a used tire and ...  \n",
              "3  What's the difference between a used tire and ...  \n",
              "4  What's the difference between a used tire and ...  "
            ]
          },
          "metadata": {
            "tags": []
          },
          "execution_count": 15
        }
      ]
    },
    {
      "metadata": {
        "id": "enSdoyVd3NQl",
        "colab_type": "code",
        "outputId": "a4998052-9a8c-4e60-816d-43b331f83562",
        "colab": {
          "base_uri": "https://localhost:8080/",
          "height": 54
        }
      },
      "cell_type": "code",
      "source": [
        "train_df['text'][10000]"
      ],
      "execution_count": 0,
      "outputs": [
        {
          "output_type": "execute_result",
          "data": {
            "text/plain": [
              "'One day the first grade teacher was reading the story of the Three Little Pigs to her class. She came to the part of the story where the first pig was trying to accumulate the building materials for his home. She read, \"...and so the pig went up to the man with the wheelbarrow full of straw and said, \\'Pardon me sir, but may I have some of that straw to build my house?\\'\" The teacher paused then asked the class, \"And what do you think that man said?\" One little boy raised his hand and said, \"I know...he said, \\'Holy Shit! A talking pig!\\'\"'"
            ]
          },
          "metadata": {
            "tags": []
          },
          "execution_count": 16
        }
      ]
    },
    {
      "metadata": {
        "id": "z5aJh3pr5ewv",
        "colab_type": "code",
        "colab": {}
      },
      "cell_type": "code",
      "source": [
        "# create a dataframe\n",
        "##df = pd.DataFrame({'label':train_df.Rating,\n",
        "##                   'text':train_df.joke_text})\n",
        "#this dataframe has a lot of duplicate questions need to remove that from the language model will check"
      ],
      "execution_count": 0,
      "outputs": []
    },
    {
      "metadata": {
        "id": "AXggF9g_SwDh",
        "colab_type": "code",
        "colab": {}
      },
      "cell_type": "code",
      "source": [
        "##df.head()"
      ],
      "execution_count": 0,
      "outputs": []
    },
    {
      "metadata": {
        "id": "jhbmSVBt8R-V",
        "colab_type": "code",
        "colab": {}
      },
      "cell_type": "code",
      "source": [
        "#df.shape #"
      ],
      "execution_count": 0,
      "outputs": []
    },
    {
      "metadata": {
        "id": "Z4CfjYyn4VST",
        "colab_type": "code",
        "colab": {}
      },
      "cell_type": "code",
      "source": [
        "# train test split handled at FASTAI DATABLOCK Level\n",
        "#from sklearn.model_selection import train_test_split\n",
        "\n",
        "# split data into training and validation set\n",
        "#df_trn, df_val = train_test_split(train_df, stratify = train_df['target'], test_size = 0.2, random_state = 12)\n",
        "#df_trn.shape, df_val.shape"
      ],
      "execution_count": 0,
      "outputs": []
    },
    {
      "metadata": {
        "id": "MatRH2SC4deP",
        "colab_type": "code",
        "outputId": "df2c0738-6ac0-4263-dbde-ce3ca3465412",
        "colab": {
          "base_uri": "https://localhost:8080/",
          "height": 34
        }
      },
      "cell_type": "code",
      "source": [
        "#df_trn.shape, df_val.shape"
      ],
      "execution_count": 0,
      "outputs": [
        {
          "output_type": "execute_result",
          "data": {
            "text/plain": [
              "((873647, 5), (218412, 5))"
            ]
          },
          "metadata": {
            "tags": []
          },
          "execution_count": 20
        }
      ]
    },
    {
      "metadata": {
        "id": "xDNGeuL5n7hX",
        "colab_type": "code",
        "outputId": "1cc4c723-b1f3-49b9-84b8-7bc8c3a6092a",
        "colab": {
          "base_uri": "https://localhost:8080/",
          "height": 51
        }
      },
      "cell_type": "code",
      "source": [
        "##Save the transformed Train and Test sets to csv for creating and executing Language models\n",
        "test_df.to_csv(f'test.csv', index=False)\n",
        "train_df.to_csv(f'train.csv', index=False)\n",
        "jokes.to_csv(f'jokes.csv', index=False)\n",
        "\n",
        "!mv test.csv data\\\n",
        "!mv train.csv data\\\n",
        "!mv jokes.csv data\\"
      ],
      "execution_count": 0,
      "outputs": [
        {
          "output_type": "stream",
          "text": [
            "mv: cannot stat 'data!mv': No such file or directory\n",
            "mv: cannot stat 'data!mv': No such file or directory\n"
          ],
          "name": "stdout"
        }
      ]
    },
    {
      "metadata": {
        "id": "9iOJ2gza2E64",
        "colab_type": "code",
        "outputId": "6c415a8a-0908-4c82-94d6-df2619846441",
        "colab": {
          "base_uri": "https://localhost:8080/",
          "height": 204
        }
      },
      "cell_type": "code",
      "source": [
        "train_df.to_csv(f'train.csv', index=False)\n",
        "train_df.head()"
      ],
      "execution_count": 0,
      "outputs": [
        {
          "output_type": "execute_result",
          "data": {
            "text/html": [
              "<div>\n",
              "<style scoped>\n",
              "    .dataframe tbody tr th:only-of-type {\n",
              "        vertical-align: middle;\n",
              "    }\n",
              "\n",
              "    .dataframe tbody tr th {\n",
              "        vertical-align: top;\n",
              "    }\n",
              "\n",
              "    .dataframe thead th {\n",
              "        text-align: right;\n",
              "    }\n",
              "</style>\n",
              "<table border=\"1\" class=\"dataframe\">\n",
              "  <thead>\n",
              "    <tr style=\"text-align: right;\">\n",
              "      <th></th>\n",
              "      <th>id</th>\n",
              "      <th>user_id</th>\n",
              "      <th>joke_id</th>\n",
              "      <th>target</th>\n",
              "      <th>text</th>\n",
              "    </tr>\n",
              "  </thead>\n",
              "  <tbody>\n",
              "    <tr>\n",
              "      <th>0</th>\n",
              "      <td>31030_110</td>\n",
              "      <td>31030</td>\n",
              "      <td>110</td>\n",
              "      <td>2.750</td>\n",
              "      <td>Judy was having trouble with her computer, so ...</td>\n",
              "    </tr>\n",
              "    <tr>\n",
              "      <th>1</th>\n",
              "      <td>9137_110</td>\n",
              "      <td>9137</td>\n",
              "      <td>110</td>\n",
              "      <td>1.719</td>\n",
              "      <td>Judy was having trouble with her computer, so ...</td>\n",
              "    </tr>\n",
              "    <tr>\n",
              "      <th>2</th>\n",
              "      <td>27649_110</td>\n",
              "      <td>27649</td>\n",
              "      <td>110</td>\n",
              "      <td>5.031</td>\n",
              "      <td>Judy was having trouble with her computer, so ...</td>\n",
              "    </tr>\n",
              "    <tr>\n",
              "      <th>3</th>\n",
              "      <td>35355_110</td>\n",
              "      <td>35355</td>\n",
              "      <td>110</td>\n",
              "      <td>3.031</td>\n",
              "      <td>Judy was having trouble with her computer, so ...</td>\n",
              "    </tr>\n",
              "    <tr>\n",
              "      <th>4</th>\n",
              "      <td>5478_110</td>\n",
              "      <td>5478</td>\n",
              "      <td>110</td>\n",
              "      <td>3.094</td>\n",
              "      <td>Judy was having trouble with her computer, so ...</td>\n",
              "    </tr>\n",
              "  </tbody>\n",
              "</table>\n",
              "</div>"
            ],
            "text/plain": [
              "          id  user_id  joke_id  target  \\\n",
              "0  31030_110    31030      110   2.750   \n",
              "1   9137_110     9137      110   1.719   \n",
              "2  27649_110    27649      110   5.031   \n",
              "3  35355_110    35355      110   3.031   \n",
              "4   5478_110     5478      110   3.094   \n",
              "\n",
              "                                                text  \n",
              "0  Judy was having trouble with her computer, so ...  \n",
              "1  Judy was having trouble with her computer, so ...  \n",
              "2  Judy was having trouble with her computer, so ...  \n",
              "3  Judy was having trouble with her computer, so ...  \n",
              "4  Judy was having trouble with her computer, so ...  "
            ]
          },
          "metadata": {
            "tags": []
          },
          "execution_count": 25
        }
      ]
    },
    {
      "metadata": {
        "id": "ocyquSFvzd0V",
        "colab_type": "code",
        "outputId": "53bacb38-f604-44bc-c248-120ded7af48f",
        "colab": {
          "base_uri": "https://localhost:8080/",
          "height": 204
        }
      },
      "cell_type": "code",
      "source": [
        "jokes.head()"
      ],
      "execution_count": 0,
      "outputs": [
        {
          "output_type": "execute_result",
          "data": {
            "text/html": [
              "<div>\n",
              "<style scoped>\n",
              "    .dataframe tbody tr th:only-of-type {\n",
              "        vertical-align: middle;\n",
              "    }\n",
              "\n",
              "    .dataframe tbody tr th {\n",
              "        vertical-align: top;\n",
              "    }\n",
              "\n",
              "    .dataframe thead th {\n",
              "        text-align: right;\n",
              "    }\n",
              "</style>\n",
              "<table border=\"1\" class=\"dataframe\">\n",
              "  <thead>\n",
              "    <tr style=\"text-align: right;\">\n",
              "      <th></th>\n",
              "      <th>joke_id</th>\n",
              "      <th>text</th>\n",
              "    </tr>\n",
              "  </thead>\n",
              "  <tbody>\n",
              "    <tr>\n",
              "      <th>0</th>\n",
              "      <td>1</td>\n",
              "      <td>Q. What's O. J. Simpson's web address? A. Slas...</td>\n",
              "    </tr>\n",
              "    <tr>\n",
              "      <th>1</th>\n",
              "      <td>2</td>\n",
              "      <td>How many feminists does it take to screw in a ...</td>\n",
              "    </tr>\n",
              "    <tr>\n",
              "      <th>2</th>\n",
              "      <td>3</td>\n",
              "      <td>Q. Did you hear about the dyslexic devil worsh...</td>\n",
              "    </tr>\n",
              "    <tr>\n",
              "      <th>3</th>\n",
              "      <td>4</td>\n",
              "      <td>They asked the Japanese visitor if they have e...</td>\n",
              "    </tr>\n",
              "    <tr>\n",
              "      <th>4</th>\n",
              "      <td>5</td>\n",
              "      <td>Q: What did the blind person say when given so...</td>\n",
              "    </tr>\n",
              "  </tbody>\n",
              "</table>\n",
              "</div>"
            ],
            "text/plain": [
              "   joke_id                                               text\n",
              "0        1  Q. What's O. J. Simpson's web address? A. Slas...\n",
              "1        2  How many feminists does it take to screw in a ...\n",
              "2        3  Q. Did you hear about the dyslexic devil worsh...\n",
              "3        4  They asked the Japanese visitor if they have e...\n",
              "4        5  Q: What did the blind person say when given so..."
            ]
          },
          "metadata": {
            "tags": []
          },
          "execution_count": 18
        }
      ]
    },
    {
      "metadata": {
        "id": "Ibl1MOw5oQnM",
        "colab_type": "code",
        "colab": {}
      },
      "cell_type": "code",
      "source": [
        "path_working = Path('data/')"
      ],
      "execution_count": 0,
      "outputs": []
    },
    {
      "metadata": {
        "id": "xnphTBq21Xa4",
        "colab_type": "code",
        "outputId": "bf7e2d20-cdd5-4903-b231-744b328c6f93",
        "colab": {
          "base_uri": "https://localhost:8080/",
          "height": 514
        }
      },
      "cell_type": "code",
      "source": [
        "path = 'data/'\n",
        "data_lm = TextLMDataBunch.from_csv(path, 'jokes.csv')\n",
        "x,y = next(iter(data.train_dl))\n",
        "example = x[:15,:15].cpu()\n",
        "texts = pd.DataFrame([data.train_ds.vocab.textify(l).split(' ') for l in example])\n",
        "texts"
      ],
      "execution_count": 0,
      "outputs": [
        {
          "output_type": "execute_result",
          "data": {
            "text/html": [
              "<div>\n",
              "<style scoped>\n",
              "    .dataframe tbody tr th:only-of-type {\n",
              "        vertical-align: middle;\n",
              "    }\n",
              "\n",
              "    .dataframe tbody tr th {\n",
              "        vertical-align: top;\n",
              "    }\n",
              "\n",
              "    .dataframe thead th {\n",
              "        text-align: right;\n",
              "    }\n",
              "</style>\n",
              "<table border=\"1\" class=\"dataframe\">\n",
              "  <thead>\n",
              "    <tr style=\"text-align: right;\">\n",
              "      <th></th>\n",
              "      <th>0</th>\n",
              "      <th>1</th>\n",
              "      <th>2</th>\n",
              "      <th>3</th>\n",
              "      <th>4</th>\n",
              "      <th>5</th>\n",
              "      <th>6</th>\n",
              "      <th>7</th>\n",
              "      <th>8</th>\n",
              "      <th>9</th>\n",
              "      <th>10</th>\n",
              "      <th>11</th>\n",
              "      <th>12</th>\n",
              "      <th>13</th>\n",
              "      <th>14</th>\n",
              "    </tr>\n",
              "  </thead>\n",
              "  <tbody>\n",
              "    <tr>\n",
              "      <th>0</th>\n",
              "      <td>xxbos</td>\n",
              "      <td>a</td>\n",
              "      <td>xxunk</td>\n",
              "      <td>walks</td>\n",
              "      <td>into</td>\n",
              "      <td>a</td>\n",
              "      <td>bar</td>\n",
              "      <td>and</td>\n",
              "      <td>orders</td>\n",
              "      <td>a</td>\n",
              "      <td>drink</td>\n",
              "      <td>.</td>\n",
              "      <td>\"</td>\n",
              "      <td>xxmaj</td>\n",
              "      <td>how</td>\n",
              "    </tr>\n",
              "    <tr>\n",
              "      <th>1</th>\n",
              "      <td>.</td>\n",
              "      <td>(</td>\n",
              "      <td>xxunk</td>\n",
              "      <td>)</td>\n",
              "      <td>xxmaj</td>\n",
              "      <td>the</td>\n",
              "      <td>xxmaj</td>\n",
              "      <td>xxunk</td>\n",
              "      <td>drink</td>\n",
              "      <td>very</td>\n",
              "      <td>little</td>\n",
              "      <td>red</td>\n",
              "      <td>wine</td>\n",
              "      <td>and</td>\n",
              "      <td>suffer</td>\n",
              "    </tr>\n",
              "    <tr>\n",
              "      <th>2</th>\n",
              "      <td>saved</td>\n",
              "      <td>.</td>\n",
              "      <td>\"</td>\n",
              "      <td>xxmaj</td>\n",
              "      <td>the</td>\n",
              "      <td>second</td>\n",
              "      <td>man</td>\n",
              "      <td>went</td>\n",
              "      <td>up</td>\n",
              "      <td>to</td>\n",
              "      <td>the</td>\n",
              "      <td>xxmaj</td>\n",
              "      <td>father</td>\n",
              "      <td>...</td>\n",
              "      <td>xxmaj</td>\n",
              "    </tr>\n",
              "    <tr>\n",
              "      <th>3</th>\n",
              "      <td>xxunk</td>\n",
              "      <td>and</td>\n",
              "      <td>xxunk</td>\n",
              "      <td>the</td>\n",
              "      <td>problem</td>\n",
              "      <td>.</td>\n",
              "      <td>xxmaj</td>\n",
              "      <td>as</td>\n",
              "      <td>he</td>\n",
              "      <td>was</td>\n",
              "      <td>walking</td>\n",
              "      <td>away</td>\n",
              "      <td>,</td>\n",
              "      <td>xxmaj</td>\n",
              "      <td>judy</td>\n",
              "    </tr>\n",
              "    <tr>\n",
              "      <th>4</th>\n",
              "      <td>xxbos</td>\n",
              "      <td>xxmaj</td>\n",
              "      <td>bill</td>\n",
              "      <td>xxmaj</td>\n",
              "      <td>clinton</td>\n",
              "      <td>xxunk</td>\n",
              "      <td>from</td>\n",
              "      <td>a</td>\n",
              "      <td>vacation</td>\n",
              "      <td>in</td>\n",
              "      <td>xxmaj</td>\n",
              "      <td>xxunk</td>\n",
              "      <td>and</td>\n",
              "      <td>walks</td>\n",
              "      <td>down</td>\n",
              "    </tr>\n",
              "    <tr>\n",
              "      <th>5</th>\n",
              "      <td>xxunk</td>\n",
              "      <td>,</td>\n",
              "      <td>so</td>\n",
              "      <td>we</td>\n",
              "      <td>'ll</td>\n",
              "      <td>call</td>\n",
              "      <td>you</td>\n",
              "      <td>the</td>\n",
              "      <td>people</td>\n",
              "      <td>.</td>\n",
              "      <td>xxmaj</td>\n",
              "      <td>the</td>\n",
              "      <td>nanny</td>\n",
              "      <td>,</td>\n",
              "      <td>we</td>\n",
              "    </tr>\n",
              "    <tr>\n",
              "      <th>6</th>\n",
              "      <td>his</td>\n",
              "      <td>father</td>\n",
              "      <td>,</td>\n",
              "      <td>\"</td>\n",
              "      <td>xxmaj</td>\n",
              "      <td>dad</td>\n",
              "      <td>,</td>\n",
              "      <td>i</td>\n",
              "      <td>think</td>\n",
              "      <td>i</td>\n",
              "      <td>xxunk</td>\n",
              "      <td>the</td>\n",
              "      <td>xxunk</td>\n",
              "      <td>of</td>\n",
              "      <td>politics</td>\n",
              "    </tr>\n",
              "    <tr>\n",
              "      <th>7</th>\n",
              "      <td>xxunk</td>\n",
              "      <td>it</td>\n",
              "      <td>is</td>\n",
              "      <td>xxunk</td>\n",
              "      <td>he</td>\n",
              "      <td>is</td>\n",
              "      <td>asked</td>\n",
              "      <td>to</td>\n",
              "      <td>xxunk</td>\n",
              "      <td>for</td>\n",
              "      <td>xxunk</td>\n",
              "      <td>.</td>\n",
              "      <td>xxmaj</td>\n",
              "      <td>when</td>\n",
              "      <td>he</td>\n",
              "    </tr>\n",
              "    <tr>\n",
              "      <th>8</th>\n",
              "      <td>.</td>\n",
              "      <td>xxmaj</td>\n",
              "      <td>bill</td>\n",
              "      <td>says</td>\n",
              "      <td>,</td>\n",
              "      <td>\"</td>\n",
              "      <td>i</td>\n",
              "      <td>could</td>\n",
              "      <td>throw</td>\n",
              "      <td>one</td>\n",
              "      <td>xxunk</td>\n",
              "      <td>-</td>\n",
              "      <td>dollar</td>\n",
              "      <td>bill</td>\n",
              "      <td>out</td>\n",
              "    </tr>\n",
              "    <tr>\n",
              "      <th>9</th>\n",
              "      <td>xxunk</td>\n",
              "      <td>is</td>\n",
              "      <td>xxunk</td>\n",
              "      <td>!</td>\n",
              "      <td>xxmaj</td>\n",
              "      <td>what</td>\n",
              "      <td>can</td>\n",
              "      <td>i</td>\n",
              "      <td>do</td>\n",
              "      <td>?</td>\n",
              "      <td>\"</td>\n",
              "      <td>xxmaj</td>\n",
              "      <td>the</td>\n",
              "      <td>xxunk</td>\n",
              "      <td>,</td>\n",
              "    </tr>\n",
              "    <tr>\n",
              "      <th>10</th>\n",
              "      <td>the</td>\n",
              "      <td>engineer</td>\n",
              "      <td>is</td>\n",
              "      <td>a</td>\n",
              "      <td>xxunk</td>\n",
              "      <td>xxunk</td>\n",
              "      <td>guy</td>\n",
              "      <td>.</td>\n",
              "      <td>xxmaj</td>\n",
              "      <td>one</td>\n",
              "      <td>day</td>\n",
              "      <td>,</td>\n",
              "      <td>xxmaj</td>\n",
              "      <td>god</td>\n",
              "      <td>xxunk</td>\n",
              "    </tr>\n",
              "    <tr>\n",
              "      <th>11</th>\n",
              "      <td>,</td>\n",
              "      <td>right</td>\n",
              "      <td>.</td>\n",
              "      <td>xxmaj</td>\n",
              "      <td>and</td>\n",
              "      <td>just</td>\n",
              "      <td>where</td>\n",
              "      <td>are</td>\n",
              "      <td>xxup</td>\n",
              "      <td>you</td>\n",
              "      <td>going</td>\n",
              "      <td>to</td>\n",
              "      <td>get</td>\n",
              "      <td>a</td>\n",
              "      <td>xxunk</td>\n",
              "    </tr>\n",
              "    <tr>\n",
              "      <th>12</th>\n",
              "      <td>on</td>\n",
              "      <td>the</td>\n",
              "      <td>second</td>\n",
              "      <td>floor</td>\n",
              "      <td>reads</td>\n",
              "      <td>:</td>\n",
              "      <td>\"</td>\n",
              "      <td>xxmaj</td>\n",
              "      <td>all</td>\n",
              "      <td>the</td>\n",
              "      <td>men</td>\n",
              "      <td>here</td>\n",
              "      <td>are</td>\n",
              "      <td>xxunk</td>\n",
              "      <td>and</td>\n",
              "    </tr>\n",
              "    <tr>\n",
              "      <th>13</th>\n",
              "      <td>please</td>\n",
              "      <td>a</td>\n",
              "      <td>woman</td>\n",
              "      <td>.</td>\n",
              "      <td>\"</td>\n",
              "      <td>xxbos</td>\n",
              "      <td>xxmaj</td>\n",
              "      <td>two</td>\n",
              "      <td>xxunk</td>\n",
              "      <td>went</td>\n",
              "      <td>into</td>\n",
              "      <td>a</td>\n",
              "      <td>xxunk</td>\n",
              "      <td>and</td>\n",
              "      <td>xxunk</td>\n",
              "    </tr>\n",
              "    <tr>\n",
              "      <th>14</th>\n",
              "      <td>xxunk</td>\n",
              "      <td>xxunk</td>\n",
              "      <td>xxunk</td>\n",
              "      <td>,</td>\n",
              "      <td>then</td>\n",
              "      <td>down</td>\n",
              "      <td>at</td>\n",
              "      <td>her</td>\n",
              "      <td>xxunk</td>\n",
              "      <td>.</td>\n",
              "      <td>xxmaj</td>\n",
              "      <td>she</td>\n",
              "      <td>took</td>\n",
              "      <td>a</td>\n",
              "      <td>few</td>\n",
              "    </tr>\n",
              "  </tbody>\n",
              "</table>\n",
              "</div>"
            ],
            "text/plain": [
              "        0         1       2      3        4       5      6      7         8   \\\n",
              "0    xxbos         a   xxunk  walks     into       a    bar    and    orders   \n",
              "1        .         (   xxunk      )    xxmaj     the  xxmaj  xxunk     drink   \n",
              "2    saved         .       \"  xxmaj      the  second    man   went        up   \n",
              "3    xxunk       and   xxunk    the  problem       .  xxmaj     as        he   \n",
              "4    xxbos     xxmaj    bill  xxmaj  clinton   xxunk   from      a  vacation   \n",
              "5    xxunk         ,      so     we      'll    call    you    the    people   \n",
              "6      his    father       ,      \"    xxmaj     dad      ,      i     think   \n",
              "7    xxunk        it      is  xxunk       he      is  asked     to     xxunk   \n",
              "8        .     xxmaj    bill   says        ,       \"      i  could     throw   \n",
              "9    xxunk        is   xxunk      !    xxmaj    what    can      i        do   \n",
              "10     the  engineer      is      a    xxunk   xxunk    guy      .     xxmaj   \n",
              "11       ,     right       .  xxmaj      and    just  where    are      xxup   \n",
              "12      on       the  second  floor    reads       :      \"  xxmaj       all   \n",
              "13  please         a   woman      .        \"   xxbos  xxmaj    two     xxunk   \n",
              "14   xxunk     xxunk   xxunk      ,     then    down     at    her     xxunk   \n",
              "\n",
              "      9        10     11      12     13        14  \n",
              "0      a    drink      .       \"  xxmaj       how  \n",
              "1   very   little    red    wine    and    suffer  \n",
              "2     to      the  xxmaj  father    ...     xxmaj  \n",
              "3    was  walking   away       ,  xxmaj      judy  \n",
              "4     in    xxmaj  xxunk     and  walks      down  \n",
              "5      .    xxmaj    the   nanny      ,        we  \n",
              "6      i    xxunk    the   xxunk     of  politics  \n",
              "7    for    xxunk      .   xxmaj   when        he  \n",
              "8    one    xxunk      -  dollar   bill       out  \n",
              "9      ?        \"  xxmaj     the  xxunk         ,  \n",
              "10   one      day      ,   xxmaj    god     xxunk  \n",
              "11   you    going     to     get      a     xxunk  \n",
              "12   the      men   here     are  xxunk       and  \n",
              "13  went     into      a   xxunk    and     xxunk  \n",
              "14     .    xxmaj    she    took      a       few  "
            ]
          },
          "metadata": {
            "tags": []
          },
          "execution_count": 27
        }
      ]
    },
    {
      "metadata": {
        "id": "fymNTOZ9pH1U",
        "colab_type": "code",
        "outputId": "df016380-8a68-4746-a7af-4c206aa2f26a",
        "colab": {
          "base_uri": "https://localhost:8080/",
          "height": 510
        }
      },
      "cell_type": "code",
      "source": [
        "learn = language_model_learner(data_lm, pretrained_model=URLs.WT103, drop_mult=0.7)\n",
        "learn.model"
      ],
      "execution_count": 0,
      "outputs": [
        {
          "output_type": "execute_result",
          "data": {
            "text/plain": [
              "SequentialRNN(\n",
              "  (0): RNNCore(\n",
              "    (encoder): Embedding(508, 400, padding_idx=1)\n",
              "    (encoder_dp): EmbeddingDropout(\n",
              "      (emb): Embedding(508, 400, padding_idx=1)\n",
              "    )\n",
              "    (rnns): ModuleList(\n",
              "      (0): WeightDropout(\n",
              "        (module): LSTM(400, 1150, batch_first=True)\n",
              "      )\n",
              "      (1): WeightDropout(\n",
              "        (module): LSTM(1150, 1150, batch_first=True)\n",
              "      )\n",
              "      (2): WeightDropout(\n",
              "        (module): LSTM(1150, 400, batch_first=True)\n",
              "      )\n",
              "    )\n",
              "    (input_dp): RNNDropout()\n",
              "    (hidden_dps): ModuleList(\n",
              "      (0): RNNDropout()\n",
              "      (1): RNNDropout()\n",
              "      (2): RNNDropout()\n",
              "    )\n",
              "  )\n",
              "  (1): LinearDecoder(\n",
              "    (decoder): Linear(in_features=400, out_features=508, bias=True)\n",
              "    (output_dp): RNNDropout()\n",
              "  )\n",
              ")"
            ]
          },
          "metadata": {
            "tags": []
          },
          "execution_count": 28
        }
      ]
    },
    {
      "metadata": {
        "id": "RE1e1MwVpNQ7",
        "colab_type": "code",
        "colab": {}
      },
      "cell_type": "code",
      "source": [
        "learn.lr_find()"
      ],
      "execution_count": 0,
      "outputs": []
    },
    {
      "metadata": {
        "id": "xa662_ybpOnz",
        "colab_type": "code",
        "outputId": "094ac0eb-c797-47b7-a3c1-a879b4bb2cde",
        "colab": {
          "base_uri": "https://localhost:8080/",
          "height": 279
        }
      },
      "cell_type": "code",
      "source": [
        "learn.recorder.plot()"
      ],
      "execution_count": 0,
      "outputs": [
        {
          "output_type": "display_data",
          "data": {
            "image/png": "[encoded data removed]",
            "text/plain": [
              "<matplotlib.figure.Figure at 0x7fdee06bcc50>"
            ]
          },
          "metadata": {
            "tags": []
          }
        }
      ]
    },
    {
      "metadata": {
        "id": "FFfvqs3BpOiz",
        "colab_type": "code",
        "outputId": "d53f1cb2-2779-4b49-c37f-cb447bc9a0ed",
        "colab": {
          "base_uri": "https://localhost:8080/",
          "height": 283
        }
      },
      "cell_type": "code",
      "source": [
        "learn.fit_one_cycle(10, 1e-2)\n",
        "learn.save('mini_train_lm')\n",
        "learn.save_encoder('mini_train_encoder')"
      ],
      "execution_count": 0,
      "outputs": [
        {
          "output_type": "display_data",
          "data": {
            "text/html": [
              "Total time: 00:07 <p><table style='width:300px; margin-bottom:10px'>\n",
              "  <tr>\n",
              "    <th>epoch</th>\n",
              "    <th>train_loss</th>\n",
              "    <th>valid_loss</th>\n",
              "    <th>accuracy</th>\n",
              "  </tr>\n",
              "  <tr>\n",
              "    <th>1</th>\n",
              "    <th>4.714853</th>\n",
              "    <th>4.134651</th>\n",
              "    <th>0.285342</th>\n",
              "  </tr>\n",
              "  <tr>\n",
              "    <th>2</th>\n",
              "    <th>4.668473</th>\n",
              "    <th>4.079427</th>\n",
              "    <th>0.292039</th>\n",
              "  </tr>\n",
              "  <tr>\n",
              "    <th>3</th>\n",
              "    <th>4.628178</th>\n",
              "    <th>3.969118</th>\n",
              "    <th>0.292783</th>\n",
              "  </tr>\n",
              "  <tr>\n",
              "    <th>4</th>\n",
              "    <th>4.561645</th>\n",
              "    <th>3.851142</th>\n",
              "    <th>0.303571</th>\n",
              "  </tr>\n",
              "  <tr>\n",
              "    <th>5</th>\n",
              "    <th>4.481604</th>\n",
              "    <th>3.772702</th>\n",
              "    <th>0.302827</th>\n",
              "  </tr>\n",
              "  <tr>\n",
              "    <th>6</th>\n",
              "    <th>4.411114</th>\n",
              "    <th>3.771942</th>\n",
              "    <th>0.303646</th>\n",
              "  </tr>\n",
              "  <tr>\n",
              "    <th>7</th>\n",
              "    <th>4.338284</th>\n",
              "    <th>3.662111</th>\n",
              "    <th>0.312128</th>\n",
              "  </tr>\n",
              "  <tr>\n",
              "    <th>8</th>\n",
              "    <th>4.278879</th>\n",
              "    <th>3.624386</th>\n",
              "    <th>0.318824</th>\n",
              "  </tr>\n",
              "  <tr>\n",
              "    <th>9</th>\n",
              "    <th>4.237555</th>\n",
              "    <th>3.611463</th>\n",
              "    <th>0.315476</th>\n",
              "  </tr>\n",
              "  <tr>\n",
              "    <th>10</th>\n",
              "    <th>4.189270</th>\n",
              "    <th>3.592975</th>\n",
              "    <th>0.311012</th>\n",
              "  </tr>\n",
              "</table>\n"
            ],
            "text/plain": [
              "<IPython.core.display.HTML object>"
            ]
          },
          "metadata": {
            "tags": []
          }
        }
      ]
    },
    {
      "metadata": {
        "id": "4jOFrROmpObi",
        "colab_type": "code",
        "outputId": "127e6baa-98e7-4582-eb25-f65d22fac94b",
        "colab": {
          "base_uri": "https://localhost:8080/",
          "height": 281
        }
      },
      "cell_type": "code",
      "source": [
        "learn.show_results()"
      ],
      "execution_count": 0,
      "outputs": [
        {
          "output_type": "display_data",
          "data": {
            "text/html": [
              "<table>  <col width='34%'>  <col width='33%'>  <col width='33%'>  <tr>\n",
              "    <th>text</th>\n",
              "    <th>target</th>\n",
              "    <th>pred</th>\n",
              "  </tr>\n",
              "  <tr>\n",
              "    <th>xxbos xxmaj did you xxunk about the xxmaj xxunk who xxunk xxmaj xxunk xxunk a xxunk xxunk ? xxmaj he</th>\n",
              "    <th>to xxunk xxunk xxunk . xxbos xxmaj what is the xxunk xxunk of the xxmaj xxunk xxmaj xxunk xxmaj xxunk</th>\n",
              "    <th>xxunk xxunk xxunk xxunk xxunk xxunk xxbos xxunk xxunk the xxunk xxunk xxunk xxunk xxunk xxunk xxunk xxunk xxunk xxunk</th>\n",
              "  </tr>\n",
              "  <tr>\n",
              "    <th>xxmaj xxunk xxmaj xxunk ! xxbos xxmaj what do you get when you xxunk over a xxunk with a xxunk</th>\n",
              "    <th>xxmaj xxunk xxunk . xxbos xxmaj an old man goes to the doctor for his xxunk xxunk , his wife</th>\n",
              "    <th>xxunk xxunk xxunk xxunk xxunk xxbos xxunk engineer man xxunk to xxunk xxunk and a xxunk . . and xxunk</th>\n",
              "  </tr>\n",
              "  <tr>\n",
              "    <th>. xxmaj when the doctor xxunk the xxunk room , he tells the old man , \" i need a</th>\n",
              "    <th>xxunk , a xxunk xxunk and a xxunk xxunk . \" xxmaj the old man , being xxunk of xxunk</th>\n",
              "    <th>. . and xxunk xxunk , a xxunk xxunk . \" the xxunk xxunk man says xxunk xxunk , the</th>\n",
              "  </tr>\n",
              "  <tr>\n",
              "    <th>at his wife and xxunk : \" xxup what ? xxmaj what did he say ? xxmaj what 's he</th>\n",
              "    <th>? \" xxmaj his wife xxunk back , \" xxmaj he xxunk your xxunk . \" xxbos a lawyer xxunk</th>\n",
              "    <th>? \" \" xxunk mother xxunk xxunk to \" xxunk xxunk 's xxunk xxunk . \" \" xxfld xxunk asked</th>\n",
              "  </tr>\n",
              "  <tr>\n",
              "    <th>of his xxup xxunk , when xxunk a car xxunk xxunk and xxunk the door , xxunk it off xxunk</th>\n",
              "    <th>xxmaj when the xxunk xxunk at the xxunk , the lawyer was xxunk xxunk about the xxunk to his xxunk</th>\n",
              "    <th>\" xxunk he xxunk xxunk xxunk the xxunk xxunk xxunk xxunk xxunk xxunk . . the xxunk xxunk xxunk xxunk</th>\n",
              "  </tr>\n",
              "</table>\n"
            ],
            "text/plain": [
              "<IPython.core.display.HTML object>"
            ]
          },
          "metadata": {
            "tags": []
          }
        }
      ]
    },
    {
      "metadata": {
        "id": "qAQ4m7H9pOel",
        "colab_type": "code",
        "colab": {}
      },
      "cell_type": "code",
      "source": [
        "##load the encoder models in models folder and load the model encoder\n",
        "#!mkdir data/models\n",
        "#!mv mini_train_encoder.pth data/models/\n",
        "#!mv mini_train_lm.pth data/models/\n",
        "#learn.load_encoder('mini_train_encoder')"
      ],
      "execution_count": 0,
      "outputs": []
    },
    {
      "metadata": {
        "id": "0if2oK1GyZ3Q",
        "colab_type": "text"
      },
      "cell_type": "markdown",
      "source": [
        "Word Embeddings\n",
        "\n",
        "[word-embedding-word2vec-explained](https://www.knime.com/blog/word-embedding-word2vec-explained)\n",
        "\n",
        "[word-embeddings-exploration-explanation-and-exploitation](https://towardsdatascience.com/word-embeddings-exploration-explanation-and-exploitation-with-code-in-python-5dac99d5d795)\n",
        "\n",
        "[AV word-embeddings-count-word2veec](https://www.analyticsvidhya.com/blog/2017/06/word-embeddings-count-word2veec/)"
      ]
    },
    {
      "metadata": {
        "id": "NzD2gd6fyZ_w",
        "colab_type": "text"
      },
      "cell_type": "markdown",
      "source": [
        ""
      ]
    },
    {
      "metadata": {
        "id": "ewRKcAk0pOYa",
        "colab_type": "code",
        "colab": {}
      },
      "cell_type": "code",
      "source": [
        "#classifier\n",
        "path = 'data/'\n",
        "data = TextClasDataBunch.from_csv(path, 'train.csv')\n",
        "iter_dl = iter(data.train_dl)\n",
        "_ = next(iter_dl)\n",
        "x,y = next(iter_dl)\n",
        "x[-10:,:20]"
      ],
      "execution_count": 0,
      "outputs": []
    },
    {
      "metadata": {
        "id": "yAexyne7pOVP",
        "colab_type": "code",
        "colab": {}
      },
      "cell_type": "code",
      "source": [
        "\n",
        "# Language model data\n",
        "data_lm = (TextList.from_csv(path_working, 'jokes.csv', cols='text') \n",
        "                   .random_split_by_pct()\n",
        "                   .databunch(bs=256))"
      ],
      "execution_count": 0,
      "outputs": []
    },
    {
      "metadata": {
        "id": "gEnwQ6napOR1",
        "colab_type": "code",
        "colab": {}
      },
      "cell_type": "code",
      "source": [
        "# Language model data\n",
        "data_lm = (TextList.from_csv(path_working, 'train.csv', cols='text') \n",
        "                   .random_split_by_pct()\n",
        "                   .label_for_lm()\n",
        "                   .add_test(TextList.from_csv(path_working, 'test.csv', cols='text'))\n",
        "                   .databunch(bs=256))"
      ],
      "execution_count": 0,
      "outputs": []
    },
    {
      "metadata": {
        "id": "AxOxNEKkpNOK",
        "colab_type": "code",
        "colab": {}
      },
      "cell_type": "code",
      "source": [
        "# Classifier model data\n",
        "\n",
        "data_clas = (TextList.from_csv(path_working, 'train.csv',cols='text', vocab=data_lm.vocab)\n",
        "    .split_from_df(col='is_valid') #is_valid\n",
        "    .label_from_df(cols='target')\n",
        "    .add_test(TextList.from_csv(path_working, 'test.csv', cols='text'))\n",
        "    .databunch(bs=42))"
      ],
      "execution_count": 0,
      "outputs": []
    },
    {
      "metadata": {
        "id": "BKAgmYk_4jRE",
        "colab_type": "code",
        "colab": {}
      },
      "cell_type": "code",
      "source": [
        "# Classifier model data\n",
        "#data_clas = TextClasDataBunch.from_df(path = \"\", train_df = df_trn, valid_df = df_val, vocab=data_lm.train_ds.vocab, bs=32)"
      ],
      "execution_count": 0,
      "outputs": []
    },
    {
      "metadata": {
        "id": "xXmn-7aO3NQp",
        "colab_type": "text"
      },
      "cell_type": "markdown",
      "source": [
        "It contains one line per review, with the Rating (numerical value), the text and a flag to determine if it should be part of the validation set or the training set. If we ignore this flag, we can create a DataBunch containing this data in one line of code:"
      ]
    },
    {
      "metadata": {
        "id": "RrjD5men4t_E",
        "colab_type": "code",
        "colab": {}
      },
      "cell_type": "code",
      "source": [
        "# train the learner object\n",
        "learn.fit_one_cycle(1, 1e-2)"
      ],
      "execution_count": 0,
      "outputs": []
    },
    {
      "metadata": {
        "id": "YD5fhyiG3NQq",
        "colab_type": "code",
        "colab": {}
      },
      "cell_type": "code",
      "source": [
        "#data_lm = TextDataBunch.from_csv(path='data/',csv_name='jokes.csv')\n",
        "#data_lm = TextDataBunch.from_df(path, 'train_df', text_cols='joke_text',label_cols='Rating')\n",
        "#data_lm = (TextList.from_folder(path='data/')\n",
        "           #Inputs: all the text files in path\n",
        "#            .filter_by_folder(include=['train', 'test']) \n",
        "           #We may have other temp folders that contain text files so we only keep what's in train and test\n",
        "#            .random_split_by_pct(0.1)\n",
        "           #We randomly split and keep 10% (10,000 reviews) for validation\n",
        "#            .label_for_lm()           \n",
        "           #We want to do a language model so we label accordingly\n",
        "#            .databunch(bs=48))\n",
        "data_lm.save('tmp_lm')\n",
        "\n"
      ],
      "execution_count": 0,
      "outputs": []
    },
    {
      "metadata": {
        "id": "TZRuKQ203NQu",
        "colab_type": "text"
      },
      "cell_type": "markdown",
      "source": [
        "By executing this line a process was launched that took a bit of time. Let's dig a bit into it. Images could be fed (almost) directly into a model because they're just a big array of pixel values that are floats between 0 and 1. A text is composed of words, and we can't apply mathematical functions to them directly. We first have to convert them to numbers. This is done in two differents steps: tokenization and numericalization. A `TextDataBunch` does all of that behind the scenes for you.\n",
        "\n",
        "Before we delve into the explanations, let's take the time to save the things that were calculated."
      ]
    },
    {
      "metadata": {
        "id": "uE_h0mKO3NQu",
        "colab_type": "code",
        "colab": {}
      },
      "cell_type": "code",
      "source": [
        "data_lm.save()"
      ],
      "execution_count": 0,
      "outputs": []
    },
    {
      "metadata": {
        "id": "Z2JFnGLQ3NQy",
        "colab_type": "text"
      },
      "cell_type": "markdown",
      "source": [
        "Next time we launch this notebook, we can skip the cell above that took a bit of time (and that will take a lot more when you get to the full dataset) and load those results like this:"
      ]
    },
    {
      "metadata": {
        "id": "QF5TK-0c3NQy",
        "colab_type": "code",
        "colab": {}
      },
      "cell_type": "code",
      "source": [
        "data = TextDataBunch.load(path)"
      ],
      "execution_count": 0,
      "outputs": []
    },
    {
      "metadata": {
        "id": "0uOhyJM93NQ1",
        "colab_type": "text"
      },
      "cell_type": "markdown",
      "source": [
        "### Tokenization"
      ]
    },
    {
      "metadata": {
        "id": "bMxXykhQ3NQ3",
        "colab_type": "text"
      },
      "cell_type": "markdown",
      "source": [
        "The first step of processing we make texts go through is to split the raw sentences into words, or more exactly tokens. The easiest way to do this would be to split the string on spaces, but we can be smarter:\n",
        "\n",
        "- we need to take care of punctuation\n",
        "- some words are contractions of two different words, like isn't or don't\n",
        "- we may need to clean some parts of our texts, if there's HTML code for instance\n",
        "\n",
        "To see what the tokenizer had done behind the scenes, let's have a look at a few texts in a batch."
      ]
    },
    {
      "metadata": {
        "id": "mjsLdz873NQ4",
        "colab_type": "code",
        "colab": {}
      },
      "cell_type": "code",
      "source": [
        "data = TextClasDataBunch.load(path)\n",
        "data.show_batch()"
      ],
      "execution_count": 0,
      "outputs": []
    },
    {
      "metadata": {
        "id": "euO0pkh83NQ9",
        "colab_type": "text"
      },
      "cell_type": "markdown",
      "source": [
        "The texts are truncated at 100 tokens for more readability. We can see that it did more than just split on space and punctuation symbols: \n",
        "- the \"'s\" are grouped together in one token\n",
        "- the contractions are separated like his: \"did\", \"n't\"\n",
        "- content has been cleaned for any HTML symbol and lower cased\n",
        "- there are several special tokens (all those that begin by xx), to replace unkown tokens (see below) or to introduce different text fields (here we only have one)."
      ]
    },
    {
      "metadata": {
        "id": "gRxQcW1Q3NQ-",
        "colab_type": "text"
      },
      "cell_type": "markdown",
      "source": [
        "### Numericalization"
      ]
    },
    {
      "metadata": {
        "id": "-dHwyPhD3NQ-",
        "colab_type": "text"
      },
      "cell_type": "markdown",
      "source": [
        "Once we have extracted tokens from our texts, we convert to integers by creating a list of all the words used. We only keep the ones that appear at list twice with a maximum vocabulary size of 60,000 (by default) and replace the ones that don't make the cut by the unknown token `UNK`.\n",
        "\n",
        "The correspondance from ids tokens is stored in the `vocab` attribute of our datasets, in a dictionary called `itos` (for int to string)."
      ]
    },
    {
      "metadata": {
        "id": "f0Xb99IE3NRA",
        "colab_type": "code",
        "colab": {}
      },
      "cell_type": "code",
      "source": [
        "data.vocab.itos[:10]"
      ],
      "execution_count": 0,
      "outputs": []
    },
    {
      "metadata": {
        "id": "35ue3Umm3NRE",
        "colab_type": "text"
      },
      "cell_type": "markdown",
      "source": [
        "And if we look at what a what's in our datasets, we'll see the tokenized text as a representation:"
      ]
    },
    {
      "metadata": {
        "id": "mr5vKxhU3NRF",
        "colab_type": "code",
        "colab": {}
      },
      "cell_type": "code",
      "source": [
        "data.train_ds[0][0]"
      ],
      "execution_count": 0,
      "outputs": []
    },
    {
      "metadata": {
        "id": "19NmtmOJ3NRN",
        "colab_type": "text"
      },
      "cell_type": "markdown",
      "source": [
        "But the underlying data is all numbers"
      ]
    },
    {
      "metadata": {
        "id": "KvJvNJPx3NRP",
        "colab_type": "code",
        "colab": {}
      },
      "cell_type": "code",
      "source": [
        "data.train_ds[0][0].data[:10]"
      ],
      "execution_count": 0,
      "outputs": []
    },
    {
      "metadata": {
        "id": "tH25ShXu3NRU",
        "colab_type": "text"
      },
      "cell_type": "markdown",
      "source": [
        "### With the data block API"
      ]
    },
    {
      "metadata": {
        "id": "vOiPjgjm3NRU",
        "colab_type": "text"
      },
      "cell_type": "markdown",
      "source": [
        "We can use the data block API with NLP and have a lot more flexibility than what the default factory methods offer. In the previous example for instance, the data was randomly split between train and validation instead of reading the third column of the csv.\n",
        "\n",
        "With the data block API though, we have to manually call the tokenize and numericalize steps. This allows more flexibility, and if you're not using the defaults from fastai, the variaous arguments to pass will appear in the step they're revelant, so it'll be more readable."
      ]
    },
    {
      "metadata": {
        "id": "6yPHDF5-3NRZ",
        "colab_type": "code",
        "colab": {}
      },
      "cell_type": "code",
      "source": [
        "data = (TextList.from_csv(path, 'texts.csv', cols='text')\n",
        "                .split_from_df(col=2)\n",
        "                .label_from_df(cols=0)\n",
        "                .databunch())"
      ],
      "execution_count": 0,
      "outputs": []
    },
    {
      "metadata": {
        "id": "_p4VR7HRnxhD",
        "colab_type": "text"
      },
      "cell_type": "markdown",
      "source": [
        "###Word Embeddings \n",
        "Working on Text Data to derive the wisdom from words. \n"
      ]
    },
    {
      "metadata": {
        "id": "rqE0VIUiwOKf",
        "colab_type": "text"
      },
      "cell_type": "markdown",
      "source": [
        "[word-embedding-word2vec-explained](https://www.knime.com/blog/word-embedding-word2vec-explained)\n",
        "\n",
        "[word-embeddings-exploration-explanation-and-exploitation](https://towardsdatascience.com/word-embeddings-exploration-explanation-and-exploitation-with-code-in-python-5dac99d5d795)\n",
        "\n",
        "[AV word-embeddings-count-word2veec](https://www.analyticsvidhya.com/blog/2017/06/word-embeddings-count-word2veec/)"
      ]
    },
    {
      "metadata": {
        "id": "oPb0k7C9oC1x",
        "colab_type": "text"
      },
      "cell_type": "markdown",
      "source": [
        "Analytics Vidhya Explanation to word embeddings:-\n",
        "\n",
        "In very simplistic terms, **Word Embeddings are the texts converted into numbers and there may be different numerical representations of the same text.**\n",
        "\n",
        "As it turns out in many Machine Learning algorithms and almost all Deep Learning Architectures are incapable of processing strings or plain text in their raw form. They require numbers as inputs to perform any sort of job, be it classification, regression etc.\n",
        "\n",
        "####Different types of Word Embeddings\n",
        " *  Frequency based Embedding\n",
        " * Count Vectors\n",
        " * TF-IDF\n",
        " * Co-Occurrence Matrix\n",
        " * Prediction based Embedding\n",
        " * CBOW\n",
        " * Skip-Gram\n",
        "\n",
        "####Different types of Word Embeddings\n",
        "The different types of word embeddings can be broadly classified into two categories-\n",
        "\n",
        "**Frequency based Embedding**\n",
        "\n",
        "**Prediction based Embedding**\n",
        "\n",
        "\n",
        "\n",
        "\n"
      ]
    },
    {
      "metadata": {
        "id": "sJ-YVv-1r6Qg",
        "colab_type": "text"
      },
      "cell_type": "markdown",
      "source": [
        "\n",
        "**Frequency based Embedding**\n",
        "\n",
        "1.   Count Vector (Unique tokens from the corpus to form our dictionary)\n",
        "\n",
        "2.   TF-IDF Vector (it takes into account not just the occurrence of a word in a single document but in the entire corpus. Ideally, what we would want is to down weight the common words occurring in almost all documents and give more importance to words that appear in a subset of documents.)\n",
        "\n",
        "3.   Co-Occurrence Vector(**The big idea** – Similar words tend to occur together and will have similar context for example – Apple is a fruit. Mango is a fruit.)\n",
        "\n",
        "**Advantages of Co-occurrence Matrix**\n",
        "\n",
        "It preserves the semantic relationship between words. i.e man and woman tend to be closer than man and apple.\n",
        "\n",
        "It uses SVD at its core, which produces more accurate word vector representations than existing methods.\n",
        "\n",
        "It uses factorization which is a well-defined problem and can be efficiently solved.\n",
        "\n",
        "It has to be computed once and can be used anytime once computed. In this sense, it is faster in comparison to others.\n",
        " \n",
        "\n",
        "**Disadvantages of Co-Occurrence Matrix**\n",
        "\n",
        "It requires huge memory to store the co-occurrence matrix.\n",
        "\n",
        "But, this problem can be circumvented by factorizing the matrix out of the system for example in Hadoop clusters etc. and can be saved.\n",
        "\n"
      ]
    },
    {
      "metadata": {
        "id": "wH7b7b4nr-PY",
        "colab_type": "text"
      },
      "cell_type": "markdown",
      "source": [
        "**Prediction based Embedding**\n",
        "\n",
        "\n",
        "*   CBOW\n",
        "*   Skip-Gram\n",
        "\n",
        "\n",
        "\n",
        "\n",
        "**CBOW (Continuous Bag of words)**\n",
        "\n",
        "The way CBOW work is that it tends to predict the probability of a word given a context. A context may be a single word or a group of words. But for simplicity, I will take a single context word and try to predict a single target word.\n",
        "\n",
        "**Advantages of CBOW:**\n",
        "\n",
        "Being probabilistic is nature, it is supposed to perform superior to deterministic methods(generally).\n",
        "\n",
        "It is low on memory. It does not need to have huge RAM requirements like that of co-occurrence matrix where it needs to store three huge matrices.\n",
        " \n",
        "\n",
        "**Disadvantages of CBOW:**\n",
        "\n",
        "CBOW takes the average of the context of a word (as seen above in calculation of hidden activation). For example, Apple can be both a fruit and a company but CBOW takes an average of both the contexts and places it in between a cluster for fruits and companies.\n",
        "\n",
        "Training a CBOW from scratch can take forever if not properly optimized.\n",
        "\n",
        "\n",
        "**Skip-Gram Model**\n",
        "\n",
        "Skip – gram follows the same topology as of CBOW. It just flips CBOW’s architecture on its head. The aim of skip-gram is to predict the context given a word.\n",
        "\n",
        " \n"
      ]
    },
    {
      "metadata": {
        "id": "G5_53eHk3NRc",
        "colab_type": "text"
      },
      "cell_type": "markdown",
      "source": [
        "## Language model"
      ]
    },
    {
      "metadata": {
        "id": "bqWZxv_J3NRd",
        "colab_type": "text"
      },
      "cell_type": "markdown",
      "source": [
        "Now let's grab the full dataset for what follows."
      ]
    },
    {
      "metadata": {
        "id": "mj7OBl4_3NRe",
        "colab_type": "code",
        "colab": {}
      },
      "cell_type": "code",
      "source": [
        "path = untar_data(URLs.IMDB)\n",
        "path.ls()"
      ],
      "execution_count": 0,
      "outputs": []
    },
    {
      "metadata": {
        "id": "O9cdi_0Y3NRh",
        "colab_type": "code",
        "colab": {}
      },
      "cell_type": "code",
      "source": [
        "(path/'train').ls()"
      ],
      "execution_count": 0,
      "outputs": []
    },
    {
      "metadata": {
        "id": "BAiuhwdi3NRl",
        "colab_type": "text"
      },
      "cell_type": "markdown",
      "source": [
        "The reviews are in a training and test set following an imagenet structure. The only difference is that there is an `unsup` folder in `train` that contains the unlabelled data.\n",
        "\n",
        "We're not going to train a model that classifies the reviews from scratch. Like in computer vision, we'll use a model pretrained on a bigger dataset (a cleaned subset of wikipeia called [wikitext-103](https://einstein.ai/research/blog/the-wikitext-long-term-dependency-language-modeling-dataset)). That model has been trained to guess what the next word, its input being all the previous words. It has a recurrent structure and a hidden state that is updated each time it sees a new word. This hidden state thus contains information about the sentence up to that point.\n",
        "\n",
        "We are going to use that 'knowledge' of the English language to build our classifier, but first, like for computer vision, we need to fine-tune the pretrained model to our particular dataset. Because the English of the reviex lefts by people on IMDB isn't the same as the English of wikipedia, we'll need to adjust a little bit the parameters of our model. Plus there might be some words extremely common in that dataset that were barely present in wikipedia, and therefore might no be part of the vocabulary the model was trained on.\n",
        "\n",
        "Note that language models can use a lot of GPU, so you may need to decrease batchsize here."
      ]
    },
    {
      "metadata": {
        "id": "t0UJOdg43NRo",
        "colab_type": "text"
      },
      "cell_type": "markdown",
      "source": [
        "This is where the unlabelled data is going to be useful to us, as we can use it to fine-tune our model. Let's create our data object with the data block API (next line takes a few minutes)."
      ]
    },
    {
      "metadata": {
        "id": "xbhCtguo3NRn",
        "colab_type": "code",
        "colab": {}
      },
      "cell_type": "code",
      "source": [
        "bs=32"
      ],
      "execution_count": 0,
      "outputs": []
    },
    {
      "metadata": {
        "id": "FkSZuFSr3NRp",
        "colab_type": "code",
        "colab": {}
      },
      "cell_type": "code",
      "source": [
        "data_lm = (TextList.from_folder(path)\n",
        "           #Inputs: all the text files in path\n",
        "            .filter_by_folder(include=['train', 'test']) \n",
        "           #We may have other temp folders that contain text files so we only keep what's in train and test\n",
        "            .random_split_by_pct(0.1)\n",
        "           #We randomly split and keep 10% (10,000 reviews) for validation\n",
        "            .label_for_lm()           \n",
        "           #We want to do a language model so we label accordingly\n",
        "            .databunch(bs=bs))\n",
        "data_lm.save('tmp_lm')"
      ],
      "execution_count": 0,
      "outputs": []
    },
    {
      "metadata": {
        "id": "7ueTneGT3NRt",
        "colab_type": "text"
      },
      "cell_type": "markdown",
      "source": [
        "We have to use a special kind of `TextDataBunch` for the language model, that ignores the labels (that's why we put 0 everywhere), will shuffle the texts at each epoch before concatenating them all together (only for training, we don't shuffle for the validation set) and will send batches that read that text in order with targets that are the next word in the sentence.\n",
        "\n",
        "The line before being a bit long, we want to load quickly the final ids by using the following cell."
      ]
    },
    {
      "metadata": {
        "id": "mn9-IS5E3NRt",
        "colab_type": "code",
        "colab": {}
      },
      "cell_type": "code",
      "source": [
        "data_lm = TextLMDataBunch.load(path, 'tmp_lm', bs=bs)"
      ],
      "execution_count": 0,
      "outputs": []
    },
    {
      "metadata": {
        "id": "Yak4dKpl3NRw",
        "colab_type": "code",
        "colab": {}
      },
      "cell_type": "code",
      "source": [
        "data_lm.show_batch()"
      ],
      "execution_count": 0,
      "outputs": []
    },
    {
      "metadata": {
        "id": "hZHH-Dh73NR3",
        "colab_type": "text"
      },
      "cell_type": "markdown",
      "source": [
        "We can then put this in a learner object very easily with a model loaded with the pretrained weights. They'll be downloaded the first time you'll execute the following line and stored in './fastai/models/' (or elsewhere if you specified different paths in your config file)."
      ]
    },
    {
      "metadata": {
        "id": "_xYeeXJl3NR4",
        "colab_type": "code",
        "colab": {}
      },
      "cell_type": "code",
      "source": [
        "learn = language_model_learner(data_lm, pretrained_model=URLs.WT103_1, drop_mult=0.3)"
      ],
      "execution_count": 0,
      "outputs": []
    },
    {
      "metadata": {
        "id": "BuqTnWDO3NR8",
        "colab_type": "code",
        "colab": {}
      },
      "cell_type": "code",
      "source": [
        "learn.lr_find()"
      ],
      "execution_count": 0,
      "outputs": []
    },
    {
      "metadata": {
        "id": "rmbrEAWk3NSC",
        "colab_type": "code",
        "colab": {}
      },
      "cell_type": "code",
      "source": [
        "learn.recorder.plot(skip_end=15)"
      ],
      "execution_count": 0,
      "outputs": []
    },
    {
      "metadata": {
        "id": "F6pm9AKN3NSF",
        "colab_type": "code",
        "colab": {}
      },
      "cell_type": "code",
      "source": [
        "learn.fit_one_cycle(1, 1e-2, moms=(0.8,0.7))"
      ],
      "execution_count": 0,
      "outputs": []
    },
    {
      "metadata": {
        "id": "iEq4kiSXW0aE",
        "colab_type": "text"
      },
      "cell_type": "markdown",
      "source": [
        "Total time: 1:24:10\n",
        "\n",
        "epoch\ttrain_loss\tvalid_loss\taccuracy\n",
        "\n",
        "1\t4.198589\t4.057909\t0.294069\n"
      ]
    },
    {
      "metadata": {
        "id": "Q5Au13003NSJ",
        "colab_type": "code",
        "colab": {}
      },
      "cell_type": "code",
      "source": [
        "learn.save('fit_head')"
      ],
      "execution_count": 0,
      "outputs": []
    },
    {
      "metadata": {
        "id": "Uc9M2sSV3NSL",
        "colab_type": "code",
        "colab": {}
      },
      "cell_type": "code",
      "source": [
        "learn.load('fit_head');"
      ],
      "execution_count": 0,
      "outputs": []
    },
    {
      "metadata": {
        "id": "73rRtdBr3NSO",
        "colab_type": "text"
      },
      "cell_type": "markdown",
      "source": [
        "To complete the fine-tuning, we can then unfeeze and launch a new training."
      ]
    },
    {
      "metadata": {
        "id": "69F-Gmv53NSP",
        "colab_type": "code",
        "colab": {}
      },
      "cell_type": "code",
      "source": [
        "learn.unfreeze()\n",
        "learn.fit_one_cycle(20, 1e-3, moms=(0.8,0.7))"
      ],
      "execution_count": 0,
      "outputs": []
    },
    {
      "metadata": {
        "id": "FnyUygYo3NSS",
        "colab_type": "code",
        "colab": {}
      },
      "cell_type": "code",
      "source": [
        "learn.save('fine_tuned')"
      ],
      "execution_count": 0,
      "outputs": []
    },
    {
      "metadata": {
        "id": "WUm8kyZx3NSV",
        "colab_type": "text"
      },
      "cell_type": "markdown",
      "source": [
        "How good is our model? Well let's try to see what it predicts after a few given words."
      ]
    },
    {
      "metadata": {
        "id": "2MPrc6Ic3NSW",
        "colab_type": "code",
        "colab": {}
      },
      "cell_type": "code",
      "source": [
        "learn.load('fine_tuned');"
      ],
      "execution_count": 0,
      "outputs": []
    },
    {
      "metadata": {
        "id": "WCKDvJFZ3NSg",
        "colab_type": "code",
        "colab": {}
      },
      "cell_type": "code",
      "source": [
        "TEXT = \"i liked this movie because\"\n",
        "N_WORDS = 40\n",
        "N_SENTENCES = 2"
      ],
      "execution_count": 0,
      "outputs": []
    },
    {
      "metadata": {
        "id": "x2zTP_Bh3NSl",
        "colab_type": "code",
        "colab": {}
      },
      "cell_type": "code",
      "source": [
        "print(\"\\n\".join(learn.predict(TEXT, N_WORDS) for _ in range(N_SENTENCES)))"
      ],
      "execution_count": 0,
      "outputs": []
    },
    {
      "metadata": {
        "id": "MrM6lFdL3NSr",
        "colab_type": "text"
      },
      "cell_type": "markdown",
      "source": [
        "We have to save the model but also it's encoder, the part that's responsible for creating and updating the hidden state. For the next part, we don't care about the part that tries to guess the next word."
      ]
    },
    {
      "metadata": {
        "id": "mztPHQZw3NSs",
        "colab_type": "code",
        "colab": {}
      },
      "cell_type": "code",
      "source": [
        "learn.save_encoder('fine_tuned_enc')"
      ],
      "execution_count": 0,
      "outputs": []
    },
    {
      "metadata": {
        "id": "c2yqFbMU3NSw",
        "colab_type": "text"
      },
      "cell_type": "markdown",
      "source": [
        "## Classifier"
      ]
    },
    {
      "metadata": {
        "id": "nWIOxKlG3NSw",
        "colab_type": "text"
      },
      "cell_type": "markdown",
      "source": [
        "Now, we'll create a new data object that only grabs the labelled data and keeps those labels. Again, this line takes a bit of time."
      ]
    },
    {
      "metadata": {
        "id": "HIqEJo163NSy",
        "colab_type": "code",
        "colab": {}
      },
      "cell_type": "code",
      "source": [
        "path = untar_data(URLs.IMDB)"
      ],
      "execution_count": 0,
      "outputs": []
    },
    {
      "metadata": {
        "id": "SbHqIvAK3NS1",
        "colab_type": "code",
        "colab": {}
      },
      "cell_type": "code",
      "source": [
        "data_clas = (TextList.from_folder(path, vocab=data_lm.vocab)\n",
        "             #grab all the text files in path\n",
        "             .split_by_folder(valid='test')\n",
        "             #split by train and valid folder (that only keeps 'train' and 'test' so no need to filter)\n",
        "             .label_from_folder(classes=['neg', 'pos'])\n",
        "             #remove docs with labels not in above list (i.e. 'unsup')\n",
        "             .filter_missing_y()\n",
        "             #label them all with their folders\n",
        "             .databunch(bs=bs))\n",
        "data_clas.save('tmp_clas')"
      ],
      "execution_count": 0,
      "outputs": []
    },
    {
      "metadata": {
        "id": "lcRwKZ0X3NS6",
        "colab_type": "code",
        "colab": {}
      },
      "cell_type": "code",
      "source": [
        "len(data_clas.train_ds)"
      ],
      "execution_count": 0,
      "outputs": []
    },
    {
      "metadata": {
        "id": "JG6THlbW3NS_",
        "colab_type": "code",
        "colab": {}
      },
      "cell_type": "code",
      "source": [
        "data_clas = TextClasDataBunch.load(path, 'tmp_clas', bs=bs)\n",
        "data_clas.show_batch()"
      ],
      "execution_count": 0,
      "outputs": []
    },
    {
      "metadata": {
        "id": "EGldEOpW3NTE",
        "colab_type": "text"
      },
      "cell_type": "markdown",
      "source": [
        "We can then create a model to classify those reviews and load the encoder we saved before."
      ]
    },
    {
      "metadata": {
        "id": "lTj72fFO3NTG",
        "colab_type": "code",
        "colab": {}
      },
      "cell_type": "code",
      "source": [
        "learn = text_classifier_learner(data_clas, drop_mult=0.5)\n",
        "learn.load_encoder('fine_tuned_enc')\n",
        "learn.freeze()"
      ],
      "execution_count": 0,
      "outputs": []
    },
    {
      "metadata": {
        "id": "pab-A1AH3NTK",
        "colab_type": "code",
        "colab": {}
      },
      "cell_type": "code",
      "source": [
        "learn.lr_find()"
      ],
      "execution_count": 0,
      "outputs": []
    },
    {
      "metadata": {
        "id": "9VzWsmcx3NTS",
        "colab_type": "code",
        "colab": {}
      },
      "cell_type": "code",
      "source": [
        "learn.recorder.plot()"
      ],
      "execution_count": 0,
      "outputs": []
    },
    {
      "metadata": {
        "id": "5ssDdm3q3NTW",
        "colab_type": "code",
        "colab": {}
      },
      "cell_type": "code",
      "source": [
        "learn.fit_one_cycle(1, 2e-2, moms=(0.8,0.7))"
      ],
      "execution_count": 0,
      "outputs": []
    },
    {
      "metadata": {
        "id": "X9HqH3J33NTa",
        "colab_type": "code",
        "colab": {}
      },
      "cell_type": "code",
      "source": [
        "learn.save('first')"
      ],
      "execution_count": 0,
      "outputs": []
    },
    {
      "metadata": {
        "id": "AJyc9Jdl3NTg",
        "colab_type": "code",
        "colab": {}
      },
      "cell_type": "code",
      "source": [
        "learn.load('first');"
      ],
      "execution_count": 0,
      "outputs": []
    },
    {
      "metadata": {
        "id": "-e-mEPyi3NTj",
        "colab_type": "code",
        "colab": {}
      },
      "cell_type": "code",
      "source": [
        "learn.freeze_to(-2)\n",
        "learn.fit_one_cycle(1, slice(1e-2/(2.6**4),1e-2), moms=(0.8,0.7))"
      ],
      "execution_count": 0,
      "outputs": []
    },
    {
      "metadata": {
        "id": "RuaYOzQi3NTp",
        "colab_type": "code",
        "colab": {}
      },
      "cell_type": "code",
      "source": [
        "learn.save('second')"
      ],
      "execution_count": 0,
      "outputs": []
    },
    {
      "metadata": {
        "id": "RfNMP3zD3NTt",
        "colab_type": "code",
        "colab": {}
      },
      "cell_type": "code",
      "source": [
        "learn.load('second');"
      ],
      "execution_count": 0,
      "outputs": []
    },
    {
      "metadata": {
        "id": "yOCISJim3NTy",
        "colab_type": "code",
        "colab": {}
      },
      "cell_type": "code",
      "source": [
        "learn.freeze_to(-3)\n",
        "learn.fit_one_cycle(1, slice(5e-3/(2.6**4),5e-3), moms=(0.8,0.7))"
      ],
      "execution_count": 0,
      "outputs": []
    },
    {
      "metadata": {
        "id": "XphdIfyj3NT2",
        "colab_type": "code",
        "colab": {}
      },
      "cell_type": "code",
      "source": [
        "learn.save('third')"
      ],
      "execution_count": 0,
      "outputs": []
    },
    {
      "metadata": {
        "id": "D0y8PUT03NT5",
        "colab_type": "code",
        "colab": {}
      },
      "cell_type": "code",
      "source": [
        "learn.load('third');"
      ],
      "execution_count": 0,
      "outputs": []
    },
    {
      "metadata": {
        "id": "P8kZ0gc63NT9",
        "colab_type": "code",
        "colab": {}
      },
      "cell_type": "code",
      "source": [
        "learn.unfreeze()\n",
        "learn.fit_one_cycle(2, slice(1e-3/(2.6**4),1e-3), moms=(0.8,0.7))"
      ],
      "execution_count": 0,
      "outputs": []
    },
    {
      "metadata": {
        "id": "jMhqd-Lh3NT_",
        "colab_type": "code",
        "colab": {}
      },
      "cell_type": "code",
      "source": [
        "learn.predict(\"I really loved that movie, it was awesome!\")"
      ],
      "execution_count": 0,
      "outputs": []
    },
    {
      "metadata": {
        "id": "qegtrZ673NUF",
        "colab_type": "code",
        "colab": {}
      },
      "cell_type": "code",
      "source": [
        ""
      ],
      "execution_count": 0,
      "outputs": []
    }
  ]
}