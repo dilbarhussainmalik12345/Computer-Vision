{
  "nbformat": 4,
  "nbformat_minor": 0,
  "metadata": {
    "colab": {
      "name": "rakuten_food_updated.ipynb",
      "version": "0.3.2",
      "provenance": [],
      "collapsed_sections": [],
      "toc_visible": true,
      "include_colab_link": true
    },
    "kernelspec": {
      "name": "python3",
      "display_name": "Python 3"
    },
    "accelerator": "GPU"
  },
  "cells": [
    {
      "cell_type": "markdown",
      "metadata": {
        "id": "view-in-github",
        "colab_type": "text"
      },
      "source": [
        "<a href=\"https://colab.research.google.com/github/navneetkrc/Colab_fastai/blob/master/rakuten_food_updated.ipynb\" target=\"_parent\"><img src=\"https://colab.research.google.com/assets/colab-badge.svg\" alt=\"Open In Colab\"/></a>"
      ]
    },
    {
      "metadata": {
        "id": "sbgFa7PrnIOC",
        "colab_type": "text"
      },
      "cell_type": "markdown",
      "source": [
        "##Need v1.0.25 of fastai which is not yet published so install it from GitHub."
      ]
    },
    {
      "metadata": {
        "id": "-ZA8PixpnLp-",
        "colab_type": "code",
        "colab": {}
      },
      "cell_type": "code",
      "source": [
        "# To determine which version you're using:\n",
        "!pip show tensorflow\n",
        "\n",
        "# For the current version: \n",
        "!pip install --upgrade tensorflow\n",
        "\n",
        "# For a specific version:\n",
        "#!pip install tensorflow==1.2\n",
        "\n",
        "# For the latest nightly build:\n",
        "#!pip install tf-nightly\n"
      ],
      "execution_count": 0,
      "outputs": []
    },
    {
      "metadata": {
        "id": "26dxD8uonPFO",
        "colab_type": "code",
        "colab": {}
      },
      "cell_type": "code",
      "source": [
        "# http://pytorch.org/\n",
        "from os.path import exists\n",
        "from wheel.pep425tags import get_abbr_impl, get_impl_ver, get_abi_tag\n",
        "platform = '{}{}-{}'.format(get_abbr_impl(), get_impl_ver(), get_abi_tag())\n",
        "cuda_output = !ldconfig -p|grep cudart.so|sed -e 's/.*\\.\\([0-9]*\\)\\.\\([0-9]*\\)$/cu\\1\\2/'\n",
        "accelerator = cuda_output[0] if exists('/dev/nvidia0') else 'cpu'"
      ],
      "execution_count": 0,
      "outputs": []
    },
    {
      "metadata": {
        "id": "bW4fr6GCK1DO",
        "colab_type": "code",
        "colab": {}
      },
      "cell_type": "code",
      "source": [
        "!pip install torch_nightly -f https://download.pytorch.org/whl/nightly/cu92/torch_nightly.html"
      ],
      "execution_count": 0,
      "outputs": []
    },
    {
      "metadata": {
        "id": "9nvdV4y1LbOd",
        "colab_type": "code",
        "colab": {}
      },
      "cell_type": "code",
      "source": [
        "import torch\n",
        "print(torch.__version__)\n",
        "!pip install torchtext==0.2.3\n",
        "!pip install Pillow==4.0.0\n",
        "!pip install PIL\n",
        "!pip install image"
      ],
      "execution_count": 0,
      "outputs": []
    },
    {
      "metadata": {
        "id": "1kTPd7NOnfoJ",
        "colab_type": "text"
      },
      "cell_type": "markdown",
      "source": [
        "We import all the necessary packages. We are going to work with the [fastai V1 library](http://www.fast.ai/2018/10/02/fastai-ai/) which sits on top of [Pytorch 1.0](https://hackernoon.com/pytorch-1-0-468332ba5163). The fastai library provides many useful functions that enable us to quickly and easily build neural networks and train our models."
      ]
    },
    {
      "metadata": {
        "id": "nnM_DhF9nMNp",
        "colab_type": "code",
        "colab": {}
      },
      "cell_type": "code",
      "source": [
        "!pip install fastai==1.0.26"
      ],
      "execution_count": 0,
      "outputs": []
    },
    {
      "metadata": {
        "id": "ysw7EatenXWk",
        "colab_type": "code",
        "colab": {}
      },
      "cell_type": "code",
      "source": [
        "from fastai import *\n",
        "from fastai.vision import *\n",
        "import pandas as pd "
      ],
      "execution_count": 0,
      "outputs": []
    },
    {
      "metadata": {
        "id": "p74I4C9Tj5Nc",
        "colab_type": "text"
      },
      "cell_type": "markdown",
      "source": [
        "If you're using a computer with an unusually small GPU, you may get an out of memory error when running this notebook. If this happens, click Kernel->Restart, uncomment the 2nd line below to use a smaller *batch size* (you'll learn all about what this means during the course), and try again."
      ]
    },
    {
      "metadata": {
        "id": "kp8CxLJhj5Ne",
        "colab_type": "code",
        "colab": {}
      },
      "cell_type": "code",
      "source": [
        "bs = 64\n",
        "# bs = 16   # uncomment this line if you run out of memory even after clicking Kernel->Restart"
      ],
      "execution_count": 0,
      "outputs": []
    },
    {
      "metadata": {
        "id": "P_6o74Lpj5NS",
        "colab_type": "text"
      },
      "cell_type": "markdown",
      "source": [
        "#  Rakuten Food Image Dataset"
      ]
    },
    {
      "metadata": {
        "id": "ns286Ftsj5Ng",
        "colab_type": "text"
      },
      "cell_type": "markdown",
      "source": [
        "## Looking at the data"
      ]
    },
    {
      "metadata": {
        "id": "JdLc837Tug-8",
        "colab_type": "text"
      },
      "cell_type": "markdown",
      "source": [
        "###Getting Dataset from Kaggle"
      ]
    },
    {
      "metadata": {
        "id": "hp5wmCePmOt6",
        "colab_type": "code",
        "outputId": "2d8f1633-96a4-4c8e-9149-9e97025b367b",
        "colab": {
          "base_uri": "https://localhost:8080/",
          "height": 34
        }
      },
      "cell_type": "code",
      "source": [
        "!pip install -U -q kaggle\n",
        "!mkdir -p ~/.kaggle\n",
        "!echo '{\"username\":\"navneetkrch\",\"key\":\"4910f3543e9486158ccfa00ca84b274f\"}'> ~/.kaggle/kaggle.json  # Replace\n",
        "!chmod 600 kaggle.json\n"
      ],
      "execution_count": 0,
      "outputs": [
        {
          "output_type": "stream",
          "text": [
            "chmod: cannot access 'kaggle.json': No such file or directory\n"
          ],
          "name": "stdout"
        }
      ]
    },
    {
      "metadata": {
        "id": "ir0LaUL4A6nh",
        "colab_type": "code",
        "outputId": "5b667710-1512-48a5-e6e8-457ee64ee3dc",
        "colab": {
          "base_uri": "https://localhost:8080/",
          "height": 173
        }
      },
      "cell_type": "code",
      "source": [
        "!mkdir -p data\n",
        "!kaggle datasets download -d mulx10/foodrecipe-rakuten\n",
        "!kaggle datasets download -d mulx10/rakutentest"
      ],
      "execution_count": 0,
      "outputs": [
        {
          "output_type": "stream",
          "text": [
            "Warning: Your Kaggle API key is readable by otherusers on this system! To fix this, you can run'chmod 600 /root/.kaggle/kaggle.json'\n",
            "Downloading foodrecipe-rakuten.zip to /content\n",
            "100% 4.55G/4.56G [01:36<00:00, 17.6MB/s]\n",
            "100% 4.56G/4.56G [01:36<00:00, 51.0MB/s]\n",
            "Warning: Your Kaggle API key is readable by otherusers on this system! To fix this, you can run'chmod 600 /root/.kaggle/kaggle.json'\n",
            "Downloading rakutentest.zip to /content\n",
            "100% 976M/981M [00:16<00:00, 39.0MB/s]\n",
            "100% 981M/981M [00:16<00:00, 62.6MB/s]\n"
          ],
          "name": "stdout"
        }
      ]
    },
    {
      "metadata": {
        "id": "ulGQ1OSQO9Ek",
        "colab_type": "code",
        "colab": {}
      },
      "cell_type": "code",
      "source": [
        "!unzip foodrecipe-rakuten.zip -d data\n",
        "!unzip rakutentest.zip -d data"
      ],
      "execution_count": 0,
      "outputs": []
    },
    {
      "metadata": {
        "id": "DLF1Z4TTW_qR",
        "colab_type": "code",
        "colab": {}
      },
      "cell_type": "code",
      "source": [
        "!unzip data/train.zip -d data"
      ],
      "execution_count": 0,
      "outputs": []
    },
    {
      "metadata": {
        "id": "iocMMtHVbapw",
        "colab_type": "code",
        "colab": {}
      },
      "cell_type": "code",
      "source": [
        "!tar xvzf data/test.tar.gz"
      ],
      "execution_count": 0,
      "outputs": []
    },
    {
      "metadata": {
        "id": "mZcMlpls5VUR",
        "colab_type": "code",
        "outputId": "f7963616-fe61-40e5-9925-98645225fec1",
        "colab": {
          "base_uri": "https://localhost:8080/"
        }
      },
      "cell_type": "code",
      "source": [
        "print(\"test files unzipped\")"
      ],
      "execution_count": 0,
      "outputs": [
        {
          "output_type": "stream",
          "text": [
            "test files unzipped\n"
          ],
          "name": "stdout"
        }
      ]
    },
    {
      "metadata": {
        "id": "WdIvskhfcyo9",
        "colab_type": "code",
        "colab": {}
      },
      "cell_type": "code",
      "source": [
        "!mv test1-images data/test"
      ],
      "execution_count": 0,
      "outputs": []
    },
    {
      "metadata": {
        "id": "fsEz9mJgvZX-",
        "colab_type": "text"
      },
      "cell_type": "markdown",
      "source": [
        "###Setting the path for data"
      ]
    },
    {
      "metadata": {
        "id": "G2vaKZiDj5Ni",
        "colab_type": "text"
      },
      "cell_type": "markdown",
      "source": [
        "We are going to use the [Pet Breed Dataset](https://www.machinehack.com/course/who-let-the-dogs-out-pets-breed-classification-hackathon/) by [HACKEREARTH](https://www.hackerearth.com/) which features 43.\n",
        "\n",
        "Our model will need to learn to differentiate between these 43 distinct categories. \n",
        "We use **FASTAI-V1** model to get the results."
      ]
    },
    {
      "metadata": {
        "id": "BgwC3oueolnx",
        "colab_type": "code",
        "colab": {}
      },
      "cell_type": "code",
      "source": [
        "!mv data/data data/train\n"
      ],
      "execution_count": 0,
      "outputs": []
    },
    {
      "metadata": {
        "id": "gwJzBY31oFc9",
        "colab_type": "code",
        "outputId": "80af6fa7-1a64-43aa-94c6-bfaaa0acdbed",
        "colab": {
          "base_uri": "https://localhost:8080/"
        }
      },
      "cell_type": "code",
      "source": [
        "path = 'data/train';path"
      ],
      "execution_count": 0,
      "outputs": [
        {
          "output_type": "execute_result",
          "data": {
            "text/plain": [
              "'data/train'"
            ]
          },
          "metadata": {
            "tags": []
          },
          "execution_count": 16
        }
      ]
    },
    {
      "metadata": {
        "id": "WVkM8jTOp38l",
        "colab_type": "code",
        "outputId": "0256136b-3d41-4bc3-f97f-fd9a14ca3889",
        "colab": {
          "base_uri": "https://localhost:8080/"
        }
      },
      "cell_type": "code",
      "source": [
        "os.listdir('data/')"
      ],
      "execution_count": 0,
      "outputs": [
        {
          "output_type": "execute_result",
          "data": {
            "text/plain": [
              "['train', 'train.csv', 'test', 'test.tar.gz', 'train.zip']"
            ]
          },
          "metadata": {
            "tags": []
          },
          "execution_count": 17
        }
      ]
    },
    {
      "metadata": {
        "id": "MvJ_i2RCj5Nz",
        "colab_type": "text"
      },
      "cell_type": "markdown",
      "source": [
        "###Loading and Understanding the Data\n",
        "The first thing we do when we approach a problem is to take a look at the data. We _always_ need to understand very well what the problem is and what the data looks like before we can figure out how to solve it. Taking a look at the data, means **understanding how the data directories are structured**, what the **labels** are and what some **sample images** look like.\n",
        "\n",
        "The main difference between the handling of image classification datasets is the way labels are stored. In this particular dataset, **43 labels**are stored based on the folders.\n",
        "\n",
        "Fortunately, the fastai library has a handy function made exactly for this.\n",
        "\n",
        "[Image data from CSV / DataFrame](https://docs.fast.ai/vision.data.html#ImageDataBunch.from_csv)."
      ]
    },
    {
      "metadata": {
        "id": "S6Cr_Y__ikZJ",
        "colab_type": "text"
      },
      "cell_type": "markdown",
      "source": [
        "##Loading Labels [From_Folders](https://github.com/fastai/fastai/blob/master/fastai/vision/data.py#L108)\n",
        "\n",
        "from_folder(path:PathOrStr, train:PathOrStr='train', valid:PathOrStr='valid', valid_pct=None, classes:Collection=None, kwargs:Any) → ImageDataBunch\n",
        "\n",
        "Create from imagenet style dataset in path with train,valid,test subfolders (or provide valid_pct).\n",
        "\n",
        "\"Imagenet-style\" datasets look something like this (note that the test folder is optional):"
      ]
    },
    {
      "metadata": {
        "id": "Kt2R3uq_cSsv",
        "colab_type": "text"
      },
      "cell_type": "markdown",
      "source": [
        "**File Structure**\n",
        "\n",
        "path\\\n",
        "\n",
        "    train\\\n",
        "        clas1\\\n",
        "        clas2\\\n",
        "        ...\n",
        "     valid\\\n",
        "        clas1\\\n",
        "        clas2\\\n",
        "        ...\n",
        "     test\\"
      ]
    },
    {
      "metadata": {
        "id": "qSs9j17lsP9h",
        "colab_type": "code",
        "colab": {}
      },
      "cell_type": "code",
      "source": [
        "tfms = get_transforms()\n",
        "data = ImageDataBunch.from_folder(path, train='train', valid_pct=0.2, test='../test', ds_tfms=tfms, size=224,classes=[str(i) for i in range(43)])"
      ],
      "execution_count": 0,
      "outputs": []
    },
    {
      "metadata": {
        "id": "Pv0tdkHWj5N-",
        "colab_type": "code",
        "outputId": "96e6ab92-180e-4655-bef6-73b9e9d452b5",
        "colab": {
          "base_uri": "https://localhost:8080/"
        }
      },
      "cell_type": "code",
      "source": [
        "print(data.test_ds[0])"
      ],
      "execution_count": 0,
      "outputs": [
        {
          "output_type": "stream",
          "text": [
            "(Image (3, 224, 224), Category 39)\n"
          ],
          "name": "stdout"
        }
      ]
    },
    {
      "metadata": {
        "id": "v3qixAdaj5OH",
        "colab_type": "code",
        "outputId": "ac9abf3e-b6a3-49cc-e20c-b42b85dc7f07",
        "colab": {
          "base_uri": "https://localhost:8080/"
        }
      },
      "cell_type": "code",
      "source": [
        "print(data.classes)\n",
        "len(data.classes),data.c"
      ],
      "execution_count": 0,
      "outputs": [
        {
          "output_type": "stream",
          "text": [
            "['0', '1', '2', '3', '4', '5', '6', '7', '8', '9', '10', '11', '12', '13', '14', '15', '16', '17', '18', '19', '20', '21', '22', '23', '24', '25', '26', '27', '28', '29', '30', '31', '32', '33', '34', '35', '36', '37', '38', '39', '40', '41', '42']\n"
          ],
          "name": "stdout"
        },
        {
          "output_type": "execute_result",
          "data": {
            "text/plain": [
              "(43, 43)"
            ]
          },
          "metadata": {
            "tags": []
          },
          "execution_count": 20
        }
      ]
    },
    {
      "metadata": {
        "id": "Lxl8t4-cBbO9",
        "colab_type": "code",
        "outputId": "9316a80c-f036-4c9d-929e-ac93d8775d91",
        "colab": {
          "base_uri": "https://localhost:8080/"
        }
      },
      "cell_type": "code",
      "source": [
        "test_fnames = get_image_files('data/test')\n",
        "test_fnames[:5]\n",
        "#118863 files should be there"
      ],
      "execution_count": 0,
      "outputs": [
        {
          "output_type": "execute_result",
          "data": {
            "text/plain": [
              "[PosixPath('data/test/1450006181.jpg'),\n",
              " PosixPath('data/test/1700005306.jpg'),\n",
              " PosixPath('data/test/1600001715.jpg'),\n",
              " PosixPath('data/test/1020008555.jpg'),\n",
              " PosixPath('data/test/1750015270.jpg')]"
            ]
          },
          "metadata": {
            "tags": []
          },
          "execution_count": 21
        }
      ]
    },
    {
      "metadata": {
        "id": "SlkowL_KwgNg",
        "colab_type": "code",
        "outputId": "a1cf2df8-5351-4176-cbd3-1d69b7eedbc5",
        "colab": {
          "base_uri": "https://localhost:8080/",
          "height": 164
        }
      },
      "cell_type": "code",
      "source": [
        "len(test_fnames)\n"
      ],
      "execution_count": 0,
      "outputs": [
        {
          "output_type": "error",
          "ename": "NameError",
          "evalue": "ignored",
          "traceback": [
            "\u001b[0;31m---------------------------------------------------------------------------\u001b[0m",
            "\u001b[0;31mNameError\u001b[0m                                 Traceback (most recent call last)",
            "\u001b[0;32m<ipython-input-1-796229d3cb21>\u001b[0m in \u001b[0;36m<module>\u001b[0;34m()\u001b[0m\n\u001b[0;32m----> 1\u001b[0;31m \u001b[0mlen\u001b[0m\u001b[0;34m(\u001b[0m\u001b[0mtest_fnames\u001b[0m\u001b[0;34m)\u001b[0m\u001b[0;34m\u001b[0m\u001b[0;34m\u001b[0m\u001b[0m\n\u001b[0m",
            "\u001b[0;31mNameError\u001b[0m: name 'test_fnames' is not defined"
          ]
        }
      ]
    },
    {
      "metadata": {
        "id": "ziSypnBwxo72",
        "colab_type": "code",
        "outputId": "6302c44e-6b96-408a-c7b2-777af503aaba",
        "colab": {
          "base_uri": "https://localhost:8080/"
        }
      },
      "cell_type": "code",
      "source": [
        "df_names = pd.DataFrame(test_fnames)\n",
        "print (df.head())\n"
      ],
      "execution_count": 0,
      "outputs": [
        {
          "output_type": "error",
          "ename": "NameError",
          "evalue": "ignored",
          "traceback": [
            "\u001b[0;31m---------------------------------------------------------------------------\u001b[0m",
            "\u001b[0;31mNameError\u001b[0m                                 Traceback (most recent call last)",
            "\u001b[0;32m<ipython-input-23-155ebf247a36>\u001b[0m in \u001b[0;36m<module>\u001b[0;34m()\u001b[0m\n\u001b[1;32m      1\u001b[0m \u001b[0mdf_names\u001b[0m \u001b[0;34m=\u001b[0m \u001b[0mpd\u001b[0m\u001b[0;34m.\u001b[0m\u001b[0mDataFrame\u001b[0m\u001b[0;34m(\u001b[0m\u001b[0mtest_fnames\u001b[0m\u001b[0;34m)\u001b[0m\u001b[0;34m\u001b[0m\u001b[0;34m\u001b[0m\u001b[0m\n\u001b[0;32m----> 2\u001b[0;31m \u001b[0mprint\u001b[0m \u001b[0;34m(\u001b[0m\u001b[0mdf\u001b[0m\u001b[0;34m.\u001b[0m\u001b[0mhead\u001b[0m\u001b[0;34m(\u001b[0m\u001b[0;34m)\u001b[0m\u001b[0;34m)\u001b[0m\u001b[0;34m\u001b[0m\u001b[0;34m\u001b[0m\u001b[0m\n\u001b[0m",
            "\u001b[0;31mNameError\u001b[0m: name 'df' is not defined"
          ]
        }
      ]
    },
    {
      "metadata": {
        "id": "CORN5xAQyjl_",
        "colab_type": "code",
        "colab": {}
      },
      "cell_type": "code",
      "source": [
        "df_names.to_csv(\"names.csv\")"
      ],
      "execution_count": 0,
      "outputs": []
    },
    {
      "metadata": {
        "id": "wjZY2v-lj5PS",
        "colab_type": "text"
      },
      "cell_type": "markdown",
      "source": [
        "# Training: resnet50"
      ]
    },
    {
      "metadata": {
        "id": "3UVUSvu7j5PT",
        "colab_type": "text"
      },
      "cell_type": "markdown",
      "source": [
        "Now we will train in the same way as before but with one caveat: instead of using resnet34 as our backbone we will use resnet50 (resnet34 is a 34 layer residual network while resnet50 has 50 layers. It will be explained later in the course and you can learn the details in the [resnet paper](https://arxiv.org/pdf/1512.03385.pdf)).\n",
        "\n",
        "Basically, resnet50 usually performs better because it is a deeper network with more parameters. Let's see if we can achieve a higher performance here. To help it along, let's us use larger images too, since that way the network can see more detail. We reduce the batch size a bit since otherwise this larger network will require more GPU memory."
      ]
    },
    {
      "metadata": {
        "id": "LzwbzR1mfKrw",
        "colab_type": "code",
        "colab": {}
      },
      "cell_type": "code",
      "source": [
        "#For Metrics to have Top 3 results\n",
        "from fastai import *\n",
        "from sklearn import metrics as skm"
      ],
      "execution_count": 0,
      "outputs": []
    },
    {
      "metadata": {
        "id": "LOTpm40x-Jdy",
        "colab_type": "code",
        "colab": {}
      },
      "cell_type": "code",
      "source": [
        "def accuracy(output, target, topk=(3,)): #for Top3 \n",
        "    \"\"\"Computes the accuracy over the k top predictions for the specified values of k\"\"\"\n",
        "    with torch.no_grad():\n",
        "        maxk = max(topk)\n",
        "        batch_size = target.size(0)\n",
        "\n",
        "        _, pred = output.topk(maxk, 1, True, True)\n",
        "        pred = pred.t()\n",
        "        correct = pred.eq(target.view(1, -1).expand_as(pred))\n",
        "\n",
        "        res = []\n",
        "        for k in topk:\n",
        "            correct_k = correct[:k].view(-1).float().sum(0, keepdim=True)\n",
        "            res.append(correct_k.mul_(100.0 / batch_size))\n",
        "        return res"
      ],
      "execution_count": 0,
      "outputs": []
    },
    {
      "metadata": {
        "id": "VgZO34FTfRdN",
        "colab_type": "code",
        "colab": {}
      },
      "cell_type": "code",
      "source": [
        "def top_k_accuracy(input:Tensor, targs:Tensor, k:int=3)->Rank0Tensor:\n",
        "    \"Computes the Top-k accuracy (target is in the top k predictions).\"\n",
        "    n = targs.shape[0]\n",
        "    input = input.topk(k=k, dim=-1)[1].view(n, -1)\n",
        "    targs = targs.view(n,-1)\n",
        "    return (input == targs).sum(dim=1, dtype=torch.float32).mean()\n",
        "\n"
      ],
      "execution_count": 0,
      "outputs": []
    },
    {
      "metadata": {
        "id": "FeCcq_Onj5PV",
        "colab_type": "code",
        "outputId": "12463073-3cee-430d-a628-55895bf3c416",
        "colab": {
          "base_uri": "https://localhost:8080/",
          "height": 51
        }
      },
      "cell_type": "code",
      "source": [
        "learn = create_cnn(data, models.resnet34, metrics=top_k_accuracy)"
      ],
      "execution_count": 0,
      "outputs": [
        {
          "output_type": "stream",
          "text": [
            "Downloading: \"https://download.pytorch.org/models/resnet34-333f7ec4.pth\" to /root/.torch/models/resnet34-333f7ec4.pth\n",
            "100%|██████████| 87306240/87306240 [00:01<00:00, 61383118.47it/s]\n"
          ],
          "name": "stderr"
        }
      ]
    },
    {
      "metadata": {
        "id": "F05wFrjRj5PX",
        "colab_type": "code",
        "outputId": "8e49412e-4b77-4423-c66c-0308ce5e73dd",
        "colab": {
          "base_uri": "https://localhost:8080/",
          "height": 453
        }
      },
      "cell_type": "code",
      "source": [
        "learn.lr_find()\n",
        "learn.recorder.plot()"
      ],
      "execution_count": 0,
      "outputs": [
        {
          "output_type": "display_data",
          "data": {
            "text/html": [
              "\n",
              "    <div>\n",
              "        <style>\n",
              "        \t/* Turns off some styling */\n",
              "        \tprogress {\n",
              "\n",
              "            \t/* gets rid of default border in Firefox and Opera. */\n",
              "            \tborder: none;\n",
              "\n",
              "            \t/* Needs to be in here for Safari polyfill so background images work as expected. */\n",
              "            \tbackground-size: auto;\n",
              "            }\n",
              "\n",
              "            .progress-bar-interrupted, .progress-bar-interrupted::-webkit-progress-bar {\n",
              "                background: #F44336;\n",
              "            }\n",
              "        </style>\n",
              "      <progress value='0' class='' max='1', style='width:300px; height:20px; vertical-align: middle;'></progress>\n",
              "      0.00% [0/1 00:00<00:00]\n",
              "    </div>\n",
              "    \n",
              "<table style='width:300px; margin-bottom:10px'>\n",
              "  <tr>\n",
              "    <th>epoch</th>\n",
              "    <th>train_loss</th>\n",
              "    <th>valid_loss</th>\n",
              "    <th>top_k_accuracy</th>\n",
              "  </tr>\n",
              "  <tr>\n",
              "\n",
              "  </tr>\n",
              "</table>\n",
              "\n",
              "\n",
              "    <div>\n",
              "        <style>\n",
              "        \t/* Turns off some styling */\n",
              "        \tprogress {\n",
              "\n",
              "            \t/* gets rid of default border in Firefox and Opera. */\n",
              "            \tborder: none;\n",
              "\n",
              "            \t/* Needs to be in here for Safari polyfill so background images work as expected. */\n",
              "            \tbackground-size: auto;\n",
              "            }\n",
              "\n",
              "            .progress-bar-interrupted, .progress-bar-interrupted::-webkit-progress-bar {\n",
              "                background: #F44336;\n",
              "            }\n",
              "        </style>\n",
              "      <progress value='0' class='progress-bar-interrupted' max='6934', style='width:300px; height:20px; vertical-align: middle;'></progress>\n",
              "      Interrupted\n",
              "    </div>\n",
              "    "
            ],
            "text/plain": [
              "<IPython.core.display.HTML object>"
            ]
          },
          "metadata": {
            "tags": []
          }
        },
        {
          "output_type": "stream",
          "text": [
            "LR Finder is complete, type {learner_name}.recorder.plot() to see the graph.\n"
          ],
          "name": "stdout"
        },
        {
          "output_type": "display_data",
          "data": {
            "image/png": "[encoded data removed]",
            "text/plain": [
              "<matplotlib.figure.Figure at 0x7f9a1f5ffdd8>"
            ]
          },
          "metadata": {
            "tags": []
          }
        }
      ]
    },
    {
      "metadata": {
        "id": "Dl_chVWpdNRT",
        "colab_type": "text"
      },
      "cell_type": "markdown",
      "source": [
        ""
      ]
    },
    {
      "metadata": {
        "id": "lrRQzyK8j5Pa",
        "colab_type": "code",
        "outputId": "2843bff6-08ab-4f61-e67b-f92263e94d32",
        "colab": {
          "base_uri": "https://localhost:8080/",
          "height": 92
        }
      },
      "cell_type": "code",
      "source": [
        "learn.fit_one_cycle(4) ## best way to fit as of 2018\n",
        "print(\"learning complete\")"
      ],
      "execution_count": 0,
      "outputs": [
        {
          "output_type": "display_data",
          "data": {
            "text/html": [
              "\n",
              "    <div>\n",
              "        <style>\n",
              "        \t/* Turns off some styling */\n",
              "        \tprogress {\n",
              "\n",
              "            \t/* gets rid of default border in Firefox and Opera. */\n",
              "            \tborder: none;\n",
              "\n",
              "            \t/* Needs to be in here for Safari polyfill so background images work as expected. */\n",
              "            \tbackground-size: auto;\n",
              "            }\n",
              "\n",
              "            .progress-bar-interrupted, .progress-bar-interrupted::-webkit-progress-bar {\n",
              "                background: #F44336;\n",
              "            }\n",
              "        </style>\n",
              "      <progress value='0' class='' max='4', style='width:300px; height:20px; vertical-align: middle;'></progress>\n",
              "      0.00% [0/4 00:00<00:00]\n",
              "    </div>\n",
              "    \n",
              "<table style='width:300px; margin-bottom:10px'>\n",
              "  <tr>\n",
              "    <th>epoch</th>\n",
              "    <th>train_loss</th>\n",
              "    <th>valid_loss</th>\n",
              "    <th>top_k_accuracy</th>\n",
              "  </tr>\n",
              "  <tr>\n",
              "\n",
              "  </tr>\n",
              "</table>\n",
              "\n",
              "\n",
              "    <div>\n",
              "        <style>\n",
              "        \t/* Turns off some styling */\n",
              "        \tprogress {\n",
              "\n",
              "            \t/* gets rid of default border in Firefox and Opera. */\n",
              "            \tborder: none;\n",
              "\n",
              "            \t/* Needs to be in here for Safari polyfill so background images work as expected. */\n",
              "            \tbackground-size: auto;\n",
              "            }\n",
              "\n",
              "            .progress-bar-interrupted, .progress-bar-interrupted::-webkit-progress-bar {\n",
              "                background: #F44336;\n",
              "            }\n",
              "        </style>\n",
              "      <progress value='1397' class='' max='6934', style='width:300px; height:20px; vertical-align: middle;'></progress>\n",
              "      20.15% [1397/6934 19:33<1:17:33 2.4000]\n",
              "    </div>\n",
              "    "
            ],
            "text/plain": [
              "<IPython.core.display.HTML object>"
            ]
          },
          "metadata": {
            "tags": []
          }
        }
      ]
    },
    {
      "metadata": {
        "id": "FcC9Kaur6SVa",
        "colab_type": "code",
        "colab": {}
      },
      "cell_type": "code",
      "source": [
        "print(\"we save after 1st weights are learned\")\n",
        "learn.save('stage-1-34')"
      ],
      "execution_count": 0,
      "outputs": []
    },
    {
      "metadata": {
        "id": "4paDlhgbj5Pe",
        "colab_type": "text"
      },
      "cell_type": "markdown",
      "source": [
        "Let's see if full fine-tuning helps:"
      ]
    },
    {
      "metadata": {
        "id": "Qv_DYpMZj5Pg",
        "colab_type": "code",
        "colab": {}
      },
      "cell_type": "code",
      "source": [
        "learn.unfreeze()\n",
        "learn.fit_one_cycle(4, max_lr=slice(1e-5,1e-3))"
      ],
      "execution_count": 0,
      "outputs": []
    },
    {
      "metadata": {
        "id": "3t-6f1JeOV0W",
        "colab_type": "code",
        "colab": {}
      },
      "cell_type": "code",
      "source": [
        "learn.save('stage-2-34')\n",
        "print(\"we save after 2nd weights are learned\")"
      ],
      "execution_count": 0,
      "outputs": []
    },
    {
      "metadata": {
        "id": "aUOF-yb5j5Pl",
        "colab_type": "text"
      },
      "cell_type": "markdown",
      "source": [
        "If it doesn't, you can always go back to your previous model."
      ]
    },
    {
      "metadata": {
        "id": "e-OhJ_S_y2dd",
        "colab_type": "code",
        "outputId": "20c0a717-47dd-49da-aca3-dd5b85aa4077",
        "colab": {
          "base_uri": "https://localhost:8080/",
          "height": 34
        }
      },
      "cell_type": "code",
      "source": [
        "#!mv chromestage-2-50.pth data/train/models/chromestage-2-50.pth\n",
        "print(\"weights loaded\")"
      ],
      "execution_count": 0,
      "outputs": [
        {
          "output_type": "stream",
          "text": [
            "weights loaded\n"
          ],
          "name": "stdout"
        }
      ]
    },
    {
      "metadata": {
        "id": "-3ooC2hGnaAu",
        "colab_type": "code",
        "colab": {}
      },
      "cell_type": "code",
      "source": [
        "learn.load('chromestage-2-50');"
      ],
      "execution_count": 0,
      "outputs": []
    },
    {
      "metadata": {
        "id": "dIXasGl-tq_u",
        "colab_type": "code",
        "colab": {}
      },
      "cell_type": "code",
      "source": [
        "learn.load('chromestage-2-50')\n",
        "#learn.load('chromestage-2-50')\n",
        "#learn.load('stage-1-50');"
      ],
      "execution_count": 0,
      "outputs": []
    },
    {
      "metadata": {
        "id": "oXvxmeRDj5Pp",
        "colab_type": "code",
        "colab": {}
      },
      "cell_type": "code",
      "source": [
        "interp = ClassificationInterpretation.from_learner(learn)"
      ],
      "execution_count": 0,
      "outputs": []
    },
    {
      "metadata": {
        "id": "LpH_EnNK9465",
        "colab_type": "text"
      },
      "cell_type": "markdown",
      "source": [
        "**interp.plot_top_losses(9, figsize=(15,11)) # Prediction/ Actual/ Loss/ Probability**"
      ]
    },
    {
      "metadata": {
        "id": "i41Thbl62CUD",
        "colab_type": "code",
        "colab": {}
      },
      "cell_type": "code",
      "source": [
        "interp.plot_top_losses(9, figsize=(15,11)) # Prediction/ Actual/ Loss/ Probability"
      ],
      "execution_count": 0,
      "outputs": []
    },
    {
      "metadata": {
        "id": "tGyqXZEHj5Pt",
        "colab_type": "code",
        "colab": {}
      },
      "cell_type": "code",
      "source": [
        "interp.most_confused(min_val=600)"
      ],
      "execution_count": 0,
      "outputs": []
    },
    {
      "metadata": {
        "id": "eZ8BsSGjj5Ql",
        "colab_type": "code",
        "colab": {}
      },
      "cell_type": "code",
      "source": [
        "interp.plot_confusion_matrix(figsize=(20,20), dpi=60)"
      ],
      "execution_count": 0,
      "outputs": []
    },
    {
      "metadata": {
        "id": "U3jvf4n2VEtx",
        "colab_type": "text"
      },
      "cell_type": "markdown",
      "source": [
        "\n",
        "\n",
        "---\n",
        "\n"
      ]
    },
    {
      "metadata": {
        "id": "mAm78vH5VGwX",
        "colab_type": "text"
      },
      "cell_type": "markdown",
      "source": [
        "###Start the Prediction"
      ]
    },
    {
      "metadata": {
        "id": "vuVvnQ8aaZ-H",
        "colab_type": "code",
        "outputId": "8154a242-d883-47e2-ae67-aa72e96f3137",
        "colab": {
          "base_uri": "https://localhost:8080/",
          "height": 51
        }
      },
      "cell_type": "code",
      "source": [
        "#test_files = os.listdir('data/test')\n",
        "#test_df = pd.read_csv(f'{path}test.csv')\n",
        "#print(\"test files are\") \n",
        "#test_files\n",
        "#test_file_name = pd.DataFrame(test_files)\n",
        "print(test_file_name.nunique())\n"
      ],
      "execution_count": 0,
      "outputs": [
        {
          "output_type": "stream",
          "text": [
            "0    118972\n",
            "dtype: int64\n"
          ],
          "name": "stdout"
        }
      ]
    },
    {
      "metadata": {
        "id": "s4lDb_aaVr0V",
        "colab_type": "code",
        "outputId": "2a285ca7-ab76-4d87-fdff-a8c80c7acfde",
        "colab": {
          "base_uri": "https://localhost:8080/",
          "height": 221
        }
      },
      "cell_type": "code",
      "source": [
        "#demo = []\n",
        "  img = learn.data.test_ds[0][0]\n",
        "  a = learn.predict(img)\n",
        "  b = list(a)[2]\n",
        "  print(a)\n",
        "  c = pd.DataFrame([[i, b[i]] for i in range(len(b))])\n",
        "  c.columns = [\"class\",\"probability\"]\n",
        "  #print(c)\n",
        "  d = c.sort_values(\"probability\", ascending = False)\n",
        "  #demo.append(d[:3])\n",
        "  #d = sorted(c, reverse = True)\n",
        "  print(d[:3])\n",
        "\n",
        "#??learn.predict"
      ],
      "execution_count": 0,
      "outputs": [
        {
          "output_type": "stream",
          "text": [
            "('5', tensor(5), tensor([1.0619e-03, 5.7075e-04, 3.1694e-05, 9.8312e-02, 7.5517e-04, 6.0975e-01,\n",
            "        2.6074e-04, 1.9710e-02, 1.1016e-03, 4.9596e-05, 3.6740e-04, 4.6607e-04,\n",
            "        9.4483e-04, 2.2834e-03, 1.8599e-04, 1.0987e-03, 4.7389e-03, 5.8778e-03,\n",
            "        3.7234e-03, 4.0222e-02, 1.1303e-03, 2.0926e-04, 1.2369e-02, 9.1633e-05,\n",
            "        3.1829e-03, 3.3656e-03, 2.4895e-04, 8.0215e-02, 7.5060e-03, 7.5550e-03,\n",
            "        6.4346e-04, 3.1171e-02, 4.8743e-04, 2.8643e-02, 2.3060e-03, 3.5001e-04,\n",
            "        3.9306e-04, 1.6949e-02, 1.3296e-04, 2.1957e-04, 8.6279e-04, 1.5542e-03,\n",
            "        8.8980e-03]))\n",
            "    class     probability\n",
            "5       5  tensor(0.6098)\n",
            "3       3  tensor(0.0983)\n",
            "27     27  tensor(0.0802)\n"
          ],
          "name": "stdout"
        }
      ]
    },
    {
      "metadata": {
        "id": "tePpM7Z6D4s6",
        "colab_type": "code",
        "colab": {}
      },
      "cell_type": "code",
      "source": [
        "preds,_ = learn.get_preds(DatasetType.Test);"
      ],
      "execution_count": 0,
      "outputs": []
    },
    {
      "metadata": {
        "id": "2rGmNoufyTaf",
        "colab_type": "code",
        "colab": {}
      },
      "cell_type": "code",
      "source": [
        "pred,y = learn.TTA(DatasetType.Test);"
      ],
      "execution_count": 0,
      "outputs": []
    },
    {
      "metadata": {
        "id": "_LQ4J4pTewYb",
        "colab_type": "code",
        "colab": {}
      },
      "cell_type": "code",
      "source": [
        "# Predict into the test set\n",
        "learn.get_preds(DatasetType.Test)\n",
        "test_output = learn.get_preds(is_test=True)\n",
        "log_probs, y = test_output"
      ],
      "execution_count": 0,
      "outputs": []
    },
    {
      "metadata": {
        "id": "3gu3YP0ujBr1",
        "colab_type": "code",
        "colab": {}
      },
      "cell_type": "code",
      "source": [
        "DatasetType.Test[0]"
      ],
      "execution_count": 0,
      "outputs": []
    },
    {
      "metadata": {
        "id": "VN4YAwjAWk-O",
        "colab_type": "code",
        "outputId": "e87bded2-cafa-4715-99f0-df28b883ad97",
        "colab": {
          "base_uri": "https://localhost:8080/",
          "height": 209
        }
      },
      "cell_type": "code",
      "source": [
        "test_ids = list(sorted({fname.split('_')[0] for fname in os.listdir(path/'test')}))\n",
        "\n",
        "data.test_ds.x\n",
        "\n",
        "test.\n",
        "#pred_labels = [' '.join(list([str(i) for i in np.nonzero(row>0.2)[0]])) for row in np.array(preds)];pred_labels\n",
        "#df = pd.DataFrame({'Id':test_ids,'Predicted':pred_labels})\n",
        "#df.to_csv(path/'protein_predictions_datablocks.csv', header=True, index=False)"
      ],
      "execution_count": 0,
      "outputs": [
        {
          "output_type": "execute_result",
          "data": {
            "image/png": "[encoded data removed]",
            "image/jpeg": "[encoded data removed]",
            "text/plain": [
              "Image (3, 192, 240)"
            ]
          },
          "metadata": {
            "tags": []
          },
          "execution_count": 116
        }
      ]
    },
    {
      "metadata": {
        "id": "s-ceiC05XEcO",
        "colab_type": "code",
        "outputId": "af8e79fe-b110-4744-94dc-f8e64868e37f",
        "colab": {
          "base_uri": "https://localhost:8080/",
          "height": 164
        }
      },
      "cell_type": "code",
      "source": [
        "preds.info()\n"
      ],
      "execution_count": 0,
      "outputs": [
        {
          "output_type": "error",
          "ename": "AttributeError",
          "evalue": "ignored",
          "traceback": [
            "\u001b[0;31m---------------------------------------------------------------------------\u001b[0m",
            "\u001b[0;31mAttributeError\u001b[0m                            Traceback (most recent call last)",
            "\u001b[0;32m<ipython-input-170-1fc97a335b34>\u001b[0m in \u001b[0;36m<module>\u001b[0;34m()\u001b[0m\n\u001b[0;32m----> 1\u001b[0;31m \u001b[0mpreds\u001b[0m\u001b[0;34m.\u001b[0m\u001b[0minfo\u001b[0m\u001b[0;34m(\u001b[0m\u001b[0;34m)\u001b[0m\u001b[0;34m\u001b[0m\u001b[0;34m\u001b[0m\u001b[0m\n\u001b[0m",
            "\u001b[0;31mAttributeError\u001b[0m: 'Tensor' object has no attribute 'info'"
          ]
        }
      ]
    },
    {
      "metadata": {
        "id": "aR7_GU1pXFjv",
        "colab_type": "code",
        "colab": {}
      },
      "cell_type": "code",
      "source": [
        "predsnp = np.array(preds)\n",
        "predsdf = pd.DataFrame(predsnp)"
      ],
      "execution_count": 0,
      "outputs": []
    },
    {
      "metadata": {
        "id": "r78vmrWcsbf4",
        "colab_type": "code",
        "outputId": "ad2184c8-3bed-45aa-acc8-434882c93ed1",
        "colab": {
          "base_uri": "https://localhost:8080/",
          "height": 1989
        }
      },
      "cell_type": "code",
      "source": [
        "predsdf"
      ],
      "execution_count": 0,
      "outputs": [
        {
          "output_type": "execute_result",
          "data": {
            "text/html": [
              "<div>\n",
              "<style scoped>\n",
              "    .dataframe tbody tr th:only-of-type {\n",
              "        vertical-align: middle;\n",
              "    }\n",
              "\n",
              "    .dataframe tbody tr th {\n",
              "        vertical-align: top;\n",
              "    }\n",
              "\n",
              "    .dataframe thead th {\n",
              "        text-align: right;\n",
              "    }\n",
              "</style>\n",
              "<table border=\"1\" class=\"dataframe\">\n",
              "  <thead>\n",
              "    <tr style=\"text-align: right;\">\n",
              "      <th></th>\n",
              "      <th>0</th>\n",
              "      <th>1</th>\n",
              "      <th>2</th>\n",
              "      <th>3</th>\n",
              "      <th>4</th>\n",
              "      <th>5</th>\n",
              "      <th>6</th>\n",
              "      <th>7</th>\n",
              "      <th>8</th>\n",
              "      <th>9</th>\n",
              "      <th>...</th>\n",
              "      <th>33</th>\n",
              "      <th>34</th>\n",
              "      <th>35</th>\n",
              "      <th>36</th>\n",
              "      <th>37</th>\n",
              "      <th>38</th>\n",
              "      <th>39</th>\n",
              "      <th>40</th>\n",
              "      <th>41</th>\n",
              "      <th>42</th>\n",
              "    </tr>\n",
              "  </thead>\n",
              "  <tbody>\n",
              "    <tr>\n",
              "      <th>0</th>\n",
              "      <td>0.001062</td>\n",
              "      <td>0.000571</td>\n",
              "      <td>0.000032</td>\n",
              "      <td>0.098312</td>\n",
              "      <td>0.000755</td>\n",
              "      <td>0.609755</td>\n",
              "      <td>0.000261</td>\n",
              "      <td>0.019710</td>\n",
              "      <td>0.001102</td>\n",
              "      <td>0.000050</td>\n",
              "      <td>...</td>\n",
              "      <td>0.028643</td>\n",
              "      <td>0.002306</td>\n",
              "      <td>0.000350</td>\n",
              "      <td>0.000393</td>\n",
              "      <td>0.016949</td>\n",
              "      <td>0.000133</td>\n",
              "      <td>0.000220</td>\n",
              "      <td>0.000863</td>\n",
              "      <td>0.001554</td>\n",
              "      <td>0.008898</td>\n",
              "    </tr>\n",
              "    <tr>\n",
              "      <th>1</th>\n",
              "      <td>0.002367</td>\n",
              "      <td>0.004050</td>\n",
              "      <td>0.001025</td>\n",
              "      <td>0.118980</td>\n",
              "      <td>0.007047</td>\n",
              "      <td>0.123734</td>\n",
              "      <td>0.002359</td>\n",
              "      <td>0.146626</td>\n",
              "      <td>0.023174</td>\n",
              "      <td>0.000726</td>\n",
              "      <td>...</td>\n",
              "      <td>0.040158</td>\n",
              "      <td>0.002642</td>\n",
              "      <td>0.000750</td>\n",
              "      <td>0.002493</td>\n",
              "      <td>0.028960</td>\n",
              "      <td>0.001654</td>\n",
              "      <td>0.004573</td>\n",
              "      <td>0.002348</td>\n",
              "      <td>0.004514</td>\n",
              "      <td>0.116055</td>\n",
              "    </tr>\n",
              "    <tr>\n",
              "      <th>2</th>\n",
              "      <td>0.000905</td>\n",
              "      <td>0.000166</td>\n",
              "      <td>0.000005</td>\n",
              "      <td>0.075871</td>\n",
              "      <td>0.000029</td>\n",
              "      <td>0.610915</td>\n",
              "      <td>0.000052</td>\n",
              "      <td>0.060320</td>\n",
              "      <td>0.001085</td>\n",
              "      <td>0.000019</td>\n",
              "      <td>...</td>\n",
              "      <td>0.077190</td>\n",
              "      <td>0.001180</td>\n",
              "      <td>0.000072</td>\n",
              "      <td>0.000192</td>\n",
              "      <td>0.025148</td>\n",
              "      <td>0.000199</td>\n",
              "      <td>0.000055</td>\n",
              "      <td>0.000117</td>\n",
              "      <td>0.001040</td>\n",
              "      <td>0.008479</td>\n",
              "    </tr>\n",
              "    <tr>\n",
              "      <th>3</th>\n",
              "      <td>0.001686</td>\n",
              "      <td>0.000229</td>\n",
              "      <td>0.000043</td>\n",
              "      <td>0.022713</td>\n",
              "      <td>0.000076</td>\n",
              "      <td>0.055560</td>\n",
              "      <td>0.000120</td>\n",
              "      <td>0.005324</td>\n",
              "      <td>0.000224</td>\n",
              "      <td>0.000055</td>\n",
              "      <td>...</td>\n",
              "      <td>0.014284</td>\n",
              "      <td>0.000642</td>\n",
              "      <td>0.000007</td>\n",
              "      <td>0.000507</td>\n",
              "      <td>0.004404</td>\n",
              "      <td>0.000055</td>\n",
              "      <td>0.000456</td>\n",
              "      <td>0.000081</td>\n",
              "      <td>0.000734</td>\n",
              "      <td>0.826633</td>\n",
              "    </tr>\n",
              "    <tr>\n",
              "      <th>4</th>\n",
              "      <td>0.004961</td>\n",
              "      <td>0.006043</td>\n",
              "      <td>0.000871</td>\n",
              "      <td>0.059274</td>\n",
              "      <td>0.000740</td>\n",
              "      <td>0.224985</td>\n",
              "      <td>0.001920</td>\n",
              "      <td>0.106376</td>\n",
              "      <td>0.006968</td>\n",
              "      <td>0.000994</td>\n",
              "      <td>...</td>\n",
              "      <td>0.171948</td>\n",
              "      <td>0.006895</td>\n",
              "      <td>0.003902</td>\n",
              "      <td>0.002421</td>\n",
              "      <td>0.057550</td>\n",
              "      <td>0.002819</td>\n",
              "      <td>0.001739</td>\n",
              "      <td>0.001450</td>\n",
              "      <td>0.015610</td>\n",
              "      <td>0.012267</td>\n",
              "    </tr>\n",
              "    <tr>\n",
              "      <th>5</th>\n",
              "      <td>0.001497</td>\n",
              "      <td>0.000977</td>\n",
              "      <td>0.000248</td>\n",
              "      <td>0.016924</td>\n",
              "      <td>0.000402</td>\n",
              "      <td>0.587588</td>\n",
              "      <td>0.000618</td>\n",
              "      <td>0.011896</td>\n",
              "      <td>0.000709</td>\n",
              "      <td>0.000533</td>\n",
              "      <td>...</td>\n",
              "      <td>0.014257</td>\n",
              "      <td>0.002221</td>\n",
              "      <td>0.000499</td>\n",
              "      <td>0.007444</td>\n",
              "      <td>0.025402</td>\n",
              "      <td>0.000293</td>\n",
              "      <td>0.000210</td>\n",
              "      <td>0.000843</td>\n",
              "      <td>0.002009</td>\n",
              "      <td>0.007049</td>\n",
              "    </tr>\n",
              "    <tr>\n",
              "      <th>6</th>\n",
              "      <td>0.001720</td>\n",
              "      <td>0.001635</td>\n",
              "      <td>0.000087</td>\n",
              "      <td>0.014692</td>\n",
              "      <td>0.000233</td>\n",
              "      <td>0.221438</td>\n",
              "      <td>0.000494</td>\n",
              "      <td>0.443637</td>\n",
              "      <td>0.013988</td>\n",
              "      <td>0.000372</td>\n",
              "      <td>...</td>\n",
              "      <td>0.041124</td>\n",
              "      <td>0.002759</td>\n",
              "      <td>0.000450</td>\n",
              "      <td>0.000521</td>\n",
              "      <td>0.032753</td>\n",
              "      <td>0.001109</td>\n",
              "      <td>0.000137</td>\n",
              "      <td>0.001494</td>\n",
              "      <td>0.011103</td>\n",
              "      <td>0.010653</td>\n",
              "    </tr>\n",
              "    <tr>\n",
              "      <th>7</th>\n",
              "      <td>0.003024</td>\n",
              "      <td>0.008938</td>\n",
              "      <td>0.002607</td>\n",
              "      <td>0.072964</td>\n",
              "      <td>0.009912</td>\n",
              "      <td>0.066287</td>\n",
              "      <td>0.002012</td>\n",
              "      <td>0.021986</td>\n",
              "      <td>0.006784</td>\n",
              "      <td>0.001955</td>\n",
              "      <td>...</td>\n",
              "      <td>0.025206</td>\n",
              "      <td>0.004948</td>\n",
              "      <td>0.003801</td>\n",
              "      <td>0.004514</td>\n",
              "      <td>0.032459</td>\n",
              "      <td>0.001171</td>\n",
              "      <td>0.003962</td>\n",
              "      <td>0.001786</td>\n",
              "      <td>0.007521</td>\n",
              "      <td>0.019915</td>\n",
              "    </tr>\n",
              "    <tr>\n",
              "      <th>8</th>\n",
              "      <td>0.003023</td>\n",
              "      <td>0.004002</td>\n",
              "      <td>0.000339</td>\n",
              "      <td>0.031542</td>\n",
              "      <td>0.002439</td>\n",
              "      <td>0.290957</td>\n",
              "      <td>0.001205</td>\n",
              "      <td>0.036883</td>\n",
              "      <td>0.002114</td>\n",
              "      <td>0.003108</td>\n",
              "      <td>...</td>\n",
              "      <td>0.233333</td>\n",
              "      <td>0.005967</td>\n",
              "      <td>0.004047</td>\n",
              "      <td>0.040742</td>\n",
              "      <td>0.056661</td>\n",
              "      <td>0.004928</td>\n",
              "      <td>0.000878</td>\n",
              "      <td>0.002301</td>\n",
              "      <td>0.005364</td>\n",
              "      <td>0.007579</td>\n",
              "    </tr>\n",
              "    <tr>\n",
              "      <th>9</th>\n",
              "      <td>0.000771</td>\n",
              "      <td>0.000450</td>\n",
              "      <td>0.000006</td>\n",
              "      <td>0.027304</td>\n",
              "      <td>0.000107</td>\n",
              "      <td>0.203986</td>\n",
              "      <td>0.000099</td>\n",
              "      <td>0.545122</td>\n",
              "      <td>0.011042</td>\n",
              "      <td>0.000027</td>\n",
              "      <td>...</td>\n",
              "      <td>0.015797</td>\n",
              "      <td>0.000994</td>\n",
              "      <td>0.000036</td>\n",
              "      <td>0.000257</td>\n",
              "      <td>0.010126</td>\n",
              "      <td>0.000210</td>\n",
              "      <td>0.000060</td>\n",
              "      <td>0.000206</td>\n",
              "      <td>0.006214</td>\n",
              "      <td>0.004384</td>\n",
              "    </tr>\n",
              "    <tr>\n",
              "      <th>10</th>\n",
              "      <td>0.004738</td>\n",
              "      <td>0.013983</td>\n",
              "      <td>0.001520</td>\n",
              "      <td>0.047944</td>\n",
              "      <td>0.004392</td>\n",
              "      <td>0.127314</td>\n",
              "      <td>0.004124</td>\n",
              "      <td>0.102897</td>\n",
              "      <td>0.004444</td>\n",
              "      <td>0.003596</td>\n",
              "      <td>...</td>\n",
              "      <td>0.023993</td>\n",
              "      <td>0.005902</td>\n",
              "      <td>0.002761</td>\n",
              "      <td>0.004817</td>\n",
              "      <td>0.046257</td>\n",
              "      <td>0.002813</td>\n",
              "      <td>0.008560</td>\n",
              "      <td>0.003419</td>\n",
              "      <td>0.018100</td>\n",
              "      <td>0.013253</td>\n",
              "    </tr>\n",
              "    <tr>\n",
              "      <th>11</th>\n",
              "      <td>0.003174</td>\n",
              "      <td>0.000326</td>\n",
              "      <td>0.000057</td>\n",
              "      <td>0.019373</td>\n",
              "      <td>0.000346</td>\n",
              "      <td>0.270007</td>\n",
              "      <td>0.000187</td>\n",
              "      <td>0.128411</td>\n",
              "      <td>0.004873</td>\n",
              "      <td>0.000059</td>\n",
              "      <td>...</td>\n",
              "      <td>0.032837</td>\n",
              "      <td>0.002744</td>\n",
              "      <td>0.000574</td>\n",
              "      <td>0.000125</td>\n",
              "      <td>0.030946</td>\n",
              "      <td>0.001740</td>\n",
              "      <td>0.000071</td>\n",
              "      <td>0.000867</td>\n",
              "      <td>0.006578</td>\n",
              "      <td>0.004622</td>\n",
              "    </tr>\n",
              "    <tr>\n",
              "      <th>12</th>\n",
              "      <td>0.000224</td>\n",
              "      <td>0.000516</td>\n",
              "      <td>0.000019</td>\n",
              "      <td>0.022552</td>\n",
              "      <td>0.002054</td>\n",
              "      <td>0.030162</td>\n",
              "      <td>0.000129</td>\n",
              "      <td>0.018382</td>\n",
              "      <td>0.000822</td>\n",
              "      <td>0.000039</td>\n",
              "      <td>...</td>\n",
              "      <td>0.015905</td>\n",
              "      <td>0.001166</td>\n",
              "      <td>0.000096</td>\n",
              "      <td>0.000233</td>\n",
              "      <td>0.007596</td>\n",
              "      <td>0.000074</td>\n",
              "      <td>0.000432</td>\n",
              "      <td>0.000070</td>\n",
              "      <td>0.006243</td>\n",
              "      <td>0.002349</td>\n",
              "    </tr>\n",
              "    <tr>\n",
              "      <th>13</th>\n",
              "      <td>0.001488</td>\n",
              "      <td>0.001226</td>\n",
              "      <td>0.000053</td>\n",
              "      <td>0.020431</td>\n",
              "      <td>0.000803</td>\n",
              "      <td>0.080210</td>\n",
              "      <td>0.000150</td>\n",
              "      <td>0.317348</td>\n",
              "      <td>0.003947</td>\n",
              "      <td>0.000133</td>\n",
              "      <td>...</td>\n",
              "      <td>0.352641</td>\n",
              "      <td>0.001447</td>\n",
              "      <td>0.000590</td>\n",
              "      <td>0.000416</td>\n",
              "      <td>0.043589</td>\n",
              "      <td>0.000617</td>\n",
              "      <td>0.000393</td>\n",
              "      <td>0.000401</td>\n",
              "      <td>0.003299</td>\n",
              "      <td>0.004224</td>\n",
              "    </tr>\n",
              "    <tr>\n",
              "      <th>14</th>\n",
              "      <td>0.001335</td>\n",
              "      <td>0.000348</td>\n",
              "      <td>0.000194</td>\n",
              "      <td>0.011295</td>\n",
              "      <td>0.011683</td>\n",
              "      <td>0.184980</td>\n",
              "      <td>0.000192</td>\n",
              "      <td>0.011162</td>\n",
              "      <td>0.001179</td>\n",
              "      <td>0.000267</td>\n",
              "      <td>...</td>\n",
              "      <td>0.006315</td>\n",
              "      <td>0.002613</td>\n",
              "      <td>0.000545</td>\n",
              "      <td>0.000392</td>\n",
              "      <td>0.012177</td>\n",
              "      <td>0.000580</td>\n",
              "      <td>0.000333</td>\n",
              "      <td>0.001647</td>\n",
              "      <td>0.003434</td>\n",
              "      <td>0.014976</td>\n",
              "    </tr>\n",
              "    <tr>\n",
              "      <th>15</th>\n",
              "      <td>0.002707</td>\n",
              "      <td>0.005064</td>\n",
              "      <td>0.000809</td>\n",
              "      <td>0.027501</td>\n",
              "      <td>0.001273</td>\n",
              "      <td>0.223428</td>\n",
              "      <td>0.001812</td>\n",
              "      <td>0.074181</td>\n",
              "      <td>0.001587</td>\n",
              "      <td>0.003131</td>\n",
              "      <td>...</td>\n",
              "      <td>0.067402</td>\n",
              "      <td>0.004130</td>\n",
              "      <td>0.001484</td>\n",
              "      <td>0.012897</td>\n",
              "      <td>0.040656</td>\n",
              "      <td>0.001608</td>\n",
              "      <td>0.001936</td>\n",
              "      <td>0.001619</td>\n",
              "      <td>0.009269</td>\n",
              "      <td>0.044141</td>\n",
              "    </tr>\n",
              "    <tr>\n",
              "      <th>16</th>\n",
              "      <td>0.002396</td>\n",
              "      <td>0.000768</td>\n",
              "      <td>0.000327</td>\n",
              "      <td>0.028521</td>\n",
              "      <td>0.000625</td>\n",
              "      <td>0.315633</td>\n",
              "      <td>0.000393</td>\n",
              "      <td>0.073160</td>\n",
              "      <td>0.007889</td>\n",
              "      <td>0.000148</td>\n",
              "      <td>...</td>\n",
              "      <td>0.062406</td>\n",
              "      <td>0.001792</td>\n",
              "      <td>0.000762</td>\n",
              "      <td>0.000574</td>\n",
              "      <td>0.010376</td>\n",
              "      <td>0.003321</td>\n",
              "      <td>0.000173</td>\n",
              "      <td>0.001183</td>\n",
              "      <td>0.003278</td>\n",
              "      <td>0.018649</td>\n",
              "    </tr>\n",
              "    <tr>\n",
              "      <th>17</th>\n",
              "      <td>0.000982</td>\n",
              "      <td>0.005794</td>\n",
              "      <td>0.000396</td>\n",
              "      <td>0.050306</td>\n",
              "      <td>0.001629</td>\n",
              "      <td>0.158787</td>\n",
              "      <td>0.002171</td>\n",
              "      <td>0.018207</td>\n",
              "      <td>0.001326</td>\n",
              "      <td>0.002030</td>\n",
              "      <td>...</td>\n",
              "      <td>0.008728</td>\n",
              "      <td>0.001300</td>\n",
              "      <td>0.000471</td>\n",
              "      <td>0.003339</td>\n",
              "      <td>0.017088</td>\n",
              "      <td>0.000422</td>\n",
              "      <td>0.008739</td>\n",
              "      <td>0.000528</td>\n",
              "      <td>0.001642</td>\n",
              "      <td>0.011132</td>\n",
              "    </tr>\n",
              "    <tr>\n",
              "      <th>18</th>\n",
              "      <td>0.000941</td>\n",
              "      <td>0.000083</td>\n",
              "      <td>0.000019</td>\n",
              "      <td>0.017080</td>\n",
              "      <td>0.000954</td>\n",
              "      <td>0.083005</td>\n",
              "      <td>0.000023</td>\n",
              "      <td>0.006031</td>\n",
              "      <td>0.000370</td>\n",
              "      <td>0.000012</td>\n",
              "      <td>...</td>\n",
              "      <td>0.007283</td>\n",
              "      <td>0.000835</td>\n",
              "      <td>0.000052</td>\n",
              "      <td>0.002940</td>\n",
              "      <td>0.003491</td>\n",
              "      <td>0.000482</td>\n",
              "      <td>0.000167</td>\n",
              "      <td>0.000142</td>\n",
              "      <td>0.001863</td>\n",
              "      <td>0.004776</td>\n",
              "    </tr>\n",
              "    <tr>\n",
              "      <th>19</th>\n",
              "      <td>0.000711</td>\n",
              "      <td>0.000530</td>\n",
              "      <td>0.000008</td>\n",
              "      <td>0.029957</td>\n",
              "      <td>0.000348</td>\n",
              "      <td>0.133809</td>\n",
              "      <td>0.000166</td>\n",
              "      <td>0.563768</td>\n",
              "      <td>0.043266</td>\n",
              "      <td>0.000032</td>\n",
              "      <td>...</td>\n",
              "      <td>0.034234</td>\n",
              "      <td>0.001155</td>\n",
              "      <td>0.000078</td>\n",
              "      <td>0.000219</td>\n",
              "      <td>0.071875</td>\n",
              "      <td>0.000360</td>\n",
              "      <td>0.000171</td>\n",
              "      <td>0.000368</td>\n",
              "      <td>0.002573</td>\n",
              "      <td>0.001704</td>\n",
              "    </tr>\n",
              "    <tr>\n",
              "      <th>20</th>\n",
              "      <td>0.003921</td>\n",
              "      <td>0.002506</td>\n",
              "      <td>0.001188</td>\n",
              "      <td>0.092781</td>\n",
              "      <td>0.003016</td>\n",
              "      <td>0.169870</td>\n",
              "      <td>0.000719</td>\n",
              "      <td>0.018948</td>\n",
              "      <td>0.004058</td>\n",
              "      <td>0.000407</td>\n",
              "      <td>...</td>\n",
              "      <td>0.033288</td>\n",
              "      <td>0.003146</td>\n",
              "      <td>0.000648</td>\n",
              "      <td>0.001345</td>\n",
              "      <td>0.016683</td>\n",
              "      <td>0.000688</td>\n",
              "      <td>0.000568</td>\n",
              "      <td>0.002256</td>\n",
              "      <td>0.002988</td>\n",
              "      <td>0.090512</td>\n",
              "    </tr>\n",
              "    <tr>\n",
              "      <th>21</th>\n",
              "      <td>0.000399</td>\n",
              "      <td>0.001164</td>\n",
              "      <td>0.000081</td>\n",
              "      <td>0.009656</td>\n",
              "      <td>0.000565</td>\n",
              "      <td>0.055164</td>\n",
              "      <td>0.000186</td>\n",
              "      <td>0.024635</td>\n",
              "      <td>0.000721</td>\n",
              "      <td>0.000329</td>\n",
              "      <td>...</td>\n",
              "      <td>0.723166</td>\n",
              "      <td>0.001016</td>\n",
              "      <td>0.000469</td>\n",
              "      <td>0.001486</td>\n",
              "      <td>0.009661</td>\n",
              "      <td>0.000549</td>\n",
              "      <td>0.000716</td>\n",
              "      <td>0.000217</td>\n",
              "      <td>0.001605</td>\n",
              "      <td>0.004150</td>\n",
              "    </tr>\n",
              "    <tr>\n",
              "      <th>22</th>\n",
              "      <td>0.000963</td>\n",
              "      <td>0.001972</td>\n",
              "      <td>0.000567</td>\n",
              "      <td>0.036337</td>\n",
              "      <td>0.000520</td>\n",
              "      <td>0.100260</td>\n",
              "      <td>0.000761</td>\n",
              "      <td>0.060610</td>\n",
              "      <td>0.000765</td>\n",
              "      <td>0.000213</td>\n",
              "      <td>...</td>\n",
              "      <td>0.038670</td>\n",
              "      <td>0.001552</td>\n",
              "      <td>0.000210</td>\n",
              "      <td>0.001684</td>\n",
              "      <td>0.006630</td>\n",
              "      <td>0.000163</td>\n",
              "      <td>0.000984</td>\n",
              "      <td>0.000152</td>\n",
              "      <td>0.006142</td>\n",
              "      <td>0.195328</td>\n",
              "    </tr>\n",
              "    <tr>\n",
              "      <th>23</th>\n",
              "      <td>0.001059</td>\n",
              "      <td>0.004291</td>\n",
              "      <td>0.000288</td>\n",
              "      <td>0.033773</td>\n",
              "      <td>0.001456</td>\n",
              "      <td>0.209161</td>\n",
              "      <td>0.001559</td>\n",
              "      <td>0.073519</td>\n",
              "      <td>0.003338</td>\n",
              "      <td>0.001513</td>\n",
              "      <td>...</td>\n",
              "      <td>0.354573</td>\n",
              "      <td>0.002806</td>\n",
              "      <td>0.001632</td>\n",
              "      <td>0.014490</td>\n",
              "      <td>0.040307</td>\n",
              "      <td>0.002295</td>\n",
              "      <td>0.004253</td>\n",
              "      <td>0.000831</td>\n",
              "      <td>0.002350</td>\n",
              "      <td>0.010580</td>\n",
              "    </tr>\n",
              "    <tr>\n",
              "      <th>24</th>\n",
              "      <td>0.015132</td>\n",
              "      <td>0.000226</td>\n",
              "      <td>0.000051</td>\n",
              "      <td>0.082641</td>\n",
              "      <td>0.000217</td>\n",
              "      <td>0.473365</td>\n",
              "      <td>0.000216</td>\n",
              "      <td>0.014933</td>\n",
              "      <td>0.001512</td>\n",
              "      <td>0.000082</td>\n",
              "      <td>...</td>\n",
              "      <td>0.010647</td>\n",
              "      <td>0.004335</td>\n",
              "      <td>0.000205</td>\n",
              "      <td>0.006227</td>\n",
              "      <td>0.033917</td>\n",
              "      <td>0.002144</td>\n",
              "      <td>0.000106</td>\n",
              "      <td>0.000423</td>\n",
              "      <td>0.003337</td>\n",
              "      <td>0.012018</td>\n",
              "    </tr>\n",
              "    <tr>\n",
              "      <th>25</th>\n",
              "      <td>0.000828</td>\n",
              "      <td>0.002443</td>\n",
              "      <td>0.000094</td>\n",
              "      <td>0.014993</td>\n",
              "      <td>0.000251</td>\n",
              "      <td>0.097052</td>\n",
              "      <td>0.000218</td>\n",
              "      <td>0.483160</td>\n",
              "      <td>0.005824</td>\n",
              "      <td>0.000164</td>\n",
              "      <td>...</td>\n",
              "      <td>0.142179</td>\n",
              "      <td>0.001416</td>\n",
              "      <td>0.000587</td>\n",
              "      <td>0.000431</td>\n",
              "      <td>0.034093</td>\n",
              "      <td>0.000402</td>\n",
              "      <td>0.000228</td>\n",
              "      <td>0.000622</td>\n",
              "      <td>0.006649</td>\n",
              "      <td>0.004293</td>\n",
              "    </tr>\n",
              "    <tr>\n",
              "      <th>26</th>\n",
              "      <td>0.001289</td>\n",
              "      <td>0.002775</td>\n",
              "      <td>0.000728</td>\n",
              "      <td>0.025371</td>\n",
              "      <td>0.002436</td>\n",
              "      <td>0.119177</td>\n",
              "      <td>0.002302</td>\n",
              "      <td>0.051700</td>\n",
              "      <td>0.004560</td>\n",
              "      <td>0.001640</td>\n",
              "      <td>...</td>\n",
              "      <td>0.013481</td>\n",
              "      <td>0.003110</td>\n",
              "      <td>0.001160</td>\n",
              "      <td>0.002960</td>\n",
              "      <td>0.035474</td>\n",
              "      <td>0.001094</td>\n",
              "      <td>0.001000</td>\n",
              "      <td>0.001544</td>\n",
              "      <td>0.011590</td>\n",
              "      <td>0.014645</td>\n",
              "    </tr>\n",
              "    <tr>\n",
              "      <th>27</th>\n",
              "      <td>0.005841</td>\n",
              "      <td>0.001809</td>\n",
              "      <td>0.000032</td>\n",
              "      <td>0.089342</td>\n",
              "      <td>0.002657</td>\n",
              "      <td>0.142281</td>\n",
              "      <td>0.000442</td>\n",
              "      <td>0.119074</td>\n",
              "      <td>0.017765</td>\n",
              "      <td>0.000168</td>\n",
              "      <td>...</td>\n",
              "      <td>0.079905</td>\n",
              "      <td>0.003702</td>\n",
              "      <td>0.000296</td>\n",
              "      <td>0.000949</td>\n",
              "      <td>0.246365</td>\n",
              "      <td>0.000682</td>\n",
              "      <td>0.001462</td>\n",
              "      <td>0.000348</td>\n",
              "      <td>0.004689</td>\n",
              "      <td>0.004692</td>\n",
              "    </tr>\n",
              "    <tr>\n",
              "      <th>28</th>\n",
              "      <td>0.002909</td>\n",
              "      <td>0.003085</td>\n",
              "      <td>0.000044</td>\n",
              "      <td>0.047119</td>\n",
              "      <td>0.001077</td>\n",
              "      <td>0.085586</td>\n",
              "      <td>0.000540</td>\n",
              "      <td>0.399670</td>\n",
              "      <td>0.010231</td>\n",
              "      <td>0.000156</td>\n",
              "      <td>...</td>\n",
              "      <td>0.099378</td>\n",
              "      <td>0.002967</td>\n",
              "      <td>0.000501</td>\n",
              "      <td>0.001355</td>\n",
              "      <td>0.124810</td>\n",
              "      <td>0.000691</td>\n",
              "      <td>0.001123</td>\n",
              "      <td>0.000559</td>\n",
              "      <td>0.003577</td>\n",
              "      <td>0.003817</td>\n",
              "    </tr>\n",
              "    <tr>\n",
              "      <th>29</th>\n",
              "      <td>0.008949</td>\n",
              "      <td>0.000656</td>\n",
              "      <td>0.000059</td>\n",
              "      <td>0.036517</td>\n",
              "      <td>0.000184</td>\n",
              "      <td>0.213311</td>\n",
              "      <td>0.000149</td>\n",
              "      <td>0.365476</td>\n",
              "      <td>0.019855</td>\n",
              "      <td>0.000099</td>\n",
              "      <td>...</td>\n",
              "      <td>0.054948</td>\n",
              "      <td>0.003070</td>\n",
              "      <td>0.000459</td>\n",
              "      <td>0.000816</td>\n",
              "      <td>0.080785</td>\n",
              "      <td>0.002149</td>\n",
              "      <td>0.000064</td>\n",
              "      <td>0.000804</td>\n",
              "      <td>0.004886</td>\n",
              "      <td>0.011055</td>\n",
              "    </tr>\n",
              "    <tr>\n",
              "      <th>...</th>\n",
              "      <td>...</td>\n",
              "      <td>...</td>\n",
              "      <td>...</td>\n",
              "      <td>...</td>\n",
              "      <td>...</td>\n",
              "      <td>...</td>\n",
              "      <td>...</td>\n",
              "      <td>...</td>\n",
              "      <td>...</td>\n",
              "      <td>...</td>\n",
              "      <td>...</td>\n",
              "      <td>...</td>\n",
              "      <td>...</td>\n",
              "      <td>...</td>\n",
              "      <td>...</td>\n",
              "      <td>...</td>\n",
              "      <td>...</td>\n",
              "      <td>...</td>\n",
              "      <td>...</td>\n",
              "      <td>...</td>\n",
              "      <td>...</td>\n",
              "    </tr>\n",
              "    <tr>\n",
              "      <th>118833</th>\n",
              "      <td>0.001243</td>\n",
              "      <td>0.000318</td>\n",
              "      <td>0.000073</td>\n",
              "      <td>0.020930</td>\n",
              "      <td>0.000366</td>\n",
              "      <td>0.080520</td>\n",
              "      <td>0.000066</td>\n",
              "      <td>0.027466</td>\n",
              "      <td>0.000632</td>\n",
              "      <td>0.000050</td>\n",
              "      <td>...</td>\n",
              "      <td>0.016198</td>\n",
              "      <td>0.002022</td>\n",
              "      <td>0.000139</td>\n",
              "      <td>0.000340</td>\n",
              "      <td>0.010967</td>\n",
              "      <td>0.000073</td>\n",
              "      <td>0.000036</td>\n",
              "      <td>0.000080</td>\n",
              "      <td>0.003375</td>\n",
              "      <td>0.053618</td>\n",
              "    </tr>\n",
              "    <tr>\n",
              "      <th>118834</th>\n",
              "      <td>0.001433</td>\n",
              "      <td>0.001445</td>\n",
              "      <td>0.000097</td>\n",
              "      <td>0.022361</td>\n",
              "      <td>0.001602</td>\n",
              "      <td>0.125731</td>\n",
              "      <td>0.000593</td>\n",
              "      <td>0.432470</td>\n",
              "      <td>0.004260</td>\n",
              "      <td>0.000359</td>\n",
              "      <td>...</td>\n",
              "      <td>0.029113</td>\n",
              "      <td>0.001065</td>\n",
              "      <td>0.000249</td>\n",
              "      <td>0.001151</td>\n",
              "      <td>0.051904</td>\n",
              "      <td>0.000524</td>\n",
              "      <td>0.000982</td>\n",
              "      <td>0.000875</td>\n",
              "      <td>0.002749</td>\n",
              "      <td>0.039107</td>\n",
              "    </tr>\n",
              "    <tr>\n",
              "      <th>118835</th>\n",
              "      <td>0.001764</td>\n",
              "      <td>0.000649</td>\n",
              "      <td>0.000056</td>\n",
              "      <td>0.011442</td>\n",
              "      <td>0.000415</td>\n",
              "      <td>0.776951</td>\n",
              "      <td>0.000497</td>\n",
              "      <td>0.024648</td>\n",
              "      <td>0.000309</td>\n",
              "      <td>0.001872</td>\n",
              "      <td>...</td>\n",
              "      <td>0.013936</td>\n",
              "      <td>0.001726</td>\n",
              "      <td>0.000259</td>\n",
              "      <td>0.001135</td>\n",
              "      <td>0.049231</td>\n",
              "      <td>0.000220</td>\n",
              "      <td>0.000573</td>\n",
              "      <td>0.000848</td>\n",
              "      <td>0.001200</td>\n",
              "      <td>0.005527</td>\n",
              "    </tr>\n",
              "    <tr>\n",
              "      <th>118836</th>\n",
              "      <td>0.005271</td>\n",
              "      <td>0.000223</td>\n",
              "      <td>0.000074</td>\n",
              "      <td>0.040012</td>\n",
              "      <td>0.000335</td>\n",
              "      <td>0.069352</td>\n",
              "      <td>0.000049</td>\n",
              "      <td>0.020698</td>\n",
              "      <td>0.000704</td>\n",
              "      <td>0.000023</td>\n",
              "      <td>...</td>\n",
              "      <td>0.019841</td>\n",
              "      <td>0.001576</td>\n",
              "      <td>0.000051</td>\n",
              "      <td>0.001030</td>\n",
              "      <td>0.025976</td>\n",
              "      <td>0.000408</td>\n",
              "      <td>0.000156</td>\n",
              "      <td>0.000252</td>\n",
              "      <td>0.003153</td>\n",
              "      <td>0.345560</td>\n",
              "    </tr>\n",
              "    <tr>\n",
              "      <th>118837</th>\n",
              "      <td>0.000996</td>\n",
              "      <td>0.000170</td>\n",
              "      <td>0.000004</td>\n",
              "      <td>0.037650</td>\n",
              "      <td>0.000069</td>\n",
              "      <td>0.459232</td>\n",
              "      <td>0.000067</td>\n",
              "      <td>0.139904</td>\n",
              "      <td>0.004086</td>\n",
              "      <td>0.000030</td>\n",
              "      <td>...</td>\n",
              "      <td>0.041365</td>\n",
              "      <td>0.001075</td>\n",
              "      <td>0.000082</td>\n",
              "      <td>0.000294</td>\n",
              "      <td>0.057700</td>\n",
              "      <td>0.000552</td>\n",
              "      <td>0.000036</td>\n",
              "      <td>0.000136</td>\n",
              "      <td>0.003682</td>\n",
              "      <td>0.004062</td>\n",
              "    </tr>\n",
              "    <tr>\n",
              "      <th>118838</th>\n",
              "      <td>0.014623</td>\n",
              "      <td>0.002723</td>\n",
              "      <td>0.000475</td>\n",
              "      <td>0.028705</td>\n",
              "      <td>0.000439</td>\n",
              "      <td>0.266039</td>\n",
              "      <td>0.000461</td>\n",
              "      <td>0.143845</td>\n",
              "      <td>0.003865</td>\n",
              "      <td>0.000491</td>\n",
              "      <td>...</td>\n",
              "      <td>0.177470</td>\n",
              "      <td>0.004084</td>\n",
              "      <td>0.004085</td>\n",
              "      <td>0.002474</td>\n",
              "      <td>0.042437</td>\n",
              "      <td>0.004468</td>\n",
              "      <td>0.000407</td>\n",
              "      <td>0.000884</td>\n",
              "      <td>0.005622</td>\n",
              "      <td>0.019174</td>\n",
              "    </tr>\n",
              "    <tr>\n",
              "      <th>118839</th>\n",
              "      <td>0.007146</td>\n",
              "      <td>0.006797</td>\n",
              "      <td>0.004043</td>\n",
              "      <td>0.030814</td>\n",
              "      <td>0.004552</td>\n",
              "      <td>0.065544</td>\n",
              "      <td>0.001490</td>\n",
              "      <td>0.025301</td>\n",
              "      <td>0.001207</td>\n",
              "      <td>0.001844</td>\n",
              "      <td>...</td>\n",
              "      <td>0.026497</td>\n",
              "      <td>0.004842</td>\n",
              "      <td>0.001356</td>\n",
              "      <td>0.004166</td>\n",
              "      <td>0.025701</td>\n",
              "      <td>0.000882</td>\n",
              "      <td>0.001530</td>\n",
              "      <td>0.002338</td>\n",
              "      <td>0.006197</td>\n",
              "      <td>0.297812</td>\n",
              "    </tr>\n",
              "    <tr>\n",
              "      <th>118840</th>\n",
              "      <td>0.002012</td>\n",
              "      <td>0.000662</td>\n",
              "      <td>0.000129</td>\n",
              "      <td>0.024098</td>\n",
              "      <td>0.006993</td>\n",
              "      <td>0.224958</td>\n",
              "      <td>0.000204</td>\n",
              "      <td>0.039076</td>\n",
              "      <td>0.001946</td>\n",
              "      <td>0.000296</td>\n",
              "      <td>...</td>\n",
              "      <td>0.020843</td>\n",
              "      <td>0.003045</td>\n",
              "      <td>0.001289</td>\n",
              "      <td>0.003235</td>\n",
              "      <td>0.089349</td>\n",
              "      <td>0.002211</td>\n",
              "      <td>0.000289</td>\n",
              "      <td>0.001463</td>\n",
              "      <td>0.003142</td>\n",
              "      <td>0.005236</td>\n",
              "    </tr>\n",
              "    <tr>\n",
              "      <th>118841</th>\n",
              "      <td>0.001622</td>\n",
              "      <td>0.002100</td>\n",
              "      <td>0.000206</td>\n",
              "      <td>0.016578</td>\n",
              "      <td>0.000678</td>\n",
              "      <td>0.149868</td>\n",
              "      <td>0.000495</td>\n",
              "      <td>0.338742</td>\n",
              "      <td>0.006923</td>\n",
              "      <td>0.000715</td>\n",
              "      <td>...</td>\n",
              "      <td>0.127257</td>\n",
              "      <td>0.002193</td>\n",
              "      <td>0.001457</td>\n",
              "      <td>0.001047</td>\n",
              "      <td>0.102530</td>\n",
              "      <td>0.003188</td>\n",
              "      <td>0.000504</td>\n",
              "      <td>0.002162</td>\n",
              "      <td>0.006923</td>\n",
              "      <td>0.012168</td>\n",
              "    </tr>\n",
              "    <tr>\n",
              "      <th>118842</th>\n",
              "      <td>0.001593</td>\n",
              "      <td>0.000532</td>\n",
              "      <td>0.000024</td>\n",
              "      <td>0.087135</td>\n",
              "      <td>0.002627</td>\n",
              "      <td>0.636865</td>\n",
              "      <td>0.000218</td>\n",
              "      <td>0.008665</td>\n",
              "      <td>0.000549</td>\n",
              "      <td>0.000125</td>\n",
              "      <td>...</td>\n",
              "      <td>0.074430</td>\n",
              "      <td>0.004378</td>\n",
              "      <td>0.001005</td>\n",
              "      <td>0.003211</td>\n",
              "      <td>0.018476</td>\n",
              "      <td>0.000355</td>\n",
              "      <td>0.000246</td>\n",
              "      <td>0.000784</td>\n",
              "      <td>0.001087</td>\n",
              "      <td>0.001685</td>\n",
              "    </tr>\n",
              "    <tr>\n",
              "      <th>118843</th>\n",
              "      <td>0.000583</td>\n",
              "      <td>0.000117</td>\n",
              "      <td>0.000010</td>\n",
              "      <td>0.052134</td>\n",
              "      <td>0.000841</td>\n",
              "      <td>0.247497</td>\n",
              "      <td>0.000052</td>\n",
              "      <td>0.015978</td>\n",
              "      <td>0.000443</td>\n",
              "      <td>0.000011</td>\n",
              "      <td>...</td>\n",
              "      <td>0.011962</td>\n",
              "      <td>0.001287</td>\n",
              "      <td>0.000027</td>\n",
              "      <td>0.000470</td>\n",
              "      <td>0.018979</td>\n",
              "      <td>0.000020</td>\n",
              "      <td>0.000027</td>\n",
              "      <td>0.000075</td>\n",
              "      <td>0.001478</td>\n",
              "      <td>0.019111</td>\n",
              "    </tr>\n",
              "    <tr>\n",
              "      <th>118844</th>\n",
              "      <td>0.004448</td>\n",
              "      <td>0.001463</td>\n",
              "      <td>0.000678</td>\n",
              "      <td>0.051131</td>\n",
              "      <td>0.002557</td>\n",
              "      <td>0.309755</td>\n",
              "      <td>0.000476</td>\n",
              "      <td>0.045007</td>\n",
              "      <td>0.000792</td>\n",
              "      <td>0.000247</td>\n",
              "      <td>...</td>\n",
              "      <td>0.021570</td>\n",
              "      <td>0.005047</td>\n",
              "      <td>0.001255</td>\n",
              "      <td>0.001777</td>\n",
              "      <td>0.029464</td>\n",
              "      <td>0.000716</td>\n",
              "      <td>0.000356</td>\n",
              "      <td>0.000962</td>\n",
              "      <td>0.012295</td>\n",
              "      <td>0.144797</td>\n",
              "    </tr>\n",
              "    <tr>\n",
              "      <th>118845</th>\n",
              "      <td>0.001780</td>\n",
              "      <td>0.011998</td>\n",
              "      <td>0.001044</td>\n",
              "      <td>0.065586</td>\n",
              "      <td>0.008016</td>\n",
              "      <td>0.037944</td>\n",
              "      <td>0.008520</td>\n",
              "      <td>0.128171</td>\n",
              "      <td>0.020917</td>\n",
              "      <td>0.002045</td>\n",
              "      <td>...</td>\n",
              "      <td>0.021312</td>\n",
              "      <td>0.003374</td>\n",
              "      <td>0.002268</td>\n",
              "      <td>0.003878</td>\n",
              "      <td>0.027753</td>\n",
              "      <td>0.002527</td>\n",
              "      <td>0.032224</td>\n",
              "      <td>0.002752</td>\n",
              "      <td>0.003856</td>\n",
              "      <td>0.007764</td>\n",
              "    </tr>\n",
              "    <tr>\n",
              "      <th>118846</th>\n",
              "      <td>0.009944</td>\n",
              "      <td>0.000550</td>\n",
              "      <td>0.000108</td>\n",
              "      <td>0.025383</td>\n",
              "      <td>0.000675</td>\n",
              "      <td>0.103524</td>\n",
              "      <td>0.000066</td>\n",
              "      <td>0.057553</td>\n",
              "      <td>0.001607</td>\n",
              "      <td>0.000086</td>\n",
              "      <td>...</td>\n",
              "      <td>0.044681</td>\n",
              "      <td>0.002552</td>\n",
              "      <td>0.000287</td>\n",
              "      <td>0.000473</td>\n",
              "      <td>0.021092</td>\n",
              "      <td>0.000632</td>\n",
              "      <td>0.000178</td>\n",
              "      <td>0.000199</td>\n",
              "      <td>0.004998</td>\n",
              "      <td>0.039629</td>\n",
              "    </tr>\n",
              "    <tr>\n",
              "      <th>118847</th>\n",
              "      <td>0.004574</td>\n",
              "      <td>0.000079</td>\n",
              "      <td>0.000006</td>\n",
              "      <td>0.016383</td>\n",
              "      <td>0.000262</td>\n",
              "      <td>0.045925</td>\n",
              "      <td>0.000018</td>\n",
              "      <td>0.011681</td>\n",
              "      <td>0.001141</td>\n",
              "      <td>0.000011</td>\n",
              "      <td>...</td>\n",
              "      <td>0.004228</td>\n",
              "      <td>0.001379</td>\n",
              "      <td>0.000029</td>\n",
              "      <td>0.000453</td>\n",
              "      <td>0.008746</td>\n",
              "      <td>0.000644</td>\n",
              "      <td>0.000087</td>\n",
              "      <td>0.000275</td>\n",
              "      <td>0.000982</td>\n",
              "      <td>0.006198</td>\n",
              "    </tr>\n",
              "    <tr>\n",
              "      <th>118848</th>\n",
              "      <td>0.001426</td>\n",
              "      <td>0.000473</td>\n",
              "      <td>0.000159</td>\n",
              "      <td>0.059493</td>\n",
              "      <td>0.001228</td>\n",
              "      <td>0.156384</td>\n",
              "      <td>0.000237</td>\n",
              "      <td>0.048928</td>\n",
              "      <td>0.003402</td>\n",
              "      <td>0.000084</td>\n",
              "      <td>...</td>\n",
              "      <td>0.026661</td>\n",
              "      <td>0.001101</td>\n",
              "      <td>0.000115</td>\n",
              "      <td>0.000818</td>\n",
              "      <td>0.035831</td>\n",
              "      <td>0.000595</td>\n",
              "      <td>0.000495</td>\n",
              "      <td>0.000592</td>\n",
              "      <td>0.001811</td>\n",
              "      <td>0.482048</td>\n",
              "    </tr>\n",
              "    <tr>\n",
              "      <th>118849</th>\n",
              "      <td>0.004655</td>\n",
              "      <td>0.000115</td>\n",
              "      <td>0.000003</td>\n",
              "      <td>0.174720</td>\n",
              "      <td>0.000055</td>\n",
              "      <td>0.557510</td>\n",
              "      <td>0.000100</td>\n",
              "      <td>0.062864</td>\n",
              "      <td>0.002616</td>\n",
              "      <td>0.000025</td>\n",
              "      <td>...</td>\n",
              "      <td>0.043799</td>\n",
              "      <td>0.003776</td>\n",
              "      <td>0.000073</td>\n",
              "      <td>0.001118</td>\n",
              "      <td>0.057220</td>\n",
              "      <td>0.001446</td>\n",
              "      <td>0.000069</td>\n",
              "      <td>0.000279</td>\n",
              "      <td>0.002479</td>\n",
              "      <td>0.006146</td>\n",
              "    </tr>\n",
              "    <tr>\n",
              "      <th>118850</th>\n",
              "      <td>0.000186</td>\n",
              "      <td>0.001623</td>\n",
              "      <td>0.000093</td>\n",
              "      <td>0.037302</td>\n",
              "      <td>0.004248</td>\n",
              "      <td>0.021915</td>\n",
              "      <td>0.000611</td>\n",
              "      <td>0.011248</td>\n",
              "      <td>0.003407</td>\n",
              "      <td>0.000212</td>\n",
              "      <td>...</td>\n",
              "      <td>0.002484</td>\n",
              "      <td>0.000831</td>\n",
              "      <td>0.000131</td>\n",
              "      <td>0.000714</td>\n",
              "      <td>0.007404</td>\n",
              "      <td>0.000248</td>\n",
              "      <td>0.002273</td>\n",
              "      <td>0.000148</td>\n",
              "      <td>0.009737</td>\n",
              "      <td>0.002868</td>\n",
              "    </tr>\n",
              "    <tr>\n",
              "      <th>118851</th>\n",
              "      <td>0.002501</td>\n",
              "      <td>0.000148</td>\n",
              "      <td>0.000005</td>\n",
              "      <td>0.029775</td>\n",
              "      <td>0.000033</td>\n",
              "      <td>0.495902</td>\n",
              "      <td>0.000095</td>\n",
              "      <td>0.249346</td>\n",
              "      <td>0.005784</td>\n",
              "      <td>0.000023</td>\n",
              "      <td>...</td>\n",
              "      <td>0.023199</td>\n",
              "      <td>0.001954</td>\n",
              "      <td>0.000090</td>\n",
              "      <td>0.000277</td>\n",
              "      <td>0.036790</td>\n",
              "      <td>0.001634</td>\n",
              "      <td>0.000022</td>\n",
              "      <td>0.000357</td>\n",
              "      <td>0.004678</td>\n",
              "      <td>0.005933</td>\n",
              "    </tr>\n",
              "    <tr>\n",
              "      <th>118852</th>\n",
              "      <td>0.001136</td>\n",
              "      <td>0.000144</td>\n",
              "      <td>0.000049</td>\n",
              "      <td>0.012625</td>\n",
              "      <td>0.000959</td>\n",
              "      <td>0.098659</td>\n",
              "      <td>0.000091</td>\n",
              "      <td>0.007216</td>\n",
              "      <td>0.000477</td>\n",
              "      <td>0.000029</td>\n",
              "      <td>...</td>\n",
              "      <td>0.009800</td>\n",
              "      <td>0.001095</td>\n",
              "      <td>0.000124</td>\n",
              "      <td>0.008705</td>\n",
              "      <td>0.005073</td>\n",
              "      <td>0.001183</td>\n",
              "      <td>0.000526</td>\n",
              "      <td>0.000241</td>\n",
              "      <td>0.001369</td>\n",
              "      <td>0.014110</td>\n",
              "    </tr>\n",
              "    <tr>\n",
              "      <th>118853</th>\n",
              "      <td>0.000893</td>\n",
              "      <td>0.004731</td>\n",
              "      <td>0.000854</td>\n",
              "      <td>0.050532</td>\n",
              "      <td>0.005298</td>\n",
              "      <td>0.051087</td>\n",
              "      <td>0.001184</td>\n",
              "      <td>0.030760</td>\n",
              "      <td>0.003135</td>\n",
              "      <td>0.000817</td>\n",
              "      <td>...</td>\n",
              "      <td>0.008529</td>\n",
              "      <td>0.003337</td>\n",
              "      <td>0.000735</td>\n",
              "      <td>0.002980</td>\n",
              "      <td>0.011662</td>\n",
              "      <td>0.000675</td>\n",
              "      <td>0.002123</td>\n",
              "      <td>0.000666</td>\n",
              "      <td>0.028853</td>\n",
              "      <td>0.028475</td>\n",
              "    </tr>\n",
              "    <tr>\n",
              "      <th>118854</th>\n",
              "      <td>0.001565</td>\n",
              "      <td>0.001378</td>\n",
              "      <td>0.000111</td>\n",
              "      <td>0.036581</td>\n",
              "      <td>0.015989</td>\n",
              "      <td>0.030954</td>\n",
              "      <td>0.000375</td>\n",
              "      <td>0.004016</td>\n",
              "      <td>0.001391</td>\n",
              "      <td>0.000340</td>\n",
              "      <td>...</td>\n",
              "      <td>0.004426</td>\n",
              "      <td>0.002986</td>\n",
              "      <td>0.000335</td>\n",
              "      <td>0.001767</td>\n",
              "      <td>0.007010</td>\n",
              "      <td>0.000139</td>\n",
              "      <td>0.000981</td>\n",
              "      <td>0.000448</td>\n",
              "      <td>0.002871</td>\n",
              "      <td>0.003974</td>\n",
              "    </tr>\n",
              "    <tr>\n",
              "      <th>118855</th>\n",
              "      <td>0.001656</td>\n",
              "      <td>0.001659</td>\n",
              "      <td>0.000062</td>\n",
              "      <td>0.057791</td>\n",
              "      <td>0.000999</td>\n",
              "      <td>0.148686</td>\n",
              "      <td>0.000807</td>\n",
              "      <td>0.173848</td>\n",
              "      <td>0.002541</td>\n",
              "      <td>0.000205</td>\n",
              "      <td>...</td>\n",
              "      <td>0.050666</td>\n",
              "      <td>0.001842</td>\n",
              "      <td>0.000162</td>\n",
              "      <td>0.001867</td>\n",
              "      <td>0.142558</td>\n",
              "      <td>0.000608</td>\n",
              "      <td>0.003106</td>\n",
              "      <td>0.000409</td>\n",
              "      <td>0.002987</td>\n",
              "      <td>0.017931</td>\n",
              "    </tr>\n",
              "    <tr>\n",
              "      <th>118856</th>\n",
              "      <td>0.001454</td>\n",
              "      <td>0.000780</td>\n",
              "      <td>0.000068</td>\n",
              "      <td>0.039882</td>\n",
              "      <td>0.000253</td>\n",
              "      <td>0.471891</td>\n",
              "      <td>0.000564</td>\n",
              "      <td>0.117385</td>\n",
              "      <td>0.014673</td>\n",
              "      <td>0.000213</td>\n",
              "      <td>...</td>\n",
              "      <td>0.013340</td>\n",
              "      <td>0.002370</td>\n",
              "      <td>0.000381</td>\n",
              "      <td>0.000759</td>\n",
              "      <td>0.047841</td>\n",
              "      <td>0.001045</td>\n",
              "      <td>0.000183</td>\n",
              "      <td>0.000878</td>\n",
              "      <td>0.006290</td>\n",
              "      <td>0.007820</td>\n",
              "    </tr>\n",
              "    <tr>\n",
              "      <th>118857</th>\n",
              "      <td>0.002111</td>\n",
              "      <td>0.002145</td>\n",
              "      <td>0.000215</td>\n",
              "      <td>0.046737</td>\n",
              "      <td>0.001000</td>\n",
              "      <td>0.281337</td>\n",
              "      <td>0.001356</td>\n",
              "      <td>0.173586</td>\n",
              "      <td>0.002292</td>\n",
              "      <td>0.000436</td>\n",
              "      <td>...</td>\n",
              "      <td>0.045953</td>\n",
              "      <td>0.002828</td>\n",
              "      <td>0.000312</td>\n",
              "      <td>0.002084</td>\n",
              "      <td>0.054820</td>\n",
              "      <td>0.001002</td>\n",
              "      <td>0.002622</td>\n",
              "      <td>0.001132</td>\n",
              "      <td>0.004818</td>\n",
              "      <td>0.098289</td>\n",
              "    </tr>\n",
              "    <tr>\n",
              "      <th>118858</th>\n",
              "      <td>0.001249</td>\n",
              "      <td>0.000684</td>\n",
              "      <td>0.000304</td>\n",
              "      <td>0.021426</td>\n",
              "      <td>0.000349</td>\n",
              "      <td>0.117052</td>\n",
              "      <td>0.000282</td>\n",
              "      <td>0.023160</td>\n",
              "      <td>0.004077</td>\n",
              "      <td>0.000105</td>\n",
              "      <td>...</td>\n",
              "      <td>0.032223</td>\n",
              "      <td>0.001271</td>\n",
              "      <td>0.000619</td>\n",
              "      <td>0.000091</td>\n",
              "      <td>0.004036</td>\n",
              "      <td>0.000816</td>\n",
              "      <td>0.000147</td>\n",
              "      <td>0.001178</td>\n",
              "      <td>0.001709</td>\n",
              "      <td>0.003553</td>\n",
              "    </tr>\n",
              "    <tr>\n",
              "      <th>118859</th>\n",
              "      <td>0.003541</td>\n",
              "      <td>0.004899</td>\n",
              "      <td>0.000138</td>\n",
              "      <td>0.183369</td>\n",
              "      <td>0.002864</td>\n",
              "      <td>0.124563</td>\n",
              "      <td>0.001632</td>\n",
              "      <td>0.072025</td>\n",
              "      <td>0.165618</td>\n",
              "      <td>0.000396</td>\n",
              "      <td>...</td>\n",
              "      <td>0.030299</td>\n",
              "      <td>0.005497</td>\n",
              "      <td>0.000991</td>\n",
              "      <td>0.002246</td>\n",
              "      <td>0.104077</td>\n",
              "      <td>0.001811</td>\n",
              "      <td>0.001088</td>\n",
              "      <td>0.001348</td>\n",
              "      <td>0.006637</td>\n",
              "      <td>0.002736</td>\n",
              "    </tr>\n",
              "    <tr>\n",
              "      <th>118860</th>\n",
              "      <td>0.001960</td>\n",
              "      <td>0.000277</td>\n",
              "      <td>0.000034</td>\n",
              "      <td>0.091411</td>\n",
              "      <td>0.000104</td>\n",
              "      <td>0.346624</td>\n",
              "      <td>0.000196</td>\n",
              "      <td>0.057215</td>\n",
              "      <td>0.002045</td>\n",
              "      <td>0.000066</td>\n",
              "      <td>...</td>\n",
              "      <td>0.085815</td>\n",
              "      <td>0.000942</td>\n",
              "      <td>0.000131</td>\n",
              "      <td>0.001446</td>\n",
              "      <td>0.025301</td>\n",
              "      <td>0.000356</td>\n",
              "      <td>0.000237</td>\n",
              "      <td>0.000163</td>\n",
              "      <td>0.001465</td>\n",
              "      <td>0.036465</td>\n",
              "    </tr>\n",
              "    <tr>\n",
              "      <th>118861</th>\n",
              "      <td>0.001797</td>\n",
              "      <td>0.002888</td>\n",
              "      <td>0.000203</td>\n",
              "      <td>0.051739</td>\n",
              "      <td>0.001544</td>\n",
              "      <td>0.085789</td>\n",
              "      <td>0.001614</td>\n",
              "      <td>0.108245</td>\n",
              "      <td>0.013590</td>\n",
              "      <td>0.000312</td>\n",
              "      <td>...</td>\n",
              "      <td>0.026297</td>\n",
              "      <td>0.001857</td>\n",
              "      <td>0.000198</td>\n",
              "      <td>0.001298</td>\n",
              "      <td>0.076700</td>\n",
              "      <td>0.000837</td>\n",
              "      <td>0.001946</td>\n",
              "      <td>0.000643</td>\n",
              "      <td>0.006245</td>\n",
              "      <td>0.096614</td>\n",
              "    </tr>\n",
              "    <tr>\n",
              "      <th>118862</th>\n",
              "      <td>0.008240</td>\n",
              "      <td>0.000357</td>\n",
              "      <td>0.000058</td>\n",
              "      <td>0.079145</td>\n",
              "      <td>0.000074</td>\n",
              "      <td>0.573328</td>\n",
              "      <td>0.000303</td>\n",
              "      <td>0.059059</td>\n",
              "      <td>0.003125</td>\n",
              "      <td>0.000113</td>\n",
              "      <td>...</td>\n",
              "      <td>0.054558</td>\n",
              "      <td>0.003827</td>\n",
              "      <td>0.000293</td>\n",
              "      <td>0.001927</td>\n",
              "      <td>0.034733</td>\n",
              "      <td>0.001877</td>\n",
              "      <td>0.000099</td>\n",
              "      <td>0.000485</td>\n",
              "      <td>0.002849</td>\n",
              "      <td>0.029149</td>\n",
              "    </tr>\n",
              "  </tbody>\n",
              "</table>\n",
              "<p>118863 rows × 43 columns</p>\n",
              "</div>"
            ],
            "text/plain": [
              "              0         1         2         3         4         5         6   \\\n",
              "0       0.001062  0.000571  0.000032  0.098312  0.000755  0.609755  0.000261   \n",
              "1       0.002367  0.004050  0.001025  0.118980  0.007047  0.123734  0.002359   \n",
              "2       0.000905  0.000166  0.000005  0.075871  0.000029  0.610915  0.000052   \n",
              "3       0.001686  0.000229  0.000043  0.022713  0.000076  0.055560  0.000120   \n",
              "4       0.004961  0.006043  0.000871  0.059274  0.000740  0.224985  0.001920   \n",
              "5       0.001497  0.000977  0.000248  0.016924  0.000402  0.587588  0.000618   \n",
              "6       0.001720  0.001635  0.000087  0.014692  0.000233  0.221438  0.000494   \n",
              "7       0.003024  0.008938  0.002607  0.072964  0.009912  0.066287  0.002012   \n",
              "8       0.003023  0.004002  0.000339  0.031542  0.002439  0.290957  0.001205   \n",
              "9       0.000771  0.000450  0.000006  0.027304  0.000107  0.203986  0.000099   \n",
              "10      0.004738  0.013983  0.001520  0.047944  0.004392  0.127314  0.004124   \n",
              "11      0.003174  0.000326  0.000057  0.019373  0.000346  0.270007  0.000187   \n",
              "12      0.000224  0.000516  0.000019  0.022552  0.002054  0.030162  0.000129   \n",
              "13      0.001488  0.001226  0.000053  0.020431  0.000803  0.080210  0.000150   \n",
              "14      0.001335  0.000348  0.000194  0.011295  0.011683  0.184980  0.000192   \n",
              "15      0.002707  0.005064  0.000809  0.027501  0.001273  0.223428  0.001812   \n",
              "16      0.002396  0.000768  0.000327  0.028521  0.000625  0.315633  0.000393   \n",
              "17      0.000982  0.005794  0.000396  0.050306  0.001629  0.158787  0.002171   \n",
              "18      0.000941  0.000083  0.000019  0.017080  0.000954  0.083005  0.000023   \n",
              "19      0.000711  0.000530  0.000008  0.029957  0.000348  0.133809  0.000166   \n",
              "20      0.003921  0.002506  0.001188  0.092781  0.003016  0.169870  0.000719   \n",
              "21      0.000399  0.001164  0.000081  0.009656  0.000565  0.055164  0.000186   \n",
              "22      0.000963  0.001972  0.000567  0.036337  0.000520  0.100260  0.000761   \n",
              "23      0.001059  0.004291  0.000288  0.033773  0.001456  0.209161  0.001559   \n",
              "24      0.015132  0.000226  0.000051  0.082641  0.000217  0.473365  0.000216   \n",
              "25      0.000828  0.002443  0.000094  0.014993  0.000251  0.097052  0.000218   \n",
              "26      0.001289  0.002775  0.000728  0.025371  0.002436  0.119177  0.002302   \n",
              "27      0.005841  0.001809  0.000032  0.089342  0.002657  0.142281  0.000442   \n",
              "28      0.002909  0.003085  0.000044  0.047119  0.001077  0.085586  0.000540   \n",
              "29      0.008949  0.000656  0.000059  0.036517  0.000184  0.213311  0.000149   \n",
              "...          ...       ...       ...       ...       ...       ...       ...   \n",
              "118833  0.001243  0.000318  0.000073  0.020930  0.000366  0.080520  0.000066   \n",
              "118834  0.001433  0.001445  0.000097  0.022361  0.001602  0.125731  0.000593   \n",
              "118835  0.001764  0.000649  0.000056  0.011442  0.000415  0.776951  0.000497   \n",
              "118836  0.005271  0.000223  0.000074  0.040012  0.000335  0.069352  0.000049   \n",
              "118837  0.000996  0.000170  0.000004  0.037650  0.000069  0.459232  0.000067   \n",
              "118838  0.014623  0.002723  0.000475  0.028705  0.000439  0.266039  0.000461   \n",
              "118839  0.007146  0.006797  0.004043  0.030814  0.004552  0.065544  0.001490   \n",
              "118840  0.002012  0.000662  0.000129  0.024098  0.006993  0.224958  0.000204   \n",
              "118841  0.001622  0.002100  0.000206  0.016578  0.000678  0.149868  0.000495   \n",
              "118842  0.001593  0.000532  0.000024  0.087135  0.002627  0.636865  0.000218   \n",
              "118843  0.000583  0.000117  0.000010  0.052134  0.000841  0.247497  0.000052   \n",
              "118844  0.004448  0.001463  0.000678  0.051131  0.002557  0.309755  0.000476   \n",
              "118845  0.001780  0.011998  0.001044  0.065586  0.008016  0.037944  0.008520   \n",
              "118846  0.009944  0.000550  0.000108  0.025383  0.000675  0.103524  0.000066   \n",
              "118847  0.004574  0.000079  0.000006  0.016383  0.000262  0.045925  0.000018   \n",
              "118848  0.001426  0.000473  0.000159  0.059493  0.001228  0.156384  0.000237   \n",
              "118849  0.004655  0.000115  0.000003  0.174720  0.000055  0.557510  0.000100   \n",
              "118850  0.000186  0.001623  0.000093  0.037302  0.004248  0.021915  0.000611   \n",
              "118851  0.002501  0.000148  0.000005  0.029775  0.000033  0.495902  0.000095   \n",
              "118852  0.001136  0.000144  0.000049  0.012625  0.000959  0.098659  0.000091   \n",
              "118853  0.000893  0.004731  0.000854  0.050532  0.005298  0.051087  0.001184   \n",
              "118854  0.001565  0.001378  0.000111  0.036581  0.015989  0.030954  0.000375   \n",
              "118855  0.001656  0.001659  0.000062  0.057791  0.000999  0.148686  0.000807   \n",
              "118856  0.001454  0.000780  0.000068  0.039882  0.000253  0.471891  0.000564   \n",
              "118857  0.002111  0.002145  0.000215  0.046737  0.001000  0.281337  0.001356   \n",
              "118858  0.001249  0.000684  0.000304  0.021426  0.000349  0.117052  0.000282   \n",
              "118859  0.003541  0.004899  0.000138  0.183369  0.002864  0.124563  0.001632   \n",
              "118860  0.001960  0.000277  0.000034  0.091411  0.000104  0.346624  0.000196   \n",
              "118861  0.001797  0.002888  0.000203  0.051739  0.001544  0.085789  0.001614   \n",
              "118862  0.008240  0.000357  0.000058  0.079145  0.000074  0.573328  0.000303   \n",
              "\n",
              "              7         8         9     ...           33        34        35  \\\n",
              "0       0.019710  0.001102  0.000050    ...     0.028643  0.002306  0.000350   \n",
              "1       0.146626  0.023174  0.000726    ...     0.040158  0.002642  0.000750   \n",
              "2       0.060320  0.001085  0.000019    ...     0.077190  0.001180  0.000072   \n",
              "3       0.005324  0.000224  0.000055    ...     0.014284  0.000642  0.000007   \n",
              "4       0.106376  0.006968  0.000994    ...     0.171948  0.006895  0.003902   \n",
              "5       0.011896  0.000709  0.000533    ...     0.014257  0.002221  0.000499   \n",
              "6       0.443637  0.013988  0.000372    ...     0.041124  0.002759  0.000450   \n",
              "7       0.021986  0.006784  0.001955    ...     0.025206  0.004948  0.003801   \n",
              "8       0.036883  0.002114  0.003108    ...     0.233333  0.005967  0.004047   \n",
              "9       0.545122  0.011042  0.000027    ...     0.015797  0.000994  0.000036   \n",
              "10      0.102897  0.004444  0.003596    ...     0.023993  0.005902  0.002761   \n",
              "11      0.128411  0.004873  0.000059    ...     0.032837  0.002744  0.000574   \n",
              "12      0.018382  0.000822  0.000039    ...     0.015905  0.001166  0.000096   \n",
              "13      0.317348  0.003947  0.000133    ...     0.352641  0.001447  0.000590   \n",
              "14      0.011162  0.001179  0.000267    ...     0.006315  0.002613  0.000545   \n",
              "15      0.074181  0.001587  0.003131    ...     0.067402  0.004130  0.001484   \n",
              "16      0.073160  0.007889  0.000148    ...     0.062406  0.001792  0.000762   \n",
              "17      0.018207  0.001326  0.002030    ...     0.008728  0.001300  0.000471   \n",
              "18      0.006031  0.000370  0.000012    ...     0.007283  0.000835  0.000052   \n",
              "19      0.563768  0.043266  0.000032    ...     0.034234  0.001155  0.000078   \n",
              "20      0.018948  0.004058  0.000407    ...     0.033288  0.003146  0.000648   \n",
              "21      0.024635  0.000721  0.000329    ...     0.723166  0.001016  0.000469   \n",
              "22      0.060610  0.000765  0.000213    ...     0.038670  0.001552  0.000210   \n",
              "23      0.073519  0.003338  0.001513    ...     0.354573  0.002806  0.001632   \n",
              "24      0.014933  0.001512  0.000082    ...     0.010647  0.004335  0.000205   \n",
              "25      0.483160  0.005824  0.000164    ...     0.142179  0.001416  0.000587   \n",
              "26      0.051700  0.004560  0.001640    ...     0.013481  0.003110  0.001160   \n",
              "27      0.119074  0.017765  0.000168    ...     0.079905  0.003702  0.000296   \n",
              "28      0.399670  0.010231  0.000156    ...     0.099378  0.002967  0.000501   \n",
              "29      0.365476  0.019855  0.000099    ...     0.054948  0.003070  0.000459   \n",
              "...          ...       ...       ...    ...          ...       ...       ...   \n",
              "118833  0.027466  0.000632  0.000050    ...     0.016198  0.002022  0.000139   \n",
              "118834  0.432470  0.004260  0.000359    ...     0.029113  0.001065  0.000249   \n",
              "118835  0.024648  0.000309  0.001872    ...     0.013936  0.001726  0.000259   \n",
              "118836  0.020698  0.000704  0.000023    ...     0.019841  0.001576  0.000051   \n",
              "118837  0.139904  0.004086  0.000030    ...     0.041365  0.001075  0.000082   \n",
              "118838  0.143845  0.003865  0.000491    ...     0.177470  0.004084  0.004085   \n",
              "118839  0.025301  0.001207  0.001844    ...     0.026497  0.004842  0.001356   \n",
              "118840  0.039076  0.001946  0.000296    ...     0.020843  0.003045  0.001289   \n",
              "118841  0.338742  0.006923  0.000715    ...     0.127257  0.002193  0.001457   \n",
              "118842  0.008665  0.000549  0.000125    ...     0.074430  0.004378  0.001005   \n",
              "118843  0.015978  0.000443  0.000011    ...     0.011962  0.001287  0.000027   \n",
              "118844  0.045007  0.000792  0.000247    ...     0.021570  0.005047  0.001255   \n",
              "118845  0.128171  0.020917  0.002045    ...     0.021312  0.003374  0.002268   \n",
              "118846  0.057553  0.001607  0.000086    ...     0.044681  0.002552  0.000287   \n",
              "118847  0.011681  0.001141  0.000011    ...     0.004228  0.001379  0.000029   \n",
              "118848  0.048928  0.003402  0.000084    ...     0.026661  0.001101  0.000115   \n",
              "118849  0.062864  0.002616  0.000025    ...     0.043799  0.003776  0.000073   \n",
              "118850  0.011248  0.003407  0.000212    ...     0.002484  0.000831  0.000131   \n",
              "118851  0.249346  0.005784  0.000023    ...     0.023199  0.001954  0.000090   \n",
              "118852  0.007216  0.000477  0.000029    ...     0.009800  0.001095  0.000124   \n",
              "118853  0.030760  0.003135  0.000817    ...     0.008529  0.003337  0.000735   \n",
              "118854  0.004016  0.001391  0.000340    ...     0.004426  0.002986  0.000335   \n",
              "118855  0.173848  0.002541  0.000205    ...     0.050666  0.001842  0.000162   \n",
              "118856  0.117385  0.014673  0.000213    ...     0.013340  0.002370  0.000381   \n",
              "118857  0.173586  0.002292  0.000436    ...     0.045953  0.002828  0.000312   \n",
              "118858  0.023160  0.004077  0.000105    ...     0.032223  0.001271  0.000619   \n",
              "118859  0.072025  0.165618  0.000396    ...     0.030299  0.005497  0.000991   \n",
              "118860  0.057215  0.002045  0.000066    ...     0.085815  0.000942  0.000131   \n",
              "118861  0.108245  0.013590  0.000312    ...     0.026297  0.001857  0.000198   \n",
              "118862  0.059059  0.003125  0.000113    ...     0.054558  0.003827  0.000293   \n",
              "\n",
              "              36        37        38        39        40        41        42  \n",
              "0       0.000393  0.016949  0.000133  0.000220  0.000863  0.001554  0.008898  \n",
              "1       0.002493  0.028960  0.001654  0.004573  0.002348  0.004514  0.116055  \n",
              "2       0.000192  0.025148  0.000199  0.000055  0.000117  0.001040  0.008479  \n",
              "3       0.000507  0.004404  0.000055  0.000456  0.000081  0.000734  0.826633  \n",
              "4       0.002421  0.057550  0.002819  0.001739  0.001450  0.015610  0.012267  \n",
              "5       0.007444  0.025402  0.000293  0.000210  0.000843  0.002009  0.007049  \n",
              "6       0.000521  0.032753  0.001109  0.000137  0.001494  0.011103  0.010653  \n",
              "7       0.004514  0.032459  0.001171  0.003962  0.001786  0.007521  0.019915  \n",
              "8       0.040742  0.056661  0.004928  0.000878  0.002301  0.005364  0.007579  \n",
              "9       0.000257  0.010126  0.000210  0.000060  0.000206  0.006214  0.004384  \n",
              "10      0.004817  0.046257  0.002813  0.008560  0.003419  0.018100  0.013253  \n",
              "11      0.000125  0.030946  0.001740  0.000071  0.000867  0.006578  0.004622  \n",
              "12      0.000233  0.007596  0.000074  0.000432  0.000070  0.006243  0.002349  \n",
              "13      0.000416  0.043589  0.000617  0.000393  0.000401  0.003299  0.004224  \n",
              "14      0.000392  0.012177  0.000580  0.000333  0.001647  0.003434  0.014976  \n",
              "15      0.012897  0.040656  0.001608  0.001936  0.001619  0.009269  0.044141  \n",
              "16      0.000574  0.010376  0.003321  0.000173  0.001183  0.003278  0.018649  \n",
              "17      0.003339  0.017088  0.000422  0.008739  0.000528  0.001642  0.011132  \n",
              "18      0.002940  0.003491  0.000482  0.000167  0.000142  0.001863  0.004776  \n",
              "19      0.000219  0.071875  0.000360  0.000171  0.000368  0.002573  0.001704  \n",
              "20      0.001345  0.016683  0.000688  0.000568  0.002256  0.002988  0.090512  \n",
              "21      0.001486  0.009661  0.000549  0.000716  0.000217  0.001605  0.004150  \n",
              "22      0.001684  0.006630  0.000163  0.000984  0.000152  0.006142  0.195328  \n",
              "23      0.014490  0.040307  0.002295  0.004253  0.000831  0.002350  0.010580  \n",
              "24      0.006227  0.033917  0.002144  0.000106  0.000423  0.003337  0.012018  \n",
              "25      0.000431  0.034093  0.000402  0.000228  0.000622  0.006649  0.004293  \n",
              "26      0.002960  0.035474  0.001094  0.001000  0.001544  0.011590  0.014645  \n",
              "27      0.000949  0.246365  0.000682  0.001462  0.000348  0.004689  0.004692  \n",
              "28      0.001355  0.124810  0.000691  0.001123  0.000559  0.003577  0.003817  \n",
              "29      0.000816  0.080785  0.002149  0.000064  0.000804  0.004886  0.011055  \n",
              "...          ...       ...       ...       ...       ...       ...       ...  \n",
              "118833  0.000340  0.010967  0.000073  0.000036  0.000080  0.003375  0.053618  \n",
              "118834  0.001151  0.051904  0.000524  0.000982  0.000875  0.002749  0.039107  \n",
              "118835  0.001135  0.049231  0.000220  0.000573  0.000848  0.001200  0.005527  \n",
              "118836  0.001030  0.025976  0.000408  0.000156  0.000252  0.003153  0.345560  \n",
              "118837  0.000294  0.057700  0.000552  0.000036  0.000136  0.003682  0.004062  \n",
              "118838  0.002474  0.042437  0.004468  0.000407  0.000884  0.005622  0.019174  \n",
              "118839  0.004166  0.025701  0.000882  0.001530  0.002338  0.006197  0.297812  \n",
              "118840  0.003235  0.089349  0.002211  0.000289  0.001463  0.003142  0.005236  \n",
              "118841  0.001047  0.102530  0.003188  0.000504  0.002162  0.006923  0.012168  \n",
              "118842  0.003211  0.018476  0.000355  0.000246  0.000784  0.001087  0.001685  \n",
              "118843  0.000470  0.018979  0.000020  0.000027  0.000075  0.001478  0.019111  \n",
              "118844  0.001777  0.029464  0.000716  0.000356  0.000962  0.012295  0.144797  \n",
              "118845  0.003878  0.027753  0.002527  0.032224  0.002752  0.003856  0.007764  \n",
              "118846  0.000473  0.021092  0.000632  0.000178  0.000199  0.004998  0.039629  \n",
              "118847  0.000453  0.008746  0.000644  0.000087  0.000275  0.000982  0.006198  \n",
              "118848  0.000818  0.035831  0.000595  0.000495  0.000592  0.001811  0.482048  \n",
              "118849  0.001118  0.057220  0.001446  0.000069  0.000279  0.002479  0.006146  \n",
              "118850  0.000714  0.007404  0.000248  0.002273  0.000148  0.009737  0.002868  \n",
              "118851  0.000277  0.036790  0.001634  0.000022  0.000357  0.004678  0.005933  \n",
              "118852  0.008705  0.005073  0.001183  0.000526  0.000241  0.001369  0.014110  \n",
              "118853  0.002980  0.011662  0.000675  0.002123  0.000666  0.028853  0.028475  \n",
              "118854  0.001767  0.007010  0.000139  0.000981  0.000448  0.002871  0.003974  \n",
              "118855  0.001867  0.142558  0.000608  0.003106  0.000409  0.002987  0.017931  \n",
              "118856  0.000759  0.047841  0.001045  0.000183  0.000878  0.006290  0.007820  \n",
              "118857  0.002084  0.054820  0.001002  0.002622  0.001132  0.004818  0.098289  \n",
              "118858  0.000091  0.004036  0.000816  0.000147  0.001178  0.001709  0.003553  \n",
              "118859  0.002246  0.104077  0.001811  0.001088  0.001348  0.006637  0.002736  \n",
              "118860  0.001446  0.025301  0.000356  0.000237  0.000163  0.001465  0.036465  \n",
              "118861  0.001298  0.076700  0.000837  0.001946  0.000643  0.006245  0.096614  \n",
              "118862  0.001927  0.034733  0.001877  0.000099  0.000485  0.002849  0.029149  \n",
              "\n",
              "[118863 rows x 43 columns]"
            ]
          },
          "metadata": {
            "tags": []
          },
          "execution_count": 177
        }
      ]
    },
    {
      "metadata": {
        "id": "nOdfM2DAsxGB",
        "colab_type": "code",
        "colab": {}
      },
      "cell_type": "code",
      "source": [
        "predsdf.to_csv(\"preds.csv\")"
      ],
      "execution_count": 0,
      "outputs": []
    },
    {
      "metadata": {
        "id": "8ZYEvvvCtLNq",
        "colab_type": "code",
        "colab": {}
      },
      "cell_type": "code",
      "source": [
        ""
      ],
      "execution_count": 0,
      "outputs": []
    }
  ]
}