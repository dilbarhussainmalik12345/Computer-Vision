{
  "nbformat": 4,
  "nbformat_minor": 0,
  "metadata": {
    "colab": {
      "name": "food_image.ipynb",
      "version": "0.3.2",
      "provenance": [],
      "collapsed_sections": [
        "VIdGjJTNIZ36"
      ],
      "toc_visible": true,
      "include_colab_link": true
    },
    "kernelspec": {
      "name": "python3",
      "display_name": "Python 3"
    },
    "accelerator": "GPU"
  },
  "cells": [
    {
      "cell_type": "markdown",
      "metadata": {
        "id": "view-in-github",
        "colab_type": "text"
      },
      "source": [
        "<a href=\"https://colab.research.google.com/github/navneetkrc/Colab_fastai/blob/master/food_image.ipynb\" target=\"_parent\"><img src=\"https://colab.research.google.com/assets/colab-badge.svg\" alt=\"Open In Colab\"/></a>"
      ]
    },
    {
      "metadata": {
        "id": "BXJgSX4lprBr",
        "colab_type": "text"
      },
      "cell_type": "markdown",
      "source": [
        "##To cross check if notebook is running on GPU backend"
      ]
    },
    {
      "metadata": {
        "id": "C93WwL5MnS0X",
        "colab_type": "code",
        "outputId": "a59641ae-4924-496a-90c1-0f735b55925d",
        "colab": {
          "base_uri": "https://localhost:8080/",
          "height": 34
        }
      },
      "cell_type": "code",
      "source": [
        "import tensorflow as tf\n",
        "tf.test.gpu_device_name()\n",
        "#You should get '/device:GPU:0' if notebook is connected to GPU otherwise you will get ' '"
      ],
      "execution_count": 0,
      "outputs": [
        {
          "output_type": "execute_result",
          "data": {
            "text/plain": [
              "'/device:GPU:0'"
            ]
          },
          "metadata": {
            "tags": []
          },
          "execution_count": 8
        }
      ]
    },
    {
      "metadata": {
        "id": "fWXJO3OIp98B",
        "colab_type": "text"
      },
      "cell_type": "markdown",
      "source": [
        "#Additional Setup for Google Colab"
      ]
    },
    {
      "metadata": {
        "id": "KRKUrGptqIKi",
        "colab_type": "text"
      },
      "cell_type": "markdown",
      "source": [
        "###Installing Pytorch"
      ]
    },
    {
      "metadata": {
        "id": "wSruH4BlqCV6",
        "colab_type": "code",
        "colab": {}
      },
      "cell_type": "code",
      "source": [
        "!pip install pytorch\n",
        "!pip install torchtext==0.2.3"
      ],
      "execution_count": 0,
      "outputs": []
    },
    {
      "metadata": {
        "id": "qkXFnj2lrnuD",
        "colab_type": "text"
      },
      "cell_type": "markdown",
      "source": [
        "###Workaround for an issue with PIL"
      ]
    },
    {
      "metadata": {
        "id": "_XH-NLBFrtpS",
        "colab_type": "text"
      },
      "cell_type": "markdown",
      "source": [
        "Please refer this [link](http://forums.fast.ai/t/attributeerror-module-pil-image-has-no-attribute-register-extensions/10689/3) for information related to this issue and workaround."
      ]
    },
    {
      "metadata": {
        "id": "l6_Nuft0rvRx",
        "colab_type": "code",
        "colab": {}
      },
      "cell_type": "code",
      "source": [
        "!pip install Pillow==4.0.0\n",
        "!pip install PIL\n",
        "!pip install image"
      ],
      "execution_count": 0,
      "outputs": []
    },
    {
      "metadata": {
        "id": "nOzbntfurz0t",
        "colab_type": "text"
      },
      "cell_type": "markdown",
      "source": [
        "###Installing fastai"
      ]
    },
    {
      "metadata": {
        "id": "gpaqz2t3r2h_",
        "colab_type": "code",
        "colab": {}
      },
      "cell_type": "code",
      "source": [
        "!pip install fastai==0.7.0"
      ],
      "execution_count": 0,
      "outputs": []
    },
    {
      "metadata": {
        "id": "ezXt5J18sHK0",
        "colab_type": "text"
      },
      "cell_type": "markdown",
      "source": [
        "###Installing libSM & Jupyter Widgets\n"
      ]
    },
    {
      "metadata": {
        "id": "ZKnmU8c-sTbs",
        "colab_type": "text"
      },
      "cell_type": "markdown",
      "source": [
        "The import of fastai is will throw an error that this library is missing. So, Installing the same."
      ]
    },
    {
      "metadata": {
        "id": "JquogtLhsUfn",
        "colab_type": "code",
        "colab": {}
      },
      "cell_type": "code",
      "source": [
        "!apt update && apt install -y libsm6 libxext6"
      ],
      "execution_count": 0,
      "outputs": []
    },
    {
      "metadata": {
        "id": "Pq0qCnBqvxKI",
        "colab_type": "text"
      },
      "cell_type": "markdown",
      "source": [
        "Installing Jupyter Notebooks Widgets so that output is loaded on the screen correctly"
      ]
    },
    {
      "metadata": {
        "id": "r7cNG9sUvy0D",
        "colab_type": "code",
        "colab": {}
      },
      "cell_type": "code",
      "source": [
        "!pip install notebook = 5.2.0\n",
        "!pip install ipywidgets\n",
        "!jupyter nbextension enable --py widgetsnbextension"
      ],
      "execution_count": 0,
      "outputs": []
    },
    {
      "metadata": {
        "id": "Xpt-Mpb8biUG",
        "colab_type": "code",
        "colab": {}
      },
      "cell_type": "code",
      "source": [
        "!mkdir food_img"
      ],
      "execution_count": 0,
      "outputs": []
    },
    {
      "metadata": {
        "id": "U3-pAoQqbiQR",
        "colab_type": "code",
        "colab": {}
      },
      "cell_type": "code",
      "source": [
        ""
      ],
      "execution_count": 0,
      "outputs": []
    },
    {
      "metadata": {
        "id": "PMN5rBh8v33T",
        "colab_type": "text"
      },
      "cell_type": "markdown",
      "source": [
        "##Downloading the dataset"
      ]
    },
    {
      "metadata": {
        "id": "GU2x1x_FbtQO",
        "colab_type": "code",
        "outputId": "4e774c11-8fba-4176-9fac-083e3fab629e",
        "colab": {
          "base_uri": "https://localhost:8080/",
          "height": 139
        }
      },
      "cell_type": "code",
      "source": [
        "!wget --header=\"Host: public.boxcloud.com\" --header=\"User-Agent: Mozilla/5.0 (Macintosh; Intel Mac OS X 10_14_1) AppleWebKit/537.36 (KHTML, like Gecko) Chrome/70.0.3538.102 Safari/537.36\" --header=\"Accept: text/html,application/xhtml+xml,application/xml;q=0.9,image/webp,image/apng,*/*;q=0.8\" --header=\"Accept-Language: en-GB,en-US;q=0.9,en;q=0.8\" \"https://public.boxcloud.com/d/1/b1!ADVahPOlE0czk5yEF32jkFySAO-lUtGJd2OsNhNGp3AZEBN5RuQzDRFXNewyTA_56QCaT9bwd5IY-irlFC1Xirqi1ZTTirycnm3pAZ0CJWdyTtp-XXqB7Be6JNUWFBXrt8cdegqcwzVt0v36OuxilrEdDGBSPwq0D9_H9e1svO-7thHE-AnFO5ZC7k4qImFFrTFUpcvvwzl7FA_uH-7CARNpNJyvrn3yE8WyL8f1-x72Dsj93h2KKW1uD3TCRxry6uCOcpLXZvV8RoAvbV2P0eLCOWHDFoI6e7YHMCNkGnlCTrGUZWdm7AOBa7WVoPezQEfm3d55VZxyFl1oJZB9CitnXaZWEIVo2tsvuY-lyi0p6-2cbDRpX-Hkn3mnnK4R3P-pJ07YtlQiQg09CryQO5takQtKQUIiOD86WiFO6BrjUGzrlQXamy2Bos6bwrIH_o_NlIHNoZ-j40XTEgmxxTGc5aX6FphT0Lnw_TVb4rgjrVAwBlsyrfySeJbMVX2hjC3XEKi7nt8tWQY3Fn7A2NU0z8fE1vDVM8oBTpKIQozVandNzJt3lP8jsji0pdsDwd9vUwATmRZ9pc_2pMTK4VzTQU-9t2b8ByXJfCqtu5KmwzIu_GpMcdLVIKM12dw0fkzyUANUPKGxMOZJo1AqJFkR9WXIX8C03YlabGtCfaaYUl4fp7RlTTN-KqoxspDsxqGCkH6Dr_vlw3Xzg0HjZDIm3WOdYeI71hn6A8sS8Z5CMKSFvUMnwwzdEUm6Kwz5sEvWPTWr9e2NUXGOrvnlPOAbalM9bnhwg5StP94HN8ZG_2tGi_G9fKLPsz5iNj4y4ygvzUu14cmrYwNtf9Ca2V3KRfaHCI5B9f0g7v7qqQMHDIfxogRnX39GpqMHqpNJdIIlGfcHkqx0Nv027BLNwfeFuAjTttoLIDUYQZyZJgvCnIFxZK-dRhbm6MohMoPK9s-bMVL9F20Z0hEyyoOr6ue-mxB3ZouQhQLLs49WPAERRFS7gVVG2wzbIkpoCrnJ7vUFPnhdbuco9z7LaTq82gThsssztF0x5JDJBMJmFiAsqK5jGQOE9zR7UPrsVgToI8TxaCK-82qXw_A2ephjLLcsAJ4tH4km8iT2hS8yLdeANzTzR4C5PsDcNtRwMbB22hL59F4YZe9-MYLvA0ExDAyYl3tqhBwlz-y2p3ETKRA7HBCgvElLH2Z9ajaSMDqc2UD-Ae54HB-e6zPqAkcwqYnUsIh-OkbAcvRhrE2qcitpOKRcWLegmvbkJNw./download\" -O \"training-data.tar.gz\" -c food_img"
      ],
      "execution_count": 0,
      "outputs": [
        {
          "output_type": "stream",
          "text": [
            "--2018-11-15 20:10:22--  https://public.boxcloud.com/d/1/b1!ADVahPOlE0czk5yEF32jkFySAO-lUtGJd2OsNhNGp3AZEBN5RuQzDRFXNewyTA_56QCaT9bwd5IY-irlFC1Xirqi1ZTTirycnm3pAZ0CJWdyTtp-XXqB7Be6JNUWFBXrt8cdegqcwzVt0v36OuxilrEdDGBSPwq0D9_H9e1svO-7thHE-AnFO5ZC7k4qImFFrTFUpcvvwzl7FA_uH-7CARNpNJyvrn3yE8WyL8f1-x72Dsj93h2KKW1uD3TCRxry6uCOcpLXZvV8RoAvbV2P0eLCOWHDFoI6e7YHMCNkGnlCTrGUZWdm7AOBa7WVoPezQEfm3d55VZxyFl1oJZB9CitnXaZWEIVo2tsvuY-lyi0p6-2cbDRpX-Hkn3mnnK4R3P-pJ07YtlQiQg09CryQO5takQtKQUIiOD86WiFO6BrjUGzrlQXamy2Bos6bwrIH_o_NlIHNoZ-j40XTEgmxxTGc5aX6FphT0Lnw_TVb4rgjrVAwBlsyrfySeJbMVX2hjC3XEKi7nt8tWQY3Fn7A2NU0z8fE1vDVM8oBTpKIQozVandNzJt3lP8jsji0pdsDwd9vUwATmRZ9pc_2pMTK4VzTQU-9t2b8ByXJfCqtu5KmwzIu_GpMcdLVIKM12dw0fkzyUANUPKGxMOZJo1AqJFkR9WXIX8C03YlabGtCfaaYUl4fp7RlTTN-KqoxspDsxqGCkH6Dr_vlw3Xzg0HjZDIm3WOdYeI71hn6A8sS8Z5CMKSFvUMnwwzdEUm6Kwz5sEvWPTWr9e2NUXGOrvnlPOAbalM9bnhwg5StP94HN8ZG_2tGi_G9fKLPsz5iNj4y4ygvzUu14cmrYwNtf9Ca2V3KRfaHCI5B9f0g7v7qqQMHDIfxogRnX39GpqMHqpNJdIIlGfcHkqx0Nv027BLNwfeFuAjTttoLIDUYQZyZJgvCnIFxZK-dRhbm6MohMoPK9s-bMVL9F20Z0hEyyoOr6ue-mxB3ZouQhQLLs49WPAERRFS7gVVG2wzbIkpoCrnJ7vUFPnhdbuco9z7LaTq82gThsssztF0x5JDJBMJmFiAsqK5jGQOE9zR7UPrsVgToI8TxaCK-82qXw_A2ephjLLcsAJ4tH4km8iT2hS8yLdeANzTzR4C5PsDcNtRwMbB22hL59F4YZe9-MYLvA0ExDAyYl3tqhBwlz-y2p3ETKRA7HBCgvElLH2Z9ajaSMDqc2UD-Ae54HB-e6zPqAkcwqYnUsIh-OkbAcvRhrE2qcitpOKRcWLegmvbkJNw./download\n",
            "Resolving public.boxcloud.com (public.boxcloud.com)... 107.152.25.200, 107.152.24.200\n",
            "Connecting to public.boxcloud.com (public.boxcloud.com)|107.152.25.200|:443... connected.\n",
            "HTTP request sent, awaiting response... 404 Not Found\n",
            "2018-11-15 20:10:23 ERROR 404: Not Found.\n",
            "\n"
          ],
          "name": "stdout"
        }
      ]
    },
    {
      "metadata": {
        "id": "cbiOaNCAvjlk",
        "colab_type": "code",
        "outputId": "85eaccb9-d6e4-4108-e43e-7c2f356884e7",
        "colab": {
          "base_uri": "https://localhost:8080/",
          "height": 139
        }
      },
      "cell_type": "code",
      "source": [
        "!wget --header=\"Host: public.boxcloud.com\" --header=\"User-Agent: Mozilla/5.0 (Macintosh; Intel Mac OS X 10_14_1) AppleWebKit/537.36 (KHTML, like Gecko) Chrome/70.0.3538.102 Safari/537.36\" --header=\"Accept: text/html,application/xhtml+xml,application/xml;q=0.9,image/webp,image/apng,*/*;q=0.8\" --header=\"Accept-Language: en-GB,en-US;q=0.9,en;q=0.8\" \"https://public.boxcloud.com/d/1/b1!OCnXqbYBMjI06YarE4E-fd5EeUr17gBDOtb3-n0hlE53qE4kpc7PPA9clTziiBsxepm137_26z3YkjbjGpwww-sCR-YZTz-YBKAKpYpFnP2cKB3FCEje11__QJrKCMfGDLk54BhZeKzfBZNU1YWmWszKFA0wBbAGIG1L-Pa_zz9DpLUX85KbMb7yHTseqPQvUW8-2mi2Pe9hTz_OzBVS2hDfP1s9R7SUGaUeEy3AEry5rp9I7_1SWtoJ6naHST2Eo2pj8GwYvoIuJ3dpeYfSw6WhnixKEtDQCollP8VjAH9dzjEgiTI7B7XrHxB_nVsR8vX6try6hZ68VmsZCEn_QWqBp-YA7hc3NAGDVjxLu2UTivQeqbtup4T3f87pbPKzKX_--Fe5bJyRK2Jw-5_j-mw9iJtWAJfzKJe9RLcIYjeRDbZzIWiHIb8Od-bq3fYXbFPkWgrbIBJj3vRVvgLEBlBEvUV3QP3zdawNrgZXt-KJJNyWYVJrm0Qt5nQ9GhEDdcttOz8jGX2WoyEVNrRl1wdSw5Tfu3w5cRNV_yG75Q2fB9B0OGpOHmb-DDW79HXv0BfWLL4MZOxE0IuV0l4mx3WRlEcls0P8R-MLBcd4fhXBmnIob1wRvKc6fjSlVSzuO3VDPC9Y57BABUxVwvrYVk83LcWKawaaDH3daR_i-XBe8PwguDHfMgy51dLLTSjw0UEy_mwsEo2dHqDoAeFoCJ81DMLtPJyrEtEcQBnboqxRXDbYIy6BOOouNg2ldun6aCp7Y6GDadOZMQOBuXRJ6O84z9gkrAbJ5zEdr3vc7VsCwIn0UcB90dHFEBEFMsognTizMzMKYoIuQGGiuHalE3pA0MDmeQbEFrgpvSIue6pTwHeuksdhQpsWZBY36uSp0pkQOCq9k0bmK3oUty_TUpM-yyBkk04LAjJz1ge73uMM4kxuyDlPaUvJaN85-UtDjcdWp3ZqLSQ7h7g1lczZavV8HfR-lCPAhKCF2JXpqHJdZnE_WCNWe1Kmuoxz7Njhi6mo1i05FL4kfWaWpInMj4eKD6zR3tO0JEFOj7_Q1x8cA1hkaXXK3l6LN1C81RkVyilUQ4N7I3fYXOqEmYcgqKlHtvisUcxcNn3SzN776NAJ5lDzZ1eZ7MgWhAXjtgstqrlCbOIqRfa4_HVLJ_ofXC2yIoa_4fcdWxUPZPTHoioO-EKvl_mMWkFxstoUDizpiRLS4Q76CiHePjaXuZR8C9D6Rac3i4ilsMn3vgCdTvEGju2EAfQFmmDeczXP4Q../download\"  -O \"test.tar.gz\" -c"
      ],
      "execution_count": 0,
      "outputs": [
        {
          "output_type": "stream",
          "text": [
            "--2018-11-15 20:32:15--  https://public.boxcloud.com/d/1/b1!OCnXqbYBMjI06YarE4E-fd5EeUr17gBDOtb3-n0hlE53qE4kpc7PPA9clTziiBsxepm137_26z3YkjbjGpwww-sCR-YZTz-YBKAKpYpFnP2cKB3FCEje11__QJrKCMfGDLk54BhZeKzfBZNU1YWmWszKFA0wBbAGIG1L-Pa_zz9DpLUX85KbMb7yHTseqPQvUW8-2mi2Pe9hTz_OzBVS2hDfP1s9R7SUGaUeEy3AEry5rp9I7_1SWtoJ6naHST2Eo2pj8GwYvoIuJ3dpeYfSw6WhnixKEtDQCollP8VjAH9dzjEgiTI7B7XrHxB_nVsR8vX6try6hZ68VmsZCEn_QWqBp-YA7hc3NAGDVjxLu2UTivQeqbtup4T3f87pbPKzKX_--Fe5bJyRK2Jw-5_j-mw9iJtWAJfzKJe9RLcIYjeRDbZzIWiHIb8Od-bq3fYXbFPkWgrbIBJj3vRVvgLEBlBEvUV3QP3zdawNrgZXt-KJJNyWYVJrm0Qt5nQ9GhEDdcttOz8jGX2WoyEVNrRl1wdSw5Tfu3w5cRNV_yG75Q2fB9B0OGpOHmb-DDW79HXv0BfWLL4MZOxE0IuV0l4mx3WRlEcls0P8R-MLBcd4fhXBmnIob1wRvKc6fjSlVSzuO3VDPC9Y57BABUxVwvrYVk83LcWKawaaDH3daR_i-XBe8PwguDHfMgy51dLLTSjw0UEy_mwsEo2dHqDoAeFoCJ81DMLtPJyrEtEcQBnboqxRXDbYIy6BOOouNg2ldun6aCp7Y6GDadOZMQOBuXRJ6O84z9gkrAbJ5zEdr3vc7VsCwIn0UcB90dHFEBEFMsognTizMzMKYoIuQGGiuHalE3pA0MDmeQbEFrgpvSIue6pTwHeuksdhQpsWZBY36uSp0pkQOCq9k0bmK3oUty_TUpM-yyBkk04LAjJz1ge73uMM4kxuyDlPaUvJaN85-UtDjcdWp3ZqLSQ7h7g1lczZavV8HfR-lCPAhKCF2JXpqHJdZnE_WCNWe1Kmuoxz7Njhi6mo1i05FL4kfWaWpInMj4eKD6zR3tO0JEFOj7_Q1x8cA1hkaXXK3l6LN1C81RkVyilUQ4N7I3fYXOqEmYcgqKlHtvisUcxcNn3SzN776NAJ5lDzZ1eZ7MgWhAXjtgstqrlCbOIqRfa4_HVLJ_ofXC2yIoa_4fcdWxUPZPTHoioO-EKvl_mMWkFxstoUDizpiRLS4Q76CiHePjaXuZR8C9D6Rac3i4ilsMn3vgCdTvEGju2EAfQFmmDeczXP4Q../download\n",
            "Resolving public.boxcloud.com (public.boxcloud.com)... 107.152.25.200, 107.152.24.200\n",
            "Connecting to public.boxcloud.com (public.boxcloud.com)|107.152.25.200|:443... connected.\n",
            "HTTP request sent, awaiting response... 404 Not Found\n",
            "2018-11-15 20:32:16 ERROR 404: Not Found.\n",
            "\n"
          ],
          "name": "stdout"
        }
      ]
    },
    {
      "metadata": {
        "id": "G1LSo6ViSlO6",
        "colab_type": "text"
      },
      "cell_type": "markdown",
      "source": [
        "###To explain a little further, tar collected all the files into one package, community_images.tar. The gzip program applied compression, hence the gz extension. So the command does a couple things:\n",
        "\n",
        "f: this must be the last flag of the command, and the tar file must be immediately after. It tells tar the name and path of the compressed file.\n",
        "\n",
        "z: tells tar to decompress the archive using gzip\n",
        "\n",
        "x: tar can collect files or extract them. x does the latter.\n",
        "\n",
        "v: makes tar talk a lot. Verbose output shows you all the files being extracted.\n"
      ]
    },
    {
      "metadata": {
        "id": "W1vjwBZ8R7tf",
        "colab_type": "code",
        "outputId": "f426032d-35de-4c29-e3a2-4ba76ee534c8",
        "colab": {
          "base_uri": "https://localhost:8080/",
          "height": 85
        }
      },
      "cell_type": "code",
      "source": [
        "!tar -xvzf training-data.tar.gz"
      ],
      "execution_count": 0,
      "outputs": [
        {
          "output_type": "stream",
          "text": [
            "\n",
            "gzip: stdin: unexpected end of file\n",
            "tar: Child returned status 1\n",
            "tar: Error is not recoverable: exiting now\n"
          ],
          "name": "stdout"
        }
      ]
    },
    {
      "metadata": {
        "id": "vH5JiJvvvqrA",
        "colab_type": "code",
        "colab": {}
      },
      "cell_type": "code",
      "source": [
        "!tar -xvzf test1-images.tar.gz -C /food_img\n",
        "print(\"done\")"
      ],
      "execution_count": 0,
      "outputs": []
    },
    {
      "metadata": {
        "id": "xEKAECfHOm1D",
        "colab_type": "text"
      },
      "cell_type": "markdown",
      "source": [
        "### Mounting Google Drive in Colab"
      ]
    },
    {
      "metadata": {
        "id": "9Ldv1zPI1wVk",
        "colab_type": "code",
        "outputId": "c197341a-5da9-4f54-9113-c1b83a320b9f",
        "colab": {
          "base_uri": "https://localhost:8080/",
          "height": 122
        }
      },
      "cell_type": "code",
      "source": [
        "from google.colab import drive\n",
        "drive.mount('/content/gdrive')"
      ],
      "execution_count": 0,
      "outputs": [
        {
          "output_type": "stream",
          "text": [
            "Go to this URL in a browser: https://accounts.google.com/o/oauth2/auth?client_id=947318989803-6bn6qk8qdgf4n4g3pfee6491hc0brc4i.apps.googleusercontent.com&redirect_uri=urn%3Aietf%3Awg%3Aoauth%3A2.0%3Aoob&scope=email%20https%3A%2F%2Fwww.googleapis.com%2Fauth%2Fdocs.test%20https%3A%2F%2Fwww.googleapis.com%2Fauth%2Fdrive%20https%3A%2F%2Fwww.googleapis.com%2Fauth%2Fdrive.photos.readonly%20https%3A%2F%2Fwww.googleapis.com%2Fauth%2Fpeopleapi.readonly&response_type=code\n",
            "\n",
            "Enter your authorization code:\n",
            "··········\n",
            "Mounted at /content/gdrive\n"
          ],
          "name": "stdout"
        }
      ]
    },
    {
      "metadata": {
        "id": "xeewJ-2szXae",
        "colab_type": "text"
      },
      "cell_type": "markdown",
      "source": [
        "### Setting path for google drive"
      ]
    },
    {
      "metadata": {
        "id": "1DrAqaeUzetO",
        "colab_type": "code",
        "colab": {}
      },
      "cell_type": "code",
      "source": [
        "PATH = \"gdrive/My\\ Drive/FOOD_IMG/\""
      ],
      "execution_count": 0,
      "outputs": []
    },
    {
      "metadata": {
        "id": "nUdk0_Qn0b1I",
        "colab_type": "code",
        "colab": {}
      },
      "cell_type": "code",
      "source": [
        "!ls -lr {PATH}"
      ],
      "execution_count": 0,
      "outputs": []
    },
    {
      "metadata": {
        "id": "3Txo0j6c0oh7",
        "colab_type": "code",
        "colab": {}
      },
      "cell_type": "code",
      "source": [
        "#!unzip gdrive/My\\ Drive/FOOD_IMG/rakuten_train_image.zip -d gdrive/My\\ Drive/FOOD_IMG/train_img"
      ],
      "execution_count": 0,
      "outputs": []
    },
    {
      "metadata": {
        "id": "VIdGjJTNIZ36",
        "colab_type": "text"
      },
      "cell_type": "markdown",
      "source": [
        "### Installing Kaggle Dependencies"
      ]
    },
    {
      "metadata": {
        "id": "tcCnZmAGIgrX",
        "colab_type": "code",
        "colab": {}
      },
      "cell_type": "code",
      "source": [
        "#!pip install -U -q kaggle\n",
        "#!mkdir -p ~/.kaggle\n",
        "#!echo '{\"username\":\"navneetkrch\",\"key\":\"4910f3543e9486158ccfa00ca84b274f\"}'> ~/.kaggle/kaggle.json  # Replace\n",
        "#!chmod 600 kaggle.json"
      ],
      "execution_count": 0,
      "outputs": []
    },
    {
      "metadata": {
        "id": "nV1lhYa7JK--",
        "colab_type": "code",
        "colab": {}
      },
      "cell_type": "code",
      "source": [
        "#!mkdir -p data \n",
        "#!kaggle datasets download -d utsav15/image-food"
      ],
      "execution_count": 0,
      "outputs": []
    },
    {
      "metadata": {
        "id": "njto20mFORlN",
        "colab_type": "code",
        "colab": {}
      },
      "cell_type": "code",
      "source": [
        "#!unzip image-food.zip "
      ],
      "execution_count": 0,
      "outputs": []
    },
    {
      "metadata": {
        "id": "5LVK3qbXMWDN",
        "colab_type": "code",
        "colab": {}
      },
      "cell_type": "code",
      "source": [
        "#!tar xvf training-data\\ \\(1\\).tar"
      ],
      "execution_count": 0,
      "outputs": []
    },
    {
      "metadata": {
        "id": "SNss0zVyUT4f",
        "colab_type": "code",
        "colab": {}
      },
      "cell_type": "code",
      "source": [
        "#!tar xf gdrive/My\\ Drive/FOOD_IMAGES_CLASSIFIER/Rakuten-training-data.tar.gz"
      ],
      "execution_count": 0,
      "outputs": []
    },
    {
      "metadata": {
        "id": "oQXsjL3NOGgk",
        "colab_type": "text"
      },
      "cell_type": "markdown",
      "source": [
        "###Upload train label csv also"
      ]
    },
    {
      "metadata": {
        "id": "Wx3Y8vtPp6EI",
        "colab_type": "code",
        "colab": {}
      },
      "cell_type": "code",
      "source": [
        "#importing fast.ai library\n",
        "from fastai.imports import *\n",
        "from fastai.transforms import *\n",
        "from fastai.torch_imports import *\n",
        "from fastai.conv_learner import *\n",
        "from fastai.model import *\n",
        "from fastai.dataset import *\n",
        "from fastai.sgdr import *\n",
        "from fastai.plots import *\n",
        "import pandas as pd"
      ],
      "execution_count": 0,
      "outputs": []
    },
    {
      "metadata": {
        "id": "HnmHuXPn1NwK",
        "colab_type": "code",
        "colab": {}
      },
      "cell_type": "code",
      "source": [
        "PATH = 'training-data'  #set path again for python usage"
      ],
      "execution_count": 0,
      "outputs": []
    },
    {
      "metadata": {
        "id": "JczzuBhIO8gt",
        "colab_type": "code",
        "outputId": "ee8bc9aa-ee5b-445b-b928-235e3b8bb811",
        "colab": {
          "base_uri": "https://localhost:8080/",
          "height": 204
        }
      },
      "cell_type": "code",
      "source": [
        "#read labels for training images in a dataframe using pandas\n",
        "labels_df=pd.read_csv(f'training-data/train.csv')\n",
        "labels_df.columns =  ['id', 'label']\n",
        "labels_df.head()"
      ],
      "execution_count": 0,
      "outputs": [
        {
          "output_type": "execute_result",
          "data": {
            "text/html": [
              "<div>\n",
              "<style scoped>\n",
              "    .dataframe tbody tr th:only-of-type {\n",
              "        vertical-align: middle;\n",
              "    }\n",
              "\n",
              "    .dataframe tbody tr th {\n",
              "        vertical-align: top;\n",
              "    }\n",
              "\n",
              "    .dataframe thead th {\n",
              "        text-align: right;\n",
              "    }\n",
              "</style>\n",
              "<table border=\"1\" class=\"dataframe\">\n",
              "  <thead>\n",
              "    <tr style=\"text-align: right;\">\n",
              "      <th></th>\n",
              "      <th>1000000965.jpg</th>\n",
              "      <th>40</th>\n",
              "    </tr>\n",
              "  </thead>\n",
              "  <tbody>\n",
              "    <tr>\n",
              "      <th>0</th>\n",
              "      <td>1310005493.jpg</td>\n",
              "      <td>31</td>\n",
              "    </tr>\n",
              "    <tr>\n",
              "      <th>1</th>\n",
              "      <td>1050002320.jpg</td>\n",
              "      <td>37</td>\n",
              "    </tr>\n",
              "    <tr>\n",
              "      <th>2</th>\n",
              "      <td>1340001721.jpg</td>\n",
              "      <td>33</td>\n",
              "    </tr>\n",
              "    <tr>\n",
              "      <th>3</th>\n",
              "      <td>1650001155.jpg</td>\n",
              "      <td>3</td>\n",
              "    </tr>\n",
              "    <tr>\n",
              "      <th>4</th>\n",
              "      <td>1170004207.jpg</td>\n",
              "      <td>37</td>\n",
              "    </tr>\n",
              "  </tbody>\n",
              "</table>\n",
              "</div>"
            ],
            "text/plain": [
              "   1000000965.jpg  40\n",
              "0  1310005493.jpg  31\n",
              "1  1050002320.jpg  37\n",
              "2  1340001721.jpg  33\n",
              "3  1650001155.jpg   3\n",
              "4  1170004207.jpg  37"
            ]
          },
          "metadata": {
            "tags": []
          },
          "execution_count": 16
        }
      ]
    },
    {
      "metadata": {
        "id": "0EwIxWEn4ozs",
        "colab_type": "code",
        "colab": {}
      },
      "cell_type": "code",
      "source": [
        "total_rows = labels_df.count\n",
        "total_rows "
      ],
      "execution_count": 0,
      "outputs": []
    },
    {
      "metadata": {
        "id": "MqKyI1GuvPqG",
        "colab_type": "code",
        "outputId": "5a131403-de60-4761-94c5-154f4d33176f",
        "colab": {
          "base_uri": "https://localhost:8080/",
          "height": 34
        }
      },
      "cell_type": "code",
      "source": [
        "import os\n",
        "os.listdir(PATH)"
      ],
      "execution_count": 0,
      "outputs": [
        {
          "output_type": "execute_result",
          "data": {
            "text/plain": [
              "['train-images', 'train.csv']"
            ]
          },
          "metadata": {
            "tags": []
          },
          "execution_count": 46
        }
      ]
    },
    {
      "metadata": {
        "id": "0tcfx-y1wfq8",
        "colab_type": "code",
        "outputId": "0446b196-9772-4767-e013-db2fbe65276c",
        "colab": {
          "base_uri": "https://localhost:8080/",
          "height": 204
        }
      },
      "cell_type": "code",
      "source": [
        "files = os.listdir(f'training-data/train-images')\n",
        "print(len(files))\n",
        "files[0:10]\n"
      ],
      "execution_count": 0,
      "outputs": [
        {
          "output_type": "stream",
          "text": [
            "555243\n"
          ],
          "name": "stdout"
        },
        {
          "output_type": "execute_result",
          "data": {
            "text/plain": [
              "['1070009484.jpg',\n",
              " '1400011007.jpg',\n",
              " '1750021066.jpg',\n",
              " '1200008131.jpg',\n",
              " '1370002130.jpg',\n",
              " '1430002771.jpg',\n",
              " '1080009075.jpg',\n",
              " '1070023809.jpg',\n",
              " '1220010732.jpg',\n",
              " '1700007662.jpg']"
            ]
          },
          "metadata": {
            "tags": []
          },
          "execution_count": 22
        }
      ]
    },
    {
      "metadata": {
        "id": "qpytPjF1zowC",
        "colab_type": "code",
        "outputId": "d6dada05-0a75-44fc-88d0-b6862e44d844",
        "colab": {
          "base_uri": "https://localhost:8080/",
          "height": 204
        }
      },
      "cell_type": "code",
      "source": [
        "test_files = os.listdir(f'test1-images')\n",
        "print(len(test_files))\n",
        "test_files[0:10]"
      ],
      "execution_count": 0,
      "outputs": [
        {
          "output_type": "stream",
          "text": [
            "118972\n"
          ],
          "name": "stdout"
        },
        {
          "output_type": "execute_result",
          "data": {
            "text/plain": [
              "['1050003237.jpg',\n",
              " '1150006226.jpg',\n",
              " '1160011916.jpg',\n",
              " '1440007888.jpg',\n",
              " '1750020478.jpg',\n",
              " '1120003968.jpg',\n",
              " '1760013700.jpg',\n",
              " '1500013747.jpg',\n",
              " '1200006367.jpg',\n",
              " '1190001824.jpg']"
            ]
          },
          "metadata": {
            "tags": []
          },
          "execution_count": 37
        }
      ]
    },
    {
      "metadata": {
        "id": "0JfA_bkkxAWx",
        "colab_type": "code",
        "outputId": "9c265c32-0598-491d-e207-8bc04cc44017",
        "colab": {
          "base_uri": "https://localhost:8080/",
          "height": 367
        }
      },
      "cell_type": "code",
      "source": [
        "img = plt.imread(f'training-data/train-images/{files[0]}')\n",
        "plt.imshow(img)"
      ],
      "execution_count": 0,
      "outputs": [
        {
          "output_type": "execute_result",
          "data": {
            "text/plain": [
              "<matplotlib.image.AxesImage at 0x7efc5d229198>"
            ]
          },
          "metadata": {
            "tags": []
          },
          "execution_count": 23
        },
        {
          "output_type": "display_data",
          "data": {
            "image/png": "[encoded data removed]",
            "text/plain": [
              "<matplotlib.figure.Figure at 0x7efc5f613470>"
            ]
          },
          "metadata": {
            "tags": []
          }
        }
      ]
    },
    {
      "metadata": {
        "id": "D8E0U8W3z-by",
        "colab_type": "code",
        "outputId": "8d48d0c2-e45c-4917-926b-444cc3f00f80",
        "colab": {
          "base_uri": "https://localhost:8080/",
          "height": 367
        }
      },
      "cell_type": "code",
      "source": [
        "img = plt.imread(f'test1-images/{test_files[0]}')\n",
        "plt.imshow(img)"
      ],
      "execution_count": 0,
      "outputs": [
        {
          "output_type": "execute_result",
          "data": {
            "text/plain": [
              "<matplotlib.image.AxesImage at 0x7efc4410b978>"
            ]
          },
          "metadata": {
            "tags": []
          },
          "execution_count": 41
        },
        {
          "output_type": "display_data",
          "data": {
            "image/png": "[encoded data removed]",
            "text/plain": [
              "<matplotlib.figure.Figure at 0x7efc49c37a20>"
            ]
          },
          "metadata": {
            "tags": []
          }
        }
      ]
    },
    {
      "metadata": {
        "id": "YUatGC43xmng",
        "colab_type": "code",
        "outputId": "f6f25710-15f4-49ad-8ec7-db6d7652a604",
        "colab": {
          "base_uri": "https://localhost:8080/",
          "height": 51
        }
      },
      "cell_type": "code",
      "source": [
        "labels_csv = f'training-data/train.csv'\n",
        "n = len(list(open(labels_csv))) - 1\n",
        "val_idx = get_cv_idxs(n)\n",
        "print(n)\n",
        "val_idx.size"
      ],
      "execution_count": 0,
      "outputs": [
        {
          "output_type": "stream",
          "text": [
            "554655\n"
          ],
          "name": "stdout"
        },
        {
          "output_type": "execute_result",
          "data": {
            "text/plain": [
              "110931"
            ]
          },
          "metadata": {
            "tags": []
          },
          "execution_count": 24
        }
      ]
    },
    {
      "metadata": {
        "id": "XN0UY_2mx4jK",
        "colab_type": "code",
        "outputId": "b6ac58b6-93b6-4762-ef82-9b20d5bd6e5f",
        "colab": {
          "base_uri": "https://localhost:8080/",
          "height": 1413
        }
      },
      "cell_type": "code",
      "source": [
        "#Obtaining dataframe which consists of total count of each bread of dog. each type of food image\n",
        "dogLabelsAggregated = pd.pivot_table(data=labels_df,index='label',aggfunc=len).sort_values('id',ascending=False)\n",
        "dogLabelsAggregated"
      ],
      "execution_count": 0,
      "outputs": [
        {
          "output_type": "execute_result",
          "data": {
            "text/html": [
              "<div>\n",
              "<style scoped>\n",
              "    .dataframe tbody tr th:only-of-type {\n",
              "        vertical-align: middle;\n",
              "    }\n",
              "\n",
              "    .dataframe tbody tr th {\n",
              "        vertical-align: top;\n",
              "    }\n",
              "\n",
              "    .dataframe thead th {\n",
              "        text-align: right;\n",
              "    }\n",
              "</style>\n",
              "<table border=\"1\" class=\"dataframe\">\n",
              "  <thead>\n",
              "    <tr style=\"text-align: right;\">\n",
              "      <th></th>\n",
              "      <th>id</th>\n",
              "    </tr>\n",
              "    <tr>\n",
              "      <th>label</th>\n",
              "      <th></th>\n",
              "    </tr>\n",
              "  </thead>\n",
              "  <tbody>\n",
              "    <tr>\n",
              "      <th>37</th>\n",
              "      <td>127135</td>\n",
              "    </tr>\n",
              "    <tr>\n",
              "      <th>33</th>\n",
              "      <td>43691</td>\n",
              "    </tr>\n",
              "    <tr>\n",
              "      <th>2</th>\n",
              "      <td>39805</td>\n",
              "    </tr>\n",
              "    <tr>\n",
              "      <th>3</th>\n",
              "      <td>37365</td>\n",
              "    </tr>\n",
              "    <tr>\n",
              "      <th>13</th>\n",
              "      <td>30485</td>\n",
              "    </tr>\n",
              "    <tr>\n",
              "      <th>5</th>\n",
              "      <td>30075</td>\n",
              "    </tr>\n",
              "    <tr>\n",
              "      <th>41</th>\n",
              "      <td>26826</td>\n",
              "    </tr>\n",
              "    <tr>\n",
              "      <th>28</th>\n",
              "      <td>26737</td>\n",
              "    </tr>\n",
              "    <tr>\n",
              "      <th>16</th>\n",
              "      <td>22084</td>\n",
              "    </tr>\n",
              "    <tr>\n",
              "      <th>22</th>\n",
              "      <td>19664</td>\n",
              "    </tr>\n",
              "    <tr>\n",
              "      <th>42</th>\n",
              "      <td>17605</td>\n",
              "    </tr>\n",
              "    <tr>\n",
              "      <th>40</th>\n",
              "      <td>15092</td>\n",
              "    </tr>\n",
              "    <tr>\n",
              "      <th>20</th>\n",
              "      <td>14044</td>\n",
              "    </tr>\n",
              "    <tr>\n",
              "      <th>12</th>\n",
              "      <td>13681</td>\n",
              "    </tr>\n",
              "    <tr>\n",
              "      <th>1</th>\n",
              "      <td>13502</td>\n",
              "    </tr>\n",
              "    <tr>\n",
              "      <th>10</th>\n",
              "      <td>11522</td>\n",
              "    </tr>\n",
              "    <tr>\n",
              "      <th>11</th>\n",
              "      <td>10394</td>\n",
              "    </tr>\n",
              "    <tr>\n",
              "      <th>18</th>\n",
              "      <td>7813</td>\n",
              "    </tr>\n",
              "    <tr>\n",
              "      <th>27</th>\n",
              "      <td>5998</td>\n",
              "    </tr>\n",
              "    <tr>\n",
              "      <th>32</th>\n",
              "      <td>5620</td>\n",
              "    </tr>\n",
              "    <tr>\n",
              "      <th>36</th>\n",
              "      <td>4122</td>\n",
              "    </tr>\n",
              "    <tr>\n",
              "      <th>23</th>\n",
              "      <td>3827</td>\n",
              "    </tr>\n",
              "    <tr>\n",
              "      <th>4</th>\n",
              "      <td>3701</td>\n",
              "    </tr>\n",
              "    <tr>\n",
              "      <th>7</th>\n",
              "      <td>3334</td>\n",
              "    </tr>\n",
              "    <tr>\n",
              "      <th>38</th>\n",
              "      <td>3079</td>\n",
              "    </tr>\n",
              "    <tr>\n",
              "      <th>15</th>\n",
              "      <td>2170</td>\n",
              "    </tr>\n",
              "    <tr>\n",
              "      <th>17</th>\n",
              "      <td>2003</td>\n",
              "    </tr>\n",
              "    <tr>\n",
              "      <th>39</th>\n",
              "      <td>1982</td>\n",
              "    </tr>\n",
              "    <tr>\n",
              "      <th>0</th>\n",
              "      <td>1529</td>\n",
              "    </tr>\n",
              "    <tr>\n",
              "      <th>24</th>\n",
              "      <td>1507</td>\n",
              "    </tr>\n",
              "    <tr>\n",
              "      <th>31</th>\n",
              "      <td>1428</td>\n",
              "    </tr>\n",
              "    <tr>\n",
              "      <th>19</th>\n",
              "      <td>1417</td>\n",
              "    </tr>\n",
              "    <tr>\n",
              "      <th>9</th>\n",
              "      <td>1074</td>\n",
              "    </tr>\n",
              "    <tr>\n",
              "      <th>34</th>\n",
              "      <td>781</td>\n",
              "    </tr>\n",
              "    <tr>\n",
              "      <th>8</th>\n",
              "      <td>563</td>\n",
              "    </tr>\n",
              "    <tr>\n",
              "      <th>25</th>\n",
              "      <td>543</td>\n",
              "    </tr>\n",
              "    <tr>\n",
              "      <th>21</th>\n",
              "      <td>463</td>\n",
              "    </tr>\n",
              "    <tr>\n",
              "      <th>14</th>\n",
              "      <td>418</td>\n",
              "    </tr>\n",
              "    <tr>\n",
              "      <th>26</th>\n",
              "      <td>386</td>\n",
              "    </tr>\n",
              "    <tr>\n",
              "      <th>35</th>\n",
              "      <td>357</td>\n",
              "    </tr>\n",
              "    <tr>\n",
              "      <th>29</th>\n",
              "      <td>306</td>\n",
              "    </tr>\n",
              "    <tr>\n",
              "      <th>6</th>\n",
              "      <td>277</td>\n",
              "    </tr>\n",
              "    <tr>\n",
              "      <th>30</th>\n",
              "      <td>250</td>\n",
              "    </tr>\n",
              "  </tbody>\n",
              "</table>\n",
              "</div>"
            ],
            "text/plain": [
              "           id\n",
              "label        \n",
              "37     127135\n",
              "33      43691\n",
              "2       39805\n",
              "3       37365\n",
              "13      30485\n",
              "5       30075\n",
              "41      26826\n",
              "28      26737\n",
              "16      22084\n",
              "22      19664\n",
              "42      17605\n",
              "40      15092\n",
              "20      14044\n",
              "12      13681\n",
              "1       13502\n",
              "10      11522\n",
              "11      10394\n",
              "18       7813\n",
              "27       5998\n",
              "32       5620\n",
              "36       4122\n",
              "23       3827\n",
              "4        3701\n",
              "7        3334\n",
              "38       3079\n",
              "15       2170\n",
              "17       2003\n",
              "39       1982\n",
              "0        1529\n",
              "24       1507\n",
              "31       1428\n",
              "19       1417\n",
              "9        1074\n",
              "34        781\n",
              "8         563\n",
              "25        543\n",
              "21        463\n",
              "14        418\n",
              "26        386\n",
              "35        357\n",
              "29        306\n",
              "6         277\n",
              "30        250"
            ]
          },
          "metadata": {
            "tags": []
          },
          "execution_count": 25
        }
      ]
    },
    {
      "metadata": {
        "id": "8Pf9-c9nSVEW",
        "colab_type": "code",
        "outputId": "44253faa-9c51-40ef-b9f2-27d65cff215e",
        "colab": {
          "base_uri": "https://localhost:8080/",
          "height": 51
        }
      },
      "cell_type": "code",
      "source": [
        "print(\"Total size\",n)\n",
        "print(\"Total validation size\",val_idx.size)"
      ],
      "execution_count": 0,
      "outputs": [
        {
          "output_type": "stream",
          "text": [
            "Total size 554655\n",
            "Total validation size 110931\n"
          ],
          "name": "stdout"
        }
      ]
    },
    {
      "metadata": {
        "id": "QO7nD4hE8Bd8",
        "colab_type": "text"
      },
      "cell_type": "markdown",
      "source": [
        "##Transfer Learning with Pytorch newly added before transfer learning"
      ]
    },
    {
      "metadata": {
        "id": "A5cKdR5R-KZq",
        "colab_type": "text"
      },
      "cell_type": "markdown",
      "source": [
        "### Implementing actual model."
      ]
    },
    {
      "metadata": {
        "id": "8xaDrCVW8HcU",
        "colab_type": "code",
        "colab": {}
      },
      "cell_type": "code",
      "source": [
        "sz=224\n",
        "arch = resnet50\n",
        "tmfs = tfms_from_model(arch,sz,aug_tfms=transforms_side_on,max_zoom=1.1)\n",
        "data = ImageClassifierData.from_csv(path=PATH,folder='training-data/train-images',csv_fname=f'training-data/train.csv',test_name='test1-images',\n",
        "                                    bs=4,tfms=tmfs,val_idxs = val_idx)\n",
        "data\n",
        "learn = ConvLearner.pretrained(arch,data,ps=0.4,precompute=True)\n",
        "learn.fit(0.01,2)"
      ],
      "execution_count": 0,
      "outputs": []
    },
    {
      "metadata": {
        "id": "OHFFCz2Q8sWR",
        "colab_type": "code",
        "colab": {}
      },
      "cell_type": "code",
      "source": [
        "# accuracy for our pretrained model = 80.6751\n",
        "# Now lets find suitable LR using CLR and SGDR.\n",
        "lrf = learn.lr_find()"
      ],
      "execution_count": 0,
      "outputs": []
    },
    {
      "metadata": {
        "id": "0LzC_IXW8tZ5",
        "colab_type": "code",
        "colab": {}
      },
      "cell_type": "code",
      "source": [
        "learn.sched.plot_lr()"
      ],
      "execution_count": 0,
      "outputs": []
    },
    {
      "metadata": {
        "id": "_HX-tXQs8wxh",
        "colab_type": "code",
        "colab": {}
      },
      "cell_type": "code",
      "source": [
        "learn.sched.plot()"
      ],
      "execution_count": 0,
      "outputs": []
    },
    {
      "metadata": {
        "id": "bqJtwSgY81oR",
        "colab_type": "code",
        "colab": {}
      },
      "cell_type": "code",
      "source": [
        "#Now lets use different learning rate i.e. 1e-03\n",
        "learn.fit(1e-3,6)"
      ],
      "execution_count": 0,
      "outputs": []
    },
    {
      "metadata": {
        "id": "1jjF2z0y89a5",
        "colab_type": "code",
        "colab": {}
      },
      "cell_type": "code",
      "source": [
        "learn.precompute = False"
      ],
      "execution_count": 0,
      "outputs": []
    },
    {
      "metadata": {
        "id": "gNKXiqZT8-Li",
        "colab_type": "code",
        "colab": {}
      },
      "cell_type": "code",
      "source": [
        "learn.fit(1e-3,3,cycle_len=1)"
      ],
      "execution_count": 0,
      "outputs": []
    },
    {
      "metadata": {
        "id": "tmmvEUQe9Bz9",
        "colab_type": "code",
        "colab": {}
      },
      "cell_type": "code",
      "source": [
        "learn.sched.plot_lr()"
      ],
      "execution_count": 0,
      "outputs": []
    },
    {
      "metadata": {
        "id": "Ivc6pXuC9Ffs",
        "colab_type": "code",
        "colab": {}
      },
      "cell_type": "code",
      "source": [
        "learn.save('224_lastlayer_dogBreedIden')"
      ],
      "execution_count": 0,
      "outputs": []
    },
    {
      "metadata": {
        "id": "9DRRkQIE9Fra",
        "colab_type": "code",
        "colab": {}
      },
      "cell_type": "code",
      "source": [
        "learn.load('224_lastlayer_dogBreedIden')"
      ],
      "execution_count": 0,
      "outputs": []
    },
    {
      "metadata": {
        "id": "mzTKmq6e-CpO",
        "colab_type": "text"
      },
      "cell_type": "markdown",
      "source": [
        "### Fine tuning and differential learning rate "
      ]
    },
    {
      "metadata": {
        "id": "rsaHmYr-9F5h",
        "colab_type": "code",
        "colab": {}
      },
      "cell_type": "code",
      "source": [
        "learn.unfreeze()"
      ],
      "execution_count": 0,
      "outputs": []
    },
    {
      "metadata": {
        "id": "GDpub6XW9GGl",
        "colab_type": "code",
        "colab": {}
      },
      "cell_type": "code",
      "source": [
        "lr = np.array([1e-10,1e-5,1e-3])"
      ],
      "execution_count": 0,
      "outputs": []
    },
    {
      "metadata": {
        "id": "PJBkSk4R9cD7",
        "colab_type": "code",
        "colab": {}
      },
      "cell_type": "code",
      "source": [
        "learn.fit(lr,2,cycle_len=1,cycle_mult=2)"
      ],
      "execution_count": 0,
      "outputs": []
    },
    {
      "metadata": {
        "id": "0LKlzQ5-997p",
        "colab_type": "text"
      },
      "cell_type": "markdown",
      "source": [
        "### Visualizing the data"
      ]
    },
    {
      "metadata": {
        "id": "4y86Armh9cBT",
        "colab_type": "code",
        "colab": {}
      },
      "cell_type": "code",
      "source": [
        "data.val_y"
      ],
      "execution_count": 0,
      "outputs": []
    },
    {
      "metadata": {
        "id": "bZC40vE29b-4",
        "colab_type": "code",
        "colab": {}
      },
      "cell_type": "code",
      "source": [
        "data.classes"
      ],
      "execution_count": 0,
      "outputs": []
    },
    {
      "metadata": {
        "id": "CI7dvOKo9b7w",
        "colab_type": "code",
        "colab": {}
      },
      "cell_type": "code",
      "source": [
        "learn.sched.plot_lr()"
      ],
      "execution_count": 0,
      "outputs": []
    },
    {
      "metadata": {
        "id": "Tb2hLfBO9oKd",
        "colab_type": "code",
        "colab": {}
      },
      "cell_type": "code",
      "source": [
        "logs_preds = learn.predict()"
      ],
      "execution_count": 0,
      "outputs": []
    },
    {
      "metadata": {
        "id": "INs-QNR-9oOe",
        "colab_type": "code",
        "colab": {}
      },
      "cell_type": "code",
      "source": [
        "logs_preds.shape"
      ],
      "execution_count": 0,
      "outputs": []
    },
    {
      "metadata": {
        "id": "fGFVEwkL9b4P",
        "colab_type": "code",
        "colab": {}
      },
      "cell_type": "code",
      "source": [
        ""
      ],
      "execution_count": 0,
      "outputs": []
    },
    {
      "metadata": {
        "collapsed": true,
        "_uuid": "11db94b40434802ac10d5ed76e21d33b9ff6befe",
        "_cell_guid": "f5af2eca-5b02-4d89-a36d-8ca330851ac3",
        "id": "TZLHhBSym-hE",
        "colab_type": "text"
      },
      "cell_type": "markdown",
      "source": [
        "# Transfer learning in kernels with PyTorch\n",
        "\n",
        "Following the same strategy from Beluga's kernel [Use pretrained Keras models](https://www.kaggle.com/gaborfodor/use-pretrained-keras-models-lb-0-3), this kernel uses a dataset with PyTorch pretrained networks weights. \n",
        "\n",
        "Training in the CPU is quite slow, but it is still feasible to use a pre-trained network, replace the final layer and train just this last layer. \n",
        "\n",
        "Thanks Beluga for your great kernel. This one uses not only the concept but also a lot of the code. "
      ]
    },
    {
      "metadata": {
        "_uuid": "b73c3f32c0c4d4b081a0765ac84cf89c12c4044b",
        "trusted": false,
        "id": "Y1QgETcSm-hF",
        "colab_type": "code",
        "colab": {}
      },
      "cell_type": "code",
      "source": [
        "%matplotlib inline\n",
        "import time\n",
        "import numpy as np\n",
        "import pandas as pd\n",
        "import datetime as dt\n",
        "import matplotlib.pyplot as plt\n",
        "from mpl_toolkits.axes_grid1 import ImageGrid\n",
        "from os import listdir, makedirs, getcwd, remove\n",
        "from os.path import isfile, join, abspath, exists, isdir, expanduser\n",
        "from PIL import Image\n",
        "import torch\n",
        "from torch.optim import lr_scheduler\n",
        "from torch.autograd import Variable\n",
        "from torch.utils.data import Dataset, DataLoader\n",
        "import torchvision\n",
        "from torchvision import transforms, datasets, models"
      ],
      "execution_count": 0,
      "outputs": []
    },
    {
      "metadata": {
        "id": "cQetbGdSnFE2",
        "colab_type": "code",
        "colab": {}
      },
      "cell_type": "code",
      "source": [
        "# http://pytorch.org/\n",
        "from os.path import exists\n",
        "from wheel.pep425tags import get_abbr_impl, get_impl_ver, get_abi_tag\n",
        "platform = '{}{}-{}'.format(get_abbr_impl(), get_impl_ver(), get_abi_tag())\n",
        "cuda_output = !ldconfig -p|grep cudart.so|sed -e 's/.*\\.\\([0-9]*\\)\\.\\([0-9]*\\)$/cu\\1\\2/'\n",
        "accelerator = cuda_output[0] if exists('/dev/nvidia0') else 'cpu'\n",
        "\n",
        "!pip install -q http://download.pytorch.org/whl/{accelerator}/torch-0.4.1-{platform}-linux_x86_64.whl torchvision\n",
        "import torch"
      ],
      "execution_count": 0,
      "outputs": []
    },
    {
      "metadata": {
        "_uuid": "47faf84cd7c602e223428cfccbf60ec15855815d",
        "trusted": false,
        "id": "DddiH3qam-hJ",
        "colab_type": "code",
        "colab": {}
      },
      "cell_type": "code",
      "source": [
        "np.random.seed(0)"
      ],
      "execution_count": 0,
      "outputs": []
    },
    {
      "metadata": {
        "_uuid": "dbd03146edd6890cff4cfa4cee36e33207659bab",
        "id": "QEcQmnrmm-hN",
        "colab_type": "text"
      },
      "cell_type": "markdown",
      "source": [
        "This [dataset](https://www.kaggle.com/pvlima/pretrained-pytorch-models) has the PyTorch weights for some pre-trained networks.\n",
        "\n",
        "We have to copy the pretrained models to the cache directory (~/.torch/models) where PyTorch is looking for them."
      ]
    },
    {
      "metadata": {
        "_uuid": "ef22b148bb73a03e6c3c419ea0d349f86fc96a3b",
        "trusted": false,
        "id": "MzBv7uyNm-hN",
        "colab_type": "code",
        "colab": {}
      },
      "cell_type": "code",
      "source": [
        "!ls ../input/pretrained-pytorch-models/"
      ],
      "execution_count": 0,
      "outputs": []
    },
    {
      "metadata": {
        "_uuid": "b97523beb616b5ba88401b905102d67aad417de5",
        "trusted": false,
        "id": "wgzXSrmzm-hR",
        "colab_type": "code",
        "colab": {}
      },
      "cell_type": "code",
      "source": [
        "cache_dir = expanduser(join('~', '.torch'))\n",
        "if not exists(cache_dir):\n",
        "    makedirs(cache_dir)\n",
        "models_dir = join(cache_dir, 'models')\n",
        "if not exists(models_dir):\n",
        "    makedirs(models_dir)"
      ],
      "execution_count": 0,
      "outputs": []
    },
    {
      "metadata": {
        "_uuid": "1b15e9a4e8e62bfefb743b77103347cf11a411cb",
        "trusted": false,
        "id": "TYtpP_Fam-hX",
        "colab_type": "code",
        "colab": {}
      },
      "cell_type": "code",
      "source": [
        "!cp ../input/pretrained-pytorch-models/* ~/.torch/models/"
      ],
      "execution_count": 0,
      "outputs": []
    },
    {
      "metadata": {
        "_uuid": "10921858c996b5c84d3a5c4c095161bbd4c2677f",
        "trusted": false,
        "id": "G-VVUh8dm-ha",
        "colab_type": "code",
        "colab": {}
      },
      "cell_type": "code",
      "source": [
        "!ls ~/.torch/models"
      ],
      "execution_count": 0,
      "outputs": []
    },
    {
      "metadata": {
        "_uuid": "2fbd79d54cd7787acd8fc09cb32543601010cc56",
        "trusted": false,
        "id": "_E8UHRUGm-hd",
        "colab_type": "code",
        "colab": {}
      },
      "cell_type": "code",
      "source": [
        "!ls ../input/dog-breed-identification"
      ],
      "execution_count": 0,
      "outputs": []
    },
    {
      "metadata": {
        "_uuid": "a341a3a624a398607d9242b11d683cd83d3d7cea",
        "id": "LuZeONNnm-hi",
        "colab_type": "text"
      },
      "cell_type": "markdown",
      "source": [
        "Using just 16 most frequent breeds to keep the running time under the kernel limit"
      ]
    },
    {
      "metadata": {
        "_uuid": "9cafe38394e9f7300fd4b87696457fcfd2cf1366",
        "trusted": false,
        "id": "6NPmBWIPm-hl",
        "colab_type": "code",
        "colab": {}
      },
      "cell_type": "code",
      "source": [
        "INPUT_SIZE = 224\n",
        "NUM_CLASSES = 16\n",
        "data_dir = '../input/dog-breed-identification/'\n",
        "labels = pd.read_csv(join(data_dir, 'labels.csv'))\n",
        "sample_submission = pd.read_csv(join(data_dir, 'sample_submission.csv'))\n",
        "print(len(listdir(join(data_dir, 'train'))), len(labels))\n",
        "print(len(listdir(join(data_dir, 'test'))), len(sample_submission))"
      ],
      "execution_count": 0,
      "outputs": []
    },
    {
      "metadata": {
        "_uuid": "e5525317a7f17ce3bb51c0607b7584f9e0e1728c",
        "trusted": false,
        "id": "QzFtdbRAm-hp",
        "colab_type": "code",
        "colab": {}
      },
      "cell_type": "code",
      "source": [
        "selected_breed_list = list(labels.groupby('breed').count().sort_values(by='id', ascending=False).head(NUM_CLASSES).index)\n",
        "labels = labels[labels['breed'].isin(selected_breed_list)]\n",
        "labels['target'] = 1\n",
        "labels['rank'] = labels.groupby('breed').rank()['id']\n",
        "labels_pivot = labels.pivot('id', 'breed', 'target').reset_index().fillna(0)\n",
        "\n",
        "train = labels_pivot.sample(frac=0.8)\n",
        "valid = labels_pivot[~labels_pivot['id'].isin(train['id'])]\n",
        "print(train.shape, valid.shape)"
      ],
      "execution_count": 0,
      "outputs": []
    },
    {
      "metadata": {
        "_uuid": "5f13d386f1c496a382e064649ee4a375e56bde97",
        "trusted": false,
        "id": "_XGVwBg3m-hs",
        "colab_type": "code",
        "colab": {}
      },
      "cell_type": "code",
      "source": [
        "class DogsDataset(Dataset):\n",
        "    def __init__(self, labels, root_dir, subset=False, transform=None):\n",
        "        self.labels = labels\n",
        "        self.root_dir = root_dir\n",
        "        self.transform = transform\n",
        "    \n",
        "    def __len__(self):\n",
        "        return len(self.labels)\n",
        "    \n",
        "    def __getitem__(self, idx):\n",
        "        img_name = '{}.jpg'.format(self.labels.iloc[idx, 0])\n",
        "        fullname = join(self.root_dir, img_name)\n",
        "        image = Image.open(fullname)\n",
        "        labels = self.labels.iloc[idx, 1:].as_matrix().astype('float')\n",
        "        labels = np.argmax(labels)\n",
        "        if self.transform:\n",
        "            image = self.transform(image)\n",
        "        return [image, labels]"
      ],
      "execution_count": 0,
      "outputs": []
    },
    {
      "metadata": {
        "_uuid": "9ecb4a041adc8908b7f55d157d5d8569b5a52cda",
        "trusted": false,
        "id": "Xuzh6Epim-hu",
        "colab_type": "code",
        "colab": {}
      },
      "cell_type": "code",
      "source": [
        "normalize = transforms.Normalize(\n",
        "   mean=[0.485, 0.456, 0.406],\n",
        "   std=[0.229, 0.224, 0.225]\n",
        ")\n",
        "ds_trans = transforms.Compose([transforms.Scale(224),\n",
        "                               transforms.CenterCrop(224),\n",
        "                               transforms.ToTensor(),\n",
        "                               normalize])\n",
        "train_ds = DogsDataset(train, data_dir+'train/', transform=ds_trans)\n",
        "valid_ds = DogsDataset(valid, data_dir+'train/', transform=ds_trans)\n",
        "\n",
        "train_dl = DataLoader(train_ds, batch_size=4, shuffle=True, num_workers=4)\n",
        "valid_dl = DataLoader(valid_ds, batch_size=4, shuffle=True, num_workers=4)"
      ],
      "execution_count": 0,
      "outputs": []
    },
    {
      "metadata": {
        "_uuid": "ee321a44b76ce552d59145f7bc5f729e88889cd1",
        "trusted": false,
        "id": "WoKxaY9ym-hx",
        "colab_type": "code",
        "colab": {}
      },
      "cell_type": "code",
      "source": [
        "def imshow(axis, inp):\n",
        "    \"\"\"Denormalize and show\"\"\"\n",
        "    inp = inp.numpy().transpose((1, 2, 0))\n",
        "    mean = np.array([0.485, 0.456, 0.406])\n",
        "    std = np.array([0.229, 0.224, 0.225])\n",
        "    inp = std * inp + mean\n",
        "    axis.imshow(inp)"
      ],
      "execution_count": 0,
      "outputs": []
    },
    {
      "metadata": {
        "_uuid": "cb480f7cc3f822b65904791694dd8aca97298e38",
        "trusted": false,
        "id": "CVULiUism-h1",
        "colab_type": "code",
        "colab": {}
      },
      "cell_type": "code",
      "source": [
        "img, label = next(iter(train_dl))\n",
        "print(img.size(), label.size())\n",
        "fig = plt.figure(1, figsize=(16, 4))\n",
        "grid = ImageGrid(fig, 111, nrows_ncols=(1, 4), axes_pad=0.05)    \n",
        "for i in range(img.size()[0]):\n",
        "    ax = grid[i]\n",
        "    imshow(ax, img[i])"
      ],
      "execution_count": 0,
      "outputs": []
    },
    {
      "metadata": {
        "_uuid": "f52e31706089675eb60af7ae308692ec135b3a54",
        "id": "-QaxAfo-m-h5",
        "colab_type": "text"
      },
      "cell_type": "markdown",
      "source": [
        "# ResNet50\n",
        "\n",
        "### Just try the model "
      ]
    },
    {
      "metadata": {
        "_uuid": "0bc2ac0dc86d17f6f69d7f034260aa7d2d0ca788",
        "trusted": false,
        "id": "IA22pRT5m-h6",
        "colab_type": "code",
        "colab": {}
      },
      "cell_type": "code",
      "source": [
        "use_gpu = torch.cuda.is_available()\n",
        "resnet = models.resnet50(pretrained=True)\n",
        "inputs, labels = next(iter(train_dl))\n",
        "if use_gpu:\n",
        "    resnet = resnet.cuda()\n",
        "    inputs, labels = Variable(inputs.cuda()), Variable(labels.cuda())   \n",
        "else:\n",
        "    inputs, labels = Variable(inputs), Variable(labels)\n",
        "outputs = resnet(inputs)\n",
        "outputs.size()"
      ],
      "execution_count": 0,
      "outputs": []
    },
    {
      "metadata": {
        "_uuid": "5c9a27007117bd1677eddd62f9ea9f2e4e74b3c0",
        "id": "sVl2g9KJm-h9",
        "colab_type": "text"
      },
      "cell_type": "markdown",
      "source": [
        "The model seems to work OK. Resnet outputs probabilities for the imagenet 1000 labels as expected. "
      ]
    },
    {
      "metadata": {
        "_uuid": "98652acb7a50a79ef3d49487a82034c0ac5b92c7",
        "id": "bTpfl1f5m-h9",
        "colab_type": "text"
      },
      "cell_type": "markdown",
      "source": [
        "### Replace last layer and train\n",
        "\n",
        "Will replace the last layer with one that predicts the 16 classes. The network weights will be fixed expected for the last layer that is trained."
      ]
    },
    {
      "metadata": {
        "_uuid": "8d92e0502186386f569440a604f8183f95e4a501",
        "trusted": false,
        "id": "xJZFrC4nm-h-",
        "colab_type": "code",
        "colab": {}
      },
      "cell_type": "code",
      "source": [
        "def train_model(dataloders, model, criterion, optimizer, scheduler, num_epochs=25):\n",
        "    since = time.time()\n",
        "    use_gpu = torch.cuda.is_available()\n",
        "    best_model_wts = model.state_dict()\n",
        "    best_acc = 0.0\n",
        "    dataset_sizes = {'train': len(dataloders['train'].dataset), \n",
        "                     'valid': len(dataloders['valid'].dataset)}\n",
        "\n",
        "    for epoch in range(num_epochs):\n",
        "        for phase in ['train', 'valid']:\n",
        "            if phase == 'train':\n",
        "                scheduler.step()\n",
        "                model.train(True)\n",
        "            else:\n",
        "                model.train(False)\n",
        "\n",
        "            running_loss = 0.0\n",
        "            running_corrects = 0\n",
        "\n",
        "            for inputs, labels in dataloders[phase]:\n",
        "                if use_gpu:\n",
        "                    inputs, labels = Variable(inputs.cuda()), Variable(labels.cuda())\n",
        "                else:\n",
        "                    inputs, labels = Variable(inputs), Variable(labels)\n",
        "\n",
        "                optimizer.zero_grad()\n",
        "\n",
        "                outputs = model(inputs)\n",
        "                _, preds = torch.max(outputs.data, 1)\n",
        "                loss = criterion(outputs, labels)\n",
        "\n",
        "                if phase == 'train':\n",
        "                    loss.backward()\n",
        "                    optimizer.step()\n",
        "\n",
        "                running_loss += loss.data[0]\n",
        "                running_corrects += torch.sum(preds == labels.data)\n",
        "            \n",
        "            if phase == 'train':\n",
        "                train_epoch_loss = running_loss / dataset_sizes[phase]\n",
        "                train_epoch_acc = running_corrects / dataset_sizes[phase]\n",
        "            else:\n",
        "                valid_epoch_loss = running_loss / dataset_sizes[phase]\n",
        "                valid_epoch_acc = running_corrects / dataset_sizes[phase]\n",
        "                \n",
        "            if phase == 'valid' and valid_epoch_acc > best_acc:\n",
        "                best_acc = valid_epoch_acc\n",
        "                best_model_wts = model.state_dict()\n",
        "\n",
        "        print('Epoch [{}/{}] train loss: {:.4f} acc: {:.4f} ' \n",
        "              'valid loss: {:.4f} acc: {:.4f}'.format(\n",
        "                epoch, num_epochs - 1,\n",
        "                train_epoch_loss, train_epoch_acc, \n",
        "                valid_epoch_loss, valid_epoch_acc))\n",
        "            \n",
        "    print('Best val Acc: {:4f}'.format(best_acc))\n",
        "\n",
        "    model.load_state_dict(best_model_wts)\n",
        "    return model"
      ],
      "execution_count": 0,
      "outputs": []
    },
    {
      "metadata": {
        "_uuid": "67d0b814417fa0bb4f8d3be3b48aaf5de13cb25b",
        "trusted": false,
        "id": "uR2Y47wYm-iB",
        "colab_type": "code",
        "colab": {}
      },
      "cell_type": "code",
      "source": [
        "resnet = models.resnet50(pretrained=True)\n",
        "# freeze all model parameters\n",
        "for param in resnet.parameters():\n",
        "    param.requires_grad = False\n",
        "\n",
        "# new final layer with 16 classes\n",
        "num_ftrs = resnet.fc.in_features\n",
        "resnet.fc = torch.nn.Linear(num_ftrs, 16)\n",
        "if use_gpu:\n",
        "    resnet = resnet.cuda()\n",
        "\n",
        "criterion = torch.nn.CrossEntropyLoss()\n",
        "optimizer = torch.optim.SGD(resnet.fc.parameters(), lr=0.001, momentum=0.9)\n",
        "exp_lr_scheduler = lr_scheduler.StepLR(optimizer, step_size=7, gamma=0.1)\n",
        "\n",
        "dloaders = {'train':train_dl, 'valid':valid_dl}"
      ],
      "execution_count": 0,
      "outputs": []
    },
    {
      "metadata": {
        "_uuid": "aa0b855e3cc90f5c21a5f25f8988449281ee9909",
        "trusted": false,
        "id": "9QU_oMWsm-iG",
        "colab_type": "code",
        "colab": {}
      },
      "cell_type": "code",
      "source": [
        "start_time = time.time()\n",
        "model = train_model(dloaders, resnet, criterion, optimizer, exp_lr_scheduler, num_epochs=2)\n",
        "print('Training time: {:10f} minutes'.format((time.time()-start_time)/60))"
      ],
      "execution_count": 0,
      "outputs": []
    },
    {
      "metadata": {
        "_uuid": "e56cff18ca4804892284644ac8a73be7cf4c4a79",
        "trusted": false,
        "id": "6zL_aBdUm-iO",
        "colab_type": "code",
        "colab": {}
      },
      "cell_type": "code",
      "source": [
        "def visualize_model(dataloders, model, num_images=16):\n",
        "    cnt = 0\n",
        "    fig = plt.figure(1, figsize=(16, 16))\n",
        "    grid = ImageGrid(fig, 111, nrows_ncols=(4, 4), axes_pad=0.05)\n",
        "    for i, (inputs, labels) in enumerate(dataloders['valid']):\n",
        "        if use_gpu:\n",
        "            inputs, labels = Variable(inputs.cuda()), Variable(labels.cuda())\n",
        "        else:\n",
        "            inputs, labels = Variable(inputs), Variable(labels)\n",
        "\n",
        "        outputs = model(inputs)\n",
        "        _, preds = torch.max(outputs.data, 1)\n",
        "\n",
        "        for j in range(inputs.size()[0]):\n",
        "            ax = grid[cnt]\n",
        "            imshow(ax, inputs.cpu().data[j])\n",
        "            ax.text(10, 210, '{}/{}'.format(preds[j], labels.data[j]), \n",
        "                    color='k', backgroundcolor='w', alpha=0.8)\n",
        "            cnt += 1\n",
        "            if cnt == num_images:\n",
        "                return"
      ],
      "execution_count": 0,
      "outputs": []
    },
    {
      "metadata": {
        "_uuid": "c19e0795e82e61b4f36f304d082d813d6612b574",
        "trusted": false,
        "id": "9Z-vGS3Lm-iR",
        "colab_type": "code",
        "colab": {}
      },
      "cell_type": "code",
      "source": [
        "visualize_model(dloaders, resnet)"
      ],
      "execution_count": 0,
      "outputs": []
    },
    {
      "metadata": {
        "_uuid": "f3ed45d0b3195ae3a92223b83b87b8d0987eac06",
        "id": "XjoRE9dCm-iX",
        "colab_type": "text"
      },
      "cell_type": "markdown",
      "source": [
        "This kernel was mainly to test using transfer learning in kernels using PyTorch. Training is slow in CPU but it works.   "
      ]
    },
    {
      "metadata": {
        "_uuid": "7724e55040bf59ba865f8364740f22ad5035dd2d",
        "trusted": false,
        "id": "TXJRIBnYm-iY",
        "colab_type": "code",
        "colab": {}
      },
      "cell_type": "code",
      "source": [
        ""
      ],
      "execution_count": 0,
      "outputs": []
    }
  ]
}