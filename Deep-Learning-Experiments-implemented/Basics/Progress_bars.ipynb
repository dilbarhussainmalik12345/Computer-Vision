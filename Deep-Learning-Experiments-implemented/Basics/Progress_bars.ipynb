{
  "nbformat": 4,
  "nbformat_minor": 0,
  "metadata": {
    "colab": {
      "name": "Progress_bars.ipynb",
      "provenance": [],
      "include_colab_link": true
    },
    "kernelspec": {
      "name": "python3",
      "display_name": "Python 3"
    }
  },
  "cells": [
    {
      "cell_type": "markdown",
      "metadata": {
        "id": "view-in-github",
        "colab_type": "text"
      },
      "source": [
        "<a href=\"https://colab.research.google.com/github/navneetkrc/Colab_fastai/blob/master/Basics/Progress_bars.ipynb\" target=\"_parent\"><img src=\"https://colab.research.google.com/assets/colab-badge.svg\" alt=\"Open In Colab\"/></a>"
      ]
    },
    {
      "cell_type": "code",
      "metadata": {
        "id": "CRDwWRY8t6o9",
        "colab_type": "code",
        "colab": {}
      },
      "source": [
        "!pip install progress\n",
        "!pip install alive_progress\n",
        "!pip install progressbar2"
      ],
      "execution_count": 0,
      "outputs": []
    },
    {
      "cell_type": "markdown",
      "metadata": {
        "id": "j8zy9FT35ApT",
        "colab_type": "text"
      },
      "source": [
        "###TQDM"
      ]
    },
    {
      "cell_type": "code",
      "metadata": {
        "id": "iV0WWTQgP9em",
        "colab_type": "code",
        "colab": {
          "base_uri": "https://localhost:8080/",
          "height": 34
        },
        "outputId": "0410389c-64c0-436f-87ca-ff2ac7c11bf8"
      },
      "source": [
        "import time\n",
        "from tqdm import tqdm\n",
        "mylist = [1,2,3,4,5,6,7,8]\n",
        "for i in tqdm(mylist):\n",
        "    time.sleep(1)"
      ],
      "execution_count": 42,
      "outputs": [
        {
          "output_type": "stream",
          "text": [
            "100%|██████████| 8/8 [00:08<00:00,  1.00s/it]\n"
          ],
          "name": "stderr"
        }
      ]
    },
    {
      "cell_type": "markdown",
      "metadata": {
        "id": "wOGvEI8S0pM0",
        "colab_type": "text"
      },
      "source": [
        "###Progress bar 2"
      ]
    },
    {
      "cell_type": "code",
      "metadata": {
        "id": "7pXiKhaou4mj",
        "colab_type": "code",
        "colab": {
          "base_uri": "https://localhost:8080/",
          "height": 34
        },
        "outputId": "41966218-8b0e-48b4-bbed-3afa60d6a00e"
      },
      "source": [
        "import time\n",
        "import progressbar\n",
        "\n",
        "for i in progressbar.progressbar(range(100)):\n",
        "    time.sleep(0.2)"
      ],
      "execution_count": 36,
      "outputs": [
        {
          "output_type": "stream",
          "text": [
            "100% (100 of 100) |######################| Elapsed Time: 0:00:20 Time:  0:00:20\n"
          ],
          "name": "stderr"
        }
      ]
    },
    {
      "cell_type": "code",
      "metadata": {
        "id": "z2IgNhiIvMc4",
        "colab_type": "code",
        "colab": {
          "base_uri": "https://localhost:8080/",
          "height": 34
        },
        "outputId": "2d6dd285-c5fc-4227-eeaa-ef752e489292"
      },
      "source": [
        "import time\n",
        "import progressbar\n",
        "\n",
        "widgets=[\n",
        "    ' [', progressbar.Timer(), '] ',\n",
        "    progressbar.Bar(),\n",
        "    ' (', progressbar.ETA(), ') ',\n",
        "]\n",
        "for i in progressbar.progressbar(range(100), widgets=widgets):\n",
        "    time.sleep(0.2)"
      ],
      "execution_count": 37,
      "outputs": [
        {
          "output_type": "stream",
          "text": [
            " [Elapsed Time: 0:00:20] |##################################| (Time:  0:00:20) \n"
          ],
          "name": "stderr"
        }
      ]
    },
    {
      "cell_type": "markdown",
      "metadata": {
        "id": "bj5_oTduwPU6",
        "colab_type": "text"
      },
      "source": [
        "### Progress\n",
        "There are 7 progress bars to choose from:\n",
        "\n",
        "Bar\n",
        "\n",
        "*   Bar\n",
        "*   ChargingBar\n",
        "*   FillingSquaresBar\n",
        "*   FillingCirclesBar\n",
        "*   IncrementalBar\n",
        "*   PixelBar\n",
        "*   ShadyBar\n"
      ]
    },
    {
      "cell_type": "code",
      "metadata": {
        "id": "ReGYdgFCvpQQ",
        "colab_type": "code",
        "colab": {}
      },
      "source": [
        "from progress.bar import FillingCirclesBar\n",
        "import time\n",
        "\n",
        "with FillingCirclesBar('Processing', max=20) as bar:\n",
        "    for i in range(20):\n",
        "        time.sleep(0.2)\n",
        "        bar.next()"
      ],
      "execution_count": 0,
      "outputs": []
    },
    {
      "cell_type": "code",
      "metadata": {
        "id": "8XPf3wrMP1q7",
        "colab_type": "code",
        "colab": {}
      },
      "source": [
        "import time\n",
        "from progress.bar import IncrementalBar\n",
        "mylist = [1,2,3,4,5,6,7,8]\n",
        "bar = IncrementalBar('Countdown', max = len(mylist))\n",
        "for item in mylist:\n",
        "    bar.next()\n",
        "    time.sleep(1)\n",
        "bar.finish()"
      ],
      "execution_count": 0,
      "outputs": []
    },
    {
      "cell_type": "markdown",
      "metadata": {
        "id": "YFcV7CS55X-O",
        "colab_type": "text"
      },
      "source": [
        "###Alive_progress"
      ]
    },
    {
      "cell_type": "code",
      "metadata": {
        "id": "hcLwvSPVQCZH",
        "colab_type": "code",
        "colab": {}
      },
      "source": [
        "from alive_progress import alive_bar\n",
        "import time\n",
        "mylist = [1,2,3,4,5,6,7,8]\n",
        "with alive_bar(len(mylist)) as bar:\n",
        "    for i in mylist:\n",
        "        bar()\n",
        "        time.sleep(1)"
      ],
      "execution_count": 0,
      "outputs": []
    }
  ]
}