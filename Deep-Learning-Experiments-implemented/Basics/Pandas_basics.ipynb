{
  "nbformat": 4,
  "nbformat_minor": 0,
  "metadata": {
    "colab": {
      "name": "Pandas_basics.ipynb",
      "provenance": [],
      "include_colab_link": true
    },
    "kernelspec": {
      "name": "python3",
      "display_name": "Python 3"
    },
    "accelerator": "GPU"
  },
  "cells": [
    {
      "cell_type": "markdown",
      "metadata": {
        "id": "view-in-github",
        "colab_type": "text"
      },
      "source": [
        "<a href=\"https://colab.research.google.com/github/navneetkrc/Colab_fastai/blob/master/Basics/Pandas_basics.ipynb\" target=\"_parent\"><img src=\"https://colab.research.google.com/assets/colab-badge.svg\" alt=\"Open In Colab\"/></a>"
      ]
    },
    {
      "cell_type": "markdown",
      "metadata": {
        "id": "BN5G4vJiZ5Y6",
        "colab_type": "text"
      },
      "source": [
        "Based on this Medium Article [Brief Pandas tour](https://towardsdatascience.com/a-brief-tour-of-pandas-9f10a8ce490a)   by Peirre"
      ]
    },
    {
      "cell_type": "markdown",
      "metadata": {
        "id": "pOwLEv2H61gB",
        "colab_type": "text"
      },
      "source": [
        "##Download dataset and Import libraries"
      ]
    },
    {
      "cell_type": "code",
      "metadata": {
        "id": "eCaIQTImXp6c",
        "colab_type": "code",
        "colab": {
          "base_uri": "https://localhost:8080/",
          "height": 0
        },
        "outputId": "d7e67589-4708-4612-aac3-7f051e235541"
      },
      "source": [
        "#Get the csv from github \n",
        "!wget https://github.com/navneetkrc/Colab_fastai/raw/master/Basics/aac_shelter_outcomes.csv"
      ],
      "execution_count": 1,
      "outputs": [
        {
          "output_type": "stream",
          "text": [
            "--2019-11-26 08:58:49--  https://github.com/navneetkrc/Colab_fastai/raw/master/Basics/aac_shelter_outcomes.csv\n",
            "Resolving github.com (github.com)... 140.82.118.4\n",
            "Connecting to github.com (github.com)|140.82.118.4|:443... connected.\n",
            "HTTP request sent, awaiting response... 302 Found\n",
            "Location: https://raw.githubusercontent.com/navneetkrc/Colab_fastai/master/Basics/aac_shelter_outcomes.csv [following]\n",
            "--2019-11-26 08:58:49--  https://raw.githubusercontent.com/navneetkrc/Colab_fastai/master/Basics/aac_shelter_outcomes.csv\n",
            "Resolving raw.githubusercontent.com (raw.githubusercontent.com)... 151.101.0.133, 151.101.64.133, 151.101.128.133, ...\n",
            "Connecting to raw.githubusercontent.com (raw.githubusercontent.com)|151.101.0.133|:443... connected.\n",
            "HTTP request sent, awaiting response... 200 OK\n",
            "Length: 11378804 (11M) [text/plain]\n",
            "Saving to: ‘aac_shelter_outcomes.csv’\n",
            "\n",
            "\raac_shelter_outcome   0%[                    ]       0  --.-KB/s               \raac_shelter_outcome 100%[===================>]  10.85M  --.-KB/s    in 0.07s   \n",
            "\n",
            "2019-11-26 08:58:50 (160 MB/s) - ‘aac_shelter_outcomes.csv’ saved [11378804/11378804]\n",
            "\n"
          ],
          "name": "stdout"
        }
      ]
    },
    {
      "cell_type": "code",
      "metadata": {
        "id": "pcp3GWf4adWa",
        "colab_type": "code",
        "colab": {}
      },
      "source": [
        "import pandas as pd"
      ],
      "execution_count": 0,
      "outputs": []
    },
    {
      "cell_type": "markdown",
      "metadata": {
        "id": "46hi4E0C66d8",
        "colab_type": "text"
      },
      "source": [
        "##Load the dataset"
      ]
    },
    {
      "cell_type": "code",
      "metadata": {
        "id": "uW6SXHTdatxT",
        "colab_type": "code",
        "outputId": "4c493cce-99ab-4435-93d3-b287bcf692ad",
        "colab": {
          "base_uri": "https://localhost:8080/",
          "height": 0
        }
      },
      "source": [
        "print(\"READING DATA\")\n",
        "df = pd.read_csv(\"aac_shelter_outcomes.csv\")\n",
        "print(df.head())"
      ],
      "execution_count": 3,
      "outputs": [
        {
          "output_type": "stream",
          "text": [
            "READING DATA\n",
            "  age_upon_outcome animal_id  ... outcome_type sex_upon_outcome\n",
            "0          2 weeks   A684346  ...     Transfer      Intact Male\n",
            "1           1 year   A666430  ...     Transfer    Spayed Female\n",
            "2           1 year   A675708  ...     Adoption    Neutered Male\n",
            "3          9 years   A680386  ...     Transfer    Neutered Male\n",
            "4         5 months   A683115  ...   Euthanasia          Unknown\n",
            "\n",
            "[5 rows x 12 columns]\n"
          ],
          "name": "stdout"
        }
      ]
    },
    {
      "cell_type": "code",
      "metadata": {
        "id": "t3l_egc6f-so",
        "colab_type": "code",
        "outputId": "011c68d1-e80c-4e4a-cf4b-6d8cee1befa2",
        "colab": {
          "base_uri": "https://localhost:8080/",
          "height": 0
        }
      },
      "source": [
        "print(df.tail())"
      ],
      "execution_count": 4,
      "outputs": [
        {
          "output_type": "stream",
          "text": [
            "      age_upon_outcome animal_id  ... outcome_type sex_upon_outcome\n",
            "78251          1 month   A764894  ...     Adoption    Spayed Female\n",
            "78252          3 years   A764468  ...     Adoption    Neutered Male\n",
            "78253              NaN   A766098  ...   Euthanasia          Unknown\n",
            "78254         2 months   A765858  ...     Adoption    Spayed Female\n",
            "78255         2 months   A765857  ...     Adoption    Neutered Male\n",
            "\n",
            "[5 rows x 12 columns]\n"
          ],
          "name": "stdout"
        }
      ]
    },
    {
      "cell_type": "code",
      "metadata": {
        "id": "cEpe6X2gf_9m",
        "colab_type": "code",
        "outputId": "89774339-7d6b-4bb2-e2a2-d1bd3a1b68b3",
        "colab": {
          "base_uri": "https://localhost:8080/",
          "height": 0
        }
      },
      "source": [
        "print(df.columns)\n"
      ],
      "execution_count": 5,
      "outputs": [
        {
          "output_type": "stream",
          "text": [
            "Index(['age_upon_outcome', 'animal_id', 'animal_type', 'breed', 'color',\n",
            "       'date_of_birth', 'datetime', 'monthyear', 'name', 'outcome_subtype',\n",
            "       'outcome_type', 'sex_upon_outcome'],\n",
            "      dtype='object')\n"
          ],
          "name": "stdout"
        }
      ]
    },
    {
      "cell_type": "markdown",
      "metadata": {
        "id": "zzuiYYNC6-UU",
        "colab_type": "text"
      },
      "source": [
        "##Start Cleaning"
      ]
    },
    {
      "cell_type": "code",
      "metadata": {
        "id": "cFaiJyugav2y",
        "colab_type": "code",
        "outputId": "5061204e-3a7d-409e-a169-d61e9b202413",
        "colab": {
          "base_uri": "https://localhost:8080/",
          "height": 0
        }
      },
      "source": [
        "print(\"CLEANING DATA\")\n",
        "#df = pd.read_csv(\"aac_shelter_outcomes.csv\")\n",
        "print(df.isnull().sum())"
      ],
      "execution_count": 6,
      "outputs": [
        {
          "output_type": "stream",
          "text": [
            "CLEANING DATA\n",
            "age_upon_outcome        8\n",
            "animal_id               0\n",
            "animal_type             0\n",
            "breed                   0\n",
            "color                   0\n",
            "date_of_birth           0\n",
            "datetime                0\n",
            "monthyear               0\n",
            "name                23886\n",
            "outcome_subtype     42293\n",
            "outcome_type           12\n",
            "sex_upon_outcome        2\n",
            "dtype: int64\n"
          ],
          "name": "stdout"
        }
      ]
    },
    {
      "cell_type": "code",
      "metadata": {
        "id": "CU2YvV7EgNQ2",
        "colab_type": "code",
        "outputId": "54020264-a0d7-4898-851b-5b1b3c6b557f",
        "colab": {
          "base_uri": "https://localhost:8080/",
          "height": 0
        }
      },
      "source": [
        "print(\"Length Before:\", len(df))\n",
        "df.dropna(inplace=True)\n",
        "print(\"Length After:\", len(df))"
      ],
      "execution_count": 7,
      "outputs": [
        {
          "output_type": "stream",
          "text": [
            "Length Before: 78256\n",
            "Length After: 17699\n"
          ],
          "name": "stdout"
        }
      ]
    },
    {
      "cell_type": "code",
      "metadata": {
        "id": "kLja0RlNav7F",
        "colab_type": "code",
        "outputId": "309d49d4-92d9-498d-9d6a-3473e82fe5d0",
        "colab": {
          "base_uri": "https://localhost:8080/",
          "height": 0
        }
      },
      "source": [
        "df = pd.read_csv(\"aac_shelter_outcomes.csv\")\n",
        "print(\"Length Before:\", len(df))\n",
        "df.fillna(0, inplace=True)\n",
        "print(\"Length After:\", len(df))"
      ],
      "execution_count": 8,
      "outputs": [
        {
          "output_type": "stream",
          "text": [
            "Length Before: 78256\n",
            "Length After: 78256\n"
          ],
          "name": "stdout"
        }
      ]
    },
    {
      "cell_type": "code",
      "metadata": {
        "id": "UG9xRrjkawAz",
        "colab_type": "code",
        "outputId": "f6381a45-a3bb-4ea0-8990-e8059e390d89",
        "colab": {
          "base_uri": "https://localhost:8080/",
          "height": 0
        }
      },
      "source": [
        "print(\"FILTERING DATA\")\n",
        "df1 = df[df['breed']== 'Mastiff Mix']\n",
        "df1 = df[df['sex_upon_outcome'] == 'Spayed Female']\n",
        "print(df.head())\n"
      ],
      "execution_count": 9,
      "outputs": [
        {
          "output_type": "stream",
          "text": [
            "FILTERING DATA\n",
            "  age_upon_outcome animal_id  ... outcome_type sex_upon_outcome\n",
            "0          2 weeks   A684346  ...     Transfer      Intact Male\n",
            "1           1 year   A666430  ...     Transfer    Spayed Female\n",
            "2           1 year   A675708  ...     Adoption    Neutered Male\n",
            "3          9 years   A680386  ...     Transfer    Neutered Male\n",
            "4         5 months   A683115  ...   Euthanasia          Unknown\n",
            "\n",
            "[5 rows x 12 columns]\n"
          ],
          "name": "stdout"
        }
      ]
    },
    {
      "cell_type": "markdown",
      "metadata": {
        "id": "Fc0u-73P7CqB",
        "colab_type": "text"
      },
      "source": [
        "###Handle DateTime Strings and convert to Datetime datatypes"
      ]
    },
    {
      "cell_type": "code",
      "metadata": {
        "id": "nx9xqmtJawJJ",
        "colab_type": "code",
        "outputId": "ffad2e49-2789-4b14-c7d9-54f714c1bdfe",
        "colab": {
          "base_uri": "https://localhost:8080/",
          "height": 0
        }
      },
      "source": [
        "df['date_of_birth'] = pd.to_datetime(df['date_of_birth'])\n",
        "\n",
        "df['week_of_birth'] = df['date_of_birth'].dt.week\n",
        "df['month_of_birth'] = df['date_of_birth'].dt.month\n",
        "df['year_of_birth'] = df['date_of_birth'].dt.year\n",
        "print(df.head())"
      ],
      "execution_count": 10,
      "outputs": [
        {
          "output_type": "stream",
          "text": [
            "  age_upon_outcome animal_id  ... month_of_birth year_of_birth\n",
            "0          2 weeks   A684346  ...              7          2014\n",
            "1           1 year   A666430  ...             11          2012\n",
            "2           1 year   A675708  ...              3          2013\n",
            "3          9 years   A680386  ...              6          2005\n",
            "4         5 months   A683115  ...              1          2014\n",
            "\n",
            "[5 rows x 15 columns]\n"
          ],
          "name": "stdout"
        }
      ]
    },
    {
      "cell_type": "code",
      "metadata": {
        "id": "0hzkTitXawHy",
        "colab_type": "code",
        "outputId": "5b26af4b-0463-4be4-b658-e14ba9a9973f",
        "colab": {
          "base_uri": "https://localhost:8080/",
          "height": 0
        }
      },
      "source": [
        "df1 = df[df['month_of_birth'] == 1]\n",
        "print(df1.head())"
      ],
      "execution_count": 11,
      "outputs": [
        {
          "output_type": "stream",
          "text": [
            "    age_upon_outcome animal_id  ... month_of_birth year_of_birth\n",
            "4           5 months   A683115  ...              1          2014\n",
            "70            1 year   A670066  ...              1          2013\n",
            "74           6 years   A670656  ...              1          2008\n",
            "104         2 months   A675362  ...              1          2014\n",
            "108          5 years   A670525  ...              1          2009\n",
            "\n",
            "[5 rows x 15 columns]\n"
          ],
          "name": "stdout"
        }
      ]
    },
    {
      "cell_type": "markdown",
      "metadata": {
        "id": "meyo1Dvf7LRz",
        "colab_type": "text"
      },
      "source": [
        "##Playing with the dataset"
      ]
    },
    {
      "cell_type": "code",
      "metadata": {
        "id": "GxvWhv93awF0",
        "colab_type": "code",
        "outputId": "c24219c5-476f-4011-ee1b-dc68f1ec3b9b",
        "colab": {
          "base_uri": "https://localhost:8080/",
          "height": 0
        }
      },
      "source": [
        "#df = pd.read_csv(\"aac_shelter_outcomes.csv\")\n",
        "\n",
        "df1 = df[df['month_of_birth'] == 1].reset_index()\n",
        "print(df1.head())"
      ],
      "execution_count": 12,
      "outputs": [
        {
          "output_type": "stream",
          "text": [
            "   index age_upon_outcome  ... month_of_birth year_of_birth\n",
            "0      4         5 months  ...              1          2014\n",
            "1     70           1 year  ...              1          2013\n",
            "2     74          6 years  ...              1          2008\n",
            "3    104         2 months  ...              1          2014\n",
            "4    108          5 years  ...              1          2009\n",
            "\n",
            "[5 rows x 16 columns]\n"
          ],
          "name": "stdout"
        }
      ]
    },
    {
      "cell_type": "code",
      "metadata": {
        "id": "-BrfYn7zgliR",
        "colab_type": "code",
        "outputId": "d8a48c79-7e7c-42f0-ba55-f508512c298a",
        "colab": {
          "base_uri": "https://localhost:8080/",
          "height": 0
        }
      },
      "source": [
        "df2 = df.set_index('month_of_birth')\n",
        "print(df2.head())"
      ],
      "execution_count": 13,
      "outputs": [
        {
          "output_type": "stream",
          "text": [
            "               age_upon_outcome animal_id  ... week_of_birth year_of_birth\n",
            "month_of_birth                             ...                            \n",
            "7                       2 weeks   A684346  ...            28          2014\n",
            "11                       1 year   A666430  ...            45          2012\n",
            "3                        1 year   A675708  ...            13          2013\n",
            "6                       9 years   A680386  ...            22          2005\n",
            "1                      5 months   A683115  ...             2          2014\n",
            "\n",
            "[5 rows x 14 columns]\n"
          ],
          "name": "stdout"
        }
      ]
    },
    {
      "cell_type": "code",
      "metadata": {
        "id": "5yJhIPMGhFYG",
        "colab_type": "code",
        "outputId": "b40ef8aa-0d49-4a25-bcd1-67f94c0190d0",
        "colab": {
          "base_uri": "https://localhost:8080/",
          "height": 0
        }
      },
      "source": [
        "print(df.head())"
      ],
      "execution_count": 14,
      "outputs": [
        {
          "output_type": "stream",
          "text": [
            "  age_upon_outcome animal_id  ... month_of_birth year_of_birth\n",
            "0          2 weeks   A684346  ...              7          2014\n",
            "1           1 year   A666430  ...             11          2012\n",
            "2           1 year   A675708  ...              3          2013\n",
            "3          9 years   A680386  ...              6          2005\n",
            "4         5 months   A683115  ...              1          2014\n",
            "\n",
            "[5 rows x 15 columns]\n"
          ],
          "name": "stdout"
        }
      ]
    },
    {
      "cell_type": "markdown",
      "metadata": {
        "id": "G-tKZdAj7QSk",
        "colab_type": "text"
      },
      "source": [
        "##Exploring dataset based on row numbers"
      ]
    },
    {
      "cell_type": "code",
      "metadata": {
        "id": "6vVEhwa4hFjo",
        "colab_type": "code",
        "outputId": "ee83493a-2033-4772-f721-5fc95d9810f9",
        "colab": {
          "base_uri": "https://localhost:8080/",
          "height": 318
        }
      },
      "source": [
        "print(\"---------------------First---------------------\")\n",
        "print(df.iloc[0])"
      ],
      "execution_count": 15,
      "outputs": [
        {
          "output_type": "stream",
          "text": [
            "---------------------First---------------------\n",
            "age_upon_outcome                   2 weeks\n",
            "animal_id                          A684346\n",
            "animal_type                            Cat\n",
            "breed               Domestic Shorthair Mix\n",
            "color                         Orange Tabby\n",
            "date_of_birth          2014-07-07 00:00:00\n",
            "datetime               2014-07-22T16:04:00\n",
            "monthyear              2014-07-22T16:04:00\n",
            "name                                     0\n",
            "outcome_subtype                    Partner\n",
            "outcome_type                      Transfer\n",
            "sex_upon_outcome               Intact Male\n",
            "week_of_birth                           28\n",
            "month_of_birth                           7\n",
            "year_of_birth                         2014\n",
            "Name: 0, dtype: object\n"
          ],
          "name": "stdout"
        }
      ]
    },
    {
      "cell_type": "code",
      "metadata": {
        "id": "D8qvAR1dhFrm",
        "colab_type": "code",
        "outputId": "5597b0a7-8040-488c-eb19-588171552d5b",
        "colab": {
          "base_uri": "https://localhost:8080/",
          "height": 318
        }
      },
      "source": [
        "print(\"---------------------Second---------------------\") \n",
        "print(df.iloc[1])"
      ],
      "execution_count": 16,
      "outputs": [
        {
          "output_type": "stream",
          "text": [
            "---------------------Second---------------------\n",
            "age_upon_outcome                 1 year\n",
            "animal_id                       A666430\n",
            "animal_type                         Dog\n",
            "breed                        Beagle Mix\n",
            "color                       White/Brown\n",
            "date_of_birth       2012-11-06 00:00:00\n",
            "datetime            2013-11-07T11:47:00\n",
            "monthyear           2013-11-07T11:47:00\n",
            "name                               Lucy\n",
            "outcome_subtype                 Partner\n",
            "outcome_type                   Transfer\n",
            "sex_upon_outcome          Spayed Female\n",
            "week_of_birth                        45\n",
            "month_of_birth                       11\n",
            "year_of_birth                      2012\n",
            "Name: 1, dtype: object\n"
          ],
          "name": "stdout"
        }
      ]
    },
    {
      "cell_type": "code",
      "metadata": {
        "id": "UGlBqVpVhg68",
        "colab_type": "code",
        "outputId": "49375bca-8e2d-47ba-d864-d9eecc6c128e",
        "colab": {
          "base_uri": "https://localhost:8080/",
          "height": 318
        }
      },
      "source": [
        "print(\"---------------------Last---------------------\")\n",
        "print(df.iloc[-1])"
      ],
      "execution_count": 17,
      "outputs": [
        {
          "output_type": "stream",
          "text": [
            "---------------------Last---------------------\n",
            "age_upon_outcome                  2 months\n",
            "animal_id                          A765857\n",
            "animal_type                            Dog\n",
            "breed               Labrador Retriever Mix\n",
            "color                          White/Brown\n",
            "date_of_birth          2017-11-13 00:00:00\n",
            "datetime               2018-02-01T18:44:00\n",
            "monthyear              2018-02-01T18:44:00\n",
            "name                                     0\n",
            "outcome_subtype                          0\n",
            "outcome_type                      Adoption\n",
            "sex_upon_outcome             Neutered Male\n",
            "week_of_birth                           46\n",
            "month_of_birth                          11\n",
            "year_of_birth                         2017\n",
            "Name: 78255, dtype: object\n"
          ],
          "name": "stdout"
        }
      ]
    },
    {
      "cell_type": "markdown",
      "metadata": {
        "id": "5er5Mnuz7b54",
        "colab_type": "text"
      },
      "source": [
        "###Exploring COlumn contents based on Row numbers"
      ]
    },
    {
      "cell_type": "code",
      "metadata": {
        "id": "nwnPKniRhhBb",
        "colab_type": "code",
        "outputId": "f381c994-b8d6-47b7-e067-efeae7fb4213",
        "colab": {
          "base_uri": "https://localhost:8080/",
          "height": 52
        }
      },
      "source": [
        "print(\"---------------------First---------------------\")\n",
        "print(df.loc[0, 'breed'])"
      ],
      "execution_count": 18,
      "outputs": [
        {
          "output_type": "stream",
          "text": [
            "---------------------First---------------------\n",
            "Domestic Shorthair Mix\n"
          ],
          "name": "stdout"
        }
      ]
    },
    {
      "cell_type": "code",
      "metadata": {
        "id": "FIFpK_NLhhFH",
        "colab_type": "code",
        "outputId": "0fa341a1-7058-4923-9d4a-78171f0ccd4a",
        "colab": {
          "base_uri": "https://localhost:8080/",
          "height": 52
        }
      },
      "source": [
        "print(\"---------------------Second---------------------\") \n",
        "print(df.loc[1, 'breed'])"
      ],
      "execution_count": 19,
      "outputs": [
        {
          "output_type": "stream",
          "text": [
            "---------------------Second---------------------\n",
            "Beagle Mix\n"
          ],
          "name": "stdout"
        }
      ]
    },
    {
      "cell_type": "code",
      "metadata": {
        "id": "PHhNOQIKhg_R",
        "colab_type": "code",
        "outputId": "9143f3ae-17ba-47ec-cbec-9e943c0a04e1",
        "colab": {
          "base_uri": "https://localhost:8080/",
          "height": 123
        }
      },
      "source": [
        "print(\"---------------------First---------------------\")\n",
        "print(df.loc[0:3, 'breed'])"
      ],
      "execution_count": 20,
      "outputs": [
        {
          "output_type": "stream",
          "text": [
            "---------------------First---------------------\n",
            "0     Domestic Shorthair Mix\n",
            "1                 Beagle Mix\n",
            "2                   Pit Bull\n",
            "3    Miniature Schnauzer Mix\n",
            "Name: breed, dtype: object\n"
          ],
          "name": "stdout"
        }
      ]
    },
    {
      "cell_type": "code",
      "metadata": {
        "id": "k7KUQbGEav_l",
        "colab_type": "code",
        "outputId": "5a21683b-826c-48aa-c5ec-e574f954aacc",
        "colab": {
          "base_uri": "https://localhost:8080/",
          "height": 123
        }
      },
      "source": [
        "print(\"---------------------Second---------------------\") \n",
        "print(df.loc[3:6, 'breed'])\n"
      ],
      "execution_count": 21,
      "outputs": [
        {
          "output_type": "stream",
          "text": [
            "---------------------Second---------------------\n",
            "3    Miniature Schnauzer Mix\n",
            "4                    Bat Mix\n",
            "5             Leonberger Mix\n",
            "6               Squirrel Mix\n",
            "Name: breed, dtype: object\n"
          ],
          "name": "stdout"
        }
      ]
    },
    {
      "cell_type": "code",
      "metadata": {
        "id": "veWf1DrVcQt3",
        "colab_type": "code",
        "outputId": "62b6d2bc-031c-4e58-c2e7-e804e8c687db",
        "colab": {
          "base_uri": "https://localhost:8080/",
          "height": 176
        }
      },
      "source": [
        "print(len(df))\n",
        "print(df.head())"
      ],
      "execution_count": 22,
      "outputs": [
        {
          "output_type": "stream",
          "text": [
            "78256\n",
            "  age_upon_outcome animal_id  ... month_of_birth year_of_birth\n",
            "0          2 weeks   A684346  ...              7          2014\n",
            "1           1 year   A666430  ...             11          2012\n",
            "2           1 year   A675708  ...              3          2013\n",
            "3          9 years   A680386  ...              6          2005\n",
            "4         5 months   A683115  ...              1          2014\n",
            "\n",
            "[5 rows x 15 columns]\n"
          ],
          "name": "stdout"
        }
      ]
    },
    {
      "cell_type": "markdown",
      "metadata": {
        "id": "jea31-e97jKf",
        "colab_type": "text"
      },
      "source": [
        "##Explore Groupby functions"
      ]
    },
    {
      "cell_type": "code",
      "metadata": {
        "id": "aE946Yt_abH7",
        "colab_type": "code",
        "outputId": "526f8332-9baf-490d-c7c3-d9cd164be48a",
        "colab": {
          "base_uri": "https://localhost:8080/",
          "height": 265
        }
      },
      "source": [
        "print(\"AGGREGRATING DATA\")\n",
        "\n",
        "#df = pd.read_csv(\"aac_shelter_outcomes.csv\")\n",
        "df1  = df.groupby(['year_of_birth', 'breed'])['breed'].count()\n",
        "print(df1)"
      ],
      "execution_count": 23,
      "outputs": [
        {
          "output_type": "stream",
          "text": [
            "AGGREGRATING DATA\n",
            "year_of_birth  breed                                \n",
            "1991           Cockatoo                                  1\n",
            "1992           Domestic Shorthair Mix                    1\n",
            "1993           Siamese Mix                               1\n",
            "1994           Domestic Medium Hair Mix                  2\n",
            "               Domestic Shorthair                        1\n",
            "                                                        ..\n",
            "2017           Wirehaired Pointing Griffon Mix           1\n",
            "               Yorkshire Terrier Mix                    32\n",
            "               Yorkshire Terrier/Bruss Griffon           1\n",
            "               Yorkshire Terrier/Chihuahua Shorthair     3\n",
            "               Yorkshire Terrier/Miniature Schnauzer     1\n",
            "Name: breed, Length: 6873, dtype: int64\n"
          ],
          "name": "stdout"
        }
      ]
    },
    {
      "cell_type": "code",
      "metadata": {
        "id": "_lJV1WXCilvv",
        "colab_type": "code",
        "outputId": "d8c2229e-c864-4956-a343-95f1ea1cb041",
        "colab": {
          "base_uri": "https://localhost:8080/",
          "height": 334
        }
      },
      "source": [
        "df.head()"
      ],
      "execution_count": 24,
      "outputs": [
        {
          "output_type": "execute_result",
          "data": {
            "text/html": [
              "<div>\n",
              "<style scoped>\n",
              "    .dataframe tbody tr th:only-of-type {\n",
              "        vertical-align: middle;\n",
              "    }\n",
              "\n",
              "    .dataframe tbody tr th {\n",
              "        vertical-align: top;\n",
              "    }\n",
              "\n",
              "    .dataframe thead th {\n",
              "        text-align: right;\n",
              "    }\n",
              "</style>\n",
              "<table border=\"1\" class=\"dataframe\">\n",
              "  <thead>\n",
              "    <tr style=\"text-align: right;\">\n",
              "      <th></th>\n",
              "      <th>age_upon_outcome</th>\n",
              "      <th>animal_id</th>\n",
              "      <th>animal_type</th>\n",
              "      <th>breed</th>\n",
              "      <th>color</th>\n",
              "      <th>date_of_birth</th>\n",
              "      <th>datetime</th>\n",
              "      <th>monthyear</th>\n",
              "      <th>name</th>\n",
              "      <th>outcome_subtype</th>\n",
              "      <th>outcome_type</th>\n",
              "      <th>sex_upon_outcome</th>\n",
              "      <th>week_of_birth</th>\n",
              "      <th>month_of_birth</th>\n",
              "      <th>year_of_birth</th>\n",
              "    </tr>\n",
              "  </thead>\n",
              "  <tbody>\n",
              "    <tr>\n",
              "      <th>0</th>\n",
              "      <td>2 weeks</td>\n",
              "      <td>A684346</td>\n",
              "      <td>Cat</td>\n",
              "      <td>Domestic Shorthair Mix</td>\n",
              "      <td>Orange Tabby</td>\n",
              "      <td>2014-07-07</td>\n",
              "      <td>2014-07-22T16:04:00</td>\n",
              "      <td>2014-07-22T16:04:00</td>\n",
              "      <td>0</td>\n",
              "      <td>Partner</td>\n",
              "      <td>Transfer</td>\n",
              "      <td>Intact Male</td>\n",
              "      <td>28</td>\n",
              "      <td>7</td>\n",
              "      <td>2014</td>\n",
              "    </tr>\n",
              "    <tr>\n",
              "      <th>1</th>\n",
              "      <td>1 year</td>\n",
              "      <td>A666430</td>\n",
              "      <td>Dog</td>\n",
              "      <td>Beagle Mix</td>\n",
              "      <td>White/Brown</td>\n",
              "      <td>2012-11-06</td>\n",
              "      <td>2013-11-07T11:47:00</td>\n",
              "      <td>2013-11-07T11:47:00</td>\n",
              "      <td>Lucy</td>\n",
              "      <td>Partner</td>\n",
              "      <td>Transfer</td>\n",
              "      <td>Spayed Female</td>\n",
              "      <td>45</td>\n",
              "      <td>11</td>\n",
              "      <td>2012</td>\n",
              "    </tr>\n",
              "    <tr>\n",
              "      <th>2</th>\n",
              "      <td>1 year</td>\n",
              "      <td>A675708</td>\n",
              "      <td>Dog</td>\n",
              "      <td>Pit Bull</td>\n",
              "      <td>Blue/White</td>\n",
              "      <td>2013-03-31</td>\n",
              "      <td>2014-06-03T14:20:00</td>\n",
              "      <td>2014-06-03T14:20:00</td>\n",
              "      <td>*Johnny</td>\n",
              "      <td>0</td>\n",
              "      <td>Adoption</td>\n",
              "      <td>Neutered Male</td>\n",
              "      <td>13</td>\n",
              "      <td>3</td>\n",
              "      <td>2013</td>\n",
              "    </tr>\n",
              "    <tr>\n",
              "      <th>3</th>\n",
              "      <td>9 years</td>\n",
              "      <td>A680386</td>\n",
              "      <td>Dog</td>\n",
              "      <td>Miniature Schnauzer Mix</td>\n",
              "      <td>White</td>\n",
              "      <td>2005-06-02</td>\n",
              "      <td>2014-06-15T15:50:00</td>\n",
              "      <td>2014-06-15T15:50:00</td>\n",
              "      <td>Monday</td>\n",
              "      <td>Partner</td>\n",
              "      <td>Transfer</td>\n",
              "      <td>Neutered Male</td>\n",
              "      <td>22</td>\n",
              "      <td>6</td>\n",
              "      <td>2005</td>\n",
              "    </tr>\n",
              "    <tr>\n",
              "      <th>4</th>\n",
              "      <td>5 months</td>\n",
              "      <td>A683115</td>\n",
              "      <td>Other</td>\n",
              "      <td>Bat Mix</td>\n",
              "      <td>Brown</td>\n",
              "      <td>2014-01-07</td>\n",
              "      <td>2014-07-07T14:04:00</td>\n",
              "      <td>2014-07-07T14:04:00</td>\n",
              "      <td>0</td>\n",
              "      <td>Rabies Risk</td>\n",
              "      <td>Euthanasia</td>\n",
              "      <td>Unknown</td>\n",
              "      <td>2</td>\n",
              "      <td>1</td>\n",
              "      <td>2014</td>\n",
              "    </tr>\n",
              "  </tbody>\n",
              "</table>\n",
              "</div>"
            ],
            "text/plain": [
              "  age_upon_outcome animal_id  ... month_of_birth year_of_birth\n",
              "0          2 weeks   A684346  ...              7          2014\n",
              "1           1 year   A666430  ...             11          2012\n",
              "2           1 year   A675708  ...              3          2013\n",
              "3          9 years   A680386  ...              6          2005\n",
              "4         5 months   A683115  ...              1          2014\n",
              "\n",
              "[5 rows x 15 columns]"
            ]
          },
          "metadata": {
            "tags": []
          },
          "execution_count": 24
        }
      ]
    },
    {
      "cell_type": "markdown",
      "metadata": {
        "id": "zN3983-T78yH",
        "colab_type": "text"
      },
      "source": [
        "##Check for some important functions of Pandas"
      ]
    },
    {
      "cell_type": "markdown",
      "metadata": {
        "id": "H9Ek8uN49x-p",
        "colab_type": "text"
      },
      "source": [
        "### idxmin() & idxmax()"
      ]
    },
    {
      "cell_type": "code",
      "metadata": {
        "id": "HHfNXMxv8ECr",
        "colab_type": "code",
        "colab": {
          "base_uri": "https://localhost:8080/",
          "height": 52
        },
        "outputId": "0131603a-46d8-4f43-b5b9-84ca1a2fc019"
      },
      "source": [
        "x=df['week_of_birth']\n",
        "print(x.dtypes)\n",
        "len(x)"
      ],
      "execution_count": 31,
      "outputs": [
        {
          "output_type": "stream",
          "text": [
            "int64\n"
          ],
          "name": "stdout"
        },
        {
          "output_type": "execute_result",
          "data": {
            "text/plain": [
              "78256"
            ]
          },
          "metadata": {
            "tags": []
          },
          "execution_count": 31
        }
      ]
    },
    {
      "cell_type": "code",
      "metadata": {
        "id": "N0NJkK7r8EWb",
        "colab_type": "code",
        "colab": {
          "base_uri": "https://localhost:8080/",
          "height": 52
        },
        "outputId": "024d8db8-0d5a-4cc9-cc61-4467bed64c66"
      },
      "source": [
        "print(x.idxmin())\n",
        "print(x.iloc[70])#minimum week can be 1"
      ],
      "execution_count": 37,
      "outputs": [
        {
          "output_type": "stream",
          "text": [
            "70\n",
            "1\n"
          ],
          "name": "stdout"
        }
      ]
    },
    {
      "cell_type": "code",
      "metadata": {
        "id": "jSzkwMCy8bdO",
        "colab_type": "code",
        "colab": {
          "base_uri": "https://localhost:8080/",
          "height": 52
        },
        "outputId": "d7f1144e-a7c7-4418-9dd2-e36a5c4e5890"
      },
      "source": [
        "print(x.idxmax())\n",
        "print(x.iloc[140])#maximum week # can be 53 (52*7=364 and we have 365 or 366 days in a year)"
      ],
      "execution_count": 36,
      "outputs": [
        {
          "output_type": "stream",
          "text": [
            "140\n",
            "53\n"
          ],
          "name": "stdout"
        }
      ]
    },
    {
      "cell_type": "markdown",
      "metadata": {
        "id": "2-NTnqWH96NN",
        "colab_type": "text"
      },
      "source": [
        "###ne() gives boolean values for not equal to"
      ]
    },
    {
      "cell_type": "code",
      "metadata": {
        "id": "xQeCZUx98ihh",
        "colab_type": "code",
        "colab": {
          "base_uri": "https://localhost:8080/",
          "height": 301
        },
        "outputId": "621e52aa-95f5-4d34-a189-6d99a68fc223"
      },
      "source": [
        "df_ne = pd.DataFrame()\n",
        "df_ne['X'] = [0,0,0,0,0,0,1,2,3,4,5,6,7,1,2]\n",
        "df_ne['X'].ne(0)"
      ],
      "execution_count": 51,
      "outputs": [
        {
          "output_type": "execute_result",
          "data": {
            "text/plain": [
              "0     False\n",
              "1     False\n",
              "2     False\n",
              "3     False\n",
              "4     False\n",
              "5     False\n",
              "6      True\n",
              "7      True\n",
              "8      True\n",
              "9      True\n",
              "10     True\n",
              "11     True\n",
              "12     True\n",
              "13     True\n",
              "14     True\n",
              "Name: X, dtype: bool"
            ]
          },
          "metadata": {
            "tags": []
          },
          "execution_count": 51
        }
      ]
    },
    {
      "cell_type": "code",
      "metadata": {
        "id": "LYodGvZU8mLM",
        "colab_type": "code",
        "colab": {
          "base_uri": "https://localhost:8080/",
          "height": 34
        },
        "outputId": "4db85c62-aeab-4c36-be70-41ec38d8e1a2"
      },
      "source": [
        "df_ne['X'].ne(0).idxmax() # So at index position 6, we have a first non-zero observation."
      ],
      "execution_count": 52,
      "outputs": [
        {
          "output_type": "execute_result",
          "data": {
            "text/plain": [
              "6"
            ]
          },
          "metadata": {
            "tags": []
          },
          "execution_count": 52
        }
      ]
    },
    {
      "cell_type": "code",
      "metadata": {
        "id": "EoJhltjz_Kib",
        "colab_type": "code",
        "colab": {
          "base_uri": "https://localhost:8080/",
          "height": 317
        },
        "outputId": "447f5c7b-1002-4900-957e-23c64d5c12a1"
      },
      "source": [
        "#get the subset of the DataFrame to show only the values starting at when the item was first used:\n",
        "df_ne.loc[df_ne['X'].ne(0).idxmax():]"
      ],
      "execution_count": 54,
      "outputs": [
        {
          "output_type": "execute_result",
          "data": {
            "text/html": [
              "<div>\n",
              "<style scoped>\n",
              "    .dataframe tbody tr th:only-of-type {\n",
              "        vertical-align: middle;\n",
              "    }\n",
              "\n",
              "    .dataframe tbody tr th {\n",
              "        vertical-align: top;\n",
              "    }\n",
              "\n",
              "    .dataframe thead th {\n",
              "        text-align: right;\n",
              "    }\n",
              "</style>\n",
              "<table border=\"1\" class=\"dataframe\">\n",
              "  <thead>\n",
              "    <tr style=\"text-align: right;\">\n",
              "      <th></th>\n",
              "      <th>X</th>\n",
              "    </tr>\n",
              "  </thead>\n",
              "  <tbody>\n",
              "    <tr>\n",
              "      <th>6</th>\n",
              "      <td>1</td>\n",
              "    </tr>\n",
              "    <tr>\n",
              "      <th>7</th>\n",
              "      <td>2</td>\n",
              "    </tr>\n",
              "    <tr>\n",
              "      <th>8</th>\n",
              "      <td>3</td>\n",
              "    </tr>\n",
              "    <tr>\n",
              "      <th>9</th>\n",
              "      <td>4</td>\n",
              "    </tr>\n",
              "    <tr>\n",
              "      <th>10</th>\n",
              "      <td>5</td>\n",
              "    </tr>\n",
              "    <tr>\n",
              "      <th>11</th>\n",
              "      <td>6</td>\n",
              "    </tr>\n",
              "    <tr>\n",
              "      <th>12</th>\n",
              "      <td>7</td>\n",
              "    </tr>\n",
              "    <tr>\n",
              "      <th>13</th>\n",
              "      <td>1</td>\n",
              "    </tr>\n",
              "    <tr>\n",
              "      <th>14</th>\n",
              "      <td>2</td>\n",
              "    </tr>\n",
              "  </tbody>\n",
              "</table>\n",
              "</div>"
            ],
            "text/plain": [
              "    X\n",
              "6   1\n",
              "7   2\n",
              "8   3\n",
              "9   4\n",
              "10  5\n",
              "11  6\n",
              "12  7\n",
              "13  1\n",
              "14  2"
            ]
          },
          "metadata": {
            "tags": []
          },
          "execution_count": 54
        }
      ]
    },
    {
      "cell_type": "code",
      "metadata": {
        "id": "rtMpJ05QBucS",
        "colab_type": "code",
        "colab": {
          "base_uri": "https://localhost:8080/",
          "height": 412
        },
        "outputId": "04717e3a-a144-413a-b26b-0b650f74ff62"
      },
      "source": [
        "df_new = pd.DataFrame()\n",
        "df_new['X'] = [0,0,0,0,0,0,1,2,3,4,5,6,0,0]\n",
        "print(df_new.loc[lambda df_new: df_new.X > 0]) # This will also be able to handle zeroes coming after the start of numbers\n",
        "print(df_new.loc[df_new['X'].ne(0).idxmax():]) # this will give some extra zeroes that come laterwhich maybe unwanted"
      ],
      "execution_count": 70,
      "outputs": [
        {
          "output_type": "stream",
          "text": [
            "    X\n",
            "6   1\n",
            "7   2\n",
            "8   3\n",
            "9   4\n",
            "10  5\n",
            "11  6\n"
          ],
          "name": "stdout"
        },
        {
          "output_type": "execute_result",
          "data": {
            "text/html": [
              "<div>\n",
              "<style scoped>\n",
              "    .dataframe tbody tr th:only-of-type {\n",
              "        vertical-align: middle;\n",
              "    }\n",
              "\n",
              "    .dataframe tbody tr th {\n",
              "        vertical-align: top;\n",
              "    }\n",
              "\n",
              "    .dataframe thead th {\n",
              "        text-align: right;\n",
              "    }\n",
              "</style>\n",
              "<table border=\"1\" class=\"dataframe\">\n",
              "  <thead>\n",
              "    <tr style=\"text-align: right;\">\n",
              "      <th></th>\n",
              "      <th>X</th>\n",
              "    </tr>\n",
              "  </thead>\n",
              "  <tbody>\n",
              "    <tr>\n",
              "      <th>6</th>\n",
              "      <td>1</td>\n",
              "    </tr>\n",
              "    <tr>\n",
              "      <th>7</th>\n",
              "      <td>2</td>\n",
              "    </tr>\n",
              "    <tr>\n",
              "      <th>8</th>\n",
              "      <td>3</td>\n",
              "    </tr>\n",
              "    <tr>\n",
              "      <th>9</th>\n",
              "      <td>4</td>\n",
              "    </tr>\n",
              "    <tr>\n",
              "      <th>10</th>\n",
              "      <td>5</td>\n",
              "    </tr>\n",
              "    <tr>\n",
              "      <th>11</th>\n",
              "      <td>6</td>\n",
              "    </tr>\n",
              "    <tr>\n",
              "      <th>12</th>\n",
              "      <td>0</td>\n",
              "    </tr>\n",
              "    <tr>\n",
              "      <th>13</th>\n",
              "      <td>0</td>\n",
              "    </tr>\n",
              "  </tbody>\n",
              "</table>\n",
              "</div>"
            ],
            "text/plain": [
              "    X\n",
              "6   1\n",
              "7   2\n",
              "8   3\n",
              "9   4\n",
              "10  5\n",
              "11  6\n",
              "12  0\n",
              "13  0"
            ]
          },
          "metadata": {
            "tags": []
          },
          "execution_count": 70
        }
      ]
    },
    {
      "cell_type": "code",
      "metadata": {
        "id": "epcRxluKClE2",
        "colab_type": "code",
        "colab": {
          "base_uri": "https://localhost:8080/",
          "height": 287
        },
        "outputId": "6c8710d0-5deb-4ba4-898b-b2b22585c518"
      },
      "source": [
        ""
      ],
      "execution_count": 68,
      "outputs": [
        {
          "output_type": "execute_result",
          "data": {
            "text/html": [
              "<div>\n",
              "<style scoped>\n",
              "    .dataframe tbody tr th:only-of-type {\n",
              "        vertical-align: middle;\n",
              "    }\n",
              "\n",
              "    .dataframe tbody tr th {\n",
              "        vertical-align: top;\n",
              "    }\n",
              "\n",
              "    .dataframe thead th {\n",
              "        text-align: right;\n",
              "    }\n",
              "</style>\n",
              "<table border=\"1\" class=\"dataframe\">\n",
              "  <thead>\n",
              "    <tr style=\"text-align: right;\">\n",
              "      <th></th>\n",
              "      <th>X</th>\n",
              "    </tr>\n",
              "  </thead>\n",
              "  <tbody>\n",
              "    <tr>\n",
              "      <th>6</th>\n",
              "      <td>1</td>\n",
              "    </tr>\n",
              "    <tr>\n",
              "      <th>7</th>\n",
              "      <td>2</td>\n",
              "    </tr>\n",
              "    <tr>\n",
              "      <th>8</th>\n",
              "      <td>3</td>\n",
              "    </tr>\n",
              "    <tr>\n",
              "      <th>9</th>\n",
              "      <td>4</td>\n",
              "    </tr>\n",
              "    <tr>\n",
              "      <th>10</th>\n",
              "      <td>5</td>\n",
              "    </tr>\n",
              "    <tr>\n",
              "      <th>11</th>\n",
              "      <td>6</td>\n",
              "    </tr>\n",
              "    <tr>\n",
              "      <th>12</th>\n",
              "      <td>0</td>\n",
              "    </tr>\n",
              "    <tr>\n",
              "      <th>13</th>\n",
              "      <td>0</td>\n",
              "    </tr>\n",
              "  </tbody>\n",
              "</table>\n",
              "</div>"
            ],
            "text/plain": [
              "    X\n",
              "6   1\n",
              "7   2\n",
              "8   3\n",
              "9   4\n",
              "10  5\n",
              "11  6\n",
              "12  0\n",
              "13  0"
            ]
          },
          "metadata": {
            "tags": []
          },
          "execution_count": 68
        }
      ]
    },
    {
      "cell_type": "markdown",
      "metadata": {
        "id": "TO-bqx2o_68k",
        "colab_type": "text"
      },
      "source": [
        "###nsmallest and nlargest values in a dataframe\n",
        "These two functions are a nifty substitute for functions like sort_values()."
      ]
    },
    {
      "cell_type": "code",
      "metadata": {
        "id": "fTEU4544ABm6",
        "colab_type": "code",
        "colab": {
          "base_uri": "https://localhost:8080/",
          "height": 158
        },
        "outputId": "a2aa3f91-62fc-4a0d-ae91-9e43c69a0d69"
      },
      "source": [
        "x=df['week_of_birth']\n",
        "print(x.dtypes)\n",
        "print(len(x))\n",
        "x.head()"
      ],
      "execution_count": 56,
      "outputs": [
        {
          "output_type": "stream",
          "text": [
            "int64\n",
            "78256\n"
          ],
          "name": "stdout"
        },
        {
          "output_type": "execute_result",
          "data": {
            "text/plain": [
              "0    28\n",
              "1    45\n",
              "2    13\n",
              "3    22\n",
              "4     2\n",
              "Name: week_of_birth, dtype: int64"
            ]
          },
          "metadata": {
            "tags": []
          },
          "execution_count": 56
        }
      ]
    },
    {
      "cell_type": "code",
      "metadata": {
        "id": "shmOdpgLAEzx",
        "colab_type": "code",
        "colab": {
          "base_uri": "https://localhost:8080/",
          "height": 224
        },
        "outputId": "b7010ff0-ebd7-402f-ae73-a13f02574e50"
      },
      "source": [
        "df.nsmallest(3,'year_of_birth')"
      ],
      "execution_count": 58,
      "outputs": [
        {
          "output_type": "execute_result",
          "data": {
            "text/html": [
              "<div>\n",
              "<style scoped>\n",
              "    .dataframe tbody tr th:only-of-type {\n",
              "        vertical-align: middle;\n",
              "    }\n",
              "\n",
              "    .dataframe tbody tr th {\n",
              "        vertical-align: top;\n",
              "    }\n",
              "\n",
              "    .dataframe thead th {\n",
              "        text-align: right;\n",
              "    }\n",
              "</style>\n",
              "<table border=\"1\" class=\"dataframe\">\n",
              "  <thead>\n",
              "    <tr style=\"text-align: right;\">\n",
              "      <th></th>\n",
              "      <th>age_upon_outcome</th>\n",
              "      <th>animal_id</th>\n",
              "      <th>animal_type</th>\n",
              "      <th>breed</th>\n",
              "      <th>color</th>\n",
              "      <th>date_of_birth</th>\n",
              "      <th>datetime</th>\n",
              "      <th>monthyear</th>\n",
              "      <th>name</th>\n",
              "      <th>outcome_subtype</th>\n",
              "      <th>outcome_type</th>\n",
              "      <th>sex_upon_outcome</th>\n",
              "      <th>week_of_birth</th>\n",
              "      <th>month_of_birth</th>\n",
              "      <th>year_of_birth</th>\n",
              "    </tr>\n",
              "  </thead>\n",
              "  <tbody>\n",
              "    <tr>\n",
              "      <th>62915</th>\n",
              "      <td>25 years</td>\n",
              "      <td>A740127</td>\n",
              "      <td>Bird</td>\n",
              "      <td>Cockatoo</td>\n",
              "      <td>White/Orange</td>\n",
              "      <td>1991-12-11</td>\n",
              "      <td>2016-12-16T00:00:00</td>\n",
              "      <td>2016-12-16T00:00:00</td>\n",
              "      <td>Sweet Pea</td>\n",
              "      <td>Partner</td>\n",
              "      <td>Transfer</td>\n",
              "      <td>Intact Female</td>\n",
              "      <td>50</td>\n",
              "      <td>12</td>\n",
              "      <td>1991</td>\n",
              "    </tr>\n",
              "    <tr>\n",
              "      <th>17332</th>\n",
              "      <td>22 years</td>\n",
              "      <td>A682010</td>\n",
              "      <td>Cat</td>\n",
              "      <td>Domestic Shorthair Mix</td>\n",
              "      <td>Seal Point</td>\n",
              "      <td>1992-06-25</td>\n",
              "      <td>2014-06-25T13:26:00</td>\n",
              "      <td>2014-06-25T13:26:00</td>\n",
              "      <td>Babyblueeyes</td>\n",
              "      <td>0</td>\n",
              "      <td>Return to Owner</td>\n",
              "      <td>Neutered Male</td>\n",
              "      <td>26</td>\n",
              "      <td>6</td>\n",
              "      <td>1992</td>\n",
              "    </tr>\n",
              "    <tr>\n",
              "      <th>70895</th>\n",
              "      <td>22 years</td>\n",
              "      <td>A712996</td>\n",
              "      <td>Cat</td>\n",
              "      <td>Siamese Mix</td>\n",
              "      <td>Lilac Point</td>\n",
              "      <td>1993-10-03</td>\n",
              "      <td>2015-10-01T13:46:00</td>\n",
              "      <td>2015-10-01T13:46:00</td>\n",
              "      <td>0</td>\n",
              "      <td>0</td>\n",
              "      <td>Return to Owner</td>\n",
              "      <td>Unknown</td>\n",
              "      <td>39</td>\n",
              "      <td>10</td>\n",
              "      <td>1993</td>\n",
              "    </tr>\n",
              "  </tbody>\n",
              "</table>\n",
              "</div>"
            ],
            "text/plain": [
              "      age_upon_outcome animal_id  ... month_of_birth year_of_birth\n",
              "62915         25 years   A740127  ...             12          1991\n",
              "17332         22 years   A682010  ...              6          1992\n",
              "70895         22 years   A712996  ...             10          1993\n",
              "\n",
              "[3 rows x 15 columns]"
            ]
          },
          "metadata": {
            "tags": []
          },
          "execution_count": 58
        }
      ]
    },
    {
      "cell_type": "code",
      "metadata": {
        "id": "gCWjPfj_AE3g",
        "colab_type": "code",
        "colab": {
          "base_uri": "https://localhost:8080/",
          "height": 207
        },
        "outputId": "3c87a446-947f-43fc-adff-f22152be93d2"
      },
      "source": [
        "df.nlargest(3,'week_of_birth')"
      ],
      "execution_count": 60,
      "outputs": [
        {
          "output_type": "execute_result",
          "data": {
            "text/html": [
              "<div>\n",
              "<style scoped>\n",
              "    .dataframe tbody tr th:only-of-type {\n",
              "        vertical-align: middle;\n",
              "    }\n",
              "\n",
              "    .dataframe tbody tr th {\n",
              "        vertical-align: top;\n",
              "    }\n",
              "\n",
              "    .dataframe thead th {\n",
              "        text-align: right;\n",
              "    }\n",
              "</style>\n",
              "<table border=\"1\" class=\"dataframe\">\n",
              "  <thead>\n",
              "    <tr style=\"text-align: right;\">\n",
              "      <th></th>\n",
              "      <th>age_upon_outcome</th>\n",
              "      <th>animal_id</th>\n",
              "      <th>animal_type</th>\n",
              "      <th>breed</th>\n",
              "      <th>color</th>\n",
              "      <th>date_of_birth</th>\n",
              "      <th>datetime</th>\n",
              "      <th>monthyear</th>\n",
              "      <th>name</th>\n",
              "      <th>outcome_subtype</th>\n",
              "      <th>outcome_type</th>\n",
              "      <th>sex_upon_outcome</th>\n",
              "      <th>week_of_birth</th>\n",
              "      <th>month_of_birth</th>\n",
              "      <th>year_of_birth</th>\n",
              "    </tr>\n",
              "  </thead>\n",
              "  <tbody>\n",
              "    <tr>\n",
              "      <th>140</th>\n",
              "      <td>4 years</td>\n",
              "      <td>A580635</td>\n",
              "      <td>Dog</td>\n",
              "      <td>Boxer/Labrador Retriever</td>\n",
              "      <td>Black/White</td>\n",
              "      <td>2010-01-02</td>\n",
              "      <td>2014-12-01T12:47:00</td>\n",
              "      <td>2014-12-01T12:47:00</td>\n",
              "      <td>Deuce</td>\n",
              "      <td>Partner</td>\n",
              "      <td>Transfer</td>\n",
              "      <td>Neutered Male</td>\n",
              "      <td>53</td>\n",
              "      <td>1</td>\n",
              "      <td>2010</td>\n",
              "    </tr>\n",
              "    <tr>\n",
              "      <th>283</th>\n",
              "      <td>4 years</td>\n",
              "      <td>A664943</td>\n",
              "      <td>Dog</td>\n",
              "      <td>Labrador Retriever Mix</td>\n",
              "      <td>Black</td>\n",
              "      <td>2009-12-31</td>\n",
              "      <td>2014-01-01T19:13:00</td>\n",
              "      <td>2014-01-01T19:13:00</td>\n",
              "      <td>*Leo</td>\n",
              "      <td>0</td>\n",
              "      <td>Adoption</td>\n",
              "      <td>Neutered Male</td>\n",
              "      <td>53</td>\n",
              "      <td>12</td>\n",
              "      <td>2009</td>\n",
              "    </tr>\n",
              "    <tr>\n",
              "      <th>3784</th>\n",
              "      <td>3 years</td>\n",
              "      <td>A664943</td>\n",
              "      <td>Dog</td>\n",
              "      <td>Labrador Retriever Mix</td>\n",
              "      <td>Black</td>\n",
              "      <td>2009-12-31</td>\n",
              "      <td>2013-10-16T17:46:00</td>\n",
              "      <td>2013-10-16T17:46:00</td>\n",
              "      <td>*Leo</td>\n",
              "      <td>0</td>\n",
              "      <td>Adoption</td>\n",
              "      <td>Neutered Male</td>\n",
              "      <td>53</td>\n",
              "      <td>12</td>\n",
              "      <td>2009</td>\n",
              "    </tr>\n",
              "  </tbody>\n",
              "</table>\n",
              "</div>"
            ],
            "text/plain": [
              "     age_upon_outcome animal_id  ... month_of_birth year_of_birth\n",
              "140           4 years   A580635  ...              1          2010\n",
              "283           4 years   A664943  ...             12          2009\n",
              "3784          3 years   A664943  ...             12          2009\n",
              "\n",
              "[3 rows x 15 columns]"
            ]
          },
          "metadata": {
            "tags": []
          },
          "execution_count": 60
        }
      ]
    },
    {
      "cell_type": "markdown",
      "metadata": {
        "id": "J50BanrP7oSL",
        "colab_type": "text"
      },
      "source": [
        "##Saving Dataframe as a csv file"
      ]
    },
    {
      "cell_type": "code",
      "metadata": {
        "id": "BVmGfam-bS8n",
        "colab_type": "code",
        "outputId": "73bdfa87-da12-4ffa-d1c8-f765bbce6ef4",
        "colab": {
          "base_uri": "https://localhost:8080/",
          "height": 34
        }
      },
      "source": [
        "print(\"WRITING TO A FILE\")\n",
        "df.to_csv(\"new_name_of_file.csv\")"
      ],
      "execution_count": 25,
      "outputs": [
        {
          "output_type": "stream",
          "text": [
            "WRITING TO A FILE\n"
          ],
          "name": "stdout"
        }
      ]
    }
  ]
}