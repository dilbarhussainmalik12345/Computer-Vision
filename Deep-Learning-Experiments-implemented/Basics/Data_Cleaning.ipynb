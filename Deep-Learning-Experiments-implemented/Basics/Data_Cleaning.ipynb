{
  "nbformat": 4,
  "nbformat_minor": 0,
  "metadata": {
    "colab": {
      "name": "Data Cleaning.ipynb",
      "provenance": [],
      "toc_visible": true,
      "authorship_tag": "ABX9TyNRbC9s+PV0zLwlh51aAgYQ",
      "include_colab_link": true
    },
    "kernelspec": {
      "name": "python3",
      "display_name": "Python 3"
    }
  },
  "cells": [
    {
      "cell_type": "markdown",
      "metadata": {
        "id": "view-in-github",
        "colab_type": "text"
      },
      "source": [
        "<a href=\"https://colab.research.google.com/github/navneetkrc/Colab_fastai/blob/master/Basics/Data_Cleaning.ipynb\" target=\"_parent\"><img src=\"https://colab.research.google.com/assets/colab-badge.svg\" alt=\"Open In Colab\"/></a>"
      ]
    },
    {
      "cell_type": "markdown",
      "metadata": {
        "id": "YYAKMBFIKscT",
        "colab_type": "text"
      },
      "source": [
        "https://towardsdatascience.com/data-cleaning-in-python-the-ultimate-guide-2020-c63b88bf0a0d"
      ]
    },
    {
      "cell_type": "markdown",
      "metadata": {
        "id": "rnXBeQSfJFyV",
        "colab_type": "text"
      },
      "source": [
        "##Download the dataset"
      ]
    },
    {
      "cell_type": "code",
      "metadata": {
        "id": "BkwcbFhcIvCd",
        "colab_type": "code",
        "colab": {}
      },
      "source": [
        "!wget https://github.com/mjypeng/sberbank/raw/master/train.csv.zip\n",
        "!wget https://github.com/mjypeng/sberbank/raw/master/test.csv.zip"
      ],
      "execution_count": 0,
      "outputs": []
    },
    {
      "cell_type": "code",
      "metadata": {
        "id": "KCFJ-9PzI03M",
        "colab_type": "code",
        "outputId": "e05215ef-ea39-4fe3-f116-eab53d9c9878",
        "colab": {
          "base_uri": "https://localhost:8080/",
          "height": 136
        }
      },
      "source": [
        "!unzip '/content/test.csv.zip'\n",
        "!unzip '/content/train.csv.zip'"
      ],
      "execution_count": 0,
      "outputs": [
        {
          "output_type": "stream",
          "text": [
            "Archive:  /content/test.csv.zip\n",
            "  inflating: test.csv                \n",
            "   creating: __MACOSX/\n",
            "  inflating: __MACOSX/._test.csv     \n",
            "Archive:  /content/train.csv.zip\n",
            "  inflating: train.csv               \n",
            "  inflating: __MACOSX/._train.csv    \n"
          ],
          "name": "stdout"
        }
      ]
    },
    {
      "cell_type": "code",
      "metadata": {
        "id": "hrxslntjJK-I",
        "colab_type": "code",
        "colab": {}
      },
      "source": [
        ""
      ],
      "execution_count": 0,
      "outputs": []
    },
    {
      "cell_type": "markdown",
      "metadata": {
        "id": "qEsw2M8DJLS9",
        "colab_type": "text"
      },
      "source": [
        "##Import Dependencies"
      ]
    },
    {
      "cell_type": "code",
      "metadata": {
        "id": "jKww4Sp7I9ro",
        "colab_type": "code",
        "colab": {}
      },
      "source": [
        "# import packages\n",
        "import pandas as pd\n",
        "import numpy as np\n",
        "import seaborn as sns\n",
        "\n",
        "import matplotlib.pyplot as plt\n",
        "import matplotlib.mlab as mlab\n",
        "import matplotlib\n",
        "plt.style.use('ggplot')\n",
        "from matplotlib.pyplot import figure"
      ],
      "execution_count": 0,
      "outputs": []
    },
    {
      "cell_type": "code",
      "metadata": {
        "id": "PEmtyeehJdBb",
        "colab_type": "code",
        "colab": {}
      },
      "source": [
        "%matplotlib inline\n",
        "matplotlib.rcParams['figure.figsize'] = (12,8)\n",
        "\n",
        "pd.options.mode.chained_assignment = None"
      ],
      "execution_count": 0,
      "outputs": []
    },
    {
      "cell_type": "code",
      "metadata": {
        "id": "Em6uuP2UJc5n",
        "colab_type": "code",
        "outputId": "f3e97087-25fd-440c-d2b7-d3009df96940",
        "colab": {
          "base_uri": "https://localhost:8080/",
          "height": 238
        }
      },
      "source": [
        "# read the data\n",
        "df = pd.read_csv('/content/train.csv')\n",
        "\n",
        "# shape and data types of the data\n",
        "print(df.shape)\n",
        "print(df.dtypes)"
      ],
      "execution_count": 0,
      "outputs": [
        {
          "output_type": "stream",
          "text": [
            "(30471, 292)\n",
            "id                      int64\n",
            "timestamp              object\n",
            "full_sq                 int64\n",
            "life_sq               float64\n",
            "floor                 float64\n",
            "                       ...   \n",
            "mosque_count_5000       int64\n",
            "leisure_count_5000      int64\n",
            "sport_count_5000        int64\n",
            "market_count_5000       int64\n",
            "price_doc               int64\n",
            "Length: 292, dtype: object\n"
          ],
          "name": "stdout"
        }
      ]
    },
    {
      "cell_type": "code",
      "metadata": {
        "id": "TExYry0iJcwj",
        "colab_type": "code",
        "outputId": "c5c374ba-99fe-4987-b15b-04bc6faa56b2",
        "colab": {
          "base_uri": "https://localhost:8080/",
          "height": 1000
        }
      },
      "source": [
        "# select numeric columns\n",
        "df_numeric = df.select_dtypes(include=[np.number])\n",
        "numeric_cols = df_numeric.columns.values\n",
        "print(numeric_cols)"
      ],
      "execution_count": 0,
      "outputs": [
        {
          "output_type": "stream",
          "text": [
            "['id' 'full_sq' 'life_sq' 'floor' 'max_floor' 'material' 'build_year'\n",
            " 'num_room' 'kitch_sq' 'state' 'area_m' 'raion_popul' 'green_zone_part'\n",
            " 'indust_part' 'children_preschool' 'preschool_quota'\n",
            " 'preschool_education_centers_raion' 'children_school' 'school_quota'\n",
            " 'school_education_centers_raion' 'school_education_centers_top_20_raion'\n",
            " 'hospital_beds_raion' 'healthcare_centers_raion'\n",
            " 'university_top_20_raion' 'sport_objects_raion'\n",
            " 'additional_education_raion' 'culture_objects_top_25_raion'\n",
            " 'shopping_centers_raion' 'office_raion' 'full_all' 'male_f' 'female_f'\n",
            " 'young_all' 'young_male' 'young_female' 'work_all' 'work_male'\n",
            " 'work_female' 'ekder_all' 'ekder_male' 'ekder_female' '0_6_all'\n",
            " '0_6_male' '0_6_female' '7_14_all' '7_14_male' '7_14_female' '0_17_all'\n",
            " '0_17_male' '0_17_female' '16_29_all' '16_29_male' '16_29_female'\n",
            " '0_13_all' '0_13_male' '0_13_female'\n",
            " 'raion_build_count_with_material_info' 'build_count_block'\n",
            " 'build_count_wood' 'build_count_frame' 'build_count_brick'\n",
            " 'build_count_monolith' 'build_count_panel' 'build_count_foam'\n",
            " 'build_count_slag' 'build_count_mix'\n",
            " 'raion_build_count_with_builddate_info' 'build_count_before_1920'\n",
            " 'build_count_1921-1945' 'build_count_1946-1970' 'build_count_1971-1995'\n",
            " 'build_count_after_1995' 'ID_metro' 'metro_min_avto' 'metro_km_avto'\n",
            " 'metro_min_walk' 'metro_km_walk' 'kindergarten_km' 'school_km' 'park_km'\n",
            " 'green_zone_km' 'industrial_km' 'water_treatment_km' 'cemetery_km'\n",
            " 'incineration_km' 'railroad_station_walk_km' 'railroad_station_walk_min'\n",
            " 'ID_railroad_station_walk' 'railroad_station_avto_km'\n",
            " 'railroad_station_avto_min' 'ID_railroad_station_avto'\n",
            " 'public_transport_station_km' 'public_transport_station_min_walk'\n",
            " 'water_km' 'mkad_km' 'ttk_km' 'sadovoe_km' 'bulvar_ring_km' 'kremlin_km'\n",
            " 'big_road1_km' 'ID_big_road1' 'big_road2_km' 'ID_big_road2' 'railroad_km'\n",
            " 'zd_vokzaly_avto_km' 'ID_railroad_terminal' 'bus_terminal_avto_km'\n",
            " 'ID_bus_terminal' 'oil_chemistry_km' 'nuclear_reactor_km' 'radiation_km'\n",
            " 'power_transmission_line_km' 'thermal_power_plant_km' 'ts_km'\n",
            " 'big_market_km' 'market_shop_km' 'fitness_km' 'swim_pool_km'\n",
            " 'ice_rink_km' 'stadium_km' 'basketball_km' 'hospice_morgue_km'\n",
            " 'detention_facility_km' 'public_healthcare_km' 'university_km'\n",
            " 'workplaces_km' 'shopping_centers_km' 'office_km'\n",
            " 'additional_education_km' 'preschool_km' 'big_church_km'\n",
            " 'church_synagogue_km' 'mosque_km' 'theater_km' 'museum_km'\n",
            " 'exhibition_km' 'catering_km' 'green_part_500' 'prom_part_500'\n",
            " 'office_count_500' 'office_sqm_500' 'trc_count_500' 'trc_sqm_500'\n",
            " 'cafe_count_500' 'cafe_sum_500_min_price_avg'\n",
            " 'cafe_sum_500_max_price_avg' 'cafe_avg_price_500'\n",
            " 'cafe_count_500_na_price' 'cafe_count_500_price_500'\n",
            " 'cafe_count_500_price_1000' 'cafe_count_500_price_1500'\n",
            " 'cafe_count_500_price_2500' 'cafe_count_500_price_4000'\n",
            " 'cafe_count_500_price_high' 'big_church_count_500' 'church_count_500'\n",
            " 'mosque_count_500' 'leisure_count_500' 'sport_count_500'\n",
            " 'market_count_500' 'green_part_1000' 'prom_part_1000' 'office_count_1000'\n",
            " 'office_sqm_1000' 'trc_count_1000' 'trc_sqm_1000' 'cafe_count_1000'\n",
            " 'cafe_sum_1000_min_price_avg' 'cafe_sum_1000_max_price_avg'\n",
            " 'cafe_avg_price_1000' 'cafe_count_1000_na_price'\n",
            " 'cafe_count_1000_price_500' 'cafe_count_1000_price_1000'\n",
            " 'cafe_count_1000_price_1500' 'cafe_count_1000_price_2500'\n",
            " 'cafe_count_1000_price_4000' 'cafe_count_1000_price_high'\n",
            " 'big_church_count_1000' 'church_count_1000' 'mosque_count_1000'\n",
            " 'leisure_count_1000' 'sport_count_1000' 'market_count_1000'\n",
            " 'green_part_1500' 'prom_part_1500' 'office_count_1500' 'office_sqm_1500'\n",
            " 'trc_count_1500' 'trc_sqm_1500' 'cafe_count_1500'\n",
            " 'cafe_sum_1500_min_price_avg' 'cafe_sum_1500_max_price_avg'\n",
            " 'cafe_avg_price_1500' 'cafe_count_1500_na_price'\n",
            " 'cafe_count_1500_price_500' 'cafe_count_1500_price_1000'\n",
            " 'cafe_count_1500_price_1500' 'cafe_count_1500_price_2500'\n",
            " 'cafe_count_1500_price_4000' 'cafe_count_1500_price_high'\n",
            " 'big_church_count_1500' 'church_count_1500' 'mosque_count_1500'\n",
            " 'leisure_count_1500' 'sport_count_1500' 'market_count_1500'\n",
            " 'green_part_2000' 'prom_part_2000' 'office_count_2000' 'office_sqm_2000'\n",
            " 'trc_count_2000' 'trc_sqm_2000' 'cafe_count_2000'\n",
            " 'cafe_sum_2000_min_price_avg' 'cafe_sum_2000_max_price_avg'\n",
            " 'cafe_avg_price_2000' 'cafe_count_2000_na_price'\n",
            " 'cafe_count_2000_price_500' 'cafe_count_2000_price_1000'\n",
            " 'cafe_count_2000_price_1500' 'cafe_count_2000_price_2500'\n",
            " 'cafe_count_2000_price_4000' 'cafe_count_2000_price_high'\n",
            " 'big_church_count_2000' 'church_count_2000' 'mosque_count_2000'\n",
            " 'leisure_count_2000' 'sport_count_2000' 'market_count_2000'\n",
            " 'green_part_3000' 'prom_part_3000' 'office_count_3000' 'office_sqm_3000'\n",
            " 'trc_count_3000' 'trc_sqm_3000' 'cafe_count_3000'\n",
            " 'cafe_sum_3000_min_price_avg' 'cafe_sum_3000_max_price_avg'\n",
            " 'cafe_avg_price_3000' 'cafe_count_3000_na_price'\n",
            " 'cafe_count_3000_price_500' 'cafe_count_3000_price_1000'\n",
            " 'cafe_count_3000_price_1500' 'cafe_count_3000_price_2500'\n",
            " 'cafe_count_3000_price_4000' 'cafe_count_3000_price_high'\n",
            " 'big_church_count_3000' 'church_count_3000' 'mosque_count_3000'\n",
            " 'leisure_count_3000' 'sport_count_3000' 'market_count_3000'\n",
            " 'green_part_5000' 'prom_part_5000' 'office_count_5000' 'office_sqm_5000'\n",
            " 'trc_count_5000' 'trc_sqm_5000' 'cafe_count_5000'\n",
            " 'cafe_sum_5000_min_price_avg' 'cafe_sum_5000_max_price_avg'\n",
            " 'cafe_avg_price_5000' 'cafe_count_5000_na_price'\n",
            " 'cafe_count_5000_price_500' 'cafe_count_5000_price_1000'\n",
            " 'cafe_count_5000_price_1500' 'cafe_count_5000_price_2500'\n",
            " 'cafe_count_5000_price_4000' 'cafe_count_5000_price_high'\n",
            " 'big_church_count_5000' 'church_count_5000' 'mosque_count_5000'\n",
            " 'leisure_count_5000' 'sport_count_5000' 'market_count_5000' 'price_doc']\n"
          ],
          "name": "stdout"
        }
      ]
    },
    {
      "cell_type": "code",
      "metadata": {
        "id": "zCk6MeMXIM7M",
        "colab_type": "code",
        "outputId": "7837ced7-280c-409d-aa28-ff45dfb9c4e1",
        "colab": {
          "base_uri": "https://localhost:8080/",
          "height": 102
        }
      },
      "source": [
        "# select non numeric columns\n",
        "df_non_numeric = df.select_dtypes(exclude=[np.number])\n",
        "non_numeric_cols = df_non_numeric.columns.values\n",
        "print(non_numeric_cols)"
      ],
      "execution_count": 0,
      "outputs": [
        {
          "output_type": "stream",
          "text": [
            "['timestamp' 'product_type' 'sub_area' 'culture_objects_top_25'\n",
            " 'thermal_power_plant_raion' 'incineration_raion' 'oil_chemistry_raion'\n",
            " 'radiation_raion' 'railroad_terminal_raion' 'big_market_raion'\n",
            " 'nuclear_reactor_raion' 'detention_facility_raion' 'water_1line'\n",
            " 'big_road1_1line' 'railroad_1line' 'ecology']\n"
          ],
          "name": "stdout"
        }
      ]
    },
    {
      "cell_type": "code",
      "metadata": {
        "id": "JKVuqliBJUe9",
        "colab_type": "code",
        "colab": {}
      },
      "source": [
        ""
      ],
      "execution_count": 0,
      "outputs": []
    },
    {
      "cell_type": "markdown",
      "metadata": {
        "id": "G6crGHFbKA3W",
        "colab_type": "text"
      },
      "source": [
        "##Handling Missing data"
      ]
    },
    {
      "cell_type": "markdown",
      "metadata": {
        "id": "GWr_R_gMwYkB",
        "colab_type": "text"
      },
      "source": [
        "###Technique #1: Missing Data Heatmap"
      ]
    },
    {
      "cell_type": "code",
      "metadata": {
        "id": "BYhEz1SYKErA",
        "colab_type": "code",
        "outputId": "71589570-13fb-4920-e644-29b82a7b6792",
        "colab": {
          "base_uri": "https://localhost:8080/",
          "height": 692
        }
      },
      "source": [
        "cols = df.columns[:30] # first 30 columns\n",
        "colours = ['#000099', '#ffff00'] # specify the colours - yellow is missing. blue is not missing.\n",
        "sns.heatmap(df[cols].isnull(), cmap=sns.color_palette(colours))"
      ],
      "execution_count": 0,
      "outputs": [
        {
          "output_type": "execute_result",
          "data": {
            "text/plain": [
              "<matplotlib.axes._subplots.AxesSubplot at 0x7faf12084eb8>"
            ]
          },
          "metadata": {
            "tags": []
          },
          "execution_count": 11
        },
        {
          "output_type": "display_data",
          "data": {
            "image/png": "[encoded data removed]",
            "text/plain": [
              "<Figure size 864x576 with 2 Axes>"
            ]
          },
          "metadata": {
            "tags": []
          }
        }
      ]
    },
    {
      "cell_type": "markdown",
      "metadata": {
        "id": "SmMbsGzYKYVR",
        "colab_type": "text"
      },
      "source": [
        "The chart above demonstrates the missing data patterns of the first 30 features. The horizontal axis shows the feature name; the vertical axis shows the number of observations/rows; the yellow color represents the missing data while the blue color otherwise."
      ]
    },
    {
      "cell_type": "markdown",
      "metadata": {
        "id": "A7Hc7kPfKq_Q",
        "colab_type": "text"
      },
      "source": [
        "###Technique #2: Missing Data Percentage List"
      ]
    },
    {
      "cell_type": "code",
      "metadata": {
        "id": "FQWVI01yKEu6",
        "colab_type": "code",
        "outputId": "332a316a-f292-47a3-da51-a9d26de0d16d",
        "colab": {
          "base_uri": "https://localhost:8080/",
          "height": 1000
        }
      },
      "source": [
        "# if it's a larger dataset and the visualization takes too long can do this.\n",
        "# % of missing.\n",
        "for col in df.columns:\n",
        "    pct_missing = np.mean(df[col].isnull())\n",
        "    print('{} - {}%'.format(col, round(pct_missing*100)))"
      ],
      "execution_count": 0,
      "outputs": [
        {
          "output_type": "stream",
          "text": [
            "id - 0.0%\n",
            "timestamp - 0.0%\n",
            "full_sq - 0.0%\n",
            "life_sq - 21.0%\n",
            "floor - 1.0%\n",
            "max_floor - 31.0%\n",
            "material - 31.0%\n",
            "build_year - 45.0%\n",
            "num_room - 31.0%\n",
            "kitch_sq - 31.0%\n",
            "state - 44.0%\n",
            "product_type - 0.0%\n",
            "sub_area - 0.0%\n",
            "area_m - 0.0%\n",
            "raion_popul - 0.0%\n",
            "green_zone_part - 0.0%\n",
            "indust_part - 0.0%\n",
            "children_preschool - 0.0%\n",
            "preschool_quota - 22.0%\n",
            "preschool_education_centers_raion - 0.0%\n",
            "children_school - 0.0%\n",
            "school_quota - 22.0%\n",
            "school_education_centers_raion - 0.0%\n",
            "school_education_centers_top_20_raion - 0.0%\n",
            "hospital_beds_raion - 47.0%\n",
            "healthcare_centers_raion - 0.0%\n",
            "university_top_20_raion - 0.0%\n",
            "sport_objects_raion - 0.0%\n",
            "additional_education_raion - 0.0%\n",
            "culture_objects_top_25 - 0.0%\n",
            "culture_objects_top_25_raion - 0.0%\n",
            "shopping_centers_raion - 0.0%\n",
            "office_raion - 0.0%\n",
            "thermal_power_plant_raion - 0.0%\n",
            "incineration_raion - 0.0%\n",
            "oil_chemistry_raion - 0.0%\n",
            "radiation_raion - 0.0%\n",
            "railroad_terminal_raion - 0.0%\n",
            "big_market_raion - 0.0%\n",
            "nuclear_reactor_raion - 0.0%\n",
            "detention_facility_raion - 0.0%\n",
            "full_all - 0.0%\n",
            "male_f - 0.0%\n",
            "female_f - 0.0%\n",
            "young_all - 0.0%\n",
            "young_male - 0.0%\n",
            "young_female - 0.0%\n",
            "work_all - 0.0%\n",
            "work_male - 0.0%\n",
            "work_female - 0.0%\n",
            "ekder_all - 0.0%\n",
            "ekder_male - 0.0%\n",
            "ekder_female - 0.0%\n",
            "0_6_all - 0.0%\n",
            "0_6_male - 0.0%\n",
            "0_6_female - 0.0%\n",
            "7_14_all - 0.0%\n",
            "7_14_male - 0.0%\n",
            "7_14_female - 0.0%\n",
            "0_17_all - 0.0%\n",
            "0_17_male - 0.0%\n",
            "0_17_female - 0.0%\n",
            "16_29_all - 0.0%\n",
            "16_29_male - 0.0%\n",
            "16_29_female - 0.0%\n",
            "0_13_all - 0.0%\n",
            "0_13_male - 0.0%\n",
            "0_13_female - 0.0%\n",
            "raion_build_count_with_material_info - 16.0%\n",
            "build_count_block - 16.0%\n",
            "build_count_wood - 16.0%\n",
            "build_count_frame - 16.0%\n",
            "build_count_brick - 16.0%\n",
            "build_count_monolith - 16.0%\n",
            "build_count_panel - 16.0%\n",
            "build_count_foam - 16.0%\n",
            "build_count_slag - 16.0%\n",
            "build_count_mix - 16.0%\n",
            "raion_build_count_with_builddate_info - 16.0%\n",
            "build_count_before_1920 - 16.0%\n",
            "build_count_1921-1945 - 16.0%\n",
            "build_count_1946-1970 - 16.0%\n",
            "build_count_1971-1995 - 16.0%\n",
            "build_count_after_1995 - 16.0%\n",
            "ID_metro - 0.0%\n",
            "metro_min_avto - 0.0%\n",
            "metro_km_avto - 0.0%\n",
            "metro_min_walk - 0.0%\n",
            "metro_km_walk - 0.0%\n",
            "kindergarten_km - 0.0%\n",
            "school_km - 0.0%\n",
            "park_km - 0.0%\n",
            "green_zone_km - 0.0%\n",
            "industrial_km - 0.0%\n",
            "water_treatment_km - 0.0%\n",
            "cemetery_km - 0.0%\n",
            "incineration_km - 0.0%\n",
            "railroad_station_walk_km - 0.0%\n",
            "railroad_station_walk_min - 0.0%\n",
            "ID_railroad_station_walk - 0.0%\n",
            "railroad_station_avto_km - 0.0%\n",
            "railroad_station_avto_min - 0.0%\n",
            "ID_railroad_station_avto - 0.0%\n",
            "public_transport_station_km - 0.0%\n",
            "public_transport_station_min_walk - 0.0%\n",
            "water_km - 0.0%\n",
            "water_1line - 0.0%\n",
            "mkad_km - 0.0%\n",
            "ttk_km - 0.0%\n",
            "sadovoe_km - 0.0%\n",
            "bulvar_ring_km - 0.0%\n",
            "kremlin_km - 0.0%\n",
            "big_road1_km - 0.0%\n",
            "ID_big_road1 - 0.0%\n",
            "big_road1_1line - 0.0%\n",
            "big_road2_km - 0.0%\n",
            "ID_big_road2 - 0.0%\n",
            "railroad_km - 0.0%\n",
            "railroad_1line - 0.0%\n",
            "zd_vokzaly_avto_km - 0.0%\n",
            "ID_railroad_terminal - 0.0%\n",
            "bus_terminal_avto_km - 0.0%\n",
            "ID_bus_terminal - 0.0%\n",
            "oil_chemistry_km - 0.0%\n",
            "nuclear_reactor_km - 0.0%\n",
            "radiation_km - 0.0%\n",
            "power_transmission_line_km - 0.0%\n",
            "thermal_power_plant_km - 0.0%\n",
            "ts_km - 0.0%\n",
            "big_market_km - 0.0%\n",
            "market_shop_km - 0.0%\n",
            "fitness_km - 0.0%\n",
            "swim_pool_km - 0.0%\n",
            "ice_rink_km - 0.0%\n",
            "stadium_km - 0.0%\n",
            "basketball_km - 0.0%\n",
            "hospice_morgue_km - 0.0%\n",
            "detention_facility_km - 0.0%\n",
            "public_healthcare_km - 0.0%\n",
            "university_km - 0.0%\n",
            "workplaces_km - 0.0%\n",
            "shopping_centers_km - 0.0%\n",
            "office_km - 0.0%\n",
            "additional_education_km - 0.0%\n",
            "preschool_km - 0.0%\n",
            "big_church_km - 0.0%\n",
            "church_synagogue_km - 0.0%\n",
            "mosque_km - 0.0%\n",
            "theater_km - 0.0%\n",
            "museum_km - 0.0%\n",
            "exhibition_km - 0.0%\n",
            "catering_km - 0.0%\n",
            "ecology - 0.0%\n",
            "green_part_500 - 0.0%\n",
            "prom_part_500 - 0.0%\n",
            "office_count_500 - 0.0%\n",
            "office_sqm_500 - 0.0%\n",
            "trc_count_500 - 0.0%\n",
            "trc_sqm_500 - 0.0%\n",
            "cafe_count_500 - 0.0%\n",
            "cafe_sum_500_min_price_avg - 44.0%\n",
            "cafe_sum_500_max_price_avg - 44.0%\n",
            "cafe_avg_price_500 - 44.0%\n",
            "cafe_count_500_na_price - 0.0%\n",
            "cafe_count_500_price_500 - 0.0%\n",
            "cafe_count_500_price_1000 - 0.0%\n",
            "cafe_count_500_price_1500 - 0.0%\n",
            "cafe_count_500_price_2500 - 0.0%\n",
            "cafe_count_500_price_4000 - 0.0%\n",
            "cafe_count_500_price_high - 0.0%\n",
            "big_church_count_500 - 0.0%\n",
            "church_count_500 - 0.0%\n",
            "mosque_count_500 - 0.0%\n",
            "leisure_count_500 - 0.0%\n",
            "sport_count_500 - 0.0%\n",
            "market_count_500 - 0.0%\n",
            "green_part_1000 - 0.0%\n",
            "prom_part_1000 - 0.0%\n",
            "office_count_1000 - 0.0%\n",
            "office_sqm_1000 - 0.0%\n",
            "trc_count_1000 - 0.0%\n",
            "trc_sqm_1000 - 0.0%\n",
            "cafe_count_1000 - 0.0%\n",
            "cafe_sum_1000_min_price_avg - 21.0%\n",
            "cafe_sum_1000_max_price_avg - 21.0%\n",
            "cafe_avg_price_1000 - 21.0%\n",
            "cafe_count_1000_na_price - 0.0%\n",
            "cafe_count_1000_price_500 - 0.0%\n",
            "cafe_count_1000_price_1000 - 0.0%\n",
            "cafe_count_1000_price_1500 - 0.0%\n",
            "cafe_count_1000_price_2500 - 0.0%\n",
            "cafe_count_1000_price_4000 - 0.0%\n",
            "cafe_count_1000_price_high - 0.0%\n",
            "big_church_count_1000 - 0.0%\n",
            "church_count_1000 - 0.0%\n",
            "mosque_count_1000 - 0.0%\n",
            "leisure_count_1000 - 0.0%\n",
            "sport_count_1000 - 0.0%\n",
            "market_count_1000 - 0.0%\n",
            "green_part_1500 - 0.0%\n",
            "prom_part_1500 - 0.0%\n",
            "office_count_1500 - 0.0%\n",
            "office_sqm_1500 - 0.0%\n",
            "trc_count_1500 - 0.0%\n",
            "trc_sqm_1500 - 0.0%\n",
            "cafe_count_1500 - 0.0%\n",
            "cafe_sum_1500_min_price_avg - 14.0%\n",
            "cafe_sum_1500_max_price_avg - 14.0%\n",
            "cafe_avg_price_1500 - 14.0%\n",
            "cafe_count_1500_na_price - 0.0%\n",
            "cafe_count_1500_price_500 - 0.0%\n",
            "cafe_count_1500_price_1000 - 0.0%\n",
            "cafe_count_1500_price_1500 - 0.0%\n",
            "cafe_count_1500_price_2500 - 0.0%\n",
            "cafe_count_1500_price_4000 - 0.0%\n",
            "cafe_count_1500_price_high - 0.0%\n",
            "big_church_count_1500 - 0.0%\n",
            "church_count_1500 - 0.0%\n",
            "mosque_count_1500 - 0.0%\n",
            "leisure_count_1500 - 0.0%\n",
            "sport_count_1500 - 0.0%\n",
            "market_count_1500 - 0.0%\n",
            "green_part_2000 - 0.0%\n",
            "prom_part_2000 - 0.0%\n",
            "office_count_2000 - 0.0%\n",
            "office_sqm_2000 - 0.0%\n",
            "trc_count_2000 - 0.0%\n",
            "trc_sqm_2000 - 0.0%\n",
            "cafe_count_2000 - 0.0%\n",
            "cafe_sum_2000_min_price_avg - 6.0%\n",
            "cafe_sum_2000_max_price_avg - 6.0%\n",
            "cafe_avg_price_2000 - 6.0%\n",
            "cafe_count_2000_na_price - 0.0%\n",
            "cafe_count_2000_price_500 - 0.0%\n",
            "cafe_count_2000_price_1000 - 0.0%\n",
            "cafe_count_2000_price_1500 - 0.0%\n",
            "cafe_count_2000_price_2500 - 0.0%\n",
            "cafe_count_2000_price_4000 - 0.0%\n",
            "cafe_count_2000_price_high - 0.0%\n",
            "big_church_count_2000 - 0.0%\n",
            "church_count_2000 - 0.0%\n",
            "mosque_count_2000 - 0.0%\n",
            "leisure_count_2000 - 0.0%\n",
            "sport_count_2000 - 0.0%\n",
            "market_count_2000 - 0.0%\n",
            "green_part_3000 - 0.0%\n",
            "prom_part_3000 - 0.0%\n",
            "office_count_3000 - 0.0%\n",
            "office_sqm_3000 - 0.0%\n",
            "trc_count_3000 - 0.0%\n",
            "trc_sqm_3000 - 0.0%\n",
            "cafe_count_3000 - 0.0%\n",
            "cafe_sum_3000_min_price_avg - 3.0%\n",
            "cafe_sum_3000_max_price_avg - 3.0%\n",
            "cafe_avg_price_3000 - 3.0%\n",
            "cafe_count_3000_na_price - 0.0%\n",
            "cafe_count_3000_price_500 - 0.0%\n",
            "cafe_count_3000_price_1000 - 0.0%\n",
            "cafe_count_3000_price_1500 - 0.0%\n",
            "cafe_count_3000_price_2500 - 0.0%\n",
            "cafe_count_3000_price_4000 - 0.0%\n",
            "cafe_count_3000_price_high - 0.0%\n",
            "big_church_count_3000 - 0.0%\n",
            "church_count_3000 - 0.0%\n",
            "mosque_count_3000 - 0.0%\n",
            "leisure_count_3000 - 0.0%\n",
            "sport_count_3000 - 0.0%\n",
            "market_count_3000 - 0.0%\n",
            "green_part_5000 - 0.0%\n",
            "prom_part_5000 - 1.0%\n",
            "office_count_5000 - 0.0%\n",
            "office_sqm_5000 - 0.0%\n",
            "trc_count_5000 - 0.0%\n",
            "trc_sqm_5000 - 0.0%\n",
            "cafe_count_5000 - 0.0%\n",
            "cafe_sum_5000_min_price_avg - 1.0%\n",
            "cafe_sum_5000_max_price_avg - 1.0%\n",
            "cafe_avg_price_5000 - 1.0%\n",
            "cafe_count_5000_na_price - 0.0%\n",
            "cafe_count_5000_price_500 - 0.0%\n",
            "cafe_count_5000_price_1000 - 0.0%\n",
            "cafe_count_5000_price_1500 - 0.0%\n",
            "cafe_count_5000_price_2500 - 0.0%\n",
            "cafe_count_5000_price_4000 - 0.0%\n",
            "cafe_count_5000_price_high - 0.0%\n",
            "big_church_count_5000 - 0.0%\n",
            "church_count_5000 - 0.0%\n",
            "mosque_count_5000 - 0.0%\n",
            "leisure_count_5000 - 0.0%\n",
            "sport_count_5000 - 0.0%\n",
            "market_count_5000 - 0.0%\n",
            "price_doc - 0.0%\n"
          ],
          "name": "stdout"
        }
      ]
    },
    {
      "cell_type": "markdown",
      "metadata": {
        "id": "-nrpbSRoLGIO",
        "colab_type": "text"
      },
      "source": [
        "Specifically, we see that the life_sq feature has 21% missing, while floor has only 1% missing. This list is a useful summary that can complement the heatmap visualization."
      ]
    },
    {
      "cell_type": "markdown",
      "metadata": {
        "id": "kO-fv2oJLKLC",
        "colab_type": "text"
      },
      "source": [
        "###Technique #3: Missing Data Histogram"
      ]
    },
    {
      "cell_type": "code",
      "metadata": {
        "id": "jr_hwwwnK9ja",
        "colab_type": "code",
        "outputId": "cf3fd844-3bdb-409f-8633-02eaf491b143",
        "colab": {
          "base_uri": "https://localhost:8080/",
          "height": 1000
        }
      },
      "source": [
        "# first create missing indicator for features with missing data\n",
        "for col in df.columns:\n",
        "    missing = df[col].isnull()\n",
        "    num_missing = np.sum(missing)\n",
        "    \n",
        "    if num_missing > 0:  \n",
        "        print('created missing indicator for: {}'.format(col))\n",
        "        df['{}_ismissing'.format(col)] = missing\n",
        "\n",
        "\n",
        "# then based on the indicator, plot the histogram of missing values\n",
        "ismissing_cols = [col for col in df.columns if 'ismissing' in col]\n",
        "df['num_missing'] = df[ismissing_cols].sum(axis=1)\n",
        "\n",
        "df['num_missing'].value_counts().reset_index().sort_values(by='index').plot.bar(x='index', y='num_missing')\n"
      ],
      "execution_count": 0,
      "outputs": [
        {
          "output_type": "stream",
          "text": [
            "created missing indicator for: life_sq\n",
            "created missing indicator for: floor\n",
            "created missing indicator for: max_floor\n",
            "created missing indicator for: material\n",
            "created missing indicator for: build_year\n",
            "created missing indicator for: num_room\n",
            "created missing indicator for: kitch_sq\n",
            "created missing indicator for: state\n",
            "created missing indicator for: preschool_quota\n",
            "created missing indicator for: school_quota\n",
            "created missing indicator for: hospital_beds_raion\n",
            "created missing indicator for: raion_build_count_with_material_info\n",
            "created missing indicator for: build_count_block\n",
            "created missing indicator for: build_count_wood\n",
            "created missing indicator for: build_count_frame\n",
            "created missing indicator for: build_count_brick\n",
            "created missing indicator for: build_count_monolith\n",
            "created missing indicator for: build_count_panel\n",
            "created missing indicator for: build_count_foam\n",
            "created missing indicator for: build_count_slag\n",
            "created missing indicator for: build_count_mix\n",
            "created missing indicator for: raion_build_count_with_builddate_info\n",
            "created missing indicator for: build_count_before_1920\n",
            "created missing indicator for: build_count_1921-1945\n",
            "created missing indicator for: build_count_1946-1970\n",
            "created missing indicator for: build_count_1971-1995\n",
            "created missing indicator for: build_count_after_1995\n",
            "created missing indicator for: metro_min_walk\n",
            "created missing indicator for: metro_km_walk\n",
            "created missing indicator for: railroad_station_walk_km\n",
            "created missing indicator for: railroad_station_walk_min\n",
            "created missing indicator for: ID_railroad_station_walk\n",
            "created missing indicator for: cafe_sum_500_min_price_avg\n",
            "created missing indicator for: cafe_sum_500_max_price_avg\n",
            "created missing indicator for: cafe_avg_price_500\n",
            "created missing indicator for: cafe_sum_1000_min_price_avg\n",
            "created missing indicator for: cafe_sum_1000_max_price_avg\n",
            "created missing indicator for: cafe_avg_price_1000\n",
            "created missing indicator for: cafe_sum_1500_min_price_avg\n",
            "created missing indicator for: cafe_sum_1500_max_price_avg\n",
            "created missing indicator for: cafe_avg_price_1500\n",
            "created missing indicator for: cafe_sum_2000_min_price_avg\n",
            "created missing indicator for: cafe_sum_2000_max_price_avg\n",
            "created missing indicator for: cafe_avg_price_2000\n",
            "created missing indicator for: cafe_sum_3000_min_price_avg\n",
            "created missing indicator for: cafe_sum_3000_max_price_avg\n",
            "created missing indicator for: cafe_avg_price_3000\n",
            "created missing indicator for: prom_part_5000\n",
            "created missing indicator for: cafe_sum_5000_min_price_avg\n",
            "created missing indicator for: cafe_sum_5000_max_price_avg\n",
            "created missing indicator for: cafe_avg_price_5000\n"
          ],
          "name": "stdout"
        },
        {
          "output_type": "execute_result",
          "data": {
            "text/plain": [
              "<matplotlib.axes._subplots.AxesSubplot at 0x7faf0e00a160>"
            ]
          },
          "metadata": {
            "tags": []
          },
          "execution_count": 13
        },
        {
          "output_type": "display_data",
          "data": {
            "image/png": "[encoded data removed]",
            "text/plain": [
              "<Figure size 864x576 with 1 Axes>"
            ]
          },
          "metadata": {
            "tags": []
          }
        }
      ]
    },
    {
      "cell_type": "markdown",
      "metadata": {
        "id": "T4NcIdUqLXY8",
        "colab_type": "text"
      },
      "source": [
        "This histogram helps to identify the missing values situations among the 30,471 observations.\n",
        "For example, there are over 6000 observations with no missing values and close to 4000 observations with one missing value."
      ]
    },
    {
      "cell_type": "markdown",
      "metadata": {
        "id": "2POHoSkdLXKw",
        "colab_type": "text"
      },
      "source": [
        "### Solution #1: Drop the Observation"
      ]
    },
    {
      "cell_type": "code",
      "metadata": {
        "id": "JuqLuIQ7LNQg",
        "colab_type": "code",
        "colab": {}
      },
      "source": [
        "# drop rows with a lot of missing values.\n",
        "ind_missing = df[df['num_missing'] > 35].index\n",
        "df_less_missing_rows = df.drop(ind_missing, axis=0)"
      ],
      "execution_count": 0,
      "outputs": []
    },
    {
      "cell_type": "markdown",
      "metadata": {
        "id": "cUcT2YXOLkXd",
        "colab_type": "text"
      },
      "source": [
        "###Solution #2: Drop the Feature"
      ]
    },
    {
      "cell_type": "code",
      "metadata": {
        "id": "MryVQrttLkM9",
        "colab_type": "code",
        "colab": {}
      },
      "source": [
        "# hospital_beds_raion has a lot of missing.\n",
        "# If we want to drop.\n",
        "cols_to_drop = ['hospital_beds_raion']\n",
        "df_less_hos_beds_raion = df.drop(cols_to_drop, axis=1)"
      ],
      "execution_count": 0,
      "outputs": []
    },
    {
      "cell_type": "markdown",
      "metadata": {
        "id": "r72U-y_TLkB1",
        "colab_type": "text"
      },
      "source": [
        "###Solution #3: Impute the Missing\n",
        "\n",
        "\n",
        "When the feature is a numeric variable, we can conduct missing data imputation. We replace the missing values with the average or median value from the data of the same feature that is not missing.\n",
        "When the feature is a categorical variable, we may impute the missing data by the mode (the most frequent value).\n",
        "Using life_sq as an example, we can replace the missing values of this feature by its median."
      ]
    },
    {
      "cell_type": "code",
      "metadata": {
        "id": "flfYFfTyLj2h",
        "colab_type": "code",
        "outputId": "c145ef34-aa4a-4cb4-9c53-cb09c48fe6af",
        "colab": {
          "base_uri": "https://localhost:8080/",
          "height": 34
        }
      },
      "source": [
        "# replace missing values with the median.\n",
        "med = df['life_sq'].median()\n",
        "print(med)\n",
        "df['life_sq'] = df['life_sq'].fillna(med)"
      ],
      "execution_count": 0,
      "outputs": [
        {
          "output_type": "stream",
          "text": [
            "30.0\n"
          ],
          "name": "stdout"
        }
      ]
    },
    {
      "cell_type": "code",
      "metadata": {
        "id": "4PrxWNcFL9OF",
        "colab_type": "code",
        "outputId": "0eca7e0b-625e-4b68-e12c-326d44496647",
        "colab": {
          "base_uri": "https://localhost:8080/",
          "height": 867
        }
      },
      "source": [
        "# impute the missing values and create the missing value indicator variables for each numeric column.\n",
        "df_numeric = df.select_dtypes(include=[np.number])\n",
        "numeric_cols = df_numeric.columns.values\n",
        "\n",
        "for col in numeric_cols:\n",
        "    missing = df[col].isnull()\n",
        "    num_missing = np.sum(missing)\n",
        "    \n",
        "    if num_missing > 0:  # only do the imputation for the columns that have missing values.\n",
        "        print('imputing missing values for: {}'.format(col))\n",
        "        df['{}_ismissing'.format(col)] = missing\n",
        "        med = df[col].median()\n",
        "        df[col] = df[col].fillna(med)"
      ],
      "execution_count": 0,
      "outputs": [
        {
          "output_type": "stream",
          "text": [
            "imputing missing values for: floor\n",
            "imputing missing values for: max_floor\n",
            "imputing missing values for: material\n",
            "imputing missing values for: build_year\n",
            "imputing missing values for: num_room\n",
            "imputing missing values for: kitch_sq\n",
            "imputing missing values for: state\n",
            "imputing missing values for: preschool_quota\n",
            "imputing missing values for: school_quota\n",
            "imputing missing values for: hospital_beds_raion\n",
            "imputing missing values for: raion_build_count_with_material_info\n",
            "imputing missing values for: build_count_block\n",
            "imputing missing values for: build_count_wood\n",
            "imputing missing values for: build_count_frame\n",
            "imputing missing values for: build_count_brick\n",
            "imputing missing values for: build_count_monolith\n",
            "imputing missing values for: build_count_panel\n",
            "imputing missing values for: build_count_foam\n",
            "imputing missing values for: build_count_slag\n",
            "imputing missing values for: build_count_mix\n",
            "imputing missing values for: raion_build_count_with_builddate_info\n",
            "imputing missing values for: build_count_before_1920\n",
            "imputing missing values for: build_count_1921-1945\n",
            "imputing missing values for: build_count_1946-1970\n",
            "imputing missing values for: build_count_1971-1995\n",
            "imputing missing values for: build_count_after_1995\n",
            "imputing missing values for: metro_min_walk\n",
            "imputing missing values for: metro_km_walk\n",
            "imputing missing values for: railroad_station_walk_km\n",
            "imputing missing values for: railroad_station_walk_min\n",
            "imputing missing values for: ID_railroad_station_walk\n",
            "imputing missing values for: cafe_sum_500_min_price_avg\n",
            "imputing missing values for: cafe_sum_500_max_price_avg\n",
            "imputing missing values for: cafe_avg_price_500\n",
            "imputing missing values for: cafe_sum_1000_min_price_avg\n",
            "imputing missing values for: cafe_sum_1000_max_price_avg\n",
            "imputing missing values for: cafe_avg_price_1000\n",
            "imputing missing values for: cafe_sum_1500_min_price_avg\n",
            "imputing missing values for: cafe_sum_1500_max_price_avg\n",
            "imputing missing values for: cafe_avg_price_1500\n",
            "imputing missing values for: cafe_sum_2000_min_price_avg\n",
            "imputing missing values for: cafe_sum_2000_max_price_avg\n",
            "imputing missing values for: cafe_avg_price_2000\n",
            "imputing missing values for: cafe_sum_3000_min_price_avg\n",
            "imputing missing values for: cafe_sum_3000_max_price_avg\n",
            "imputing missing values for: cafe_avg_price_3000\n",
            "imputing missing values for: prom_part_5000\n",
            "imputing missing values for: cafe_sum_5000_min_price_avg\n",
            "imputing missing values for: cafe_sum_5000_max_price_avg\n",
            "imputing missing values for: cafe_avg_price_5000\n"
          ],
          "name": "stdout"
        }
      ]
    },
    {
      "cell_type": "markdown",
      "metadata": {
        "id": "x1si6bclLjrm",
        "colab_type": "text"
      },
      "source": [
        "###Imputation STrategy for Categorical Variable\n",
        "\n",
        "Luckily, our dataset has no missing value for categorical features. Yet, we can apply the mode imputation strategy for all the categorical features at once."
      ]
    },
    {
      "cell_type": "code",
      "metadata": {
        "id": "buYmnBxELjb7",
        "colab_type": "code",
        "colab": {}
      },
      "source": [
        "# impute the missing values and create the missing value indicator variables for each non-numeric column.\n",
        "df_non_numeric = df.select_dtypes(exclude=[np.number])\n",
        "non_numeric_cols = df_non_numeric.columns.values\n",
        "\n",
        "for col in non_numeric_cols:\n",
        "    missing = df[col].isnull()\n",
        "    num_missing = np.sum(missing)\n",
        "    \n",
        "    if num_missing > 0:  # only do the imputation for the columns that have missing values.\n",
        "        print('imputing missing values for: {}'.format(col))\n",
        "        df['{}_ismissing'.format(col)] = missing\n",
        "        \n",
        "        top = df[col].describe()['top'] # impute with the most frequent value.\n",
        "        df[col] = df[col].fillna(top)"
      ],
      "execution_count": 0,
      "outputs": []
    },
    {
      "cell_type": "markdown",
      "metadata": {
        "id": "eyzEPF2OLjJO",
        "colab_type": "text"
      },
      "source": [
        "###Solution #4: Replace the Missing\n",
        "\n",
        "For categorical features, we can add a new category with a value such as “_MISSING_”. For numerical features, we can replace it with a particular value such as -999.\n",
        "This way, we are still keeping the missing values as valuable information."
      ]
    },
    {
      "cell_type": "code",
      "metadata": {
        "id": "2ljN26EzMY_V",
        "colab_type": "code",
        "colab": {}
      },
      "source": [
        "# categorical\n",
        "df['sub_area'] = df['sub_area'].fillna('_MISSING_')\n",
        "\n",
        "\n",
        "# numeric\n",
        "df['life_sq'] = df['life_sq'].fillna(-999)"
      ],
      "execution_count": 0,
      "outputs": []
    },
    {
      "cell_type": "markdown",
      "metadata": {
        "id": "ZpjsXFy9Mf6f",
        "colab_type": "text"
      },
      "source": [
        "##Irregular data (Outliers)\n",
        "\n",
        "Outliers are data that is distinctively different from other observations. They could be real outliers or mistakes."
      ]
    },
    {
      "cell_type": "markdown",
      "metadata": {
        "id": "gJJ56V97Mf_a",
        "colab_type": "text"
      },
      "source": [
        "###Technique #1: Histogram/Box Plot\n",
        "\n",
        "\n",
        "When the feature is numeric, we can use a histogram and box plot to detect outliers.\n",
        "Below is the histogram of feature life_sq."
      ]
    },
    {
      "cell_type": "code",
      "metadata": {
        "id": "vU6IPYS_MbQa",
        "colab_type": "code",
        "outputId": "6e383089-c897-4cf3-9a28-2d5c637cbe0f",
        "colab": {
          "base_uri": "https://localhost:8080/",
          "height": 500
        }
      },
      "source": [
        "# histogram of life_sq.\n",
        "df['life_sq'].hist(bins=100)"
      ],
      "execution_count": 0,
      "outputs": [
        {
          "output_type": "execute_result",
          "data": {
            "text/plain": [
              "<matplotlib.axes._subplots.AxesSubplot at 0x7faf0deea9e8>"
            ]
          },
          "metadata": {
            "tags": []
          },
          "execution_count": 20
        },
        {
          "output_type": "display_data",
          "data": {
            "image/png": "[encoded data removed]",
            "text/plain": [
              "<Figure size 864x576 with 1 Axes>"
            ]
          },
          "metadata": {
            "tags": []
          }
        }
      ]
    },
    {
      "cell_type": "code",
      "metadata": {
        "id": "D0hml6bDM5m0",
        "colab_type": "code",
        "outputId": "28476ddc-6f57-4ba2-bb62-c53db367eaa9",
        "colab": {
          "base_uri": "https://localhost:8080/",
          "height": 501
        }
      },
      "source": [
        "#To study the feature closer, let’s make a box plot.\n",
        "# box plot.\n",
        "df.boxplot(column=['life_sq'])"
      ],
      "execution_count": 0,
      "outputs": [
        {
          "output_type": "execute_result",
          "data": {
            "text/plain": [
              "<matplotlib.axes._subplots.AxesSubplot at 0x7faf0dcade10>"
            ]
          },
          "metadata": {
            "tags": []
          },
          "execution_count": 22
        },
        {
          "output_type": "display_data",
          "data": {
            "image/png": "[encoded data removed]",
            "text/plain": [
              "<Figure size 864x576 with 1 Axes>"
            ]
          },
          "metadata": {
            "tags": []
          }
        }
      ]
    },
    {
      "cell_type": "markdown",
      "metadata": {
        "id": "4mN-Q4o7NIoP",
        "colab_type": "text"
      },
      "source": [
        "In this plot, we can see there is an outlier at a value of over 7000.\n"
      ]
    },
    {
      "cell_type": "markdown",
      "metadata": {
        "id": "bGEZUuoNMgD6",
        "colab_type": "text"
      },
      "source": [
        "###Technique #2: Descriptive Statistics"
      ]
    },
    {
      "cell_type": "code",
      "metadata": {
        "id": "KHj3Y8QYM5rl",
        "colab_type": "code",
        "outputId": "65b1c6d4-3f07-481e-beb1-33d1051ac8de",
        "colab": {
          "base_uri": "https://localhost:8080/",
          "height": 170
        }
      },
      "source": [
        "\n",
        "df['life_sq'].describe()"
      ],
      "execution_count": 0,
      "outputs": [
        {
          "output_type": "execute_result",
          "data": {
            "text/plain": [
              "count    30471.000000\n",
              "mean        33.480883\n",
              "std         46.522251\n",
              "min          0.000000\n",
              "25%         22.000000\n",
              "50%         30.000000\n",
              "75%         38.000000\n",
              "max       7478.000000\n",
              "Name: life_sq, dtype: float64"
            ]
          },
          "metadata": {
            "tags": []
          },
          "execution_count": 23
        }
      ]
    },
    {
      "cell_type": "markdown",
      "metadata": {
        "id": "B-jXA5n7OUF0",
        "colab_type": "text"
      },
      "source": [
        "###Technique #3: Bar Chart\n",
        "\n",
        "When the feature is categorical. We can use a bar chart to learn about its categories and distribution.\n",
        "For example, the feature ecology has a reasonable distribution. But if there is a category with only one value called “other”, then that would be an outlier."
      ]
    },
    {
      "cell_type": "code",
      "metadata": {
        "id": "0pCkA9vjONrr",
        "colab_type": "code",
        "outputId": "1230397d-b2fa-4be4-f797-fd8553078dc1",
        "colab": {
          "base_uri": "https://localhost:8080/",
          "height": 548
        }
      },
      "source": [
        "# bar chart -  distribution of a categorical variable\n",
        "df['ecology'].value_counts().plot.bar()"
      ],
      "execution_count": 0,
      "outputs": [
        {
          "output_type": "execute_result",
          "data": {
            "text/plain": [
              "<matplotlib.axes._subplots.AxesSubplot at 0x7faf0dc1fc88>"
            ]
          },
          "metadata": {
            "tags": []
          },
          "execution_count": 24
        },
        {
          "output_type": "display_data",
          "data": {
            "image/png": "[encoded data removed]",
            "text/plain": [
              "<Figure size 864x576 with 1 Axes>"
            ]
          },
          "metadata": {
            "tags": []
          }
        }
      ]
    },
    {
      "cell_type": "markdown",
      "metadata": {
        "id": "EDq40-pUOgmc",
        "colab_type": "text"
      },
      "source": [
        "Other Techniques: Many other techniques can spot outliers as well, such as scatter plot, z-score, and clustering. This article does not cover all of those.\n",
        "\n",
        "What to do?\n",
        "\n",
        "While outliers are not hard to detect, we have to determine the right solutions to handle them. It highly depends on the dataset and the goal of the project.\n",
        "The methods of handling outliers are somewhat similar to missing data. We either drop or adjust or keep them. We can refer back to the missing data section for possible solutions."
      ]
    },
    {
      "cell_type": "code",
      "metadata": {
        "id": "oe33YrxDOavW",
        "colab_type": "code",
        "colab": {}
      },
      "source": [
        ""
      ],
      "execution_count": 0,
      "outputs": []
    },
    {
      "cell_type": "markdown",
      "metadata": {
        "id": "GGECZ8Q7O-Pu",
        "colab_type": "text"
      },
      "source": [
        "##Unnecessary data\n",
        "After all the hard work done for missing data and outliers, let’s look at unnecessary data, which is more straightforward.\n",
        "\n",
        "All the data feeding into the model should serve the purpose of the project. The unnecessary data is when the data doesn’t add value. We cover three main types of unnecessary data due to different reasons.\n",
        "\n"
      ]
    },
    {
      "cell_type": "markdown",
      "metadata": {
        "id": "O1AuWGZGO-GS",
        "colab_type": "text"
      },
      "source": [
        "###Unnecessary type #1: Uninformative / Repetitive: \n",
        "\n",
        "Sometimes one feature is uninformative because it has too many rows being the same value.\n",
        "\n",
        "**How to find out?**"
      ]
    },
    {
      "cell_type": "code",
      "metadata": {
        "id": "eRjLQW60PQlm",
        "colab_type": "code",
        "outputId": "d6d41bd5-8387-44de-f2ed-7b4912ad673c",
        "colab": {
          "base_uri": "https://localhost:8080/",
          "height": 1000
        }
      },
      "source": [
        "#We can create a list of features with a high percentage of the same value.\n",
        "#For example, we specify below to show features with over 95% rows being the same value.\n",
        "num_rows = len(df.index)\n",
        "low_information_cols = [] #\n",
        "\n",
        "for col in df.columns:\n",
        "    cnts = df[col].value_counts(dropna=False)\n",
        "    top_pct = (cnts/num_rows).iloc[0]\n",
        "    \n",
        "    if top_pct > 0.95:\n",
        "        low_information_cols.append(col)\n",
        "        print('{0}: {1:.5f}%'.format(col, top_pct*100))\n",
        "        print(cnts)\n",
        "        print()"
      ],
      "execution_count": 0,
      "outputs": [
        {
          "output_type": "stream",
          "text": [
            "oil_chemistry_raion: 99.02858%\n",
            "no     30175\n",
            "yes      296\n",
            "Name: oil_chemistry_raion, dtype: int64\n",
            "\n",
            "railroad_terminal_raion: 96.27187%\n",
            "no     29335\n",
            "yes     1136\n",
            "Name: railroad_terminal_raion, dtype: int64\n",
            "\n",
            "nuclear_reactor_raion: 97.16780%\n",
            "no     29608\n",
            "yes      863\n",
            "Name: nuclear_reactor_raion, dtype: int64\n",
            "\n",
            "build_count_foam: 95.35624%\n",
            "0.0     29056\n",
            "1.0       969\n",
            "11.0      262\n",
            "2.0       184\n",
            "Name: build_count_foam, dtype: int64\n",
            "\n",
            "big_road1_1line: 97.43691%\n",
            "no     29690\n",
            "yes      781\n",
            "Name: big_road1_1line, dtype: int64\n",
            "\n",
            "railroad_1line: 97.06934%\n",
            "no     29578\n",
            "yes      893\n",
            "Name: railroad_1line, dtype: int64\n",
            "\n",
            "cafe_count_500_price_high: 97.25641%\n",
            "0    29635\n",
            "1      787\n",
            "2       38\n",
            "3       11\n",
            "Name: cafe_count_500_price_high, dtype: int64\n",
            "\n",
            "mosque_count_500: 99.51101%\n",
            "0    30322\n",
            "1      149\n",
            "Name: mosque_count_500, dtype: int64\n",
            "\n",
            "cafe_count_1000_price_high: 95.52689%\n",
            "0    29108\n",
            "1     1104\n",
            "2      145\n",
            "3       51\n",
            "4       39\n",
            "5       15\n",
            "6        8\n",
            "7        1\n",
            "Name: cafe_count_1000_price_high, dtype: int64\n",
            "\n",
            "mosque_count_1000: 98.08342%\n",
            "0    29887\n",
            "1      584\n",
            "Name: mosque_count_1000, dtype: int64\n",
            "\n",
            "mosque_count_1500: 96.21936%\n",
            "0    29319\n",
            "1     1152\n",
            "Name: mosque_count_1500, dtype: int64\n",
            "\n",
            "floor_ismissing: 99.45194%\n",
            "False    30304\n",
            "True       167\n",
            "Name: floor_ismissing, dtype: int64\n",
            "\n",
            "metro_min_walk_ismissing: 99.91795%\n",
            "False    30446\n",
            "True        25\n",
            "Name: metro_min_walk_ismissing, dtype: int64\n",
            "\n",
            "metro_km_walk_ismissing: 99.91795%\n",
            "False    30446\n",
            "True        25\n",
            "Name: metro_km_walk_ismissing, dtype: int64\n",
            "\n",
            "railroad_station_walk_km_ismissing: 99.91795%\n",
            "False    30446\n",
            "True        25\n",
            "Name: railroad_station_walk_km_ismissing, dtype: int64\n",
            "\n",
            "railroad_station_walk_min_ismissing: 99.91795%\n",
            "False    30446\n",
            "True        25\n",
            "Name: railroad_station_walk_min_ismissing, dtype: int64\n",
            "\n",
            "ID_railroad_station_walk_ismissing: 99.91795%\n",
            "False    30446\n",
            "True        25\n",
            "Name: ID_railroad_station_walk_ismissing, dtype: int64\n",
            "\n",
            "cafe_sum_3000_min_price_avg_ismissing: 96.74773%\n",
            "False    29480\n",
            "True       991\n",
            "Name: cafe_sum_3000_min_price_avg_ismissing, dtype: int64\n",
            "\n",
            "cafe_sum_3000_max_price_avg_ismissing: 96.74773%\n",
            "False    29480\n",
            "True       991\n",
            "Name: cafe_sum_3000_max_price_avg_ismissing, dtype: int64\n",
            "\n",
            "cafe_avg_price_3000_ismissing: 96.74773%\n",
            "False    29480\n",
            "True       991\n",
            "Name: cafe_avg_price_3000_ismissing, dtype: int64\n",
            "\n",
            "prom_part_5000_ismissing: 99.41584%\n",
            "False    30293\n",
            "True       178\n",
            "Name: prom_part_5000_ismissing, dtype: int64\n",
            "\n",
            "cafe_sum_5000_min_price_avg_ismissing: 99.02530%\n",
            "False    30174\n",
            "True       297\n",
            "Name: cafe_sum_5000_min_price_avg_ismissing, dtype: int64\n",
            "\n",
            "cafe_sum_5000_max_price_avg_ismissing: 99.02530%\n",
            "False    30174\n",
            "True       297\n",
            "Name: cafe_sum_5000_max_price_avg_ismissing, dtype: int64\n",
            "\n",
            "cafe_avg_price_5000_ismissing: 99.02530%\n",
            "False    30174\n",
            "True       297\n",
            "Name: cafe_avg_price_5000_ismissing, dtype: int64\n",
            "\n"
          ],
          "name": "stdout"
        }
      ]
    },
    {
      "cell_type": "markdown",
      "metadata": {
        "id": "pNlfKLITPiN-",
        "colab_type": "text"
      },
      "source": [
        "**What to do?**\n",
        "\n",
        "We need to understand the reasons behind the repetitive feature. When they are genuinely uninformative, we can toss them out."
      ]
    },
    {
      "cell_type": "markdown",
      "metadata": {
        "id": "7VmSfqADPpwF",
        "colab_type": "text"
      },
      "source": [
        "###Unnecessary type #2: Irrelevant\n",
        "\n",
        "Again, the data needs to provide valuable information for the project. If the features are not related to the question we are trying to solve in the project, they are irrelevant.\n",
        "\n",
        "**How to find out?**\n",
        "\n",
        "We need to skim through the features to identify irrelevant ones.\n",
        "For example, a feature recording the temperature in Toronto doesn’t provide any useful insights to predict Russian housing prices.\n",
        "**What to do?**\n",
        "When the features are not serving the project’s goal, we can remove them."
      ]
    },
    {
      "cell_type": "markdown",
      "metadata": {
        "id": "2JZHuajJP8PO",
        "colab_type": "text"
      },
      "source": [
        "###Unnecessary type #3: Duplicates\n",
        "\n",
        "The duplicate data is when copies of the same observation exist.\n",
        "\n",
        "There are two main types of duplicate data.\n",
        "Duplicates type #1: All Features based\n",
        "\n",
        " **How to find out?**\n",
        "\n",
        "This duplicate happens when all the features’ values within the observations are the same. It is easy to find.\n",
        "We first remove the unique identifier id in the dataset. Then we create a dataset called df_dedupped by dropping the duplicates. We compare the shapes of the two datasets (df and df_dedupped) to find out the number of duplicated rows."
      ]
    },
    {
      "cell_type": "code",
      "metadata": {
        "id": "ZOtZrYunPQgV",
        "colab_type": "code",
        "outputId": "3e86cc78-37a2-49e5-fa2b-c18ca38f565e",
        "colab": {
          "base_uri": "https://localhost:8080/",
          "height": 51
        }
      },
      "source": [
        "# we know that column 'id' is unique, but what if we drop it?\n",
        "df_dedupped = df.drop('id', axis=1).drop_duplicates()\n",
        "\n",
        "# there were duplicate rows\n",
        "print(df.shape)\n",
        "print(df_dedupped.shape)"
      ],
      "execution_count": 0,
      "outputs": [
        {
          "output_type": "stream",
          "text": [
            "(30471, 344)\n",
            "(30461, 343)\n"
          ],
          "name": "stdout"
        }
      ]
    },
    {
      "cell_type": "markdown",
      "metadata": {
        "id": "QTt9SfjQQUow",
        "colab_type": "text"
      },
      "source": [
        "####Duplicates type #2: Key Features based\n",
        "\n",
        "**How to find out?**\n",
        "\n",
        "Sometimes it is better to remove duplicate data based on a set of unique identifiers.\n",
        "For example, the chances of two transactions happening at the same time, with the same square footage, the same price, and the same build year are close to zero.\n",
        "We can set up a group of critical features as unique identifiers for transactions. We include timestamp, full_sq, life_sq, floor, build_year, num_room, price_doc. We check if there are duplicates based on them.\n"
      ]
    },
    {
      "cell_type": "code",
      "metadata": {
        "id": "m5wMJklWPQbs",
        "colab_type": "code",
        "outputId": "501c0598-dfdf-44c5-ccfa-fb8bcadfb464",
        "colab": {
          "base_uri": "https://localhost:8080/",
          "height": 391
        }
      },
      "source": [
        "key = ['timestamp', 'full_sq', 'life_sq', 'floor', 'build_year', 'num_room', 'price_doc']\n",
        "\n",
        "df.fillna(-999).groupby(key)['id'].count().sort_values(ascending=False).head(20)"
      ],
      "execution_count": 0,
      "outputs": [
        {
          "output_type": "execute_result",
          "data": {
            "text/plain": [
              "timestamp   full_sq  life_sq  floor  build_year  num_room  price_doc\n",
              "2012-10-22  61       30.0     18.0   1979.0      2.0       8248500      2\n",
              "2014-12-17  62       30.0     9.0    1979.0      2.0       6552000      2\n",
              "2014-01-22  46       28.0     1.0    1968.0      2.0       3000000      2\n",
              "2013-04-03  42       30.0     2.0    1979.0      2.0       3444000      2\n",
              "2013-09-23  85       30.0     14.0   1979.0      3.0       7725974      2\n",
              "2012-08-27  59       30.0     6.0    1979.0      2.0       4506800      2\n",
              "2014-04-15  134      134.0    1.0    0.0         3.0       5798496      2\n",
              "2013-05-22  68       30.0     2.0    1979.0      2.0       5406690      2\n",
              "2013-12-05  40       30.0     5.0    1979.0      1.0       4414080      2\n",
              "2012-09-05  43       30.0     21.0   1979.0      2.0       6229540      2\n",
              "2015-03-30  41       41.0     11.0   2016.0      1.0       4114580      2\n",
              "2013-12-18  39       30.0     6.0    1979.0      1.0       3700946      2\n",
              "2013-06-24  40       30.0     12.0   1979.0      2.0       4112800      2\n",
              "2013-08-30  40       30.0     12.0   1979.0      1.0       4462000      2\n",
              "2014-12-09  40       30.0     17.0   1979.0      1.0       4607265      2\n",
              "2015-03-14  62       30.0     2.0    1979.0      2.0       6520500      2\n",
              "2013-08-29  60       60.0     11.0   0.0         2.0       6518400      1\n",
              "            56       41.0     2.0    1961.0      3.0       8380000      1\n",
              "            52       52.0     9.0    1979.0      2.0       5619060      1\n",
              "            58       58.0     13.0   2013.0      2.0       5764128      1\n",
              "Name: id, dtype: int64"
            ]
          },
          "metadata": {
            "tags": []
          },
          "execution_count": 27
        }
      ]
    },
    {
      "cell_type": "markdown",
      "metadata": {
        "id": "x10BEhoqQhJT",
        "colab_type": "text"
      },
      "source": [
        "There are 16 duplicates based on this set of key features.\n",
        "\n",
        "**What to do?**\n",
        "\n",
        "We can drop these duplicates based on the key features.\n"
      ]
    },
    {
      "cell_type": "code",
      "metadata": {
        "id": "SfEDGzyoPp63",
        "colab_type": "code",
        "outputId": "95c90eca-e5e9-4beb-a1f0-4f3b11f1026c",
        "colab": {
          "base_uri": "https://localhost:8080/",
          "height": 51
        }
      },
      "source": [
        "# drop duplicates based on an subset of variables.\n",
        "\n",
        "key = ['timestamp', 'full_sq', 'life_sq', 'floor', 'build_year', 'num_room', 'price_doc']\n",
        "df_dedupped2 = df.drop_duplicates(subset=key)\n",
        "\n",
        "print(df.shape)\n",
        "print(df_dedupped2.shape)"
      ],
      "execution_count": 0,
      "outputs": [
        {
          "output_type": "stream",
          "text": [
            "(30471, 344)\n",
            "(30455, 344)\n"
          ],
          "name": "stdout"
        }
      ]
    },
    {
      "cell_type": "markdown",
      "metadata": {
        "id": "O9jE2ZVhQ5MJ",
        "colab_type": "text"
      },
      "source": [
        "##Inconsistent data\n",
        "It is also crucial to have the dataset follow specific standards to fit a model. We need to explore the data in different ways to find out the inconsistent data. Much of the time, it depends on observations and experience. There is no set code to run and fix them all.\n",
        "Below we cover four inconsistent data types."
      ]
    },
    {
      "cell_type": "markdown",
      "metadata": {
        "id": "Wsr_IeF9xhRp",
        "colab_type": "text"
      },
      "source": [
        "###Inconsistent type #1: Capitalization\n",
        "\n",
        "Inconsistent usage of upper and lower cases in categorical values is a common mistake. It could cause issues since analyses in Python is case sensitive.\n",
        "\n",
        "**How to find out?**\n",
        "\n",
        "Let’s look at the sub_area feature."
      ]
    },
    {
      "cell_type": "code",
      "metadata": {
        "id": "zSodKQ_BQteO",
        "colab_type": "code",
        "outputId": "b88e0c4e-369b-4dbc-fd6b-bd97a21b5050",
        "colab": {
          "base_uri": "https://localhost:8080/",
          "height": 221
        }
      },
      "source": [
        "df['sub_area'].value_counts(dropna=False)"
      ],
      "execution_count": 0,
      "outputs": [
        {
          "output_type": "execute_result",
          "data": {
            "text/plain": [
              "Poselenie Sosenskoe               1776\n",
              "Nekrasovka                        1611\n",
              "Poselenie Vnukovskoe              1372\n",
              "Poselenie Moskovskij               925\n",
              "Poselenie Voskresenskoe            713\n",
              "                                  ... \n",
              "Molzhaninovskoe                      3\n",
              "Poselenie Kievskij                   2\n",
              "Poselenie Shhapovskoe                2\n",
              "Poselenie Mihajlovo-Jarcevskoe       1\n",
              "Poselenie Klenovskoe                 1\n",
              "Name: sub_area, Length: 146, dtype: int64"
            ]
          },
          "metadata": {
            "tags": []
          },
          "execution_count": 29
        }
      ]
    },
    {
      "cell_type": "markdown",
      "metadata": {
        "id": "jCJ43LALRTbk",
        "colab_type": "text"
      },
      "source": [
        "But sometimes there is inconsistent capitalization usage within the same feature. The “Poselenie Sosenskoe” and “pOseleNie sosenskeo” could refer to the same area.\n",
        "\n",
        "**What to do?**\n",
        "\n",
        "To avoid this, we can put all letters to lower cases (or upper cases)."
      ]
    },
    {
      "cell_type": "code",
      "metadata": {
        "id": "VGASgx-xROQP",
        "colab_type": "code",
        "outputId": "aac26952-ef96-40af-aa75-bd55b6513c07",
        "colab": {
          "base_uri": "https://localhost:8080/",
          "height": 221
        }
      },
      "source": [
        "# make everything lower case.\n",
        "df['sub_area_lower'] = df['sub_area'].str.lower()\n",
        "df['sub_area_lower'].value_counts(dropna=False)"
      ],
      "execution_count": 0,
      "outputs": [
        {
          "output_type": "execute_result",
          "data": {
            "text/plain": [
              "poselenie sosenskoe               1776\n",
              "nekrasovka                        1611\n",
              "poselenie vnukovskoe              1372\n",
              "poselenie moskovskij               925\n",
              "poselenie voskresenskoe            713\n",
              "                                  ... \n",
              "molzhaninovskoe                      3\n",
              "poselenie kievskij                   2\n",
              "poselenie shhapovskoe                2\n",
              "poselenie klenovskoe                 1\n",
              "poselenie mihajlovo-jarcevskoe       1\n",
              "Name: sub_area_lower, Length: 146, dtype: int64"
            ]
          },
          "metadata": {
            "tags": []
          },
          "execution_count": 30
        }
      ]
    },
    {
      "cell_type": "markdown",
      "metadata": {
        "id": "oRrlyaadRdco",
        "colab_type": "text"
      },
      "source": [
        "###Inconsistent type #2: Formats\n",
        "Another standardization we need to perform is the data formats. One example is to convert the feature from string to DateTime format.\n",
        "\n",
        "**How to find out?**\n",
        "\n",
        "The feature timestamp is in string format while it represents dates."
      ]
    },
    {
      "cell_type": "code",
      "metadata": {
        "id": "680KphS4RZyD",
        "colab_type": "code",
        "outputId": "43b16b36-2aae-4b82-f24d-5c1c6fe7c864",
        "colab": {
          "base_uri": "https://localhost:8080/",
          "height": 490
        }
      },
      "source": [
        "df"
      ],
      "execution_count": 0,
      "outputs": [
        {
          "output_type": "execute_result",
          "data": {
            "text/html": [
              "<div>\n",
              "<style scoped>\n",
              "    .dataframe tbody tr th:only-of-type {\n",
              "        vertical-align: middle;\n",
              "    }\n",
              "\n",
              "    .dataframe tbody tr th {\n",
              "        vertical-align: top;\n",
              "    }\n",
              "\n",
              "    .dataframe thead th {\n",
              "        text-align: right;\n",
              "    }\n",
              "</style>\n",
              "<table border=\"1\" class=\"dataframe\">\n",
              "  <thead>\n",
              "    <tr style=\"text-align: right;\">\n",
              "      <th></th>\n",
              "      <th>id</th>\n",
              "      <th>timestamp</th>\n",
              "      <th>full_sq</th>\n",
              "      <th>life_sq</th>\n",
              "      <th>floor</th>\n",
              "      <th>max_floor</th>\n",
              "      <th>material</th>\n",
              "      <th>build_year</th>\n",
              "      <th>num_room</th>\n",
              "      <th>kitch_sq</th>\n",
              "      <th>state</th>\n",
              "      <th>product_type</th>\n",
              "      <th>sub_area</th>\n",
              "      <th>area_m</th>\n",
              "      <th>raion_popul</th>\n",
              "      <th>green_zone_part</th>\n",
              "      <th>indust_part</th>\n",
              "      <th>children_preschool</th>\n",
              "      <th>preschool_quota</th>\n",
              "      <th>preschool_education_centers_raion</th>\n",
              "      <th>children_school</th>\n",
              "      <th>school_quota</th>\n",
              "      <th>school_education_centers_raion</th>\n",
              "      <th>school_education_centers_top_20_raion</th>\n",
              "      <th>hospital_beds_raion</th>\n",
              "      <th>healthcare_centers_raion</th>\n",
              "      <th>university_top_20_raion</th>\n",
              "      <th>sport_objects_raion</th>\n",
              "      <th>additional_education_raion</th>\n",
              "      <th>culture_objects_top_25</th>\n",
              "      <th>culture_objects_top_25_raion</th>\n",
              "      <th>shopping_centers_raion</th>\n",
              "      <th>office_raion</th>\n",
              "      <th>thermal_power_plant_raion</th>\n",
              "      <th>incineration_raion</th>\n",
              "      <th>oil_chemistry_raion</th>\n",
              "      <th>radiation_raion</th>\n",
              "      <th>railroad_terminal_raion</th>\n",
              "      <th>big_market_raion</th>\n",
              "      <th>nuclear_reactor_raion</th>\n",
              "      <th>...</th>\n",
              "      <th>build_count_wood_ismissing</th>\n",
              "      <th>build_count_frame_ismissing</th>\n",
              "      <th>build_count_brick_ismissing</th>\n",
              "      <th>build_count_monolith_ismissing</th>\n",
              "      <th>build_count_panel_ismissing</th>\n",
              "      <th>build_count_foam_ismissing</th>\n",
              "      <th>build_count_slag_ismissing</th>\n",
              "      <th>build_count_mix_ismissing</th>\n",
              "      <th>raion_build_count_with_builddate_info_ismissing</th>\n",
              "      <th>build_count_before_1920_ismissing</th>\n",
              "      <th>build_count_1921-1945_ismissing</th>\n",
              "      <th>build_count_1946-1970_ismissing</th>\n",
              "      <th>build_count_1971-1995_ismissing</th>\n",
              "      <th>build_count_after_1995_ismissing</th>\n",
              "      <th>metro_min_walk_ismissing</th>\n",
              "      <th>metro_km_walk_ismissing</th>\n",
              "      <th>railroad_station_walk_km_ismissing</th>\n",
              "      <th>railroad_station_walk_min_ismissing</th>\n",
              "      <th>ID_railroad_station_walk_ismissing</th>\n",
              "      <th>cafe_sum_500_min_price_avg_ismissing</th>\n",
              "      <th>cafe_sum_500_max_price_avg_ismissing</th>\n",
              "      <th>cafe_avg_price_500_ismissing</th>\n",
              "      <th>cafe_sum_1000_min_price_avg_ismissing</th>\n",
              "      <th>cafe_sum_1000_max_price_avg_ismissing</th>\n",
              "      <th>cafe_avg_price_1000_ismissing</th>\n",
              "      <th>cafe_sum_1500_min_price_avg_ismissing</th>\n",
              "      <th>cafe_sum_1500_max_price_avg_ismissing</th>\n",
              "      <th>cafe_avg_price_1500_ismissing</th>\n",
              "      <th>cafe_sum_2000_min_price_avg_ismissing</th>\n",
              "      <th>cafe_sum_2000_max_price_avg_ismissing</th>\n",
              "      <th>cafe_avg_price_2000_ismissing</th>\n",
              "      <th>cafe_sum_3000_min_price_avg_ismissing</th>\n",
              "      <th>cafe_sum_3000_max_price_avg_ismissing</th>\n",
              "      <th>cafe_avg_price_3000_ismissing</th>\n",
              "      <th>prom_part_5000_ismissing</th>\n",
              "      <th>cafe_sum_5000_min_price_avg_ismissing</th>\n",
              "      <th>cafe_sum_5000_max_price_avg_ismissing</th>\n",
              "      <th>cafe_avg_price_5000_ismissing</th>\n",
              "      <th>num_missing</th>\n",
              "      <th>sub_area_lower</th>\n",
              "    </tr>\n",
              "  </thead>\n",
              "  <tbody>\n",
              "    <tr>\n",
              "      <th>0</th>\n",
              "      <td>1</td>\n",
              "      <td>2011-08-20</td>\n",
              "      <td>43</td>\n",
              "      <td>27.0</td>\n",
              "      <td>4.0</td>\n",
              "      <td>12.0</td>\n",
              "      <td>1.0</td>\n",
              "      <td>1979.0</td>\n",
              "      <td>2.0</td>\n",
              "      <td>6.0</td>\n",
              "      <td>2.0</td>\n",
              "      <td>Investment</td>\n",
              "      <td>Bibirevo</td>\n",
              "      <td>6.407578e+06</td>\n",
              "      <td>155572</td>\n",
              "      <td>0.189727</td>\n",
              "      <td>0.000070</td>\n",
              "      <td>9576</td>\n",
              "      <td>5001.0</td>\n",
              "      <td>5</td>\n",
              "      <td>10309</td>\n",
              "      <td>11065.0</td>\n",
              "      <td>5</td>\n",
              "      <td>0</td>\n",
              "      <td>240.0</td>\n",
              "      <td>1</td>\n",
              "      <td>0</td>\n",
              "      <td>7</td>\n",
              "      <td>3</td>\n",
              "      <td>no</td>\n",
              "      <td>0</td>\n",
              "      <td>16</td>\n",
              "      <td>1</td>\n",
              "      <td>no</td>\n",
              "      <td>no</td>\n",
              "      <td>no</td>\n",
              "      <td>no</td>\n",
              "      <td>no</td>\n",
              "      <td>no</td>\n",
              "      <td>no</td>\n",
              "      <td>...</td>\n",
              "      <td>False</td>\n",
              "      <td>False</td>\n",
              "      <td>False</td>\n",
              "      <td>False</td>\n",
              "      <td>False</td>\n",
              "      <td>False</td>\n",
              "      <td>False</td>\n",
              "      <td>False</td>\n",
              "      <td>False</td>\n",
              "      <td>False</td>\n",
              "      <td>False</td>\n",
              "      <td>False</td>\n",
              "      <td>False</td>\n",
              "      <td>False</td>\n",
              "      <td>False</td>\n",
              "      <td>False</td>\n",
              "      <td>False</td>\n",
              "      <td>False</td>\n",
              "      <td>False</td>\n",
              "      <td>True</td>\n",
              "      <td>True</td>\n",
              "      <td>True</td>\n",
              "      <td>False</td>\n",
              "      <td>False</td>\n",
              "      <td>False</td>\n",
              "      <td>False</td>\n",
              "      <td>False</td>\n",
              "      <td>False</td>\n",
              "      <td>False</td>\n",
              "      <td>False</td>\n",
              "      <td>False</td>\n",
              "      <td>False</td>\n",
              "      <td>False</td>\n",
              "      <td>False</td>\n",
              "      <td>False</td>\n",
              "      <td>False</td>\n",
              "      <td>False</td>\n",
              "      <td>False</td>\n",
              "      <td>9</td>\n",
              "      <td>bibirevo</td>\n",
              "    </tr>\n",
              "    <tr>\n",
              "      <th>1</th>\n",
              "      <td>2</td>\n",
              "      <td>2011-08-23</td>\n",
              "      <td>34</td>\n",
              "      <td>19.0</td>\n",
              "      <td>3.0</td>\n",
              "      <td>12.0</td>\n",
              "      <td>1.0</td>\n",
              "      <td>1979.0</td>\n",
              "      <td>2.0</td>\n",
              "      <td>6.0</td>\n",
              "      <td>2.0</td>\n",
              "      <td>Investment</td>\n",
              "      <td>Nagatinskij Zaton</td>\n",
              "      <td>9.589337e+06</td>\n",
              "      <td>115352</td>\n",
              "      <td>0.372602</td>\n",
              "      <td>0.049637</td>\n",
              "      <td>6880</td>\n",
              "      <td>3119.0</td>\n",
              "      <td>5</td>\n",
              "      <td>7759</td>\n",
              "      <td>6237.0</td>\n",
              "      <td>8</td>\n",
              "      <td>0</td>\n",
              "      <td>229.0</td>\n",
              "      <td>1</td>\n",
              "      <td>0</td>\n",
              "      <td>6</td>\n",
              "      <td>1</td>\n",
              "      <td>yes</td>\n",
              "      <td>1</td>\n",
              "      <td>3</td>\n",
              "      <td>0</td>\n",
              "      <td>no</td>\n",
              "      <td>no</td>\n",
              "      <td>no</td>\n",
              "      <td>no</td>\n",
              "      <td>no</td>\n",
              "      <td>no</td>\n",
              "      <td>no</td>\n",
              "      <td>...</td>\n",
              "      <td>False</td>\n",
              "      <td>False</td>\n",
              "      <td>False</td>\n",
              "      <td>False</td>\n",
              "      <td>False</td>\n",
              "      <td>False</td>\n",
              "      <td>False</td>\n",
              "      <td>False</td>\n",
              "      <td>False</td>\n",
              "      <td>False</td>\n",
              "      <td>False</td>\n",
              "      <td>False</td>\n",
              "      <td>False</td>\n",
              "      <td>False</td>\n",
              "      <td>False</td>\n",
              "      <td>False</td>\n",
              "      <td>False</td>\n",
              "      <td>False</td>\n",
              "      <td>False</td>\n",
              "      <td>False</td>\n",
              "      <td>False</td>\n",
              "      <td>False</td>\n",
              "      <td>False</td>\n",
              "      <td>False</td>\n",
              "      <td>False</td>\n",
              "      <td>False</td>\n",
              "      <td>False</td>\n",
              "      <td>False</td>\n",
              "      <td>False</td>\n",
              "      <td>False</td>\n",
              "      <td>False</td>\n",
              "      <td>False</td>\n",
              "      <td>False</td>\n",
              "      <td>False</td>\n",
              "      <td>False</td>\n",
              "      <td>False</td>\n",
              "      <td>False</td>\n",
              "      <td>False</td>\n",
              "      <td>6</td>\n",
              "      <td>nagatinskij zaton</td>\n",
              "    </tr>\n",
              "    <tr>\n",
              "      <th>2</th>\n",
              "      <td>3</td>\n",
              "      <td>2011-08-27</td>\n",
              "      <td>43</td>\n",
              "      <td>29.0</td>\n",
              "      <td>2.0</td>\n",
              "      <td>12.0</td>\n",
              "      <td>1.0</td>\n",
              "      <td>1979.0</td>\n",
              "      <td>2.0</td>\n",
              "      <td>6.0</td>\n",
              "      <td>2.0</td>\n",
              "      <td>Investment</td>\n",
              "      <td>Tekstil'shhiki</td>\n",
              "      <td>4.808270e+06</td>\n",
              "      <td>101708</td>\n",
              "      <td>0.112560</td>\n",
              "      <td>0.118537</td>\n",
              "      <td>5879</td>\n",
              "      <td>1463.0</td>\n",
              "      <td>4</td>\n",
              "      <td>6207</td>\n",
              "      <td>5580.0</td>\n",
              "      <td>7</td>\n",
              "      <td>0</td>\n",
              "      <td>1183.0</td>\n",
              "      <td>1</td>\n",
              "      <td>0</td>\n",
              "      <td>5</td>\n",
              "      <td>1</td>\n",
              "      <td>no</td>\n",
              "      <td>0</td>\n",
              "      <td>0</td>\n",
              "      <td>1</td>\n",
              "      <td>no</td>\n",
              "      <td>no</td>\n",
              "      <td>no</td>\n",
              "      <td>yes</td>\n",
              "      <td>no</td>\n",
              "      <td>no</td>\n",
              "      <td>no</td>\n",
              "      <td>...</td>\n",
              "      <td>False</td>\n",
              "      <td>False</td>\n",
              "      <td>False</td>\n",
              "      <td>False</td>\n",
              "      <td>False</td>\n",
              "      <td>False</td>\n",
              "      <td>False</td>\n",
              "      <td>False</td>\n",
              "      <td>False</td>\n",
              "      <td>False</td>\n",
              "      <td>False</td>\n",
              "      <td>False</td>\n",
              "      <td>False</td>\n",
              "      <td>False</td>\n",
              "      <td>False</td>\n",
              "      <td>False</td>\n",
              "      <td>False</td>\n",
              "      <td>False</td>\n",
              "      <td>False</td>\n",
              "      <td>False</td>\n",
              "      <td>False</td>\n",
              "      <td>False</td>\n",
              "      <td>False</td>\n",
              "      <td>False</td>\n",
              "      <td>False</td>\n",
              "      <td>False</td>\n",
              "      <td>False</td>\n",
              "      <td>False</td>\n",
              "      <td>False</td>\n",
              "      <td>False</td>\n",
              "      <td>False</td>\n",
              "      <td>False</td>\n",
              "      <td>False</td>\n",
              "      <td>False</td>\n",
              "      <td>False</td>\n",
              "      <td>False</td>\n",
              "      <td>False</td>\n",
              "      <td>False</td>\n",
              "      <td>6</td>\n",
              "      <td>tekstil'shhiki</td>\n",
              "    </tr>\n",
              "    <tr>\n",
              "      <th>3</th>\n",
              "      <td>4</td>\n",
              "      <td>2011-09-01</td>\n",
              "      <td>89</td>\n",
              "      <td>50.0</td>\n",
              "      <td>9.0</td>\n",
              "      <td>12.0</td>\n",
              "      <td>1.0</td>\n",
              "      <td>1979.0</td>\n",
              "      <td>2.0</td>\n",
              "      <td>6.0</td>\n",
              "      <td>2.0</td>\n",
              "      <td>Investment</td>\n",
              "      <td>Mitino</td>\n",
              "      <td>1.258354e+07</td>\n",
              "      <td>178473</td>\n",
              "      <td>0.194703</td>\n",
              "      <td>0.069753</td>\n",
              "      <td>13087</td>\n",
              "      <td>6839.0</td>\n",
              "      <td>9</td>\n",
              "      <td>13670</td>\n",
              "      <td>17063.0</td>\n",
              "      <td>10</td>\n",
              "      <td>0</td>\n",
              "      <td>990.0</td>\n",
              "      <td>1</td>\n",
              "      <td>0</td>\n",
              "      <td>17</td>\n",
              "      <td>6</td>\n",
              "      <td>no</td>\n",
              "      <td>0</td>\n",
              "      <td>11</td>\n",
              "      <td>4</td>\n",
              "      <td>no</td>\n",
              "      <td>no</td>\n",
              "      <td>no</td>\n",
              "      <td>no</td>\n",
              "      <td>no</td>\n",
              "      <td>no</td>\n",
              "      <td>no</td>\n",
              "      <td>...</td>\n",
              "      <td>False</td>\n",
              "      <td>False</td>\n",
              "      <td>False</td>\n",
              "      <td>False</td>\n",
              "      <td>False</td>\n",
              "      <td>False</td>\n",
              "      <td>False</td>\n",
              "      <td>False</td>\n",
              "      <td>False</td>\n",
              "      <td>False</td>\n",
              "      <td>False</td>\n",
              "      <td>False</td>\n",
              "      <td>False</td>\n",
              "      <td>False</td>\n",
              "      <td>False</td>\n",
              "      <td>False</td>\n",
              "      <td>False</td>\n",
              "      <td>False</td>\n",
              "      <td>False</td>\n",
              "      <td>False</td>\n",
              "      <td>False</td>\n",
              "      <td>False</td>\n",
              "      <td>False</td>\n",
              "      <td>False</td>\n",
              "      <td>False</td>\n",
              "      <td>False</td>\n",
              "      <td>False</td>\n",
              "      <td>False</td>\n",
              "      <td>False</td>\n",
              "      <td>False</td>\n",
              "      <td>False</td>\n",
              "      <td>False</td>\n",
              "      <td>False</td>\n",
              "      <td>False</td>\n",
              "      <td>False</td>\n",
              "      <td>False</td>\n",
              "      <td>False</td>\n",
              "      <td>False</td>\n",
              "      <td>7</td>\n",
              "      <td>mitino</td>\n",
              "    </tr>\n",
              "    <tr>\n",
              "      <th>4</th>\n",
              "      <td>5</td>\n",
              "      <td>2011-09-05</td>\n",
              "      <td>77</td>\n",
              "      <td>77.0</td>\n",
              "      <td>4.0</td>\n",
              "      <td>12.0</td>\n",
              "      <td>1.0</td>\n",
              "      <td>1979.0</td>\n",
              "      <td>2.0</td>\n",
              "      <td>6.0</td>\n",
              "      <td>2.0</td>\n",
              "      <td>Investment</td>\n",
              "      <td>Basmannoe</td>\n",
              "      <td>8.398461e+06</td>\n",
              "      <td>108171</td>\n",
              "      <td>0.015234</td>\n",
              "      <td>0.037316</td>\n",
              "      <td>5706</td>\n",
              "      <td>3240.0</td>\n",
              "      <td>7</td>\n",
              "      <td>6748</td>\n",
              "      <td>7770.0</td>\n",
              "      <td>9</td>\n",
              "      <td>0</td>\n",
              "      <td>562.0</td>\n",
              "      <td>4</td>\n",
              "      <td>2</td>\n",
              "      <td>25</td>\n",
              "      <td>2</td>\n",
              "      <td>no</td>\n",
              "      <td>0</td>\n",
              "      <td>10</td>\n",
              "      <td>93</td>\n",
              "      <td>no</td>\n",
              "      <td>no</td>\n",
              "      <td>no</td>\n",
              "      <td>yes</td>\n",
              "      <td>yes</td>\n",
              "      <td>no</td>\n",
              "      <td>no</td>\n",
              "      <td>...</td>\n",
              "      <td>False</td>\n",
              "      <td>False</td>\n",
              "      <td>False</td>\n",
              "      <td>False</td>\n",
              "      <td>False</td>\n",
              "      <td>False</td>\n",
              "      <td>False</td>\n",
              "      <td>False</td>\n",
              "      <td>False</td>\n",
              "      <td>False</td>\n",
              "      <td>False</td>\n",
              "      <td>False</td>\n",
              "      <td>False</td>\n",
              "      <td>False</td>\n",
              "      <td>False</td>\n",
              "      <td>False</td>\n",
              "      <td>False</td>\n",
              "      <td>False</td>\n",
              "      <td>False</td>\n",
              "      <td>False</td>\n",
              "      <td>False</td>\n",
              "      <td>False</td>\n",
              "      <td>False</td>\n",
              "      <td>False</td>\n",
              "      <td>False</td>\n",
              "      <td>False</td>\n",
              "      <td>False</td>\n",
              "      <td>False</td>\n",
              "      <td>False</td>\n",
              "      <td>False</td>\n",
              "      <td>False</td>\n",
              "      <td>False</td>\n",
              "      <td>False</td>\n",
              "      <td>False</td>\n",
              "      <td>False</td>\n",
              "      <td>False</td>\n",
              "      <td>False</td>\n",
              "      <td>False</td>\n",
              "      <td>6</td>\n",
              "      <td>basmannoe</td>\n",
              "    </tr>\n",
              "    <tr>\n",
              "      <th>...</th>\n",
              "      <td>...</td>\n",
              "      <td>...</td>\n",
              "      <td>...</td>\n",
              "      <td>...</td>\n",
              "      <td>...</td>\n",
              "      <td>...</td>\n",
              "      <td>...</td>\n",
              "      <td>...</td>\n",
              "      <td>...</td>\n",
              "      <td>...</td>\n",
              "      <td>...</td>\n",
              "      <td>...</td>\n",
              "      <td>...</td>\n",
              "      <td>...</td>\n",
              "      <td>...</td>\n",
              "      <td>...</td>\n",
              "      <td>...</td>\n",
              "      <td>...</td>\n",
              "      <td>...</td>\n",
              "      <td>...</td>\n",
              "      <td>...</td>\n",
              "      <td>...</td>\n",
              "      <td>...</td>\n",
              "      <td>...</td>\n",
              "      <td>...</td>\n",
              "      <td>...</td>\n",
              "      <td>...</td>\n",
              "      <td>...</td>\n",
              "      <td>...</td>\n",
              "      <td>...</td>\n",
              "      <td>...</td>\n",
              "      <td>...</td>\n",
              "      <td>...</td>\n",
              "      <td>...</td>\n",
              "      <td>...</td>\n",
              "      <td>...</td>\n",
              "      <td>...</td>\n",
              "      <td>...</td>\n",
              "      <td>...</td>\n",
              "      <td>...</td>\n",
              "      <td>...</td>\n",
              "      <td>...</td>\n",
              "      <td>...</td>\n",
              "      <td>...</td>\n",
              "      <td>...</td>\n",
              "      <td>...</td>\n",
              "      <td>...</td>\n",
              "      <td>...</td>\n",
              "      <td>...</td>\n",
              "      <td>...</td>\n",
              "      <td>...</td>\n",
              "      <td>...</td>\n",
              "      <td>...</td>\n",
              "      <td>...</td>\n",
              "      <td>...</td>\n",
              "      <td>...</td>\n",
              "      <td>...</td>\n",
              "      <td>...</td>\n",
              "      <td>...</td>\n",
              "      <td>...</td>\n",
              "      <td>...</td>\n",
              "      <td>...</td>\n",
              "      <td>...</td>\n",
              "      <td>...</td>\n",
              "      <td>...</td>\n",
              "      <td>...</td>\n",
              "      <td>...</td>\n",
              "      <td>...</td>\n",
              "      <td>...</td>\n",
              "      <td>...</td>\n",
              "      <td>...</td>\n",
              "      <td>...</td>\n",
              "      <td>...</td>\n",
              "      <td>...</td>\n",
              "      <td>...</td>\n",
              "      <td>...</td>\n",
              "      <td>...</td>\n",
              "      <td>...</td>\n",
              "      <td>...</td>\n",
              "      <td>...</td>\n",
              "      <td>...</td>\n",
              "    </tr>\n",
              "    <tr>\n",
              "      <th>30466</th>\n",
              "      <td>30469</td>\n",
              "      <td>2015-06-30</td>\n",
              "      <td>44</td>\n",
              "      <td>27.0</td>\n",
              "      <td>7.0</td>\n",
              "      <td>9.0</td>\n",
              "      <td>1.0</td>\n",
              "      <td>1975.0</td>\n",
              "      <td>2.0</td>\n",
              "      <td>6.0</td>\n",
              "      <td>3.0</td>\n",
              "      <td>Investment</td>\n",
              "      <td>Otradnoe</td>\n",
              "      <td>1.005305e+07</td>\n",
              "      <td>175518</td>\n",
              "      <td>0.096270</td>\n",
              "      <td>0.300323</td>\n",
              "      <td>9753</td>\n",
              "      <td>5088.0</td>\n",
              "      <td>4</td>\n",
              "      <td>10311</td>\n",
              "      <td>12721.0</td>\n",
              "      <td>4</td>\n",
              "      <td>0</td>\n",
              "      <td>990.0</td>\n",
              "      <td>1</td>\n",
              "      <td>0</td>\n",
              "      <td>10</td>\n",
              "      <td>3</td>\n",
              "      <td>no</td>\n",
              "      <td>0</td>\n",
              "      <td>9</td>\n",
              "      <td>6</td>\n",
              "      <td>no</td>\n",
              "      <td>yes</td>\n",
              "      <td>no</td>\n",
              "      <td>yes</td>\n",
              "      <td>no</td>\n",
              "      <td>no</td>\n",
              "      <td>no</td>\n",
              "      <td>...</td>\n",
              "      <td>False</td>\n",
              "      <td>False</td>\n",
              "      <td>False</td>\n",
              "      <td>False</td>\n",
              "      <td>False</td>\n",
              "      <td>False</td>\n",
              "      <td>False</td>\n",
              "      <td>False</td>\n",
              "      <td>False</td>\n",
              "      <td>False</td>\n",
              "      <td>False</td>\n",
              "      <td>False</td>\n",
              "      <td>False</td>\n",
              "      <td>False</td>\n",
              "      <td>False</td>\n",
              "      <td>False</td>\n",
              "      <td>False</td>\n",
              "      <td>False</td>\n",
              "      <td>False</td>\n",
              "      <td>False</td>\n",
              "      <td>False</td>\n",
              "      <td>False</td>\n",
              "      <td>False</td>\n",
              "      <td>False</td>\n",
              "      <td>False</td>\n",
              "      <td>False</td>\n",
              "      <td>False</td>\n",
              "      <td>False</td>\n",
              "      <td>False</td>\n",
              "      <td>False</td>\n",
              "      <td>False</td>\n",
              "      <td>False</td>\n",
              "      <td>False</td>\n",
              "      <td>False</td>\n",
              "      <td>False</td>\n",
              "      <td>False</td>\n",
              "      <td>False</td>\n",
              "      <td>False</td>\n",
              "      <td>1</td>\n",
              "      <td>otradnoe</td>\n",
              "    </tr>\n",
              "    <tr>\n",
              "      <th>30467</th>\n",
              "      <td>30470</td>\n",
              "      <td>2015-06-30</td>\n",
              "      <td>86</td>\n",
              "      <td>59.0</td>\n",
              "      <td>3.0</td>\n",
              "      <td>9.0</td>\n",
              "      <td>2.0</td>\n",
              "      <td>1935.0</td>\n",
              "      <td>4.0</td>\n",
              "      <td>10.0</td>\n",
              "      <td>3.0</td>\n",
              "      <td>Investment</td>\n",
              "      <td>Tverskoe</td>\n",
              "      <td>7.307411e+06</td>\n",
              "      <td>75377</td>\n",
              "      <td>0.065444</td>\n",
              "      <td>0.000078</td>\n",
              "      <td>4237</td>\n",
              "      <td>1874.0</td>\n",
              "      <td>4</td>\n",
              "      <td>6398</td>\n",
              "      <td>6772.0</td>\n",
              "      <td>4</td>\n",
              "      <td>1</td>\n",
              "      <td>1046.0</td>\n",
              "      <td>3</td>\n",
              "      <td>2</td>\n",
              "      <td>29</td>\n",
              "      <td>16</td>\n",
              "      <td>yes</td>\n",
              "      <td>10</td>\n",
              "      <td>23</td>\n",
              "      <td>141</td>\n",
              "      <td>no</td>\n",
              "      <td>no</td>\n",
              "      <td>no</td>\n",
              "      <td>yes</td>\n",
              "      <td>yes</td>\n",
              "      <td>no</td>\n",
              "      <td>no</td>\n",
              "      <td>...</td>\n",
              "      <td>False</td>\n",
              "      <td>False</td>\n",
              "      <td>False</td>\n",
              "      <td>False</td>\n",
              "      <td>False</td>\n",
              "      <td>False</td>\n",
              "      <td>False</td>\n",
              "      <td>False</td>\n",
              "      <td>False</td>\n",
              "      <td>False</td>\n",
              "      <td>False</td>\n",
              "      <td>False</td>\n",
              "      <td>False</td>\n",
              "      <td>False</td>\n",
              "      <td>False</td>\n",
              "      <td>False</td>\n",
              "      <td>False</td>\n",
              "      <td>False</td>\n",
              "      <td>False</td>\n",
              "      <td>False</td>\n",
              "      <td>False</td>\n",
              "      <td>False</td>\n",
              "      <td>False</td>\n",
              "      <td>False</td>\n",
              "      <td>False</td>\n",
              "      <td>False</td>\n",
              "      <td>False</td>\n",
              "      <td>False</td>\n",
              "      <td>False</td>\n",
              "      <td>False</td>\n",
              "      <td>False</td>\n",
              "      <td>False</td>\n",
              "      <td>False</td>\n",
              "      <td>False</td>\n",
              "      <td>False</td>\n",
              "      <td>False</td>\n",
              "      <td>False</td>\n",
              "      <td>False</td>\n",
              "      <td>0</td>\n",
              "      <td>tverskoe</td>\n",
              "    </tr>\n",
              "    <tr>\n",
              "      <th>30468</th>\n",
              "      <td>30471</td>\n",
              "      <td>2015-06-30</td>\n",
              "      <td>45</td>\n",
              "      <td>30.0</td>\n",
              "      <td>10.0</td>\n",
              "      <td>20.0</td>\n",
              "      <td>1.0</td>\n",
              "      <td>1979.0</td>\n",
              "      <td>1.0</td>\n",
              "      <td>1.0</td>\n",
              "      <td>1.0</td>\n",
              "      <td>OwnerOccupier</td>\n",
              "      <td>Poselenie Vnukovskoe</td>\n",
              "      <td>2.553630e+07</td>\n",
              "      <td>4001</td>\n",
              "      <td>0.496315</td>\n",
              "      <td>0.007122</td>\n",
              "      <td>275</td>\n",
              "      <td>2854.0</td>\n",
              "      <td>0</td>\n",
              "      <td>264</td>\n",
              "      <td>7377.0</td>\n",
              "      <td>0</td>\n",
              "      <td>0</td>\n",
              "      <td>990.0</td>\n",
              "      <td>0</td>\n",
              "      <td>0</td>\n",
              "      <td>0</td>\n",
              "      <td>0</td>\n",
              "      <td>no</td>\n",
              "      <td>0</td>\n",
              "      <td>1</td>\n",
              "      <td>0</td>\n",
              "      <td>no</td>\n",
              "      <td>no</td>\n",
              "      <td>no</td>\n",
              "      <td>no</td>\n",
              "      <td>no</td>\n",
              "      <td>no</td>\n",
              "      <td>no</td>\n",
              "      <td>...</td>\n",
              "      <td>True</td>\n",
              "      <td>True</td>\n",
              "      <td>True</td>\n",
              "      <td>True</td>\n",
              "      <td>True</td>\n",
              "      <td>True</td>\n",
              "      <td>True</td>\n",
              "      <td>True</td>\n",
              "      <td>True</td>\n",
              "      <td>True</td>\n",
              "      <td>True</td>\n",
              "      <td>True</td>\n",
              "      <td>True</td>\n",
              "      <td>True</td>\n",
              "      <td>False</td>\n",
              "      <td>False</td>\n",
              "      <td>False</td>\n",
              "      <td>False</td>\n",
              "      <td>False</td>\n",
              "      <td>False</td>\n",
              "      <td>False</td>\n",
              "      <td>False</td>\n",
              "      <td>False</td>\n",
              "      <td>False</td>\n",
              "      <td>False</td>\n",
              "      <td>False</td>\n",
              "      <td>False</td>\n",
              "      <td>False</td>\n",
              "      <td>False</td>\n",
              "      <td>False</td>\n",
              "      <td>False</td>\n",
              "      <td>False</td>\n",
              "      <td>False</td>\n",
              "      <td>False</td>\n",
              "      <td>False</td>\n",
              "      <td>False</td>\n",
              "      <td>False</td>\n",
              "      <td>False</td>\n",
              "      <td>21</td>\n",
              "      <td>poselenie vnukovskoe</td>\n",
              "    </tr>\n",
              "    <tr>\n",
              "      <th>30469</th>\n",
              "      <td>30472</td>\n",
              "      <td>2015-06-30</td>\n",
              "      <td>64</td>\n",
              "      <td>32.0</td>\n",
              "      <td>5.0</td>\n",
              "      <td>15.0</td>\n",
              "      <td>1.0</td>\n",
              "      <td>2003.0</td>\n",
              "      <td>2.0</td>\n",
              "      <td>11.0</td>\n",
              "      <td>2.0</td>\n",
              "      <td>Investment</td>\n",
              "      <td>Obruchevskoe</td>\n",
              "      <td>6.050065e+06</td>\n",
              "      <td>78616</td>\n",
              "      <td>0.167526</td>\n",
              "      <td>0.093443</td>\n",
              "      <td>4215</td>\n",
              "      <td>2372.0</td>\n",
              "      <td>6</td>\n",
              "      <td>4635</td>\n",
              "      <td>6083.0</td>\n",
              "      <td>8</td>\n",
              "      <td>0</td>\n",
              "      <td>3300.0</td>\n",
              "      <td>2</td>\n",
              "      <td>1</td>\n",
              "      <td>11</td>\n",
              "      <td>1</td>\n",
              "      <td>no</td>\n",
              "      <td>0</td>\n",
              "      <td>4</td>\n",
              "      <td>5</td>\n",
              "      <td>no</td>\n",
              "      <td>no</td>\n",
              "      <td>no</td>\n",
              "      <td>yes</td>\n",
              "      <td>no</td>\n",
              "      <td>no</td>\n",
              "      <td>no</td>\n",
              "      <td>...</td>\n",
              "      <td>False</td>\n",
              "      <td>False</td>\n",
              "      <td>False</td>\n",
              "      <td>False</td>\n",
              "      <td>False</td>\n",
              "      <td>False</td>\n",
              "      <td>False</td>\n",
              "      <td>False</td>\n",
              "      <td>False</td>\n",
              "      <td>False</td>\n",
              "      <td>False</td>\n",
              "      <td>False</td>\n",
              "      <td>False</td>\n",
              "      <td>False</td>\n",
              "      <td>False</td>\n",
              "      <td>False</td>\n",
              "      <td>False</td>\n",
              "      <td>False</td>\n",
              "      <td>False</td>\n",
              "      <td>False</td>\n",
              "      <td>False</td>\n",
              "      <td>False</td>\n",
              "      <td>False</td>\n",
              "      <td>False</td>\n",
              "      <td>False</td>\n",
              "      <td>False</td>\n",
              "      <td>False</td>\n",
              "      <td>False</td>\n",
              "      <td>False</td>\n",
              "      <td>False</td>\n",
              "      <td>False</td>\n",
              "      <td>False</td>\n",
              "      <td>False</td>\n",
              "      <td>False</td>\n",
              "      <td>False</td>\n",
              "      <td>False</td>\n",
              "      <td>False</td>\n",
              "      <td>False</td>\n",
              "      <td>0</td>\n",
              "      <td>obruchevskoe</td>\n",
              "    </tr>\n",
              "    <tr>\n",
              "      <th>30470</th>\n",
              "      <td>30473</td>\n",
              "      <td>2015-06-30</td>\n",
              "      <td>43</td>\n",
              "      <td>28.0</td>\n",
              "      <td>1.0</td>\n",
              "      <td>9.0</td>\n",
              "      <td>1.0</td>\n",
              "      <td>1968.0</td>\n",
              "      <td>2.0</td>\n",
              "      <td>6.0</td>\n",
              "      <td>2.0</td>\n",
              "      <td>Investment</td>\n",
              "      <td>Novogireevo</td>\n",
              "      <td>4.395333e+06</td>\n",
              "      <td>94561</td>\n",
              "      <td>0.063755</td>\n",
              "      <td>0.038693</td>\n",
              "      <td>6120</td>\n",
              "      <td>2215.0</td>\n",
              "      <td>4</td>\n",
              "      <td>6533</td>\n",
              "      <td>5824.0</td>\n",
              "      <td>4</td>\n",
              "      <td>0</td>\n",
              "      <td>1015.0</td>\n",
              "      <td>2</td>\n",
              "      <td>0</td>\n",
              "      <td>7</td>\n",
              "      <td>1</td>\n",
              "      <td>no</td>\n",
              "      <td>0</td>\n",
              "      <td>5</td>\n",
              "      <td>1</td>\n",
              "      <td>no</td>\n",
              "      <td>no</td>\n",
              "      <td>no</td>\n",
              "      <td>yes</td>\n",
              "      <td>no</td>\n",
              "      <td>no</td>\n",
              "      <td>no</td>\n",
              "      <td>...</td>\n",
              "      <td>False</td>\n",
              "      <td>False</td>\n",
              "      <td>False</td>\n",
              "      <td>False</td>\n",
              "      <td>False</td>\n",
              "      <td>False</td>\n",
              "      <td>False</td>\n",
              "      <td>False</td>\n",
              "      <td>False</td>\n",
              "      <td>False</td>\n",
              "      <td>False</td>\n",
              "      <td>False</td>\n",
              "      <td>False</td>\n",
              "      <td>False</td>\n",
              "      <td>False</td>\n",
              "      <td>False</td>\n",
              "      <td>False</td>\n",
              "      <td>False</td>\n",
              "      <td>False</td>\n",
              "      <td>False</td>\n",
              "      <td>False</td>\n",
              "      <td>False</td>\n",
              "      <td>False</td>\n",
              "      <td>False</td>\n",
              "      <td>False</td>\n",
              "      <td>False</td>\n",
              "      <td>False</td>\n",
              "      <td>False</td>\n",
              "      <td>False</td>\n",
              "      <td>False</td>\n",
              "      <td>False</td>\n",
              "      <td>False</td>\n",
              "      <td>False</td>\n",
              "      <td>False</td>\n",
              "      <td>False</td>\n",
              "      <td>False</td>\n",
              "      <td>False</td>\n",
              "      <td>False</td>\n",
              "      <td>0</td>\n",
              "      <td>novogireevo</td>\n",
              "    </tr>\n",
              "  </tbody>\n",
              "</table>\n",
              "<p>30471 rows × 345 columns</p>\n",
              "</div>"
            ],
            "text/plain": [
              "          id   timestamp  ...  num_missing        sub_area_lower\n",
              "0          1  2011-08-20  ...            9              bibirevo\n",
              "1          2  2011-08-23  ...            6     nagatinskij zaton\n",
              "2          3  2011-08-27  ...            6        tekstil'shhiki\n",
              "3          4  2011-09-01  ...            7                mitino\n",
              "4          5  2011-09-05  ...            6             basmannoe\n",
              "...      ...         ...  ...          ...                   ...\n",
              "30466  30469  2015-06-30  ...            1              otradnoe\n",
              "30467  30470  2015-06-30  ...            0              tverskoe\n",
              "30468  30471  2015-06-30  ...           21  poselenie vnukovskoe\n",
              "30469  30472  2015-06-30  ...            0          obruchevskoe\n",
              "30470  30473  2015-06-30  ...            0           novogireevo\n",
              "\n",
              "[30471 rows x 345 columns]"
            ]
          },
          "metadata": {
            "tags": []
          },
          "execution_count": 31
        }
      ]
    },
    {
      "cell_type": "markdown",
      "metadata": {
        "id": "K7VDJenDSFEf",
        "colab_type": "text"
      },
      "source": [
        "**What to do?**\n",
        "\n",
        "We can convert it and extract the date or time values by using the code below. After this, it’s easier to analyze the transaction volume group by either year or month."
      ]
    },
    {
      "cell_type": "code",
      "metadata": {
        "id": "G4Wt2umnSAOu",
        "colab_type": "code",
        "outputId": "eef79f3a-c004-499f-8db4-34717744ff58",
        "colab": {
          "base_uri": "https://localhost:8080/",
          "height": 357
        }
      },
      "source": [
        "df['timestamp_dt'] = pd.to_datetime(df['timestamp'], format='%Y-%m-%d')\n",
        "df['year'] = df['timestamp_dt'].dt.year\n",
        "df['month'] = df['timestamp_dt'].dt.month\n",
        "df['weekday'] = df['timestamp_dt'].dt.weekday\n",
        "\n",
        "print(df['year'].value_counts(dropna=False))\n",
        "print()\n",
        "print(df['month'].value_counts(dropna=False))"
      ],
      "execution_count": 0,
      "outputs": [
        {
          "output_type": "stream",
          "text": [
            "2014    13662\n",
            "2013     7978\n",
            "2012     4839\n",
            "2015     3239\n",
            "2011      753\n",
            "Name: year, dtype: int64\n",
            "\n",
            "12    3400\n",
            "4     3191\n",
            "3     2972\n",
            "11    2970\n",
            "10    2736\n",
            "6     2570\n",
            "5     2496\n",
            "9     2346\n",
            "2     2275\n",
            "7     1875\n",
            "8     1831\n",
            "1     1809\n",
            "Name: month, dtype: int64\n"
          ],
          "name": "stdout"
        }
      ]
    },
    {
      "cell_type": "markdown",
      "metadata": {
        "id": "310f8eeFSX7l",
        "colab_type": "text"
      },
      "source": [
        "###Inconsistent type #3: Categorical Values\n",
        "\n",
        "Inconsistent categorical values are the last inconsistent type we cover. A categorical feature has a limited number of values. Sometimes there may be other values due to reasons such as typos.\n",
        "\n",
        "**How to find out?**\n",
        "\n",
        "We need to observe the feature to find out this inconsistency. Let’s show this with an example.\n",
        "We create a new dataset below since we don’t have such a problem in the real estate dataset. For instance, the value of city was typed by mistakes as “torontoo” and “tronto”. But they both refer to the correct value “toronto”.\n",
        "\n",
        "A simple way to identify them is fuzzy logic (or edit distance). It measures how many letters (distance) we need to change the spelling of one value to match with another value.\n",
        "\n",
        "We know that the categories should only have four values of “toronto”, “vancouver”, “montreal”, and “calgary”. We calculate the distance between all the values and the word “toronto” (and “vancouver”). We can see that the ones likely to be typos have a smaller distance with the correct word. Since they only differ by a couple of letters."
      ]
    },
    {
      "cell_type": "code",
      "metadata": {
        "id": "Ke-27TtSSJJE",
        "colab_type": "code",
        "outputId": "c666446c-970c-4ce0-9d03-00209b9d3a92",
        "colab": {
          "base_uri": "https://localhost:8080/",
          "height": 297
        }
      },
      "source": [
        "from nltk.metrics import edit_distance\n",
        "\n",
        "df_city_ex = pd.DataFrame(data={'city': ['torontoo', 'toronto', 'tronto', 'vancouver', 'vancover', 'vancouvr', 'montreal', 'calgary']})\n",
        "\n",
        "\n",
        "df_city_ex['city_distance_toronto'] = df_city_ex['city'].map(lambda x: edit_distance(x, 'toronto'))\n",
        "df_city_ex['city_distance_vancouver'] = df_city_ex['city'].map(lambda x: edit_distance(x, 'vancouver'))\n",
        "df_city_ex"
      ],
      "execution_count": 0,
      "outputs": [
        {
          "output_type": "execute_result",
          "data": {
            "text/html": [
              "<div>\n",
              "<style scoped>\n",
              "    .dataframe tbody tr th:only-of-type {\n",
              "        vertical-align: middle;\n",
              "    }\n",
              "\n",
              "    .dataframe tbody tr th {\n",
              "        vertical-align: top;\n",
              "    }\n",
              "\n",
              "    .dataframe thead th {\n",
              "        text-align: right;\n",
              "    }\n",
              "</style>\n",
              "<table border=\"1\" class=\"dataframe\">\n",
              "  <thead>\n",
              "    <tr style=\"text-align: right;\">\n",
              "      <th></th>\n",
              "      <th>city</th>\n",
              "      <th>city_distance_toronto</th>\n",
              "      <th>city_distance_vancouver</th>\n",
              "    </tr>\n",
              "  </thead>\n",
              "  <tbody>\n",
              "    <tr>\n",
              "      <th>0</th>\n",
              "      <td>torontoo</td>\n",
              "      <td>1</td>\n",
              "      <td>8</td>\n",
              "    </tr>\n",
              "    <tr>\n",
              "      <th>1</th>\n",
              "      <td>toronto</td>\n",
              "      <td>0</td>\n",
              "      <td>8</td>\n",
              "    </tr>\n",
              "    <tr>\n",
              "      <th>2</th>\n",
              "      <td>tronto</td>\n",
              "      <td>1</td>\n",
              "      <td>8</td>\n",
              "    </tr>\n",
              "    <tr>\n",
              "      <th>3</th>\n",
              "      <td>vancouver</td>\n",
              "      <td>8</td>\n",
              "      <td>0</td>\n",
              "    </tr>\n",
              "    <tr>\n",
              "      <th>4</th>\n",
              "      <td>vancover</td>\n",
              "      <td>7</td>\n",
              "      <td>1</td>\n",
              "    </tr>\n",
              "    <tr>\n",
              "      <th>5</th>\n",
              "      <td>vancouvr</td>\n",
              "      <td>7</td>\n",
              "      <td>1</td>\n",
              "    </tr>\n",
              "    <tr>\n",
              "      <th>6</th>\n",
              "      <td>montreal</td>\n",
              "      <td>7</td>\n",
              "      <td>8</td>\n",
              "    </tr>\n",
              "    <tr>\n",
              "      <th>7</th>\n",
              "      <td>calgary</td>\n",
              "      <td>7</td>\n",
              "      <td>8</td>\n",
              "    </tr>\n",
              "  </tbody>\n",
              "</table>\n",
              "</div>"
            ],
            "text/plain": [
              "        city  city_distance_toronto  city_distance_vancouver\n",
              "0   torontoo                      1                        8\n",
              "1    toronto                      0                        8\n",
              "2     tronto                      1                        8\n",
              "3  vancouver                      8                        0\n",
              "4   vancover                      7                        1\n",
              "5   vancouvr                      7                        1\n",
              "6   montreal                      7                        8\n",
              "7    calgary                      7                        8"
            ]
          },
          "metadata": {
            "tags": []
          },
          "execution_count": 33
        }
      ]
    },
    {
      "cell_type": "markdown",
      "metadata": {
        "id": "ShVa1wUASpFI",
        "colab_type": "text"
      },
      "source": [
        "**What to do?**\n",
        "\n",
        "We can set criteria to convert these typos to the correct values. For example, the below code sets all the values within 2 letters distance from “toronto” to be “toronto”."
      ]
    },
    {
      "cell_type": "code",
      "metadata": {
        "id": "0IL7rYtcSlyx",
        "colab_type": "code",
        "outputId": "d22e6b05-fab7-4677-8ef0-1bddd23343d9",
        "colab": {
          "base_uri": "https://localhost:8080/",
          "height": 297
        }
      },
      "source": [
        "msk = df_city_ex['city_distance_toronto'] <= 2\n",
        "df_city_ex.loc[msk, 'city'] = 'toronto'\n",
        "\n",
        "msk = df_city_ex['city_distance_vancouver'] <= 2\n",
        "df_city_ex.loc[msk, 'city'] = 'vancouver'\n",
        "\n",
        "df_city_ex"
      ],
      "execution_count": 0,
      "outputs": [
        {
          "output_type": "execute_result",
          "data": {
            "text/html": [
              "<div>\n",
              "<style scoped>\n",
              "    .dataframe tbody tr th:only-of-type {\n",
              "        vertical-align: middle;\n",
              "    }\n",
              "\n",
              "    .dataframe tbody tr th {\n",
              "        vertical-align: top;\n",
              "    }\n",
              "\n",
              "    .dataframe thead th {\n",
              "        text-align: right;\n",
              "    }\n",
              "</style>\n",
              "<table border=\"1\" class=\"dataframe\">\n",
              "  <thead>\n",
              "    <tr style=\"text-align: right;\">\n",
              "      <th></th>\n",
              "      <th>city</th>\n",
              "      <th>city_distance_toronto</th>\n",
              "      <th>city_distance_vancouver</th>\n",
              "    </tr>\n",
              "  </thead>\n",
              "  <tbody>\n",
              "    <tr>\n",
              "      <th>0</th>\n",
              "      <td>toronto</td>\n",
              "      <td>1</td>\n",
              "      <td>8</td>\n",
              "    </tr>\n",
              "    <tr>\n",
              "      <th>1</th>\n",
              "      <td>toronto</td>\n",
              "      <td>0</td>\n",
              "      <td>8</td>\n",
              "    </tr>\n",
              "    <tr>\n",
              "      <th>2</th>\n",
              "      <td>toronto</td>\n",
              "      <td>1</td>\n",
              "      <td>8</td>\n",
              "    </tr>\n",
              "    <tr>\n",
              "      <th>3</th>\n",
              "      <td>vancouver</td>\n",
              "      <td>8</td>\n",
              "      <td>0</td>\n",
              "    </tr>\n",
              "    <tr>\n",
              "      <th>4</th>\n",
              "      <td>vancouver</td>\n",
              "      <td>7</td>\n",
              "      <td>1</td>\n",
              "    </tr>\n",
              "    <tr>\n",
              "      <th>5</th>\n",
              "      <td>vancouver</td>\n",
              "      <td>7</td>\n",
              "      <td>1</td>\n",
              "    </tr>\n",
              "    <tr>\n",
              "      <th>6</th>\n",
              "      <td>montreal</td>\n",
              "      <td>7</td>\n",
              "      <td>8</td>\n",
              "    </tr>\n",
              "    <tr>\n",
              "      <th>7</th>\n",
              "      <td>calgary</td>\n",
              "      <td>7</td>\n",
              "      <td>8</td>\n",
              "    </tr>\n",
              "  </tbody>\n",
              "</table>\n",
              "</div>"
            ],
            "text/plain": [
              "        city  city_distance_toronto  city_distance_vancouver\n",
              "0    toronto                      1                        8\n",
              "1    toronto                      0                        8\n",
              "2    toronto                      1                        8\n",
              "3  vancouver                      8                        0\n",
              "4  vancouver                      7                        1\n",
              "5  vancouver                      7                        1\n",
              "6   montreal                      7                        8\n",
              "7    calgary                      7                        8"
            ]
          },
          "metadata": {
            "tags": []
          },
          "execution_count": 34
        }
      ]
    },
    {
      "cell_type": "code",
      "metadata": {
        "id": "jeLA_zbSSuBy",
        "colab_type": "code",
        "colab": {}
      },
      "source": [
        ""
      ],
      "execution_count": 0,
      "outputs": []
    },
    {
      "cell_type": "markdown",
      "metadata": {
        "id": "gZBrUMUkSyR6",
        "colab_type": "text"
      },
      "source": [
        "###Inconsistent type #4: Addresses\n",
        "The address feature could be a headache for many of us. Because people entering the data into the database often don’t follow a standard format.\n",
        "\n",
        "**How to find out?**\n",
        "\n",
        "We can find messy address data by looking at it. Even though sometimes we can’t spot any issues, we can still run code to standardize them.\n",
        "\n",
        "There is no address column in our dataset for privacy reasons. So we create a new dataset df_add_ex with feature address.\n"
      ]
    },
    {
      "cell_type": "code",
      "metadata": {
        "id": "8DDtcTqiS7gT",
        "colab_type": "code",
        "outputId": "85bfcc4b-7063-45e3-a165-29f3a450a97e",
        "colab": {
          "base_uri": "https://localhost:8080/",
          "height": 173
        }
      },
      "source": [
        "# no address column in the housing dataset. So create one to show the code.\n",
        "df_add_ex = pd.DataFrame(['123 MAIN St Apartment 15', '123 Main Street Apt 12   ', '543 FirSt Av', '  876 FIRst Ave.'], columns=['address'])\n",
        "df_add_ex"
      ],
      "execution_count": 0,
      "outputs": [
        {
          "output_type": "execute_result",
          "data": {
            "text/html": [
              "<div>\n",
              "<style scoped>\n",
              "    .dataframe tbody tr th:only-of-type {\n",
              "        vertical-align: middle;\n",
              "    }\n",
              "\n",
              "    .dataframe tbody tr th {\n",
              "        vertical-align: top;\n",
              "    }\n",
              "\n",
              "    .dataframe thead th {\n",
              "        text-align: right;\n",
              "    }\n",
              "</style>\n",
              "<table border=\"1\" class=\"dataframe\">\n",
              "  <thead>\n",
              "    <tr style=\"text-align: right;\">\n",
              "      <th></th>\n",
              "      <th>address</th>\n",
              "    </tr>\n",
              "  </thead>\n",
              "  <tbody>\n",
              "    <tr>\n",
              "      <th>0</th>\n",
              "      <td>123 MAIN St Apartment 15</td>\n",
              "    </tr>\n",
              "    <tr>\n",
              "      <th>1</th>\n",
              "      <td>123 Main Street Apt 12</td>\n",
              "    </tr>\n",
              "    <tr>\n",
              "      <th>2</th>\n",
              "      <td>543 FirSt Av</td>\n",
              "    </tr>\n",
              "    <tr>\n",
              "      <th>3</th>\n",
              "      <td>876 FIRst Ave.</td>\n",
              "    </tr>\n",
              "  </tbody>\n",
              "</table>\n",
              "</div>"
            ],
            "text/plain": [
              "                     address\n",
              "0   123 MAIN St Apartment 15\n",
              "1  123 Main Street Apt 12   \n",
              "2               543 FirSt Av\n",
              "3             876 FIRst Ave."
            ]
          },
          "metadata": {
            "tags": []
          },
          "execution_count": 35
        }
      ]
    },
    {
      "cell_type": "markdown",
      "metadata": {
        "id": "WjFtej7DS_F4",
        "colab_type": "text"
      },
      "source": [
        "Address is usually very messy\n",
        "\n",
        "**What to do?**\n",
        "\n",
        "We run the below code to lowercase the letters, remove white space, delete periods and standardize wordings.\n"
      ]
    },
    {
      "cell_type": "code",
      "metadata": {
        "id": "16zN535kS7-I",
        "colab_type": "code",
        "outputId": "df4b28ce-0e3b-43aa-ab3d-b9c16df56839",
        "colab": {
          "base_uri": "https://localhost:8080/",
          "height": 173
        }
      },
      "source": [
        "df_add_ex['address_std'] = df_add_ex['address'].str.lower()\n",
        "df_add_ex['address_std'] = df_add_ex['address_std'].str.strip() # remove leading and trailing whitespace.\n",
        "df_add_ex['address_std'] = df_add_ex['address_std'].str.replace('\\\\.', '') # remove period.\n",
        "df_add_ex['address_std'] = df_add_ex['address_std'].str.replace('\\\\bstreet\\\\b', 'st') # replace street with st.\n",
        "df_add_ex['address_std'] = df_add_ex['address_std'].str.replace('\\\\bapartment\\\\b', 'apt') # replace apartment with apt.\n",
        "df_add_ex['address_std'] = df_add_ex['address_std'].str.replace('\\\\bav\\\\b', 'ave') # replace apartment with apt.\n",
        "\n",
        "df_add_ex"
      ],
      "execution_count": 0,
      "outputs": [
        {
          "output_type": "execute_result",
          "data": {
            "text/html": [
              "<div>\n",
              "<style scoped>\n",
              "    .dataframe tbody tr th:only-of-type {\n",
              "        vertical-align: middle;\n",
              "    }\n",
              "\n",
              "    .dataframe tbody tr th {\n",
              "        vertical-align: top;\n",
              "    }\n",
              "\n",
              "    .dataframe thead th {\n",
              "        text-align: right;\n",
              "    }\n",
              "</style>\n",
              "<table border=\"1\" class=\"dataframe\">\n",
              "  <thead>\n",
              "    <tr style=\"text-align: right;\">\n",
              "      <th></th>\n",
              "      <th>address</th>\n",
              "      <th>address_std</th>\n",
              "    </tr>\n",
              "  </thead>\n",
              "  <tbody>\n",
              "    <tr>\n",
              "      <th>0</th>\n",
              "      <td>123 MAIN St Apartment 15</td>\n",
              "      <td>123 main st apt 15</td>\n",
              "    </tr>\n",
              "    <tr>\n",
              "      <th>1</th>\n",
              "      <td>123 Main Street Apt 12</td>\n",
              "      <td>123 main st apt 12</td>\n",
              "    </tr>\n",
              "    <tr>\n",
              "      <th>2</th>\n",
              "      <td>543 FirSt Av</td>\n",
              "      <td>543 first ave</td>\n",
              "    </tr>\n",
              "    <tr>\n",
              "      <th>3</th>\n",
              "      <td>876 FIRst Ave.</td>\n",
              "      <td>876 first ave</td>\n",
              "    </tr>\n",
              "  </tbody>\n",
              "</table>\n",
              "</div>"
            ],
            "text/plain": [
              "                     address         address_std\n",
              "0   123 MAIN St Apartment 15  123 main st apt 15\n",
              "1  123 Main Street Apt 12     123 main st apt 12\n",
              "2               543 FirSt Av       543 first ave\n",
              "3             876 FIRst Ave.       876 first ave"
            ]
          },
          "metadata": {
            "tags": []
          },
          "execution_count": 36
        }
      ]
    },
    {
      "cell_type": "markdown",
      "metadata": {
        "id": "0ZM0_6nhTQN8",
        "colab_type": "text"
      },
      "source": [
        "It looks much better now \n",
        "\n",
        "\n",
        "---\n",
        "\n"
      ]
    }
  ]
}