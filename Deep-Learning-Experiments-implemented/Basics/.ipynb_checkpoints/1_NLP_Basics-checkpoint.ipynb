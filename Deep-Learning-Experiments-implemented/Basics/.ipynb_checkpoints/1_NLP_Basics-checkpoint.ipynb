{
  "nbformat": 4,
  "nbformat_minor": 0,
  "metadata": {
    "colab": {
      "name": "1. NLP Basics.ipynb",
      "version": "0.3.2",
      "provenance": [],
      "include_colab_link": true
    },
    "kernelspec": {
      "name": "python3",
      "display_name": "Python 3"
    },
    "accelerator": "GPU"
  },
  "cells": [
    {
      "cell_type": "markdown",
      "metadata": {
        "id": "view-in-github",
        "colab_type": "text"
      },
      "source": [
        "<a href=\"https://colab.research.google.com/github/navneetkrc/Colab_fastai/blob/master/1_NLP_Basics.ipynb\" target=\"_parent\"><img src=\"https://colab.research.google.com/assets/colab-badge.svg\" alt=\"Open In Colab\"/></a>"
      ]
    },
    {
      "metadata": {
        "id": "NnfZaO83NB50",
        "colab_type": "text"
      },
      "cell_type": "markdown",
      "source": [
        "#1. NLP Base Types and tasks"
      ]
    },
    {
      "metadata": {
        "id": "CQpqE1VyNHlt",
        "colab_type": "text"
      },
      "cell_type": "markdown",
      "source": [
        "## Install Dependencies"
      ]
    },
    {
      "metadata": {
        "id": "rVbCDs6wMdk-",
        "colab_type": "code",
        "colab": {}
      },
      "cell_type": "code",
      "source": [
        "!pip install torch_nightly -f https://download.pytorch.org/whl/nightly/cu92/torch_nightly.html\n",
        "!pip install flair"
      ],
      "execution_count": 0,
      "outputs": []
    },
    {
      "metadata": {
        "id": "1Nj7O9_2sumr",
        "colab_type": "code",
        "colab": {}
      },
      "cell_type": "code",
      "source": [
        "from flair.data import Sentence\n",
        "from flair.models import SequenceTagger"
      ],
      "execution_count": 0,
      "outputs": []
    },
    {
      "metadata": {
        "id": "PT__1hBNNlzt",
        "colab_type": "text"
      },
      "cell_type": "markdown",
      "source": [
        "##Check for some basics tasks"
      ]
    },
    {
      "metadata": {
        "id": "tRNSgtNbNTPe",
        "colab_type": "code",
        "colab": {
          "base_uri": "https://localhost:8080/",
          "height": 34
        },
        "outputId": "34fa2e21-c030-4839-c97e-a092d583368d"
      },
      "cell_type": "code",
      "source": [
        "# make a sentence\n",
        "sentence = Sentence('I love Amsterdam .')\n",
        "\n",
        "# load the NER tagger\n",
        "tagger = SequenceTagger.load('ner')\n",
        "\n",
        "# run NER over sentence\n",
        "tagger.predict(sentence)"
      ],
      "execution_count": 14,
      "outputs": [
        {
          "output_type": "execute_result",
          "data": {
            "text/plain": [
              "[Sentence: \"I love Amsterdam .\" - 4 Tokens]"
            ]
          },
          "metadata": {
            "tags": []
          },
          "execution_count": 14
        }
      ]
    },
    {
      "metadata": {
        "id": "RCosXqIXNkFk",
        "colab_type": "text"
      },
      "cell_type": "markdown",
      "source": [
        "Done! The Sentence now has entity annotations. Print the sentence to see what the tagger found.\n",
        "\n"
      ]
    },
    {
      "metadata": {
        "id": "2yq-9aAqNs6Z",
        "colab_type": "code",
        "colab": {
          "base_uri": "https://localhost:8080/",
          "height": 68
        },
        "outputId": "2b60a62f-e531-46a3-8b49-bb399731e385"
      },
      "cell_type": "code",
      "source": [
        "print(sentence)\n",
        "print('The following NER tags are found:')\n",
        "\n",
        "# iterate over entities and print\n",
        "for entity in sentence.get_spans('ner'):\n",
        "    print(entity)"
      ],
      "execution_count": 15,
      "outputs": [
        {
          "output_type": "stream",
          "text": [
            "Sentence: \"I love Amsterdam .\" - 4 Tokens\n",
            "The following NER tags are found:\n",
            "LOC-span [3]: \"Amsterdam\"\n"
          ],
          "name": "stdout"
        }
      ]
    },
    {
      "metadata": {
        "id": "CvaCgDSiN1OD",
        "colab_type": "text"
      },
      "cell_type": "markdown",
      "source": [
        "This should print:\n",
        "\n",
        "Sentence: \"I love Amsterdam .\" - 4 Tokens\n",
        "\n",
        "The following NER tags are found:\n",
        "\n",
        "LOC-span [3]: \"Amsterdam\""
      ]
    },
    {
      "metadata": {
        "id": "mBBfJAsstiqb",
        "colab_type": "text"
      },
      "cell_type": "markdown",
      "source": [
        "\n",
        "\n",
        "---\n",
        "\n"
      ]
    },
    {
      "metadata": {
        "id": "UCI0qLKStlNi",
        "colab_type": "text"
      },
      "cell_type": "markdown",
      "source": [
        "##Basic1- Creating a Sentence"
      ]
    },
    {
      "metadata": {
        "id": "X4GnV6DRNx4F",
        "colab_type": "code",
        "colab": {
          "base_uri": "https://localhost:8080/",
          "height": 34
        },
        "outputId": "b8fd88a5-3ffd-4489-d20a-638a95fd4901"
      },
      "cell_type": "code",
      "source": [
        "# The sentence objects holds a sentence that we may want to embed or tag\n",
        "from flair.data import Sentence\n",
        "\n",
        "# Make a sentence object by passing a whitespace tokenized string\n",
        "sentence = Sentence('The grass is green .')\n",
        "\n",
        "# Print the object to see what's in there\n",
        "print(sentence)\n",
        "\n",
        "#expected output-> Sentence: \"The grass is green .\" - 5 Tokens"
      ],
      "execution_count": 16,
      "outputs": [
        {
          "output_type": "stream",
          "text": [
            "Sentence: \"The grass is green .\" - 5 Tokens\n"
          ],
          "name": "stdout"
        }
      ]
    },
    {
      "metadata": {
        "id": "eJ4Nm174txiC",
        "colab_type": "code",
        "colab": {
          "base_uri": "https://localhost:8080/",
          "height": 51
        },
        "outputId": "1a2d7f9e-8759-452b-ab02-ef94f968e81f"
      },
      "cell_type": "code",
      "source": [
        "##The print-out tells us that the sentence consists of 5 tokens. You can access the tokens of a sentence via their token id or with their index:\n",
        "\n",
        "# using the token id\n",
        "print(sentence.get_token(4))\n",
        "\n",
        "# using the index itself\n",
        "print(sentence[3])"
      ],
      "execution_count": 17,
      "outputs": [
        {
          "output_type": "stream",
          "text": [
            "Token: 4 green\n",
            "Token: 4 green\n"
          ],
          "name": "stdout"
        }
      ]
    },
    {
      "metadata": {
        "id": "RM4q50pxul97",
        "colab_type": "text"
      },
      "cell_type": "markdown",
      "source": [
        "For both the cases it prints:\n",
        "\n",
        "Token: 4 green\n",
        "\n",
        "Token: 4 green"
      ]
    },
    {
      "metadata": {
        "id": "kjOzaUrTuh3B",
        "colab_type": "code",
        "colab": {
          "base_uri": "https://localhost:8080/",
          "height": 102
        },
        "outputId": "f2454104-f7b2-4d91-c4f7-cadd8cc679e6"
      },
      "cell_type": "code",
      "source": [
        "for token in sentence:\n",
        "    print(token)"
      ],
      "execution_count": 7,
      "outputs": [
        {
          "output_type": "stream",
          "text": [
            "Token: 1 The\n",
            "Token: 2 grass\n",
            "Token: 3 is\n",
            "Token: 4 green\n",
            "Token: 5 .\n"
          ],
          "name": "stdout"
        }
      ]
    },
    {
      "metadata": {
        "id": "v2eaZhhFu0_0",
        "colab_type": "text"
      },
      "cell_type": "markdown",
      "source": [
        "This should print:\n",
        "\n",
        "Token: 1 The\n",
        "\n",
        "Token: 2 grass\n",
        "\n",
        "Token: 3 is\n",
        "\n",
        "Token: 4 green\n",
        "\n",
        "Token: 5 ."
      ]
    },
    {
      "metadata": {
        "id": "oOG7eJmlvNBZ",
        "colab_type": "text"
      },
      "cell_type": "markdown",
      "source": [
        "##Tokenization"
      ]
    },
    {
      "metadata": {
        "id": "6mH4Oyw7vUkM",
        "colab_type": "text"
      },
      "cell_type": "markdown",
      "source": [
        "In some use cases, you might not have your text already tokenized. For this case, we added a simple tokenizer using the lightweight segtok library.\n",
        "\n",
        "Simply use the use_tokenizer flag when instantiating your Sentence with an untokenized string:\n",
        "\n"
      ]
    },
    {
      "metadata": {
        "id": "hM31xEUvvO2n",
        "colab_type": "code",
        "colab": {
          "base_uri": "https://localhost:8080/",
          "height": 34
        },
        "outputId": "1fed2066-8fc8-47ba-fed7-49217eb1dcdc"
      },
      "cell_type": "code",
      "source": [
        "from flair.data import Sentence\n",
        "\n",
        "# Make a sentence object by passing an untokenized string and the 'use_tokenizer' flag\n",
        "sentence = Sentence('The grass is green.', use_tokenizer=True)\n",
        "\n",
        "# Print the object to see what's in there\n",
        "print(sentence)"
      ],
      "execution_count": 8,
      "outputs": [
        {
          "output_type": "stream",
          "text": [
            "Sentence: \"The grass is green .\" - 5 Tokens\n"
          ],
          "name": "stdout"
        }
      ]
    },
    {
      "metadata": {
        "id": "quIeE-uYvcgd",
        "colab_type": "text"
      },
      "cell_type": "markdown",
      "source": [
        "This should print \n",
        "\n",
        "Sentence: \"The grass is green .\" - 5 Tokens"
      ]
    },
    {
      "metadata": {
        "id": "6QnosUJnvjMX",
        "colab_type": "text"
      },
      "cell_type": "markdown",
      "source": [
        "###Adding Tags to tokens"
      ]
    },
    {
      "metadata": {
        "id": "MV8czKK5vYw6",
        "colab_type": "code",
        "colab": {
          "base_uri": "https://localhost:8080/",
          "height": 34
        },
        "outputId": "806188b2-1155-43d4-9bd7-50f4a4d27343"
      },
      "cell_type": "code",
      "source": [
        "# add a tag to a word in the sentence\n",
        "sentence[3].add_tag('ner', 'color')\n",
        "\n",
        "# print the sentence with all tags of this type\n",
        "print(sentence.to_tagged_string())"
      ],
      "execution_count": 9,
      "outputs": [
        {
          "output_type": "stream",
          "text": [
            "The grass is green <color> .\n"
          ],
          "name": "stdout"
        }
      ]
    },
    {
      "metadata": {
        "id": "0ox4yCx5vrUH",
        "colab_type": "text"
      },
      "cell_type": "markdown",
      "source": [
        "this should print:\n",
        "\n",
        "The grass is green <color> ."
      ]
    },
    {
      "metadata": {
        "id": "yaoM1bgiv6BI",
        "colab_type": "text"
      },
      "cell_type": "markdown",
      "source": [
        "Each tag is of class Label which next to the value has a score indicating confidence. Print like this:\n",
        "\n"
      ]
    },
    {
      "metadata": {
        "id": "HgxsseWUvpwf",
        "colab_type": "code",
        "colab": {
          "base_uri": "https://localhost:8080/",
          "height": 34
        },
        "outputId": "1afb3e6a-76ea-4460-e54a-d1f95783799a"
      },
      "cell_type": "code",
      "source": [
        "from flair.data import Label\n",
        "\n",
        "tag: Label = sentence[3].get_tag('ner')\n",
        "\n",
        "print(f'\"{sentence[3]}\" is tagged as \"{tag.value}\" with confidence score \"{tag.score}\"')"
      ],
      "execution_count": 10,
      "outputs": [
        {
          "output_type": "stream",
          "text": [
            "\"Token: 4 green\" is tagged as \"color\" with confidence score \"1.0\"\n"
          ],
          "name": "stdout"
        }
      ]
    },
    {
      "metadata": {
        "id": "1aUW3t8pwEQj",
        "colab_type": "text"
      },
      "cell_type": "markdown",
      "source": [
        "This should print:\n",
        "\n",
        "\"Token: 4 green\" is tagged as \"color\" with confidence score \"1.0\"\n",
        "\n",
        "Also our color tag has a score of 1.0 since we manually added it. If a tag is predicted by our sequence labeler, the score value will indicate classifier confidence.\n",
        "\n"
      ]
    },
    {
      "metadata": {
        "id": "bN-AcmmhwQny",
        "colab_type": "text"
      },
      "cell_type": "markdown",
      "source": [
        "###Adding Labels to Sentences"
      ]
    },
    {
      "metadata": {
        "id": "wdor7-v0wXGK",
        "colab_type": "text"
      },
      "cell_type": "markdown",
      "source": [
        "A Sentence can have one or multiple labels that can for example be used in text classification tasks. For instance, the example below shows how we add the label 'sports' to a sentence, thereby labeling it as belonging to the sports category."
      ]
    },
    {
      "metadata": {
        "id": "X7ic6mu3v-rS",
        "colab_type": "code",
        "colab": {}
      },
      "cell_type": "code",
      "source": [
        "sentence = Sentence('France is the current world cup winner.')\n",
        "\n",
        "# add a label to a sentence\n",
        "sentence.add_label('sports')\n",
        "\n",
        "# a sentence can also belong to multiple classes\n",
        "sentence.add_labels(['sports', 'world cup'])\n",
        "\n",
        "# you can also set the labels while initializing the sentence\n",
        "sentence = Sentence('France is the current world cup winner.', labels=['sports', 'world cup'])\n"
      ],
      "execution_count": 0,
      "outputs": []
    },
    {
      "metadata": {
        "id": "_msAzDtRwfJp",
        "colab_type": "text"
      },
      "cell_type": "markdown",
      "source": [
        "Labels are also of the Label class. So, you can print a sentence's labels like this:\n",
        "\n"
      ]
    },
    {
      "metadata": {
        "id": "JR7ECzktwgRL",
        "colab_type": "code",
        "colab": {
          "base_uri": "https://localhost:8080/",
          "height": 68
        },
        "outputId": "7644e38b-060e-47e2-e442-e054257a0a52"
      },
      "cell_type": "code",
      "source": [
        "sentence = Sentence('France is the current world cup winner.', labels=['sports', 'world cup'])\n",
        "\n",
        "print(sentence)\n",
        "for label in sentence.labels:\n",
        "    print(label)"
      ],
      "execution_count": 12,
      "outputs": [
        {
          "output_type": "stream",
          "text": [
            "Sentence: \"France is the current world cup winner.\" - 7 Tokens\n",
            "sports (1.0)\n",
            "world cup (1.0)\n"
          ],
          "name": "stdout"
        }
      ]
    },
    {
      "metadata": {
        "id": "N-nYr7Rrwpga",
        "colab_type": "text"
      },
      "cell_type": "markdown",
      "source": [
        "This should print:\n",
        "\n",
        "sports (1.0)\n",
        "\n",
        "world cup (1.0)\n",
        "\n",
        "**This indicates that the sentence belongs to these two classes, each with confidence score 1.0.**\n",
        "\n"
      ]
    },
    {
      "metadata": {
        "id": "i0pWs5aoyAyb",
        "colab_type": "text"
      },
      "cell_type": "markdown",
      "source": [
        "\n",
        "\n",
        "---\n",
        "\n",
        "**In next column we will check about the use of pre-trained model for tagging our text in the next segment.**"
      ]
    },
    {
      "metadata": {
        "id": "W15ZynHSyKlq",
        "colab_type": "text"
      },
      "cell_type": "markdown",
      "source": [
        "#2. Use of Pretrained model to tag your text"
      ]
    },
    {
      "metadata": {
        "id": "rsX-n4ucybqR",
        "colab_type": "text"
      },
      "cell_type": "markdown",
      "source": [
        "#3. Use of word Embeddings"
      ]
    },
    {
      "metadata": {
        "id": "0aikssTCyc2c",
        "colab_type": "text"
      },
      "cell_type": "markdown",
      "source": [
        "#4. Using Bert, Elmo and Flair Embeddings"
      ]
    },
    {
      "metadata": {
        "id": "zoxEHlxRyd3W",
        "colab_type": "text"
      },
      "cell_type": "markdown",
      "source": [
        "#5. Using Document Embeddings"
      ]
    },
    {
      "metadata": {
        "id": "7f9A2uygyd_g",
        "colab_type": "text"
      },
      "cell_type": "markdown",
      "source": [
        "#6. Loading your own Corpus"
      ]
    },
    {
      "metadata": {
        "id": "4mtiOsqyyd9l",
        "colab_type": "text"
      },
      "cell_type": "markdown",
      "source": [
        "#7. Training your own Model"
      ]
    },
    {
      "metadata": {
        "id": "RGCyj7DRyd7W",
        "colab_type": "text"
      },
      "cell_type": "markdown",
      "source": [
        "#8. Optimizing our models"
      ]
    },
    {
      "metadata": {
        "id": "Rj2fT7amzRQV",
        "colab_type": "text"
      },
      "cell_type": "markdown",
      "source": [
        "#9. Training your own Flair Embeddings"
      ]
    },
    {
      "metadata": {
        "id": "gGp7lLdszZI4",
        "colab_type": "code",
        "colab": {}
      },
      "cell_type": "code",
      "source": [
        ""
      ],
      "execution_count": 0,
      "outputs": []
    },
    {
      "metadata": {
        "id": "A6yRoTpnzX1I",
        "colab_type": "text"
      },
      "cell_type": "markdown",
      "source": [
        "\n",
        "\n",
        "---\n",
        "\n"
      ]
    }
  ]
}